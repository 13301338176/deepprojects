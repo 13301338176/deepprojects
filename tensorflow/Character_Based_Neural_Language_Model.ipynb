{
  "nbformat": 4,
  "nbformat_minor": 0,
  "metadata": {
    "colab": {
      "name": "Character-Based Neural Language Model.ipynb",
      "provenance": [],
      "collapsed_sections": []
    },
    "kernelspec": {
      "name": "python3",
      "display_name": "Python 3"
    },
    "accelerator": "GPU"
  },
  "cells": [
    {
      "cell_type": "markdown",
      "metadata": {
        "id": "ULyqudUOOyPD",
        "colab_type": "text"
      },
      "source": [
        "# Character-Based Neural Language Model"
      ]
    },
    {
      "cell_type": "code",
      "metadata": {
        "id": "iRsqdi62Ok3M",
        "colab_type": "code",
        "outputId": "f9733192-48d4-46fb-8c37-30675bf403e1",
        "colab": {
          "base_uri": "https://localhost:8080/",
          "height": 34
        }
      },
      "source": [
        "try:\n",
        "  %tensorflow_version 2.x\n",
        "except Exception:\n",
        "  pass"
      ],
      "execution_count": 1,
      "outputs": [
        {
          "output_type": "stream",
          "text": [
            "TensorFlow 2.x selected.\n"
          ],
          "name": "stdout"
        }
      ]
    },
    {
      "cell_type": "code",
      "metadata": {
        "id": "cUGzF-EDcN4l",
        "colab_type": "code",
        "colab": {}
      },
      "source": [
        "# Load the TensorBoard notebook extension\n",
        "%load_ext tensorboard"
      ],
      "execution_count": 0,
      "outputs": []
    },
    {
      "cell_type": "markdown",
      "metadata": {
        "id": "1pmQTEWZOtul",
        "colab_type": "text"
      },
      "source": [
        "## Install Dependencies"
      ]
    },
    {
      "cell_type": "code",
      "metadata": {
        "id": "36fZpDh3OtEf",
        "colab_type": "code",
        "outputId": "120636c3-5586-4fea-ff1e-dae11dccdf19",
        "colab": {
          "base_uri": "https://localhost:8080/",
          "height": 50
        }
      },
      "source": [
        "!pip install tensorflow_text -q\n",
        "!pip install wandb -q"
      ],
      "execution_count": 138,
      "outputs": [
        {
          "output_type": "stream",
          "text": [
            "Proceed (y/n)? y\n",
            "\u001b[K     |████████████████████████████████| 380.8MB 24kB/s \n",
            "\u001b[?25h"
          ],
          "name": "stdout"
        }
      ]
    },
    {
      "cell_type": "code",
      "metadata": {
        "id": "9usl-y7XOYGU",
        "colab_type": "code",
        "colab": {}
      },
      "source": [
        "import pandas as pd\n",
        "import numpy as np\n",
        "import matplotlib.pyplot as plt\n",
        "import seaborn as sns\n",
        "import tensorflow as tf\n",
        "import tensorflow_text as tftext\n",
        "import tensorflow_datasets as tfds\n",
        "import tensorflow_hub as hub\n",
        "from tensorflow.keras.layers import Bidirectional, Concatenate, Dense, Dropout, Embedding, Input, InputLayer, Lambda, LSTM\n",
        "from tensorflow.keras.layers import InputSpec, Layer\n",
        "from tensorflow.keras.models import Model, Sequential\n",
        "from tensorflow.keras.utils import plot_model\n",
        "from tensorflow.keras.callbacks import ModelCheckpoint, TensorBoard\n",
        "import datetime, os\n",
        "import wandb\n",
        "import re"
      ],
      "execution_count": 0,
      "outputs": []
    },
    {
      "cell_type": "code",
      "metadata": {
        "id": "FNf_0jOgwkbB",
        "colab_type": "code",
        "colab": {
          "base_uri": "https://localhost:8080/",
          "height": 34
        },
        "outputId": "f176a711-28f0-47f7-c95e-29cfe8af362e"
      },
      "source": [
        "print(\"Num GPUs Available: \", len(tf.config.experimental.list_physical_devices('GPU')))"
      ],
      "execution_count": 2,
      "outputs": [
        {
          "output_type": "stream",
          "text": [
            "Num GPUs Available:  1\n"
          ],
          "name": "stdout"
        }
      ]
    },
    {
      "cell_type": "code",
      "metadata": {
        "id": "NBfYR7pb0Z6t",
        "colab_type": "code",
        "colab": {}
      },
      "source": [
        "physical_devices = tf.config.experimental.list_physical_devices('GPU')\n",
        "assert len(physical_devices) > 0, \"No GPUs found.\""
      ],
      "execution_count": 0,
      "outputs": []
    },
    {
      "cell_type": "markdown",
      "metadata": {
        "id": "vKT8p9Jqk3RF",
        "colab_type": "text"
      },
      "source": [
        "## Tracking setup"
      ]
    },
    {
      "cell_type": "markdown",
      "metadata": {
        "id": "1ASGafa9kUak",
        "colab_type": "text"
      },
      "source": [
        "Login to your W&B account to track the model metrics and save progress."
      ]
    },
    {
      "cell_type": "code",
      "metadata": {
        "id": "ZkGoGQl-PgD1",
        "colab_type": "code",
        "outputId": "1a13fa59-59bb-467c-a714-21f4026ccfe1",
        "colab": {
          "base_uri": "https://localhost:8080/",
          "height": 34
        }
      },
      "source": [
        "wandb.login()"
      ],
      "execution_count": 4,
      "outputs": [
        {
          "output_type": "execute_result",
          "data": {
            "text/plain": [
              "True"
            ]
          },
          "metadata": {
            "tags": []
          },
          "execution_count": 4
        }
      ]
    },
    {
      "cell_type": "markdown",
      "metadata": {
        "id": "Nd9KHrGkkbl3",
        "colab_type": "text"
      },
      "source": [
        "Initialize a new W&B run with:\n",
        "\n",
        "* *entity* — the team posting this run (your username)\n",
        "* *project* — the name of the project to which this run will belong"
      ]
    },
    {
      "cell_type": "code",
      "metadata": {
        "id": "jly5_cJCPsJP",
        "colab_type": "code",
        "outputId": "c1df2562-45de-4836-c7b7-160df2b93725",
        "colab": {
          "base_uri": "https://localhost:8080/",
          "height": 84
        }
      },
      "source": [
        "wandb.init(entity = \"dzlab\", project = \"tf-char-rnn\")"
      ],
      "execution_count": 5,
      "outputs": [
        {
          "output_type": "display_data",
          "data": {
            "text/html": [
              "\n",
              "                Logging results to <a href=\"https://wandb.com\" target=\"_blank\">Weights & Biases</a> <a href=\"https://docs.wandb.com/integrations/jupyter.html\" target=\"_blank\">(Documentation)</a>.<br/>\n",
              "                Project page: <a href=\"https://app.wandb.ai/dzlab/tf-char-rnn\" target=\"_blank\">https://app.wandb.ai/dzlab/tf-char-rnn</a><br/>\n",
              "                Run page: <a href=\"https://app.wandb.ai/dzlab/tf-char-rnn/runs/pav449pe\" target=\"_blank\">https://app.wandb.ai/dzlab/tf-char-rnn/runs/pav449pe</a><br/>\n",
              "            "
            ],
            "text/plain": [
              "<IPython.core.display.HTML object>"
            ]
          },
          "metadata": {
            "tags": []
          }
        },
        {
          "output_type": "execute_result",
          "data": {
            "text/plain": [
              "W&B Run: https://app.wandb.ai/dzlab/tf-char-rnn/runs/pav449pe"
            ]
          },
          "metadata": {
            "tags": []
          },
          "execution_count": 5
        }
      ]
    },
    {
      "cell_type": "code",
      "metadata": {
        "id": "oH2PXyYlj1Wb",
        "colab_type": "code",
        "colab": {},
        "cellView": "both"
      },
      "source": [
        "# WandB – Config is a variable that holds and saves hyperparameters and inputs\n",
        "config = wandb.config          # Initialize config\n",
        "config.batch_size = 1024         #@param Input batch size for training\n",
        "config.train_split = 0.8       #@param Train / Validation dataset split\n",
        "config.seq_len = 40            #@param Length of character sequence to use for predicting the next character\n",
        "config.embed_output = 100      #@param Ouput size of the Embedding layer\n",
        "config.lstm_output_1 = 128     #@param Ouput size of 1st LSTM\n",
        "config.lstm_output_2 = 128     #@param Ouput size of 2nd LSTM"
      ],
      "execution_count": 0,
      "outputs": []
    },
    {
      "cell_type": "code",
      "metadata": {
        "id": "qPn1flDJWGhI",
        "colab_type": "code",
        "colab": {}
      },
      "source": [
        "batch_size, seq_len, train_split = 1024, 40, 0.8\n",
        "embed_output, lstm_output_1, lstm_output_2 = 100, 128, 128"
      ],
      "execution_count": 0,
      "outputs": []
    },
    {
      "cell_type": "markdown",
      "metadata": {
        "id": "tqPM_QjnPFuD",
        "colab_type": "text"
      },
      "source": [
        "## Data\n",
        "Elon Musk Tweets [Dataset](https://data.world/adamhelsinger/elon-musk-tweets-until-4-6-17), you can find more Twitter dataset [here](https://github.com/shaypal5/awesome-twitter-data)."
      ]
    },
    {
      "cell_type": "code",
      "metadata": {
        "id": "a5MzWA_-QUqa",
        "colab_type": "code",
        "colab": {}
      },
      "source": [
        "# Make sure Pandas does not truncate columns in order to see all text\n",
        "pd.set_option('display.max_colwidth', -1)"
      ],
      "execution_count": 0,
      "outputs": []
    },
    {
      "cell_type": "code",
      "metadata": {
        "id": "yruM7f1fORf5",
        "colab_type": "code",
        "outputId": "c8320b5f-6572-45d6-bad7-1189017b0671",
        "colab": {
          "base_uri": "https://localhost:8080/",
          "height": 195
        }
      },
      "source": [
        "dataset = 'https://query.data.world/s/zo3rtfsdt5gfdy7k7hvas3e7ixudxp'\n",
        "df = pd.read_csv(dataset)\n",
        "df.head()"
      ],
      "execution_count": 9,
      "outputs": [
        {
          "output_type": "execute_result",
          "data": {
            "text/html": [
              "<div>\n",
              "<style scoped>\n",
              "    .dataframe tbody tr th:only-of-type {\n",
              "        vertical-align: middle;\n",
              "    }\n",
              "\n",
              "    .dataframe tbody tr th {\n",
              "        vertical-align: top;\n",
              "    }\n",
              "\n",
              "    .dataframe thead th {\n",
              "        text-align: right;\n",
              "    }\n",
              "</style>\n",
              "<table border=\"1\" class=\"dataframe\">\n",
              "  <thead>\n",
              "    <tr style=\"text-align: right;\">\n",
              "      <th></th>\n",
              "      <th>id</th>\n",
              "      <th>created_at</th>\n",
              "      <th>text</th>\n",
              "    </tr>\n",
              "  </thead>\n",
              "  <tbody>\n",
              "    <tr>\n",
              "      <th>0</th>\n",
              "      <td>849636868052275200</td>\n",
              "      <td>2017-04-05 14:56:29</td>\n",
              "      <td>b'And so the robots spared humanity ... https://t.co/v7JUJQWfCv'</td>\n",
              "    </tr>\n",
              "    <tr>\n",
              "      <th>1</th>\n",
              "      <td>848988730585096192</td>\n",
              "      <td>2017-04-03 20:01:01</td>\n",
              "      <td>b\"@ForIn2020 @waltmossberg @mims @defcon_5 Exactly. Tesla is absurdly overvalued if based on the past, but that's irr\\xe2\\x80\\xa6 https://t.co/qQcTqkzgMl\"</td>\n",
              "    </tr>\n",
              "    <tr>\n",
              "      <th>2</th>\n",
              "      <td>848943072423497728</td>\n",
              "      <td>2017-04-03 16:59:35</td>\n",
              "      <td>b'@waltmossberg @mims @defcon_5 Et tu, Walt?'</td>\n",
              "    </tr>\n",
              "    <tr>\n",
              "      <th>3</th>\n",
              "      <td>848935705057280001</td>\n",
              "      <td>2017-04-03 16:30:19</td>\n",
              "      <td>b'Stormy weather in Shortville ...'</td>\n",
              "    </tr>\n",
              "    <tr>\n",
              "      <th>4</th>\n",
              "      <td>848416049573658624</td>\n",
              "      <td>2017-04-02 06:05:23</td>\n",
              "      <td>b\"@DaveLeeBBC @verge Coal is dying due to nat gas fracking. It's basically dead.\"</td>\n",
              "    </tr>\n",
              "  </tbody>\n",
              "</table>\n",
              "</div>"
            ],
            "text/plain": [
              "                   id  ...                                                                                                                                                        text\n",
              "0  849636868052275200  ...  b'And so the robots spared humanity ... https://t.co/v7JUJQWfCv'                                                                                          \n",
              "1  848988730585096192  ...  b\"@ForIn2020 @waltmossberg @mims @defcon_5 Exactly. Tesla is absurdly overvalued if based on the past, but that's irr\\xe2\\x80\\xa6 https://t.co/qQcTqkzgMl\"\n",
              "2  848943072423497728  ...  b'@waltmossberg @mims @defcon_5 Et tu, Walt?'                                                                                                             \n",
              "3  848935705057280001  ...  b'Stormy weather in Shortville ...'                                                                                                                       \n",
              "4  848416049573658624  ...  b\"@DaveLeeBBC @verge Coal is dying due to nat gas fracking. It's basically dead.\"                                                                         \n",
              "\n",
              "[5 rows x 3 columns]"
            ]
          },
          "metadata": {
            "tags": []
          },
          "execution_count": 9
        }
      ]
    },
    {
      "cell_type": "code",
      "metadata": {
        "id": "7rz0vdncQCCJ",
        "colab_type": "code",
        "colab": {}
      },
      "source": [
        "size = df.count()[0]"
      ],
      "execution_count": 0,
      "outputs": []
    },
    {
      "cell_type": "markdown",
      "metadata": {
        "id": "xP9vbyB_imlW",
        "colab_type": "text"
      },
      "source": [
        "### Text Cleaning"
      ]
    },
    {
      "cell_type": "markdown",
      "metadata": {
        "id": "DMutr2Ehf07c",
        "colab_type": "text"
      },
      "source": [
        "If you noticed, the text is encapsulated in a `b'...'`, we need to remove the starting token `b'` or `b\"` and the endoing quotes `'` and `\"`."
      ]
    },
    {
      "cell_type": "code",
      "metadata": {
        "id": "-3ixRWfuf0AP",
        "colab_type": "code",
        "outputId": "6484e77c-a948-439d-d779-f514f97e291b",
        "colab": {
          "base_uri": "https://localhost:8080/",
          "height": 195
        }
      },
      "source": [
        "df['text'] = df['text'].apply(lambda text: re.sub(\"^b'|^b\\\"|'$|\\\"$\", '', text))\n",
        "df.head()"
      ],
      "execution_count": 11,
      "outputs": [
        {
          "output_type": "execute_result",
          "data": {
            "text/html": [
              "<div>\n",
              "<style scoped>\n",
              "    .dataframe tbody tr th:only-of-type {\n",
              "        vertical-align: middle;\n",
              "    }\n",
              "\n",
              "    .dataframe tbody tr th {\n",
              "        vertical-align: top;\n",
              "    }\n",
              "\n",
              "    .dataframe thead th {\n",
              "        text-align: right;\n",
              "    }\n",
              "</style>\n",
              "<table border=\"1\" class=\"dataframe\">\n",
              "  <thead>\n",
              "    <tr style=\"text-align: right;\">\n",
              "      <th></th>\n",
              "      <th>id</th>\n",
              "      <th>created_at</th>\n",
              "      <th>text</th>\n",
              "    </tr>\n",
              "  </thead>\n",
              "  <tbody>\n",
              "    <tr>\n",
              "      <th>0</th>\n",
              "      <td>849636868052275200</td>\n",
              "      <td>2017-04-05 14:56:29</td>\n",
              "      <td>And so the robots spared humanity ... https://t.co/v7JUJQWfCv</td>\n",
              "    </tr>\n",
              "    <tr>\n",
              "      <th>1</th>\n",
              "      <td>848988730585096192</td>\n",
              "      <td>2017-04-03 20:01:01</td>\n",
              "      <td>@ForIn2020 @waltmossberg @mims @defcon_5 Exactly. Tesla is absurdly overvalued if based on the past, but that's irr\\xe2\\x80\\xa6 https://t.co/qQcTqkzgMl</td>\n",
              "    </tr>\n",
              "    <tr>\n",
              "      <th>2</th>\n",
              "      <td>848943072423497728</td>\n",
              "      <td>2017-04-03 16:59:35</td>\n",
              "      <td>@waltmossberg @mims @defcon_5 Et tu, Walt?</td>\n",
              "    </tr>\n",
              "    <tr>\n",
              "      <th>3</th>\n",
              "      <td>848935705057280001</td>\n",
              "      <td>2017-04-03 16:30:19</td>\n",
              "      <td>Stormy weather in Shortville ...</td>\n",
              "    </tr>\n",
              "    <tr>\n",
              "      <th>4</th>\n",
              "      <td>848416049573658624</td>\n",
              "      <td>2017-04-02 06:05:23</td>\n",
              "      <td>@DaveLeeBBC @verge Coal is dying due to nat gas fracking. It's basically dead.</td>\n",
              "    </tr>\n",
              "  </tbody>\n",
              "</table>\n",
              "</div>"
            ],
            "text/plain": [
              "                   id  ...                                                                                                                                                     text\n",
              "0  849636868052275200  ...  And so the robots spared humanity ... https://t.co/v7JUJQWfCv                                                                                          \n",
              "1  848988730585096192  ...  @ForIn2020 @waltmossberg @mims @defcon_5 Exactly. Tesla is absurdly overvalued if based on the past, but that's irr\\xe2\\x80\\xa6 https://t.co/qQcTqkzgMl\n",
              "2  848943072423497728  ...  @waltmossberg @mims @defcon_5 Et tu, Walt?                                                                                                             \n",
              "3  848935705057280001  ...  Stormy weather in Shortville ...                                                                                                                       \n",
              "4  848416049573658624  ...  @DaveLeeBBC @verge Coal is dying due to nat gas fracking. It's basically dead.                                                                         \n",
              "\n",
              "[5 rows x 3 columns]"
            ]
          },
          "metadata": {
            "tags": []
          },
          "execution_count": 11
        }
      ]
    },
    {
      "cell_type": "code",
      "metadata": {
        "id": "PQ42z0RMaV0y",
        "colab_type": "code",
        "colab": {
          "base_uri": "https://localhost:8080/",
          "height": 67
        },
        "outputId": "11149ca5-59ad-4b16-da8d-e95877edd126"
      },
      "source": [
        "!curl -O https://raw.githubusercontent.com/karpathy/char-rnn/master/data/tinyshakespeare/input.txt"
      ],
      "execution_count": 12,
      "outputs": [
        {
          "output_type": "stream",
          "text": [
            "  % Total    % Received % Xferd  Average Speed   Time    Time     Time  Current\n",
            "                                 Dload  Upload   Total   Spent    Left  Speed\n",
            "100 1089k  100 1089k    0     0  2723k      0 --:--:-- --:--:-- --:--:-- 2716k\n"
          ],
          "name": "stdout"
        }
      ]
    },
    {
      "cell_type": "markdown",
      "metadata": {
        "id": "o_91mZE7Sv3c",
        "colab_type": "text"
      },
      "source": [
        ""
      ]
    },
    {
      "cell_type": "code",
      "metadata": {
        "id": "S4filjCuaa9R",
        "colab_type": "code",
        "colab": {}
      },
      "source": [
        "text = ''.join(open('input.txt', 'r').readlines()) # shakespear"
      ],
      "execution_count": 0,
      "outputs": []
    },
    {
      "cell_type": "code",
      "metadata": {
        "id": "B-8KRPwjkWjt",
        "colab_type": "code",
        "colab": {}
      },
      "source": [
        "text = '\\n'.join(df['text']) # tweets"
      ],
      "execution_count": 0,
      "outputs": []
    },
    {
      "cell_type": "code",
      "metadata": {
        "id": "jpuhlRYhkJep",
        "colab_type": "code",
        "colab": {}
      },
      "source": [
        "text = \"\"\"Sing a song of sixpence, A pocket full of rye.\n",
        "Four and twenty blackbirds, Baked in a pie.\n",
        "When the pie was opened The birds began to sing; Wasn't that a dainty dish, To set before the king.\n",
        "The king was in his counting house, Counting out his money;\n",
        "The queen was in the parlour, Eating bread and honey.\n",
        "The maid was in the garden, Hanging out the clothes, When down came a blackbird And pecked off her nose.\"\"\""
      ],
      "execution_count": 0,
      "outputs": []
    },
    {
      "cell_type": "markdown",
      "metadata": {
        "id": "Gglbg2hoZcKA",
        "colab_type": "text"
      },
      "source": [
        "### Vocabulary\n",
        "Create a character vocabulary"
      ]
    },
    {
      "cell_type": "code",
      "metadata": {
        "id": "jzyJSL9-eULs",
        "colab_type": "code",
        "colab": {}
      },
      "source": [
        "text_tensor = tf.constant(text)\n",
        "chars_raged_tensor = tf.strings.unicode_split(text_tensor, 'UTF-8')"
      ],
      "execution_count": 0,
      "outputs": []
    },
    {
      "cell_type": "code",
      "metadata": {
        "id": "lAAN58iGQ05z",
        "colab_type": "code",
        "outputId": "6bd3179d-c4d4-4791-dd83-32c4b9de1abd",
        "colab": {
          "base_uri": "https://localhost:8080/",
          "height": 54
        }
      },
      "source": [
        "chars = chars_raged_tensor.numpy()\n",
        "vocab = list(set(sorted(chars)))\n",
        "print(vocab)"
      ],
      "execution_count": 59,
      "outputs": [
        {
          "output_type": "stream",
          "text": [
            "[b'\\n', b'q', b'v', b'K', b'e', b'u', b':', b'N', b'w', b'E', b'U', b'd', b't', b'-', b'k', b'y', b'c', b's', b'h', b'G', b',', b'!', b'T', b' ', b'J', b'V', b'o', b'Z', b'P', b'j', b'W', b'l', b'I', b'r', b'g', b'X', b'p', b'A', b'a', b'C', b'&', b\"'\", b'M', b'z', b'L', b'f', b'H', b'O', b'R', b'F', b'.', b'3', b'S', b'?', b'b', b'x', b'B', b'Y', b'i', b'$', b'Q', b'n', b'm', b'D', b';']\n"
          ],
          "name": "stdout"
        }
      ]
    },
    {
      "cell_type": "markdown",
      "metadata": {
        "id": "3TgCN7WlZT6u",
        "colab_type": "text"
      },
      "source": [
        "### Build lookup table\n",
        "Create a token-index mapping to use when encode review text into something that can be processed by a neural network."
      ]
    },
    {
      "cell_type": "code",
      "metadata": {
        "id": "tc4IUU9DTxve",
        "colab_type": "code",
        "colab": {}
      },
      "source": [
        "def create_vocab_table(vocab, num_oov=1):\n",
        "  \"\"\"Create a lookup table for a vocabulary\"\"\"\n",
        "  vocab_values = tf.range(tf.size(vocab, out_type=tf.int64), dtype=tf.int64)\n",
        "  init = tf.lookup.KeyValueTensorInitializer(keys=vocab, values=vocab_values, key_dtype=tf.string, value_dtype=tf.int64)\n",
        "  vocab_table = tf.lookup.StaticVocabularyTable(init, num_oov, lookup_key_dtype=tf.string)\n",
        "  return vocab_table"
      ],
      "execution_count": 0,
      "outputs": []
    },
    {
      "cell_type": "code",
      "metadata": {
        "id": "xVUwMiKPXIfz",
        "colab_type": "code",
        "colab": {}
      },
      "source": [
        "vocab_table = create_vocab_table(vocab)"
      ],
      "execution_count": 0,
      "outputs": []
    },
    {
      "cell_type": "code",
      "metadata": {
        "id": "lD-xPybUVgnS",
        "colab_type": "code",
        "colab": {
          "base_uri": "https://localhost:8080/",
          "height": 34
        },
        "outputId": "47b5dad9-5fe2-4d51-9983-02e1df0e0506"
      },
      "source": [
        "vocab_table.lookup(tf.constant(\"\\n\"))"
      ],
      "execution_count": 62,
      "outputs": [
        {
          "output_type": "execute_result",
          "data": {
            "text/plain": [
              "<tf.Tensor: id=83151, shape=(), dtype=int64, numpy=0>"
            ]
          },
          "metadata": {
            "tags": []
          },
          "execution_count": 62
        }
      ]
    },
    {
      "cell_type": "markdown",
      "metadata": {
        "id": "OHiwIKo7qN6i",
        "colab_type": "text"
      },
      "source": [
        "### Create Dataset"
      ]
    },
    {
      "cell_type": "code",
      "metadata": {
        "id": "kcI0lp2MeMYr",
        "colab_type": "code",
        "colab": {}
      },
      "source": [
        "sequences = tftext.ngrams(chars_raged_tensor, width=seq_len+1, reduction_type=tftext.Reduction.STRING_JOIN, string_separator='')"
      ],
      "execution_count": 0,
      "outputs": []
    },
    {
      "cell_type": "code",
      "metadata": {
        "id": "b3ByGhpjpFXb",
        "colab_type": "code",
        "colab": {
          "base_uri": "https://localhost:8080/",
          "height": 118
        },
        "outputId": "103bfedd-a9e1-4555-8a35-62fdff8656fc"
      },
      "source": [
        "sequences[:5]"
      ],
      "execution_count": 64,
      "outputs": [
        {
          "output_type": "execute_result",
          "data": {
            "text/plain": [
              "<tf.Tensor: id=83322, shape=(5,), dtype=string, numpy=\n",
              "array([b'First Citizen:\\nBefore we proceed any furt',\n",
              "       b'irst Citizen:\\nBefore we proceed any furth',\n",
              "       b'rst Citizen:\\nBefore we proceed any furthe',\n",
              "       b'st Citizen:\\nBefore we proceed any further',\n",
              "       b't Citizen:\\nBefore we proceed any further,'], dtype=object)>"
            ]
          },
          "metadata": {
            "tags": []
          },
          "execution_count": 64
        }
      ]
    },
    {
      "cell_type": "markdown",
      "metadata": {
        "id": "0smetSB9qjsU",
        "colab_type": "text"
      },
      "source": [
        "Expand the string sequences one dimension"
      ]
    },
    {
      "cell_type": "code",
      "metadata": {
        "id": "m-i-uu9Jpyd8",
        "colab_type": "code",
        "colab": {}
      },
      "source": [
        "sequences = tf.expand_dims(sequences, -1)"
      ],
      "execution_count": 0,
      "outputs": []
    },
    {
      "cell_type": "code",
      "metadata": {
        "id": "SbOIzjKeA4QM",
        "colab_type": "code",
        "colab": {}
      },
      "source": [
        "train_size = int(len(sequences) * train_split)\n",
        "valid_size = len(sequences) - train_size"
      ],
      "execution_count": 0,
      "outputs": []
    },
    {
      "cell_type": "code",
      "metadata": {
        "id": "COinWP0ttpQD",
        "colab_type": "code",
        "colab": {}
      },
      "source": [
        "train_ds = tf.data.Dataset.from_tensor_slices(sequences[:train_size])\n",
        "valid_ds = tf.data.Dataset.from_tensor_slices(sequences[train_size:])"
      ],
      "execution_count": 0,
      "outputs": []
    },
    {
      "cell_type": "markdown",
      "metadata": {
        "id": "ilk8SLWwZ7MX",
        "colab_type": "text"
      },
      "source": [
        "### Preprocessing\n",
        "Create a preprocessing helper function which will be called on each sample in order to encode the tweets into a sequence of token indices.\n",
        "\n",
        "The output of this transformation is a RaggedTensor."
      ]
    },
    {
      "cell_type": "code",
      "metadata": {
        "id": "23u4vRqZZpOK",
        "colab_type": "code",
        "colab": {}
      },
      "source": [
        "@tf.function\n",
        "def basic_preprocess(text):\n",
        "  rt = tf.strings.unicode_split(text, 'UTF-8')\n",
        "  rt = tf.ragged.map_flat_values(vocab_table.lookup, rt)\n",
        "  features, labels = rt[..., :-1], rt[..., -1:]\n",
        "  # in features, sequeeze the second from the last dimension as it was created by the spit\n",
        "  features = tf.squeeze(features, axis=-2)\n",
        "  # in labels, sequeeze the last dimension\n",
        "  labels = tf.squeeze(labels, axis=-1)\n",
        "  # make labels a regular tensor\n",
        "  labels = labels.to_tensor()\n",
        "  return features, labels"
      ],
      "execution_count": 0,
      "outputs": []
    },
    {
      "cell_type": "code",
      "metadata": {
        "id": "V_0Fef-jaUHX",
        "colab_type": "code",
        "colab": {}
      },
      "source": [
        "train_ds = train_ds.shuffle(train_size).batch(batch_size).map(basic_preprocess)\n",
        "valid_ds = valid_ds.shuffle(valid_size).batch(batch_size).map(basic_preprocess)"
      ],
      "execution_count": 0,
      "outputs": []
    },
    {
      "cell_type": "code",
      "metadata": {
        "id": "vY_Vbch_xf0c",
        "colab_type": "code",
        "outputId": "d6a4391e-0070-424c-9fad-fb749ace8037",
        "colab": {
          "base_uri": "https://localhost:8080/",
          "height": 34
        }
      },
      "source": [
        "train_examples_batch, train_labels_batch = next(iter(train_ds))\n",
        "train_examples_batch.shape, train_labels_batch.shape"
      ],
      "execution_count": 70,
      "outputs": [
        {
          "output_type": "execute_result",
          "data": {
            "text/plain": [
              "(TensorShape([1024, None]), TensorShape([1024, 1]))"
            ]
          },
          "metadata": {
            "tags": []
          },
          "execution_count": 70
        }
      ]
    },
    {
      "cell_type": "code",
      "metadata": {
        "id": "vNCsExiDx7ir",
        "colab_type": "code",
        "outputId": "963e4c47-1de4-403d-d8c9-b82a5432b0e8",
        "colab": {
          "base_uri": "https://localhost:8080/",
          "height": 104
        }
      },
      "source": [
        "train_examples_batch[:2], train_labels_batch[:2]"
      ],
      "execution_count": 71,
      "outputs": [
        {
          "output_type": "execute_result",
          "data": {
            "text/plain": [
              "(<tf.RaggedTensor [[31, 36, 23, 12, 26, 23, 16, 33, 38, 2, 4, 20, 23, 38, 61, 11, 23, 62, 15, 23, 11, 4, 38, 33, 23, 18, 38, 36, 23, 12, 26, 23, 12, 4, 31, 31, 50, 0, 0, 49], [18, 26, 5, 23, 8, 58, 31, 12, 23, 45, 38, 31, 31, 23, 54, 38, 16, 14, 8, 38, 33, 11, 23, 8, 18, 4, 61, 23, 12, 18, 26, 5, 23, 18, 38, 17, 12, 23, 62, 26]]>,\n",
              " <tf.Tensor: id=83885, shape=(2, 1), dtype=int64, numpy=\n",
              " array([[48],\n",
              "        [33]])>)"
            ]
          },
          "metadata": {
            "tags": []
          },
          "execution_count": 71
        }
      ]
    },
    {
      "cell_type": "code",
      "metadata": {
        "id": "dlxDpCXUWTai",
        "colab_type": "code",
        "colab": {
          "base_uri": "https://localhost:8080/",
          "height": 84
        },
        "outputId": "a91900d8-bc43-4328-f77a-baf25f7510b7"
      },
      "source": [
        "train_examples_batch[0]"
      ],
      "execution_count": 72,
      "outputs": [
        {
          "output_type": "execute_result",
          "data": {
            "text/plain": [
              "<tf.Tensor: id=83908, shape=(40,), dtype=int64, numpy=\n",
              "array([31, 36, 23, 12, 26, 23, 16, 33, 38,  2,  4, 20, 23, 38, 61, 11, 23,\n",
              "       62, 15, 23, 11,  4, 38, 33, 23, 18, 38, 36, 23, 12, 26, 23, 12,  4,\n",
              "       31, 31, 50,  0,  0, 49])>"
            ]
          },
          "metadata": {
            "tags": []
          },
          "execution_count": 72
        }
      ]
    },
    {
      "cell_type": "code",
      "metadata": {
        "id": "0t-ZUFeDUcab",
        "colab_type": "code",
        "colab": {}
      },
      "source": [
        "# list(map(lambda idx: vocab[idx], train_examples_batch[0].numpy()))"
      ],
      "execution_count": 0,
      "outputs": []
    },
    {
      "cell_type": "markdown",
      "metadata": {
        "id": "eZ_96ZVn70ae",
        "colab_type": "text"
      },
      "source": [
        "## Model"
      ]
    },
    {
      "cell_type": "code",
      "metadata": {
        "id": "0aDLGFGJzJ0P",
        "colab_type": "code",
        "colab": {}
      },
      "source": [
        "pad_val, vocab_size = len(vocab), len(vocab)+1"
      ],
      "execution_count": 0,
      "outputs": []
    },
    {
      "cell_type": "markdown",
      "metadata": {
        "id": "gheeX9RDbVIC",
        "colab_type": "text"
      },
      "source": [
        "### W&B Callback"
      ]
    },
    {
      "cell_type": "code",
      "metadata": {
        "id": "juJYkkJ-XVmt",
        "colab_type": "code",
        "colab": {}
      },
      "source": [
        "wandb_callback = wandb.keras.WandbCallback(log_weights=True)"
      ],
      "execution_count": 0,
      "outputs": []
    },
    {
      "cell_type": "markdown",
      "metadata": {
        "id": "2jUddpxU73if",
        "colab_type": "text"
      },
      "source": [
        "### Char-RNN"
      ]
    },
    {
      "cell_type": "markdown",
      "metadata": {
        "id": "qzL2blfKBGRw",
        "colab_type": "text"
      },
      "source": [
        "How to Quickly Train a Text-Generating Neural Network for Free [article](https://minimaxir.com/2018/05/text-neural-networks/)."
      ]
    },
    {
      "cell_type": "markdown",
      "metadata": {
        "id": "PK-VvkG3948N",
        "colab_type": "text"
      },
      "source": [
        "#### AttentionWeightedAverage\n",
        "An attention layer on the ouput of previous RNN layers as well as the Embedding layer. The implentation is based on this [](https://gist.github.com/thomwolf/e309e779a08c1ba899514d44355cd6df)"
      ]
    },
    {
      "cell_type": "code",
      "metadata": {
        "id": "xUqHQpMFtHTk",
        "colab_type": "code",
        "colab": {}
      },
      "source": [
        "import tensorflow.keras.backend as K\n",
        "\n",
        "class AttentionWeightedAverage(Layer):\n",
        "    \"\"\"\n",
        "    Computes a weighted average of the different channels across timesteps.\n",
        "    Uses 1 parameter pr. channel to compute the attention value for a single timestep.\n",
        "    \"\"\"\n",
        "\n",
        "    def __init__(self, return_attention=False, **kwargs):\n",
        "        self.init = tf.initializers.get('uniform')\n",
        "        self.supports_masking = True\n",
        "        self.return_attention = return_attention\n",
        "        super(AttentionWeightedAverage, self).__init__(** kwargs)\n",
        "        \n",
        "    def get_config(self):\n",
        "        config = super().get_config().copy()\n",
        "        config.update({\n",
        "            'return_attention': self.return_attention\n",
        "        })\n",
        "        return config\n",
        "\n",
        "    def build(self, input_shape):\n",
        "        self.input_spec = [InputSpec(ndim=3)]\n",
        "        assert len(input_shape) == 3\n",
        "\n",
        "        self.W = self.add_weight(shape=(input_shape[2], 1),\n",
        "                                 name='{}_W'.format(self.name),\n",
        "                                 initializer=self.init)\n",
        "        #self.trainable_weights = [self.W]\n",
        "        super(AttentionWeightedAverage, self).build(input_shape)\n",
        "\n",
        "    def call(self, x, mask=None):\n",
        "        # computes a probability distribution over the timesteps\n",
        "        # uses 'max trick' for numerical stability\n",
        "        # reshape is done to avoid issue with Tensorflow\n",
        "        # and 1-dimensional weights\n",
        "        logits = K.dot(x, self.W)\n",
        "        x_shape = K.shape(x)\n",
        "        logits = K.reshape(logits, (x_shape[0], x_shape[1]))\n",
        "        ai = K.exp(logits - K.max(logits, axis=-1, keepdims=True))\n",
        "\n",
        "        # masked timesteps have zero weight\n",
        "        if mask is not None:\n",
        "            mask = K.cast(mask, K.floatx())\n",
        "            ai = ai * mask\n",
        "        att_weights = ai / K.sum(ai, axis=1, keepdims=True)\n",
        "        weighted_input = x * K.expand_dims(att_weights)\n",
        "        result = K.sum(weighted_input, axis=1)\n",
        "        if self.return_attention:\n",
        "            return [result, att_weights]\n",
        "        return result\n",
        "\n",
        "    def get_output_shape_for(self, input_shape):\n",
        "        return self.compute_output_shape(input_shape)\n",
        "\n",
        "    def compute_output_shape(self, input_shape):\n",
        "        output_len = input_shape[2]\n",
        "        if self.return_attention:\n",
        "            return [(input_shape[0], output_len), (input_shape[0], input_shape[1])]\n",
        "        return (input_shape[0], output_len)\n",
        "\n",
        "    def compute_mask(self, input, input_mask=None):\n",
        "        if isinstance(input_mask, list):\n",
        "            return [None] * len(input_mask)\n",
        "        else:\n",
        "            return None"
      ],
      "execution_count": 0,
      "outputs": []
    },
    {
      "cell_type": "markdown",
      "metadata": {
        "id": "F8wg_UyXBSPS",
        "colab_type": "text"
      },
      "source": [
        "#### Build the model"
      ]
    },
    {
      "cell_type": "markdown",
      "metadata": {
        "id": "XtUlU8OKau_J",
        "colab_type": "text"
      },
      "source": [
        "As our targets are integers, we use `sparse_categorical_crossentropy` loss function."
      ]
    },
    {
      "cell_type": "code",
      "metadata": {
        "id": "SB2dPc1hBoWj",
        "colab_type": "code",
        "colab": {}
      },
      "source": [
        "input = Input(shape=(None,), dtype='int64', ragged=True)\n",
        "dense = tftext.keras.layers.ToDense(pad_value=pad_val, mask=True)(input)\n",
        "embed = Embedding(vocab_size, config.embed_output)(dense)\n",
        "lstm1 = LSTM(config.lstm_output_1, return_sequences=True)(embed)\n",
        "lstm2 = LSTM(config.lstm_output_2, return_sequences=True)(lstm1)\n",
        "concat = Concatenate(axis=-1)([embed, lstm1, lstm2])\n",
        "attn = AttentionWeightedAverage()(concat)\n",
        "output = Dense(vocab_size, activation='softmax')(attn)\n",
        "model = Model(inputs=[input], outputs=output)\n",
        "model.compile(optimizer=\"adam\", loss=\"sparse_categorical_crossentropy\", metrics=[\"accuracy\"])"
      ],
      "execution_count": 0,
      "outputs": []
    },
    {
      "cell_type": "code",
      "metadata": {
        "id": "HiPM1h5iEwVd",
        "colab_type": "code",
        "outputId": "9d580af1-b6dc-4595-93c1-6e16c360658a",
        "colab": {
          "base_uri": "https://localhost:8080/",
          "height": 454
        }
      },
      "source": [
        "model.summary()"
      ],
      "execution_count": 79,
      "outputs": [
        {
          "output_type": "stream",
          "text": [
            "Model: \"model_2\"\n",
            "__________________________________________________________________________________________________\n",
            "Layer (type)                    Output Shape         Param #     Connected to                     \n",
            "==================================================================================================\n",
            "input_3 (InputLayer)            [(None, None)]       0                                            \n",
            "__________________________________________________________________________________________________\n",
            "to_dense_2 (ToDense)            (None, None)         0           input_3[0][0]                    \n",
            "__________________________________________________________________________________________________\n",
            "embedding_2 (Embedding)         (None, None, 100)    6600        to_dense_2[0][0]                 \n",
            "__________________________________________________________________________________________________\n",
            "lstm_4 (LSTM)                   (None, None, 128)    117248      embedding_2[0][0]                \n",
            "__________________________________________________________________________________________________\n",
            "lstm_5 (LSTM)                   (None, None, 128)    131584      lstm_4[0][0]                     \n",
            "__________________________________________________________________________________________________\n",
            "concatenate_2 (Concatenate)     (None, None, 356)    0           embedding_2[0][0]                \n",
            "                                                                 lstm_4[0][0]                     \n",
            "                                                                 lstm_5[0][0]                     \n",
            "__________________________________________________________________________________________________\n",
            "attention_weighted_average_2 (A (None, 356)          356         concatenate_2[0][0]              \n",
            "__________________________________________________________________________________________________\n",
            "dense_2 (Dense)                 (None, 66)           23562       attention_weighted_average_2[0][0\n",
            "==================================================================================================\n",
            "Total params: 279,350\n",
            "Trainable params: 279,350\n",
            "Non-trainable params: 0\n",
            "__________________________________________________________________________________________________\n"
          ],
          "name": "stdout"
        }
      ]
    },
    {
      "cell_type": "code",
      "metadata": {
        "id": "rrjHqjJcHy_o",
        "colab_type": "code",
        "outputId": "da66bc6f-771a-46d2-e818-e89f6c9a8b76",
        "colab": {
          "base_uri": "https://localhost:8080/",
          "height": 406
        }
      },
      "source": [
        "model.fit(train_ds, validation_data=valid_ds, epochs=10, callbacks=[wandb_callback])"
      ],
      "execution_count": 80,
      "outputs": [
        {
          "output_type": "stream",
          "text": [
            "Epoch 1/10\n",
            "      1/Unknown - 4s 4s/step - loss: 4.1892 - accuracy: 0.0107WARNING:tensorflow:Method (on_train_batch_end) is slow compared to the batch update (0.126718). Check your callbacks.\n",
            "872/872 [==============================] - 61s 70ms/step - loss: 2.9052 - accuracy: 0.2249 - val_loss: 0.0000e+00 - val_accuracy: 0.0000e+00\n",
            "Epoch 2/10\n",
            "872/872 [==============================] - 49s 56ms/step - loss: 2.0923 - accuracy: 0.3890 - val_loss: 2.0522 - val_accuracy: 0.3943\n",
            "Epoch 3/10\n",
            "872/872 [==============================] - 49s 56ms/step - loss: 1.8945 - accuracy: 0.4419 - val_loss: 1.9427 - val_accuracy: 0.4257\n",
            "Epoch 4/10\n",
            "872/872 [==============================] - 49s 56ms/step - loss: 1.7718 - accuracy: 0.4759 - val_loss: 1.8682 - val_accuracy: 0.4536\n",
            "Epoch 5/10\n",
            "872/872 [==============================] - 49s 56ms/step - loss: 1.6852 - accuracy: 0.5001 - val_loss: 1.8334 - val_accuracy: 0.4664\n",
            "Epoch 6/10\n",
            "872/872 [==============================] - 49s 56ms/step - loss: 1.6198 - accuracy: 0.5166 - val_loss: 1.7955 - val_accuracy: 0.4770\n",
            "Epoch 7/10\n",
            "872/872 [==============================] - 49s 56ms/step - loss: 1.5686 - accuracy: 0.5300 - val_loss: 1.7576 - val_accuracy: 0.4888\n",
            "Epoch 8/10\n",
            "872/872 [==============================] - 48s 56ms/step - loss: 1.5279 - accuracy: 0.5409 - val_loss: 1.7440 - val_accuracy: 0.4971\n",
            "Epoch 9/10\n",
            "872/872 [==============================] - 48s 55ms/step - loss: 1.4939 - accuracy: 0.5497 - val_loss: 1.7266 - val_accuracy: 0.5021\n",
            "Epoch 10/10\n",
            "872/872 [==============================] - 49s 56ms/step - loss: 1.4666 - accuracy: 0.5566 - val_loss: 1.7081 - val_accuracy: 0.5078\n"
          ],
          "name": "stdout"
        },
        {
          "output_type": "execute_result",
          "data": {
            "text/plain": [
              "<tensorflow.python.keras.callbacks.History at 0x7fd85234d630>"
            ]
          },
          "metadata": {
            "tags": []
          },
          "execution_count": 80
        }
      ]
    },
    {
      "cell_type": "code",
      "metadata": {
        "id": "J6TyQi94QVmk",
        "colab_type": "code",
        "colab": {}
      },
      "source": [
        "model.save(os.path.join(wandb.run.dir, \"char-rnn.h5\"))"
      ],
      "execution_count": 0,
      "outputs": []
    },
    {
      "cell_type": "code",
      "metadata": {
        "id": "j9SeoGY6-k4h",
        "colab_type": "code",
        "colab": {
          "base_uri": "https://localhost:8080/",
          "height": 865
        },
        "outputId": "8652bb52-a0e8-40fd-a0e9-d09174b3f49e"
      },
      "source": [
        "plot_model(model, to_file='char-rnn.png', show_shapes=True)"
      ],
      "execution_count": 55,
      "outputs": [
        {
          "output_type": "execute_result",
          "data": {
            "image/png": "[encoded data removed]",
            "text/plain": [
              "<IPython.core.display.Image object>"
            ]
          },
          "metadata": {
            "tags": []
          },
          "execution_count": 55
        }
      ]
    },
    {
      "cell_type": "markdown",
      "metadata": {
        "id": "htTFhmeAQhki",
        "colab_type": "text"
      },
      "source": [
        "### Simple RNN"
      ]
    },
    {
      "cell_type": "code",
      "metadata": {
        "id": "xZdrtkkFbYVf",
        "colab_type": "code",
        "colab": {}
      },
      "source": [
        "class WBCallback(tf.keras.callbacks.Callback):\n",
        "\n",
        "  def on_epoch_end(self, epoch, logs=None):\n",
        "    # logs is a dict containing the loss value, and all the metrics at the end of a batch or epoch.\n",
        "    # We will simply log to W&B all the content of this dictionnary.\n",
        "    wandb.log(logs)"
      ],
      "execution_count": 0,
      "outputs": []
    },
    {
      "cell_type": "code",
      "metadata": {
        "id": "wGVeKEVpQqaI",
        "colab_type": "code",
        "colab": {}
      },
      "source": [
        "model = tf.keras.Sequential([\n",
        "  InputLayer(input_shape=(None,), dtype='int64', ragged=True),\n",
        "  tftext.keras.layers.ToDense(pad_value=pad_val, mask=True),\n",
        "  Lambda(lambda x:K.one_hot(K.cast(x,'int64'), vocab_size)),\n",
        "  LSTM(lstm_output_1),\n",
        "  Dense(vocab_size, activation='softmax')\n",
        "])\n",
        "model.compile(optimizer=\"adam\", loss=\"sparse_categorical_crossentropy\", metrics=[\"accuracy\"])"
      ],
      "execution_count": 0,
      "outputs": []
    },
    {
      "cell_type": "code",
      "metadata": {
        "id": "ciqzjXgrRH_L",
        "colab_type": "code",
        "outputId": "9b6f8b1d-2cef-4def-d1f0-7041a17b3515",
        "colab": {
          "base_uri": "https://localhost:8080/",
          "height": 286
        }
      },
      "source": [
        "model.summary()"
      ],
      "execution_count": 82,
      "outputs": [
        {
          "output_type": "stream",
          "text": [
            "Model: \"sequential\"\n",
            "_________________________________________________________________\n",
            "Layer (type)                 Output Shape              Param #   \n",
            "=================================================================\n",
            "to_dense_3 (ToDense)         (None, None)              0         \n",
            "_________________________________________________________________\n",
            "lambda (Lambda)              (None, None, 66)          0         \n",
            "_________________________________________________________________\n",
            "lstm_6 (LSTM)                (None, 128)               99840     \n",
            "_________________________________________________________________\n",
            "dense_3 (Dense)              (None, 66)                8514      \n",
            "=================================================================\n",
            "Total params: 108,354\n",
            "Trainable params: 108,354\n",
            "Non-trainable params: 0\n",
            "_________________________________________________________________\n"
          ],
          "name": "stdout"
        }
      ]
    },
    {
      "cell_type": "code",
      "metadata": {
        "id": "Acjo1qOFRLI0",
        "colab_type": "code",
        "outputId": "6e79212d-297b-409d-dbb7-b404623b1f10",
        "colab": {
          "base_uri": "https://localhost:8080/",
          "height": 370
        }
      },
      "source": [
        "model.fit(train_ds, validation_data=valid_ds, epochs=10, callbacks=[wandb_callback])"
      ],
      "execution_count": 83,
      "outputs": [
        {
          "output_type": "stream",
          "text": [
            "Epoch 1/10\n",
            "872/872 [==============================] - 37s 43ms/step - loss: 2.6365 - accuracy: 0.2833 - val_loss: 0.0000e+00 - val_accuracy: 0.0000e+00\n",
            "Epoch 2/10\n",
            "872/872 [==============================] - 27s 31ms/step - loss: 2.1208 - accuracy: 0.3934 - val_loss: 2.1026 - val_accuracy: 0.3903\n",
            "Epoch 3/10\n",
            "872/872 [==============================] - 27s 31ms/step - loss: 1.9788 - accuracy: 0.4264 - val_loss: 2.0265 - val_accuracy: 0.4063\n",
            "Epoch 4/10\n",
            "872/872 [==============================] - 27s 31ms/step - loss: 1.8910 - accuracy: 0.4481 - val_loss: 1.9781 - val_accuracy: 0.4178\n",
            "Epoch 5/10\n",
            "872/872 [==============================] - 27s 31ms/step - loss: 1.8274 - accuracy: 0.4641 - val_loss: 1.9456 - val_accuracy: 0.4301\n",
            "Epoch 6/10\n",
            "872/872 [==============================] - 27s 31ms/step - loss: 1.7758 - accuracy: 0.4774 - val_loss: 1.9138 - val_accuracy: 0.4398\n",
            "Epoch 7/10\n",
            "872/872 [==============================] - 27s 31ms/step - loss: 1.7335 - accuracy: 0.4887 - val_loss: 1.8841 - val_accuracy: 0.4505\n",
            "Epoch 8/10\n",
            "872/872 [==============================] - 27s 31ms/step - loss: 1.6977 - accuracy: 0.4983 - val_loss: 1.8611 - val_accuracy: 0.4588\n",
            "Epoch 9/10\n",
            "872/872 [==============================] - 27s 31ms/step - loss: 1.6674 - accuracy: 0.5060 - val_loss: 1.8508 - val_accuracy: 0.4645\n",
            "Epoch 10/10\n",
            "872/872 [==============================] - 27s 31ms/step - loss: 1.6411 - accuracy: 0.5130 - val_loss: 1.8299 - val_accuracy: 0.4702\n"
          ],
          "name": "stdout"
        },
        {
          "output_type": "execute_result",
          "data": {
            "text/plain": [
              "<tensorflow.python.keras.callbacks.History at 0x7fd84f369fd0>"
            ]
          },
          "metadata": {
            "tags": []
          },
          "execution_count": 83
        }
      ]
    },
    {
      "cell_type": "code",
      "metadata": {
        "id": "IYVrmo1XesAz",
        "colab_type": "code",
        "colab": {}
      },
      "source": [
        "model.save(os.path.join(wandb.run.dir, \"char-rnn-simple.h5\"))"
      ],
      "execution_count": 0,
      "outputs": []
    }
  ]
}