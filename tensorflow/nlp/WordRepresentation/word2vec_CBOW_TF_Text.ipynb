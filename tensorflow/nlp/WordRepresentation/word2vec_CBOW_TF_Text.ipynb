{
  "nbformat": 4,
  "nbformat_minor": 0,
  "metadata": {
    "colab": {
      "name": "word2vec CBOW TF Text.ipynb",
      "provenance": [],
      "collapsed_sections": []
    },
    "kernelspec": {
      "name": "python3",
      "display_name": "Python 3"
    },
    "accelerator": "GPU"
  },
  "cells": [
    {
      "cell_type": "markdown",
      "metadata": {
        "id": "vxK5kasFP6t5",
        "colab_type": "text"
      },
      "source": [
        "# CBOW word2vec with TF Text\n",
        "\n",
        "The CBOW model architecture tries to predict the current target word (the center word) based on the source context words (surrounding words). The rest of this notebook demonstrates how to implement the CBOW model with TensorFlow Text leveraging a publically available dataset. The steps are as follows\n",
        "\n",
        "* Using TF Text to build a vocabulary\n",
        "* Using TF Text to build a CBOW data (context, target) generator\n",
        "* Using TF Keras to build the CBOW model architecture\n",
        "* Using TF Keras to train the CBOW model and get Word Embeddings\n",
        "* Using Sklearn euclidean distances to calculate distance among words and get the k-nearst ones"
      ]
    },
    {
      "cell_type": "markdown",
      "metadata": {
        "id": "U4X2oHeCD1KO",
        "colab_type": "text"
      },
      "source": [
        "![image.png](data:image/png;base64,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)"
      ]
    },
    {
      "cell_type": "code",
      "metadata": {
        "id": "3YDcEZES9xQE",
        "colab_type": "code",
        "outputId": "65c1d2cc-8376-4dcb-e41d-287d0aea368c",
        "colab": {
          "base_uri": "https://localhost:8080/",
          "height": 34
        }
      },
      "source": [
        "try:\n",
        "  %tensorflow_version 2.x\n",
        "except Exception:\n",
        "  pass"
      ],
      "execution_count": 1,
      "outputs": [
        {
          "output_type": "stream",
          "text": [
            "TensorFlow 2.x selected.\n"
          ],
          "name": "stdout"
        }
      ]
    },
    {
      "cell_type": "code",
      "metadata": {
        "id": "Jf9NW5VT9r4b",
        "colab_type": "code",
        "colab": {}
      },
      "source": [
        "%%capture\n",
        "%%bash\n",
        "pip install -q tensorflow_text\n",
        "pip install wandb -q"
      ],
      "execution_count": 0,
      "outputs": []
    },
    {
      "cell_type": "code",
      "metadata": {
        "id": "H1rprAI393ob",
        "colab_type": "code",
        "colab": {}
      },
      "source": [
        "import wandb\n",
        "\n",
        "import re\n",
        "import numpy as np\n",
        "import pandas as pd\n",
        "import tensorflow as tf\n",
        "import tensorflow_text as tftext\n",
        "\n",
        "from tensorflow.keras.models import Sequential\n",
        "from tensorflow.keras.layers import Dense, Embedding, Lambda\n",
        "from tensorflow.keras.utils import plot_model\n",
        "\n",
        "import nltk\n",
        "from nltk.corpus import gutenberg\n",
        "from sklearn.metrics.pairwise import euclidean_distances"
      ],
      "execution_count": 0,
      "outputs": []
    },
    {
      "cell_type": "code",
      "metadata": {
        "id": "XE9naOCBeYmt",
        "colab_type": "code",
        "outputId": "0b95c7c7-57fd-45d2-d3b5-65d1889ec38c",
        "colab": {
          "base_uri": "https://localhost:8080/",
          "height": 34
        }
      },
      "source": [
        "print(\"Num GPUs Available: \", len(tf.config.experimental.list_physical_devices('GPU')))"
      ],
      "execution_count": 4,
      "outputs": [
        {
          "output_type": "stream",
          "text": [
            "Num GPUs Available:  1\n"
          ],
          "name": "stdout"
        }
      ]
    },
    {
      "cell_type": "code",
      "metadata": {
        "id": "2KC1yI9PThGc",
        "colab_type": "code",
        "colab": {
          "base_uri": "https://localhost:8080/",
          "height": 67
        },
        "outputId": "41c1189e-0cbd-418f-9a36-cef47ba978ef"
      },
      "source": [
        "wandb.login()"
      ],
      "execution_count": 5,
      "outputs": [
        {
          "output_type": "display_data",
          "data": {
            "application/javascript": [
              "\n",
              "        window._wandbApiKey = new Promise((resolve, reject) => {\n",
              "            function loadScript(url) {\n",
              "            return new Promise(function(resolve, reject) {\n",
              "                let newScript = document.createElement(\"script\");\n",
              "                newScript.onerror = reject;\n",
              "                newScript.onload = resolve;\n",
              "                document.body.appendChild(newScript);\n",
              "                newScript.src = url;\n",
              "            });\n",
              "            }\n",
              "            loadScript(\"https://cdn.jsdelivr.net/npm/postmate/build/postmate.min.js\").then(() => {\n",
              "            const iframe = document.createElement('iframe')\n",
              "            iframe.style.cssText = \"width:0;height:0;border:none\"\n",
              "            document.body.appendChild(iframe)\n",
              "            const handshake = new Postmate({\n",
              "                container: iframe,\n",
              "                url: 'https://app.wandb.ai/authorize'\n",
              "            });\n",
              "            const timeout = setTimeout(() => reject(\"Couldn't auto authenticate\"), 5000)\n",
              "            handshake.then(function(child) {\n",
              "                child.on('authorize', data => {\n",
              "                    clearTimeout(timeout)\n",
              "                    resolve(data)\n",
              "                });\n",
              "            });\n",
              "            })\n",
              "        });\n",
              "    "
            ],
            "text/plain": [
              "<IPython.core.display.Javascript object>"
            ]
          },
          "metadata": {
            "tags": []
          }
        },
        {
          "output_type": "stream",
          "text": [
            "wandb: Appending key for api.wandb.ai to your netrc file: /root/.netrc\n"
          ],
          "name": "stderr"
        },
        {
          "output_type": "execute_result",
          "data": {
            "text/plain": [
              "True"
            ]
          },
          "metadata": {
            "tags": []
          },
          "execution_count": 5
        }
      ]
    },
    {
      "cell_type": "code",
      "metadata": {
        "id": "2_AWM0jzTlHb",
        "colab_type": "code",
        "colab": {
          "base_uri": "https://localhost:8080/",
          "height": 84
        },
        "outputId": "a701ff03-1f8b-4554-84fc-4a90f5569935"
      },
      "source": [
        "wandb.init(entity = \"dzlab\", project = \"tf-text-cbow\")"
      ],
      "execution_count": 6,
      "outputs": [
        {
          "output_type": "display_data",
          "data": {
            "text/html": [
              "\n",
              "                Logging results to <a href=\"https://wandb.com\" target=\"_blank\">Weights & Biases</a> <a href=\"https://docs.wandb.com/integrations/jupyter.html\" target=\"_blank\">(Documentation)</a>.<br/>\n",
              "                Project page: <a href=\"https://app.wandb.ai/dzlab/tf-text-cbow\" target=\"_blank\">https://app.wandb.ai/dzlab/tf-text-cbow</a><br/>\n",
              "                Run page: <a href=\"https://app.wandb.ai/dzlab/tf-text-cbow/runs/o0vt2tu9\" target=\"_blank\">https://app.wandb.ai/dzlab/tf-text-cbow/runs/o0vt2tu9</a><br/>\n",
              "            "
            ],
            "text/plain": [
              "<IPython.core.display.HTML object>"
            ]
          },
          "metadata": {
            "tags": []
          }
        },
        {
          "output_type": "execute_result",
          "data": {
            "text/plain": [
              "W&B Run: https://app.wandb.ai/dzlab/tf-text-cbow/runs/o0vt2tu9"
            ]
          },
          "metadata": {
            "tags": []
          },
          "execution_count": 6
        }
      ]
    },
    {
      "cell_type": "code",
      "metadata": {
        "id": "T7pfo70wy_Fe",
        "colab_type": "code",
        "colab": {}
      },
      "source": [
        "config = wandb.config\n",
        "config.bs = 64\n",
        "config.window = 2\n",
        "config.shuffle_buffer_size = 1000\n",
        "config.seed = 31\n",
        "config.embed_size = 100"
      ],
      "execution_count": 0,
      "outputs": []
    },
    {
      "cell_type": "markdown",
      "metadata": {
        "id": "gM8EnYFIQK2T",
        "colab_type": "text"
      },
      "source": [
        "## Data"
      ]
    },
    {
      "cell_type": "code",
      "metadata": {
        "id": "EDRPX8ET-1az",
        "colab_type": "code",
        "outputId": "53f0027e-c5ba-40b8-d163-a2e5f1650cd0",
        "colab": {
          "base_uri": "https://localhost:8080/",
          "height": 386
        }
      },
      "source": [
        "nltk.download('gutenberg')\n",
        "nltk.download('punkt')\n",
        "nltk.corpus.gutenberg.fileids()"
      ],
      "execution_count": 8,
      "outputs": [
        {
          "output_type": "stream",
          "text": [
            "[nltk_data] Downloading package gutenberg to /root/nltk_data...\n",
            "[nltk_data]   Unzipping corpora/gutenberg.zip.\n",
            "[nltk_data] Downloading package punkt to /root/nltk_data...\n",
            "[nltk_data]   Unzipping tokenizers/punkt.zip.\n"
          ],
          "name": "stdout"
        },
        {
          "output_type": "execute_result",
          "data": {
            "text/plain": [
              "['austen-emma.txt',\n",
              " 'austen-persuasion.txt',\n",
              " 'austen-sense.txt',\n",
              " 'bible-kjv.txt',\n",
              " 'blake-poems.txt',\n",
              " 'bryant-stories.txt',\n",
              " 'burgess-busterbrown.txt',\n",
              " 'carroll-alice.txt',\n",
              " 'chesterton-ball.txt',\n",
              " 'chesterton-brown.txt',\n",
              " 'chesterton-thursday.txt',\n",
              " 'edgeworth-parents.txt',\n",
              " 'melville-moby_dick.txt',\n",
              " 'milton-paradise.txt',\n",
              " 'shakespeare-caesar.txt',\n",
              " 'shakespeare-hamlet.txt',\n",
              " 'shakespeare-macbeth.txt',\n",
              " 'whitman-leaves.txt']"
            ]
          },
          "metadata": {
            "tags": []
          },
          "execution_count": 8
        }
      ]
    },
    {
      "cell_type": "code",
      "metadata": {
        "id": "pD00ABN7-8k0",
        "colab_type": "code",
        "colab": {}
      },
      "source": [
        "corpus = gutenberg.sents('bible-kjv.txt')"
      ],
      "execution_count": 0,
      "outputs": []
    },
    {
      "cell_type": "markdown",
      "metadata": {
        "id": "kEiWO7daOKn_",
        "colab_type": "text"
      },
      "source": [
        "Combine the text into on giant sentence, this is just to avoid uncessary padding as sentences in this text have different lengths."
      ]
    },
    {
      "cell_type": "code",
      "metadata": {
        "id": "9CPhZ5B3_NEL",
        "colab_type": "code",
        "colab": {}
      },
      "source": [
        "norm_corpus = list(map(lambda s: ' '.join(s), corpus))\n",
        "norm_corpus = [' \\n '.join(norm_corpus)]\n",
        "norm_corpus = [re.sub(\"\\d+|:\", \"\", sentence) for sentence in norm_corpus]"
      ],
      "execution_count": 0,
      "outputs": []
    },
    {
      "cell_type": "markdown",
      "metadata": {
        "id": "uqZxw6r1QOem",
        "colab_type": "text"
      },
      "source": [
        "### Text preprocessing"
      ]
    },
    {
      "cell_type": "markdown",
      "metadata": {
        "id": "fmB4GHiBQbdt",
        "colab_type": "text"
      },
      "source": [
        "#### Vocabulary creation"
      ]
    },
    {
      "cell_type": "markdown",
      "metadata": {
        "id": "h9xIyHU0Lmip",
        "colab_type": "text"
      },
      "source": [
        "A first step of the text processing is to build a vocabulary out of the corpus. We will extract unique words and build a lookup table to map them into a unique numeric identifier."
      ]
    },
    {
      "cell_type": "code",
      "metadata": {
        "id": "Wup2UJPJl1Np",
        "colab_type": "code",
        "colab": {}
      },
      "source": [
        "def tokenize(text):\n",
        "  # Lower case and normalize text\n",
        "  text = tftext.case_fold_utf8(text)\n",
        "  text = tftext.normalize_utf8(text, \"NFD\")\n",
        "  # Tokenize and encode the text\n",
        "  tokens_rt = tokenizer.tokenize(text)\n",
        "  return tokens_rt\n",
        "\n",
        "def create_vocab(text):\n",
        "  # Create vocabulary from text\n",
        "  rt = tokenize(text)\n",
        "  tokens = rt.to_list()[0]\n",
        "  return list(set(tokens))\n",
        "\n",
        "def create_word2index(vocab, num_oov = 1):\n",
        "  # Create a lookup table for a vocabulary\n",
        "  vocab_values = tf.range(tf.size(vocab, out_type=tf.int64), dtype=tf.int64)\n",
        "  init = tf.lookup.KeyValueTensorInitializer(keys=vocab, values=vocab_values, key_dtype=tf.string, value_dtype=tf.int64)\n",
        "  return tf.lookup.StaticVocabularyTable(init, num_oov, lookup_key_dtype=tf.string)\n",
        "\n",
        "def create_index2word(vocab):\n",
        "  # Create a lookup table for a index to token\n",
        "  vocab_values = tf.range(tf.size(vocab, out_type=tf.int64), dtype=tf.int64)\n",
        "  init = tf.lookup.KeyValueTensorInitializer(keys=vocab_values, values=vocab)\n",
        "  return tf.lookup.StaticHashTable(initializer=init, default_value=tf.constant('unk'), name=\"index2word\")"
      ],
      "execution_count": 0,
      "outputs": []
    },
    {
      "cell_type": "code",
      "metadata": {
        "id": "3tkn-eWorP9Z",
        "colab_type": "code",
        "colab": {
          "base_uri": "https://localhost:8080/",
          "height": 87
        },
        "outputId": "a8c3c4b0-1ab1-4425-c9c2-1b807bc50cb7"
      },
      "source": [
        "tokenizer = tftext.UnicodeScriptTokenizer()\n",
        "vocab = create_vocab(['PAD' + ' '.join(norm_corpus)])\n",
        "word2index = create_word2index(vocab)\n",
        "index2word = create_index2word(vocab)"
      ],
      "execution_count": 12,
      "outputs": [
        {
          "output_type": "stream",
          "text": [
            "WARNING:tensorflow:From /tensorflow-2.1.0/python3.6/tensorflow_core/python/util/dispatch.py:180: batch_gather (from tensorflow.python.ops.array_ops) is deprecated and will be removed after 2017-10-25.\n",
            "Instructions for updating:\n",
            "`tf.batch_gather` is deprecated, please use `tf.gather` with `batch_dims=-1` instead.\n"
          ],
          "name": "stdout"
        }
      ]
    },
    {
      "cell_type": "code",
      "metadata": {
        "id": "mhNKgvzUSm5Y",
        "colab_type": "code",
        "colab": {}
      },
      "source": [
        "vocab_size = len(vocab)"
      ],
      "execution_count": 0,
      "outputs": []
    },
    {
      "cell_type": "markdown",
      "metadata": {
        "id": "9OiF11_hQUdH",
        "colab_type": "text"
      },
      "source": [
        "#### CBOW data generation\n",
        "\n",
        "To generate data for training the CBOW model, we need a sliding window of size `2 * side_size + 1`. At each step, we slide the window to the right and generate a training sample that consists of: \n",
        "* A target word which is located in the centre of the window\n",
        "* The concatenation of the sequence of word of size `side_size` on each size."
      ]
    },
    {
      "cell_type": "code",
      "metadata": {
        "id": "mvJ23GTHgOEm",
        "colab_type": "code",
        "colab": {}
      },
      "source": [
        "@tf.function\n",
        "def basic_preprocess(text):\n",
        "  # Tokenize text and create CBOW features/labels\n",
        "  tokens_rt = tokenize(text)\n",
        "  # Create ngrams of size 2*window+1\n",
        "  ngrams = tftext.ngrams(tokens_rt, width=(2*config.window+1), reduction_type=tftext.Reduction.STRING_JOIN, string_separator=' ')\n",
        "  # Extract Context and Target\n",
        "  ngrams = tokenizer.tokenize(ngrams)\n",
        "  ngrams = ngrams.to_tensor()\n",
        "  ngrams = tf.squeeze(ngrams, axis=0)\n",
        "  context = tf.concat(values=[ngrams[:, :2], ngrams[:, -2:]], axis=-1)\n",
        "  target = ngrams[:, 2]\n",
        "  # Encode tokens\n",
        "  features = tf.ragged.map_flat_values(word2index.lookup, context)\n",
        "  labels = tf.ragged.map_flat_values(word2index.lookup, target)\n",
        "  return features, labels"
      ],
      "execution_count": 0,
      "outputs": []
    },
    {
      "cell_type": "code",
      "metadata": {
        "id": "oLkP3bCQzRUq",
        "colab_type": "code",
        "colab": {}
      },
      "source": [
        "text = [\"PAD \"*config.window + sentence + \" PAD\"*config.window for sentence in norm_corpus]\n",
        "train_data = basic_preprocess(text)"
      ],
      "execution_count": 0,
      "outputs": []
    },
    {
      "cell_type": "code",
      "metadata": {
        "id": "u3jHsX5l_9VD",
        "colab_type": "code",
        "colab": {}
      },
      "source": [
        "train_ds = tf.data.Dataset.from_tensor_slices(train_data)\n",
        "train_ds = train_ds.shuffle(config.shuffle_buffer_size, seed=config.seed).batch(config.bs)"
      ],
      "execution_count": 0,
      "outputs": []
    },
    {
      "cell_type": "markdown",
      "metadata": {
        "id": "znzSjqRESUeB",
        "colab_type": "text"
      },
      "source": [
        "Let's have a look to one sample of the training data"
      ]
    },
    {
      "cell_type": "code",
      "metadata": {
        "id": "7bbrU9BiHrXo",
        "colab_type": "code",
        "colab": {
          "base_uri": "https://localhost:8080/",
          "height": 212
        },
        "outputId": "ac5a58e3-131d-4c27-bf86-a8f93e7aee60"
      },
      "source": [
        "dataframe = None\n",
        "for X, y in train_ds.take(1):\n",
        "  print(X.shape, y.shape)\n",
        "  context = index2word.lookup(X[:5]).numpy().tolist()\n",
        "  target = index2word.lookup(y[:5]).numpy()\n",
        "  dataframe = pd.DataFrame(\n",
        "      [c + [t] for c,t in zip(context, target)],\n",
        "      columns=[\"t-2\", \"t-1\", \"t+1\", \"t+2\", \"t\"]\n",
        "    )\n",
        "dataframe.head()"
      ],
      "execution_count": 17,
      "outputs": [
        {
          "output_type": "stream",
          "text": [
            "(64, 4) (64,)\n"
          ],
          "name": "stdout"
        },
        {
          "output_type": "execute_result",
          "data": {
            "text/html": [
              "<div>\n",
              "<style scoped>\n",
              "    .dataframe tbody tr th:only-of-type {\n",
              "        vertical-align: middle;\n",
              "    }\n",
              "\n",
              "    .dataframe tbody tr th {\n",
              "        vertical-align: top;\n",
              "    }\n",
              "\n",
              "    .dataframe thead th {\n",
              "        text-align: right;\n",
              "    }\n",
              "</style>\n",
              "<table border=\"1\" class=\"dataframe\">\n",
              "  <thead>\n",
              "    <tr style=\"text-align: right;\">\n",
              "      <th></th>\n",
              "      <th>t-2</th>\n",
              "      <th>t-1</th>\n",
              "      <th>t+1</th>\n",
              "      <th>t+2</th>\n",
              "      <th>t</th>\n",
              "    </tr>\n",
              "  </thead>\n",
              "  <tbody>\n",
              "    <tr>\n",
              "      <th>0</th>\n",
              "      <td>b'for'</td>\n",
              "      <td>b'lights'</td>\n",
              "      <td>b'the'</td>\n",
              "      <td>b'firmament'</td>\n",
              "      <td>b'in'</td>\n",
              "    </tr>\n",
              "    <tr>\n",
              "      <th>1</th>\n",
              "      <td>b'seed'</td>\n",
              "      <td>b';'</td>\n",
              "      <td>b'you'</td>\n",
              "      <td>b'it'</td>\n",
              "      <td>b'to'</td>\n",
              "    </tr>\n",
              "    <tr>\n",
              "      <th>2</th>\n",
              "      <td>b'that'</td>\n",
              "      <td>b'creepeth'</td>\n",
              "      <td>b'the'</td>\n",
              "      <td>b'earth'</td>\n",
              "      <td>b'upon'</td>\n",
              "    </tr>\n",
              "    <tr>\n",
              "      <th>3</th>\n",
              "      <td>b'seventh'</td>\n",
              "      <td>b'day'</td>\n",
              "      <td>b'and'</td>\n",
              "      <td>b'sanctified'</td>\n",
              "      <td>b','</td>\n",
              "    </tr>\n",
              "    <tr>\n",
              "      <th>4</th>\n",
              "      <td>b'.'</td>\n",
              "      <td>b'and'</td>\n",
              "      <td>b'called'</td>\n",
              "      <td>b'the'</td>\n",
              "      <td>b'god'</td>\n",
              "    </tr>\n",
              "  </tbody>\n",
              "</table>\n",
              "</div>"
            ],
            "text/plain": [
              "          t-2          t-1        t+1            t+2        t\n",
              "0      b'for'    b'lights'     b'the'   b'firmament'    b'in'\n",
              "1     b'seed'         b';'     b'you'          b'it'    b'to'\n",
              "2     b'that'  b'creepeth'     b'the'       b'earth'  b'upon'\n",
              "3  b'seventh'       b'day'     b'and'  b'sanctified'     b','\n",
              "4        b'.'       b'and'  b'called'         b'the'   b'god'"
            ]
          },
          "metadata": {
            "tags": []
          },
          "execution_count": 17
        }
      ]
    },
    {
      "cell_type": "markdown",
      "metadata": {
        "id": "xHpTMcgBP3ph",
        "colab_type": "text"
      },
      "source": [
        "## Model"
      ]
    },
    {
      "cell_type": "code",
      "metadata": {
        "id": "EZ4A6D_BTP1p",
        "colab_type": "code",
        "colab": {}
      },
      "source": [
        "wandb_callback = wandb.keras.WandbCallback(log_weights=True)"
      ],
      "execution_count": 0,
      "outputs": []
    },
    {
      "cell_type": "markdown",
      "metadata": {
        "id": "1NFAZbceSaWX",
        "colab_type": "text"
      },
      "source": [
        "### CBOW architecture\n",
        "We now leverage keras on top of tensorflow to build our deep learning architecture for\n",
        "The CBOW model implementation in TF Keras consists of the following layers (in order):\n",
        "* An embedding layer (initialized with random weights) that will map every word in the vocabulary to a fixed dense vector.\n",
        "* A lambda layer that will average the vectors of all the context words\n",
        "* A dense layer with `softmax` activation which should output the index of target word.\n",
        "\n",
        "A `sparse_categorical_crossentropy` loss function is used to direct the model to output the index of the right target word."
      ]
    },
    {
      "cell_type": "code",
      "metadata": {
        "id": "tfJ9mw63NZF5",
        "colab_type": "code",
        "colab": {}
      },
      "source": [
        "model = Sequential([\n",
        "  Embedding(input_dim=vocab_size, output_dim=config.embed_size, input_length=config.window*2),\n",
        "  Lambda(lambda x: tf.reduce_mean(x, axis=1), output_shape=(config.embed_size,)),\n",
        "  Dense(vocab_size, activation='softmax')\n",
        "])\n",
        "\n",
        "model.compile(loss='sparse_categorical_crossentropy', optimizer='rmsprop')"
      ],
      "execution_count": 0,
      "outputs": []
    },
    {
      "cell_type": "code",
      "metadata": {
        "id": "4wMuhHITTC7I",
        "colab_type": "code",
        "colab": {
          "base_uri": "https://localhost:8080/",
          "height": 252
        },
        "outputId": "30538b66-88b1-47ac-c459-da5789cf4bfc"
      },
      "source": [
        "model.summary()"
      ],
      "execution_count": 20,
      "outputs": [
        {
          "output_type": "stream",
          "text": [
            "Model: \"sequential\"\n",
            "_________________________________________________________________\n",
            "Layer (type)                 Output Shape              Param #   \n",
            "=================================================================\n",
            "embedding (Embedding)        (None, 4, 100)            1259300   \n",
            "_________________________________________________________________\n",
            "lambda (Lambda)              (None, 100)               0         \n",
            "_________________________________________________________________\n",
            "dense (Dense)                (None, 12593)             1271893   \n",
            "=================================================================\n",
            "Total params: 2,531,193\n",
            "Trainable params: 2,531,193\n",
            "Non-trainable params: 0\n",
            "_________________________________________________________________\n"
          ],
          "name": "stdout"
        }
      ]
    },
    {
      "cell_type": "code",
      "metadata": {
        "id": "mfOXdCsVSZ-r",
        "colab_type": "code",
        "colab": {
          "base_uri": "https://localhost:8080/",
          "height": 422
        },
        "outputId": "0bcc5511-b0eb-4328-b542-ca3c537a6c8d"
      },
      "source": [
        "plot_model(model, to_file='tf-text-cbow.png', show_shapes=True)"
      ],
      "execution_count": 21,
      "outputs": [
        {
          "output_type": "execute_result",
          "data": {
            "image/png": "[encoded data removed]",
            "text/plain": [
              "<IPython.core.display.Image object>"
            ]
          },
          "metadata": {
            "tags": []
          },
          "execution_count": 21
        }
      ]
    },
    {
      "cell_type": "markdown",
      "metadata": {
        "id": "zxKvgLHkEBRZ",
        "colab_type": "text"
      },
      "source": [
        "### Train the CBOW model\n",
        "We are now ready to train this model on our corpus\n",
        "Using the data generator to feed in (context, target_word) pairs, we train the CBOW model for up to `10` epochs."
      ]
    },
    {
      "cell_type": "code",
      "metadata": {
        "id": "MXj8gUNSS7gB",
        "colab_type": "code",
        "colab": {
          "base_uri": "https://localhost:8080/",
          "height": 423
        },
        "outputId": "d486dc6c-3c56-44aa-d274-cda1565d6fec"
      },
      "source": [
        "model.fit(train_ds, epochs=10, callbacks=[wandb_callback])"
      ],
      "execution_count": 22,
      "outputs": [
        {
          "output_type": "stream",
          "text": [
            "Train for 14133 steps\n",
            "Epoch 1/10\n",
            "    1/14133 [..............................] - ETA: 9:27:43 - loss: 9.4405WARNING:tensorflow:Method (on_train_batch_end) is slow compared to the batch update (0.277489). Check your callbacks.\n",
            "14133/14133 [==============================] - 208s 15ms/step - loss: 5.1382\n",
            "Epoch 2/10\n",
            "14133/14133 [==============================] - 194s 14ms/step - loss: 5.1070\n",
            "Epoch 3/10\n",
            "14133/14133 [==============================] - 188s 13ms/step - loss: 4.9947\n",
            "Epoch 4/10\n",
            "14133/14133 [==============================] - 172s 12ms/step - loss: 4.8916\n",
            "Epoch 5/10\n",
            "14133/14133 [==============================] - 170s 12ms/step - loss: 4.8306\n",
            "Epoch 6/10\n",
            "14133/14133 [==============================] - 166s 12ms/step - loss: 4.7856\n",
            "Epoch 7/10\n",
            "14133/14133 [==============================] - 170s 12ms/step - loss: 4.7458\n",
            "Epoch 8/10\n",
            "14133/14133 [==============================] - 171s 12ms/step - loss: 4.7145\n",
            "Epoch 9/10\n",
            "14133/14133 [==============================] - 173s 12ms/step - loss: 4.6827\n",
            "Epoch 10/10\n",
            "14133/14133 [==============================] - 179s 13ms/step - loss: 4.6585\n"
          ],
          "name": "stdout"
        },
        {
          "output_type": "execute_result",
          "data": {
            "text/plain": [
              "<tensorflow.python.keras.callbacks.History at 0x7f7f2fc65b70>"
            ]
          },
          "metadata": {
            "tags": []
          },
          "execution_count": 22
        }
      ]
    },
    {
      "cell_type": "markdown",
      "metadata": {
        "id": "5SNudlh6YmU6",
        "colab_type": "text"
      },
      "source": [
        "### Get the word2vec weights\n",
        "\n",
        "Each word in the vocab has a dense embedding of size (1x100)."
      ]
    },
    {
      "cell_type": "code",
      "metadata": {
        "id": "QrPThRz3Ykxq",
        "colab_type": "code",
        "colab": {
          "base_uri": "https://localhost:8080/",
          "height": 34
        },
        "outputId": "59b672ac-149f-4691-935a-5d9b92f4900c"
      },
      "source": [
        "weights = model.get_weights()[0]\n",
        "print(weights.shape)"
      ],
      "execution_count": 31,
      "outputs": [
        {
          "output_type": "stream",
          "text": [
            "(12593, 100)\n"
          ],
          "name": "stdout"
        }
      ]
    },
    {
      "cell_type": "markdown",
      "metadata": {
        "id": "5HTJVk2rYwnr",
        "colab_type": "text"
      },
      "source": [
        "### Contextual similarty\n",
        "\n",
        "#### Compute pairwise distance matrix\n",
        "\n",
        "We can levearage the embeddings that we just trained to find out some contextual similariry among words. For this, we need to do the following:\n",
        "\n",
        "1. Build a pairwise distance matrix betweem all words in our vocabulary based on the embedding vectors.\n",
        "2. Find the n-nearest neighbors of each word based on the shortest (euclidean) distance."
      ]
    },
    {
      "cell_type": "code",
      "metadata": {
        "id": "eVkDacM0YtVj",
        "colab_type": "code",
        "colab": {
          "base_uri": "https://localhost:8080/",
          "height": 34
        },
        "outputId": "14697a83-48c0-4ef0-8636-8a16e3ae5b3f"
      },
      "source": [
        "distance_matrix = euclidean_distances(weights)\n",
        "print(distance_matrix.shape)"
      ],
      "execution_count": 32,
      "outputs": [
        {
          "output_type": "stream",
          "text": [
            "(12593, 12593)\n"
          ],
          "name": "stdout"
        }
      ]
    },
    {
      "cell_type": "markdown",
      "metadata": {
        "id": "ChcaBetgY1Vm",
        "colab_type": "text"
      },
      "source": [
        "#### View contextually similar words\n",
        "\n",
        "We can clearly see that some of the closest words to the initial words make sense contextually (egypt, canaan).\n",
        "This is a good sign as it we can get better embeddings if we train for more epochs."
      ]
    },
    {
      "cell_type": "code",
      "metadata": {
        "id": "wD9gL9BMFMSc",
        "colab_type": "code",
        "colab": {}
      },
      "source": [
        "target = ['god', 'jesus', 'noah', 'egypt', 'john', 'gospel', 'moses','famine']\n",
        "\n",
        "indices = word2index.lookup(tf.constant(target))\n",
        "top5_indices = distance_matrix[indices.numpy()].argsort()[:, 1:6]\n",
        "top5 = index2word.lookup(tf.constant(top5_indices)).numpy().tolist()"
      ],
      "execution_count": 0,
      "outputs": []
    },
    {
      "cell_type": "code",
      "metadata": {
        "id": "6baThQh1UAcM",
        "colab_type": "code",
        "colab": {
          "base_uri": "https://localhost:8080/",
          "height": 284
        },
        "outputId": "6d6dbbc8-0095-4a1e-ef8d-4e0e793217b8"
      },
      "source": [
        "pd.DataFrame(\n",
        "  [[t]+c for c,t in zip(top5, target)],\n",
        "  columns=[\"word\", \"top1\", \"top2\", \"top3\", \"top4\", \"top5\"]\n",
        ")"
      ],
      "execution_count": 49,
      "outputs": [
        {
          "output_type": "execute_result",
          "data": {
            "text/html": [
              "<div>\n",
              "<style scoped>\n",
              "    .dataframe tbody tr th:only-of-type {\n",
              "        vertical-align: middle;\n",
              "    }\n",
              "\n",
              "    .dataframe tbody tr th {\n",
              "        vertical-align: top;\n",
              "    }\n",
              "\n",
              "    .dataframe thead th {\n",
              "        text-align: right;\n",
              "    }\n",
              "</style>\n",
              "<table border=\"1\" class=\"dataframe\">\n",
              "  <thead>\n",
              "    <tr style=\"text-align: right;\">\n",
              "      <th></th>\n",
              "      <th>word</th>\n",
              "      <th>top1</th>\n",
              "      <th>top2</th>\n",
              "      <th>top3</th>\n",
              "      <th>top4</th>\n",
              "      <th>top5</th>\n",
              "    </tr>\n",
              "  </thead>\n",
              "  <tbody>\n",
              "    <tr>\n",
              "      <th>0</th>\n",
              "      <td>god</td>\n",
              "      <td>b'wherefore'</td>\n",
              "      <td>b'being'</td>\n",
              "      <td>b'things'</td>\n",
              "      <td>b'evil'</td>\n",
              "      <td>b'heart'</td>\n",
              "    </tr>\n",
              "    <tr>\n",
              "      <th>1</th>\n",
              "      <td>jesus</td>\n",
              "      <td>b'john'</td>\n",
              "      <td>b'peter'</td>\n",
              "      <td>b'simon'</td>\n",
              "      <td>b'paul'</td>\n",
              "      <td>b'named'</td>\n",
              "    </tr>\n",
              "    <tr>\n",
              "      <th>2</th>\n",
              "      <td>noah</td>\n",
              "      <td>b'nahor'</td>\n",
              "      <td>b'milcah'</td>\n",
              "      <td>b'arphaxad'</td>\n",
              "      <td>b'shelah'</td>\n",
              "      <td>b'terah'</td>\n",
              "    </tr>\n",
              "    <tr>\n",
              "      <th>3</th>\n",
              "      <td>egypt</td>\n",
              "      <td>b'canaan'</td>\n",
              "      <td>b'edom'</td>\n",
              "      <td>b'moab'</td>\n",
              "      <td>b'gilead'</td>\n",
              "      <td>b'bashan'</td>\n",
              "    </tr>\n",
              "    <tr>\n",
              "      <th>4</th>\n",
              "      <td>john</td>\n",
              "      <td>b'simon'</td>\n",
              "      <td>b'peter'</td>\n",
              "      <td>b'judas'</td>\n",
              "      <td>b'philip'</td>\n",
              "      <td>b'iscariot'</td>\n",
              "    </tr>\n",
              "    <tr>\n",
              "      <th>5</th>\n",
              "      <td>gospel</td>\n",
              "      <td>b'baptism'</td>\n",
              "      <td>b'preaching'</td>\n",
              "      <td>b'baptist'</td>\n",
              "      <td>b'preach'</td>\n",
              "      <td>b'gift'</td>\n",
              "    </tr>\n",
              "    <tr>\n",
              "      <th>6</th>\n",
              "      <td>moses</td>\n",
              "      <td>b'david'</td>\n",
              "      <td>b'joseph'</td>\n",
              "      <td>b'saul'</td>\n",
              "      <td>b'esau'</td>\n",
              "      <td>b'abraham'</td>\n",
              "    </tr>\n",
              "    <tr>\n",
              "      <th>7</th>\n",
              "      <td>famine</td>\n",
              "      <td>b'pestilence'</td>\n",
              "      <td>b'stork'</td>\n",
              "      <td>b'pots'</td>\n",
              "      <td>b'amorite'</td>\n",
              "      <td>b'bases'</td>\n",
              "    </tr>\n",
              "  </tbody>\n",
              "</table>\n",
              "</div>"
            ],
            "text/plain": [
              "     word           top1          top2         top3        top4         top5\n",
              "0     god   b'wherefore'      b'being'    b'things'     b'evil'     b'heart'\n",
              "1   jesus        b'john'      b'peter'     b'simon'     b'paul'     b'named'\n",
              "2    noah       b'nahor'     b'milcah'  b'arphaxad'   b'shelah'     b'terah'\n",
              "3   egypt      b'canaan'       b'edom'      b'moab'   b'gilead'    b'bashan'\n",
              "4    john       b'simon'      b'peter'     b'judas'   b'philip'  b'iscariot'\n",
              "5  gospel     b'baptism'  b'preaching'   b'baptist'   b'preach'      b'gift'\n",
              "6   moses       b'david'     b'joseph'      b'saul'     b'esau'   b'abraham'\n",
              "7  famine  b'pestilence'      b'stork'      b'pots'  b'amorite'     b'bases'"
            ]
          },
          "metadata": {
            "tags": []
          },
          "execution_count": 49
        }
      ]
    },
    {
      "cell_type": "markdown",
      "metadata": {
        "id": "ewPMGwMZHEsc",
        "colab_type": "text"
      },
      "source": [
        "Next, we will explore the skip-gram architecture which often gives better results than CBOW."
      ]
    },
    {
      "cell_type": "code",
      "metadata": {
        "id": "zcPsRHFoBZ84",
        "colab_type": "code",
        "colab": {}
      },
      "source": [
        ""
      ],
      "execution_count": 0,
      "outputs": []
    }
  ]
}