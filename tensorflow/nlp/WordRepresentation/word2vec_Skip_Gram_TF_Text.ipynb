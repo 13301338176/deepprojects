{
  "nbformat": 4,
  "nbformat_minor": 0,
  "metadata": {
    "colab": {
      "name": "word2vec Skip-Gram TF Text.ipynb",
      "provenance": [],
      "collapsed_sections": []
    },
    "kernelspec": {
      "name": "python3",
      "display_name": "Python 3"
    },
    "accelerator": "GPU"
  },
  "cells": [
    {
      "cell_type": "markdown",
      "metadata": {
        "id": "Og1Am_Y2fx6C",
        "colab_type": "text"
      },
      "source": [
        "# Skip-Gram word2vec with TF Text\n",
        "\n",
        "The Skip-Gram model architecture tries to predict the context word given the current target word (the center word) which is the opposite to what CBOW does. The rest of this notebook demonstrates how to implement the Skip-Gram model with TensorFlow Text leveraging a publically available dataset. The steps are as follows\n",
        "\n",
        "* Using TF Text to build a vocabulary\n",
        "* Using TF Text to build a Skip-Gram data (target, context) generator\n",
        "* Using TF Keras to build the Skip-Gram model architecture\n",
        "* Using TF Keras to train the Skip-Gram model and get Word Embeddings\n",
        "* Using Sklearn euclidean distances to calculate distance among words and get the k-nearst ones"
      ]
    },
    {
      "cell_type": "markdown",
      "metadata": {
        "id": "T7ZXYIv8kxUB",
        "colab_type": "text"
      },
      "source": [
        "![image.png](data:image/png;base64,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)"
      ]
    },
    {
      "cell_type": "code",
      "metadata": {
        "id": "_I4N7hHCfgxf",
        "colab_type": "code",
        "outputId": "1a1406c4-5dae-400c-f948-85ca07782d5a",
        "colab": {
          "base_uri": "https://localhost:8080/",
          "height": 34
        }
      },
      "source": [
        "try:\n",
        "  %tensorflow_version 2.x\n",
        "except Exception:\n",
        "  pass"
      ],
      "execution_count": 1,
      "outputs": [
        {
          "output_type": "stream",
          "text": [
            "TensorFlow 2.x selected.\n"
          ],
          "name": "stdout"
        }
      ]
    },
    {
      "cell_type": "code",
      "metadata": {
        "id": "YUvMko3-f4PL",
        "colab_type": "code",
        "colab": {}
      },
      "source": [
        "%%capture\n",
        "%%bash\n",
        "pip install -q tensorflow_text\n",
        "pip install -q comet_ml"
      ],
      "execution_count": 0,
      "outputs": []
    },
    {
      "cell_type": "code",
      "metadata": {
        "id": "M9sco4WMf51e",
        "colab_type": "code",
        "colab": {}
      },
      "source": [
        "from comet_ml import Experiment\n",
        "\n",
        "import re\n",
        "import string\n",
        "import numpy as np\n",
        "import pandas as pd\n",
        "import matplotlib.pyplot as plt\n",
        "import tensorflow as tf\n",
        "import tensorflow_text as tftext\n",
        "\n",
        "from collections import Counter\n",
        "\n",
        "from tensorflow.keras.models import Model\n",
        "from tensorflow.keras.layers import Input, Dense, Embedding, Dot, Reshape\n",
        "from tensorflow.keras.utils import plot_model\n",
        "\n",
        "import nltk\n",
        "from nltk.corpus import stopwords\n",
        "from nltk.corpus import gutenberg\n",
        "from sklearn.metrics.pairwise import euclidean_distances\n",
        "from sklearn.manifold import TSNE"
      ],
      "execution_count": 0,
      "outputs": []
    },
    {
      "cell_type": "code",
      "metadata": {
        "id": "K_4sgu6OgBeV",
        "colab_type": "code",
        "outputId": "8a9b4875-22b5-4598-b7c0-09c87e2736f0",
        "colab": {
          "base_uri": "https://localhost:8080/",
          "height": 34
        }
      },
      "source": [
        "print(\"Num GPUs Available: \", len(tf.config.experimental.list_physical_devices('GPU')))"
      ],
      "execution_count": 4,
      "outputs": [
        {
          "output_type": "stream",
          "text": [
            "Num GPUs Available:  1\n"
          ],
          "name": "stdout"
        }
      ]
    },
    {
      "cell_type": "code",
      "metadata": {
        "id": "Jc0ci4fbwZCF",
        "colab_type": "code",
        "colab": {}
      },
      "source": [
        "COMET_API_KEY = 'N9ue7hxUF8fHmAunfA0EEaYbg'"
      ],
      "execution_count": 0,
      "outputs": []
    },
    {
      "cell_type": "code",
      "metadata": {
        "id": "2d3KOjCrgGLR",
        "colab_type": "code",
        "outputId": "f950a0ae-4347-47d9-bd9e-9dd7767acddd",
        "colab": {
          "base_uri": "https://localhost:8080/",
          "height": 50
        }
      },
      "source": [
        "%%capture\n",
        "experiment = Experiment(\n",
        "  api_key=COMET_API_KEY,\n",
        "  project_name=\"tf-text-skipgram\", workspace=\"dzlab\",\n",
        "  auto_param_logging=True, auto_metric_logging=True\n",
        ")"
      ],
      "execution_count": 6,
      "outputs": [
        {
          "output_type": "stream",
          "text": [
            "COMET INFO: Experiment is live on comet.ml https://www.comet.ml/dzlab/tf-text-skipgram/1e62038ebb1a4263bd3e5689932f79c2\n",
            "\n"
          ],
          "name": "stderr"
        }
      ]
    },
    {
      "cell_type": "code",
      "metadata": {
        "id": "6vIGh715gJZe",
        "colab_type": "code",
        "colab": {}
      },
      "source": [
        "class config: pass\n",
        "config.bs = 64\n",
        "config.window = 2\n",
        "config.shuffle_buffer_size = 1000\n",
        "config.seed = 31\n",
        "config.embed_size = 100"
      ],
      "execution_count": 0,
      "outputs": []
    },
    {
      "cell_type": "code",
      "metadata": {
        "id": "YizJVRSylN0K",
        "colab_type": "code",
        "colab": {}
      },
      "source": [
        "experiment.log_parameters(vars(config))"
      ],
      "execution_count": 0,
      "outputs": []
    },
    {
      "cell_type": "code",
      "metadata": {
        "id": "zfaFHn-p_eEZ",
        "colab_type": "code",
        "colab": {}
      },
      "source": [
        "np.random.seed(config.seed)"
      ],
      "execution_count": 0,
      "outputs": []
    },
    {
      "cell_type": "markdown",
      "metadata": {
        "id": "GryclR6YgQao",
        "colab_type": "text"
      },
      "source": [
        "## Data"
      ]
    },
    {
      "cell_type": "code",
      "metadata": {
        "id": "C1VcIfEMgPQw",
        "colab_type": "code",
        "colab": {}
      },
      "source": [
        "%%capture\n",
        "nltk.download('gutenberg')\n",
        "nltk.download('punkt')\n",
        "nltk.download('stopwords')\n",
        "nltk.corpus.gutenberg.fileids()"
      ],
      "execution_count": 0,
      "outputs": []
    },
    {
      "cell_type": "code",
      "metadata": {
        "id": "P1cehZJkgS4P",
        "colab_type": "code",
        "colab": {}
      },
      "source": [
        "corpus = gutenberg.sents('bible-kjv.txt')"
      ],
      "execution_count": 0,
      "outputs": []
    },
    {
      "cell_type": "code",
      "metadata": {
        "id": "-O2GdHTIgUfd",
        "colab_type": "code",
        "colab": {}
      },
      "source": [
        "norm_corpus = list(map(lambda s: ' '.join(s), corpus))\n",
        "norm_corpus = [' \\n '.join(norm_corpus)]\n",
        "norm_corpus = [re.sub(\"\\d+|:|\\[|\\]\", \"\", sentence) for sentence in norm_corpus]\n",
        "# remove punctuation\n",
        "cleaner = str.maketrans(string.punctuation, ' '*len(string.punctuation))\n",
        "norm_corpus = [sentence.translate(cleaner) for sentence in norm_corpus]"
      ],
      "execution_count": 0,
      "outputs": []
    },
    {
      "cell_type": "markdown",
      "metadata": {
        "id": "MpsB6Boi4PTp",
        "colab_type": "text"
      },
      "source": [
        "Calculate score for subsampling frequent words"
      ]
    },
    {
      "cell_type": "code",
      "metadata": {
        "id": "nFsWFPVu3SXp",
        "colab_type": "code",
        "colab": {}
      },
      "source": [
        "words = ''.join(norm_corpus).lower().split()\n",
        "counts = Counter(words)\n",
        "words_total = len(words)\n",
        "threshold = 1.0 / (words_total + 1)"
      ],
      "execution_count": 0,
      "outputs": []
    },
    {
      "cell_type": "code",
      "metadata": {
        "id": "KuDEiEWs4GWw",
        "colab_type": "code",
        "colab": {}
      },
      "source": [
        "word2score = {}\n",
        "for word,count in counts.items():\n",
        "    freq = count / words_total\n",
        "    word2score[word] = 1 - np.sqrt(threshold / freq)"
      ],
      "execution_count": 0,
      "outputs": []
    },
    {
      "cell_type": "code",
      "metadata": {
        "id": "ADq8fXwDBGvd",
        "colab_type": "code",
        "outputId": "e0e81946-7559-4721-f898-331ff7b15274",
        "colab": {
          "base_uri": "https://localhost:8080/",
          "height": 421
        }
      },
      "source": [
        "scores = list(word2score.values())\n",
        "plt.figure(figsize=(5, 5))\n",
        "plt.hist(scores)"
      ],
      "execution_count": 20,
      "outputs": [
        {
          "output_type": "execute_result",
          "data": {
            "text/plain": [
              "(array([3951.,    0., 1739.,    0.,  971., 1530., 1020., 1358., 1239.,\n",
              "         760.]),\n",
              " array([6.31438502e-07, 9.96053548e-02, 1.99210078e-01, 2.98814802e-01,\n",
              "        3.98419525e-01, 4.98024248e-01, 5.97628972e-01, 6.97233695e-01,\n",
              "        7.96838419e-01, 8.96443142e-01, 9.96047866e-01]),\n",
              " <a list of 10 Patch objects>)"
            ]
          },
          "metadata": {
            "tags": []
          },
          "execution_count": 20
        },
        {
          "output_type": "display_data",
          "data": {
            "image/png": "[encoded data removed]",
            "text/plain": [
              "<Figure size 360x360 with 1 Axes>"
            ]
          },
          "metadata": {
            "tags": []
          }
        }
      ]
    },
    {
      "cell_type": "markdown",
      "metadata": {
        "id": "nB61RLXf-VE6",
        "colab_type": "text"
      },
      "source": [
        "Use the scoring function to remove stop words and subsample the rest"
      ]
    },
    {
      "cell_type": "code",
      "metadata": {
        "id": "cRKEN4fK-5nu",
        "colab_type": "code",
        "colab": {}
      },
      "source": [
        "english_stopwords = set(stopwords.words('english'))"
      ],
      "execution_count": 0,
      "outputs": []
    },
    {
      "cell_type": "code",
      "metadata": {
        "id": "87eeGa-N-ULG",
        "colab_type": "code",
        "colab": {}
      },
      "source": [
        "def subsample_stopwords(word):\n",
        "  word = word.lower()\n",
        "  if word in english_stopwords and word2score<np.random.rand():\n",
        "    return False\n",
        "  return True\n",
        "\n",
        "def subsample(sentences):\n",
        "  for sentence in sentences:\n",
        "    words = filter(lambda w: w.lower() not in english_stopwords, sentence.split(' '))\n",
        "    yield ' '.join(list(words)) + '.'\n",
        "\n",
        "norm_corpus = list(subsample(norm_corpus))"
      ],
      "execution_count": 0,
      "outputs": []
    },
    {
      "cell_type": "markdown",
      "metadata": {
        "id": "__M_z9r6gXqH",
        "colab_type": "text"
      },
      "source": [
        "## Text preprocessing"
      ]
    },
    {
      "cell_type": "markdown",
      "metadata": {
        "id": "DKHDfob0gaZ6",
        "colab_type": "text"
      },
      "source": [
        "### Vocabulary creation\n",
        "A first step of the text processing is to build a vocabulary out of the corpus. We will extract unique words and build a lookup table to map them into a unique numeric identifier."
      ]
    },
    {
      "cell_type": "code",
      "metadata": {
        "id": "rwhQ_Du8gV5c",
        "colab_type": "code",
        "colab": {}
      },
      "source": [
        "def tokenize(text):\n",
        "  # Lower case and normalize text\n",
        "  text = tftext.case_fold_utf8(text)\n",
        "  text = tftext.normalize_utf8(text, \"NFD\")\n",
        "  # Tokenize and encode the text\n",
        "  tokens_rt = tokenizer.tokenize(text)\n",
        "  return tokens_rt\n",
        "\n",
        "def create_vocab(text):\n",
        "  # Create vocabulary from text\n",
        "  rt = tokenize(text)\n",
        "  tokens = rt.to_list()[0]\n",
        "  return list(set(tokens))\n",
        "\n",
        "def create_word2index(vocab, num_oov = 1):\n",
        "  # Create a lookup table for a vocabulary\n",
        "  vocab_values = tf.range(tf.size(vocab, out_type=tf.int64), dtype=tf.int64)\n",
        "  init = tf.lookup.KeyValueTensorInitializer(keys=vocab, values=vocab_values, key_dtype=tf.string, value_dtype=tf.int64)\n",
        "  return tf.lookup.StaticVocabularyTable(init, num_oov, lookup_key_dtype=tf.string)\n",
        "\n",
        "def create_index2word(vocab):\n",
        "  # Create a lookup table for a index to token\n",
        "  vocab_values = tf.range(tf.size(vocab, out_type=tf.int64), dtype=tf.int64)\n",
        "  init = tf.lookup.KeyValueTensorInitializer(keys=vocab_values, values=vocab)\n",
        "  return tf.lookup.StaticHashTable(initializer=init, default_value=tf.constant('unk'), name=\"index2word\")"
      ],
      "execution_count": 0,
      "outputs": []
    },
    {
      "cell_type": "code",
      "metadata": {
        "id": "AH5vIpbZgf1-",
        "colab_type": "code",
        "colab": {
          "base_uri": "https://localhost:8080/",
          "height": 87
        },
        "outputId": "d4d8692a-16a6-4774-aecb-94508905126c"
      },
      "source": [
        "tokenizer = tftext.UnicodeScriptTokenizer()\n",
        "vocab = create_vocab([' '.join(norm_corpus)])\n",
        "word2index = create_word2index(vocab)\n",
        "index2word = create_index2word(vocab)"
      ],
      "execution_count": 24,
      "outputs": [
        {
          "output_type": "stream",
          "text": [
            "WARNING:tensorflow:From /tensorflow-2.1.0/python3.6/tensorflow_core/python/util/dispatch.py:180: batch_gather (from tensorflow.python.ops.array_ops) is deprecated and will be removed after 2017-10-25.\n",
            "Instructions for updating:\n",
            "`tf.batch_gather` is deprecated, please use `tf.gather` with `batch_dims=-1` instead.\n"
          ],
          "name": "stdout"
        }
      ]
    },
    {
      "cell_type": "code",
      "metadata": {
        "id": "wFw3c4WXgh4a",
        "colab_type": "code",
        "colab": {}
      },
      "source": [
        "vocab_size = len(vocab)"
      ],
      "execution_count": 0,
      "outputs": []
    },
    {
      "cell_type": "markdown",
      "metadata": {
        "id": "9uagoLrWgmtE",
        "colab_type": "text"
      },
      "source": [
        "### Skip-Gram data generation\n",
        "\n",
        "Generates skipgram word pairs from a sequence of words as follow:\n",
        "\n",
        "* ((word, word in the same window), label), with label 1 (positive samples).\n",
        "* ((word, random word from the vocabulary), label), with label 0 (negative samples)."
      ]
    },
    {
      "cell_type": "code",
      "metadata": {
        "id": "9sc2H5qyfXad",
        "colab_type": "code",
        "colab": {}
      },
      "source": [
        "#@tf.function\n",
        "def basic_preprocess(text):\n",
        "  # Tokenize text and create Skip-Gram features/labels\n",
        "  tokens_rt = tokenize(text)\n",
        "  # Create ngrams of size 2*window+1\n",
        "  ngrams = tftext.ngrams(tokens_rt, width=(2*config.window+1), reduction_type=tftext.Reduction.STRING_JOIN, string_separator=' ')\n",
        "  # make ngrams\n",
        "  ngrams = tokenizer.tokenize(ngrams)\n",
        "  ngrams = ngrams.to_tensor()\n",
        "  ngrams = tf.squeeze(ngrams, axis=0)\n",
        "  # take word from the right of the target word\n",
        "  right = tf.concat([ngrams[:, config.window+(i+1)] for i in range(config.window)], axis=0)\n",
        "  # take word from the left of the target word\n",
        "  left = tf.concat([ngrams[:, config.window-(i+1)] for i in range(config.window)], axis=0)\n",
        "  # combine words on right/left into the context\n",
        "  context = tf.concat([left, right], axis=0)\n",
        "  context_en = tf.ragged.map_flat_values(word2index.lookup, context)\n",
        "  # make as much copies of target as there words in the context\n",
        "  target = tf.concat([ngrams[:, config.window] for i in range(2*config.window)], axis=0)\n",
        "  target_en = tf.ragged.map_flat_values(word2index.lookup, target)\n",
        "  # positive labels are 1s\n",
        "  positives_size = target.shape[0]\n",
        "  positive_labels = tf.ones(positives_size)\n",
        "  # negative samples are words not in the target window context\n",
        "  negatives_size = target.shape[0]\n",
        "  negtive_en = tf.random.uniform([negatives_size], minval=0, maxval=vocab_size-1, dtype=tf.dtypes.int64, seed=config.seed)\n",
        "  # negative labels are 0s\n",
        "  negative_labels = tf.zeros(negatives_size)\n",
        "  # concat everything to create training data\n",
        "  features = (tf.concat([target_en, target_en], axis=0), tf.concat([context_en, negtive_en], axis=0))\n",
        "  labels = tf.concat([positive_labels, negative_labels], axis=0)\n",
        "  return features, labels"
      ],
      "execution_count": 0,
      "outputs": []
    },
    {
      "cell_type": "code",
      "metadata": {
        "id": "F8nUBmX855kU",
        "colab_type": "code",
        "colab": {}
      },
      "source": [
        "text = [\"PAD \"*config.window + sentence + \" PAD\"*config.window for sentence in norm_corpus]\n",
        "train_data = basic_preprocess(text)"
      ],
      "execution_count": 0,
      "outputs": []
    },
    {
      "cell_type": "code",
      "metadata": {
        "id": "CXwG-QL43pMR",
        "colab_type": "code",
        "outputId": "b72684d5-e635-4e36-8df9-ddd345c24af6",
        "colab": {
          "base_uri": "https://localhost:8080/",
          "height": 67
        }
      },
      "source": [
        "train_data"
      ],
      "execution_count": 28,
      "outputs": [
        {
          "output_type": "execute_result",
          "data": {
            "text/plain": [
              "((<tf.Tensor: shape=(2999568,), dtype=int64, numpy=array([ 9922,  8327,  6484, ..., 11771, 11883,   970])>,\n",
              "  <tf.Tensor: shape=(2999568,), dtype=int64, numpy=array([12444,  9922,  8327, ...,  5263,  8621,  2604])>),\n",
              " <tf.Tensor: shape=(2999568,), dtype=float32, numpy=array([1., 1., 1., ..., 0., 0., 0.], dtype=float32)>)"
            ]
          },
          "metadata": {
            "tags": []
          },
          "execution_count": 28
        }
      ]
    },
    {
      "cell_type": "code",
      "metadata": {
        "id": "UTAzjCf4-Yr0",
        "colab_type": "code",
        "colab": {}
      },
      "source": [
        "train_ds = tf.data.Dataset.from_tensor_slices(train_data)\n",
        "train_ds = train_ds.shuffle(config.shuffle_buffer_size, seed=config.seed).batch(config.bs)"
      ],
      "execution_count": 0,
      "outputs": []
    },
    {
      "cell_type": "markdown",
      "metadata": {
        "id": "8JoietgAi8du",
        "colab_type": "text"
      },
      "source": [
        "Let's have a look to one sample of the training data"
      ]
    },
    {
      "cell_type": "code",
      "metadata": {
        "id": "TZAkvGWmUH_C",
        "colab_type": "code",
        "outputId": "d8bdf1db-13eb-4204-b17e-6ea45b33c1dd",
        "colab": {
          "base_uri": "https://localhost:8080/",
          "height": 212
        }
      },
      "source": [
        "dataframe = None\n",
        "for X, y in train_ds.take(1):\n",
        "  print(X[0].shape, X[1].shape, y.shape)\n",
        "  word = index2word.lookup(X[0][:5]).numpy().tolist()\n",
        "  context = index2word.lookup(X[1][:5]).numpy().tolist()\n",
        "  target = y[:5].numpy()\n",
        "  dataframe = pd.DataFrame(\n",
        "      [[w, c, t] for w,c,t in zip(word, context, target)],\n",
        "      columns=[\"word\", \"context\", \"label\"]\n",
        "    )\n",
        "dataframe.head()"
      ],
      "execution_count": 30,
      "outputs": [
        {
          "output_type": "stream",
          "text": [
            "(64,) (64,) (64,)\n"
          ],
          "name": "stdout"
        },
        {
          "output_type": "execute_result",
          "data": {
            "text/html": [
              "<div>\n",
              "<style scoped>\n",
              "    .dataframe tbody tr th:only-of-type {\n",
              "        vertical-align: middle;\n",
              "    }\n",
              "\n",
              "    .dataframe tbody tr th {\n",
              "        vertical-align: top;\n",
              "    }\n",
              "\n",
              "    .dataframe thead th {\n",
              "        text-align: right;\n",
              "    }\n",
              "</style>\n",
              "<table border=\"1\" class=\"dataframe\">\n",
              "  <thead>\n",
              "    <tr style=\"text-align: right;\">\n",
              "      <th></th>\n",
              "      <th>word</th>\n",
              "      <th>context</th>\n",
              "      <th>label</th>\n",
              "    </tr>\n",
              "  </thead>\n",
              "  <tbody>\n",
              "    <tr>\n",
              "      <th>0</th>\n",
              "      <td>b'meat'</td>\n",
              "      <td>b'herb'</td>\n",
              "      <td>1.0</td>\n",
              "    </tr>\n",
              "    <tr>\n",
              "      <th>1</th>\n",
              "      <td>b'woman'</td>\n",
              "      <td>b'done'</td>\n",
              "      <td>1.0</td>\n",
              "    </tr>\n",
              "    <tr>\n",
              "      <th>2</th>\n",
              "      <td>b'flesh'</td>\n",
              "      <td>b'bones'</td>\n",
              "      <td>1.0</td>\n",
              "    </tr>\n",
              "    <tr>\n",
              "      <th>3</th>\n",
              "      <td>b'thou'</td>\n",
              "      <td>b'shalt'</td>\n",
              "      <td>1.0</td>\n",
              "    </tr>\n",
              "    <tr>\n",
              "      <th>4</th>\n",
              "      <td>b'dry'</td>\n",
              "      <td>b'called'</td>\n",
              "      <td>1.0</td>\n",
              "    </tr>\n",
              "  </tbody>\n",
              "</table>\n",
              "</div>"
            ],
            "text/plain": [
              "       word    context  label\n",
              "0   b'meat'    b'herb'    1.0\n",
              "1  b'woman'    b'done'    1.0\n",
              "2  b'flesh'   b'bones'    1.0\n",
              "3   b'thou'   b'shalt'    1.0\n",
              "4    b'dry'  b'called'    1.0"
            ]
          },
          "metadata": {
            "tags": []
          },
          "execution_count": 30
        }
      ]
    },
    {
      "cell_type": "markdown",
      "metadata": {
        "id": "JjcxZ6juqV0u",
        "colab_type": "text"
      },
      "source": [
        "## Model"
      ]
    },
    {
      "cell_type": "markdown",
      "metadata": {
        "id": "CYculmaWqaHq",
        "colab_type": "text"
      },
      "source": [
        "### Skip-Gram architecture"
      ]
    },
    {
      "cell_type": "code",
      "metadata": {
        "id": "60GUk4sFqX1O",
        "colab_type": "code",
        "colab": {}
      },
      "source": [
        "word_input = Input(shape=(1,))\n",
        "context_input = Input(shape=(1,))\n",
        "\n",
        "encoder = Embedding(vocab_size +1, config.embed_size,embeddings_initializer=\"glorot_uniform\",input_length=1)\n",
        "reshaper = Reshape((config.embed_size, ))\n",
        "\n",
        "word = reshaper(encoder(word_input))\n",
        "\n",
        "context = reshaper(encoder(context_input))\n",
        "\n",
        "output = Dot(axes=-1)([word, context])\n",
        "output = Dense(1, kernel_initializer=\"glorot_uniform\", activation=\"sigmoid\")(output)\n",
        "\n",
        "model = Model(inputs=[word_input, context_input], outputs=output)\n",
        "model.compile(loss=\"mean_squared_error\", optimizer=\"adam\", metrics=[\"accuracy\"])"
      ],
      "execution_count": 0,
      "outputs": []
    },
    {
      "cell_type": "code",
      "metadata": {
        "id": "hQ3IlZvNrFhl",
        "colab_type": "code",
        "outputId": "25fadd64-0661-487c-8017-b64bbb449462",
        "colab": {
          "base_uri": "https://localhost:8080/",
          "height": 403
        }
      },
      "source": [
        "model.summary()"
      ],
      "execution_count": 32,
      "outputs": [
        {
          "output_type": "stream",
          "text": [
            "Model: \"model\"\n",
            "__________________________________________________________________________________________________\n",
            "Layer (type)                    Output Shape         Param #     Connected to                     \n",
            "==================================================================================================\n",
            "input_1 (InputLayer)            [(None, 1)]          0                                            \n",
            "__________________________________________________________________________________________________\n",
            "input_2 (InputLayer)            [(None, 1)]          0                                            \n",
            "__________________________________________________________________________________________________\n",
            "embedding (Embedding)           (None, 1, 100)       1244500     input_1[0][0]                    \n",
            "                                                                 input_2[0][0]                    \n",
            "__________________________________________________________________________________________________\n",
            "reshape (Reshape)               (None, 100)          0           embedding[0][0]                  \n",
            "                                                                 embedding[1][0]                  \n",
            "__________________________________________________________________________________________________\n",
            "dot (Dot)                       (None, 1)            0           reshape[0][0]                    \n",
            "                                                                 reshape[1][0]                    \n",
            "__________________________________________________________________________________________________\n",
            "dense (Dense)                   (None, 1)            2           dot[0][0]                        \n",
            "==================================================================================================\n",
            "Total params: 1,244,502\n",
            "Trainable params: 1,244,502\n",
            "Non-trainable params: 0\n",
            "__________________________________________________________________________________________________\n"
          ],
          "name": "stdout"
        }
      ]
    },
    {
      "cell_type": "code",
      "metadata": {
        "id": "6HffkI-1v3F-",
        "colab_type": "code",
        "outputId": "07e35a24-bcac-4049-f553-98d3dc068a7f",
        "colab": {
          "base_uri": "https://localhost:8080/",
          "height": 533
        }
      },
      "source": [
        "plot_model(model, to_file='tf-text-skipgram.png', show_shapes=True)"
      ],
      "execution_count": 33,
      "outputs": [
        {
          "output_type": "execute_result",
          "data": {
            "image/png": "[encoded data removed]",
            "text/plain": [
              "<IPython.core.display.Image object>"
            ]
          },
          "metadata": {
            "tags": []
          },
          "execution_count": 33
        }
      ]
    },
    {
      "cell_type": "code",
      "metadata": {
        "id": "pho60bFg2T2a",
        "colab_type": "code",
        "outputId": "8c1c42e1-0d24-48c7-a074-46a99851d143",
        "colab": {
          "base_uri": "https://localhost:8080/",
          "height": 87
        }
      },
      "source": [
        "experiment.log_image('tf-text-skipgram.png')"
      ],
      "execution_count": 34,
      "outputs": [
        {
          "output_type": "execute_result",
          "data": {
            "text/plain": [
              "{'api': 'https://www.comet.ml/api/rest/v1/image/get-image?imageId=2586994750044966ae953e21f20e1f0f&experimentKey=1e62038ebb1a4263bd3e5689932f79c2',\n",
              " 'imageId': '2586994750044966ae953e21f20e1f0f',\n",
              " 'web': 'https://www.comet.ml/api/image/download?imageId=2586994750044966ae953e21f20e1f0f&experimentKey=1e62038ebb1a4263bd3e5689932f79c2'}"
            ]
          },
          "metadata": {
            "tags": []
          },
          "execution_count": 34
        }
      ]
    },
    {
      "cell_type": "code",
      "metadata": {
        "id": "1rtAS3tmwAy_",
        "colab_type": "code",
        "outputId": "598c7a5c-4f4e-4492-f6f1-92d4f1b55ac5",
        "colab": {
          "base_uri": "https://localhost:8080/",
          "height": 454
        }
      },
      "source": [
        "model.fit(train_ds, epochs=10)"
      ],
      "execution_count": 35,
      "outputs": [
        {
          "output_type": "stream",
          "text": [
            "COMET INFO: Ignoring automatic log_parameter('verbose') because 'keras:verbose' is in COMET_LOGGING_PARAMETERS_IGNORE\n",
            "COMET INFO: Ignoring automatic log_parameter('do_validation') because 'keras:do_validation' is in COMET_LOGGING_PARAMETERS_IGNORE\n"
          ],
          "name": "stderr"
        },
        {
          "output_type": "stream",
          "text": [
            "Train for 46869 steps\n",
            "Epoch 1/10\n"
          ],
          "name": "stdout"
        },
        {
          "output_type": "stream",
          "text": [
            "COMET INFO: Ignoring automatic log_metric('batch_batch') because 'keras:batch_batch' is in COMET_LOGGING_METRICS_IGNORE\n",
            "COMET INFO: Ignoring automatic log_metric('batch_size') because 'keras:batch_size' is in COMET_LOGGING_METRICS_IGNORE\n"
          ],
          "name": "stderr"
        },
        {
          "output_type": "stream",
          "text": [
            "46869/46869 [==============================] - 649s 14ms/step - loss: 0.0213 - accuracy: 0.9802\n",
            "Epoch 2/10\n",
            "46869/46869 [==============================] - 614s 13ms/step - loss: 0.0338 - accuracy: 0.9637\n",
            "Epoch 3/10\n",
            "46869/46869 [==============================] - 620s 13ms/step - loss: 0.0495 - accuracy: 0.9462\n",
            "Epoch 4/10\n",
            "46869/46869 [==============================] - 613s 13ms/step - loss: 0.0648 - accuracy: 0.9311\n",
            "Epoch 5/10\n",
            "46869/46869 [==============================] - 627s 13ms/step - loss: 0.0685 - accuracy: 0.9280\n",
            "Epoch 6/10\n",
            "46869/46869 [==============================] - 639s 14ms/step - loss: 0.0693 - accuracy: 0.9278\n",
            "Epoch 7/10\n",
            "46869/46869 [==============================] - 638s 14ms/step - loss: 0.0700 - accuracy: 0.9274\n",
            "Epoch 8/10\n",
            "46869/46869 [==============================] - 645s 14ms/step - loss: 0.0708 - accuracy: 0.9270\n",
            "Epoch 9/10\n",
            "46869/46869 [==============================] - 646s 14ms/step - loss: 0.0713 - accuracy: 0.9266\n",
            "Epoch 10/10\n",
            "46869/46869 [==============================] - 669s 14ms/step - loss: 0.0713 - accuracy: 0.9269\n"
          ],
          "name": "stdout"
        },
        {
          "output_type": "execute_result",
          "data": {
            "text/plain": [
              "<tensorflow.python.keras.callbacks.History at 0x7fc480dccd68>"
            ]
          },
          "metadata": {
            "tags": []
          },
          "execution_count": 35
        }
      ]
    },
    {
      "cell_type": "code",
      "metadata": {
        "id": "Z1kjpGoPst-Y",
        "colab_type": "code",
        "colab": {}
      },
      "source": [
        "model.save('skip-gram.h5')"
      ],
      "execution_count": 0,
      "outputs": []
    },
    {
      "cell_type": "code",
      "metadata": {
        "id": "bejwoKLmszpW",
        "colab_type": "code",
        "colab": {}
      },
      "source": [
        "%%capture\n",
        "experiment.log_model('skip-gram', 'skip-gram.h5', overwrite=True)"
      ],
      "execution_count": 0,
      "outputs": []
    },
    {
      "cell_type": "markdown",
      "metadata": {
        "id": "SIkmqoR-pRkd",
        "colab_type": "text"
      },
      "source": [
        "### Get the word2vec weights\n",
        "Each word in the vocab has a dense embedding of size (1x100)."
      ]
    },
    {
      "cell_type": "code",
      "metadata": {
        "id": "EMM4QNRhwdl4",
        "colab_type": "code",
        "outputId": "c509d206-e70c-4d6c-a2f5-4c8836b15663",
        "colab": {
          "base_uri": "https://localhost:8080/",
          "height": 34
        }
      },
      "source": [
        "weights = model.get_weights()[0]\n",
        "print(weights.shape)"
      ],
      "execution_count": 38,
      "outputs": [
        {
          "output_type": "stream",
          "text": [
            "(12445, 100)\n"
          ],
          "name": "stdout"
        }
      ]
    },
    {
      "cell_type": "markdown",
      "metadata": {
        "id": "be03KNlSpMwK",
        "colab_type": "text"
      },
      "source": [
        "### Contextual similarty\n",
        "#### Compute pairwise distance matrix\n",
        "We can levearage the embeddings that we just trained to find out some contextual similariry among words. For this, we need to do the following:\n",
        "\n",
        "Build a pairwise distance matrix betweem all words in our vocabulary based on the embedding vectors.\n",
        "Find the n-nearest neighbors of each word based on the shortest (euclidean) distance."
      ]
    },
    {
      "cell_type": "code",
      "metadata": {
        "id": "ZF7EB5i-ovvO",
        "colab_type": "code",
        "outputId": "5d0d062a-87ee-42d5-9283-d9228893e222",
        "colab": {
          "base_uri": "https://localhost:8080/",
          "height": 34
        }
      },
      "source": [
        "distance_matrix = euclidean_distances(weights)\n",
        "print(distance_matrix.shape)"
      ],
      "execution_count": 39,
      "outputs": [
        {
          "output_type": "stream",
          "text": [
            "(12445, 12445)\n"
          ],
          "name": "stdout"
        }
      ]
    },
    {
      "cell_type": "markdown",
      "metadata": {
        "id": "6Tj_5VP1pIIh",
        "colab_type": "text"
      },
      "source": [
        "### View contextually similar words\n",
        "We can clearly see that some of the closest words to the initial words make sense contextually (egypt, canaan). This is a good sign as it we can get better embeddings if we train for more epochs.\n",
        "\n"
      ]
    },
    {
      "cell_type": "code",
      "metadata": {
        "id": "U5jhVvGpoyZu",
        "colab_type": "code",
        "colab": {}
      },
      "source": [
        "target = ['god', 'jesus', 'noah', 'egypt', 'john', 'gospel', 'moses','famine']\n",
        "\n",
        "indices = word2index.lookup(tf.constant(target))\n",
        "top5_indices = distance_matrix[indices.numpy()].argsort()[:, 1:6]\n",
        "top5 = index2word.lookup(tf.constant(top5_indices)).numpy().tolist()"
      ],
      "execution_count": 0,
      "outputs": []
    },
    {
      "cell_type": "code",
      "metadata": {
        "id": "dwB0R2oro1a6",
        "colab_type": "code",
        "outputId": "300d3113-aa62-4b84-87a0-d768c36ef0aa",
        "colab": {
          "base_uri": "https://localhost:8080/",
          "height": 284
        }
      },
      "source": [
        "pd.DataFrame(\n",
        "  [[t]+c for c,t in zip(top5, target)],\n",
        "  columns=[\"word\", \"top1\", \"top2\", \"top3\", \"top4\", \"top5\"]\n",
        ")"
      ],
      "execution_count": 41,
      "outputs": [
        {
          "output_type": "execute_result",
          "data": {
            "text/html": [
              "<div>\n",
              "<style scoped>\n",
              "    .dataframe tbody tr th:only-of-type {\n",
              "        vertical-align: middle;\n",
              "    }\n",
              "\n",
              "    .dataframe tbody tr th {\n",
              "        vertical-align: top;\n",
              "    }\n",
              "\n",
              "    .dataframe thead th {\n",
              "        text-align: right;\n",
              "    }\n",
              "</style>\n",
              "<table border=\"1\" class=\"dataframe\">\n",
              "  <thead>\n",
              "    <tr style=\"text-align: right;\">\n",
              "      <th></th>\n",
              "      <th>word</th>\n",
              "      <th>top1</th>\n",
              "      <th>top2</th>\n",
              "      <th>top3</th>\n",
              "      <th>top4</th>\n",
              "      <th>top5</th>\n",
              "    </tr>\n",
              "  </thead>\n",
              "  <tbody>\n",
              "    <tr>\n",
              "      <th>0</th>\n",
              "      <td>god</td>\n",
              "      <td>b'behold'</td>\n",
              "      <td>b'hath'</td>\n",
              "      <td>b'ye'</td>\n",
              "      <td>b'lord'</td>\n",
              "      <td>b'saw'</td>\n",
              "    </tr>\n",
              "    <tr>\n",
              "      <th>1</th>\n",
              "      <td>jesus</td>\n",
              "      <td>b'baptized'</td>\n",
              "      <td>b'crushed'</td>\n",
              "      <td>b'defence'</td>\n",
              "      <td>b'rocks'</td>\n",
              "      <td>b'toi'</td>\n",
              "    </tr>\n",
              "    <tr>\n",
              "      <th>2</th>\n",
              "      <td>noah</td>\n",
              "      <td>b'wives'</td>\n",
              "      <td>b'daughters'</td>\n",
              "      <td>b'generations'</td>\n",
              "      <td>b'eight'</td>\n",
              "      <td>b'forty'</td>\n",
              "    </tr>\n",
              "    <tr>\n",
              "      <th>3</th>\n",
              "      <td>egypt</td>\n",
              "      <td>b'journey'</td>\n",
              "      <td>b'sarah'</td>\n",
              "      <td>b'pillar'</td>\n",
              "      <td>b'dinah'</td>\n",
              "      <td>b'dreamed'</td>\n",
              "    </tr>\n",
              "    <tr>\n",
              "      <th>4</th>\n",
              "      <td>john</td>\n",
              "      <td>b'soldiers'</td>\n",
              "      <td>b'buildeth'</td>\n",
              "      <td>b'bundle'</td>\n",
              "      <td>b'baptism'</td>\n",
              "      <td>b'transgressors'</td>\n",
              "    </tr>\n",
              "    <tr>\n",
              "      <th>5</th>\n",
              "      <td>gospel</td>\n",
              "      <td>b'baptism'</td>\n",
              "      <td>b'publicans'</td>\n",
              "      <td>b'jaws'</td>\n",
              "      <td>b'ravenous'</td>\n",
              "      <td>b'adulterous'</td>\n",
              "    </tr>\n",
              "    <tr>\n",
              "      <th>6</th>\n",
              "      <td>moses</td>\n",
              "      <td>b'jethro'</td>\n",
              "      <td>b'laban'</td>\n",
              "      <td>b'wept'</td>\n",
              "      <td>b'journey'</td>\n",
              "      <td>b'overtook'</td>\n",
              "    </tr>\n",
              "    <tr>\n",
              "      <th>7</th>\n",
              "      <td>famine</td>\n",
              "      <td>b'stolen'</td>\n",
              "      <td>b'alive'</td>\n",
              "      <td>b'sinned'</td>\n",
              "      <td>b'memorial'</td>\n",
              "      <td>b'afflict'</td>\n",
              "    </tr>\n",
              "  </tbody>\n",
              "</table>\n",
              "</div>"
            ],
            "text/plain": [
              "     word         top1  ...         top4              top5\n",
              "0     god    b'behold'  ...      b'lord'            b'saw'\n",
              "1   jesus  b'baptized'  ...     b'rocks'            b'toi'\n",
              "2    noah     b'wives'  ...     b'eight'          b'forty'\n",
              "3   egypt   b'journey'  ...     b'dinah'        b'dreamed'\n",
              "4    john  b'soldiers'  ...   b'baptism'  b'transgressors'\n",
              "5  gospel   b'baptism'  ...  b'ravenous'     b'adulterous'\n",
              "6   moses    b'jethro'  ...   b'journey'       b'overtook'\n",
              "7  famine    b'stolen'  ...  b'memorial'        b'afflict'\n",
              "\n",
              "[8 rows x 6 columns]"
            ]
          },
          "metadata": {
            "tags": []
          },
          "execution_count": 41
        }
      ]
    },
    {
      "cell_type": "markdown",
      "metadata": {
        "id": "XMcvNwEJrMR-",
        "colab_type": "text"
      },
      "source": [
        "Let's visualize this same data uising t-SNE"
      ]
    },
    {
      "cell_type": "code",
      "metadata": {
        "id": "GNW0isQIr2fv",
        "colab_type": "code",
        "outputId": "1d9f6bbd-2fa6-489d-ae4d-0255278422bf",
        "colab": {
          "base_uri": "https://localhost:8080/",
          "height": 34
        }
      },
      "source": [
        "words = sum([[t]+c for c,t in zip(top5, target)], [])\n",
        "ids = word2index.lookup(tf.constant(words)).numpy()\n",
        "vectors = np.array([weights[idx] for idx in ids])\n",
        "print('Total words:', len(words), '\\tWord Embedding shapes:', vectors.shape)"
      ],
      "execution_count": 42,
      "outputs": [
        {
          "output_type": "stream",
          "text": [
            "Total words: 48 \tWord Embedding shapes: (48, 100)\n"
          ],
          "name": "stdout"
        }
      ]
    },
    {
      "cell_type": "markdown",
      "metadata": {
        "id": "3uqb8h8iuXO6",
        "colab_type": "text"
      },
      "source": [
        "Project embeddings into 2dim with t-SNE"
      ]
    },
    {
      "cell_type": "code",
      "metadata": {
        "id": "XGiq4kENsKOW",
        "colab_type": "code",
        "colab": {}
      },
      "source": [
        "tsne = TSNE(n_components=2, random_state=0, n_iter=10000, perplexity=3)\n",
        "np.set_printoptions(suppress=True)\n",
        "T = tsne.fit_transform(vectors)"
      ],
      "execution_count": 0,
      "outputs": []
    },
    {
      "cell_type": "markdown",
      "metadata": {
        "id": "YyVkdzPVuVrn",
        "colab_type": "text"
      },
      "source": [
        "Plot the t-SNE data"
      ]
    },
    {
      "cell_type": "code",
      "metadata": {
        "id": "OYGQw-Zro5PY",
        "colab_type": "code",
        "outputId": "0f25bd14-7e04-4bae-b8dd-1ca46af2a8bf",
        "colab": {
          "base_uri": "https://localhost:8080/",
          "height": 624
        }
      },
      "source": [
        "plt.figure(figsize=(15, 10))\n",
        "plt.scatter(T[:, 0], T[:, 1], c='steelblue', edgecolors='k')\n",
        "for label, x, y in zip(words, T[:, 0], T[:, 1]):\n",
        "  plt.annotate(label, xy=(x+1, y+1), xytext=(0, 0), textcoords='offset points')\n",
        "plt.xlabel('dim 0')\n",
        "plt.ylabel('dim 1')\n",
        "plt.show()\n",
        "plt.savefig('tsne.png')"
      ],
      "execution_count": 44,
      "outputs": [
        {
          "output_type": "display_data",
          "data": {
            "image/png": "[encoded data removed]",
            "text/plain": [
              "<Figure size 1080x720 with 1 Axes>"
            ]
          },
          "metadata": {
            "tags": []
          }
        },
        {
          "output_type": "display_data",
          "data": {
            "text/plain": [
              "<Figure size 432x288 with 0 Axes>"
            ]
          },
          "metadata": {
            "tags": []
          }
        }
      ]
    },
    {
      "cell_type": "code",
      "metadata": {
        "id": "lw4uh7qhu7CU",
        "colab_type": "code",
        "outputId": "4aaff798-819e-4a64-838a-6e0364880cc4",
        "colab": {
          "base_uri": "https://localhost:8080/",
          "height": 87
        }
      },
      "source": [
        "experiment.log_image('tsne.png', overwrite=True)"
      ],
      "execution_count": 45,
      "outputs": [
        {
          "output_type": "execute_result",
          "data": {
            "text/plain": [
              "{'api': 'https://www.comet.ml/api/rest/v1/image/get-image?imageId=f0f5dc01dc0a4a22b7d3f4394aeffe08&experimentKey=1e62038ebb1a4263bd3e5689932f79c2',\n",
              " 'imageId': 'f0f5dc01dc0a4a22b7d3f4394aeffe08',\n",
              " 'web': 'https://www.comet.ml/api/image/download?imageId=f0f5dc01dc0a4a22b7d3f4394aeffe08&experimentKey=1e62038ebb1a4263bd3e5689932f79c2'}"
            ]
          },
          "metadata": {
            "tags": []
          },
          "execution_count": 45
        }
      ]
    },
    {
      "cell_type": "code",
      "metadata": {
        "id": "P0rGlfyhwE-M",
        "colab_type": "code",
        "colab": {}
      },
      "source": [
        ""
      ],
      "execution_count": 0,
      "outputs": []
    }
  ]
}