{
  "nbformat": 4,
  "nbformat_minor": 0,
  "metadata": {
    "colab": {
      "name": "quora-duplicate-questions-textvectorization.ipynb",
      "provenance": [],
      "collapsed_sections": []
    },
    "kernelspec": {
      "name": "python3",
      "display_name": "Python 3"
    },
    "accelerator": "GPU"
  },
  "cells": [
    {
      "cell_type": "markdown",
      "metadata": {
        "id": "DAD_TLSr0fOw",
        "colab_type": "text"
      },
      "source": [
        "# Quora duplicate question identification"
      ]
    },
    {
      "cell_type": "markdown",
      "metadata": {
        "id": "wLlG8vHHbbU1",
        "colab_type": "text"
      },
      "source": [
        "- Model https://www.kaggle.com/c/quora-question-pairs/discussion/33631"
      ]
    },
    {
      "cell_type": "code",
      "metadata": {
        "id": "VjIL_Bsp0Q-F",
        "colab_type": "code",
        "colab": {}
      },
      "source": [
        "%%capture\n",
        "%%bash\n",
        "pip install -q tf-nightly\n",
        "pip install -q comet_ml"
      ],
      "execution_count": 0,
      "outputs": []
    },
    {
      "cell_type": "code",
      "metadata": {
        "id": "wF0EPvMf0vOm",
        "colab_type": "code",
        "colab": {}
      },
      "source": [
        "from comet_ml import Experiment\n",
        "import re\n",
        "import numpy as np\n",
        "import pandas as pd\n",
        "import tensorflow as tf\n",
        "\n",
        "from tensorflow.keras.models import Model\n",
        "from tensorflow.keras.layers import Add, Bidirectional, Concatenate, Dropout, Input, Dense, Embedding, LSTM, Reshape\n",
        "from tensorflow.keras.utils import plot_model\n",
        "\n",
        "from tensorflow.keras.layers.experimental.preprocessing import TextVectorization\n",
        "\n",
        "from sklearn.model_selection import train_test_split"
      ],
      "execution_count": 0,
      "outputs": []
    },
    {
      "cell_type": "code",
      "metadata": {
        "id": "DHyGqb3AEily",
        "colab_type": "code",
        "outputId": "b04af79e-604e-4b22-96e5-75f864817dfe",
        "colab": {
          "base_uri": "https://localhost:8080/",
          "height": 34
        }
      },
      "source": [
        "tf.__version__"
      ],
      "execution_count": 4,
      "outputs": [
        {
          "output_type": "execute_result",
          "data": {
            "text/plain": [
              "'2.2.0-dev20200218'"
            ]
          },
          "metadata": {
            "tags": []
          },
          "execution_count": 4
        }
      ]
    },
    {
      "cell_type": "code",
      "metadata": {
        "id": "9oN2lY1am0i_",
        "colab_type": "code",
        "outputId": "fdd457ec-208c-4a68-82d5-87b8f4ab0d96",
        "colab": {
          "base_uri": "https://localhost:8080/",
          "height": 50
        }
      },
      "source": [
        "experiment = Experiment(api_key=COMET_API_KEY, project_name=\"quora-duplicate-questions\", workspace=\"dzlab\")"
      ],
      "execution_count": 5,
      "outputs": [
        {
          "output_type": "stream",
          "text": [
            "COMET INFO: Experiment is live on comet.ml https://www.comet.ml/dzlab/quora-duplicate-questions/7d9c812f6b5b4aee87eb1fcf68f1970d\n",
            "\n"
          ],
          "name": "stderr"
        }
      ]
    },
    {
      "cell_type": "code",
      "metadata": {
        "id": "-mqi56ro7hE0",
        "colab_type": "code",
        "colab": {}
      },
      "source": [
        "class config: pass\n",
        "config.bs = 64\n",
        "config.seed = 31\n",
        "config.max_tokens = 10000\n",
        "config.max_length = 200\n",
        "config.embed_size = 100\n",
        "config.dropout = 0.3"
      ],
      "execution_count": 0,
      "outputs": []
    },
    {
      "cell_type": "markdown",
      "metadata": {
        "id": "-b_wGWOM7f4X",
        "colab_type": "text"
      },
      "source": [
        "## Data"
      ]
    },
    {
      "cell_type": "code",
      "metadata": {
        "id": "vOKGAy0m2Vs8",
        "colab_type": "code",
        "outputId": "684134b3-bd23-4b8e-ab6a-43d8e05ce47e",
        "colab": {
          "base_uri": "https://localhost:8080/",
          "height": 218
        }
      },
      "source": [
        "%%bash\n",
        "mkdir /root/.kaggle/\n",
        "mv kaggle.json /root/.kaggle/\n",
        "chmod 600 /root/.kaggle/kaggle.json\n",
        "kaggle competitions download -c quora-question-pairs\n",
        "unzip -q train.csv.zip\n",
        "unzip -q test.csv.zip"
      ],
      "execution_count": 9,
      "outputs": [
        {
          "output_type": "stream",
          "text": [
            "Warning: Looks like you're using an outdated API Version, please consider updating (server 1.5.6 / client 1.5.4)\n",
            "Downloading test.csv.zip to /content\n",
            "\n",
            "Downloading sample_submission.csv.zip to /content\n",
            "\n",
            "Downloading train.csv.zip to /content\n",
            "\n",
            "test.csv.zip: Skipping, found more recently modified local copy (use --force to force download)\n"
          ],
          "name": "stdout"
        },
        {
          "output_type": "stream",
          "text": [
            "mkdir: cannot create directory ‘/root/.kaggle/’: File exists\n",
            "\r  0%|          | 0.00/173M [00:00<?, ?B/s]\r  3%|2         | 5.00M/173M [00:00<00:10, 17.0MB/s]\r 17%|#6        | 29.0M/173M [00:00<00:06, 23.6MB/s]\r 21%|##1       | 37.0M/173M [00:00<00:04, 29.0MB/s]\r 25%|##5       | 44.0M/173M [00:00<00:03, 35.3MB/s]\r 29%|##9       | 51.0M/173M [00:00<00:03, 39.9MB/s]\r 47%|####6     | 81.0M/173M [00:01<00:01, 48.6MB/s]\r 64%|######4   | 111M/173M [00:01<00:01, 65.0MB/s] \r 72%|#######2  | 125M/173M [00:01<00:00, 70.4MB/s]\r 85%|########5 | 148M/173M [00:01<00:00, 88.8MB/s]\r 95%|#########4| 164M/173M [00:01<00:00, 86.4MB/s]\r100%|##########| 173M/173M [00:01<00:00, 105MB/s] \n",
            "\r  0%|          | 0.00/4.95M [00:00<?, ?B/s]\r100%|##########| 4.95M/4.95M [00:00<00:00, 40.3MB/s]\n",
            "\r  0%|          | 0.00/21.2M [00:00<?, ?B/s]\r 24%|##3       | 5.00M/21.2M [00:00<00:00, 23.3MB/s]\r 43%|####2     | 9.00M/21.2M [00:00<00:00, 26.8MB/s]\r100%|##########| 21.2M/21.2M [00:00<00:00, 53.5MB/s]\n"
          ],
          "name": "stderr"
        }
      ]
    },
    {
      "cell_type": "code",
      "metadata": {
        "id": "IvcRajqp5PBE",
        "colab_type": "code",
        "colab": {}
      },
      "source": [
        "train_df, valid_df = train_test_split(pd.read_csv('./train.csv'), train_size=0.8, random_state=config.seed)\n",
        "#test_df = pd.read_csv('./test.csv')"
      ],
      "execution_count": 0,
      "outputs": []
    },
    {
      "cell_type": "markdown",
      "metadata": {
        "id": "i0oJDhTR_1jR",
        "colab_type": "text"
      },
      "source": [
        "### EDA"
      ]
    },
    {
      "cell_type": "code",
      "metadata": {
        "id": "vA4vx2NZBLM-",
        "colab_type": "code",
        "outputId": "74650e60-263c-49e4-d777-ac98d47ddd85",
        "colab": {
          "base_uri": "https://localhost:8080/",
          "height": 195
        }
      },
      "source": [
        "train_df.head()"
      ],
      "execution_count": 9,
      "outputs": [
        {
          "output_type": "execute_result",
          "data": {
            "text/html": [
              "<div>\n",
              "<style scoped>\n",
              "    .dataframe tbody tr th:only-of-type {\n",
              "        vertical-align: middle;\n",
              "    }\n",
              "\n",
              "    .dataframe tbody tr th {\n",
              "        vertical-align: top;\n",
              "    }\n",
              "\n",
              "    .dataframe thead th {\n",
              "        text-align: right;\n",
              "    }\n",
              "</style>\n",
              "<table border=\"1\" class=\"dataframe\">\n",
              "  <thead>\n",
              "    <tr style=\"text-align: right;\">\n",
              "      <th></th>\n",
              "      <th>id</th>\n",
              "      <th>qid1</th>\n",
              "      <th>qid2</th>\n",
              "      <th>question1</th>\n",
              "      <th>question2</th>\n",
              "      <th>is_duplicate</th>\n",
              "    </tr>\n",
              "  </thead>\n",
              "  <tbody>\n",
              "    <tr>\n",
              "      <th>72311</th>\n",
              "      <td>72311</td>\n",
              "      <td>41051</td>\n",
              "      <td>124277</td>\n",
              "      <td>If you had $20k to invest in Apple, Google, Fa...</td>\n",
              "      <td>Which is the best Indian stock to buy for long...</td>\n",
              "      <td>0</td>\n",
              "    </tr>\n",
              "    <tr>\n",
              "      <th>382288</th>\n",
              "      <td>382288</td>\n",
              "      <td>514125</td>\n",
              "      <td>514126</td>\n",
              "      <td>What is the Illuminati and what is its function?</td>\n",
              "      <td>What was the Illuminati and how did they origi...</td>\n",
              "      <td>1</td>\n",
              "    </tr>\n",
              "    <tr>\n",
              "      <th>163852</th>\n",
              "      <td>163852</td>\n",
              "      <td>254755</td>\n",
              "      <td>223618</td>\n",
              "      <td>Which are the top five pilot training institut...</td>\n",
              "      <td>What are the best commercial pilot training sc...</td>\n",
              "      <td>0</td>\n",
              "    </tr>\n",
              "    <tr>\n",
              "      <th>202668</th>\n",
              "      <td>202668</td>\n",
              "      <td>305032</td>\n",
              "      <td>56705</td>\n",
              "      <td>How can you wake up earlier?</td>\n",
              "      <td>How do I wake up earlier?</td>\n",
              "      <td>1</td>\n",
              "    </tr>\n",
              "    <tr>\n",
              "      <th>13621</th>\n",
              "      <td>13621</td>\n",
              "      <td>26140</td>\n",
              "      <td>26141</td>\n",
              "      <td>How do you spy on Facebook without a target ph...</td>\n",
              "      <td>What do you do to spy on Facebook messages wit...</td>\n",
              "      <td>1</td>\n",
              "    </tr>\n",
              "  </tbody>\n",
              "</table>\n",
              "</div>"
            ],
            "text/plain": [
              "            id  ...  is_duplicate\n",
              "72311    72311  ...             0\n",
              "382288  382288  ...             1\n",
              "163852  163852  ...             0\n",
              "202668  202668  ...             1\n",
              "13621    13621  ...             1\n",
              "\n",
              "[5 rows x 6 columns]"
            ]
          },
          "metadata": {
            "tags": []
          },
          "execution_count": 9
        }
      ]
    },
    {
      "cell_type": "code",
      "metadata": {
        "id": "DbumuIV5BMTK",
        "colab_type": "code",
        "outputId": "ed7568d1-0868-464e-e8c0-28804ebdcb8f",
        "colab": {
          "base_uri": "https://localhost:8080/",
          "height": 195
        }
      },
      "source": [
        "valid_df.head()"
      ],
      "execution_count": 10,
      "outputs": [
        {
          "output_type": "execute_result",
          "data": {
            "text/html": [
              "<div>\n",
              "<style scoped>\n",
              "    .dataframe tbody tr th:only-of-type {\n",
              "        vertical-align: middle;\n",
              "    }\n",
              "\n",
              "    .dataframe tbody tr th {\n",
              "        vertical-align: top;\n",
              "    }\n",
              "\n",
              "    .dataframe thead th {\n",
              "        text-align: right;\n",
              "    }\n",
              "</style>\n",
              "<table border=\"1\" class=\"dataframe\">\n",
              "  <thead>\n",
              "    <tr style=\"text-align: right;\">\n",
              "      <th></th>\n",
              "      <th>id</th>\n",
              "      <th>qid1</th>\n",
              "      <th>qid2</th>\n",
              "      <th>question1</th>\n",
              "      <th>question2</th>\n",
              "      <th>is_duplicate</th>\n",
              "    </tr>\n",
              "  </thead>\n",
              "  <tbody>\n",
              "    <tr>\n",
              "      <th>87461</th>\n",
              "      <td>87461</td>\n",
              "      <td>147305</td>\n",
              "      <td>53562</td>\n",
              "      <td>Why is Hillary Clinton blamed for the Benghazi...</td>\n",
              "      <td>Why is Hillary Clinton blamed for Benghazi att...</td>\n",
              "      <td>1</td>\n",
              "    </tr>\n",
              "    <tr>\n",
              "      <th>296253</th>\n",
              "      <td>296253</td>\n",
              "      <td>418431</td>\n",
              "      <td>418432</td>\n",
              "      <td>Are pudding eaten cold?</td>\n",
              "      <td>Is yogurt eaten or drunk?</td>\n",
              "      <td>0</td>\n",
              "    </tr>\n",
              "    <tr>\n",
              "      <th>255991</th>\n",
              "      <td>255991</td>\n",
              "      <td>33632</td>\n",
              "      <td>2855</td>\n",
              "      <td>How can I be indifferent to what people think ...</td>\n",
              "      <td>Should I ever care what people think of me?</td>\n",
              "      <td>1</td>\n",
              "    </tr>\n",
              "    <tr>\n",
              "      <th>95728</th>\n",
              "      <td>95728</td>\n",
              "      <td>159582</td>\n",
              "      <td>159583</td>\n",
              "      <td>How many feet are in a mile and a half?</td>\n",
              "      <td>How many feet there are in a mile?</td>\n",
              "      <td>0</td>\n",
              "    </tr>\n",
              "    <tr>\n",
              "      <th>55838</th>\n",
              "      <td>55838</td>\n",
              "      <td>98389</td>\n",
              "      <td>98390</td>\n",
              "      <td>Does long distance relationship work for teen?</td>\n",
              "      <td>Does long distance relationship work for the y...</td>\n",
              "      <td>1</td>\n",
              "    </tr>\n",
              "  </tbody>\n",
              "</table>\n",
              "</div>"
            ],
            "text/plain": [
              "            id  ...  is_duplicate\n",
              "87461    87461  ...             1\n",
              "296253  296253  ...             0\n",
              "255991  255991  ...             1\n",
              "95728    95728  ...             0\n",
              "55838    55838  ...             1\n",
              "\n",
              "[5 rows x 6 columns]"
            ]
          },
          "metadata": {
            "tags": []
          },
          "execution_count": 10
        }
      ]
    },
    {
      "cell_type": "code",
      "metadata": {
        "id": "1fKThWDQwKxr",
        "colab_type": "code",
        "colab": {
          "base_uri": "https://localhost:8080/",
          "height": 294
        },
        "outputId": "506a87fb-5b81-4081-b5d0-a09259801f01"
      },
      "source": [
        "train_df.groupby(\"is_duplicate\").count()['id'].plot.bar(color='blue')\n",
        "valid_df.groupby(\"is_duplicate\").count()['id'].plot.bar(color='orange')"
      ],
      "execution_count": 28,
      "outputs": [
        {
          "output_type": "execute_result",
          "data": {
            "text/plain": [
              "<matplotlib.axes._subplots.AxesSubplot at 0x7f136bdad748>"
            ]
          },
          "metadata": {
            "tags": []
          },
          "execution_count": 28
        },
        {
          "output_type": "display_data",
          "data": {
            "image/png": "[encoded data removed]",
            "text/plain": [
              "<Figure size 432x288 with 1 Axes>"
            ]
          },
          "metadata": {
            "tags": []
          }
        }
      ]
    },
    {
      "cell_type": "code",
      "metadata": {
        "id": "vQRAZtQE_a4P",
        "colab_type": "code",
        "outputId": "6a0a3143-8cb5-4fc2-b256-3a5646352d99",
        "colab": {
          "base_uri": "https://localhost:8080/",
          "height": 282
        }
      },
      "source": [
        "train_df['is_duplicate'].hist(color='blue')\n",
        "valid_df['is_duplicate'].hist(color='orange')"
      ],
      "execution_count": 35,
      "outputs": [
        {
          "output_type": "execute_result",
          "data": {
            "text/plain": [
              "<matplotlib.axes._subplots.AxesSubplot at 0x7fc4189d4128>"
            ]
          },
          "metadata": {
            "tags": []
          },
          "execution_count": 35
        },
        {
          "output_type": "display_data",
          "data": {
            "image/png": "[encoded data removed]",
            "text/plain": [
              "<Figure size 432x288 with 1 Axes>"
            ]
          },
          "metadata": {
            "tags": []
          }
        }
      ]
    },
    {
      "cell_type": "code",
      "metadata": {
        "id": "J3Z5sl2ymNBO",
        "colab_type": "code",
        "colab": {
          "base_uri": "https://localhost:8080/",
          "height": 282
        },
        "outputId": "381a5aa5-ffe8-455d-d033-c72f42aeaf36"
      },
      "source": [
        "train_df['question2'].map(lambda q: len(str(q))).hist(bins=50, color='orange')\n",
        "train_df['question1'].map(lambda q: len(str(q))).hist(bins=50, color='blue')"
      ],
      "execution_count": 36,
      "outputs": [
        {
          "output_type": "execute_result",
          "data": {
            "text/plain": [
              "<matplotlib.axes._subplots.AxesSubplot at 0x7fc3f3987e48>"
            ]
          },
          "metadata": {
            "tags": []
          },
          "execution_count": 36
        },
        {
          "output_type": "display_data",
          "data": {
            "image/png": "[encoded data removed]",
            "text/plain": [
              "<Figure size 432x288 with 1 Axes>"
            ]
          },
          "metadata": {
            "tags": []
          }
        }
      ]
    },
    {
      "cell_type": "markdown",
      "metadata": {
        "id": "xN3kXfr3mDlS",
        "colab_type": "text"
      },
      "source": [
        "### Dataset\n",
        "Create dataset for training"
      ]
    },
    {
      "cell_type": "code",
      "metadata": {
        "id": "yvvGX48W6ico",
        "colab_type": "code",
        "colab": {}
      },
      "source": [
        "train_q1 = np.array(train_df['question1'].values, dtype=np.unicode)\n",
        "train_q2 = np.array(train_df['question2'].values, dtype=np.unicode)\n",
        "train_label = train_df['is_duplicate'].values"
      ],
      "execution_count": 0,
      "outputs": []
    },
    {
      "cell_type": "code",
      "metadata": {
        "id": "lprx3tGqkUPM",
        "colab_type": "code",
        "colab": {}
      },
      "source": [
        "valid_q1 = np.array(valid_df['question1'].values, dtype=np.unicode)\n",
        "valid_q2 = np.array(valid_df['question2'].values, dtype=np.unicode)\n",
        "valid_label = valid_df['is_duplicate'].values"
      ],
      "execution_count": 0,
      "outputs": []
    },
    {
      "cell_type": "code",
      "metadata": {
        "id": "KAz6y8BLGWgX",
        "colab_type": "code",
        "colab": {}
      },
      "source": [
        "train_ds = tf.data.Dataset.from_tensor_slices(((train_q1, train_q2), train_label)).batch(config.bs)\n",
        "valid_ds = tf.data.Dataset.from_tensor_slices(((valid_q1, valid_q2), valid_label)).batch(config.bs)"
      ],
      "execution_count": 0,
      "outputs": []
    },
    {
      "cell_type": "markdown",
      "metadata": {
        "id": "aE03PE6DlmeA",
        "colab_type": "text"
      },
      "source": [
        "## TF-IDF\n",
        "### TextVectorization\n",
        "Initialize a TextVectorization layer and build a vocabulary.\n",
        "\n"
      ]
    },
    {
      "cell_type": "code",
      "metadata": {
        "id": "NtXGEHLy7DUQ",
        "colab_type": "code",
        "colab": {}
      },
      "source": [
        "tfidf_q1 = TextVectorization(\n",
        "  standardize = 'lower_and_strip_punctuation',\n",
        "  split       = 'whitespace',\n",
        "  max_tokens  = config.max_tokens,\n",
        "  output_mode ='tf-idf',\n",
        "  pad_to_max_tokens=False)\n",
        "# adapt on entire dataset to not miss any token\n",
        "tfidf_q1.adapt(np.concatenate((train_q1, valid_q1)))"
      ],
      "execution_count": 0,
      "outputs": []
    },
    {
      "cell_type": "code",
      "metadata": {
        "id": "YUaQaFgrrEjZ",
        "colab_type": "code",
        "outputId": "5229eadb-ed0c-4b54-c51f-058a72973df0",
        "colab": {
          "base_uri": "https://localhost:8080/",
          "height": 155
        }
      },
      "source": [
        "sample_q1 = np.expand_dims(train_q1[:2], axis=-1)\n",
        "pd.DataFrame(tfidf_q1(sample_q1).numpy())"
      ],
      "execution_count": 0,
      "outputs": [
        {
          "output_type": "execute_result",
          "data": {
            "text/html": [
              "<div>\n",
              "<style scoped>\n",
              "    .dataframe tbody tr th:only-of-type {\n",
              "        vertical-align: middle;\n",
              "    }\n",
              "\n",
              "    .dataframe tbody tr th {\n",
              "        vertical-align: top;\n",
              "    }\n",
              "\n",
              "    .dataframe thead th {\n",
              "        text-align: right;\n",
              "    }\n",
              "</style>\n",
              "<table border=\"1\" class=\"dataframe\">\n",
              "  <thead>\n",
              "    <tr style=\"text-align: right;\">\n",
              "      <th></th>\n",
              "      <th>0</th>\n",
              "      <th>1</th>\n",
              "      <th>2</th>\n",
              "      <th>3</th>\n",
              "      <th>4</th>\n",
              "      <th>5</th>\n",
              "      <th>6</th>\n",
              "      <th>7</th>\n",
              "      <th>8</th>\n",
              "      <th>9</th>\n",
              "      <th>10</th>\n",
              "      <th>11</th>\n",
              "      <th>12</th>\n",
              "      <th>13</th>\n",
              "      <th>14</th>\n",
              "      <th>15</th>\n",
              "      <th>16</th>\n",
              "      <th>17</th>\n",
              "      <th>18</th>\n",
              "      <th>19</th>\n",
              "      <th>20</th>\n",
              "      <th>21</th>\n",
              "      <th>22</th>\n",
              "      <th>23</th>\n",
              "      <th>24</th>\n",
              "      <th>25</th>\n",
              "      <th>26</th>\n",
              "      <th>27</th>\n",
              "      <th>28</th>\n",
              "      <th>29</th>\n",
              "      <th>30</th>\n",
              "      <th>31</th>\n",
              "      <th>32</th>\n",
              "      <th>33</th>\n",
              "      <th>34</th>\n",
              "      <th>35</th>\n",
              "      <th>36</th>\n",
              "      <th>37</th>\n",
              "      <th>38</th>\n",
              "      <th>39</th>\n",
              "      <th>...</th>\n",
              "      <th>9960</th>\n",
              "      <th>9961</th>\n",
              "      <th>9962</th>\n",
              "      <th>9963</th>\n",
              "      <th>9964</th>\n",
              "      <th>9965</th>\n",
              "      <th>9966</th>\n",
              "      <th>9967</th>\n",
              "      <th>9968</th>\n",
              "      <th>9969</th>\n",
              "      <th>9970</th>\n",
              "      <th>9971</th>\n",
              "      <th>9972</th>\n",
              "      <th>9973</th>\n",
              "      <th>9974</th>\n",
              "      <th>9975</th>\n",
              "      <th>9976</th>\n",
              "      <th>9977</th>\n",
              "      <th>9978</th>\n",
              "      <th>9979</th>\n",
              "      <th>9980</th>\n",
              "      <th>9981</th>\n",
              "      <th>9982</th>\n",
              "      <th>9983</th>\n",
              "      <th>9984</th>\n",
              "      <th>9985</th>\n",
              "      <th>9986</th>\n",
              "      <th>9987</th>\n",
              "      <th>9988</th>\n",
              "      <th>9989</th>\n",
              "      <th>9990</th>\n",
              "      <th>9991</th>\n",
              "      <th>9992</th>\n",
              "      <th>9993</th>\n",
              "      <th>9994</th>\n",
              "      <th>9995</th>\n",
              "      <th>9996</th>\n",
              "      <th>9997</th>\n",
              "      <th>9998</th>\n",
              "      <th>9999</th>\n",
              "    </tr>\n",
              "  </thead>\n",
              "  <tbody>\n",
              "    <tr>\n",
              "      <th>0</th>\n",
              "      <td>12.90989</td>\n",
              "      <td>1.292918</td>\n",
              "      <td>0.000000</td>\n",
              "      <td>0.000000</td>\n",
              "      <td>0.0</td>\n",
              "      <td>0.0</td>\n",
              "      <td>0.0</td>\n",
              "      <td>3.451042</td>\n",
              "      <td>1.708668</td>\n",
              "      <td>0.0</td>\n",
              "      <td>0.0</td>\n",
              "      <td>0.0</td>\n",
              "      <td>2.029923</td>\n",
              "      <td>0.0</td>\n",
              "      <td>0.0</td>\n",
              "      <td>2.4436</td>\n",
              "      <td>2.387749</td>\n",
              "      <td>2.557253</td>\n",
              "      <td>0.0</td>\n",
              "      <td>0.0</td>\n",
              "      <td>0.0</td>\n",
              "      <td>0.0</td>\n",
              "      <td>2.978023</td>\n",
              "      <td>3.022346</td>\n",
              "      <td>3.029408</td>\n",
              "      <td>0.0</td>\n",
              "      <td>0.0</td>\n",
              "      <td>0.0</td>\n",
              "      <td>0.0</td>\n",
              "      <td>0.0</td>\n",
              "      <td>0.0</td>\n",
              "      <td>0.0</td>\n",
              "      <td>0.0</td>\n",
              "      <td>0.0</td>\n",
              "      <td>0.0</td>\n",
              "      <td>0.0</td>\n",
              "      <td>0.0</td>\n",
              "      <td>0.0</td>\n",
              "      <td>0.0</td>\n",
              "      <td>0.0</td>\n",
              "      <td>...</td>\n",
              "      <td>0.0</td>\n",
              "      <td>0.0</td>\n",
              "      <td>0.0</td>\n",
              "      <td>0.0</td>\n",
              "      <td>0.0</td>\n",
              "      <td>0.0</td>\n",
              "      <td>0.0</td>\n",
              "      <td>0.0</td>\n",
              "      <td>0.0</td>\n",
              "      <td>0.0</td>\n",
              "      <td>0.0</td>\n",
              "      <td>0.0</td>\n",
              "      <td>0.0</td>\n",
              "      <td>0.0</td>\n",
              "      <td>0.0</td>\n",
              "      <td>0.0</td>\n",
              "      <td>0.0</td>\n",
              "      <td>0.0</td>\n",
              "      <td>0.0</td>\n",
              "      <td>0.0</td>\n",
              "      <td>0.0</td>\n",
              "      <td>0.0</td>\n",
              "      <td>0.0</td>\n",
              "      <td>0.0</td>\n",
              "      <td>0.0</td>\n",
              "      <td>0.0</td>\n",
              "      <td>0.0</td>\n",
              "      <td>0.0</td>\n",
              "      <td>0.0</td>\n",
              "      <td>0.0</td>\n",
              "      <td>0.0</td>\n",
              "      <td>0.0</td>\n",
              "      <td>0.0</td>\n",
              "      <td>0.0</td>\n",
              "      <td>0.0</td>\n",
              "      <td>0.0</td>\n",
              "      <td>0.0</td>\n",
              "      <td>0.0</td>\n",
              "      <td>0.0</td>\n",
              "      <td>0.0</td>\n",
              "    </tr>\n",
              "    <tr>\n",
              "      <th>1</th>\n",
              "      <td>0.00000</td>\n",
              "      <td>1.292918</td>\n",
              "      <td>2.589466</td>\n",
              "      <td>2.858114</td>\n",
              "      <td>0.0</td>\n",
              "      <td>0.0</td>\n",
              "      <td>0.0</td>\n",
              "      <td>0.000000</td>\n",
              "      <td>0.000000</td>\n",
              "      <td>0.0</td>\n",
              "      <td>0.0</td>\n",
              "      <td>0.0</td>\n",
              "      <td>2.029923</td>\n",
              "      <td>0.0</td>\n",
              "      <td>0.0</td>\n",
              "      <td>0.0000</td>\n",
              "      <td>0.000000</td>\n",
              "      <td>0.000000</td>\n",
              "      <td>0.0</td>\n",
              "      <td>0.0</td>\n",
              "      <td>0.0</td>\n",
              "      <td>0.0</td>\n",
              "      <td>0.000000</td>\n",
              "      <td>0.000000</td>\n",
              "      <td>0.000000</td>\n",
              "      <td>0.0</td>\n",
              "      <td>0.0</td>\n",
              "      <td>0.0</td>\n",
              "      <td>0.0</td>\n",
              "      <td>0.0</td>\n",
              "      <td>0.0</td>\n",
              "      <td>0.0</td>\n",
              "      <td>0.0</td>\n",
              "      <td>0.0</td>\n",
              "      <td>0.0</td>\n",
              "      <td>0.0</td>\n",
              "      <td>0.0</td>\n",
              "      <td>0.0</td>\n",
              "      <td>0.0</td>\n",
              "      <td>0.0</td>\n",
              "      <td>...</td>\n",
              "      <td>0.0</td>\n",
              "      <td>0.0</td>\n",
              "      <td>0.0</td>\n",
              "      <td>0.0</td>\n",
              "      <td>0.0</td>\n",
              "      <td>0.0</td>\n",
              "      <td>0.0</td>\n",
              "      <td>0.0</td>\n",
              "      <td>0.0</td>\n",
              "      <td>0.0</td>\n",
              "      <td>0.0</td>\n",
              "      <td>0.0</td>\n",
              "      <td>0.0</td>\n",
              "      <td>0.0</td>\n",
              "      <td>0.0</td>\n",
              "      <td>0.0</td>\n",
              "      <td>0.0</td>\n",
              "      <td>0.0</td>\n",
              "      <td>0.0</td>\n",
              "      <td>0.0</td>\n",
              "      <td>0.0</td>\n",
              "      <td>0.0</td>\n",
              "      <td>0.0</td>\n",
              "      <td>0.0</td>\n",
              "      <td>0.0</td>\n",
              "      <td>0.0</td>\n",
              "      <td>0.0</td>\n",
              "      <td>0.0</td>\n",
              "      <td>0.0</td>\n",
              "      <td>0.0</td>\n",
              "      <td>0.0</td>\n",
              "      <td>0.0</td>\n",
              "      <td>0.0</td>\n",
              "      <td>0.0</td>\n",
              "      <td>0.0</td>\n",
              "      <td>0.0</td>\n",
              "      <td>0.0</td>\n",
              "      <td>0.0</td>\n",
              "      <td>0.0</td>\n",
              "      <td>0.0</td>\n",
              "    </tr>\n",
              "  </tbody>\n",
              "</table>\n",
              "<p>2 rows × 10000 columns</p>\n",
              "</div>"
            ],
            "text/plain": [
              "       0         1         2         3     4     ...  9995  9996  9997  9998  9999\n",
              "0  12.90989  1.292918  0.000000  0.000000   0.0  ...   0.0   0.0   0.0   0.0   0.0\n",
              "1   0.00000  1.292918  2.589466  2.858114   0.0  ...   0.0   0.0   0.0   0.0   0.0\n",
              "\n",
              "[2 rows x 10000 columns]"
            ]
          },
          "metadata": {
            "tags": []
          },
          "execution_count": 30
        }
      ]
    },
    {
      "cell_type": "code",
      "metadata": {
        "id": "DWAzAJaz7_oo",
        "colab_type": "code",
        "colab": {}
      },
      "source": [
        "tfidf_q2 = TextVectorization(\n",
        "  standardize = 'lower_and_strip_punctuation',\n",
        "  split       = 'whitespace',\n",
        "  max_tokens  = config.max_tokens,\n",
        "  output_mode ='tf-idf',\n",
        "  pad_to_max_tokens=False)\n",
        "# adapt on entire dataset to not miss any token\n",
        "tfidf_q2.adapt(np.concatenate((train_q2, valid_q2)))"
      ],
      "execution_count": 0,
      "outputs": []
    },
    {
      "cell_type": "code",
      "metadata": {
        "id": "jHvtUDEnrun2",
        "colab_type": "code",
        "outputId": "cf9ab9e0-681c-4ec3-c61f-add6e77b3654",
        "colab": {
          "base_uri": "https://localhost:8080/",
          "height": 155
        }
      },
      "source": [
        "sample_q2 = np.expand_dims(train_q2[:2], axis=-1)\n",
        "pd.DataFrame(tfidf_q2(sample_q2).numpy())"
      ],
      "execution_count": 0,
      "outputs": [
        {
          "output_type": "execute_result",
          "data": {
            "text/html": [
              "<div>\n",
              "<style scoped>\n",
              "    .dataframe tbody tr th:only-of-type {\n",
              "        vertical-align: middle;\n",
              "    }\n",
              "\n",
              "    .dataframe tbody tr th {\n",
              "        vertical-align: top;\n",
              "    }\n",
              "\n",
              "    .dataframe thead th {\n",
              "        text-align: right;\n",
              "    }\n",
              "</style>\n",
              "<table border=\"1\" class=\"dataframe\">\n",
              "  <thead>\n",
              "    <tr style=\"text-align: right;\">\n",
              "      <th></th>\n",
              "      <th>0</th>\n",
              "      <th>1</th>\n",
              "      <th>2</th>\n",
              "      <th>3</th>\n",
              "      <th>4</th>\n",
              "      <th>5</th>\n",
              "      <th>6</th>\n",
              "      <th>7</th>\n",
              "      <th>8</th>\n",
              "      <th>9</th>\n",
              "      <th>10</th>\n",
              "      <th>11</th>\n",
              "      <th>12</th>\n",
              "      <th>13</th>\n",
              "      <th>14</th>\n",
              "      <th>15</th>\n",
              "      <th>16</th>\n",
              "      <th>17</th>\n",
              "      <th>18</th>\n",
              "      <th>19</th>\n",
              "      <th>20</th>\n",
              "      <th>21</th>\n",
              "      <th>22</th>\n",
              "      <th>23</th>\n",
              "      <th>24</th>\n",
              "      <th>25</th>\n",
              "      <th>26</th>\n",
              "      <th>27</th>\n",
              "      <th>28</th>\n",
              "      <th>29</th>\n",
              "      <th>30</th>\n",
              "      <th>31</th>\n",
              "      <th>32</th>\n",
              "      <th>33</th>\n",
              "      <th>34</th>\n",
              "      <th>35</th>\n",
              "      <th>36</th>\n",
              "      <th>37</th>\n",
              "      <th>38</th>\n",
              "      <th>39</th>\n",
              "      <th>...</th>\n",
              "      <th>9960</th>\n",
              "      <th>9961</th>\n",
              "      <th>9962</th>\n",
              "      <th>9963</th>\n",
              "      <th>9964</th>\n",
              "      <th>9965</th>\n",
              "      <th>9966</th>\n",
              "      <th>9967</th>\n",
              "      <th>9968</th>\n",
              "      <th>9969</th>\n",
              "      <th>9970</th>\n",
              "      <th>9971</th>\n",
              "      <th>9972</th>\n",
              "      <th>9973</th>\n",
              "      <th>9974</th>\n",
              "      <th>9975</th>\n",
              "      <th>9976</th>\n",
              "      <th>9977</th>\n",
              "      <th>9978</th>\n",
              "      <th>9979</th>\n",
              "      <th>9980</th>\n",
              "      <th>9981</th>\n",
              "      <th>9982</th>\n",
              "      <th>9983</th>\n",
              "      <th>9984</th>\n",
              "      <th>9985</th>\n",
              "      <th>9986</th>\n",
              "      <th>9987</th>\n",
              "      <th>9988</th>\n",
              "      <th>9989</th>\n",
              "      <th>9990</th>\n",
              "      <th>9991</th>\n",
              "      <th>9992</th>\n",
              "      <th>9993</th>\n",
              "      <th>9994</th>\n",
              "      <th>9995</th>\n",
              "      <th>9996</th>\n",
              "      <th>9997</th>\n",
              "      <th>9998</th>\n",
              "      <th>9999</th>\n",
              "    </tr>\n",
              "  </thead>\n",
              "  <tbody>\n",
              "    <tr>\n",
              "      <th>0</th>\n",
              "      <td>0.0</td>\n",
              "      <td>1.295748</td>\n",
              "      <td>0.000000</td>\n",
              "      <td>1.422317</td>\n",
              "      <td>0.0</td>\n",
              "      <td>0.00000</td>\n",
              "      <td>0.0</td>\n",
              "      <td>1.67688</td>\n",
              "      <td>0.0</td>\n",
              "      <td>0.0</td>\n",
              "      <td>0.0</td>\n",
              "      <td>0.0</td>\n",
              "      <td>0.0000</td>\n",
              "      <td>0.0</td>\n",
              "      <td>2.22012</td>\n",
              "      <td>0.0</td>\n",
              "      <td>0.0</td>\n",
              "      <td>0.0</td>\n",
              "      <td>2.503583</td>\n",
              "      <td>0.0</td>\n",
              "      <td>0.0</td>\n",
              "      <td>0.0</td>\n",
              "      <td>0.0</td>\n",
              "      <td>0.0</td>\n",
              "      <td>0.0</td>\n",
              "      <td>2.982763</td>\n",
              "      <td>0.0</td>\n",
              "      <td>0.0</td>\n",
              "      <td>0.0</td>\n",
              "      <td>0.0</td>\n",
              "      <td>0.0</td>\n",
              "      <td>0.0</td>\n",
              "      <td>0.0</td>\n",
              "      <td>0.0</td>\n",
              "      <td>0.0</td>\n",
              "      <td>0.0</td>\n",
              "      <td>0.0</td>\n",
              "      <td>0.0</td>\n",
              "      <td>0.0</td>\n",
              "      <td>0.0</td>\n",
              "      <td>...</td>\n",
              "      <td>0.0</td>\n",
              "      <td>0.0</td>\n",
              "      <td>0.0</td>\n",
              "      <td>0.0</td>\n",
              "      <td>0.0</td>\n",
              "      <td>0.0</td>\n",
              "      <td>0.0</td>\n",
              "      <td>0.0</td>\n",
              "      <td>0.0</td>\n",
              "      <td>0.0</td>\n",
              "      <td>0.0</td>\n",
              "      <td>0.0</td>\n",
              "      <td>0.0</td>\n",
              "      <td>0.0</td>\n",
              "      <td>0.0</td>\n",
              "      <td>0.0</td>\n",
              "      <td>0.0</td>\n",
              "      <td>0.0</td>\n",
              "      <td>0.0</td>\n",
              "      <td>0.0</td>\n",
              "      <td>0.0</td>\n",
              "      <td>0.0</td>\n",
              "      <td>0.0</td>\n",
              "      <td>0.0</td>\n",
              "      <td>0.0</td>\n",
              "      <td>0.0</td>\n",
              "      <td>0.0</td>\n",
              "      <td>0.0</td>\n",
              "      <td>0.0</td>\n",
              "      <td>0.0</td>\n",
              "      <td>0.0</td>\n",
              "      <td>0.0</td>\n",
              "      <td>0.0</td>\n",
              "      <td>0.0</td>\n",
              "      <td>0.0</td>\n",
              "      <td>0.0</td>\n",
              "      <td>0.0</td>\n",
              "      <td>0.0</td>\n",
              "      <td>0.0</td>\n",
              "      <td>0.0</td>\n",
              "    </tr>\n",
              "    <tr>\n",
              "      <th>1</th>\n",
              "      <td>0.0</td>\n",
              "      <td>1.295748</td>\n",
              "      <td>1.304782</td>\n",
              "      <td>0.000000</td>\n",
              "      <td>0.0</td>\n",
              "      <td>1.55005</td>\n",
              "      <td>0.0</td>\n",
              "      <td>0.00000</td>\n",
              "      <td>0.0</td>\n",
              "      <td>0.0</td>\n",
              "      <td>0.0</td>\n",
              "      <td>0.0</td>\n",
              "      <td>2.0447</td>\n",
              "      <td>0.0</td>\n",
              "      <td>0.00000</td>\n",
              "      <td>0.0</td>\n",
              "      <td>0.0</td>\n",
              "      <td>0.0</td>\n",
              "      <td>0.000000</td>\n",
              "      <td>0.0</td>\n",
              "      <td>0.0</td>\n",
              "      <td>0.0</td>\n",
              "      <td>0.0</td>\n",
              "      <td>0.0</td>\n",
              "      <td>0.0</td>\n",
              "      <td>0.000000</td>\n",
              "      <td>0.0</td>\n",
              "      <td>0.0</td>\n",
              "      <td>0.0</td>\n",
              "      <td>0.0</td>\n",
              "      <td>0.0</td>\n",
              "      <td>0.0</td>\n",
              "      <td>0.0</td>\n",
              "      <td>0.0</td>\n",
              "      <td>0.0</td>\n",
              "      <td>0.0</td>\n",
              "      <td>0.0</td>\n",
              "      <td>0.0</td>\n",
              "      <td>0.0</td>\n",
              "      <td>0.0</td>\n",
              "      <td>...</td>\n",
              "      <td>0.0</td>\n",
              "      <td>0.0</td>\n",
              "      <td>0.0</td>\n",
              "      <td>0.0</td>\n",
              "      <td>0.0</td>\n",
              "      <td>0.0</td>\n",
              "      <td>0.0</td>\n",
              "      <td>0.0</td>\n",
              "      <td>0.0</td>\n",
              "      <td>0.0</td>\n",
              "      <td>0.0</td>\n",
              "      <td>0.0</td>\n",
              "      <td>0.0</td>\n",
              "      <td>0.0</td>\n",
              "      <td>0.0</td>\n",
              "      <td>0.0</td>\n",
              "      <td>0.0</td>\n",
              "      <td>0.0</td>\n",
              "      <td>0.0</td>\n",
              "      <td>0.0</td>\n",
              "      <td>0.0</td>\n",
              "      <td>0.0</td>\n",
              "      <td>0.0</td>\n",
              "      <td>0.0</td>\n",
              "      <td>0.0</td>\n",
              "      <td>0.0</td>\n",
              "      <td>0.0</td>\n",
              "      <td>0.0</td>\n",
              "      <td>0.0</td>\n",
              "      <td>0.0</td>\n",
              "      <td>0.0</td>\n",
              "      <td>0.0</td>\n",
              "      <td>0.0</td>\n",
              "      <td>0.0</td>\n",
              "      <td>0.0</td>\n",
              "      <td>0.0</td>\n",
              "      <td>0.0</td>\n",
              "      <td>0.0</td>\n",
              "      <td>0.0</td>\n",
              "      <td>0.0</td>\n",
              "    </tr>\n",
              "  </tbody>\n",
              "</table>\n",
              "<p>2 rows × 10000 columns</p>\n",
              "</div>"
            ],
            "text/plain": [
              "   0         1         2         3     4     ...  9995  9996  9997  9998  9999\n",
              "0   0.0  1.295748  0.000000  1.422317   0.0  ...   0.0   0.0   0.0   0.0   0.0\n",
              "1   0.0  1.295748  1.304782  0.000000   0.0  ...   0.0   0.0   0.0   0.0   0.0\n",
              "\n",
              "[2 rows x 10000 columns]"
            ]
          },
          "metadata": {
            "tags": []
          },
          "execution_count": 31
        }
      ]
    },
    {
      "cell_type": "markdown",
      "metadata": {
        "id": "Zk0TwBq8xOyi",
        "colab_type": "text"
      },
      "source": [
        "Let's check the vocab created by both vectorizers"
      ]
    },
    {
      "cell_type": "code",
      "metadata": {
        "id": "pecn9Ytou8JV",
        "colab_type": "code",
        "outputId": "48fd91c7-c14d-471e-95bd-493ddd155349",
        "colab": {
          "base_uri": "https://localhost:8080/",
          "height": 34
        }
      },
      "source": [
        "sentence = np.array(['hillary'])\n",
        "tokens1 = tfidf_q1._index_lookup_layer(sentence)\n",
        "tokens2 = tfidf_q2._index_lookup_layer(sentence)\n",
        "tokens1.numpy(), tokens2.numpy()"
      ],
      "execution_count": 0,
      "outputs": [
        {
          "output_type": "execute_result",
          "data": {
            "text/plain": [
              "(array([208]), array([213]))"
            ]
          },
          "metadata": {
            "tags": []
          },
          "execution_count": 47
        }
      ]
    },
    {
      "cell_type": "markdown",
      "metadata": {
        "id": "ct6OEZwGAu5C",
        "colab_type": "text"
      },
      "source": [
        "### Model"
      ]
    },
    {
      "cell_type": "code",
      "metadata": {
        "id": "5huXnwZy-zC9",
        "colab_type": "code",
        "colab": {}
      },
      "source": [
        "q1_input = Input(shape=(1,), dtype=tf.string)\n",
        "q2_input = Input(shape=(1,), dtype=tf.string)\n",
        "\n",
        "tfidf1 = tfidf_q1(q1_input)\n",
        "tfidf2 = tfidf_q2(q2_input)\n",
        "output = Add()([tfidf1, tfidf2])\n",
        "output = Dense(1, kernel_initializer=\"glorot_uniform\", activation=\"sigmoid\")(output)\n",
        "\n",
        "model = Model(inputs=[q1_input, q2_input], outputs=output)\n",
        "model.compile(loss=\"binary_crossentropy\", optimizer=\"adam\", metrics=['accuracy'])"
      ],
      "execution_count": 0,
      "outputs": []
    },
    {
      "cell_type": "code",
      "metadata": {
        "id": "_yqk5iiGB7PE",
        "colab_type": "code",
        "outputId": "6ea0e353-1761-42b0-826b-59c996145b41",
        "colab": {
          "base_uri": "https://localhost:8080/",
          "height": 370
        }
      },
      "source": [
        "model.summary()"
      ],
      "execution_count": 0,
      "outputs": [
        {
          "output_type": "stream",
          "text": [
            "Model: \"model_2\"\n",
            "__________________________________________________________________________________________________\n",
            "Layer (type)                    Output Shape         Param #     Connected to                     \n",
            "==================================================================================================\n",
            "input_7 (InputLayer)            [(None, 1)]          0                                            \n",
            "__________________________________________________________________________________________________\n",
            "input_8 (InputLayer)            [(None, 1)]          0                                            \n",
            "__________________________________________________________________________________________________\n",
            "text_vectorization (TextVectori (None, 10000)        0           input_7[0][0]                    \n",
            "__________________________________________________________________________________________________\n",
            "text_vectorization_1 (TextVecto (None, 10000)        0           input_8[0][0]                    \n",
            "__________________________________________________________________________________________________\n",
            "add_1 (Add)                     (None, 10000)        0           text_vectorization[3][0]         \n",
            "                                                                 text_vectorization_1[3][0]       \n",
            "__________________________________________________________________________________________________\n",
            "dense_2 (Dense)                 (None, 1)            10001       add_1[0][0]                      \n",
            "==================================================================================================\n",
            "Total params: 10,003\n",
            "Trainable params: 10,001\n",
            "Non-trainable params: 2\n",
            "__________________________________________________________________________________________________\n"
          ],
          "name": "stdout"
        }
      ]
    },
    {
      "cell_type": "code",
      "metadata": {
        "id": "KtnkIdYOB_F4",
        "colab_type": "code",
        "outputId": "8921c1d2-ffa9-479e-c80a-051c7dbebd48",
        "colab": {
          "base_uri": "https://localhost:8080/",
          "height": 422
        }
      },
      "source": [
        "plot_model(model, to_file='quora-duplicate-questions.png', show_shapes=True)"
      ],
      "execution_count": 0,
      "outputs": [
        {
          "output_type": "execute_result",
          "data": {
            "image/png": "[encoded data removed]",
            "text/plain": [
              "<IPython.core.display.Image object>"
            ]
          },
          "metadata": {
            "tags": []
          },
          "execution_count": 51
        }
      ]
    },
    {
      "cell_type": "code",
      "metadata": {
        "id": "wdeVDhrrsaEg",
        "colab_type": "code",
        "outputId": "88234941-ca6a-4080-d014-a38d9e955b80",
        "colab": {
          "base_uri": "https://localhost:8080/",
          "height": 87
        }
      },
      "source": [
        "experiment.log_image('quora-duplicate-questions.png')"
      ],
      "execution_count": 0,
      "outputs": [
        {
          "output_type": "execute_result",
          "data": {
            "text/plain": [
              "{'api': 'https://www.comet.ml/api/rest/v1/image/get-image?imageId=10cb4edd116c4c6e851eaeffa8b0ab9a&experimentKey=b24967c083b64df0a5f9387b9773f179',\n",
              " 'imageId': '10cb4edd116c4c6e851eaeffa8b0ab9a',\n",
              " 'web': 'https://www.comet.ml/api/image/download?imageId=10cb4edd116c4c6e851eaeffa8b0ab9a&experimentKey=b24967c083b64df0a5f9387b9773f179'}"
            ]
          },
          "metadata": {
            "tags": []
          },
          "execution_count": 52
        }
      ]
    },
    {
      "cell_type": "code",
      "metadata": {
        "id": "vfvJfmAICllL",
        "colab_type": "code",
        "outputId": "1a129cd5-2cb6-4175-aae5-a83feb50ba8f",
        "colab": {
          "base_uri": "https://localhost:8080/",
          "height": 386
        }
      },
      "source": [
        "model.fit(train_ds, validation_data=valid_ds, epochs=10)"
      ],
      "execution_count": 0,
      "outputs": [
        {
          "output_type": "stream",
          "text": [
            "Train for 5054 steps, validate for 1264 steps\n",
            "Epoch 1/10\n",
            "5054/5054 [==============================] - 40s 8ms/step - loss: 0.5417 - accuracy: 0.7314 - val_loss: 0.5363 - val_accuracy: 0.7350\n",
            "Epoch 2/10\n",
            "5054/5054 [==============================] - 39s 8ms/step - loss: 0.5324 - accuracy: 0.7387 - val_loss: 0.5421 - val_accuracy: 0.7332\n",
            "Epoch 3/10\n",
            "5054/5054 [==============================] - 39s 8ms/step - loss: 0.5326 - accuracy: 0.7387 - val_loss: 0.5449 - val_accuracy: 0.7324\n",
            "Epoch 4/10\n",
            "5054/5054 [==============================] - 39s 8ms/step - loss: 0.5328 - accuracy: 0.7386 - val_loss: 0.5463 - val_accuracy: 0.7318\n",
            "Epoch 5/10\n",
            "5054/5054 [==============================] - 39s 8ms/step - loss: 0.5330 - accuracy: 0.7384 - val_loss: 0.5472 - val_accuracy: 0.7315\n",
            "Epoch 6/10\n",
            "5054/5054 [==============================] - 39s 8ms/step - loss: 0.5331 - accuracy: 0.7384 - val_loss: 0.5478 - val_accuracy: 0.7313\n",
            "Epoch 7/10\n",
            "5054/5054 [==============================] - 39s 8ms/step - loss: 0.5332 - accuracy: 0.7384 - val_loss: 0.5481 - val_accuracy: 0.7312\n",
            "Epoch 8/10\n",
            "5054/5054 [==============================] - 39s 8ms/step - loss: 0.5333 - accuracy: 0.7384 - val_loss: 0.5484 - val_accuracy: 0.7311\n",
            "Epoch 9/10\n",
            "5054/5054 [==============================] - 39s 8ms/step - loss: 0.5333 - accuracy: 0.7384 - val_loss: 0.5485 - val_accuracy: 0.7311\n",
            "Epoch 10/10\n",
            "5054/5054 [==============================] - 39s 8ms/step - loss: 0.5333 - accuracy: 0.7385 - val_loss: 0.5486 - val_accuracy: 0.7311\n"
          ],
          "name": "stdout"
        },
        {
          "output_type": "execute_result",
          "data": {
            "text/plain": [
              "<tensorflow.python.keras.callbacks.History at 0x7f520a647160>"
            ]
          },
          "metadata": {
            "tags": []
          },
          "execution_count": 53
        }
      ]
    },
    {
      "cell_type": "markdown",
      "metadata": {
        "id": "v76hoYPllZKi",
        "colab_type": "text"
      },
      "source": [
        "## LSTM"
      ]
    },
    {
      "cell_type": "markdown",
      "metadata": {
        "id": "yhoroJfgluM-",
        "colab_type": "text"
      },
      "source": [
        "### TextVectorization"
      ]
    },
    {
      "cell_type": "code",
      "metadata": {
        "id": "getwJK7BGjWF",
        "colab_type": "code",
        "colab": {}
      },
      "source": [
        "int_q1 = TextVectorization(\n",
        "  standardize = 'lower_and_strip_punctuation',\n",
        "  split       = 'whitespace',\n",
        "  max_tokens  = config.max_tokens,\n",
        "  output_sequence_length = config.max_length,\n",
        "  output_mode ='int',\n",
        "  pad_to_max_tokens=True)\n",
        "# adapt on entire dataset to not miss any token\n",
        "int_q1.adapt(np.concatenate((train_q1, valid_q1)))"
      ],
      "execution_count": 0,
      "outputs": []
    },
    {
      "cell_type": "code",
      "metadata": {
        "id": "qjpRlIqPoASv",
        "colab_type": "code",
        "colab": {
          "base_uri": "https://localhost:8080/",
          "height": 155
        },
        "outputId": "45bf06c7-c548-4030-8ce1-65da1d8c6da3"
      },
      "source": [
        "sample_q1 = np.expand_dims(train_q1[:2], axis=-1)\n",
        "pd.DataFrame(int_q1(sample_q1).numpy())"
      ],
      "execution_count": 44,
      "outputs": [
        {
          "output_type": "execute_result",
          "data": {
            "text/html": [
              "<div>\n",
              "<style scoped>\n",
              "    .dataframe tbody tr th:only-of-type {\n",
              "        vertical-align: middle;\n",
              "    }\n",
              "\n",
              "    .dataframe tbody tr th {\n",
              "        vertical-align: top;\n",
              "    }\n",
              "\n",
              "    .dataframe thead th {\n",
              "        text-align: right;\n",
              "    }\n",
              "</style>\n",
              "<table border=\"1\" class=\"dataframe\">\n",
              "  <thead>\n",
              "    <tr style=\"text-align: right;\">\n",
              "      <th></th>\n",
              "      <th>0</th>\n",
              "      <th>1</th>\n",
              "      <th>2</th>\n",
              "      <th>3</th>\n",
              "      <th>4</th>\n",
              "      <th>5</th>\n",
              "      <th>6</th>\n",
              "      <th>7</th>\n",
              "      <th>8</th>\n",
              "      <th>9</th>\n",
              "      <th>10</th>\n",
              "      <th>11</th>\n",
              "      <th>12</th>\n",
              "      <th>13</th>\n",
              "      <th>14</th>\n",
              "      <th>15</th>\n",
              "      <th>16</th>\n",
              "      <th>17</th>\n",
              "      <th>18</th>\n",
              "      <th>19</th>\n",
              "      <th>20</th>\n",
              "      <th>21</th>\n",
              "      <th>22</th>\n",
              "      <th>23</th>\n",
              "      <th>24</th>\n",
              "      <th>25</th>\n",
              "      <th>26</th>\n",
              "      <th>27</th>\n",
              "      <th>28</th>\n",
              "      <th>29</th>\n",
              "      <th>30</th>\n",
              "      <th>31</th>\n",
              "      <th>32</th>\n",
              "      <th>33</th>\n",
              "      <th>34</th>\n",
              "      <th>35</th>\n",
              "      <th>36</th>\n",
              "      <th>37</th>\n",
              "      <th>38</th>\n",
              "      <th>39</th>\n",
              "      <th>...</th>\n",
              "      <th>160</th>\n",
              "      <th>161</th>\n",
              "      <th>162</th>\n",
              "      <th>163</th>\n",
              "      <th>164</th>\n",
              "      <th>165</th>\n",
              "      <th>166</th>\n",
              "      <th>167</th>\n",
              "      <th>168</th>\n",
              "      <th>169</th>\n",
              "      <th>170</th>\n",
              "      <th>171</th>\n",
              "      <th>172</th>\n",
              "      <th>173</th>\n",
              "      <th>174</th>\n",
              "      <th>175</th>\n",
              "      <th>176</th>\n",
              "      <th>177</th>\n",
              "      <th>178</th>\n",
              "      <th>179</th>\n",
              "      <th>180</th>\n",
              "      <th>181</th>\n",
              "      <th>182</th>\n",
              "      <th>183</th>\n",
              "      <th>184</th>\n",
              "      <th>185</th>\n",
              "      <th>186</th>\n",
              "      <th>187</th>\n",
              "      <th>188</th>\n",
              "      <th>189</th>\n",
              "      <th>190</th>\n",
              "      <th>191</th>\n",
              "      <th>192</th>\n",
              "      <th>193</th>\n",
              "      <th>194</th>\n",
              "      <th>195</th>\n",
              "      <th>196</th>\n",
              "      <th>197</th>\n",
              "      <th>198</th>\n",
              "      <th>199</th>\n",
              "    </tr>\n",
              "  </thead>\n",
              "  <tbody>\n",
              "    <tr>\n",
              "      <th>0</th>\n",
              "      <td>25</td>\n",
              "      <td>16</td>\n",
              "      <td>175</td>\n",
              "      <td>4655</td>\n",
              "      <td>8</td>\n",
              "      <td>572</td>\n",
              "      <td>9</td>\n",
              "      <td>502</td>\n",
              "      <td>142</td>\n",
              "      <td>144</td>\n",
              "      <td>24</td>\n",
              "      <td>589</td>\n",
              "      <td>23</td>\n",
              "      <td>541</td>\n",
              "      <td>2425</td>\n",
              "      <td>2</td>\n",
              "      <td>18</td>\n",
              "      <td>1</td>\n",
              "      <td>2706</td>\n",
              "      <td>755</td>\n",
              "      <td>8</td>\n",
              "      <td>136</td>\n",
              "      <td>755</td>\n",
              "      <td>8863</td>\n",
              "      <td>13</td>\n",
              "      <td>17</td>\n",
              "      <td>0</td>\n",
              "      <td>0</td>\n",
              "      <td>0</td>\n",
              "      <td>0</td>\n",
              "      <td>0</td>\n",
              "      <td>0</td>\n",
              "      <td>0</td>\n",
              "      <td>0</td>\n",
              "      <td>0</td>\n",
              "      <td>0</td>\n",
              "      <td>0</td>\n",
              "      <td>0</td>\n",
              "      <td>0</td>\n",
              "      <td>0</td>\n",
              "      <td>...</td>\n",
              "      <td>0</td>\n",
              "      <td>0</td>\n",
              "      <td>0</td>\n",
              "      <td>0</td>\n",
              "      <td>0</td>\n",
              "      <td>0</td>\n",
              "      <td>0</td>\n",
              "      <td>0</td>\n",
              "      <td>0</td>\n",
              "      <td>0</td>\n",
              "      <td>0</td>\n",
              "      <td>0</td>\n",
              "      <td>0</td>\n",
              "      <td>0</td>\n",
              "      <td>0</td>\n",
              "      <td>0</td>\n",
              "      <td>0</td>\n",
              "      <td>0</td>\n",
              "      <td>0</td>\n",
              "      <td>0</td>\n",
              "      <td>0</td>\n",
              "      <td>0</td>\n",
              "      <td>0</td>\n",
              "      <td>0</td>\n",
              "      <td>0</td>\n",
              "      <td>0</td>\n",
              "      <td>0</td>\n",
              "      <td>0</td>\n",
              "      <td>0</td>\n",
              "      <td>0</td>\n",
              "      <td>0</td>\n",
              "      <td>0</td>\n",
              "      <td>0</td>\n",
              "      <td>0</td>\n",
              "      <td>0</td>\n",
              "      <td>0</td>\n",
              "      <td>0</td>\n",
              "      <td>0</td>\n",
              "      <td>0</td>\n",
              "      <td>0</td>\n",
              "    </tr>\n",
              "    <tr>\n",
              "      <th>1</th>\n",
              "      <td>3</td>\n",
              "      <td>4</td>\n",
              "      <td>2</td>\n",
              "      <td>3285</td>\n",
              "      <td>13</td>\n",
              "      <td>3</td>\n",
              "      <td>4</td>\n",
              "      <td>121</td>\n",
              "      <td>662</td>\n",
              "      <td>0</td>\n",
              "      <td>0</td>\n",
              "      <td>0</td>\n",
              "      <td>0</td>\n",
              "      <td>0</td>\n",
              "      <td>0</td>\n",
              "      <td>0</td>\n",
              "      <td>0</td>\n",
              "      <td>0</td>\n",
              "      <td>0</td>\n",
              "      <td>0</td>\n",
              "      <td>0</td>\n",
              "      <td>0</td>\n",
              "      <td>0</td>\n",
              "      <td>0</td>\n",
              "      <td>0</td>\n",
              "      <td>0</td>\n",
              "      <td>0</td>\n",
              "      <td>0</td>\n",
              "      <td>0</td>\n",
              "      <td>0</td>\n",
              "      <td>0</td>\n",
              "      <td>0</td>\n",
              "      <td>0</td>\n",
              "      <td>0</td>\n",
              "      <td>0</td>\n",
              "      <td>0</td>\n",
              "      <td>0</td>\n",
              "      <td>0</td>\n",
              "      <td>0</td>\n",
              "      <td>0</td>\n",
              "      <td>...</td>\n",
              "      <td>0</td>\n",
              "      <td>0</td>\n",
              "      <td>0</td>\n",
              "      <td>0</td>\n",
              "      <td>0</td>\n",
              "      <td>0</td>\n",
              "      <td>0</td>\n",
              "      <td>0</td>\n",
              "      <td>0</td>\n",
              "      <td>0</td>\n",
              "      <td>0</td>\n",
              "      <td>0</td>\n",
              "      <td>0</td>\n",
              "      <td>0</td>\n",
              "      <td>0</td>\n",
              "      <td>0</td>\n",
              "      <td>0</td>\n",
              "      <td>0</td>\n",
              "      <td>0</td>\n",
              "      <td>0</td>\n",
              "      <td>0</td>\n",
              "      <td>0</td>\n",
              "      <td>0</td>\n",
              "      <td>0</td>\n",
              "      <td>0</td>\n",
              "      <td>0</td>\n",
              "      <td>0</td>\n",
              "      <td>0</td>\n",
              "      <td>0</td>\n",
              "      <td>0</td>\n",
              "      <td>0</td>\n",
              "      <td>0</td>\n",
              "      <td>0</td>\n",
              "      <td>0</td>\n",
              "      <td>0</td>\n",
              "      <td>0</td>\n",
              "      <td>0</td>\n",
              "      <td>0</td>\n",
              "      <td>0</td>\n",
              "      <td>0</td>\n",
              "    </tr>\n",
              "  </tbody>\n",
              "</table>\n",
              "<p>2 rows × 200 columns</p>\n",
              "</div>"
            ],
            "text/plain": [
              "   0    1    2     3    4    5    6    ...  193  194  195  196  197  198  199\n",
              "0   25   16  175  4655    8  572    9  ...    0    0    0    0    0    0    0\n",
              "1    3    4    2  3285   13    3    4  ...    0    0    0    0    0    0    0\n",
              "\n",
              "[2 rows x 200 columns]"
            ]
          },
          "metadata": {
            "tags": []
          },
          "execution_count": 44
        }
      ]
    },
    {
      "cell_type": "code",
      "metadata": {
        "id": "uGvEY8uJmHF0",
        "colab_type": "code",
        "colab": {}
      },
      "source": [
        "int_q2 = TextVectorization(\n",
        "  standardize = 'lower_and_strip_punctuation',\n",
        "  split       = 'whitespace',\n",
        "  max_tokens  = config.max_tokens,\n",
        "  output_sequence_length = config.max_length,\n",
        "  output_mode ='int',\n",
        "  pad_to_max_tokens=True)\n",
        "# adapt on entire dataset to not miss any token\n",
        "int_q2.adapt(np.concatenate((train_q2, valid_q2)))"
      ],
      "execution_count": 0,
      "outputs": []
    },
    {
      "cell_type": "code",
      "metadata": {
        "id": "IJEAzli0nyVv",
        "colab_type": "code",
        "colab": {
          "base_uri": "https://localhost:8080/",
          "height": 155
        },
        "outputId": "38a87267-a177-4dd6-a18c-7804cd0b08fc"
      },
      "source": [
        "sample_q2 = np.expand_dims(train_q2[:2], axis=-1)\n",
        "pd.DataFrame(int_q2(sample_q2).numpy())"
      ],
      "execution_count": 43,
      "outputs": [
        {
          "output_type": "execute_result",
          "data": {
            "text/html": [
              "<div>\n",
              "<style scoped>\n",
              "    .dataframe tbody tr th:only-of-type {\n",
              "        vertical-align: middle;\n",
              "    }\n",
              "\n",
              "    .dataframe tbody tr th {\n",
              "        vertical-align: top;\n",
              "    }\n",
              "\n",
              "    .dataframe thead th {\n",
              "        text-align: right;\n",
              "    }\n",
              "</style>\n",
              "<table border=\"1\" class=\"dataframe\">\n",
              "  <thead>\n",
              "    <tr style=\"text-align: right;\">\n",
              "      <th></th>\n",
              "      <th>0</th>\n",
              "      <th>1</th>\n",
              "      <th>2</th>\n",
              "      <th>3</th>\n",
              "      <th>4</th>\n",
              "      <th>5</th>\n",
              "      <th>6</th>\n",
              "      <th>7</th>\n",
              "      <th>8</th>\n",
              "      <th>9</th>\n",
              "      <th>10</th>\n",
              "      <th>11</th>\n",
              "      <th>12</th>\n",
              "      <th>13</th>\n",
              "      <th>14</th>\n",
              "      <th>15</th>\n",
              "      <th>16</th>\n",
              "      <th>17</th>\n",
              "      <th>18</th>\n",
              "      <th>19</th>\n",
              "      <th>20</th>\n",
              "      <th>21</th>\n",
              "      <th>22</th>\n",
              "      <th>23</th>\n",
              "      <th>24</th>\n",
              "      <th>25</th>\n",
              "      <th>26</th>\n",
              "      <th>27</th>\n",
              "      <th>28</th>\n",
              "      <th>29</th>\n",
              "      <th>30</th>\n",
              "      <th>31</th>\n",
              "      <th>32</th>\n",
              "      <th>33</th>\n",
              "      <th>34</th>\n",
              "      <th>35</th>\n",
              "      <th>36</th>\n",
              "      <th>37</th>\n",
              "      <th>38</th>\n",
              "      <th>39</th>\n",
              "      <th>...</th>\n",
              "      <th>160</th>\n",
              "      <th>161</th>\n",
              "      <th>162</th>\n",
              "      <th>163</th>\n",
              "      <th>164</th>\n",
              "      <th>165</th>\n",
              "      <th>166</th>\n",
              "      <th>167</th>\n",
              "      <th>168</th>\n",
              "      <th>169</th>\n",
              "      <th>170</th>\n",
              "      <th>171</th>\n",
              "      <th>172</th>\n",
              "      <th>173</th>\n",
              "      <th>174</th>\n",
              "      <th>175</th>\n",
              "      <th>176</th>\n",
              "      <th>177</th>\n",
              "      <th>178</th>\n",
              "      <th>179</th>\n",
              "      <th>180</th>\n",
              "      <th>181</th>\n",
              "      <th>182</th>\n",
              "      <th>183</th>\n",
              "      <th>184</th>\n",
              "      <th>185</th>\n",
              "      <th>186</th>\n",
              "      <th>187</th>\n",
              "      <th>188</th>\n",
              "      <th>189</th>\n",
              "      <th>190</th>\n",
              "      <th>191</th>\n",
              "      <th>192</th>\n",
              "      <th>193</th>\n",
              "      <th>194</th>\n",
              "      <th>195</th>\n",
              "      <th>196</th>\n",
              "      <th>197</th>\n",
              "      <th>198</th>\n",
              "      <th>199</th>\n",
              "    </tr>\n",
              "  </thead>\n",
              "  <tbody>\n",
              "    <tr>\n",
              "      <th>0</th>\n",
              "      <td>26</td>\n",
              "      <td>4</td>\n",
              "      <td>2</td>\n",
              "      <td>19</td>\n",
              "      <td>86</td>\n",
              "      <td>546</td>\n",
              "      <td>8</td>\n",
              "      <td>119</td>\n",
              "      <td>15</td>\n",
              "      <td>145</td>\n",
              "      <td>67</td>\n",
              "      <td>0</td>\n",
              "      <td>0</td>\n",
              "      <td>0</td>\n",
              "      <td>0</td>\n",
              "      <td>0</td>\n",
              "      <td>0</td>\n",
              "      <td>0</td>\n",
              "      <td>0</td>\n",
              "      <td>0</td>\n",
              "      <td>0</td>\n",
              "      <td>0</td>\n",
              "      <td>0</td>\n",
              "      <td>0</td>\n",
              "      <td>0</td>\n",
              "      <td>0</td>\n",
              "      <td>0</td>\n",
              "      <td>0</td>\n",
              "      <td>0</td>\n",
              "      <td>0</td>\n",
              "      <td>0</td>\n",
              "      <td>0</td>\n",
              "      <td>0</td>\n",
              "      <td>0</td>\n",
              "      <td>0</td>\n",
              "      <td>0</td>\n",
              "      <td>0</td>\n",
              "      <td>0</td>\n",
              "      <td>0</td>\n",
              "      <td>0</td>\n",
              "      <td>...</td>\n",
              "      <td>0</td>\n",
              "      <td>0</td>\n",
              "      <td>0</td>\n",
              "      <td>0</td>\n",
              "      <td>0</td>\n",
              "      <td>0</td>\n",
              "      <td>0</td>\n",
              "      <td>0</td>\n",
              "      <td>0</td>\n",
              "      <td>0</td>\n",
              "      <td>0</td>\n",
              "      <td>0</td>\n",
              "      <td>0</td>\n",
              "      <td>0</td>\n",
              "      <td>0</td>\n",
              "      <td>0</td>\n",
              "      <td>0</td>\n",
              "      <td>0</td>\n",
              "      <td>0</td>\n",
              "      <td>0</td>\n",
              "      <td>0</td>\n",
              "      <td>0</td>\n",
              "      <td>0</td>\n",
              "      <td>0</td>\n",
              "      <td>0</td>\n",
              "      <td>0</td>\n",
              "      <td>0</td>\n",
              "      <td>0</td>\n",
              "      <td>0</td>\n",
              "      <td>0</td>\n",
              "      <td>0</td>\n",
              "      <td>0</td>\n",
              "      <td>0</td>\n",
              "      <td>0</td>\n",
              "      <td>0</td>\n",
              "      <td>0</td>\n",
              "      <td>0</td>\n",
              "      <td>0</td>\n",
              "      <td>0</td>\n",
              "      <td>0</td>\n",
              "    </tr>\n",
              "    <tr>\n",
              "      <th>1</th>\n",
              "      <td>3</td>\n",
              "      <td>61</td>\n",
              "      <td>2</td>\n",
              "      <td>3336</td>\n",
              "      <td>13</td>\n",
              "      <td>6</td>\n",
              "      <td>57</td>\n",
              "      <td>66</td>\n",
              "      <td>3204</td>\n",
              "      <td>0</td>\n",
              "      <td>0</td>\n",
              "      <td>0</td>\n",
              "      <td>0</td>\n",
              "      <td>0</td>\n",
              "      <td>0</td>\n",
              "      <td>0</td>\n",
              "      <td>0</td>\n",
              "      <td>0</td>\n",
              "      <td>0</td>\n",
              "      <td>0</td>\n",
              "      <td>0</td>\n",
              "      <td>0</td>\n",
              "      <td>0</td>\n",
              "      <td>0</td>\n",
              "      <td>0</td>\n",
              "      <td>0</td>\n",
              "      <td>0</td>\n",
              "      <td>0</td>\n",
              "      <td>0</td>\n",
              "      <td>0</td>\n",
              "      <td>0</td>\n",
              "      <td>0</td>\n",
              "      <td>0</td>\n",
              "      <td>0</td>\n",
              "      <td>0</td>\n",
              "      <td>0</td>\n",
              "      <td>0</td>\n",
              "      <td>0</td>\n",
              "      <td>0</td>\n",
              "      <td>0</td>\n",
              "      <td>...</td>\n",
              "      <td>0</td>\n",
              "      <td>0</td>\n",
              "      <td>0</td>\n",
              "      <td>0</td>\n",
              "      <td>0</td>\n",
              "      <td>0</td>\n",
              "      <td>0</td>\n",
              "      <td>0</td>\n",
              "      <td>0</td>\n",
              "      <td>0</td>\n",
              "      <td>0</td>\n",
              "      <td>0</td>\n",
              "      <td>0</td>\n",
              "      <td>0</td>\n",
              "      <td>0</td>\n",
              "      <td>0</td>\n",
              "      <td>0</td>\n",
              "      <td>0</td>\n",
              "      <td>0</td>\n",
              "      <td>0</td>\n",
              "      <td>0</td>\n",
              "      <td>0</td>\n",
              "      <td>0</td>\n",
              "      <td>0</td>\n",
              "      <td>0</td>\n",
              "      <td>0</td>\n",
              "      <td>0</td>\n",
              "      <td>0</td>\n",
              "      <td>0</td>\n",
              "      <td>0</td>\n",
              "      <td>0</td>\n",
              "      <td>0</td>\n",
              "      <td>0</td>\n",
              "      <td>0</td>\n",
              "      <td>0</td>\n",
              "      <td>0</td>\n",
              "      <td>0</td>\n",
              "      <td>0</td>\n",
              "      <td>0</td>\n",
              "      <td>0</td>\n",
              "    </tr>\n",
              "  </tbody>\n",
              "</table>\n",
              "<p>2 rows × 200 columns</p>\n",
              "</div>"
            ],
            "text/plain": [
              "   0    1    2     3    4    5    6    ...  193  194  195  196  197  198  199\n",
              "0   26    4    2    19   86  546    8  ...    0    0    0    0    0    0    0\n",
              "1    3   61    2  3336   13    6   57  ...    0    0    0    0    0    0    0\n",
              "\n",
              "[2 rows x 200 columns]"
            ]
          },
          "metadata": {
            "tags": []
          },
          "execution_count": 43
        }
      ]
    },
    {
      "cell_type": "code",
      "metadata": {
        "id": "o5tRMkLlpeei",
        "colab_type": "code",
        "colab": {
          "base_uri": "https://localhost:8080/",
          "height": 843
        },
        "outputId": "2d236072-c92a-4318-da74-9119c4ff0499"
      },
      "source": [
        "vars(int_q1._index_lookup_layer)"
      ],
      "execution_count": 51,
      "outputs": [
        {
          "output_type": "execute_result",
          "data": {
            "text/plain": [
              "{'_activity_regularizer': None,\n",
              " '_autocast': True,\n",
              " '_build_input_shape': TensorShape([2, None]),\n",
              " '_callable_losses': [],\n",
              " '_combiner': <_IndexLookupCombiner>,\n",
              " '_dtype_defaulted_to_floatx': False,\n",
              " '_dtype_policy': <Policy \"string\", loss_scale=None>,\n",
              " '_dynamic': False,\n",
              " '_expects_mask_arg': False,\n",
              " '_expects_training_arg': False,\n",
              " '_inbound_nodes': [],\n",
              " '_initial_weights': None,\n",
              " '_input_spec': None,\n",
              " '_inverse_table': None,\n",
              " '_layers': [OrderedDict()],\n",
              " '_losses': [],\n",
              " '_max_elements': 9999,\n",
              " '_metrics': [],\n",
              " '_name': 'index_lookup_3',\n",
              " '_non_trainable_weights': [<tensorflow.python.keras.engine.base_layer_utils.TrackableWeightHandler at 0x7fc3f39884a8>],\n",
              " '_obj_reference_counts_dict': ObjectIdentityDictionary({<_ObjectIdentityWrapper wrapping 10000>: 1, <_ObjectIdentityWrapper wrapping 1>: 2, <_ObjectIdentityWrapper wrapping True>: 2, <_ObjectIdentityWrapper wrapping False>: 1, <_ObjectIdentityWrapper wrapping 2>: 1, <_ObjectIdentityWrapper wrapping 9999>: 1, <_ObjectIdentityWrapper wrapping <_IndexLookupCombiner>>: 1, <_ObjectIdentityWrapper wrapping DictWrapper(OrderedDict())>: 1, <_ObjectIdentityWrapper wrapping tf.int64>: 1, <_ObjectIdentityWrapper wrapping <tensorflow.python.ops.lookup_ops.MutableHashTable object at 0x7fc3f3988c18>>: 1}),\n",
              " '_oov_value': 1,\n",
              " '_outbound_nodes': [],\n",
              " '_output_dtype': tf.int64,\n",
              " '_previously_updated': False,\n",
              " '_reserved_values': 2,\n",
              " '_self_name_based_restores': set(),\n",
              " '_self_setattr_tracking': True,\n",
              " '_self_unconditional_checkpoint_dependencies': [TrackableReference(name='state_variables', ref=DictWrapper(OrderedDict())),\n",
              "  TrackableReference(name='_table', ref=<tensorflow.python.ops.lookup_ops.MutableHashTable object at 0x7fc3f3988c18>)],\n",
              " '_self_unconditional_deferred_dependencies': {},\n",
              " '_self_unconditional_dependency_names': {'_table': <tensorflow.python.ops.lookup_ops.MutableHashTable at 0x7fc3f3988c18>,\n",
              "  'state_variables': OrderedDict()},\n",
              " '_self_update_uid': -1,\n",
              " '_stateful': False,\n",
              " '_supports_ragged_inputs': True,\n",
              " '_table': <tensorflow.python.ops.lookup_ops.MutableHashTable at 0x7fc3f3988c18>,\n",
              " '_thread_local': <_thread._local at 0x7fc3f3ff9b48>,\n",
              " '_trainable': True,\n",
              " '_trainable_weights': [],\n",
              " '_updates': [],\n",
              " 'built': True,\n",
              " 'mask_zero': False,\n",
              " 'max_tokens': 10000,\n",
              " 'num_oov_tokens': 1,\n",
              " 'reserve_zero': True,\n",
              " 'state_variables': OrderedDict(),\n",
              " 'supports_masking': False}"
            ]
          },
          "metadata": {
            "tags": []
          },
          "execution_count": 51
        }
      ]
    },
    {
      "cell_type": "markdown",
      "metadata": {
        "id": "x5DqDcgxoHnu",
        "colab_type": "text"
      },
      "source": [
        "Let's check the vocab created by both vectorizers"
      ]
    },
    {
      "cell_type": "code",
      "metadata": {
        "id": "a6d8NiGJn-Wl",
        "colab_type": "code",
        "colab": {
          "base_uri": "https://localhost:8080/",
          "height": 34
        },
        "outputId": "21b867f8-50ef-4b37-dd9c-7082b49f3165"
      },
      "source": [
        "sentence = np.array(['hillary'])\n",
        "tokens1 = int_q1._index_lookup_layer(sentence)\n",
        "tokens2 = int_q2._index_lookup_layer(sentence)\n",
        "tokens1.numpy(), tokens2.numpy()"
      ],
      "execution_count": 45,
      "outputs": [
        {
          "output_type": "execute_result",
          "data": {
            "text/plain": [
              "(array([209]), array([214]))"
            ]
          },
          "metadata": {
            "tags": []
          },
          "execution_count": 45
        }
      ]
    },
    {
      "cell_type": "markdown",
      "metadata": {
        "id": "vTAa2pnRoW15",
        "colab_type": "text"
      },
      "source": [
        "> A PAD token (encoded as 0) is added to the vocabulary, this is why the word `hilary` is encoded differently here."
      ]
    },
    {
      "cell_type": "markdown",
      "metadata": {
        "id": "JJEs-4s2opTn",
        "colab_type": "text"
      },
      "source": [
        "### Model"
      ]
    },
    {
      "cell_type": "code",
      "metadata": {
        "id": "16N9xjwnoMzF",
        "colab_type": "code",
        "colab": {}
      },
      "source": [
        "input1 = Input(shape=(1,), dtype=tf.string)\n",
        "input2 = Input(shape=(1,), dtype=tf.string)\n",
        "\n",
        "int1 = int_q1(input1)\n",
        "int2 = int_q2(input2)\n",
        "\n",
        "# we must count for the PAD token, this is why +1\n",
        "embed1 = Embedding(config.max_tokens + 1, config.embed_size, embeddings_initializer=\"glorot_uniform\")(int1)\n",
        "embed2 = Embedding(config.max_tokens + 1, config.embed_size, embeddings_initializer=\"glorot_uniform\")(int2)\n",
        "\n",
        "drop1 = Dropout(config.dropout)(embed1)\n",
        "drop2 = Dropout(config.dropout)(embed2)\n",
        "\n",
        "lstm1 = Bidirectional(LSTM(config.embed_size))(drop1)\n",
        "lstm2 = Bidirectional(LSTM(config.embed_size))(drop2)\n",
        "\n",
        "output = Concatenate()([lstm1, lstm2])\n",
        "output = Dense(1, kernel_initializer=\"glorot_uniform\", activation=\"sigmoid\")(output)\n",
        "\n",
        "model = Model(inputs=[input1, input2], outputs=output)\n",
        "model.compile(loss=\"binary_crossentropy\", optimizer=\"adam\", metrics=['accuracy'])"
      ],
      "execution_count": 0,
      "outputs": []
    },
    {
      "cell_type": "code",
      "metadata": {
        "id": "_9VHCi1_rpEa",
        "colab_type": "code",
        "colab": {
          "base_uri": "https://localhost:8080/",
          "height": 571
        },
        "outputId": "0b563f3f-2512-4066-b00e-9302b1f212ef"
      },
      "source": [
        "model.summary()"
      ],
      "execution_count": 88,
      "outputs": [
        {
          "output_type": "stream",
          "text": [
            "Model: \"model_5\"\n",
            "__________________________________________________________________________________________________\n",
            "Layer (type)                    Output Shape         Param #     Connected to                     \n",
            "==================================================================================================\n",
            "input_17 (InputLayer)           [(None, 1)]          0                                            \n",
            "__________________________________________________________________________________________________\n",
            "input_18 (InputLayer)           [(None, 1)]          0                                            \n",
            "__________________________________________________________________________________________________\n",
            "text_vectorization_3 (TextVecto (None, 200)          0           input_17[0][0]                   \n",
            "__________________________________________________________________________________________________\n",
            "text_vectorization_4 (TextVecto (None, 200)          0           input_18[0][0]                   \n",
            "__________________________________________________________________________________________________\n",
            "embedding_10 (Embedding)        (None, 200, 100)     1000100     text_vectorization_3[5][0]       \n",
            "__________________________________________________________________________________________________\n",
            "embedding_11 (Embedding)        (None, 200, 100)     1000100     text_vectorization_4[5][0]       \n",
            "__________________________________________________________________________________________________\n",
            "dropout (Dropout)               (None, 200, 100)     0           embedding_10[0][0]               \n",
            "__________________________________________________________________________________________________\n",
            "dropout_1 (Dropout)             (None, 200, 100)     0           embedding_11[0][0]               \n",
            "__________________________________________________________________________________________________\n",
            "bidirectional (Bidirectional)   (None, 200)          160800      dropout[0][0]                    \n",
            "__________________________________________________________________________________________________\n",
            "bidirectional_1 (Bidirectional) (None, 200)          160800      dropout_1[0][0]                  \n",
            "__________________________________________________________________________________________________\n",
            "concatenate_5 (Concatenate)     (None, 400)          0           bidirectional[0][0]              \n",
            "                                                                 bidirectional_1[0][0]            \n",
            "__________________________________________________________________________________________________\n",
            "dense_5 (Dense)                 (None, 1)            401         concatenate_5[0][0]              \n",
            "==================================================================================================\n",
            "Total params: 2,322,201\n",
            "Trainable params: 2,322,201\n",
            "Non-trainable params: 0\n",
            "__________________________________________________________________________________________________\n"
          ],
          "name": "stdout"
        }
      ]
    },
    {
      "cell_type": "code",
      "metadata": {
        "id": "YUhQTrWbrsEA",
        "colab_type": "code",
        "colab": {
          "base_uri": "https://localhost:8080/",
          "height": 754
        },
        "outputId": "d94261c0-fde8-4580-a1b0-461cf8421436"
      },
      "source": [
        "plot_model(model, to_file='quora-duplicate-questions-lstm.png', show_shapes=True)"
      ],
      "execution_count": 89,
      "outputs": [
        {
          "output_type": "execute_result",
          "data": {
            "image/png": "[encoded data removed]",
            "text/plain": [
              "<IPython.core.display.Image object>"
            ]
          },
          "metadata": {
            "tags": []
          },
          "execution_count": 89
        }
      ]
    },
    {
      "cell_type": "code",
      "metadata": {
        "id": "CmgYmsvor1ng",
        "colab_type": "code",
        "colab": {
          "base_uri": "https://localhost:8080/",
          "height": 87
        },
        "outputId": "1a839234-1ae6-47c9-9a6f-e193c11fb6da"
      },
      "source": [
        "experiment.log_image('quora-duplicate-questions-lstm.png')"
      ],
      "execution_count": 90,
      "outputs": [
        {
          "output_type": "execute_result",
          "data": {
            "text/plain": [
              "{'api': 'https://www.comet.ml/api/rest/v1/image/get-image?imageId=ad949fe5da0f4ed3b3a7e3cfca079171&experimentKey=7d9c812f6b5b4aee87eb1fcf68f1970d',\n",
              " 'imageId': 'ad949fe5da0f4ed3b3a7e3cfca079171',\n",
              " 'web': 'https://www.comet.ml/api/image/download?imageId=ad949fe5da0f4ed3b3a7e3cfca079171&experimentKey=7d9c812f6b5b4aee87eb1fcf68f1970d'}"
            ]
          },
          "metadata": {
            "tags": []
          },
          "execution_count": 90
        }
      ]
    },
    {
      "cell_type": "code",
      "metadata": {
        "id": "2ieeQyGZsAVg",
        "colab_type": "code",
        "colab": {
          "base_uri": "https://localhost:8080/",
          "height": 386
        },
        "outputId": "89b72eab-3e1e-4c3d-96d7-a869fc3ac4d2"
      },
      "source": [
        "model.fit(train_ds, validation_data=valid_ds, epochs=10)"
      ],
      "execution_count": 91,
      "outputs": [
        {
          "output_type": "stream",
          "text": [
            "Train for 5054 steps, validate for 1264 steps\n",
            "Epoch 1/10\n",
            "5054/5054 [==============================] - 349s 69ms/step - loss: 0.5121 - accuracy: 0.7500 - val_loss: 0.4987 - val_accuracy: 0.7573\n",
            "Epoch 2/10\n",
            "5054/5054 [==============================] - 440s 87ms/step - loss: 0.4630 - accuracy: 0.7809 - val_loss: 0.4951 - val_accuracy: 0.7623\n",
            "Epoch 3/10\n",
            "5054/5054 [==============================] - 457s 90ms/step - loss: 0.4217 - accuracy: 0.8045 - val_loss: 0.5151 - val_accuracy: 0.7518\n",
            "Epoch 4/10\n",
            "5054/5054 [==============================] - 459s 91ms/step - loss: 0.3768 - accuracy: 0.8298 - val_loss: 0.5478 - val_accuracy: 0.7429\n",
            "Epoch 5/10\n",
            "5054/5054 [==============================] - 467s 92ms/step - loss: 0.3392 - accuracy: 0.8482 - val_loss: 0.5988 - val_accuracy: 0.7326\n",
            "Epoch 6/10\n",
            "5054/5054 [==============================] - 462s 91ms/step - loss: 0.3103 - accuracy: 0.8627 - val_loss: 0.6342 - val_accuracy: 0.7430\n",
            "Epoch 7/10\n",
            "5054/5054 [==============================] - 461s 91ms/step - loss: 0.2869 - accuracy: 0.8739 - val_loss: 0.6636 - val_accuracy: 0.7435\n",
            "Epoch 8/10\n",
            "5054/5054 [==============================] - 462s 91ms/step - loss: 0.2702 - accuracy: 0.8818 - val_loss: 0.7022 - val_accuracy: 0.7370\n",
            "Epoch 9/10\n",
            "5054/5054 [==============================] - 460s 91ms/step - loss: 0.2561 - accuracy: 0.8881 - val_loss: 0.7169 - val_accuracy: 0.7414\n",
            "Epoch 10/10\n",
            "5054/5054 [==============================] - 447s 88ms/step - loss: 0.2442 - accuracy: 0.8940 - val_loss: 0.7397 - val_accuracy: 0.7474\n"
          ],
          "name": "stdout"
        },
        {
          "output_type": "execute_result",
          "data": {
            "text/plain": [
              "<tensorflow.python.keras.callbacks.History at 0x7fc3f20b6630>"
            ]
          },
          "metadata": {
            "tags": []
          },
          "execution_count": 91
        }
      ]
    },
    {
      "cell_type": "code",
      "metadata": {
        "id": "j-R5jHr6zPKY",
        "colab_type": "code",
        "colab": {}
      },
      "source": [
        ""
      ],
      "execution_count": 0,
      "outputs": []
    }
  ]
}