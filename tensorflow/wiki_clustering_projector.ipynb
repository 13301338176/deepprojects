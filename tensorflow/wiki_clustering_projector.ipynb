{
  "nbformat": 4,
  "nbformat_minor": 0,
  "metadata": {
    "colab": {
      "name": "wiki-clustering-projector.ipynb",
      "provenance": [],
      "collapsed_sections": []
    },
    "kernelspec": {
      "name": "python3",
      "display_name": "Python 3"
    },
    "accelerator": "GPU",
    "widgets": {
      "application/vnd.jupyter.widget-state+json": {
        "ccff67f77c334c75a73bfc28a94f4f96": {
          "model_module": "@jupyter-widgets/controls",
          "model_name": "HBoxModel",
          "state": {
            "_view_name": "HBoxView",
            "_dom_classes": [],
            "_model_name": "HBoxModel",
            "_view_module": "@jupyter-widgets/controls",
            "_model_module_version": "1.5.0",
            "_view_count": null,
            "_view_module_version": "1.5.0",
            "box_style": "",
            "layout": "IPY_MODEL_7eb6cc93a142485d98d3de4f51acec0f",
            "_model_module": "@jupyter-widgets/controls",
            "children": [
              "IPY_MODEL_7465af7b02e74c5e800aa05ceff12e8e",
              "IPY_MODEL_f80d84524fe2467c8d5822ba0f84926f"
            ]
          }
        },
        "7eb6cc93a142485d98d3de4f51acec0f": {
          "model_module": "@jupyter-widgets/base",
          "model_name": "LayoutModel",
          "state": {
            "_view_name": "LayoutView",
            "grid_template_rows": null,
            "right": null,
            "justify_content": null,
            "_view_module": "@jupyter-widgets/base",
            "overflow": null,
            "_model_module_version": "1.2.0",
            "_view_count": null,
            "flex_flow": null,
            "width": null,
            "min_width": null,
            "border": null,
            "align_items": null,
            "bottom": null,
            "_model_module": "@jupyter-widgets/base",
            "top": null,
            "grid_column": null,
            "overflow_y": null,
            "overflow_x": null,
            "grid_auto_flow": null,
            "grid_area": null,
            "grid_template_columns": null,
            "flex": null,
            "_model_name": "LayoutModel",
            "justify_items": null,
            "grid_row": null,
            "max_height": null,
            "align_content": null,
            "visibility": null,
            "align_self": null,
            "height": null,
            "min_height": null,
            "padding": null,
            "grid_auto_rows": null,
            "grid_gap": null,
            "max_width": null,
            "order": null,
            "_view_module_version": "1.2.0",
            "grid_template_areas": null,
            "object_position": null,
            "object_fit": null,
            "grid_auto_columns": null,
            "margin": null,
            "display": null,
            "left": null
          }
        },
        "7465af7b02e74c5e800aa05ceff12e8e": {
          "model_module": "@jupyter-widgets/controls",
          "model_name": "IntProgressModel",
          "state": {
            "_view_name": "ProgressView",
            "style": "IPY_MODEL_b8b32ec3f14f402db8502aa2273c3bb0",
            "_dom_classes": [],
            "description": "",
            "_model_name": "IntProgressModel",
            "bar_style": "success",
            "max": 1003,
            "_view_module": "@jupyter-widgets/controls",
            "_model_module_version": "1.5.0",
            "value": 1003,
            "_view_count": null,
            "_view_module_version": "1.5.0",
            "orientation": "horizontal",
            "min": 0,
            "description_tooltip": null,
            "_model_module": "@jupyter-widgets/controls",
            "layout": "IPY_MODEL_29a3b286cbba4b498720b10a577a78bf"
          }
        },
        "f80d84524fe2467c8d5822ba0f84926f": {
          "model_module": "@jupyter-widgets/controls",
          "model_name": "HTMLModel",
          "state": {
            "_view_name": "HTMLView",
            "style": "IPY_MODEL_8d4c898bc6264c1dbe4b3150fbc942fb",
            "_dom_classes": [],
            "description": "",
            "_model_name": "HTMLModel",
            "placeholder": "​",
            "_view_module": "@jupyter-widgets/controls",
            "_model_module_version": "1.5.0",
            "value": "100% 1003/1003 [35:45&lt;00:00,  2.14s/it]",
            "_view_count": null,
            "_view_module_version": "1.5.0",
            "description_tooltip": null,
            "_model_module": "@jupyter-widgets/controls",
            "layout": "IPY_MODEL_aa58225c96a945bcbf8ff962da97e65a"
          }
        },
        "b8b32ec3f14f402db8502aa2273c3bb0": {
          "model_module": "@jupyter-widgets/controls",
          "model_name": "ProgressStyleModel",
          "state": {
            "_view_name": "StyleView",
            "_model_name": "ProgressStyleModel",
            "description_width": "",
            "_view_module": "@jupyter-widgets/base",
            "_model_module_version": "1.5.0",
            "_view_count": null,
            "_view_module_version": "1.2.0",
            "bar_color": null,
            "_model_module": "@jupyter-widgets/controls"
          }
        },
        "29a3b286cbba4b498720b10a577a78bf": {
          "model_module": "@jupyter-widgets/base",
          "model_name": "LayoutModel",
          "state": {
            "_view_name": "LayoutView",
            "grid_template_rows": null,
            "right": null,
            "justify_content": null,
            "_view_module": "@jupyter-widgets/base",
            "overflow": null,
            "_model_module_version": "1.2.0",
            "_view_count": null,
            "flex_flow": null,
            "width": null,
            "min_width": null,
            "border": null,
            "align_items": null,
            "bottom": null,
            "_model_module": "@jupyter-widgets/base",
            "top": null,
            "grid_column": null,
            "overflow_y": null,
            "overflow_x": null,
            "grid_auto_flow": null,
            "grid_area": null,
            "grid_template_columns": null,
            "flex": null,
            "_model_name": "LayoutModel",
            "justify_items": null,
            "grid_row": null,
            "max_height": null,
            "align_content": null,
            "visibility": null,
            "align_self": null,
            "height": null,
            "min_height": null,
            "padding": null,
            "grid_auto_rows": null,
            "grid_gap": null,
            "max_width": null,
            "order": null,
            "_view_module_version": "1.2.0",
            "grid_template_areas": null,
            "object_position": null,
            "object_fit": null,
            "grid_auto_columns": null,
            "margin": null,
            "display": null,
            "left": null
          }
        },
        "8d4c898bc6264c1dbe4b3150fbc942fb": {
          "model_module": "@jupyter-widgets/controls",
          "model_name": "DescriptionStyleModel",
          "state": {
            "_view_name": "StyleView",
            "_model_name": "DescriptionStyleModel",
            "description_width": "",
            "_view_module": "@jupyter-widgets/base",
            "_model_module_version": "1.5.0",
            "_view_count": null,
            "_view_module_version": "1.2.0",
            "_model_module": "@jupyter-widgets/controls"
          }
        },
        "aa58225c96a945bcbf8ff962da97e65a": {
          "model_module": "@jupyter-widgets/base",
          "model_name": "LayoutModel",
          "state": {
            "_view_name": "LayoutView",
            "grid_template_rows": null,
            "right": null,
            "justify_content": null,
            "_view_module": "@jupyter-widgets/base",
            "overflow": null,
            "_model_module_version": "1.2.0",
            "_view_count": null,
            "flex_flow": null,
            "width": null,
            "min_width": null,
            "border": null,
            "align_items": null,
            "bottom": null,
            "_model_module": "@jupyter-widgets/base",
            "top": null,
            "grid_column": null,
            "overflow_y": null,
            "overflow_x": null,
            "grid_auto_flow": null,
            "grid_area": null,
            "grid_template_columns": null,
            "flex": null,
            "_model_name": "LayoutModel",
            "justify_items": null,
            "grid_row": null,
            "max_height": null,
            "align_content": null,
            "visibility": null,
            "align_self": null,
            "height": null,
            "min_height": null,
            "padding": null,
            "grid_auto_rows": null,
            "grid_gap": null,
            "max_width": null,
            "order": null,
            "_view_module_version": "1.2.0",
            "grid_template_areas": null,
            "object_position": null,
            "object_fit": null,
            "grid_auto_columns": null,
            "margin": null,
            "display": null,
            "left": null
          }
        }
      }
    }
  },
  "cells": [
    {
      "cell_type": "markdown",
      "metadata": {
        "id": "lnVu4B-pcfLh",
        "colab_type": "text"
      },
      "source": [
        "# Wikipedia articles clustering with Projector\n",
        "In this example, we cluster Wikipedia articles and visualize them in [Projector](http://projector.tensorflow.org/).\n",
        "\n",
        "1. Download raw text from Wikipedia\n",
        "2. Convert the articles to a tf-idf matrix.\n",
        "3. Reduce the dimensionality of the resulting tf-idf matrix using SVD\n",
        "4. Upload the vectors to Projector"
      ]
    },
    {
      "cell_type": "code",
      "metadata": {
        "id": "EeTyTinLcfnd",
        "colab_type": "code",
        "outputId": "0e68e34e-80d2-4412-b63a-131dd3ed0c9a",
        "colab": {
          "base_uri": "https://localhost:8080/",
          "height": 185
        }
      },
      "source": [
        "!pip install wikipedia -q\n",
        "!pip install tf-nightly -q"
      ],
      "execution_count": 4,
      "outputs": [
        {
          "output_type": "stream",
          "text": [
            "  Building wheel for wikipedia (setup.py) ... \u001b[?25l\u001b[?25hdone\n",
            "\u001b[K     |████████████████████████████████| 449.5MB 34kB/s \n",
            "\u001b[K     |████████████████████████████████| 460kB 48.9MB/s \n",
            "\u001b[K     |████████████████████████████████| 3.9MB 36.1MB/s \n",
            "\u001b[K     |████████████████████████████████| 2.9MB 30.5MB/s \n",
            "\u001b[K     |████████████████████████████████| 81kB 9.8MB/s \n",
            "\u001b[?25h  Building wheel for gast (setup.py) ... \u001b[?25l\u001b[?25hdone\n",
            "\u001b[31mERROR: tensorflow 1.15.0 has requirement gast==0.2.2, but you'll have gast 0.3.2 which is incompatible.\u001b[0m\n",
            "\u001b[31mERROR: google-colab 1.0.0 has requirement google-auth~=1.4.0, but you'll have google-auth 1.10.0 which is incompatible.\u001b[0m\n",
            "\u001b[31mERROR: tb-nightly 2.2.0a20200106 has requirement grpcio>=1.24.3, but you'll have grpcio 1.15.0 which is incompatible.\u001b[0m\n"
          ],
          "name": "stdout"
        }
      ]
    },
    {
      "cell_type": "code",
      "metadata": {
        "id": "1LRzejZGcVxM",
        "colab_type": "code",
        "colab": {}
      },
      "source": [
        "import pickle\n",
        "import wikipedia\n",
        "import numpy as np\n",
        "import tqdm.auto\n",
        "\n",
        "tqdm = tqdm.auto.tqdm\n",
        "\n",
        "import tensorflow as tf\n",
        "from tensorflow.keras.layers.experimental.preprocessing import TextVectorization\n",
        "from sklearn.decomposition import TruncatedSVD"
      ],
      "execution_count": 0,
      "outputs": []
    },
    {
      "cell_type": "code",
      "metadata": {
        "id": "mxNjJZA7ah1V",
        "colab_type": "code",
        "colab": {
          "base_uri": "https://localhost:8080/",
          "height": 34
        },
        "outputId": "cd0e897b-dd9e-479c-ef36-02e8ae7c62df"
      },
      "source": [
        "print('TensorFlow version: ' + tf.__version__)"
      ],
      "execution_count": 3,
      "outputs": [
        {
          "output_type": "stream",
          "text": [
            "TensorFlow version: 2.2.0-dev20200112\n"
          ],
          "name": "stdout"
        }
      ]
    },
    {
      "cell_type": "markdown",
      "metadata": {
        "id": "wGmGn_00d-jw",
        "colab_type": "text"
      },
      "source": [
        "## Data\n",
        "\n",
        "### Downloading\n",
        "As data for this experiment, we will use Wikipedia articles under the [\"Vital articles\"](https://en.wikipedia.org/wiki/Wikipedia:Vital_articles) section."
      ]
    },
    {
      "cell_type": "code",
      "metadata": {
        "id": "uSgw3AA_Hy37",
        "colab_type": "code",
        "colab": {
          "base_uri": "https://localhost:8080/",
          "height": 170,
          "referenced_widgets": [
            "ccff67f77c334c75a73bfc28a94f4f96",
            "7eb6cc93a142485d98d3de4f51acec0f",
            "7465af7b02e74c5e800aa05ceff12e8e",
            "f80d84524fe2467c8d5822ba0f84926f",
            "b8b32ec3f14f402db8502aa2273c3bb0",
            "29a3b286cbba4b498720b10a577a78bf",
            "8d4c898bc6264c1dbe4b3150fbc942fb",
            "aa58225c96a945bcbf8ff962da97e65a"
          ]
        },
        "outputId": "5a1b2368-b1c6-49f2-bc34-90fe4d4ed0e5"
      },
      "source": [
        "main = wikipedia.page('Wikipedia:Vital articles')\n",
        "contents = {}\n",
        "failed = []\n",
        "\n",
        "for article in tqdm(main.links):\n",
        "  if article in contents: continue\n",
        "  try:\n",
        "    text = wikipedia.page(article)\n",
        "    contents[article] = text.content\n",
        "  except:\n",
        "    failed.append(article)"
      ],
      "execution_count": 13,
      "outputs": [
        {
          "output_type": "display_data",
          "data": {
            "application/vnd.jupyter.widget-view+json": {
              "model_id": "ccff67f77c334c75a73bfc28a94f4f96",
              "version_minor": 0,
              "version_major": 2
            },
            "text/plain": [
              "HBox(children=(IntProgress(value=0, max=1003), HTML(value='')))"
            ]
          },
          "metadata": {
            "tags": []
          }
        },
        {
          "output_type": "stream",
          "text": [
            "/usr/local/lib/python3.6/dist-packages/wikipedia/wikipedia.py:389: UserWarning: No parser was explicitly specified, so I'm using the best available HTML parser for this system (\"lxml\"). This usually isn't a problem, but if you run this code on another system, or in a different virtual environment, it may use a different parser and behave differently.\n",
            "\n",
            "The code that caused this warning is on line 389 of the file /usr/local/lib/python3.6/dist-packages/wikipedia/wikipedia.py. To get rid of this warning, pass the additional argument 'features=\"lxml\"' to the BeautifulSoup constructor.\n",
            "\n",
            "  lis = BeautifulSoup(html).find_all('li')\n"
          ],
          "name": "stderr"
        },
        {
          "output_type": "stream",
          "text": [
            "\n"
          ],
          "name": "stdout"
        }
      ]
    },
    {
      "cell_type": "code",
      "metadata": {
        "id": "Jb7LmaiQa2l8",
        "colab_type": "code",
        "colab": {}
      },
      "source": [
        "pickle.dump(contents, open('WikiVitalArticles.pkl', 'wb'))"
      ],
      "execution_count": 0,
      "outputs": []
    },
    {
      "cell_type": "code",
      "metadata": {
        "id": "BRaLiOrPa4Xd",
        "colab_type": "code",
        "colab": {}
      },
      "source": [
        "contents = pickle.load(open('WikiVitalArticles.pkl', 'rb'))"
      ],
      "execution_count": 0,
      "outputs": []
    },
    {
      "cell_type": "markdown",
      "metadata": {
        "id": "u_qp1Fgi7wKJ",
        "colab_type": "text"
      },
      "source": [
        "### Sampling\n",
        "To avoid OOM, select a subset of the downloaded articles."
      ]
    },
    {
      "cell_type": "code",
      "metadata": {
        "id": "mEJc7IyC6J70",
        "colab_type": "code",
        "colab": {}
      },
      "source": [
        "MAX_ARTICLES = 100 #@param max number of tokens"
      ],
      "execution_count": 0,
      "outputs": []
    },
    {
      "cell_type": "code",
      "metadata": {
        "id": "ZamDUv-Aa4yL",
        "colab_type": "code",
        "colab": {}
      },
      "source": [
        "keys = list(contents.keys())"
      ],
      "execution_count": 0,
      "outputs": []
    },
    {
      "cell_type": "code",
      "metadata": {
        "id": "wQUdycr_6Rbh",
        "colab_type": "code",
        "colab": {}
      },
      "source": [
        "indices = list([np.random.randint(0, len(keys)) for i in range(MAX_ARTICLES)])"
      ],
      "execution_count": 0,
      "outputs": []
    },
    {
      "cell_type": "code",
      "metadata": {
        "id": "HcDVzOCWa6SW",
        "colab_type": "code",
        "colab": {}
      },
      "source": [
        "train_input = np.array([[contents[keys[index]].lower()] for index in indices])\n",
        "train_input[:10]"
      ],
      "execution_count": 0,
      "outputs": []
    },
    {
      "cell_type": "markdown",
      "metadata": {
        "id": "ymMZvfWDkZIl",
        "colab_type": "text"
      },
      "source": [
        "## Processing"
      ]
    },
    {
      "cell_type": "code",
      "metadata": {
        "id": "mrNVRbwW2Cw4",
        "colab_type": "code",
        "colab": {}
      },
      "source": [
        "MAX_TOKENS = 2000 #@param max number of tokens"
      ],
      "execution_count": 0,
      "outputs": []
    },
    {
      "cell_type": "markdown",
      "metadata": {
        "id": "jq3v57QukctP",
        "colab_type": "text"
      },
      "source": [
        "### Tokenization"
      ]
    },
    {
      "cell_type": "markdown",
      "metadata": {
        "id": "D4f8tVbY2RMw",
        "colab_type": "text"
      },
      "source": [
        "We need to make sure to limit the number of tokens to avoid OOM, alternatively replace the default normalizer with a custom one that will remove useless token."
      ]
    },
    {
      "cell_type": "code",
      "metadata": {
        "id": "d1VznYdKn4ME",
        "colab_type": "code",
        "colab": {}
      },
      "source": [
        "dataset = tf.data.Dataset.from_tensor_slices(train_input).batch(8)"
      ],
      "execution_count": 0,
      "outputs": []
    },
    {
      "cell_type": "code",
      "metadata": {
        "id": "dLHCSZLwkfK7",
        "colab_type": "code",
        "colab": {}
      },
      "source": [
        "vectorize_layer = TextVectorization(\n",
        "    standardize = 'lower_and_strip_punctuation',\n",
        "    split       = 'whitespace',\n",
        "    max_tokens  = MAX_TOKENS,\n",
        "    output_mode ='tf-idf', \n",
        "    pad_to_max_tokens=False)"
      ],
      "execution_count": 0,
      "outputs": []
    },
    {
      "cell_type": "code",
      "metadata": {
        "id": "wGSHumgblQgh",
        "colab_type": "code",
        "colab": {}
      },
      "source": [
        "vectorize_layer.adapt(train_input)"
      ],
      "execution_count": 0,
      "outputs": []
    },
    {
      "cell_type": "code",
      "metadata": {
        "id": "AzeN6GSXk9rW",
        "colab_type": "code",
        "colab": {}
      },
      "source": [
        "tfids = vectorize_layer(train_input).numpy()"
      ],
      "execution_count": 0,
      "outputs": []
    },
    {
      "cell_type": "code",
      "metadata": {
        "id": "GGBxoWFHpIes",
        "colab_type": "code",
        "colab": {}
      },
      "source": [
        "tfids.shape"
      ],
      "execution_count": 0,
      "outputs": []
    },
    {
      "cell_type": "markdown",
      "metadata": {
        "id": "KiXlMDwO1dAi",
        "colab_type": "text"
      },
      "source": [
        "### Dimensionality reduction with PCA"
      ]
    },
    {
      "cell_type": "code",
      "metadata": {
        "id": "EbR0fBOOpQgg",
        "colab_type": "code",
        "colab": {}
      },
      "source": [
        "svd = TruncatedSVD(n_components=100, random_state=0)\n",
        "tfids_reduced = svd.fit_transform(tfids)"
      ],
      "execution_count": 0,
      "outputs": []
    },
    {
      "cell_type": "code",
      "metadata": {
        "id": "b6Ah6cxvwGsC",
        "colab_type": "code",
        "colab": {}
      },
      "source": [
        "tfids_reduced.shape"
      ],
      "execution_count": 0,
      "outputs": []
    },
    {
      "cell_type": "markdown",
      "metadata": {
        "id": "alqnxYUB4z3O",
        "colab_type": "text"
      },
      "source": [
        "## Output\n",
        "Save the metadata (article names) and vectors, then upload them to Projector for further analysis."
      ]
    },
    {
      "cell_type": "code",
      "metadata": {
        "id": "a0nZhdkqpTAp",
        "colab_type": "code",
        "colab": {}
      },
      "source": [
        "np.savetxt('vectors.tsv', tfids_reduced, delimiter='\\t')"
      ],
      "execution_count": 0,
      "outputs": []
    },
    {
      "cell_type": "code",
      "metadata": {
        "id": "W2ktMgOZ4bZg",
        "colab_type": "code",
        "colab": {}
      },
      "source": [
        "open('metadata.tsv', 'w').write('\\n'.join(keys[:100]))"
      ],
      "execution_count": 0,
      "outputs": []
    }
  ]
}