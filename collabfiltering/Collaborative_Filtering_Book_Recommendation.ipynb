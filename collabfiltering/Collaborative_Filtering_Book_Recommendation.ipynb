{
  "nbformat": 4,
  "nbformat_minor": 0,
  "metadata": {
    "colab": {
      "name": "Collaborative Filtering - Book Recommendation.ipynb",
      "version": "0.3.2",
      "provenance": [],
      "collapsed_sections": []
    },
    "kernelspec": {
      "name": "python3",
      "display_name": "Python 3"
    },
    "accelerator": "GPU"
  },
  "cells": [
    {
      "metadata": {
        "id": "YK7A5IVqiyKY",
        "colab_type": "text"
      },
      "cell_type": "markdown",
      "source": [
        "## Book-Corssing Dataset\n",
        "Dataset originial found in this [list](https://gist.github.com/entaroadun/1653794) - [directlink](http://www2.informatik.uni-freiburg.de/~cziegler/BX/)"
      ]
    },
    {
      "metadata": {
        "id": "vu0Eoa02irN-",
        "colab_type": "code",
        "colab": {
          "base_uri": "https://localhost:8080/",
          "height": 748
        },
        "outputId": "e0129e0e-cd28-40c1-896f-224cb95123bd"
      },
      "cell_type": "code",
      "source": [
        "!curl https://course-v3.fast.ai/setup/colab | bash"
      ],
      "execution_count": 1,
      "outputs": [
        {
          "output_type": "stream",
          "text": [
            "  % Total    % Received % Xferd  Average Speed   Time    Time     Time  Current\n",
            "                                 Dload  Upload   Total   Spent    Left  Speed\n",
            "100   665  100   665    0     0   1209      0 --:--:-- --:--:-- --:--:--  1209\n",
            "Requirement already up-to-date: fastai in /usr/local/lib/python3.6/dist-packages (1.0.28)\n",
            "Requirement already satisfied, skipping upgrade: torchvision-nightly in /usr/local/lib/python3.6/dist-packages (from fastai) (0.2.1)\n",
            "Requirement already satisfied, skipping upgrade: fastprogress>=0.1.15 in /usr/local/lib/python3.6/dist-packages (from fastai) (0.1.15)\n",
            "Requirement already satisfied, skipping upgrade: matplotlib in /usr/local/lib/python3.6/dist-packages (from fastai) (2.1.2)\n",
            "Requirement already satisfied, skipping upgrade: Pillow in /usr/local/lib/python3.6/dist-packages (from fastai) (4.1.1)\n",
            "Requirement already satisfied, skipping upgrade: pandas in /usr/local/lib/python3.6/dist-packages (from fastai) (0.22.0)\n",
            "Requirement already satisfied, skipping upgrade: requests in /usr/local/lib/python3.6/dist-packages (from fastai) (2.18.4)\n",
            "Requirement already satisfied, skipping upgrade: regex in /usr/local/lib/python3.6/dist-packages (from fastai) (2018.1.10)\n",
            "Requirement already satisfied, skipping upgrade: numpy>=1.12 in /usr/local/lib/python3.6/dist-packages (from fastai) (1.14.6)\n",
            "Requirement already satisfied, skipping upgrade: cymem==2.0.2 in /usr/local/lib/python3.6/dist-packages (from fastai) (2.0.2)\n",
            "Requirement already satisfied, skipping upgrade: dataclasses in /usr/local/lib/python3.6/dist-packages (from fastai) (0.6)\n",
            "Requirement already satisfied, skipping upgrade: numexpr in /usr/local/lib/python3.6/dist-packages (from fastai) (2.6.8)\n",
            "Requirement already satisfied, skipping upgrade: bottleneck in /usr/local/lib/python3.6/dist-packages (from fastai) (1.2.1)\n",
            "Requirement already satisfied, skipping upgrade: spacy==2.0.16 in /usr/local/lib/python3.6/dist-packages (from fastai) (2.0.16)\n",
            "Requirement already satisfied, skipping upgrade: pyyaml in /usr/local/lib/python3.6/dist-packages (from fastai) (3.13)\n",
            "Requirement already satisfied, skipping upgrade: thinc==6.12.0 in /usr/local/lib/python3.6/dist-packages (from fastai) (6.12.0)\n",
            "Requirement already satisfied, skipping upgrade: typing in /usr/local/lib/python3.6/dist-packages (from fastai) (3.6.6)\n",
            "Requirement already satisfied, skipping upgrade: scipy in /usr/local/lib/python3.6/dist-packages (from fastai) (1.1.0)\n",
            "Requirement already satisfied, skipping upgrade: six in /usr/local/lib/python3.6/dist-packages (from torchvision-nightly->fastai) (1.11.0)\n",
            "Requirement already satisfied, skipping upgrade: tqdm in /usr/local/lib/python3.6/dist-packages (from torchvision-nightly->fastai) (4.28.1)\n",
            "Requirement already satisfied, skipping upgrade: cycler>=0.10 in /usr/local/lib/python3.6/dist-packages (from matplotlib->fastai) (0.10.0)\n",
            "Requirement already satisfied, skipping upgrade: pyparsing!=2.0.4,!=2.1.2,!=2.1.6,>=2.0.1 in /usr/local/lib/python3.6/dist-packages (from matplotlib->fastai) (2.3.0)\n",
            "Requirement already satisfied, skipping upgrade: pytz in /usr/local/lib/python3.6/dist-packages (from matplotlib->fastai) (2018.7)\n",
            "Requirement already satisfied, skipping upgrade: python-dateutil>=2.1 in /usr/local/lib/python3.6/dist-packages (from matplotlib->fastai) (2.5.3)\n",
            "Requirement already satisfied, skipping upgrade: olefile in /usr/local/lib/python3.6/dist-packages (from Pillow->fastai) (0.46)\n",
            "Requirement already satisfied, skipping upgrade: idna<2.7,>=2.5 in /usr/local/lib/python3.6/dist-packages (from requests->fastai) (2.6)\n",
            "Requirement already satisfied, skipping upgrade: certifi>=2017.4.17 in /usr/local/lib/python3.6/dist-packages (from requests->fastai) (2018.10.15)\n",
            "Requirement already satisfied, skipping upgrade: urllib3<1.23,>=1.21.1 in /usr/local/lib/python3.6/dist-packages (from requests->fastai) (1.22)\n",
            "Requirement already satisfied, skipping upgrade: chardet<3.1.0,>=3.0.2 in /usr/local/lib/python3.6/dist-packages (from requests->fastai) (3.0.4)\n",
            "Requirement already satisfied, skipping upgrade: plac<1.0.0,>=0.9.6 in /usr/local/lib/python3.6/dist-packages (from spacy==2.0.16->fastai) (0.9.6)\n",
            "Requirement already satisfied, skipping upgrade: msgpack-numpy<0.4.4 in /usr/local/lib/python3.6/dist-packages (from spacy==2.0.16->fastai) (0.4.3.2)\n",
            "Requirement already satisfied, skipping upgrade: dill<0.3,>=0.2 in /usr/local/lib/python3.6/dist-packages (from spacy==2.0.16->fastai) (0.2.8.2)\n",
            "Requirement already satisfied, skipping upgrade: preshed<2.1.0,>=2.0.1 in /usr/local/lib/python3.6/dist-packages (from spacy==2.0.16->fastai) (2.0.1)\n",
            "Requirement already satisfied, skipping upgrade: murmurhash<1.1.0,>=0.28.0 in /usr/local/lib/python3.6/dist-packages (from spacy==2.0.16->fastai) (1.0.1)\n",
            "Requirement already satisfied, skipping upgrade: ujson>=1.35 in /usr/local/lib/python3.6/dist-packages (from spacy==2.0.16->fastai) (1.35)\n",
            "Requirement already satisfied, skipping upgrade: msgpack<1.0.0,>=0.5.6 in /usr/local/lib/python3.6/dist-packages (from thinc==6.12.0->fastai) (0.5.6)\n",
            "Requirement already satisfied, skipping upgrade: wrapt<1.11.0,>=1.10.0 in /usr/local/lib/python3.6/dist-packages (from thinc==6.12.0->fastai) (1.10.11)\n",
            "Requirement already satisfied, skipping upgrade: cytoolz<0.10,>=0.9.0 in /usr/local/lib/python3.6/dist-packages (from thinc==6.12.0->fastai) (0.9.0.1)\n",
            "Requirement already satisfied, skipping upgrade: toolz>=0.8.0 in /usr/local/lib/python3.6/dist-packages (from cytoolz<0.10,>=0.9.0->thinc==6.12.0->fastai) (0.9.0)\n",
            "Already up to date.\n"
          ],
          "name": "stdout"
        }
      ]
    },
    {
      "metadata": {
        "id": "Aa_hExrUjTtj",
        "colab_type": "code",
        "colab": {}
      },
      "cell_type": "code",
      "source": [
        "from fastai import *\n",
        "from fastai.collab import *\n",
        "from fastai.tabular import *"
      ],
      "execution_count": 0,
      "outputs": []
    },
    {
      "metadata": {
        "id": "Pn6Hvhw9k9yG",
        "colab_type": "code",
        "colab": {
          "base_uri": "https://localhost:8080/",
          "height": 68
        },
        "outputId": "2ee29126-c581-4a91-db52-8a0e9004824d"
      },
      "cell_type": "code",
      "source": [
        "!curl -O http://www2.informatik.uni-freiburg.de/~cziegler/BX/BX-CSV-Dump.zip"
      ],
      "execution_count": 3,
      "outputs": [
        {
          "output_type": "stream",
          "text": [
            "  % Total    % Received % Xferd  Average Speed   Time    Time     Time  Current\n",
            "                                 Dload  Upload   Total   Spent    Left  Speed\n",
            "100 24.8M  100 24.8M    0     0  3893k      0  0:00:06  0:00:06 --:--:-- 5740k\n"
          ],
          "name": "stdout"
        }
      ]
    },
    {
      "metadata": {
        "id": "cNWTgxlmlHk1",
        "colab_type": "code",
        "colab": {
          "base_uri": "https://localhost:8080/",
          "height": 102
        },
        "outputId": "5abee022-74d2-4d7f-cdae-5202fb5ea0e4"
      },
      "cell_type": "code",
      "source": [
        "!unzip BX-CSV-Dump.zip"
      ],
      "execution_count": 4,
      "outputs": [
        {
          "output_type": "stream",
          "text": [
            "Archive:  BX-CSV-Dump.zip\n",
            "replace BX-Book-Ratings.csv? [y]es, [n]o, [A]ll, [N]one, [r]ename: A\n",
            "  inflating: BX-Book-Ratings.csv     \n",
            "  inflating: BX-Books.csv            \n",
            "  inflating: BX-Users.csv            \n"
          ],
          "name": "stdout"
        }
      ]
    },
    {
      "metadata": {
        "id": "JjXqQw3KlScy",
        "colab_type": "code",
        "colab": {
          "base_uri": "https://localhost:8080/",
          "height": 51
        },
        "outputId": "5b30ae95-86bc-45a5-8c2a-1600ec392126"
      },
      "cell_type": "code",
      "source": [
        "!ls"
      ],
      "execution_count": 5,
      "outputs": [
        {
          "output_type": "stream",
          "text": [
            "BX-Book-Ratings.csv  BX-CSV-Dump.zip  course-v3  entree\t\t     models\n",
            "BX-Books.csv\t     BX-Users.csv     data\t entree_data.tar.gz\n"
          ],
          "name": "stdout"
        }
      ]
    },
    {
      "metadata": {
        "id": "Df4-E6gIljl5",
        "colab_type": "code",
        "colab": {}
      },
      "cell_type": "code",
      "source": [
        "path=Path('')"
      ],
      "execution_count": 0,
      "outputs": []
    },
    {
      "metadata": {
        "id": "B4nLpKfIzAcQ",
        "colab_type": "text"
      },
      "cell_type": "markdown",
      "source": [
        "Old CSV files tends to be encoded in something else than UTF-8, thus python 3 (which by default tries to read files in UTF-8) fails when it encounter wrongly encoded characters (e.g. `0xfc`)."
      ]
    },
    {
      "metadata": {
        "id": "uQIkPsBCm6UE",
        "colab_type": "code",
        "colab": {
          "base_uri": "https://localhost:8080/",
          "height": 204
        },
        "outputId": "9775bcde-bbfa-4159-eba7-fa6d401f0122"
      },
      "cell_type": "code",
      "source": [
        "ratings = pd.read_csv(path/'BX-Book-Ratings.csv', delimiter=';', encoding='latin-1')\n",
        "ratings.head()"
      ],
      "execution_count": 7,
      "outputs": [
        {
          "output_type": "execute_result",
          "data": {
            "text/html": [
              "<div>\n",
              "<style scoped>\n",
              "    .dataframe tbody tr th:only-of-type {\n",
              "        vertical-align: middle;\n",
              "    }\n",
              "\n",
              "    .dataframe tbody tr th {\n",
              "        vertical-align: top;\n",
              "    }\n",
              "\n",
              "    .dataframe thead th {\n",
              "        text-align: right;\n",
              "    }\n",
              "</style>\n",
              "<table border=\"1\" class=\"dataframe\">\n",
              "  <thead>\n",
              "    <tr style=\"text-align: right;\">\n",
              "      <th></th>\n",
              "      <th>User-ID</th>\n",
              "      <th>ISBN</th>\n",
              "      <th>Book-Rating</th>\n",
              "    </tr>\n",
              "  </thead>\n",
              "  <tbody>\n",
              "    <tr>\n",
              "      <th>0</th>\n",
              "      <td>276725</td>\n",
              "      <td>034545104X</td>\n",
              "      <td>0</td>\n",
              "    </tr>\n",
              "    <tr>\n",
              "      <th>1</th>\n",
              "      <td>276726</td>\n",
              "      <td>0155061224</td>\n",
              "      <td>5</td>\n",
              "    </tr>\n",
              "    <tr>\n",
              "      <th>2</th>\n",
              "      <td>276727</td>\n",
              "      <td>0446520802</td>\n",
              "      <td>0</td>\n",
              "    </tr>\n",
              "    <tr>\n",
              "      <th>3</th>\n",
              "      <td>276729</td>\n",
              "      <td>052165615X</td>\n",
              "      <td>3</td>\n",
              "    </tr>\n",
              "    <tr>\n",
              "      <th>4</th>\n",
              "      <td>276729</td>\n",
              "      <td>0521795028</td>\n",
              "      <td>6</td>\n",
              "    </tr>\n",
              "  </tbody>\n",
              "</table>\n",
              "</div>"
            ],
            "text/plain": [
              "   User-ID        ISBN  Book-Rating\n",
              "0   276725  034545104X            0\n",
              "1   276726  0155061224            5\n",
              "2   276727  0446520802            0\n",
              "3   276729  052165615X            3\n",
              "4   276729  0521795028            6"
            ]
          },
          "metadata": {
            "tags": []
          },
          "execution_count": 7
        }
      ]
    },
    {
      "metadata": {
        "id": "xIzRO57Oo7QK",
        "colab_type": "text"
      },
      "cell_type": "markdown",
      "source": [
        "The books file (i.e. **BX-Books.csv** ) contains bad data, not only it;s not UTF-8 encoded (but rather latin-1) but also some lines has extra columns (e.g. line number **6452**). That is why we are telling pandas to ignore error by setting the flag **error_bad_lines**."
      ]
    },
    {
      "metadata": {
        "id": "a0VhQ1cDntkQ",
        "colab_type": "code",
        "colab": {
          "base_uri": "https://localhost:8080/",
          "height": 530
        },
        "outputId": "cd4ba417-a9c4-4ee7-a066-11279d992385"
      },
      "cell_type": "code",
      "source": [
        "books = pd.read_csv(path/'BX-Books.csv',  delimiter=';', encoding='latin-1', error_bad_lines=False)\n",
        "books.head()"
      ],
      "execution_count": 8,
      "outputs": [
        {
          "output_type": "stream",
          "text": [
            "b'Skipping line 6452: expected 8 fields, saw 9\\nSkipping line 43667: expected 8 fields, saw 10\\nSkipping line 51751: expected 8 fields, saw 9\\n'\n",
            "b'Skipping line 92038: expected 8 fields, saw 9\\nSkipping line 104319: expected 8 fields, saw 9\\nSkipping line 121768: expected 8 fields, saw 9\\n'\n",
            "b'Skipping line 144058: expected 8 fields, saw 9\\nSkipping line 150789: expected 8 fields, saw 9\\nSkipping line 157128: expected 8 fields, saw 9\\nSkipping line 180189: expected 8 fields, saw 9\\nSkipping line 185738: expected 8 fields, saw 9\\n'\n",
            "b'Skipping line 209388: expected 8 fields, saw 9\\nSkipping line 220626: expected 8 fields, saw 9\\nSkipping line 227933: expected 8 fields, saw 11\\nSkipping line 228957: expected 8 fields, saw 10\\nSkipping line 245933: expected 8 fields, saw 9\\nSkipping line 251296: expected 8 fields, saw 9\\nSkipping line 259941: expected 8 fields, saw 9\\nSkipping line 261529: expected 8 fields, saw 9\\n'\n",
            "/usr/local/lib/python3.6/dist-packages/IPython/core/interactiveshell.py:2718: DtypeWarning: Columns (3) have mixed types. Specify dtype option on import or set low_memory=False.\n",
            "  interactivity=interactivity, compiler=compiler, result=result)\n"
          ],
          "name": "stderr"
        },
        {
          "output_type": "execute_result",
          "data": {
            "text/html": [
              "<div>\n",
              "<style scoped>\n",
              "    .dataframe tbody tr th:only-of-type {\n",
              "        vertical-align: middle;\n",
              "    }\n",
              "\n",
              "    .dataframe tbody tr th {\n",
              "        vertical-align: top;\n",
              "    }\n",
              "\n",
              "    .dataframe thead th {\n",
              "        text-align: right;\n",
              "    }\n",
              "</style>\n",
              "<table border=\"1\" class=\"dataframe\">\n",
              "  <thead>\n",
              "    <tr style=\"text-align: right;\">\n",
              "      <th></th>\n",
              "      <th>ISBN</th>\n",
              "      <th>Book-Title</th>\n",
              "      <th>Book-Author</th>\n",
              "      <th>Year-Of-Publication</th>\n",
              "      <th>Publisher</th>\n",
              "      <th>Image-URL-S</th>\n",
              "      <th>Image-URL-M</th>\n",
              "      <th>Image-URL-L</th>\n",
              "    </tr>\n",
              "  </thead>\n",
              "  <tbody>\n",
              "    <tr>\n",
              "      <th>0</th>\n",
              "      <td>0195153448</td>\n",
              "      <td>Classical Mythology</td>\n",
              "      <td>Mark P. O. Morford</td>\n",
              "      <td>2002</td>\n",
              "      <td>Oxford University Press</td>\n",
              "      <td>http://images.amazon.com/images/P/0195153448.0...</td>\n",
              "      <td>http://images.amazon.com/images/P/0195153448.0...</td>\n",
              "      <td>http://images.amazon.com/images/P/0195153448.0...</td>\n",
              "    </tr>\n",
              "    <tr>\n",
              "      <th>1</th>\n",
              "      <td>0002005018</td>\n",
              "      <td>Clara Callan</td>\n",
              "      <td>Richard Bruce Wright</td>\n",
              "      <td>2001</td>\n",
              "      <td>HarperFlamingo Canada</td>\n",
              "      <td>http://images.amazon.com/images/P/0002005018.0...</td>\n",
              "      <td>http://images.amazon.com/images/P/0002005018.0...</td>\n",
              "      <td>http://images.amazon.com/images/P/0002005018.0...</td>\n",
              "    </tr>\n",
              "    <tr>\n",
              "      <th>2</th>\n",
              "      <td>0060973129</td>\n",
              "      <td>Decision in Normandy</td>\n",
              "      <td>Carlo D'Este</td>\n",
              "      <td>1991</td>\n",
              "      <td>HarperPerennial</td>\n",
              "      <td>http://images.amazon.com/images/P/0060973129.0...</td>\n",
              "      <td>http://images.amazon.com/images/P/0060973129.0...</td>\n",
              "      <td>http://images.amazon.com/images/P/0060973129.0...</td>\n",
              "    </tr>\n",
              "    <tr>\n",
              "      <th>3</th>\n",
              "      <td>0374157065</td>\n",
              "      <td>Flu: The Story of the Great Influenza Pandemic...</td>\n",
              "      <td>Gina Bari Kolata</td>\n",
              "      <td>1999</td>\n",
              "      <td>Farrar Straus Giroux</td>\n",
              "      <td>http://images.amazon.com/images/P/0374157065.0...</td>\n",
              "      <td>http://images.amazon.com/images/P/0374157065.0...</td>\n",
              "      <td>http://images.amazon.com/images/P/0374157065.0...</td>\n",
              "    </tr>\n",
              "    <tr>\n",
              "      <th>4</th>\n",
              "      <td>0393045218</td>\n",
              "      <td>The Mummies of Urumchi</td>\n",
              "      <td>E. J. W. Barber</td>\n",
              "      <td>1999</td>\n",
              "      <td>W. W. Norton &amp;amp; Company</td>\n",
              "      <td>http://images.amazon.com/images/P/0393045218.0...</td>\n",
              "      <td>http://images.amazon.com/images/P/0393045218.0...</td>\n",
              "      <td>http://images.amazon.com/images/P/0393045218.0...</td>\n",
              "    </tr>\n",
              "  </tbody>\n",
              "</table>\n",
              "</div>"
            ],
            "text/plain": [
              "         ISBN                                         Book-Title  \\\n",
              "0  0195153448                                Classical Mythology   \n",
              "1  0002005018                                       Clara Callan   \n",
              "2  0060973129                               Decision in Normandy   \n",
              "3  0374157065  Flu: The Story of the Great Influenza Pandemic...   \n",
              "4  0393045218                             The Mummies of Urumchi   \n",
              "\n",
              "            Book-Author Year-Of-Publication                   Publisher  \\\n",
              "0    Mark P. O. Morford                2002     Oxford University Press   \n",
              "1  Richard Bruce Wright                2001       HarperFlamingo Canada   \n",
              "2          Carlo D'Este                1991             HarperPerennial   \n",
              "3      Gina Bari Kolata                1999        Farrar Straus Giroux   \n",
              "4       E. J. W. Barber                1999  W. W. Norton &amp; Company   \n",
              "\n",
              "                                         Image-URL-S  \\\n",
              "0  http://images.amazon.com/images/P/0195153448.0...   \n",
              "1  http://images.amazon.com/images/P/0002005018.0...   \n",
              "2  http://images.amazon.com/images/P/0060973129.0...   \n",
              "3  http://images.amazon.com/images/P/0374157065.0...   \n",
              "4  http://images.amazon.com/images/P/0393045218.0...   \n",
              "\n",
              "                                         Image-URL-M  \\\n",
              "0  http://images.amazon.com/images/P/0195153448.0...   \n",
              "1  http://images.amazon.com/images/P/0002005018.0...   \n",
              "2  http://images.amazon.com/images/P/0060973129.0...   \n",
              "3  http://images.amazon.com/images/P/0374157065.0...   \n",
              "4  http://images.amazon.com/images/P/0393045218.0...   \n",
              "\n",
              "                                         Image-URL-L  \n",
              "0  http://images.amazon.com/images/P/0195153448.0...  \n",
              "1  http://images.amazon.com/images/P/0002005018.0...  \n",
              "2  http://images.amazon.com/images/P/0060973129.0...  \n",
              "3  http://images.amazon.com/images/P/0374157065.0...  \n",
              "4  http://images.amazon.com/images/P/0393045218.0...  "
            ]
          },
          "metadata": {
            "tags": []
          },
          "execution_count": 8
        }
      ]
    },
    {
      "metadata": {
        "id": "mee_Ux3XpktX",
        "colab_type": "text"
      },
      "cell_type": "markdown",
      "source": [
        "Instead of using the meaningless ISBN codes, use the book names, later it will help interpreting the recommendations."
      ]
    },
    {
      "metadata": {
        "id": "P-OdKzJaoMsv",
        "colab_type": "code",
        "colab": {
          "base_uri": "https://localhost:8080/",
          "height": 204
        },
        "outputId": "a4207c83-f3b5-40de-f205-1c7b60bcf174"
      },
      "cell_type": "code",
      "source": [
        "rating_book = ratings.merge(books[['ISBN', 'Book-Title']])\n",
        "rating_book.head()"
      ],
      "execution_count": 9,
      "outputs": [
        {
          "output_type": "execute_result",
          "data": {
            "text/html": [
              "<div>\n",
              "<style scoped>\n",
              "    .dataframe tbody tr th:only-of-type {\n",
              "        vertical-align: middle;\n",
              "    }\n",
              "\n",
              "    .dataframe tbody tr th {\n",
              "        vertical-align: top;\n",
              "    }\n",
              "\n",
              "    .dataframe thead th {\n",
              "        text-align: right;\n",
              "    }\n",
              "</style>\n",
              "<table border=\"1\" class=\"dataframe\">\n",
              "  <thead>\n",
              "    <tr style=\"text-align: right;\">\n",
              "      <th></th>\n",
              "      <th>User-ID</th>\n",
              "      <th>ISBN</th>\n",
              "      <th>Book-Rating</th>\n",
              "      <th>Book-Title</th>\n",
              "    </tr>\n",
              "  </thead>\n",
              "  <tbody>\n",
              "    <tr>\n",
              "      <th>0</th>\n",
              "      <td>276725</td>\n",
              "      <td>034545104X</td>\n",
              "      <td>0</td>\n",
              "      <td>Flesh Tones: A Novel</td>\n",
              "    </tr>\n",
              "    <tr>\n",
              "      <th>1</th>\n",
              "      <td>2313</td>\n",
              "      <td>034545104X</td>\n",
              "      <td>5</td>\n",
              "      <td>Flesh Tones: A Novel</td>\n",
              "    </tr>\n",
              "    <tr>\n",
              "      <th>2</th>\n",
              "      <td>6543</td>\n",
              "      <td>034545104X</td>\n",
              "      <td>0</td>\n",
              "      <td>Flesh Tones: A Novel</td>\n",
              "    </tr>\n",
              "    <tr>\n",
              "      <th>3</th>\n",
              "      <td>8680</td>\n",
              "      <td>034545104X</td>\n",
              "      <td>5</td>\n",
              "      <td>Flesh Tones: A Novel</td>\n",
              "    </tr>\n",
              "    <tr>\n",
              "      <th>4</th>\n",
              "      <td>10314</td>\n",
              "      <td>034545104X</td>\n",
              "      <td>9</td>\n",
              "      <td>Flesh Tones: A Novel</td>\n",
              "    </tr>\n",
              "  </tbody>\n",
              "</table>\n",
              "</div>"
            ],
            "text/plain": [
              "   User-ID        ISBN  Book-Rating            Book-Title\n",
              "0   276725  034545104X            0  Flesh Tones: A Novel\n",
              "1     2313  034545104X            5  Flesh Tones: A Novel\n",
              "2     6543  034545104X            0  Flesh Tones: A Novel\n",
              "3     8680  034545104X            5  Flesh Tones: A Novel\n",
              "4    10314  034545104X            9  Flesh Tones: A Novel"
            ]
          },
          "metadata": {
            "tags": []
          },
          "execution_count": 9
        }
      ]
    },
    {
      "metadata": {
        "id": "Z16582e3oRVC",
        "colab_type": "code",
        "colab": {}
      },
      "cell_type": "code",
      "source": [
        "data = CollabDataBunch.from_df(rating_book, seed=42, pct_val=0.1, user_name='User-ID', item_name='Book-Title', rating_name='Book-Rating')"
      ],
      "execution_count": 0,
      "outputs": []
    },
    {
      "metadata": {
        "id": "bYCX1BvyrAbg",
        "colab_type": "code",
        "colab": {
          "base_uri": "https://localhost:8080/",
          "height": 327
        },
        "outputId": "68a9cb56-2641-4d72-df6c-028ccf5982a1"
      },
      "cell_type": "code",
      "source": [
        "data.show_batch()"
      ],
      "execution_count": 23,
      "outputs": [
        {
          "output_type": "display_data",
          "data": {
            "text/html": [
              "<table>  <col width='10px'>  <col width='10px'>  <col width='10px'>  <tr>\n",
              "    <th>User-ID</th>\n",
              "    <th>Book-Title</th>\n",
              "    <th>target</th>\n",
              "  </tr>\n",
              "  <tr>\n",
              "    <th>182334</th>\n",
              "    <th>Choke</th>\n",
              "    <th>0.0</th>\n",
              "  </tr>\n",
              "  <tr>\n",
              "    <th>216411</th>\n",
              "    <th>The Glass Lake</th>\n",
              "    <th>0.0</th>\n",
              "  </tr>\n",
              "  <tr>\n",
              "    <th>69697</th>\n",
              "    <th>Midnight Jewels</th>\n",
              "    <th>9.0</th>\n",
              "  </tr>\n",
              "  <tr>\n",
              "    <th>46897</th>\n",
              "    <th>Wind-Up Bird Chronicle</th>\n",
              "    <th>10.0</th>\n",
              "  </tr>\n",
              "  <tr>\n",
              "    <th>250709</th>\n",
              "    <th>Ad Police (Ad Police)</th>\n",
              "    <th>5.0</th>\n",
              "  </tr>\n",
              "  <tr>\n",
              "    <th>23902</th>\n",
              "    <th>Triple (Bookcassette(r) Edition)</th>\n",
              "    <th>5.0</th>\n",
              "  </tr>\n",
              "  <tr>\n",
              "    <th>110029</th>\n",
              "    <th>Best Mans Handbook</th>\n",
              "    <th>0.0</th>\n",
              "  </tr>\n",
              "  <tr>\n",
              "    <th>152958</th>\n",
              "    <th>The Coldest Winter Ever</th>\n",
              "    <th>0.0</th>\n",
              "  </tr>\n",
              "</table>\n"
            ],
            "text/plain": [
              "<IPython.core.display.HTML object>"
            ]
          },
          "metadata": {
            "tags": []
          }
        }
      ]
    },
    {
      "metadata": {
        "id": "nrSXBCNmyH6K",
        "colab_type": "text"
      },
      "cell_type": "markdown",
      "source": [
        "Ratings are either explicit, expressed on a scale from 1-10 (higher values denoting higher appreciation), or implicit, expressed by 0."
      ]
    },
    {
      "metadata": {
        "id": "RGntzEd4rCQD",
        "colab_type": "code",
        "colab": {}
      },
      "cell_type": "code",
      "source": [
        "y_range = [0,10.5]"
      ],
      "execution_count": 0,
      "outputs": []
    },
    {
      "metadata": {
        "id": "070CBt3PrHv5",
        "colab_type": "code",
        "colab": {}
      },
      "cell_type": "code",
      "source": [
        "learn = collab_learner(data, n_factors=40, y_range=y_range, wd=1e-1)"
      ],
      "execution_count": 0,
      "outputs": []
    },
    {
      "metadata": {
        "id": "Fj5WPz5LrJQn",
        "colab_type": "code",
        "colab": {
          "base_uri": "https://localhost:8080/",
          "height": 453
        },
        "outputId": "82543960-55aa-487f-8d2e-eb23c0a9baf9"
      },
      "cell_type": "code",
      "source": [
        "learn.lr_find()\n",
        "learn.recorder.plot(skip_end=15)"
      ],
      "execution_count": 14,
      "outputs": [
        {
          "output_type": "display_data",
          "data": {
            "text/html": [
              "\n",
              "    <div>\n",
              "        <style>\n",
              "        \t/* Turns off some styling */\n",
              "        \tprogress {\n",
              "\n",
              "            \t/* gets rid of default border in Firefox and Opera. */\n",
              "            \tborder: none;\n",
              "\n",
              "            \t/* Needs to be in here for Safari polyfill so background images work as expected. */\n",
              "            \tbackground-size: auto;\n",
              "            }\n",
              "\n",
              "            .progress-bar-interrupted, .progress-bar-interrupted::-webkit-progress-bar {\n",
              "                background: #F44336;\n",
              "            }\n",
              "        </style>\n",
              "      <progress value='0' class='' max='1', style='width:300px; height:20px; vertical-align: middle;'></progress>\n",
              "      0.00% [0/1 00:00<00:00]\n",
              "    </div>\n",
              "    \n",
              "<table style='width:300px; margin-bottom:10px'>\n",
              "  <tr>\n",
              "    <th>epoch</th>\n",
              "    <th>train_loss</th>\n",
              "    <th>valid_loss</th>\n",
              "  </tr>\n",
              "  <tr>\n",
              "\n",
              "  </tr>\n",
              "</table>\n",
              "\n",
              "\n",
              "    <div>\n",
              "        <style>\n",
              "        \t/* Turns off some styling */\n",
              "        \tprogress {\n",
              "\n",
              "            \t/* gets rid of default border in Firefox and Opera. */\n",
              "            \tborder: none;\n",
              "\n",
              "            \t/* Needs to be in here for Safari polyfill so background images work as expected. */\n",
              "            \tbackground-size: auto;\n",
              "            }\n",
              "\n",
              "            .progress-bar-interrupted, .progress-bar-interrupted::-webkit-progress-bar {\n",
              "                background: #F44336;\n",
              "            }\n",
              "        </style>\n",
              "      <progress value='0' class='progress-bar-interrupted' max='14501', style='width:300px; height:20px; vertical-align: middle;'></progress>\n",
              "      Interrupted\n",
              "    </div>\n",
              "    "
            ],
            "text/plain": [
              "<IPython.core.display.HTML object>"
            ]
          },
          "metadata": {
            "tags": []
          }
        },
        {
          "output_type": "stream",
          "text": [
            "LR Finder is complete, type {learner_name}.recorder.plot() to see the graph.\n"
          ],
          "name": "stdout"
        },
        {
          "output_type": "display_data",
          "data": {
            "image/png": "[encoded data removed]",
            "text/plain": [
              "<matplotlib.figure.Figure at 0x7f0ac716b550>"
            ]
          },
          "metadata": {
            "tags": []
          }
        }
      ]
    },
    {
      "metadata": {
        "id": "dKXzV78grLJv",
        "colab_type": "code",
        "colab": {
          "base_uri": "https://localhost:8080/",
          "height": 153
        },
        "outputId": "623452c0-285f-418f-87ac-b9b821db78f5"
      },
      "cell_type": "code",
      "source": [
        "learn.fit_one_cycle(5, 1e-1)"
      ],
      "execution_count": 15,
      "outputs": [
        {
          "output_type": "stream",
          "text": [
            "Total time: 19:53\n",
            "epoch  train_loss  valid_loss\n",
            "1      15.048554   14.940901   (03:58)\n",
            "2      15.467329   15.421408   (03:58)\n",
            "3      14.969577   14.875525   (03:59)\n",
            "4      14.105888   13.993391   (03:58)\n",
            "5      13.375766   13.295375   (03:57)\n",
            "\n"
          ],
          "name": "stdout"
        }
      ]
    },
    {
      "metadata": {
        "id": "mMqgm62drdVU",
        "colab_type": "code",
        "colab": {}
      },
      "cell_type": "code",
      "source": [
        "learn.save('dotprod')"
      ],
      "execution_count": 0,
      "outputs": []
    },
    {
      "metadata": {
        "id": "vgmtgr5XtBBy",
        "colab_type": "text"
      },
      "cell_type": "markdown",
      "source": [
        "## Interpretation"
      ]
    },
    {
      "metadata": {
        "id": "H-Q2CAb5tEdr",
        "colab_type": "text"
      },
      "cell_type": "markdown",
      "source": [
        "### Setup"
      ]
    },
    {
      "metadata": {
        "id": "m13pw3NvtBl9",
        "colab_type": "code",
        "colab": {}
      },
      "cell_type": "code",
      "source": [
        "learn.load('dotprod');"
      ],
      "execution_count": 0,
      "outputs": []
    },
    {
      "metadata": {
        "id": "36g1gVtR4fFa",
        "colab_type": "code",
        "colab": {
          "base_uri": "https://localhost:8080/",
          "height": 119
        },
        "outputId": "0ebd7741-481e-4662-bbf2-09af1abf6475"
      },
      "cell_type": "code",
      "source": [
        "learn.model"
      ],
      "execution_count": 18,
      "outputs": [
        {
          "output_type": "execute_result",
          "data": {
            "text/plain": [
              "EmbeddingDotBias(\n",
              "  (u_weight): Embedding(86851, 40)\n",
              "  (i_weight): Embedding(227837, 40)\n",
              "  (u_bias): Embedding(86851, 1)\n",
              "  (i_bias): Embedding(227837, 1)\n",
              ")"
            ]
          },
          "metadata": {
            "tags": []
          },
          "execution_count": 18
        }
      ]
    },
    {
      "metadata": {
        "id": "bxL5Ox4u5gqn",
        "colab_type": "code",
        "colab": {
          "base_uri": "https://localhost:8080/",
          "height": 85
        },
        "outputId": "b7eefbda-e800-443a-c68a-f3a7ef47db0e"
      },
      "cell_type": "code",
      "source": [
        "g = rating_book.groupby('Book-Title')['Book-Rating'].count()\n",
        "top_books = g.sort_values(ascending=False).index.values[:1000]\n",
        "top_books[:10]"
      ],
      "execution_count": 25,
      "outputs": [
        {
          "output_type": "execute_result",
          "data": {
            "text/plain": [
              "array(['Wild Animus', 'The Lovely Bones: A Novel', 'The Da Vinci Code', 'A Painted House',\n",
              "       'The Nanny Diaries: A Novel', \"Bridget Jones's Diary\", 'The Secret Life of Bees',\n",
              "       'Divine Secrets of the Ya-Ya Sisterhood: A Novel', 'The Red Tent (Bestselling Backlist)', 'Angels &amp; Demons'],\n",
              "      dtype=object)"
            ]
          },
          "metadata": {
            "tags": []
          },
          "execution_count": 25
        }
      ]
    },
    {
      "metadata": {
        "id": "fZIRiV7k6NM5",
        "colab_type": "text"
      },
      "cell_type": "markdown",
      "source": [
        "### Book bias"
      ]
    },
    {
      "metadata": {
        "id": "n56GP8u56HFf",
        "colab_type": "code",
        "colab": {
          "base_uri": "https://localhost:8080/",
          "height": 34
        },
        "outputId": "a6aea762-d25c-499b-d4d6-b81855a51fee"
      },
      "cell_type": "code",
      "source": [
        "book_bias = learn.bias(top_books, is_item=True)\n",
        "book_bias.shape"
      ],
      "execution_count": 26,
      "outputs": [
        {
          "output_type": "execute_result",
          "data": {
            "text/plain": [
              "torch.Size([1000])"
            ]
          },
          "metadata": {
            "tags": []
          },
          "execution_count": 26
        }
      ]
    },
    {
      "metadata": {
        "id": "qxL5rmTy6TCO",
        "colab_type": "code",
        "colab": {}
      },
      "cell_type": "code",
      "source": [
        "mean_ratings = rating_book.groupby('Book-Title')['Book-Rating'].mean()\n",
        "book_ratings = [(b, i, mean_ratings.loc[i]) for i,b in zip(top_books, book_bias)]"
      ],
      "execution_count": 0,
      "outputs": []
    },
    {
      "metadata": {
        "id": "PPqDczv46c4D",
        "colab_type": "code",
        "colab": {}
      },
      "cell_type": "code",
      "source": [
        "item0 = lambda o:o[0]"
      ],
      "execution_count": 0,
      "outputs": []
    },
    {
      "metadata": {
        "id": "cM7hHnla6gnA",
        "colab_type": "code",
        "colab": {
          "base_uri": "https://localhost:8080/",
          "height": 340
        },
        "outputId": "30605ac2-0455-42b5-a4ba-f09f84c32f71"
      },
      "cell_type": "code",
      "source": [
        "sorted(book_ratings, key=item0)[:15]"
      ],
      "execution_count": 31,
      "outputs": [
        {
          "output_type": "execute_result",
          "data": {
            "text/plain": [
              "[(tensor(-1.3601), 'Wild Animus', 1.0195843325339728),\n",
              " (tensor(-0.3963), 'Isle of Dogs', 2.0),\n",
              " (tensor(-0.3473), 'While I Was Gone', 2.5800464037122968),\n",
              " (tensor(-0.3418), 'A Map of the World', 2.492354740061162),\n",
              " (tensor(-0.3416), 'How Stella Got Her Groove Back', 2.1857142857142855),\n",
              " (tensor(-0.3383), 'Women Who Run with the Wolves', 2.121212121212121),\n",
              " (tensor(-0.3196),\n",
              "  'All the Pretty Horses (The Border Trilogy, Vol 1)',\n",
              "  2.2312925170068025),\n",
              " (tensor(-0.3163), 'Slow Waltz in Cedar Bend', 1.8951612903225807),\n",
              " (tensor(-0.3151),\n",
              "  'Midnight in the Garden of Good and Evil: A Savannah Story',\n",
              "  3.147169811320755),\n",
              " (tensor(-0.3106), 'Pleading Guilty', 1.463235294117647),\n",
              " (tensor(-0.3106), 'Here on Earth', 2.245614035087719),\n",
              " (tensor(-0.3037), 'Surfacing', 1.6407766990291262),\n",
              " (tensor(-0.3015), 'Message in a Bottle', 2.778225806451613),\n",
              " (tensor(-0.2956), 'The Reader', 3.0128755364806867),\n",
              " (tensor(-0.2886), 'To the Lighthouse', 2.1607142857142856)]"
            ]
          },
          "metadata": {
            "tags": []
          },
          "execution_count": 31
        }
      ]
    },
    {
      "metadata": {
        "id": "2p5PpBf66iYv",
        "colab_type": "code",
        "colab": {
          "base_uri": "https://localhost:8080/",
          "height": 544
        },
        "outputId": "1f7679de-9e9f-41c5-cae8-0ff164dd04af"
      },
      "cell_type": "code",
      "source": [
        "sorted(book_ratings, key=lambda o: o[0], reverse=True)[:15]"
      ],
      "execution_count": 32,
      "outputs": [
        {
          "output_type": "execute_result",
          "data": {
            "text/plain": [
              "[(tensor(0.2653),\n",
              "  'Harry Potter and the Goblet of Fire (Book 4)',\n",
              "  5.8242894056847545),\n",
              " (tensor(0.2598),\n",
              "  \"Harry Potter and the Sorcerer's Stone (Book 1)\",\n",
              "  5.737410071942446),\n",
              " (tensor(0.2553),\n",
              "  'Harry Potter and the Prisoner of Azkaban (Book 3)',\n",
              "  5.852803738317757),\n",
              " (tensor(0.1708), 'The Giver (21st Century Reference)', 4.916201117318436),\n",
              " (tensor(0.1657), 'Dragonfly in Amber', 4.47682119205298),\n",
              " (tensor(0.1650), 'The Little Prince', 5.815602836879433),\n",
              " (tensor(0.1539),\n",
              "  'The Hobbit : The Enchanting Prelude to The Lord of the Rings',\n",
              "  5.00711743772242),\n",
              " (tensor(0.1443),\n",
              "  'Harry Potter and the Chamber of Secrets (Book 2)',\n",
              "  5.183453237410072),\n",
              " (tensor(0.1361), 'Where the Red Fern Grows', 4.2180451127819545),\n",
              " (tensor(0.1356),\n",
              "  \"Ender's Game (Ender Wiggins Saga (Paperback))\",\n",
              "  5.409638554216867),\n",
              " (tensor(0.1333), 'The Other Boleyn Girl', 4.761006289308176),\n",
              " (tensor(0.1200),\n",
              "  'Harry Potter and the Order of the Phoenix (Book 5)',\n",
              "  5.501440922190202),\n",
              " (tensor(0.1094),\n",
              "  \"Harry Potter and the Sorcerer's Stone (Harry Potter (Paperback))\",\n",
              "  4.895652173913043),\n",
              " (tensor(0.1090), 'The Stand: Complete and Uncut', 4.534351145038168),\n",
              " (tensor(0.1085), 'On Writing', 4.350364963503649)]"
            ]
          },
          "metadata": {
            "tags": []
          },
          "execution_count": 32
        }
      ]
    },
    {
      "metadata": {
        "id": "X0xicyM56pbF",
        "colab_type": "text"
      },
      "cell_type": "markdown",
      "source": [
        "### Book weights"
      ]
    },
    {
      "metadata": {
        "id": "YFWw6gAh6nCo",
        "colab_type": "code",
        "colab": {
          "base_uri": "https://localhost:8080/",
          "height": 34
        },
        "outputId": "7de11219-13cd-43cf-d861-1386c81841ab"
      },
      "cell_type": "code",
      "source": [
        "book_w = learn.weight(top_books, is_item=True)\n",
        "book_w.shape"
      ],
      "execution_count": 33,
      "outputs": [
        {
          "output_type": "execute_result",
          "data": {
            "text/plain": [
              "torch.Size([1000, 40])"
            ]
          },
          "metadata": {
            "tags": []
          },
          "execution_count": 33
        }
      ]
    },
    {
      "metadata": {
        "id": "f6a0rEe06u45",
        "colab_type": "code",
        "colab": {
          "base_uri": "https://localhost:8080/",
          "height": 34
        },
        "outputId": "c00d83ce-150b-4fd1-c1c2-f0f69485ebde"
      },
      "cell_type": "code",
      "source": [
        "book_pca = book_w.pca(3)\n",
        "book_pca.shape"
      ],
      "execution_count": 34,
      "outputs": [
        {
          "output_type": "execute_result",
          "data": {
            "text/plain": [
              "torch.Size([1000, 3])"
            ]
          },
          "metadata": {
            "tags": []
          },
          "execution_count": 34
        }
      ]
    },
    {
      "metadata": {
        "id": "ajk2Yb9Z6zAI",
        "colab_type": "code",
        "colab": {}
      },
      "cell_type": "code",
      "source": [
        "fac0,fac1,fac2 = book_pca.t()\n",
        "book_comp = [(f, i) for f,i in zip(fac0, top_books)]"
      ],
      "execution_count": 0,
      "outputs": []
    },
    {
      "metadata": {
        "id": "Utd0bxau65gt",
        "colab_type": "code",
        "colab": {
          "base_uri": "https://localhost:8080/",
          "height": 204
        },
        "outputId": "026a97df-e29e-46da-f149-0f5446ca25da"
      },
      "cell_type": "code",
      "source": [
        "sorted(book_comp, key=itemgetter(0), reverse=True)[:10]"
      ],
      "execution_count": 36,
      "outputs": [
        {
          "output_type": "execute_result",
          "data": {
            "text/plain": [
              "[(tensor(0.8206), 'The Hundred Secret Senses'),\n",
              " (tensor(0.7492), 'Back Roads'),\n",
              " (tensor(0.7464), \"A Thousand Acres (Ballantine Reader's Circle)\"),\n",
              " (tensor(0.7068), 'Journey'),\n",
              " (tensor(0.6644), 'The Right Hand of Evil'),\n",
              " (tensor(0.6476),\n",
              "  \"Tom Clancy's Op-Center (Tom Clancy's Op Center (Paperback))\"),\n",
              " (tensor(0.6391), 'A Man in Full'),\n",
              " (tensor(0.6266), \"River's End\"),\n",
              " (tensor(0.6221), 'Disclosure'),\n",
              " (tensor(0.6208), 'Paradise')]"
            ]
          },
          "metadata": {
            "tags": []
          },
          "execution_count": 36
        }
      ]
    },
    {
      "metadata": {
        "id": "TAzdvbpN68qS",
        "colab_type": "code",
        "colab": {
          "base_uri": "https://localhost:8080/",
          "height": 221
        },
        "outputId": "4579d61a-5d46-44bd-b41e-198a3afac7b8"
      },
      "cell_type": "code",
      "source": [
        "sorted(book_comp, key=itemgetter(0))[:10]"
      ],
      "execution_count": 37,
      "outputs": [
        {
          "output_type": "execute_result",
          "data": {
            "text/plain": [
              "[(tensor(-1.0019), 'The Little Prince'),\n",
              " (tensor(-0.9657), 'The Other Boleyn Girl'),\n",
              " (tensor(-0.8824), 'Kitchen'),\n",
              " (tensor(-0.7876), 'Their Eyes Were Watching God: A Novel'),\n",
              " (tensor(-0.7600), 'Interpreter of Maladies'),\n",
              " (tensor(-0.7523),\n",
              "  'Word Freak: Heartbreak, Triumph, Genius, and Obsession in the World of Competitive Scrabble Players'),\n",
              " (tensor(-0.7500), 'Lucky'),\n",
              " (tensor(-0.7478),\n",
              "  \"Chicken Soup for the Woman's Soul (Chicken Soup for the Soul Series (Paper))\"),\n",
              " (tensor(-0.7452), 'Divine Secrets of the Ya-Ya Sisterhood : A Novel'),\n",
              " (tensor(-0.7430), \"Einstein's Dreams\")]"
            ]
          },
          "metadata": {
            "tags": []
          },
          "execution_count": 37
        }
      ]
    },
    {
      "metadata": {
        "id": "sSAt2yQt6_uE",
        "colab_type": "code",
        "colab": {}
      },
      "cell_type": "code",
      "source": [
        "book_comp = [(f, i) for f,i in zip(fac1, top_books)]"
      ],
      "execution_count": 0,
      "outputs": []
    },
    {
      "metadata": {
        "id": "AvhN-qXQ7Ho3",
        "colab_type": "code",
        "colab": {
          "base_uri": "https://localhost:8080/",
          "height": 204
        },
        "outputId": "4c7c540d-bbc2-4d1b-dc25-2319d7001704"
      },
      "cell_type": "code",
      "source": [
        "sorted(book_comp, key=itemgetter(0), reverse=True)[:10]"
      ],
      "execution_count": 39,
      "outputs": [
        {
          "output_type": "execute_result",
          "data": {
            "text/plain": [
              "[(tensor(0.3240), 'Dreamcatcher'),\n",
              " (tensor(0.2772), 'The Testament'),\n",
              " (tensor(0.2697), 'SHIPPING NEWS'),\n",
              " (tensor(0.2419), 'A Walk to Remember'),\n",
              " (tensor(0.2414), 'The Subtle Knife (His Dark Materials, Book 2)'),\n",
              " (tensor(0.2334), '4 Blondes'),\n",
              " (tensor(0.2278), 'Cradle and All'),\n",
              " (tensor(0.2268), 'The Genesis Code'),\n",
              " (tensor(0.2258), 'In Pursuit of the Proper Sinner'),\n",
              " (tensor(0.2035),\n",
              "  'Stupid White Men ...and Other Sorry Excuses for the State of the Nation!')]"
            ]
          },
          "metadata": {
            "tags": []
          },
          "execution_count": 39
        }
      ]
    },
    {
      "metadata": {
        "id": "Z-7qPfaC7KfC",
        "colab_type": "code",
        "colab": {
          "base_uri": "https://localhost:8080/",
          "height": 204
        },
        "outputId": "58aa6934-486a-4253-a887-7137afbc34b5"
      },
      "cell_type": "code",
      "source": [
        "sorted(book_comp, key=itemgetter(0))[:10]"
      ],
      "execution_count": 40,
      "outputs": [
        {
          "output_type": "execute_result",
          "data": {
            "text/plain": [
              "[(tensor(-0.2711), 'The Deep End of the Ocean'),\n",
              " (tensor(-0.2311), 'The Divine Secrets of the Ya-Ya Sisterhood: A Novel'),\n",
              " (tensor(-0.2224), 'Empire Falls'),\n",
              " (tensor(-0.2196), 'Sphere'),\n",
              " (tensor(-0.1969), 'The Winner'),\n",
              " (tensor(-0.1911), 'Desperation'),\n",
              " (tensor(-0.1863), 'Oryx and Crake'),\n",
              " (tensor(-0.1862), 'The Girl Who Loved Tom Gordon'),\n",
              " (tensor(-0.1832),\n",
              "  'Into Thin Air : A Personal Account of the Mt. Everest Disaster'),\n",
              " (tensor(-0.1815), 'Wuthering Heights')]"
            ]
          },
          "metadata": {
            "tags": []
          },
          "execution_count": 40
        }
      ]
    },
    {
      "metadata": {
        "id": "x2X8Bvdv7NLS",
        "colab_type": "code",
        "colab": {
          "base_uri": "https://localhost:8080/",
          "height": 863
        },
        "outputId": "5c993f54-848a-4661-c03f-baf37f8b2bbf"
      },
      "cell_type": "code",
      "source": [
        "idxs = np.random.choice(len(top_books), 50, replace=False)\n",
        "idxs = list(range(50))\n",
        "X = fac0[idxs]\n",
        "Y = fac2[idxs]\n",
        "plt.figure(figsize=(15,15))\n",
        "plt.scatter(X, Y)\n",
        "for i, x, y in zip(top_books[idxs], X, Y):\n",
        "    plt.text(x,y,i, color=np.random.rand(3)*0.7, fontsize=11)\n",
        "plt.show()"
      ],
      "execution_count": 41,
      "outputs": [
        {
          "output_type": "display_data",
          "data": {
            "image/png": "[encoded data removed]",
            "text/plain": [
              "<matplotlib.figure.Figure at 0x7f0ac7006780>"
            ]
          },
          "metadata": {
            "tags": []
          }
        }
      ]
    },
    {
      "metadata": {
        "id": "DUWR7W_37SiO",
        "colab_type": "code",
        "colab": {}
      },
      "cell_type": "code",
      "source": [
        ""
      ],
      "execution_count": 0,
      "outputs": []
    }
  ]
}