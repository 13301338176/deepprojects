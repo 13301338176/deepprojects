{
  "nbformat": 4,
  "nbformat_minor": 0,
  "metadata": {
    "colab": {
      "name": "Timeseries - Earthquakes.ipynb",
      "version": "0.3.2",
      "provenance": [],
      "collapsed_sections": []
    },
    "kernelspec": {
      "name": "python3",
      "display_name": "Python 3"
    },
    "accelerator": "GPU"
  },
  "cells": [
    {
      "metadata": {
        "id": "rQH9GLMylMMI",
        "colab_type": "code",
        "colab": {
          "base_uri": "https://localhost:8080/",
          "height": 1397
        },
        "outputId": "427325bd-1731-45ab-db37-d9bd6693f1b5"
      },
      "cell_type": "code",
      "source": [
        "!curl https://course-v3.fast.ai/setup/colab | bash"
      ],
      "execution_count": 1,
      "outputs": [
        {
          "output_type": "stream",
          "text": [
            "  % Total    % Received % Xferd  Average Speed   Time    Time     Time  Current\n",
            "                                 Dload  Upload   Total   Spent    Left  Speed\n",
            "\r  0     0    0     0    0     0      0      0 --:--:-- --:--:-- --:--:--     0\r100   665  100   665    0     0   2982      0 --:--:-- --:--:-- --:--:--  2982\n",
            "Collecting pillow==4.1.1\n",
            "\u001b[?25l  Downloading https://files.pythonhosted.org/packages/36/e5/88b3d60924a3f8476fa74ec086f5fbaba56dd6cee0d82845f883b6b6dd18/Pillow-4.1.1-cp36-cp36m-manylinux1_x86_64.whl (5.7MB)\n",
            "\u001b[K    100% |████████████████████████████████| 5.7MB 5.1MB/s \n",
            "\u001b[?25hRequirement already satisfied, skipping upgrade: olefile in /usr/local/lib/python3.6/dist-packages (from pillow==4.1.1) (0.46)\n",
            "Installing collected packages: pillow\n",
            "  Found existing installation: Pillow 4.0.0\n",
            "    Uninstalling Pillow-4.0.0:\n",
            "      Successfully uninstalled Pillow-4.0.0\n",
            "Successfully installed pillow-4.1.1\n",
            "Looking in links: https://download.pytorch.org/whl/nightly/cu92/torch_nightly.html\n",
            "Collecting torch_nightly\n",
            "\u001b[?25l  Downloading https://download.pytorch.org/whl/nightly/cu92/torch_nightly-1.0.0.dev20181124-cp36-cp36m-linux_x86_64.whl (576.5MB)\n",
            "\u001b[K    100% |████████████████████████████████| 576.5MB 21kB/s \n",
            "tcmalloc: large alloc 1073750016 bytes == 0x636b6000 @  0x7f6a32ddd2a4 0x591a07 0x5b5d56 0x502e9a 0x506859 0x502209 0x502f3d 0x506859 0x504c28 0x502540 0x502f3d 0x506859 0x504c28 0x502540 0x502f3d 0x506859 0x504c28 0x502540 0x502f3d 0x507641 0x502209 0x502f3d 0x506859 0x504c28 0x502540 0x502f3d 0x507641 0x504c28 0x502540 0x502f3d 0x507641\n",
            "\u001b[?25hInstalling collected packages: torch-nightly\n",
            "Successfully installed torch-nightly-1.0.0.dev20181124\n",
            "Cloning into 'course-v3'...\n",
            "remote: Enumerating objects: 2450, done.\u001b[K\n",
            "remote: Total 2450 (delta 0), reused 0 (delta 0), pack-reused 2450\u001b[K\n",
            "Receiving objects: 100% (2450/2450), 59.09 MiB | 24.11 MiB/s, done.\n",
            "Resolving deltas: 100% (1338/1338), done.\n",
            "Collecting fastai\n",
            "\u001b[?25l  Downloading https://files.pythonhosted.org/packages/9a/fe/9686231cc2ed81a7096abda19d93ca43532d7b130a12d1ada8746ba75e72/fastai-1.0.28-py3-none-any.whl (120kB)\n",
            "\u001b[K    100% |████████████████████████████████| 122kB 3.9MB/s \n",
            "\u001b[?25hRequirement already satisfied, skipping upgrade: numpy>=1.12 in /usr/local/lib/python3.6/dist-packages (from fastai) (1.14.6)\n",
            "Requirement already satisfied, skipping upgrade: Pillow in /usr/local/lib/python3.6/dist-packages (from fastai) (4.1.1)\n",
            "Requirement already satisfied, skipping upgrade: requests in /usr/local/lib/python3.6/dist-packages (from fastai) (2.18.4)\n",
            "Requirement already satisfied, skipping upgrade: spacy==2.0.16 in /usr/local/lib/python3.6/dist-packages (from fastai) (2.0.16)\n",
            "Collecting dataclasses (from fastai)\n",
            "  Downloading https://files.pythonhosted.org/packages/26/2f/1095cdc2868052dd1e64520f7c0d5c8c550ad297e944e641dbf1ffbb9a5d/dataclasses-0.6-py3-none-any.whl\n",
            "Collecting bottleneck (from fastai)\n",
            "\u001b[?25l  Downloading https://files.pythonhosted.org/packages/05/ae/cedf5323f398ab4e4ff92d6c431a3e1c6a186f9b41ab3e8258dff786a290/Bottleneck-1.2.1.tar.gz (105kB)\n",
            "\u001b[K    100% |████████████████████████████████| 112kB 5.2MB/s \n",
            "\u001b[?25hCollecting numexpr (from fastai)\n",
            "\u001b[?25l  Downloading https://files.pythonhosted.org/packages/db/ea/efd9e16283637eb5b6c0042b6cc3521f1b9a5b47767ac463c88bbd37670c/numexpr-2.6.8-cp36-cp36m-manylinux1_x86_64.whl (162kB)\n",
            "\u001b[K    100% |████████████████████████████████| 163kB 5.3MB/s \n",
            "\u001b[?25hRequirement already satisfied, skipping upgrade: regex in /usr/local/lib/python3.6/dist-packages (from fastai) (2018.1.10)\n",
            "Requirement already satisfied, skipping upgrade: typing in /usr/local/lib/python3.6/dist-packages (from fastai) (3.6.6)\n",
            "Requirement already satisfied, skipping upgrade: scipy in /usr/local/lib/python3.6/dist-packages (from fastai) (1.1.0)\n",
            "Requirement already satisfied, skipping upgrade: pandas in /usr/local/lib/python3.6/dist-packages (from fastai) (0.22.0)\n",
            "Requirement already satisfied, skipping upgrade: pyyaml in /usr/local/lib/python3.6/dist-packages (from fastai) (3.13)\n",
            "Collecting torchvision-nightly (from fastai)\n",
            "\u001b[?25l  Downloading https://files.pythonhosted.org/packages/ca/bd/d0f9a33c81c79710eb7ee428b66869b49a8be16c7f1e446c211a7fbfb7be/torchvision_nightly-0.2.1-py2.py3-none-any.whl (54kB)\n",
            "\u001b[K    100% |████████████████████████████████| 61kB 10.6MB/s \n",
            "\u001b[?25hRequirement already satisfied, skipping upgrade: matplotlib in /usr/local/lib/python3.6/dist-packages (from fastai) (2.1.2)\n",
            "Requirement already satisfied, skipping upgrade: cymem==2.0.2 in /usr/local/lib/python3.6/dist-packages (from fastai) (2.0.2)\n",
            "Collecting fastprogress>=0.1.15 (from fastai)\n",
            "  Downloading https://files.pythonhosted.org/packages/dc/b8/7ce2b3c6f886f5cb1b16e62d368456b4fdb7e16bba962571bc50dae49b30/fastprogress-0.1.15-py3-none-any.whl\n",
            "Requirement already satisfied, skipping upgrade: thinc==6.12.0 in /usr/local/lib/python3.6/dist-packages (from fastai) (6.12.0)\n",
            "Requirement already satisfied, skipping upgrade: olefile in /usr/local/lib/python3.6/dist-packages (from Pillow->fastai) (0.46)\n",
            "Requirement already satisfied, skipping upgrade: chardet<3.1.0,>=3.0.2 in /usr/local/lib/python3.6/dist-packages (from requests->fastai) (3.0.4)\n",
            "Requirement already satisfied, skipping upgrade: idna<2.7,>=2.5 in /usr/local/lib/python3.6/dist-packages (from requests->fastai) (2.6)\n",
            "Requirement already satisfied, skipping upgrade: urllib3<1.23,>=1.21.1 in /usr/local/lib/python3.6/dist-packages (from requests->fastai) (1.22)\n",
            "Requirement already satisfied, skipping upgrade: certifi>=2017.4.17 in /usr/local/lib/python3.6/dist-packages (from requests->fastai) (2018.10.15)\n",
            "Requirement already satisfied, skipping upgrade: dill<0.3,>=0.2 in /usr/local/lib/python3.6/dist-packages (from spacy==2.0.16->fastai) (0.2.8.2)\n",
            "Requirement already satisfied, skipping upgrade: murmurhash<1.1.0,>=0.28.0 in /usr/local/lib/python3.6/dist-packages (from spacy==2.0.16->fastai) (1.0.1)\n",
            "Requirement already satisfied, skipping upgrade: ujson>=1.35 in /usr/local/lib/python3.6/dist-packages (from spacy==2.0.16->fastai) (1.35)\n",
            "Requirement already satisfied, skipping upgrade: preshed<2.1.0,>=2.0.1 in /usr/local/lib/python3.6/dist-packages (from spacy==2.0.16->fastai) (2.0.1)\n",
            "Requirement already satisfied, skipping upgrade: plac<1.0.0,>=0.9.6 in /usr/local/lib/python3.6/dist-packages (from spacy==2.0.16->fastai) (0.9.6)\n",
            "Requirement already satisfied, skipping upgrade: msgpack-numpy<0.4.4 in /usr/local/lib/python3.6/dist-packages (from spacy==2.0.16->fastai) (0.4.3.2)\n",
            "Requirement already satisfied, skipping upgrade: python-dateutil>=2 in /usr/local/lib/python3.6/dist-packages (from pandas->fastai) (2.5.3)\n",
            "Requirement already satisfied, skipping upgrade: pytz>=2011k in /usr/local/lib/python3.6/dist-packages (from pandas->fastai) (2018.7)\n",
            "Requirement already satisfied, skipping upgrade: six in /usr/local/lib/python3.6/dist-packages (from torchvision-nightly->fastai) (1.11.0)\n",
            "Requirement already satisfied, skipping upgrade: tqdm in /usr/local/lib/python3.6/dist-packages (from torchvision-nightly->fastai) (4.28.1)\n",
            "Requirement already satisfied, skipping upgrade: cycler>=0.10 in /usr/local/lib/python3.6/dist-packages (from matplotlib->fastai) (0.10.0)\n",
            "Requirement already satisfied, skipping upgrade: pyparsing!=2.0.4,!=2.1.2,!=2.1.6,>=2.0.1 in /usr/local/lib/python3.6/dist-packages (from matplotlib->fastai) (2.3.0)\n",
            "Requirement already satisfied, skipping upgrade: wrapt<1.11.0,>=1.10.0 in /usr/local/lib/python3.6/dist-packages (from thinc==6.12.0->fastai) (1.10.11)\n",
            "Requirement already satisfied, skipping upgrade: msgpack<1.0.0,>=0.5.6 in /usr/local/lib/python3.6/dist-packages (from thinc==6.12.0->fastai) (0.5.6)\n",
            "Requirement already satisfied, skipping upgrade: cytoolz<0.10,>=0.9.0 in /usr/local/lib/python3.6/dist-packages (from thinc==6.12.0->fastai) (0.9.0.1)\n",
            "Requirement already satisfied, skipping upgrade: toolz>=0.8.0 in /usr/local/lib/python3.6/dist-packages (from cytoolz<0.10,>=0.9.0->thinc==6.12.0->fastai) (0.9.0)\n",
            "Building wheels for collected packages: bottleneck\n",
            "  Running setup.py bdist_wheel for bottleneck ... \u001b[?25l-\b \b\\\b \b|\b \b/\b \b-\b \b\\\b \b|\b \b/\b \b-\b \bdone\n",
            "\u001b[?25h  Stored in directory: /root/.cache/pip/wheels/f2/bf/ec/e0f39aa27001525ad455139ee57ec7d0776fe074dfd78c97e4\n",
            "Successfully built bottleneck\n",
            "Installing collected packages: dataclasses, bottleneck, numexpr, torchvision-nightly, fastprogress, fastai\n",
            "Successfully installed bottleneck-1.2.1 dataclasses-0.6 fastai-1.0.28 fastprogress-0.1.15 numexpr-2.6.8 torchvision-nightly-0.2.1\n",
            "Already up to date.\n"
          ],
          "name": "stdout"
        }
      ]
    },
    {
      "metadata": {
        "id": "AaRByUOcvfDG",
        "colab_type": "code",
        "colab": {}
      },
      "cell_type": "code",
      "source": [
        "%reload_ext autoreload\n",
        "%autoreload 2\n",
        "%matplotlib inline"
      ],
      "execution_count": 0,
      "outputs": []
    },
    {
      "metadata": {
        "id": "X_VYWLdiwPeq",
        "colab_type": "code",
        "colab": {
          "base_uri": "https://localhost:8080/",
          "height": 119
        },
        "outputId": "6297fcd8-aacf-44e5-cc41-41605486e7c8"
      },
      "cell_type": "code",
      "source": [
        "!pip install pyts"
      ],
      "execution_count": 3,
      "outputs": [
        {
          "output_type": "stream",
          "text": [
            "Collecting pyts\n",
            "\u001b[?25l  Downloading https://files.pythonhosted.org/packages/50/5c/b6c122d48f1c60bcf624d2f4a8691ea6a1b6bc65204a4a1d5c0ee810b613/pyts-0.7.1-py3-none-any.whl (40kB)\n",
            "\u001b[K    100% |████████████████████████████████| 40kB 2.2MB/s \n",
            "\u001b[?25hRequirement already satisfied: numpy>=1.8.2scipy>=0.13.3scikit-learn>=0.17.0future>=0.13.1 in /usr/local/lib/python3.6/dist-packages (from pyts) (1.14.6)\n",
            "Installing collected packages: pyts\n",
            "Successfully installed pyts-0.7.1\n"
          ],
          "name": "stdout"
        }
      ]
    },
    {
      "metadata": {
        "id": "2S8G1OX7wSuZ",
        "colab_type": "code",
        "colab": {}
      },
      "cell_type": "code",
      "source": [
        "from fastai import *\n",
        "from fastai.vision import *\n",
        "from pyts.image import GASF, GADF, MTF, RecurrencePlots\n",
        "from tqdm import tqdm"
      ],
      "execution_count": 0,
      "outputs": []
    },
    {
      "metadata": {
        "id": "m4XfbH0WxfxW",
        "colab_type": "text"
      },
      "cell_type": "markdown",
      "source": [
        "## Data\n",
        "Download and unzip the Earthquake dataset - [link](http://www.timeseriesclassification.com/Downloads/Earthquakes.zip)."
      ]
    },
    {
      "metadata": {
        "id": "G10FQMCNxe-Z",
        "colab_type": "code",
        "colab": {
          "base_uri": "https://localhost:8080/",
          "height": 68
        },
        "outputId": "68b69b6c-2fd3-48cf-ef8c-317ea3179b4c"
      },
      "cell_type": "code",
      "source": [
        "!curl -O http://www.timeseriesclassification.com/Downloads/Earthquakes.zip"
      ],
      "execution_count": 5,
      "outputs": [
        {
          "output_type": "stream",
          "text": [
            "  % Total    % Received % Xferd  Average Speed   Time    Time     Time  Current\n",
            "                                 Dload  Upload   Total   Spent    Left  Speed\n",
            "100  516k  100  516k    0     0   425k      0  0:00:01  0:00:01 --:--:--  425k\n"
          ],
          "name": "stdout"
        }
      ]
    },
    {
      "metadata": {
        "id": "UA7rJtZDxpn0",
        "colab_type": "code",
        "colab": {
          "base_uri": "https://localhost:8080/",
          "height": 136
        },
        "outputId": "def865e6-888d-4026-d39d-bb98deff8c3c"
      },
      "cell_type": "code",
      "source": [
        "!unzip Earthquakes.zip"
      ],
      "execution_count": 6,
      "outputs": [
        {
          "output_type": "stream",
          "text": [
            "Archive:  Earthquakes.zip\n",
            "replace Earthquakes.txt? [y]es, [n]o, [A]ll, [N]one, [r]ename: A\n",
            "  inflating: Earthquakes.txt         \n",
            "  inflating: Earthquakes_TEST.arff   \n",
            "  inflating: Earthquakes_TEST.txt    \n",
            "  inflating: Earthquakes_TRAIN.arff  \n",
            "  inflating: Earthquakes_TRAIN.txt   \n"
          ],
          "name": "stdout"
        }
      ]
    },
    {
      "metadata": {
        "id": "dUjK5BUlxxUC",
        "colab_type": "code",
        "colab": {}
      },
      "cell_type": "code",
      "source": [
        "path = Path('')"
      ],
      "execution_count": 0,
      "outputs": []
    },
    {
      "metadata": {
        "id": "XZ3wQZqsx0lj",
        "colab_type": "code",
        "colab": {}
      },
      "cell_type": "code",
      "source": [
        "raw_train = np.loadtxt(path/'Earthquakes_TRAIN.txt')\n",
        "X_train, y_train = raw_train[:, 1: ], raw_train[:, 0].astype(int)\n",
        "\n",
        "raw_test = np.loadtxt(path/'Earthquakes_TEST.txt')\n",
        "X_test, y_test = raw_test[:, 1: ], raw_test[:, 0].astype(int)"
      ],
      "execution_count": 0,
      "outputs": []
    },
    {
      "metadata": {
        "id": "a9m963XMyhLa",
        "colab_type": "code",
        "colab": {
          "base_uri": "https://localhost:8080/",
          "height": 34
        },
        "outputId": "f9727561-2644-4995-8e08-6f2654eb71d2"
      },
      "cell_type": "code",
      "source": [
        "X_train[-1].shape"
      ],
      "execution_count": 25,
      "outputs": [
        {
          "output_type": "execute_result",
          "data": {
            "text/plain": [
              "(512,)"
            ]
          },
          "metadata": {
            "tags": []
          },
          "execution_count": 25
        }
      ]
    },
    {
      "metadata": {
        "id": "5xDRC48v4B-D",
        "colab_type": "code",
        "colab": {
          "base_uri": "https://localhost:8080/",
          "height": 34
        },
        "outputId": "54b0aaac-a3bd-47e7-f206-78b529272e16"
      },
      "cell_type": "code",
      "source": [
        "X_train.shape"
      ],
      "execution_count": 26,
      "outputs": [
        {
          "output_type": "execute_result",
          "data": {
            "text/plain": [
              "(322, 512)"
            ]
          },
          "metadata": {
            "tags": []
          },
          "execution_count": 26
        }
      ]
    },
    {
      "metadata": {
        "id": "TstFMbR-C6rs",
        "colab_type": "code",
        "colab": {}
      },
      "cell_type": "code",
      "source": [
        "bs = 64\n",
        "size = 224"
      ],
      "execution_count": 0,
      "outputs": []
    },
    {
      "metadata": {
        "id": "NVcVZBIe4yG8",
        "colab_type": "code",
        "colab": {}
      },
      "cell_type": "code",
      "source": [
        "class TimeseriesClassification():\n",
        "    def __init__(self, dataset='Earthquakes', transformation='GASF'):\n",
        "        self.dataset, self.transformation = dataset, transformation\n",
        "        \n",
        "    def create_imagenet_tree(self, root):\n",
        "        \"\"\"Create the following ImageNet compatible tree\n",
        "        root\n",
        "        |_ dataset\n",
        "            |_ transformation\n",
        "            |_ train\n",
        "                |_ 0\n",
        "                |_ 1\n",
        "            |_ test\n",
        "                |_ 0\n",
        "                |_ 1\n",
        "        \"\"\"\n",
        "        root.mkdir(exist_ok=True)\n",
        "        ds_dir = (root/self.dataset); ds_dir.mkdir(exist_ok=True)\n",
        "        trans_dir = (ds_dir/self.transformation); trans_dir.mkdir(exist_ok=True)\n",
        "        (trans_dir/'train').mkdir(exist_ok=True)\n",
        "        (trans_dir/'train/0').mkdir(exist_ok=True)\n",
        "        (trans_dir/'train/1').mkdir(exist_ok=True)\n",
        "        (trans_dir/'test').mkdir(exist_ok=True)\n",
        "        (trans_dir/'test/0').mkdir(exist_ok=True)\n",
        "        (trans_dir/'test/1').mkdir(exist_ok=True)\n",
        "\n",
        "    def create_transfomer(self, image_size=224):\n",
        "        \"\"\"Create a timeserie transformer for the given technique\"\"\"\n",
        "        if self.transformation == 'GASF':\n",
        "            return GASF(image_size)\n",
        "        if self.transformation == 'GADF':\n",
        "            return GADF(image_size)\n",
        "        if self.transformation == 'MTF':\n",
        "            return MTF(image_size)\n",
        "        if self.transformation == 'RecurrencePlots':\n",
        "            return RecurrencePlots(dimension=1, epsilon='percentage_points', percentage=30)\n",
        "\n",
        "    def save_images(self, root, img_data, labels, step='train'):\n",
        "        \"\"\"Save the images generated from the transformation in the given directory\"\"\"\n",
        "        work_dir = (root/self.dataset/self.transformation/step)\n",
        "        m, n, n = img_data.shape\n",
        "        for index in tqdm(range(m)):\n",
        "            label = str(int(labels[index]))\n",
        "            fname = '{:>05d}.png'.format(index)\n",
        "            img_path = (work_dir/label/fname).as_posix()\n",
        "            plt.imsave(img_path, img_data[index])\n",
        "        "
      ],
      "execution_count": 0,
      "outputs": []
    },
    {
      "metadata": {
        "id": "aXK_PcA9JfGA",
        "colab_type": "text"
      },
      "cell_type": "markdown",
      "source": [
        "## GASF"
      ]
    },
    {
      "metadata": {
        "id": "8ZkA675z56OV",
        "colab_type": "code",
        "colab": {}
      },
      "cell_type": "code",
      "source": [
        "DATASET = 'Earthquakes'\n",
        "TRANSFORMATION = 'GASF'\n",
        "tscls = TimeseriesClassification(DATASET, TRANSFORMATION)\n",
        "tscls.create_imagenet_tree(path)"
      ],
      "execution_count": 0,
      "outputs": []
    },
    {
      "metadata": {
        "id": "BZDBN8c5weMH",
        "colab_type": "code",
        "colab": {}
      },
      "cell_type": "code",
      "source": [
        "transfomer = tscls.create_transfomer()\n",
        "# save training data\n",
        "img_train = transfomer.fit_transform(X_train)\n",
        "tscls.save_images(path, img_train, y_train, step='train')\n",
        "# save testing data\n",
        "img_test = transfomer.fit_transform(X_test)\n",
        "tscls.save_images(path, img_test, y_test, step='test')"
      ],
      "execution_count": 0,
      "outputs": []
    },
    {
      "metadata": {
        "id": "rm5KpVcqC7c-",
        "colab_type": "text"
      },
      "cell_type": "markdown",
      "source": [
        "### Dataset"
      ]
    },
    {
      "metadata": {
        "id": "1jnMqt_9GDz-",
        "colab_type": "code",
        "colab": {}
      },
      "cell_type": "code",
      "source": [
        "transformations = None#get_transforms()"
      ],
      "execution_count": 0,
      "outputs": []
    },
    {
      "metadata": {
        "id": "L0nAkh_lymfA",
        "colab_type": "code",
        "colab": {}
      },
      "cell_type": "code",
      "source": [
        "data = (ImageItemList\n",
        "    .from_folder((path/DATASET/TRANSFORMATION))\n",
        "    .split_by_folder(train='train', valid='test')\n",
        "    .label_from_folder()\n",
        "    .transform(transformations, size=size)\n",
        "    .databunch(bs=bs)\n",
        "    .normalize(imagenet_stats))"
      ],
      "execution_count": 0,
      "outputs": []
    },
    {
      "metadata": {
        "id": "wdR9m7Q25wwv",
        "colab_type": "code",
        "colab": {
          "base_uri": "https://localhost:8080/",
          "height": 441
        },
        "outputId": "f9d8f0ff-d771-4e0b-fce8-3f009a3dbd97"
      },
      "cell_type": "code",
      "source": [
        "data.show_batch(3, figsize=(7,6))"
      ],
      "execution_count": 93,
      "outputs": [
        {
          "output_type": "display_data",
          "data": {
            "image/png": "[encoded data removed]",
            "text/plain": [
              "<matplotlib.figure.Figure at 0x7f24441225f8>"
            ]
          },
          "metadata": {
            "tags": []
          }
        }
      ]
    },
    {
      "metadata": {
        "id": "yYFC534WFQMk",
        "colab_type": "code",
        "colab": {
          "base_uri": "https://localhost:8080/",
          "height": 51
        },
        "outputId": "1db7dcc4-5c84-48ab-8478-5215233e78a9"
      },
      "cell_type": "code",
      "source": [
        "print(data.classes)\n",
        "len(data.classes),data.c"
      ],
      "execution_count": 94,
      "outputs": [
        {
          "output_type": "stream",
          "text": [
            "['1', '0']\n"
          ],
          "name": "stdout"
        },
        {
          "output_type": "execute_result",
          "data": {
            "text/plain": [
              "(2, 2)"
            ]
          },
          "metadata": {
            "tags": []
          },
          "execution_count": 94
        }
      ]
    },
    {
      "metadata": {
        "id": "f9yKr0vKFEzM",
        "colab_type": "text"
      },
      "cell_type": "markdown",
      "source": [
        "### Training: resnet34"
      ]
    },
    {
      "metadata": {
        "id": "4ZJkgofbAvsN",
        "colab_type": "code",
        "colab": {}
      },
      "cell_type": "code",
      "source": [
        "learn = create_cnn(data, models.resnet34, metrics=[accuracy, error_rate])"
      ],
      "execution_count": 0,
      "outputs": []
    },
    {
      "metadata": {
        "id": "PCsggWSkGg3e",
        "colab_type": "code",
        "colab": {
          "base_uri": "https://localhost:8080/",
          "height": 403
        },
        "outputId": "0bc215e4-6f90-49f9-f7f5-46cc841fb7a0"
      },
      "cell_type": "code",
      "source": [
        "learn.lr_find()"
      ],
      "execution_count": 102,
      "outputs": [
        {
          "output_type": "display_data",
          "data": {
            "text/html": [
              "\n",
              "    <div>\n",
              "        <style>\n",
              "        \t/* Turns off some styling */\n",
              "        \tprogress {\n",
              "\n",
              "            \t/* gets rid of default border in Firefox and Opera. */\n",
              "            \tborder: none;\n",
              "\n",
              "            \t/* Needs to be in here for Safari polyfill so background images work as expected. */\n",
              "            \tbackground-size: auto;\n",
              "            }\n",
              "\n",
              "            .progress-bar-interrupted, .progress-bar-interrupted::-webkit-progress-bar {\n",
              "                background: #F44336;\n",
              "            }\n",
              "        </style>\n",
              "      <progress value='14' class='' max='17', style='width:300px; height:20px; vertical-align: middle;'></progress>\n",
              "      82.35% [14/17 00:41<00:08]\n",
              "    </div>\n",
              "    \n",
              "<table style='width:375px; margin-bottom:10px'>\n",
              "  <tr>\n",
              "    <th>epoch</th>\n",
              "    <th>train_loss</th>\n",
              "    <th>valid_loss</th>\n",
              "    <th>accuracy</th>\n",
              "    <th>error_rate</th>\n",
              "  </tr>\n",
              "  <tr>\n",
              "    <th>1</th>\n",
              "    <th>0.943570</th>\n",
              "  </tr>\n",
              "  <tr>\n",
              "    <th>2</th>\n",
              "    <th>0.932548</th>\n",
              "  </tr>\n",
              "  <tr>\n",
              "    <th>3</th>\n",
              "    <th>0.917836</th>\n",
              "  </tr>\n",
              "  <tr>\n",
              "    <th>4</th>\n",
              "    <th>0.890481</th>\n",
              "  </tr>\n",
              "  <tr>\n",
              "    <th>5</th>\n",
              "    <th>0.903477</th>\n",
              "  </tr>\n",
              "  <tr>\n",
              "    <th>6</th>\n",
              "    <th>0.933415</th>\n",
              "  </tr>\n",
              "  <tr>\n",
              "    <th>7</th>\n",
              "    <th>0.926578</th>\n",
              "  </tr>\n",
              "  <tr>\n",
              "    <th>8</th>\n",
              "    <th>0.929184</th>\n",
              "  </tr>\n",
              "  <tr>\n",
              "    <th>9</th>\n",
              "    <th>0.919082</th>\n",
              "  </tr>\n",
              "  <tr>\n",
              "    <th>10</th>\n",
              "    <th>0.875783</th>\n",
              "  </tr>\n",
              "  <tr>\n",
              "    <th>11</th>\n",
              "    <th>0.797739</th>\n",
              "  </tr>\n",
              "  <tr>\n",
              "    <th>12</th>\n",
              "    <th>0.810985</th>\n",
              "  </tr>\n",
              "  <tr>\n",
              "    <th>13</th>\n",
              "    <th>0.852692</th>\n",
              "  </tr>\n",
              "  <tr>\n",
              "    <th>14</th>\n",
              "    <th>1.716561</th>\n",
              "  </tr>\n",
              "  <tr>\n",
              "\n",
              "  </tr>\n",
              "</table>\n",
              "\n",
              "\n",
              "    <div>\n",
              "        <style>\n",
              "        \t/* Turns off some styling */\n",
              "        \tprogress {\n",
              "\n",
              "            \t/* gets rid of default border in Firefox and Opera. */\n",
              "            \tborder: none;\n",
              "\n",
              "            \t/* Needs to be in here for Safari polyfill so background images work as expected. */\n",
              "            \tbackground-size: auto;\n",
              "            }\n",
              "\n",
              "            .progress-bar-interrupted, .progress-bar-interrupted::-webkit-progress-bar {\n",
              "                background: #F44336;\n",
              "            }\n",
              "        </style>\n",
              "      <progress value='0' class='progress-bar-interrupted' max='6', style='width:300px; height:20px; vertical-align: middle;'></progress>\n",
              "      Interrupted\n",
              "    </div>\n",
              "    "
            ],
            "text/plain": [
              "<IPython.core.display.HTML object>"
            ]
          },
          "metadata": {
            "tags": []
          }
        },
        {
          "output_type": "stream",
          "text": [
            "LR Finder is complete, type {learner_name}.recorder.plot() to see the graph.\n"
          ],
          "name": "stdout"
        }
      ]
    },
    {
      "metadata": {
        "id": "7FUQpSp4Gw74",
        "colab_type": "code",
        "colab": {
          "base_uri": "https://localhost:8080/",
          "height": 279
        },
        "outputId": "dc5ab72a-557c-4bf5-9b0f-c7eda4d8abff"
      },
      "cell_type": "code",
      "source": [
        "learn.recorder.plot()"
      ],
      "execution_count": 103,
      "outputs": [
        {
          "output_type": "display_data",
          "data": {
            "image/png": "[encoded data removed]",
            "text/plain": [
              "<matplotlib.figure.Figure at 0x7f2443484f98>"
            ]
          },
          "metadata": {
            "tags": []
          }
        }
      ]
    },
    {
      "metadata": {
        "id": "GMDaBNqNFYkZ",
        "colab_type": "code",
        "colab": {
          "base_uri": "https://localhost:8080/",
          "height": 136
        },
        "outputId": "f597d5c2-f76f-4fc9-f48e-40774e1b34b3"
      },
      "cell_type": "code",
      "source": [
        "learn.fit_one_cycle(4, 5e-3)"
      ],
      "execution_count": 104,
      "outputs": [
        {
          "output_type": "stream",
          "text": [
            "Total time: 00:17\n",
            "epoch  train_loss  valid_loss  accuracy  error_rate\n",
            "1      0.944812    0.589659    0.697842  0.302158    (00:04)\n",
            "2      0.744944    0.665166    0.726619  0.273381    (00:04)\n",
            "3      0.610160    0.702085    0.719424  0.280576    (00:04)\n",
            "4      0.507903    0.677123    0.705036  0.294964    (00:04)\n",
            "\n"
          ],
          "name": "stdout"
        }
      ]
    },
    {
      "metadata": {
        "id": "APXOxPc1JMrA",
        "colab_type": "text"
      },
      "cell_type": "markdown",
      "source": [
        "## GADF"
      ]
    },
    {
      "metadata": {
        "id": "kIP0_-TPFdW2",
        "colab_type": "code",
        "colab": {}
      },
      "cell_type": "code",
      "source": [
        "tscls = TimeseriesClassification('Earthquakes', 'GADF')\n",
        "tscls.create_imagenet_tree(path)"
      ],
      "execution_count": 0,
      "outputs": []
    },
    {
      "metadata": {
        "id": "4GBOUwhpJmpj",
        "colab_type": "code",
        "colab": {}
      },
      "cell_type": "code",
      "source": [
        "transfomer = tscls.create_transfomer()\n",
        "# save training data\n",
        "img_train = transfomer.fit_transform(X_train)\n",
        "tscls.save_images(path, img_train, y_train, step='train')\n",
        "# save testing data\n",
        "img_test = transfomer.fit_transform(X_test)\n",
        "tscls.save_images(path, img_test, y_test, step='test')"
      ],
      "execution_count": 0,
      "outputs": []
    },
    {
      "metadata": {
        "id": "0guls1xIJust",
        "colab_type": "text"
      },
      "cell_type": "markdown",
      "source": [
        "### Dataset"
      ]
    },
    {
      "metadata": {
        "id": "XvnekX3pJnAM",
        "colab_type": "code",
        "colab": {}
      },
      "cell_type": "code",
      "source": [
        "transformations = None#get_transforms()"
      ],
      "execution_count": 0,
      "outputs": []
    },
    {
      "metadata": {
        "id": "ePAO6RzBJv-H",
        "colab_type": "code",
        "colab": {}
      },
      "cell_type": "code",
      "source": [
        "data = (ImageItemList\n",
        "    .from_folder((path/'Earthquakes'/'GADF'))\n",
        "    .split_by_folder(train='train', valid='test')\n",
        "    .label_from_folder()\n",
        "    .transform(transformations, size=size)\n",
        "    .databunch(bs=bs)\n",
        "    .normalize(imagenet_stats))"
      ],
      "execution_count": 0,
      "outputs": []
    },
    {
      "metadata": {
        "id": "9X8eWiKpJ0Dj",
        "colab_type": "code",
        "colab": {
          "base_uri": "https://localhost:8080/",
          "height": 441
        },
        "outputId": "4bc216ab-1d5a-48ba-90e3-3520583d2b55"
      },
      "cell_type": "code",
      "source": [
        "data.show_batch(3, figsize=(7,6))"
      ],
      "execution_count": 109,
      "outputs": [
        {
          "output_type": "display_data",
          "data": {
            "image/png": "[encoded data removed]",
            "text/plain": [
              "<matplotlib.figure.Figure at 0x7f2449276f28>"
            ]
          },
          "metadata": {
            "tags": []
          }
        }
      ]
    },
    {
      "metadata": {
        "id": "yUl2-lu3KAL3",
        "colab_type": "text"
      },
      "cell_type": "markdown",
      "source": [
        "### Training: resnet34"
      ]
    },
    {
      "metadata": {
        "id": "PMIM4xumJ2wz",
        "colab_type": "code",
        "colab": {}
      },
      "cell_type": "code",
      "source": [
        "learn = create_cnn(data, models.resnet34, metrics=[accuracy, error_rate])"
      ],
      "execution_count": 0,
      "outputs": []
    },
    {
      "metadata": {
        "id": "CPdqmn92J-zy",
        "colab_type": "code",
        "colab": {
          "base_uri": "https://localhost:8080/",
          "height": 403
        },
        "outputId": "92044dc5-bfd4-4e95-cae0-5bf082c8f2f2"
      },
      "cell_type": "code",
      "source": [
        "learn.lr_find()"
      ],
      "execution_count": 111,
      "outputs": [
        {
          "output_type": "display_data",
          "data": {
            "text/html": [
              "\n",
              "    <div>\n",
              "        <style>\n",
              "        \t/* Turns off some styling */\n",
              "        \tprogress {\n",
              "\n",
              "            \t/* gets rid of default border in Firefox and Opera. */\n",
              "            \tborder: none;\n",
              "\n",
              "            \t/* Needs to be in here for Safari polyfill so background images work as expected. */\n",
              "            \tbackground-size: auto;\n",
              "            }\n",
              "\n",
              "            .progress-bar-interrupted, .progress-bar-interrupted::-webkit-progress-bar {\n",
              "                background: #F44336;\n",
              "            }\n",
              "        </style>\n",
              "      <progress value='14' class='' max='17', style='width:300px; height:20px; vertical-align: middle;'></progress>\n",
              "      82.35% [14/17 00:41<00:08]\n",
              "    </div>\n",
              "    \n",
              "<table style='width:375px; margin-bottom:10px'>\n",
              "  <tr>\n",
              "    <th>epoch</th>\n",
              "    <th>train_loss</th>\n",
              "    <th>valid_loss</th>\n",
              "    <th>accuracy</th>\n",
              "    <th>error_rate</th>\n",
              "  </tr>\n",
              "  <tr>\n",
              "    <th>1</th>\n",
              "    <th>0.981040</th>\n",
              "  </tr>\n",
              "  <tr>\n",
              "    <th>2</th>\n",
              "    <th>1.010254</th>\n",
              "  </tr>\n",
              "  <tr>\n",
              "    <th>3</th>\n",
              "    <th>0.959744</th>\n",
              "  </tr>\n",
              "  <tr>\n",
              "    <th>4</th>\n",
              "    <th>1.003117</th>\n",
              "  </tr>\n",
              "  <tr>\n",
              "    <th>5</th>\n",
              "    <th>0.965413</th>\n",
              "  </tr>\n",
              "  <tr>\n",
              "    <th>6</th>\n",
              "    <th>0.961472</th>\n",
              "  </tr>\n",
              "  <tr>\n",
              "    <th>7</th>\n",
              "    <th>0.943067</th>\n",
              "  </tr>\n",
              "  <tr>\n",
              "    <th>8</th>\n",
              "    <th>0.917941</th>\n",
              "  </tr>\n",
              "  <tr>\n",
              "    <th>9</th>\n",
              "    <th>0.906412</th>\n",
              "  </tr>\n",
              "  <tr>\n",
              "    <th>10</th>\n",
              "    <th>0.847701</th>\n",
              "  </tr>\n",
              "  <tr>\n",
              "    <th>11</th>\n",
              "    <th>0.774416</th>\n",
              "  </tr>\n",
              "  <tr>\n",
              "    <th>12</th>\n",
              "    <th>0.753353</th>\n",
              "  </tr>\n",
              "  <tr>\n",
              "    <th>13</th>\n",
              "    <th>0.977945</th>\n",
              "  </tr>\n",
              "  <tr>\n",
              "    <th>14</th>\n",
              "    <th>1.548609</th>\n",
              "  </tr>\n",
              "  <tr>\n",
              "\n",
              "  </tr>\n",
              "</table>\n",
              "\n",
              "\n",
              "    <div>\n",
              "        <style>\n",
              "        \t/* Turns off some styling */\n",
              "        \tprogress {\n",
              "\n",
              "            \t/* gets rid of default border in Firefox and Opera. */\n",
              "            \tborder: none;\n",
              "\n",
              "            \t/* Needs to be in here for Safari polyfill so background images work as expected. */\n",
              "            \tbackground-size: auto;\n",
              "            }\n",
              "\n",
              "            .progress-bar-interrupted, .progress-bar-interrupted::-webkit-progress-bar {\n",
              "                background: #F44336;\n",
              "            }\n",
              "        </style>\n",
              "      <progress value='0' class='progress-bar-interrupted' max='6', style='width:300px; height:20px; vertical-align: middle;'></progress>\n",
              "      Interrupted\n",
              "    </div>\n",
              "    "
            ],
            "text/plain": [
              "<IPython.core.display.HTML object>"
            ]
          },
          "metadata": {
            "tags": []
          }
        },
        {
          "output_type": "stream",
          "text": [
            "LR Finder is complete, type {learner_name}.recorder.plot() to see the graph.\n"
          ],
          "name": "stdout"
        }
      ]
    },
    {
      "metadata": {
        "id": "EDEOkJJ_KKzN",
        "colab_type": "code",
        "colab": {
          "base_uri": "https://localhost:8080/",
          "height": 283
        },
        "outputId": "8a036f71-1f98-4d15-ee3f-fc588f97350d"
      },
      "cell_type": "code",
      "source": [
        "learn.recorder.plot()"
      ],
      "execution_count": 112,
      "outputs": [
        {
          "output_type": "display_data",
          "data": {
            "image/png": "[encoded data removed]",
            "text/plain": [
              "<matplotlib.figure.Figure at 0x7f2449057ef0>"
            ]
          },
          "metadata": {
            "tags": []
          }
        }
      ]
    },
    {
      "metadata": {
        "id": "AqJEf1WhKZVH",
        "colab_type": "code",
        "colab": {
          "base_uri": "https://localhost:8080/",
          "height": 136
        },
        "outputId": "175e931c-4090-4767-89aa-d2f0e8ca4610"
      },
      "cell_type": "code",
      "source": [
        "learn.fit_one_cycle(4, 3e-3)"
      ],
      "execution_count": 113,
      "outputs": [
        {
          "output_type": "stream",
          "text": [
            "Total time: 00:17\n",
            "epoch  train_loss  valid_loss  accuracy  error_rate\n",
            "1      0.969402    0.663501    0.604317  0.395683    (00:04)\n",
            "2      0.843445    0.770464    0.510791  0.489209    (00:04)\n",
            "3      0.734087    1.006604    0.446043  0.553957    (00:04)\n",
            "4      0.630751    1.017907    0.446043  0.553957    (00:04)\n",
            "\n"
          ],
          "name": "stdout"
        }
      ]
    },
    {
      "metadata": {
        "id": "DI81AaBNK5M0",
        "colab_type": "text"
      },
      "cell_type": "markdown",
      "source": [
        "### Training: resset50"
      ]
    },
    {
      "metadata": {
        "id": "_RxA3XySK4kc",
        "colab_type": "code",
        "colab": {
          "base_uri": "https://localhost:8080/",
          "height": 51
        },
        "outputId": "c8c1e9df-78e6-4902-999e-c0c0b9e04f2c"
      },
      "cell_type": "code",
      "source": [
        "learn = create_cnn(data, models.resnet50, metrics=error_rate)"
      ],
      "execution_count": 114,
      "outputs": [
        {
          "output_type": "stream",
          "text": [
            "Downloading: \"https://download.pytorch.org/models/resnet50-19c8e357.pth\" to /root/.torch/models/resnet50-19c8e357.pth\n",
            "100%|██████████| 102502400/102502400 [00:02<00:00, 43528074.54it/s]\n"
          ],
          "name": "stderr"
        }
      ]
    },
    {
      "metadata": {
        "id": "99FsQRsUKeZ2",
        "colab_type": "code",
        "colab": {
          "base_uri": "https://localhost:8080/",
          "height": 665
        },
        "outputId": "3663a4d7-70ad-4bf8-cf0f-e2c7f8507c3e"
      },
      "cell_type": "code",
      "source": [
        "learn.lr_find()\n",
        "learn.recorder.plot()"
      ],
      "execution_count": 115,
      "outputs": [
        {
          "output_type": "display_data",
          "data": {
            "text/html": [
              "\n",
              "    <div>\n",
              "        <style>\n",
              "        \t/* Turns off some styling */\n",
              "        \tprogress {\n",
              "\n",
              "            \t/* gets rid of default border in Firefox and Opera. */\n",
              "            \tborder: none;\n",
              "\n",
              "            \t/* Needs to be in here for Safari polyfill so background images work as expected. */\n",
              "            \tbackground-size: auto;\n",
              "            }\n",
              "\n",
              "            .progress-bar-interrupted, .progress-bar-interrupted::-webkit-progress-bar {\n",
              "                background: #F44336;\n",
              "            }\n",
              "        </style>\n",
              "      <progress value='14' class='' max='17', style='width:300px; height:20px; vertical-align: middle;'></progress>\n",
              "      82.35% [14/17 01:30<00:19]\n",
              "    </div>\n",
              "    \n",
              "<table style='width:300px; margin-bottom:10px'>\n",
              "  <tr>\n",
              "    <th>epoch</th>\n",
              "    <th>train_loss</th>\n",
              "    <th>valid_loss</th>\n",
              "    <th>error_rate</th>\n",
              "  </tr>\n",
              "  <tr>\n",
              "    <th>1</th>\n",
              "    <th>0.873283</th>\n",
              "  </tr>\n",
              "  <tr>\n",
              "    <th>2</th>\n",
              "    <th>0.951229</th>\n",
              "  </tr>\n",
              "  <tr>\n",
              "    <th>3</th>\n",
              "    <th>0.894743</th>\n",
              "  </tr>\n",
              "  <tr>\n",
              "    <th>4</th>\n",
              "    <th>0.876200</th>\n",
              "  </tr>\n",
              "  <tr>\n",
              "    <th>5</th>\n",
              "    <th>0.864850</th>\n",
              "  </tr>\n",
              "  <tr>\n",
              "    <th>6</th>\n",
              "    <th>0.879887</th>\n",
              "  </tr>\n",
              "  <tr>\n",
              "    <th>7</th>\n",
              "    <th>0.859000</th>\n",
              "  </tr>\n",
              "  <tr>\n",
              "    <th>8</th>\n",
              "    <th>0.825577</th>\n",
              "  </tr>\n",
              "  <tr>\n",
              "    <th>9</th>\n",
              "    <th>0.819585</th>\n",
              "  </tr>\n",
              "  <tr>\n",
              "    <th>10</th>\n",
              "    <th>0.761374</th>\n",
              "  </tr>\n",
              "  <tr>\n",
              "    <th>11</th>\n",
              "    <th>0.705175</th>\n",
              "  </tr>\n",
              "  <tr>\n",
              "    <th>12</th>\n",
              "    <th>0.717991</th>\n",
              "  </tr>\n",
              "  <tr>\n",
              "    <th>13</th>\n",
              "    <th>0.711274</th>\n",
              "  </tr>\n",
              "  <tr>\n",
              "    <th>14</th>\n",
              "    <th>1.005168</th>\n",
              "  </tr>\n",
              "  <tr>\n",
              "\n",
              "  </tr>\n",
              "</table>\n",
              "\n",
              "\n",
              "    <div>\n",
              "        <style>\n",
              "        \t/* Turns off some styling */\n",
              "        \tprogress {\n",
              "\n",
              "            \t/* gets rid of default border in Firefox and Opera. */\n",
              "            \tborder: none;\n",
              "\n",
              "            \t/* Needs to be in here for Safari polyfill so background images work as expected. */\n",
              "            \tbackground-size: auto;\n",
              "            }\n",
              "\n",
              "            .progress-bar-interrupted, .progress-bar-interrupted::-webkit-progress-bar {\n",
              "                background: #F44336;\n",
              "            }\n",
              "        </style>\n",
              "      <progress value='0' class='progress-bar-interrupted' max='6', style='width:300px; height:20px; vertical-align: middle;'></progress>\n",
              "      Interrupted\n",
              "    </div>\n",
              "    "
            ],
            "text/plain": [
              "<IPython.core.display.HTML object>"
            ]
          },
          "metadata": {
            "tags": []
          }
        },
        {
          "output_type": "stream",
          "text": [
            "LR Finder is complete, type {learner_name}.recorder.plot() to see the graph.\n"
          ],
          "name": "stdout"
        },
        {
          "output_type": "display_data",
          "data": {
            "image/png": "[encoded data removed]",
            "text/plain": [
              "<matplotlib.figure.Figure at 0x7f244387a550>"
            ]
          },
          "metadata": {
            "tags": []
          }
        }
      ]
    },
    {
      "metadata": {
        "id": "6h63iiOGK_vw",
        "colab_type": "code",
        "colab": {
          "base_uri": "https://localhost:8080/",
          "height": 204
        },
        "outputId": "653d951f-65b2-43c2-ba5d-8cd8e864a903"
      },
      "cell_type": "code",
      "source": [
        "learn.fit_one_cycle(8, 5e-3)"
      ],
      "execution_count": 116,
      "outputs": [
        {
          "output_type": "stream",
          "text": [
            "Total time: 01:08\n",
            "epoch  train_loss  valid_loss  error_rate\n",
            "1      0.860175    0.563818    0.273381    (00:17)\n",
            "2      0.679544    0.564484    0.266187    (00:07)\n",
            "3      0.607729    0.729496    0.287770    (00:07)\n",
            "4      0.569867    0.949778    0.258993    (00:07)\n",
            "5      0.506279    0.874434    0.258993    (00:07)\n",
            "6      0.497285    0.798650    0.287770    (00:07)\n",
            "7      0.459215    0.800176    0.323741    (00:07)\n",
            "8      0.434542    0.817872    0.302158    (00:07)\n",
            "\n"
          ],
          "name": "stdout"
        }
      ]
    },
    {
      "metadata": {
        "id": "O4krXvdhMOx-",
        "colab_type": "text"
      },
      "cell_type": "markdown",
      "source": [
        "## MTF"
      ]
    },
    {
      "metadata": {
        "id": "tBGNPzNEL4aE",
        "colab_type": "code",
        "colab": {}
      },
      "cell_type": "code",
      "source": [
        "tscls = TimeseriesClassification('Earthquakes', 'MTF')\n",
        "tscls.create_imagenet_tree(path)"
      ],
      "execution_count": 0,
      "outputs": []
    },
    {
      "metadata": {
        "id": "4Jpd9M7jNnLR",
        "colab_type": "code",
        "colab": {
          "base_uri": "https://localhost:8080/",
          "height": 34
        },
        "outputId": "06570516-f888-4afd-8762-a7aa194d7793"
      },
      "cell_type": "code",
      "source": [
        "X_train.shape, X_test.shape"
      ],
      "execution_count": 125,
      "outputs": [
        {
          "output_type": "execute_result",
          "data": {
            "text/plain": [
              "((322, 512), (139, 512))"
            ]
          },
          "metadata": {
            "tags": []
          },
          "execution_count": 125
        }
      ]
    },
    {
      "metadata": {
        "id": "t_SfpcR_MScY",
        "colab_type": "code",
        "colab": {
          "base_uri": "https://localhost:8080/",
          "height": 708
        },
        "outputId": "7dd1b2a2-9911-4c80-bfda-b55832a5de48"
      },
      "cell_type": "code",
      "source": [
        "transfomer = tscls.create_transfomer()\n",
        "# save training data\n",
        "img_train = transfomer.fit_transform(X_train)\n",
        "tscls.save_images(path, img_train, y_train, step='train')\n",
        "# save testing data\n",
        "img_test = transfomer.fit_transform(X_test)\n",
        "tscls.save_images(path, img_test, y_test, step='test')"
      ],
      "execution_count": 126,
      "outputs": [
        {
          "output_type": "error",
          "ename": "IndexError",
          "evalue": "ignored",
          "traceback": [
            "\u001b[0;31m---------------------------------------------------------------------------\u001b[0m",
            "\u001b[0;31mIndexError\u001b[0m                                Traceback (most recent call last)",
            "\u001b[0;32m<ipython-input-126-6a9df93ec5a2>\u001b[0m in \u001b[0;36m<module>\u001b[0;34m()\u001b[0m\n\u001b[1;32m      1\u001b[0m \u001b[0mtransfomer\u001b[0m \u001b[0;34m=\u001b[0m \u001b[0mtscls\u001b[0m\u001b[0;34m.\u001b[0m\u001b[0mcreate_transfomer\u001b[0m\u001b[0;34m(\u001b[0m\u001b[0;34m)\u001b[0m\u001b[0;34m\u001b[0m\u001b[0;34m\u001b[0m\u001b[0m\n\u001b[1;32m      2\u001b[0m \u001b[0;31m# save training data\u001b[0m\u001b[0;34m\u001b[0m\u001b[0;34m\u001b[0m\u001b[0;34m\u001b[0m\u001b[0m\n\u001b[0;32m----> 3\u001b[0;31m \u001b[0mimg_train\u001b[0m \u001b[0;34m=\u001b[0m \u001b[0mtransfomer\u001b[0m\u001b[0;34m.\u001b[0m\u001b[0mfit_transform\u001b[0m\u001b[0;34m(\u001b[0m\u001b[0mX_train\u001b[0m\u001b[0;34m)\u001b[0m\u001b[0;34m\u001b[0m\u001b[0;34m\u001b[0m\u001b[0m\n\u001b[0m\u001b[1;32m      4\u001b[0m \u001b[0mtscls\u001b[0m\u001b[0;34m.\u001b[0m\u001b[0msave_images\u001b[0m\u001b[0;34m(\u001b[0m\u001b[0mpath\u001b[0m\u001b[0;34m,\u001b[0m \u001b[0mimg_train\u001b[0m\u001b[0;34m,\u001b[0m \u001b[0my_train\u001b[0m\u001b[0;34m,\u001b[0m \u001b[0mstep\u001b[0m\u001b[0;34m=\u001b[0m\u001b[0;34m'train'\u001b[0m\u001b[0;34m)\u001b[0m\u001b[0;34m\u001b[0m\u001b[0;34m\u001b[0m\u001b[0m\n\u001b[1;32m      5\u001b[0m \u001b[0;31m# save testing data\u001b[0m\u001b[0;34m\u001b[0m\u001b[0;34m\u001b[0m\u001b[0;34m\u001b[0m\u001b[0m\n",
            "\u001b[0;32m/usr/local/lib/python3.6/dist-packages/sklearn/base.py\u001b[0m in \u001b[0;36mfit_transform\u001b[0;34m(self, X, y, **fit_params)\u001b[0m\n\u001b[1;32m    515\u001b[0m         \u001b[0;32mif\u001b[0m \u001b[0my\u001b[0m \u001b[0;32mis\u001b[0m \u001b[0;32mNone\u001b[0m\u001b[0;34m:\u001b[0m\u001b[0;34m\u001b[0m\u001b[0;34m\u001b[0m\u001b[0m\n\u001b[1;32m    516\u001b[0m             \u001b[0;31m# fit method of arity 1 (unsupervised transformation)\u001b[0m\u001b[0;34m\u001b[0m\u001b[0;34m\u001b[0m\u001b[0;34m\u001b[0m\u001b[0m\n\u001b[0;32m--> 517\u001b[0;31m             \u001b[0;32mreturn\u001b[0m \u001b[0mself\u001b[0m\u001b[0;34m.\u001b[0m\u001b[0mfit\u001b[0m\u001b[0;34m(\u001b[0m\u001b[0mX\u001b[0m\u001b[0;34m,\u001b[0m \u001b[0;34m**\u001b[0m\u001b[0mfit_params\u001b[0m\u001b[0;34m)\u001b[0m\u001b[0;34m.\u001b[0m\u001b[0mtransform\u001b[0m\u001b[0;34m(\u001b[0m\u001b[0mX\u001b[0m\u001b[0;34m)\u001b[0m\u001b[0;34m\u001b[0m\u001b[0;34m\u001b[0m\u001b[0m\n\u001b[0m\u001b[1;32m    518\u001b[0m         \u001b[0;32melse\u001b[0m\u001b[0;34m:\u001b[0m\u001b[0;34m\u001b[0m\u001b[0;34m\u001b[0m\u001b[0m\n\u001b[1;32m    519\u001b[0m             \u001b[0;31m# fit method of arity 2 (supervised transformation)\u001b[0m\u001b[0;34m\u001b[0m\u001b[0;34m\u001b[0m\u001b[0;34m\u001b[0m\u001b[0m\n",
            "\u001b[0;32m/usr/local/lib/python3.6/dist-packages/pyts/image/image.py\u001b[0m in \u001b[0;36mtransform\u001b[0;34m(self, X)\u001b[0m\n\u001b[1;32m    299\u001b[0m                                    \u001b[0mself\u001b[0m\u001b[0;34m.\u001b[0m\u001b[0mimage_size\u001b[0m\u001b[0;34m,\u001b[0m \u001b[0mself\u001b[0m\u001b[0;34m.\u001b[0m\u001b[0mn_bins\u001b[0m\u001b[0;34m,\u001b[0m\u001b[0;34m\u001b[0m\u001b[0;34m\u001b[0m\u001b[0m\n\u001b[1;32m    300\u001b[0m                                    \u001b[0mself\u001b[0m\u001b[0;34m.\u001b[0m\u001b[0moverlapping\u001b[0m\u001b[0;34m,\u001b[0m \u001b[0mwindow_size\u001b[0m\u001b[0;34m,\u001b[0m\u001b[0;34m\u001b[0m\u001b[0;34m\u001b[0m\u001b[0m\n\u001b[0;32m--> 301\u001b[0;31m                                    remainder)\n\u001b[0m\u001b[1;32m    302\u001b[0m \u001b[0;34m\u001b[0m\u001b[0m\n\u001b[1;32m    303\u001b[0m     def _mtf(self, binned_ts, ts_size, image_size, n_bins, overlapping,\n",
            "\u001b[0;32m/usr/local/lib/python3.6/dist-packages/numpy/lib/shape_base.py\u001b[0m in \u001b[0;36mapply_along_axis\u001b[0;34m(func1d, axis, arr, *args, **kwargs)\u001b[0m\n\u001b[1;32m    130\u001b[0m     \u001b[0;32mexcept\u001b[0m \u001b[0mStopIteration\u001b[0m\u001b[0;34m:\u001b[0m\u001b[0;34m\u001b[0m\u001b[0;34m\u001b[0m\u001b[0m\n\u001b[1;32m    131\u001b[0m         \u001b[0;32mraise\u001b[0m \u001b[0mValueError\u001b[0m\u001b[0;34m(\u001b[0m\u001b[0;34m'Cannot apply_along_axis when any iteration dimensions are 0'\u001b[0m\u001b[0;34m)\u001b[0m\u001b[0;34m\u001b[0m\u001b[0;34m\u001b[0m\u001b[0m\n\u001b[0;32m--> 132\u001b[0;31m     \u001b[0mres\u001b[0m \u001b[0;34m=\u001b[0m \u001b[0masanyarray\u001b[0m\u001b[0;34m(\u001b[0m\u001b[0mfunc1d\u001b[0m\u001b[0;34m(\u001b[0m\u001b[0minarr_view\u001b[0m\u001b[0;34m[\u001b[0m\u001b[0mind0\u001b[0m\u001b[0;34m]\u001b[0m\u001b[0;34m,\u001b[0m \u001b[0;34m*\u001b[0m\u001b[0margs\u001b[0m\u001b[0;34m,\u001b[0m \u001b[0;34m**\u001b[0m\u001b[0mkwargs\u001b[0m\u001b[0;34m)\u001b[0m\u001b[0;34m)\u001b[0m\u001b[0;34m\u001b[0m\u001b[0;34m\u001b[0m\u001b[0m\n\u001b[0m\u001b[1;32m    133\u001b[0m \u001b[0;34m\u001b[0m\u001b[0m\n\u001b[1;32m    134\u001b[0m     \u001b[0;31m# build a buffer for storing evaluations of func1d.\u001b[0m\u001b[0;34m\u001b[0m\u001b[0;34m\u001b[0m\u001b[0;34m\u001b[0m\u001b[0m\n",
            "\u001b[0;32m/usr/local/lib/python3.6/dist-packages/pyts/image/image.py\u001b[0m in \u001b[0;36m_mtf\u001b[0;34m(self, binned_ts, ts_size, image_size, n_bins, overlapping, window_size, remainder)\u001b[0m\n\u001b[1;32m    333\u001b[0m             \u001b[0;32mfor\u001b[0m \u001b[0mi\u001b[0m \u001b[0;32min\u001b[0m \u001b[0mrange\u001b[0m\u001b[0;34m(\u001b[0m\u001b[0mimage_size\u001b[0m\u001b[0;34m)\u001b[0m\u001b[0;34m:\u001b[0m\u001b[0;34m\u001b[0m\u001b[0;34m\u001b[0m\u001b[0m\n\u001b[1;32m    334\u001b[0m                 \u001b[0;32mfor\u001b[0m \u001b[0mj\u001b[0m \u001b[0;32min\u001b[0m \u001b[0mrange\u001b[0m\u001b[0;34m(\u001b[0m\u001b[0mimage_size\u001b[0m\u001b[0;34m)\u001b[0m\u001b[0;34m:\u001b[0m\u001b[0;34m\u001b[0m\u001b[0;34m\u001b[0m\u001b[0m\n\u001b[0;32m--> 335\u001b[0;31m                     \u001b[0mAMTF\u001b[0m\u001b[0;34m[\u001b[0m\u001b[0mi\u001b[0m\u001b[0;34m,\u001b[0m \u001b[0mj\u001b[0m\u001b[0;34m]\u001b[0m \u001b[0;34m=\u001b[0m \u001b[0mMTF\u001b[0m\u001b[0;34m[\u001b[0m\u001b[0mstart\u001b[0m\u001b[0;34m[\u001b[0m\u001b[0mi\u001b[0m\u001b[0;34m]\u001b[0m\u001b[0;34m:\u001b[0m\u001b[0mend\u001b[0m\u001b[0;34m[\u001b[0m\u001b[0mi\u001b[0m\u001b[0;34m]\u001b[0m\u001b[0;34m,\u001b[0m \u001b[0mstart\u001b[0m\u001b[0;34m[\u001b[0m\u001b[0mj\u001b[0m\u001b[0;34m]\u001b[0m\u001b[0;34m:\u001b[0m\u001b[0mend\u001b[0m\u001b[0;34m[\u001b[0m\u001b[0mj\u001b[0m\u001b[0;34m]\u001b[0m\u001b[0;34m]\u001b[0m\u001b[0;34m.\u001b[0m\u001b[0mmean\u001b[0m\u001b[0;34m(\u001b[0m\u001b[0;34m)\u001b[0m\u001b[0;34m\u001b[0m\u001b[0;34m\u001b[0m\u001b[0m\n\u001b[0m\u001b[1;32m    336\u001b[0m \u001b[0;34m\u001b[0m\u001b[0m\n\u001b[1;32m    337\u001b[0m             \u001b[0;32mreturn\u001b[0m \u001b[0mAMTF\u001b[0m\u001b[0;34m\u001b[0m\u001b[0;34m\u001b[0m\u001b[0m\n",
            "\u001b[0;31mIndexError\u001b[0m: index 171 is out of bounds for axis 0 with size 171"
          ]
        }
      ]
    },
    {
      "metadata": {
        "id": "m3N50M4SMWb0",
        "colab_type": "code",
        "colab": {
          "base_uri": "https://localhost:8080/",
          "height": 7344
        },
        "outputId": "2b3e6880-4acb-4ff0-eeaa-21e2af2525f0"
      },
      "cell_type": "code",
      "source": [
        "!cat -n /usr/local/lib/python3.6/dist-packages/pyts/image/image.py"
      ],
      "execution_count": 130,
      "outputs": [
        {
          "output_type": "stream",
          "text": [
            "     1\t\"\"\"The :mod:`pyts.image` module includes imaging algorithms.\r\n",
            "     2\t\r\n",
            "     3\tImplemented algorithms are:\r\n",
            "     4\t- Gramian Angular Summation Field\r\n",
            "     5\t- Gramian Angular Difference Field\r\n",
            "     6\t- Markov Transition Field\r\n",
            "     7\t- Recurrence Plots\r\n",
            "     8\t\"\"\"\r\n",
            "     9\t\r\n",
            "    10\tfrom __future__ import division\r\n",
            "    11\tfrom __future__ import unicode_literals\r\n",
            "    12\tfrom __future__ import print_function\r\n",
            "    13\tfrom __future__ import absolute_import\r\n",
            "    14\tfrom future import standard_library\r\n",
            "    15\timport numpy as np\r\n",
            "    16\timport scipy.stats\r\n",
            "    17\tfrom sklearn.base import BaseEstimator, TransformerMixin\r\n",
            "    18\tfrom sklearn.preprocessing import MinMaxScaler\r\n",
            "    19\tfrom sklearn.utils.validation import check_array\r\n",
            "    20\tfrom ..approximation import PAA\r\n",
            "    21\tfrom ..utils import segmentation\r\n",
            "    22\t\r\n",
            "    23\t\r\n",
            "    24\tstandard_library.install_aliases()\r\n",
            "    25\t\r\n",
            "    26\t\r\n",
            "    27\tclass GASF(BaseEstimator, TransformerMixin):\r\n",
            "    28\t    \"\"\"Gramian Angular Summation Field.\r\n",
            "    29\t\r\n",
            "    30\t    Parameters\r\n",
            "    31\t    ----------\r\n",
            "    32\t    image_size : int (default = 32)\r\n",
            "    33\t        Determine the shape of the output images: (image_size, image_size)\r\n",
            "    34\t\r\n",
            "    35\t    overlapping : bool (default = False)\r\n",
            "    36\t        If True, reduce the size of each time series using PAA with possible\r\n",
            "    37\t        overlapping windows.\r\n",
            "    38\t\r\n",
            "    39\t    scale : {-1, 0} (default = -1)\r\n",
            "    40\t        The lower bound of the scaled time series.\r\n",
            "    41\t\r\n",
            "    42\t    \"\"\"\r\n",
            "    43\t\r\n",
            "    44\t    def __init__(self, image_size=32, overlapping=False, scale=-1):\r\n",
            "    45\t        self.image_size = image_size\r\n",
            "    46\t        self.overlapping = overlapping\r\n",
            "    47\t        self.scale = scale\r\n",
            "    48\t\r\n",
            "    49\t    def fit(self, X=None, y=None):\r\n",
            "    50\t        \"\"\"Pass.\r\n",
            "    51\t\r\n",
            "    52\t        Parameters\r\n",
            "    53\t        ----------\r\n",
            "    54\t        X\r\n",
            "    55\t            Ignored\r\n",
            "    56\t\r\n",
            "    57\t        y\r\n",
            "    58\t            Ignored\r\n",
            "    59\t\r\n",
            "    60\t        \"\"\"\r\n",
            "    61\t        return self\r\n",
            "    62\t\r\n",
            "    63\t    def transform(self, X):\r\n",
            "    64\t        \"\"\"Transform each time series into a GASF image.\r\n",
            "    65\t\r\n",
            "    66\t        Parameters\r\n",
            "    67\t        ----------\r\n",
            "    68\t        X : array-like, shape = [n_samples, n_features]\r\n",
            "    69\t\r\n",
            "    70\t        Returns\r\n",
            "    71\t        -------\r\n",
            "    72\t        X_new : array-like, shape = [n_samples, image_size, image_size]\r\n",
            "    73\t            Transformed data.\r\n",
            "    74\t\r\n",
            "    75\t        \"\"\"\r\n",
            "    76\t        # Check input data\r\n",
            "    77\t        X = check_array(X)\r\n",
            "    78\t\r\n",
            "    79\t        # Shape parameters\r\n",
            "    80\t        n_samples, n_features = X.shape\r\n",
            "    81\t\r\n",
            "    82\t        # Check parameters\r\n",
            "    83\t        if not isinstance(self.image_size, int):\r\n",
            "    84\t            raise TypeError(\"'image_size' must be an integer.\")\r\n",
            "    85\t        if self.image_size < 2:\r\n",
            "    86\t            raise ValueError(\"'image_size' must be greater than or equal \"\r\n",
            "    87\t                             \"to 2.\")\r\n",
            "    88\t        if self.image_size > n_features:\r\n",
            "    89\t            raise ValueError(\"'image_size' must be lower than or equal to \"\r\n",
            "    90\t                             \"the size of each time series.\")\r\n",
            "    91\t        if not isinstance(self.overlapping, (float, int)):\r\n",
            "    92\t            raise TypeError(\"'overlapping' must be a boolean.\")\r\n",
            "    93\t        if self.scale not in [0, -1]:\r\n",
            "    94\t            raise ValueError(\"'scale' must be either 0 or -1.\")\r\n",
            "    95\t\r\n",
            "    96\t        paa = PAA(output_size=self.image_size, overlapping=self.overlapping)\r\n",
            "    97\t        X_paa = paa.fit_transform(X)\r\n",
            "    98\t        scaler = MinMaxScaler(feature_range=(self.scale, 1))\r\n",
            "    99\t        X_scaled = scaler.fit_transform(X_paa.T).T\r\n",
            "   100\t        X_sin = np.sqrt(np.clip(1 - X_scaled**2, 0, 1))\r\n",
            "   101\t        X_scaled_outer = np.apply_along_axis(self._outer, 1, X_scaled)\r\n",
            "   102\t        X_sin_outer = np.apply_along_axis(self._outer, 1, X_sin)\r\n",
            "   103\t        return X_scaled_outer - X_sin_outer\r\n",
            "   104\t\r\n",
            "   105\t    def _outer(self, arr):\r\n",
            "   106\t        return np.outer(arr, arr)\r\n",
            "   107\t\r\n",
            "   108\t\r\n",
            "   109\tclass GADF(BaseEstimator, TransformerMixin):\r\n",
            "   110\t    \"\"\"Gramian Angular Difference Field.\r\n",
            "   111\t\r\n",
            "   112\t    Parameters\r\n",
            "   113\t    ----------\r\n",
            "   114\t    image_size : int (default = 32)\r\n",
            "   115\t        Determine the shape of the output images: (image_size, image_size)\r\n",
            "   116\t\r\n",
            "   117\t    overlapping : bool (default = False)\r\n",
            "   118\t        If True, reducing the size of the time series with PAA is\r\n",
            "   119\t        done with possible overlapping windows.\r\n",
            "   120\t\r\n",
            "   121\t    scale : {-1, 0} (default = -1)\r\n",
            "   122\t        The lower bound of the scaled time series.\r\n",
            "   123\t\r\n",
            "   124\t    \"\"\"\r\n",
            "   125\t\r\n",
            "   126\t    def __init__(self, image_size=32, overlapping=False, scale=-1):\r\n",
            "   127\t        self.image_size = image_size\r\n",
            "   128\t        self.overlapping = overlapping\r\n",
            "   129\t        self.scale = scale\r\n",
            "   130\t\r\n",
            "   131\t    def fit(self, X=None, y=None):\r\n",
            "   132\t        \"\"\"Pass.\r\n",
            "   133\t\r\n",
            "   134\t        Parameters\r\n",
            "   135\t        ----------\r\n",
            "   136\t        X\r\n",
            "   137\t            Ignored\r\n",
            "   138\t\r\n",
            "   139\t        y\r\n",
            "   140\t            Ignored\r\n",
            "   141\t\r\n",
            "   142\t        \"\"\"\r\n",
            "   143\t        return self\r\n",
            "   144\t\r\n",
            "   145\t    def transform(self, X):\r\n",
            "   146\t        \"\"\"Transform each time series into a GADF image.\r\n",
            "   147\t\r\n",
            "   148\t        Parameters\r\n",
            "   149\t        ----------\r\n",
            "   150\t        X : array-like, shape = [n_samples, n_features]\r\n",
            "   151\t\r\n",
            "   152\t        Returns\r\n",
            "   153\t        -------\r\n",
            "   154\t        X_new : array-like, shape = [n_samples, image_size, image_size]\r\n",
            "   155\t            Transformed data.\r\n",
            "   156\t\r\n",
            "   157\t        \"\"\"\r\n",
            "   158\t        # Check input data\r\n",
            "   159\t        X = check_array(X)\r\n",
            "   160\t\r\n",
            "   161\t        # Shape parameters\r\n",
            "   162\t        n_samples, n_features = X.shape\r\n",
            "   163\t\r\n",
            "   164\t        # Check parameters\r\n",
            "   165\t        if not isinstance(self.image_size, int):\r\n",
            "   166\t            raise TypeError(\"'image_size' must be an integer.\")\r\n",
            "   167\t        if self.image_size < 2:\r\n",
            "   168\t            raise ValueError(\"'image_size' must be greater or equal than 2.\")\r\n",
            "   169\t        if self.image_size > n_features:\r\n",
            "   170\t            raise ValueError(\"'image_size' must be lower or equal than \"\r\n",
            "   171\t                             \"the size of each time series.\")\r\n",
            "   172\t        if not isinstance(self.overlapping, (float, int)):\r\n",
            "   173\t            raise TypeError(\"'overlapping' must be a boolean.\")\r\n",
            "   174\t        if self.scale not in [0, -1]:\r\n",
            "   175\t            raise ValueError(\"'scale' must be either 0 or -1.\")\r\n",
            "   176\t\r\n",
            "   177\t        paa = PAA(output_size=self.image_size, overlapping=self.overlapping)\r\n",
            "   178\t        X_paa = paa.fit_transform(X)\r\n",
            "   179\t        n_features_new = X_paa.shape[1]\r\n",
            "   180\t        scaler = MinMaxScaler(feature_range=(self.scale, 1))\r\n",
            "   181\t        X_scaled = scaler.fit_transform(X_paa.T).T\r\n",
            "   182\t        X_sin = np.sqrt(np.clip(1 - X_scaled**2, 0, 1))\r\n",
            "   183\t        X_scaled_sin = np.hstack([X_scaled, X_sin])\r\n",
            "   184\t        X_scaled_sin_outer = np.apply_along_axis(self._outer_stacked,\r\n",
            "   185\t                                                 1,\r\n",
            "   186\t                                                 X_scaled_sin,\r\n",
            "   187\t                                                 n_features_new,\r\n",
            "   188\t                                                 True)\r\n",
            "   189\t        X_sin_scaled_outer = np.apply_along_axis(self._outer_stacked,\r\n",
            "   190\t                                                 1,\r\n",
            "   191\t                                                 X_scaled_sin,\r\n",
            "   192\t                                                 n_features_new,\r\n",
            "   193\t                                                 False)\r\n",
            "   194\t        return X_sin_scaled_outer - X_scaled_sin_outer\r\n",
            "   195\t\r\n",
            "   196\t    def _outer_stacked(self, arr, size, first=True):\r\n",
            "   197\t        if first:\r\n",
            "   198\t            return np.outer(arr[:size], arr[size:])\r\n",
            "   199\t        else:\r\n",
            "   200\t            return np.outer(arr[size:], arr[:size])\r\n",
            "   201\t\r\n",
            "   202\t\r\n",
            "   203\tclass MTF(BaseEstimator, TransformerMixin):\r\n",
            "   204\t    \"\"\"Markov Transition Field.\r\n",
            "   205\t\r\n",
            "   206\t    Parameters\r\n",
            "   207\t    ----------\r\n",
            "   208\t    image_size : int (default = 32)\r\n",
            "   209\t        Determine the shape of the output images: (image_size, image_size)\r\n",
            "   210\t\r\n",
            "   211\t    n_bins : int (default = 4)\r\n",
            "   212\t        Number of bins (also known as the size of the alphabet)\r\n",
            "   213\t\r\n",
            "   214\t    quantiles : {'gaussian', 'empirical'} (default = 'gaussian')\r\n",
            "   215\t        The way to compute quantiles. If 'gaussian', quantiles from a\r\n",
            "   216\t        gaussian distribution N(0,1) are used. If 'empirical', empirical\r\n",
            "   217\t        quantiles are used.\r\n",
            "   218\t\r\n",
            "   219\t    overlapping : bool (default = False)\r\n",
            "   220\t        If False, reducing the image with the blurring kernel\r\n",
            "   221\t        will be applied on non-overlapping rectangles. If True,\r\n",
            "   222\t        it will be applied on eventually overlapping squares.\r\n",
            "   223\t\r\n",
            "   224\t    \"\"\"\r\n",
            "   225\t\r\n",
            "   226\t    def __init__(self, image_size=32, n_bins=4,\r\n",
            "   227\t                 quantiles='empirical', overlapping=False):\r\n",
            "   228\t        self.image_size = image_size\r\n",
            "   229\t        self.n_bins = n_bins\r\n",
            "   230\t        self.quantiles = quantiles\r\n",
            "   231\t        self.overlapping = overlapping\r\n",
            "   232\t\r\n",
            "   233\t    def fit(self, X=None, y=None):\r\n",
            "   234\t        \"\"\"Pass.\r\n",
            "   235\t\r\n",
            "   236\t        Parameters\r\n",
            "   237\t        ----------\r\n",
            "   238\t        X\r\n",
            "   239\t            Ignored\r\n",
            "   240\t\r\n",
            "   241\t        y\r\n",
            "   242\t            Ignored\r\n",
            "   243\t\r\n",
            "   244\t        \"\"\"\r\n",
            "   245\t        return self\r\n",
            "   246\t\r\n",
            "   247\t    def transform(self, X):\r\n",
            "   248\t        \"\"\"Transform each time series into a MTF image.\r\n",
            "   249\t\r\n",
            "   250\t        Parameters\r\n",
            "   251\t        ----------\r\n",
            "   252\t        X : array-like, shape = [n_samples, n_features]\r\n",
            "   253\t\r\n",
            "   254\t        Returns\r\n",
            "   255\t        -------\r\n",
            "   256\t        X_new : array-like, shape = [n_samples, image_size, image_size]\r\n",
            "   257\t            Transformed data.\r\n",
            "   258\t\r\n",
            "   259\t        \"\"\"\r\n",
            "   260\t        # Check input data\r\n",
            "   261\t        X = check_array(X)\r\n",
            "   262\t\r\n",
            "   263\t        # Shape parameters\r\n",
            "   264\t        n_samples, n_features = X.shape\r\n",
            "   265\t\r\n",
            "   266\t        # Check parameters\r\n",
            "   267\t        if not isinstance(self.image_size, int):\r\n",
            "   268\t            raise TypeError(\"'size' must be an integer.\")\r\n",
            "   269\t        if self.image_size < 2:\r\n",
            "   270\t            raise ValueError(\"'image_size' must be greater or equal than 2.\")\r\n",
            "   271\t        if self.image_size > n_features:\r\n",
            "   272\t            raise ValueError(\"'image_size' must be lower or equal than \"\r\n",
            "   273\t                             \"the size of each time series.\")\r\n",
            "   274\t        if not isinstance(self.n_bins, int):\r\n",
            "   275\t            raise TypeError(\"'n_bins' must be an integer.\")\r\n",
            "   276\t        if self.n_bins < 2:\r\n",
            "   277\t            raise ValueError(\"'n_bins' must be greater or equal than 2.\")\r\n",
            "   278\t        if self.quantiles not in ['gaussian', 'empirical']:\r\n",
            "   279\t            raise ValueError(\"'quantiles' must be either 'gaussian' or \"\r\n",
            "   280\t                             \"'empirical'.\")\r\n",
            "   281\t        if not isinstance(self.overlapping, (float, int)):\r\n",
            "   282\t            raise TypeError(\"'overlapping' must be a boolean.\")\r\n",
            "   283\t\r\n",
            "   284\t        if self.quantiles == 'gaussian':\r\n",
            "   285\t            bins = scipy.stats.norm.ppf(np.linspace(0, 1,\r\n",
            "   286\t                                                    self.n_bins + 1\r\n",
            "   287\t                                                    )[1:-1])\r\n",
            "   288\t            X_binned = np.apply_along_axis(np.digitize, 1, X, bins)\r\n",
            "   289\t        else:\r\n",
            "   290\t            bins = np.percentile(X,\r\n",
            "   291\t                                 np.linspace(0, 100, self.n_bins + 1)[1:-1],\r\n",
            "   292\t                                 axis=1)\r\n",
            "   293\t            X_binned = np.array([np.digitize(X[i], bins[:, i])\r\n",
            "   294\t                                 for i in range(n_samples)])\r\n",
            "   295\t\r\n",
            "   296\t        window_size = n_features // self.image_size\r\n",
            "   297\t        remainder = n_features % self.image_size\r\n",
            "   298\t        return np.apply_along_axis(self._mtf, 1, X_binned, n_features,\r\n",
            "   299\t                                   self.image_size, self.n_bins,\r\n",
            "   300\t                                   self.overlapping, window_size,\r\n",
            "   301\t                                   remainder)\r\n",
            "   302\t\r\n",
            "   303\t    def _mtf(self, binned_ts, ts_size, image_size, n_bins, overlapping,\r\n",
            "   304\t             window_size, remainder):\r\n",
            "   305\t        # Compute Markov Transition Matrix\r\n",
            "   306\t        MTM = np.zeros((n_bins, n_bins))\r\n",
            "   307\t        lagged_ts = np.vstack([binned_ts[:-1], binned_ts[1:]])\r\n",
            "   308\t        np.add.at(MTM, tuple(map(tuple, lagged_ts)), 1)\r\n",
            "   309\t\r\n",
            "   310\t        non_zero_rows = np.where(MTM.sum(axis=1) != 0)[0]\r\n",
            "   311\t        MTM = np.multiply(MTM[non_zero_rows][:, non_zero_rows].T,\r\n",
            "   312\t                          np.sum(MTM[non_zero_rows], axis=1)**(-1)).T\r\n",
            "   313\t\r\n",
            "   314\t        # Compute list of indices based on values\r\n",
            "   315\t        list_values = [np.where(binned_ts == q) for q in non_zero_rows]\r\n",
            "   316\t\r\n",
            "   317\t        # Compute Markov Transition Field\r\n",
            "   318\t        MTF = np.zeros((ts_size, ts_size))\r\n",
            "   319\t        for i in range(non_zero_rows.size):\r\n",
            "   320\t            for j in range(non_zero_rows.size):\r\n",
            "   321\t                MTF[np.meshgrid(list_values[i], list_values[j])] = MTM[i, j]\r\n",
            "   322\t\r\n",
            "   323\t        # Compute Aggregated Markov Transition Field\r\n",
            "   324\t        if remainder == 0:\r\n",
            "   325\t            return np.reshape(MTF,\r\n",
            "   326\t                              (image_size, window_size,\r\n",
            "   327\t                               image_size, window_size)\r\n",
            "   328\t                              ).mean(axis=(1, 3))\r\n",
            "   329\t        else:\r\n",
            "   330\t            window_size += 1\r\n",
            "   331\t            start, end, _ = segmentation(ts_size, window_size, overlapping)\r\n",
            "   332\t            AMTF = np.zeros((image_size, image_size))\r\n",
            "   333\t            for i in range(image_size):\r\n",
            "   334\t                for j in range(image_size):\r\n",
            "   335\t                    AMTF[i, j] = MTF[start[i]:end[i], start[j]:end[j]].mean()\r\n",
            "   336\t\r\n",
            "   337\t            return AMTF\r\n",
            "   338\t\r\n",
            "   339\t\r\n",
            "   340\tclass RecurrencePlots(BaseEstimator, TransformerMixin):\r\n",
            "   341\t    \"\"\"Recurrence Plots.\r\n",
            "   342\t\r\n",
            "   343\t    Parameters\r\n",
            "   344\t    ----------\r\n",
            "   345\t    dimension : int (default = 1)\r\n",
            "   346\t        Dimension of the trajectory.\r\n",
            "   347\t\r\n",
            "   348\t    epsilon : float, 'percentage_points', 'percentage_distance' or None\r\n",
            "   349\t    (default = None)\r\n",
            "   350\t        Threshold for the minimum distance.\r\n",
            "   351\t\r\n",
            "   352\t    percentage : float (default = 10)\r\n",
            "   353\t        Percentage of black points if ``epsilon='percentage_points'``\r\n",
            "   354\t        or percentage of maximum distance for threshold if\r\n",
            "   355\t        ``epsilon='percentage_distance'``.\r\n",
            "   356\t\r\n",
            "   357\t    \"\"\"\r\n",
            "   358\t\r\n",
            "   359\t    def __init__(self, dimension=1, epsilon=None, percentage=10):\r\n",
            "   360\t        self.dimension = dimension\r\n",
            "   361\t        self.epsilon = epsilon\r\n",
            "   362\t        self.percentage = percentage\r\n",
            "   363\t\r\n",
            "   364\t    def fit(self, X=None, y=None):\r\n",
            "   365\t        \"\"\"Pass.\r\n",
            "   366\t\r\n",
            "   367\t        Parameters\r\n",
            "   368\t        ----------\r\n",
            "   369\t        X\r\n",
            "   370\t            Ignored\r\n",
            "   371\t\r\n",
            "   372\t        y\r\n",
            "   373\t            Ignored\r\n",
            "   374\t\r\n",
            "   375\t        \"\"\"\r\n",
            "   376\t        return self\r\n",
            "   377\t\r\n",
            "   378\t    def transform(self, X):\r\n",
            "   379\t        \"\"\"Transform each time series into a recurrence plot.\r\n",
            "   380\t\r\n",
            "   381\t        Parameters\r\n",
            "   382\t        ----------\r\n",
            "   383\t        X : array-like, shape = [n_samples, n_features]\r\n",
            "   384\t\r\n",
            "   385\t        Returns\r\n",
            "   386\t        -------\r\n",
            "   387\t        X_new : array-like, shape = [n_samples, n_features-dimension+1,\r\n",
            "   388\t                                     n_features-dimension+1]\r\n",
            "   389\t            Transformed data.\r\n",
            "   390\t\r\n",
            "   391\t        \"\"\"\r\n",
            "   392\t        # Check input data\r\n",
            "   393\t        X = check_array(X)\r\n",
            "   394\t        n_samples, n_features = X.shape\r\n",
            "   395\t\r\n",
            "   396\t        # Check parameters\r\n",
            "   397\t        if not isinstance(self.dimension, int):\r\n",
            "   398\t            raise TypeError(\"'dimension' must be an integer.\")\r\n",
            "   399\t        if self.dimension <= 0:\r\n",
            "   400\t            raise ValueError(\"'dimension' must be greater than or equal to 1.\")\r\n",
            "   401\t        if (self.epsilon is not None and\r\n",
            "   402\t                self.epsilon not in ['percentage_points',\r\n",
            "   403\t                                     'percentage_distance'] and\r\n",
            "   404\t                not isinstance(self.epsilon, (int, float))):\r\n",
            "   405\t            raise TypeError(\"'epsilon' must be either None, \"\r\n",
            "   406\t                            \"'percentage_points', 'percentage_distance', \"\r\n",
            "   407\t                            \"a float or an integer.\")\r\n",
            "   408\t        if (isinstance(self.epsilon, (int, float))) and (self.epsilon < 0):\r\n",
            "   409\t            raise ValueError(\"if 'epsilon' is a float or an integer,\"\r\n",
            "   410\t                             \"'epsilon' must be greater than or equal to 0.\")\r\n",
            "   411\t        if not isinstance(self.percentage, (int, float)):\r\n",
            "   412\t            raise TypeError(\"'percentage' must be a float or an integer.\")\r\n",
            "   413\t        if (self.percentage < 0) or (self.percentage > 100):\r\n",
            "   414\t            raise ValueError(\"'percentage' must be between 0 and 100.\")\r\n",
            "   415\t\r\n",
            "   416\t        n_windows = n_features - self.dimension + 1\r\n",
            "   417\t        X_window = np.transpose(np.asarray([X[:, i: i + self.dimension]\r\n",
            "   418\t                                for i in range(n_windows)]), axes=(1, 0, 2))\r\n",
            "   419\t        X_normed = np.linalg.norm(X_window[:, None, :, :] -\r\n",
            "   420\t                                  X_window[:, :, None, :], axis=3)\r\n",
            "   421\t        if self.epsilon is None:\r\n",
            "   422\t            recurrence_plot = X_normed\r\n",
            "   423\t        elif self.epsilon == 'percentage_points':\r\n",
            "   424\t            recurrence_plot = X_normed < np.percentile(X_normed,\r\n",
            "   425\t                                                       self.percentage)\r\n",
            "   426\t        elif self.epsilon == 'percentage_distance':\r\n",
            "   427\t            threshold = self.percentage / 100 * np.max(X_normed)\r\n",
            "   428\t            recurrence_plot = X_normed < threshold\r\n",
            "   429\t        else:\r\n",
            "   430\t            recurrence_plot = X_normed < self.epsilon\r\n",
            "   431\t        return recurrence_plot.astype('float64')\r\n"
          ],
          "name": "stdout"
        }
      ]
    },
    {
      "metadata": {
        "id": "WAj4pnZxQ5QI",
        "colab_type": "code",
        "colab": {
          "base_uri": "https://localhost:8080/",
          "height": 34
        },
        "outputId": "f90dbbf9-795a-4284-c333-bd265274bb9d"
      },
      "cell_type": "code",
      "source": [
        "!vim /usr/local/lib/python3.6/dist-packages/pyts/image/image.py"
      ],
      "execution_count": 132,
      "outputs": [
        {
          "output_type": "stream",
          "text": [
            "/bin/bash: vim: command not found\n"
          ],
          "name": "stdout"
        }
      ]
    },
    {
      "metadata": {
        "id": "4RNd2YL4RtqL",
        "colab_type": "code",
        "colab": {}
      },
      "cell_type": "code",
      "source": [
        ""
      ],
      "execution_count": 0,
      "outputs": []
    }
  ]
}