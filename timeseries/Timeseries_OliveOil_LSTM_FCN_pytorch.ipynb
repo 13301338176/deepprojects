{
  "nbformat": 4,
  "nbformat_minor": 0,
  "metadata": {
    "colab": {
      "name": "Timeseries - OliveOil - LSTM-FCN-pytorch.ipynb",
      "version": "0.3.2",
      "provenance": [],
      "collapsed_sections": []
    },
    "kernelspec": {
      "name": "python3",
      "display_name": "Python 3"
    },
    "accelerator": "GPU"
  },
  "cells": [
    {
      "metadata": {
        "id": "NreY7BzeqHVd",
        "colab_type": "code",
        "outputId": "e1b9c7d2-9a41-4189-c0d0-2e225be696a7",
        "colab": {
          "base_uri": "https://localhost:8080/",
          "height": 1397
        }
      },
      "cell_type": "code",
      "source": [
        "!curl https://course-v3.fast.ai/setup/colab | bash"
      ],
      "execution_count": 1,
      "outputs": [
        {
          "output_type": "stream",
          "text": [
            "  % Total    % Received % Xferd  Average Speed   Time    Time     Time  Current\n",
            "                                 Dload  Upload   Total   Spent    Left  Speed\n",
            "\r  0     0    0     0    0     0      0      0 --:--:-- --:--:-- --:--:--     0\r  0     0    0     0    0     0      0      0 --:--:-- --:--:-- --:--:--     0\r100   665  100   665    0     0   1973      0 --:--:-- --:--:-- --:--:--  1973\n",
            "Collecting pillow==4.1.1\n",
            "\u001b[?25l  Downloading https://files.pythonhosted.org/packages/36/e5/88b3d60924a3f8476fa74ec086f5fbaba56dd6cee0d82845f883b6b6dd18/Pillow-4.1.1-cp36-cp36m-manylinux1_x86_64.whl (5.7MB)\n",
            "\u001b[K    100% |████████████████████████████████| 5.7MB 7.4MB/s \n",
            "\u001b[?25hRequirement already satisfied, skipping upgrade: olefile in /usr/local/lib/python3.6/dist-packages (from pillow==4.1.1) (0.46)\n",
            "Installing collected packages: pillow\n",
            "  Found existing installation: Pillow 4.0.0\n",
            "    Uninstalling Pillow-4.0.0:\n",
            "      Successfully uninstalled Pillow-4.0.0\n",
            "Successfully installed pillow-4.1.1\n",
            "Looking in links: https://download.pytorch.org/whl/nightly/cu92/torch_nightly.html\n",
            "Collecting torch_nightly\n",
            "\u001b[?25l  Downloading https://download.pytorch.org/whl/nightly/cu92/torch_nightly-1.0.0.dev20181128-cp36-cp36m-linux_x86_64.whl (576.6MB)\n",
            "\u001b[K    100% |████████████████████████████████| 576.6MB 23kB/s \n",
            "tcmalloc: large alloc 1073750016 bytes == 0x62d26000 @  0x7fb3be9692a4 0x591a07 0x5b5d56 0x502e9a 0x506859 0x502209 0x502f3d 0x506859 0x504c28 0x502540 0x502f3d 0x506859 0x504c28 0x502540 0x502f3d 0x506859 0x504c28 0x502540 0x502f3d 0x507641 0x502209 0x502f3d 0x506859 0x504c28 0x502540 0x502f3d 0x507641 0x504c28 0x502540 0x502f3d 0x507641\n",
            "\u001b[?25hInstalling collected packages: torch-nightly\n",
            "Successfully installed torch-nightly-1.0.0.dev20181128\n",
            "Cloning into 'course-v3'...\n",
            "remote: Enumerating objects: 2501, done.\u001b[K\n",
            "remote: Total 2501 (delta 0), reused 0 (delta 0), pack-reused 2501\u001b[K\n",
            "Receiving objects: 100% (2501/2501), 69.50 MiB | 27.18 MiB/s, done.\n",
            "Resolving deltas: 100% (1361/1361), done.\n",
            "Collecting fastai\n",
            "\u001b[?25l  Downloading https://files.pythonhosted.org/packages/84/13/dfb1683762bc2e2ee0503e08e812a164f710a8b919c050fd5838c150f3ca/fastai-1.0.29-py3-none-any.whl (131kB)\n",
            "\u001b[K    100% |████████████████████████████████| 133kB 3.9MB/s \n",
            "\u001b[?25hRequirement already satisfied, skipping upgrade: typing in /usr/local/lib/python3.6/dist-packages (from fastai) (3.6.6)\n",
            "Requirement already satisfied, skipping upgrade: numpy>=1.12 in /usr/local/lib/python3.6/dist-packages (from fastai) (1.14.6)\n",
            "Requirement already satisfied, skipping upgrade: spacy==2.0.16 in /usr/local/lib/python3.6/dist-packages (from fastai) (2.0.16)\n",
            "Requirement already satisfied, skipping upgrade: thinc==6.12.0 in /usr/local/lib/python3.6/dist-packages (from fastai) (6.12.0)\n",
            "Collecting bottleneck (from fastai)\n",
            "\u001b[?25l  Downloading https://files.pythonhosted.org/packages/05/ae/cedf5323f398ab4e4ff92d6c431a3e1c6a186f9b41ab3e8258dff786a290/Bottleneck-1.2.1.tar.gz (105kB)\n",
            "\u001b[K    100% |████████████████████████████████| 112kB 5.2MB/s \n",
            "\u001b[?25hRequirement already satisfied, skipping upgrade: regex in /usr/local/lib/python3.6/dist-packages (from fastai) (2018.1.10)\n",
            "Collecting numexpr (from fastai)\n",
            "\u001b[?25l  Downloading https://files.pythonhosted.org/packages/db/ea/efd9e16283637eb5b6c0042b6cc3521f1b9a5b47767ac463c88bbd37670c/numexpr-2.6.8-cp36-cp36m-manylinux1_x86_64.whl (162kB)\n",
            "\u001b[K    100% |████████████████████████████████| 163kB 5.8MB/s \n",
            "\u001b[?25hRequirement already satisfied, skipping upgrade: requests in /usr/local/lib/python3.6/dist-packages (from fastai) (2.18.4)\n",
            "Requirement already satisfied, skipping upgrade: scipy in /usr/local/lib/python3.6/dist-packages (from fastai) (1.1.0)\n",
            "Collecting torchvision-nightly (from fastai)\n",
            "\u001b[?25l  Downloading https://files.pythonhosted.org/packages/ca/bd/d0f9a33c81c79710eb7ee428b66869b49a8be16c7f1e446c211a7fbfb7be/torchvision_nightly-0.2.1-py2.py3-none-any.whl (54kB)\n",
            "\u001b[K    100% |████████████████████████████████| 61kB 11.4MB/s \n",
            "\u001b[?25hRequirement already satisfied, skipping upgrade: pyyaml in /usr/local/lib/python3.6/dist-packages (from fastai) (3.13)\n",
            "Collecting dataclasses (from fastai)\n",
            "  Downloading https://files.pythonhosted.org/packages/26/2f/1095cdc2868052dd1e64520f7c0d5c8c550ad297e944e641dbf1ffbb9a5d/dataclasses-0.6-py3-none-any.whl\n",
            "Requirement already satisfied, skipping upgrade: pandas in /usr/local/lib/python3.6/dist-packages (from fastai) (0.22.0)\n",
            "Requirement already satisfied, skipping upgrade: matplotlib in /usr/local/lib/python3.6/dist-packages (from fastai) (2.1.2)\n",
            "Requirement already satisfied, skipping upgrade: cymem==2.0.2 in /usr/local/lib/python3.6/dist-packages (from fastai) (2.0.2)\n",
            "Requirement already satisfied, skipping upgrade: Pillow in /usr/local/lib/python3.6/dist-packages (from fastai) (4.1.1)\n",
            "Collecting fastprogress>=0.1.16 (from fastai)\n",
            "  Downloading https://files.pythonhosted.org/packages/ea/93/b35cabbab4d25a2fdc5cd196114fbe1160451df5cf1459a80781893f3b0f/fastprogress-0.1.16-py3-none-any.whl\n",
            "Requirement already satisfied, skipping upgrade: ujson>=1.35 in /usr/local/lib/python3.6/dist-packages (from spacy==2.0.16->fastai) (1.35)\n",
            "Requirement already satisfied, skipping upgrade: msgpack-numpy<0.4.4 in /usr/local/lib/python3.6/dist-packages (from spacy==2.0.16->fastai) (0.4.3.2)\n",
            "Requirement already satisfied, skipping upgrade: preshed<2.1.0,>=2.0.1 in /usr/local/lib/python3.6/dist-packages (from spacy==2.0.16->fastai) (2.0.1)\n",
            "Requirement already satisfied, skipping upgrade: murmurhash<1.1.0,>=0.28.0 in /usr/local/lib/python3.6/dist-packages (from spacy==2.0.16->fastai) (1.0.1)\n",
            "Requirement already satisfied, skipping upgrade: dill<0.3,>=0.2 in /usr/local/lib/python3.6/dist-packages (from spacy==2.0.16->fastai) (0.2.8.2)\n",
            "Requirement already satisfied, skipping upgrade: plac<1.0.0,>=0.9.6 in /usr/local/lib/python3.6/dist-packages (from spacy==2.0.16->fastai) (0.9.6)\n",
            "Requirement already satisfied, skipping upgrade: cytoolz<0.10,>=0.9.0 in /usr/local/lib/python3.6/dist-packages (from thinc==6.12.0->fastai) (0.9.0.1)\n",
            "Requirement already satisfied, skipping upgrade: tqdm<5.0.0,>=4.10.0 in /usr/local/lib/python3.6/dist-packages (from thinc==6.12.0->fastai) (4.28.1)\n",
            "Requirement already satisfied, skipping upgrade: wrapt<1.11.0,>=1.10.0 in /usr/local/lib/python3.6/dist-packages (from thinc==6.12.0->fastai) (1.10.11)\n",
            "Requirement already satisfied, skipping upgrade: six<2.0.0,>=1.10.0 in /usr/local/lib/python3.6/dist-packages (from thinc==6.12.0->fastai) (1.11.0)\n",
            "Requirement already satisfied, skipping upgrade: msgpack<1.0.0,>=0.5.6 in /usr/local/lib/python3.6/dist-packages (from thinc==6.12.0->fastai) (0.5.6)\n",
            "Requirement already satisfied, skipping upgrade: idna<2.7,>=2.5 in /usr/local/lib/python3.6/dist-packages (from requests->fastai) (2.6)\n",
            "Requirement already satisfied, skipping upgrade: chardet<3.1.0,>=3.0.2 in /usr/local/lib/python3.6/dist-packages (from requests->fastai) (3.0.4)\n",
            "Requirement already satisfied, skipping upgrade: certifi>=2017.4.17 in /usr/local/lib/python3.6/dist-packages (from requests->fastai) (2018.10.15)\n",
            "Requirement already satisfied, skipping upgrade: urllib3<1.23,>=1.21.1 in /usr/local/lib/python3.6/dist-packages (from requests->fastai) (1.22)\n",
            "Requirement already satisfied, skipping upgrade: pytz>=2011k in /usr/local/lib/python3.6/dist-packages (from pandas->fastai) (2018.7)\n",
            "Requirement already satisfied, skipping upgrade: python-dateutil>=2 in /usr/local/lib/python3.6/dist-packages (from pandas->fastai) (2.5.3)\n",
            "Requirement already satisfied, skipping upgrade: cycler>=0.10 in /usr/local/lib/python3.6/dist-packages (from matplotlib->fastai) (0.10.0)\n",
            "Requirement already satisfied, skipping upgrade: pyparsing!=2.0.4,!=2.1.2,!=2.1.6,>=2.0.1 in /usr/local/lib/python3.6/dist-packages (from matplotlib->fastai) (2.3.0)\n",
            "Requirement already satisfied, skipping upgrade: olefile in /usr/local/lib/python3.6/dist-packages (from Pillow->fastai) (0.46)\n",
            "Requirement already satisfied, skipping upgrade: toolz>=0.8.0 in /usr/local/lib/python3.6/dist-packages (from cytoolz<0.10,>=0.9.0->thinc==6.12.0->fastai) (0.9.0)\n",
            "Building wheels for collected packages: bottleneck\n",
            "  Running setup.py bdist_wheel for bottleneck ... \u001b[?25l-\b \b\\\b \b|\b \b/\b \b-\b \b\\\b \b|\b \b/\b \bdone\n",
            "\u001b[?25h  Stored in directory: /root/.cache/pip/wheels/f2/bf/ec/e0f39aa27001525ad455139ee57ec7d0776fe074dfd78c97e4\n",
            "Successfully built bottleneck\n",
            "Installing collected packages: bottleneck, numexpr, torchvision-nightly, dataclasses, fastprogress, fastai\n",
            "Successfully installed bottleneck-1.2.1 dataclasses-0.6 fastai-1.0.29 fastprogress-0.1.16 numexpr-2.6.8 torchvision-nightly-0.2.1\n",
            "Already up to date.\n"
          ],
          "name": "stdout"
        }
      ]
    },
    {
      "metadata": {
        "id": "CKP2ikW1ngNl",
        "colab_type": "code",
        "colab": {}
      },
      "cell_type": "code",
      "source": [
        "%reload_ext autoreload\n",
        "%autoreload 2\n",
        "%matplotlib inline"
      ],
      "execution_count": 0,
      "outputs": []
    },
    {
      "metadata": {
        "id": "OblomiW9n4bg",
        "colab_type": "code",
        "colab": {}
      },
      "cell_type": "code",
      "source": [
        "import pathlib\n",
        "import numpy as np\n",
        "\n",
        "\n",
        "import torch\n",
        "import torch.nn as nn\n",
        "import torch.nn.functional as F\n",
        "from torch.utils.data import TensorDataset, DataLoader\n",
        "\n",
        "import matplotlib.pyplot as plt\n",
        "\n",
        "from tqdm import tqdm\n",
        "\n",
        "from fastai import *"
      ],
      "execution_count": 0,
      "outputs": []
    },
    {
      "metadata": {
        "id": "pEwnf-gdntsa",
        "colab_type": "code",
        "outputId": "755e3dd5-003e-4cd3-d8bd-ec5a350fd533",
        "colab": {
          "base_uri": "https://localhost:8080/",
          "height": 68
        }
      },
      "cell_type": "code",
      "source": [
        "!curl -O http://www.timeseriesclassification.com/Downloads/OliveOil.zip"
      ],
      "execution_count": 4,
      "outputs": [
        {
          "output_type": "stream",
          "text": [
            "  % Total    % Received % Xferd  Average Speed   Time    Time     Time  Current\n",
            "                                 Dload  Upload   Total   Spent    Left  Speed\n",
            "100  345k  100  345k    0     0   336k      0  0:00:01  0:00:01 --:--:--  336k\n"
          ],
          "name": "stdout"
        }
      ]
    },
    {
      "metadata": {
        "id": "Qsr9wx88nyRG",
        "colab_type": "code",
        "outputId": "601f3ddb-f72f-476c-d846-757a39cdda7b",
        "colab": {
          "base_uri": "https://localhost:8080/",
          "height": 119
        }
      },
      "cell_type": "code",
      "source": [
        "!unzip OliveOil.zip"
      ],
      "execution_count": 5,
      "outputs": [
        {
          "output_type": "stream",
          "text": [
            "Archive:  OliveOil.zip\n",
            "  inflating: OliveOil.txt            \n",
            "  inflating: OliveOil_TEST.arff      \n",
            "  inflating: OliveOil_TEST.txt       \n",
            "  inflating: OliveOil_TRAIN.arff     \n",
            "  inflating: OliveOil_TRAIN.txt      \n"
          ],
          "name": "stdout"
        }
      ]
    },
    {
      "metadata": {
        "id": "dg9VZU3nqqOv",
        "colab_type": "code",
        "outputId": "55368e61-3e25-4387-84cc-2128970bdb49",
        "colab": {
          "base_uri": "https://localhost:8080/",
          "height": 253
        }
      },
      "cell_type": "code",
      "source": [
        "# read a text file of timeseries data into a pandas DataFrame\n",
        "def txt2df(fname):\n",
        "    raw = open(fname).readlines()\n",
        "    raw = [map(float, each.strip().split()) for each in raw]\n",
        "    df_data = list()\n",
        "    for i in range(len(raw)):\n",
        "        df_data.append(list(raw[i]))\n",
        "    # column '0' contains the labels\n",
        "    result = pd.DataFrame(df_data)\n",
        "    result.astype({0: int})\n",
        "    return result\n",
        "\n",
        "df = txt2df('OliveOil_TRAIN.txt'); df.head()"
      ],
      "execution_count": 6,
      "outputs": [
        {
          "output_type": "execute_result",
          "data": {
            "text/html": [
              "<div>\n",
              "<style scoped>\n",
              "    .dataframe tbody tr th:only-of-type {\n",
              "        vertical-align: middle;\n",
              "    }\n",
              "\n",
              "    .dataframe tbody tr th {\n",
              "        vertical-align: top;\n",
              "    }\n",
              "\n",
              "    .dataframe thead th {\n",
              "        text-align: right;\n",
              "    }\n",
              "</style>\n",
              "<table border=\"1\" class=\"dataframe\">\n",
              "  <thead>\n",
              "    <tr style=\"text-align: right;\">\n",
              "      <th></th>\n",
              "      <th>0</th>\n",
              "      <th>1</th>\n",
              "      <th>2</th>\n",
              "      <th>3</th>\n",
              "      <th>4</th>\n",
              "      <th>5</th>\n",
              "      <th>6</th>\n",
              "      <th>7</th>\n",
              "      <th>8</th>\n",
              "      <th>9</th>\n",
              "      <th>...</th>\n",
              "      <th>561</th>\n",
              "      <th>562</th>\n",
              "      <th>563</th>\n",
              "      <th>564</th>\n",
              "      <th>565</th>\n",
              "      <th>566</th>\n",
              "      <th>567</th>\n",
              "      <th>568</th>\n",
              "      <th>569</th>\n",
              "      <th>570</th>\n",
              "    </tr>\n",
              "  </thead>\n",
              "  <tbody>\n",
              "    <tr>\n",
              "      <th>0</th>\n",
              "      <td>1.0</td>\n",
              "      <td>-0.611375</td>\n",
              "      <td>-0.610586</td>\n",
              "      <td>-0.606557</td>\n",
              "      <td>-0.601132</td>\n",
              "      <td>-0.594315</td>\n",
              "      <td>-0.585762</td>\n",
              "      <td>-0.577419</td>\n",
              "      <td>-0.570175</td>\n",
              "      <td>-0.563285</td>\n",
              "      <td>...</td>\n",
              "      <td>-0.979553</td>\n",
              "      <td>-0.980385</td>\n",
              "      <td>-0.980328</td>\n",
              "      <td>-0.980220</td>\n",
              "      <td>-0.980691</td>\n",
              "      <td>-0.981337</td>\n",
              "      <td>-0.982336</td>\n",
              "      <td>-0.983213</td>\n",
              "      <td>-0.983672</td>\n",
              "      <td>-0.983120</td>\n",
              "    </tr>\n",
              "    <tr>\n",
              "      <th>1</th>\n",
              "      <td>1.0</td>\n",
              "      <td>-0.615392</td>\n",
              "      <td>-0.613729</td>\n",
              "      <td>-0.609228</td>\n",
              "      <td>-0.604315</td>\n",
              "      <td>-0.598768</td>\n",
              "      <td>-0.590507</td>\n",
              "      <td>-0.581617</td>\n",
              "      <td>-0.572926</td>\n",
              "      <td>-0.565374</td>\n",
              "      <td>...</td>\n",
              "      <td>-0.979210</td>\n",
              "      <td>-0.979335</td>\n",
              "      <td>-0.979523</td>\n",
              "      <td>-0.980038</td>\n",
              "      <td>-0.981146</td>\n",
              "      <td>-0.982332</td>\n",
              "      <td>-0.982570</td>\n",
              "      <td>-0.982630</td>\n",
              "      <td>-0.982850</td>\n",
              "      <td>-0.982549</td>\n",
              "    </tr>\n",
              "    <tr>\n",
              "      <th>2</th>\n",
              "      <td>1.0</td>\n",
              "      <td>-0.611999</td>\n",
              "      <td>-0.610500</td>\n",
              "      <td>-0.606374</td>\n",
              "      <td>-0.600445</td>\n",
              "      <td>-0.593084</td>\n",
              "      <td>-0.585245</td>\n",
              "      <td>-0.577118</td>\n",
              "      <td>-0.568827</td>\n",
              "      <td>-0.561596</td>\n",
              "      <td>...</td>\n",
              "      <td>-0.979514</td>\n",
              "      <td>-0.979663</td>\n",
              "      <td>-0.979964</td>\n",
              "      <td>-0.980563</td>\n",
              "      <td>-0.981326</td>\n",
              "      <td>-0.982744</td>\n",
              "      <td>-0.983107</td>\n",
              "      <td>-0.983033</td>\n",
              "      <td>-0.983956</td>\n",
              "      <td>-0.983858</td>\n",
              "    </tr>\n",
              "    <tr>\n",
              "      <th>3</th>\n",
              "      <td>1.0</td>\n",
              "      <td>-0.622784</td>\n",
              "      <td>-0.622222</td>\n",
              "      <td>-0.619049</td>\n",
              "      <td>-0.613251</td>\n",
              "      <td>-0.605889</td>\n",
              "      <td>-0.597508</td>\n",
              "      <td>-0.589047</td>\n",
              "      <td>-0.580697</td>\n",
              "      <td>-0.572822</td>\n",
              "      <td>...</td>\n",
              "      <td>-0.968819</td>\n",
              "      <td>-0.969902</td>\n",
              "      <td>-0.970586</td>\n",
              "      <td>-0.970718</td>\n",
              "      <td>-0.971197</td>\n",
              "      <td>-0.972268</td>\n",
              "      <td>-0.972654</td>\n",
              "      <td>-0.972861</td>\n",
              "      <td>-0.973671</td>\n",
              "      <td>-0.973614</td>\n",
              "    </tr>\n",
              "    <tr>\n",
              "      <th>4</th>\n",
              "      <td>1.0</td>\n",
              "      <td>-0.621793</td>\n",
              "      <td>-0.621272</td>\n",
              "      <td>-0.617298</td>\n",
              "      <td>-0.612074</td>\n",
              "      <td>-0.605472</td>\n",
              "      <td>-0.597607</td>\n",
              "      <td>-0.589165</td>\n",
              "      <td>-0.581424</td>\n",
              "      <td>-0.574620</td>\n",
              "      <td>...</td>\n",
              "      <td>-0.977420</td>\n",
              "      <td>-0.977831</td>\n",
              "      <td>-0.978376</td>\n",
              "      <td>-0.978778</td>\n",
              "      <td>-0.979656</td>\n",
              "      <td>-0.981148</td>\n",
              "      <td>-0.981796</td>\n",
              "      <td>-0.981331</td>\n",
              "      <td>-0.981289</td>\n",
              "      <td>-0.981331</td>\n",
              "    </tr>\n",
              "  </tbody>\n",
              "</table>\n",
              "<p>5 rows × 571 columns</p>\n",
              "</div>"
            ],
            "text/plain": [
              "   0         1         2         3         4         5         6         7    \\\n",
              "0  1.0 -0.611375 -0.610586 -0.606557 -0.601132 -0.594315 -0.585762 -0.577419   \n",
              "1  1.0 -0.615392 -0.613729 -0.609228 -0.604315 -0.598768 -0.590507 -0.581617   \n",
              "2  1.0 -0.611999 -0.610500 -0.606374 -0.600445 -0.593084 -0.585245 -0.577118   \n",
              "3  1.0 -0.622784 -0.622222 -0.619049 -0.613251 -0.605889 -0.597508 -0.589047   \n",
              "4  1.0 -0.621793 -0.621272 -0.617298 -0.612074 -0.605472 -0.597607 -0.589165   \n",
              "\n",
              "        8         9      ...          561       562       563       564  \\\n",
              "0 -0.570175 -0.563285    ...    -0.979553 -0.980385 -0.980328 -0.980220   \n",
              "1 -0.572926 -0.565374    ...    -0.979210 -0.979335 -0.979523 -0.980038   \n",
              "2 -0.568827 -0.561596    ...    -0.979514 -0.979663 -0.979964 -0.980563   \n",
              "3 -0.580697 -0.572822    ...    -0.968819 -0.969902 -0.970586 -0.970718   \n",
              "4 -0.581424 -0.574620    ...    -0.977420 -0.977831 -0.978376 -0.978778   \n",
              "\n",
              "        565       566       567       568       569       570  \n",
              "0 -0.980691 -0.981337 -0.982336 -0.983213 -0.983672 -0.983120  \n",
              "1 -0.981146 -0.982332 -0.982570 -0.982630 -0.982850 -0.982549  \n",
              "2 -0.981326 -0.982744 -0.983107 -0.983033 -0.983956 -0.983858  \n",
              "3 -0.971197 -0.972268 -0.972654 -0.972861 -0.973671 -0.973614  \n",
              "4 -0.979656 -0.981148 -0.981796 -0.981331 -0.981289 -0.981331  \n",
              "\n",
              "[5 rows x 571 columns]"
            ]
          },
          "metadata": {
            "tags": []
          },
          "execution_count": 6
        }
      ]
    },
    {
      "metadata": {
        "id": "uBxLpG8Wr3nS",
        "colab_type": "code",
        "outputId": "2b90c06d-d0e6-443c-9968-13dec10c0080",
        "colab": {
          "base_uri": "https://localhost:8080/",
          "height": 34
        }
      },
      "cell_type": "code",
      "source": [
        "df[0].unique()"
      ],
      "execution_count": 7,
      "outputs": [
        {
          "output_type": "execute_result",
          "data": {
            "text/plain": [
              "array([1., 2., 3., 4.])"
            ]
          },
          "metadata": {
            "tags": []
          },
          "execution_count": 7
        }
      ]
    },
    {
      "metadata": {
        "id": "onhUsHlhsWvc",
        "colab_type": "code",
        "colab": {}
      },
      "cell_type": "code",
      "source": [
        "bs = 64"
      ],
      "execution_count": 0,
      "outputs": []
    },
    {
      "metadata": {
        "id": "O1pj6M8Vn-0D",
        "colab_type": "code",
        "colab": {}
      },
      "cell_type": "code",
      "source": [
        "DATASET = 'OliveOil'\n",
        "classes = 4"
      ],
      "execution_count": 0,
      "outputs": []
    },
    {
      "metadata": {
        "id": "9EMN9yFin1cW",
        "colab_type": "code",
        "colab": {}
      },
      "cell_type": "code",
      "source": [
        "path = pathlib.Path('')"
      ],
      "execution_count": 0,
      "outputs": []
    },
    {
      "metadata": {
        "id": "tDncQ40aHJkX",
        "colab_type": "code",
        "colab": {}
      },
      "cell_type": "code",
      "source": [
        "def one_hot_encode(input, labels):\n",
        "    m = input.shape[0]\n",
        "    output = np.zeros((m, labels), dtype=int)\n",
        "    row_index = np.arange(m)\n",
        "    output[row_index, input] = 1\n",
        "    return output\n",
        "\n",
        "def split_xy(data, classes):\n",
        "    X = data[:, 1:]\n",
        "    y = data[:, 0].astype(int)\n",
        "    # hot encode\n",
        "    #y = one_hot_encode(y, classes)\n",
        "    return X, y\n",
        "\n",
        "def create_dataset(X, y, device):\n",
        "    X_tensor = torch.tensor(X, dtype=torch.float32, device=device)\n",
        "    y_tensor = torch.tensor(y, dtype=torch.long, device=device)\n",
        "    #y_tensor = torch.tensor(y, dtype=torch.float32, device=device)\n",
        "    return TensorDataset(X_tensor, y_tensor)\n",
        "\n",
        "def load_data(path, classes):\n",
        "    data = np.loadtxt(path)\n",
        "    return split_xy(data, classes)"
      ],
      "execution_count": 0,
      "outputs": []
    },
    {
      "metadata": {
        "id": "jNG4E5F-Tpcf",
        "colab_type": "text"
      },
      "cell_type": "markdown",
      "source": [
        "The outputs of the model should be of size (minibatch, C). On the other hand the target `y` should contain the indices of the classes."
      ]
    },
    {
      "metadata": {
        "id": "A69YvILXoA5e",
        "colab_type": "code",
        "colab": {}
      },
      "cell_type": "code",
      "source": [
        "# load training dataset\n",
        "X_train, y_train = load_data(path/'OliveOil_TRAIN.txt', classes) \n",
        "\n",
        "# load testing dataset\n",
        "X_test, y_test = load_data(path/'OliveOil_TEST.txt', classes)"
      ],
      "execution_count": 0,
      "outputs": []
    },
    {
      "metadata": {
        "id": "i4QHlPkTxzcn",
        "colab_type": "code",
        "colab": {}
      },
      "cell_type": "code",
      "source": [
        "y_train = y_train - 1\n",
        "y_test = y_test - 1"
      ],
      "execution_count": 0,
      "outputs": []
    },
    {
      "metadata": {
        "id": "OOrCEhRicN27",
        "colab_type": "code",
        "outputId": "b5fc62c3-0b36-492f-8b88-93ad6ecfaf77",
        "colab": {
          "base_uri": "https://localhost:8080/",
          "height": 51
        }
      },
      "cell_type": "code",
      "source": [
        "print('X_train %s   y_train %s   y_train type %s' % (X_train.shape, y_train.shape, y_train.dtype))\n",
        "print('X_test  %s   y_test  %s   y_test  type %s' % (X_test.shape, y_test.shape, y_test.dtype))"
      ],
      "execution_count": 14,
      "outputs": [
        {
          "output_type": "stream",
          "text": [
            "X_train (30, 570)   y_train (30,)   y_train type int64\n",
            "X_test  (30, 570)   y_test  (30,)   y_test  type int64\n"
          ],
          "name": "stdout"
        }
      ]
    },
    {
      "metadata": {
        "id": "MWAHekuN7mqq",
        "colab_type": "text"
      },
      "cell_type": "markdown",
      "source": [
        "As the classes are imbalanced, get the count for each class, to use later in the sampling"
      ]
    },
    {
      "metadata": {
        "id": "tQ4U0nAa7RV3",
        "colab_type": "code",
        "outputId": "966fe4f4-76b6-4331-cd6f-3a301e1b7923",
        "colab": {
          "base_uri": "https://localhost:8080/",
          "height": 85
        }
      },
      "cell_type": "code",
      "source": [
        "for c in [1, 2, 3, 4]:\n",
        "    c = c - 1\n",
        "    class_count = (y_train==c).sum()\n",
        "    print('Class %d occured %d and percentage %f' % (c, class_count, class_count/y_train.shape[0]))"
      ],
      "execution_count": 15,
      "outputs": [
        {
          "output_type": "stream",
          "text": [
            "Class 0 occured 5 and percentage 0.166667\n",
            "Class 1 occured 8 and percentage 0.266667\n",
            "Class 2 occured 4 and percentage 0.133333\n",
            "Class 3 occured 13 and percentage 0.433333\n"
          ],
          "name": "stdout"
        }
      ]
    },
    {
      "metadata": {
        "id": "9307nee9rz4Y",
        "colab_type": "text"
      },
      "cell_type": "markdown",
      "source": [
        "load the numpy training and test sets into pytorch Dataset object"
      ]
    },
    {
      "metadata": {
        "id": "gmqg-MVhaHFY",
        "colab_type": "code",
        "colab": {}
      },
      "cell_type": "code",
      "source": [
        "cuda = torch.device('cuda')     # Default CUDA device\n",
        "cpu = torch.device('cpu')       # Default CPU device"
      ],
      "execution_count": 0,
      "outputs": []
    },
    {
      "metadata": {
        "id": "A14LX8bF5GcK",
        "colab_type": "code",
        "outputId": "7c26d4d8-2705-45b7-d108-c13fb5abbfa3",
        "colab": {
          "base_uri": "https://localhost:8080/",
          "height": 346
        }
      },
      "cell_type": "code",
      "source": [
        "pd.DataFrame(X_train).describe()"
      ],
      "execution_count": 17,
      "outputs": [
        {
          "output_type": "execute_result",
          "data": {
            "text/html": [
              "<div>\n",
              "<style scoped>\n",
              "    .dataframe tbody tr th:only-of-type {\n",
              "        vertical-align: middle;\n",
              "    }\n",
              "\n",
              "    .dataframe tbody tr th {\n",
              "        vertical-align: top;\n",
              "    }\n",
              "\n",
              "    .dataframe thead th {\n",
              "        text-align: right;\n",
              "    }\n",
              "</style>\n",
              "<table border=\"1\" class=\"dataframe\">\n",
              "  <thead>\n",
              "    <tr style=\"text-align: right;\">\n",
              "      <th></th>\n",
              "      <th>0</th>\n",
              "      <th>1</th>\n",
              "      <th>2</th>\n",
              "      <th>3</th>\n",
              "      <th>4</th>\n",
              "      <th>5</th>\n",
              "      <th>6</th>\n",
              "      <th>7</th>\n",
              "      <th>8</th>\n",
              "      <th>9</th>\n",
              "      <th>...</th>\n",
              "      <th>560</th>\n",
              "      <th>561</th>\n",
              "      <th>562</th>\n",
              "      <th>563</th>\n",
              "      <th>564</th>\n",
              "      <th>565</th>\n",
              "      <th>566</th>\n",
              "      <th>567</th>\n",
              "      <th>568</th>\n",
              "      <th>569</th>\n",
              "    </tr>\n",
              "  </thead>\n",
              "  <tbody>\n",
              "    <tr>\n",
              "      <th>count</th>\n",
              "      <td>30.000000</td>\n",
              "      <td>30.000000</td>\n",
              "      <td>30.000000</td>\n",
              "      <td>30.000000</td>\n",
              "      <td>30.000000</td>\n",
              "      <td>30.000000</td>\n",
              "      <td>30.000000</td>\n",
              "      <td>30.000000</td>\n",
              "      <td>30.000000</td>\n",
              "      <td>30.000000</td>\n",
              "      <td>...</td>\n",
              "      <td>30.000000</td>\n",
              "      <td>30.000000</td>\n",
              "      <td>30.000000</td>\n",
              "      <td>30.000000</td>\n",
              "      <td>30.000000</td>\n",
              "      <td>30.000000</td>\n",
              "      <td>30.000000</td>\n",
              "      <td>30.000000</td>\n",
              "      <td>30.000000</td>\n",
              "      <td>30.000000</td>\n",
              "    </tr>\n",
              "    <tr>\n",
              "      <th>mean</th>\n",
              "      <td>-0.611895</td>\n",
              "      <td>-0.610648</td>\n",
              "      <td>-0.606697</td>\n",
              "      <td>-0.601020</td>\n",
              "      <td>-0.593792</td>\n",
              "      <td>-0.585476</td>\n",
              "      <td>-0.577100</td>\n",
              "      <td>-0.568880</td>\n",
              "      <td>-0.561298</td>\n",
              "      <td>-0.555327</td>\n",
              "      <td>...</td>\n",
              "      <td>-0.976487</td>\n",
              "      <td>-0.977011</td>\n",
              "      <td>-0.977404</td>\n",
              "      <td>-0.977851</td>\n",
              "      <td>-0.978500</td>\n",
              "      <td>-0.979447</td>\n",
              "      <td>-0.979884</td>\n",
              "      <td>-0.979993</td>\n",
              "      <td>-0.980466</td>\n",
              "      <td>-0.980602</td>\n",
              "    </tr>\n",
              "    <tr>\n",
              "      <th>std</th>\n",
              "      <td>0.007103</td>\n",
              "      <td>0.007094</td>\n",
              "      <td>0.007025</td>\n",
              "      <td>0.006931</td>\n",
              "      <td>0.007014</td>\n",
              "      <td>0.007098</td>\n",
              "      <td>0.007005</td>\n",
              "      <td>0.006994</td>\n",
              "      <td>0.007035</td>\n",
              "      <td>0.007000</td>\n",
              "      <td>...</td>\n",
              "      <td>0.006211</td>\n",
              "      <td>0.006145</td>\n",
              "      <td>0.006196</td>\n",
              "      <td>0.006212</td>\n",
              "      <td>0.006270</td>\n",
              "      <td>0.006313</td>\n",
              "      <td>0.006392</td>\n",
              "      <td>0.006372</td>\n",
              "      <td>0.006364</td>\n",
              "      <td>0.006407</td>\n",
              "    </tr>\n",
              "    <tr>\n",
              "      <th>min</th>\n",
              "      <td>-0.622784</td>\n",
              "      <td>-0.622222</td>\n",
              "      <td>-0.619049</td>\n",
              "      <td>-0.613251</td>\n",
              "      <td>-0.606484</td>\n",
              "      <td>-0.598921</td>\n",
              "      <td>-0.590348</td>\n",
              "      <td>-0.582025</td>\n",
              "      <td>-0.574668</td>\n",
              "      <td>-0.568545</td>\n",
              "      <td>...</td>\n",
              "      <td>-0.995849</td>\n",
              "      <td>-0.996575</td>\n",
              "      <td>-0.997365</td>\n",
              "      <td>-0.997696</td>\n",
              "      <td>-0.998277</td>\n",
              "      <td>-0.999678</td>\n",
              "      <td>-1.000187</td>\n",
              "      <td>-1.000031</td>\n",
              "      <td>-1.000642</td>\n",
              "      <td>-1.001061</td>\n",
              "    </tr>\n",
              "    <tr>\n",
              "      <th>25%</th>\n",
              "      <td>-0.615420</td>\n",
              "      <td>-0.614054</td>\n",
              "      <td>-0.609959</td>\n",
              "      <td>-0.604032</td>\n",
              "      <td>-0.596716</td>\n",
              "      <td>-0.588481</td>\n",
              "      <td>-0.579605</td>\n",
              "      <td>-0.571327</td>\n",
              "      <td>-0.563762</td>\n",
              "      <td>-0.557526</td>\n",
              "      <td>...</td>\n",
              "      <td>-0.978997</td>\n",
              "      <td>-0.979154</td>\n",
              "      <td>-0.979423</td>\n",
              "      <td>-0.979826</td>\n",
              "      <td>-0.980450</td>\n",
              "      <td>-0.981289</td>\n",
              "      <td>-0.982201</td>\n",
              "      <td>-0.982305</td>\n",
              "      <td>-0.982654</td>\n",
              "      <td>-0.982617</td>\n",
              "    </tr>\n",
              "    <tr>\n",
              "      <th>50%</th>\n",
              "      <td>-0.611913</td>\n",
              "      <td>-0.610543</td>\n",
              "      <td>-0.606757</td>\n",
              "      <td>-0.601161</td>\n",
              "      <td>-0.593762</td>\n",
              "      <td>-0.585272</td>\n",
              "      <td>-0.577268</td>\n",
              "      <td>-0.569677</td>\n",
              "      <td>-0.561556</td>\n",
              "      <td>-0.555934</td>\n",
              "      <td>...</td>\n",
              "      <td>-0.975869</td>\n",
              "      <td>-0.976176</td>\n",
              "      <td>-0.976744</td>\n",
              "      <td>-0.977298</td>\n",
              "      <td>-0.977871</td>\n",
              "      <td>-0.978881</td>\n",
              "      <td>-0.979175</td>\n",
              "      <td>-0.979325</td>\n",
              "      <td>-0.979627</td>\n",
              "      <td>-0.980093</td>\n",
              "    </tr>\n",
              "    <tr>\n",
              "      <th>75%</th>\n",
              "      <td>-0.609884</td>\n",
              "      <td>-0.608681</td>\n",
              "      <td>-0.604591</td>\n",
              "      <td>-0.599247</td>\n",
              "      <td>-0.591120</td>\n",
              "      <td>-0.582454</td>\n",
              "      <td>-0.574215</td>\n",
              "      <td>-0.565808</td>\n",
              "      <td>-0.558239</td>\n",
              "      <td>-0.551438</td>\n",
              "      <td>...</td>\n",
              "      <td>-0.972170</td>\n",
              "      <td>-0.973330</td>\n",
              "      <td>-0.973860</td>\n",
              "      <td>-0.974376</td>\n",
              "      <td>-0.974811</td>\n",
              "      <td>-0.975666</td>\n",
              "      <td>-0.976206</td>\n",
              "      <td>-0.976166</td>\n",
              "      <td>-0.976381</td>\n",
              "      <td>-0.976528</td>\n",
              "    </tr>\n",
              "    <tr>\n",
              "      <th>max</th>\n",
              "      <td>-0.590921</td>\n",
              "      <td>-0.589520</td>\n",
              "      <td>-0.586062</td>\n",
              "      <td>-0.582049</td>\n",
              "      <td>-0.575003</td>\n",
              "      <td>-0.566571</td>\n",
              "      <td>-0.559088</td>\n",
              "      <td>-0.551611</td>\n",
              "      <td>-0.544998</td>\n",
              "      <td>-0.539241</td>\n",
              "      <td>...</td>\n",
              "      <td>-0.968274</td>\n",
              "      <td>-0.968620</td>\n",
              "      <td>-0.968871</td>\n",
              "      <td>-0.969230</td>\n",
              "      <td>-0.970103</td>\n",
              "      <td>-0.971065</td>\n",
              "      <td>-0.971451</td>\n",
              "      <td>-0.971528</td>\n",
              "      <td>-0.971549</td>\n",
              "      <td>-0.971597</td>\n",
              "    </tr>\n",
              "  </tbody>\n",
              "</table>\n",
              "<p>8 rows × 570 columns</p>\n",
              "</div>"
            ],
            "text/plain": [
              "             0          1          2          3          4          5    \\\n",
              "count  30.000000  30.000000  30.000000  30.000000  30.000000  30.000000   \n",
              "mean   -0.611895  -0.610648  -0.606697  -0.601020  -0.593792  -0.585476   \n",
              "std     0.007103   0.007094   0.007025   0.006931   0.007014   0.007098   \n",
              "min    -0.622784  -0.622222  -0.619049  -0.613251  -0.606484  -0.598921   \n",
              "25%    -0.615420  -0.614054  -0.609959  -0.604032  -0.596716  -0.588481   \n",
              "50%    -0.611913  -0.610543  -0.606757  -0.601161  -0.593762  -0.585272   \n",
              "75%    -0.609884  -0.608681  -0.604591  -0.599247  -0.591120  -0.582454   \n",
              "max    -0.590921  -0.589520  -0.586062  -0.582049  -0.575003  -0.566571   \n",
              "\n",
              "             6          7          8          9      ...            560  \\\n",
              "count  30.000000  30.000000  30.000000  30.000000    ...      30.000000   \n",
              "mean   -0.577100  -0.568880  -0.561298  -0.555327    ...      -0.976487   \n",
              "std     0.007005   0.006994   0.007035   0.007000    ...       0.006211   \n",
              "min    -0.590348  -0.582025  -0.574668  -0.568545    ...      -0.995849   \n",
              "25%    -0.579605  -0.571327  -0.563762  -0.557526    ...      -0.978997   \n",
              "50%    -0.577268  -0.569677  -0.561556  -0.555934    ...      -0.975869   \n",
              "75%    -0.574215  -0.565808  -0.558239  -0.551438    ...      -0.972170   \n",
              "max    -0.559088  -0.551611  -0.544998  -0.539241    ...      -0.968274   \n",
              "\n",
              "             561        562        563        564        565        566  \\\n",
              "count  30.000000  30.000000  30.000000  30.000000  30.000000  30.000000   \n",
              "mean   -0.977011  -0.977404  -0.977851  -0.978500  -0.979447  -0.979884   \n",
              "std     0.006145   0.006196   0.006212   0.006270   0.006313   0.006392   \n",
              "min    -0.996575  -0.997365  -0.997696  -0.998277  -0.999678  -1.000187   \n",
              "25%    -0.979154  -0.979423  -0.979826  -0.980450  -0.981289  -0.982201   \n",
              "50%    -0.976176  -0.976744  -0.977298  -0.977871  -0.978881  -0.979175   \n",
              "75%    -0.973330  -0.973860  -0.974376  -0.974811  -0.975666  -0.976206   \n",
              "max    -0.968620  -0.968871  -0.969230  -0.970103  -0.971065  -0.971451   \n",
              "\n",
              "             567        568        569  \n",
              "count  30.000000  30.000000  30.000000  \n",
              "mean   -0.979993  -0.980466  -0.980602  \n",
              "std     0.006372   0.006364   0.006407  \n",
              "min    -1.000031  -1.000642  -1.001061  \n",
              "25%    -0.982305  -0.982654  -0.982617  \n",
              "50%    -0.979325  -0.979627  -0.980093  \n",
              "75%    -0.976166  -0.976381  -0.976528  \n",
              "max    -0.971528  -0.971549  -0.971597  \n",
              "\n",
              "[8 rows x 570 columns]"
            ]
          },
          "metadata": {
            "tags": []
          },
          "execution_count": 17
        }
      ]
    },
    {
      "metadata": {
        "id": "1Wqt26B1oD_g",
        "colab_type": "code",
        "colab": {}
      },
      "cell_type": "code",
      "source": [
        "train_ds = create_dataset(X_train, y_train, cuda)\n",
        "test_ds  = create_dataset(X_test, y_test, cuda)"
      ],
      "execution_count": 0,
      "outputs": []
    },
    {
      "metadata": {
        "id": "2uSDLS9-sBYl",
        "colab_type": "text"
      },
      "cell_type": "markdown",
      "source": [
        "pass the Dataset objects into a DataLoader"
      ]
    },
    {
      "metadata": {
        "id": "DVMtIjJl6jcr",
        "colab_type": "code",
        "colab": {}
      },
      "cell_type": "code",
      "source": [
        "class_sample_count = [class_0_count, class_1_count] # dataset has 10 class-1 samples, 1 class-2 samples, etc.\n",
        "weights = 1 / torch.Tensor(class_sample_count)\n",
        "sampler = torch.utils.data.sampler.WeightedRandomSampler(weights, bs)"
      ],
      "execution_count": 0,
      "outputs": []
    },
    {
      "metadata": {
        "id": "5rckvuLErUGq",
        "colab_type": "code",
        "colab": {}
      },
      "cell_type": "code",
      "source": [
        "train_dl = DataLoader(train_ds, batch_size=bs, shuffle=False)#, sampler = sampler)\n",
        "test_dl = DataLoader(test_ds, batch_size=bs, shuffle=False)"
      ],
      "execution_count": 0,
      "outputs": []
    },
    {
      "metadata": {
        "id": "3A86zi48tdPG",
        "colab_type": "text"
      },
      "cell_type": "markdown",
      "source": [
        "## LSTM-FCN\n",
        "### LSMT block\n",
        "A shuffle layer + LSTM layer + Dropout layer"
      ]
    },
    {
      "metadata": {
        "id": "JDYfUKc8tQhu",
        "colab_type": "code",
        "colab": {}
      },
      "cell_type": "code",
      "source": [
        "class BlockLSTM(nn.Module):\n",
        "    def __init__(self, time_steps, num_layers, lstm_hs, dropout=0.8, attention=False):\n",
        "        super().__init__()\n",
        "        self.lstm = nn.LSTM(input_size=time_steps, hidden_size=lstm_hs, num_layers=num_layers)\n",
        "        self.dropout = nn.Dropout(p=dropout)\n",
        "    def forward(self, x):\n",
        "        # input is of the form (batch_size, num_layers, time_steps), e.g. (128, 1, 512)\n",
        "        x = torch.transpose(x, 0, 1)\n",
        "        # lstm layer is of the form (num_layers, batch_size, time_steps)\n",
        "        x, (h_n, c_n) = self.lstm(x)\n",
        "        # dropout layer input shape (Sequence Length, Batch Size, Hidden Size * Num Directions)\n",
        "        y = self.dropout(x)\n",
        "        # output shape is same as Dropout intput\n",
        "        return y"
      ],
      "execution_count": 0,
      "outputs": []
    },
    {
      "metadata": {
        "id": "PskMJhzL8_Ao",
        "colab_type": "text"
      },
      "cell_type": "markdown",
      "source": [
        "### FCN block\n",
        "\n",
        "#### Convolutional block"
      ]
    },
    {
      "metadata": {
        "id": "4oam7px91HYa",
        "colab_type": "code",
        "colab": {}
      },
      "cell_type": "code",
      "source": [
        "class BlockFCNConv(nn.Module):\n",
        "    def __init__(self, in_channel=1, out_channel=128, kernel_size=8, momentum=0.99, epsilon=0.001, squeeze=False):\n",
        "        super().__init__()\n",
        "        self.conv = nn.Conv1d(in_channel, out_channel, kernel_size=kernel_size)\n",
        "        self.batch_norm = nn.BatchNorm1d(num_features=out_channel, eps=epsilon, momentum=momentum)\n",
        "        self.relu = nn.ReLU()\n",
        "    def forward(self, x):\n",
        "        # input (batch_size, num_variables, time_steps), e.g. (128, 1, 512)\n",
        "        x = self.conv(x)\n",
        "        # input (batch_size, out_channel, L_out)\n",
        "        x = self.batch_norm(x)\n",
        "        # same shape as input\n",
        "        y = self.relu(x)\n",
        "        return y"
      ],
      "execution_count": 0,
      "outputs": []
    },
    {
      "metadata": {
        "id": "sxIcU-lx9GeV",
        "colab_type": "text"
      },
      "cell_type": "markdown",
      "source": [
        "#### FCN block"
      ]
    },
    {
      "metadata": {
        "id": "lNDU3Mij89dR",
        "colab_type": "code",
        "colab": {}
      },
      "cell_type": "code",
      "source": [
        "class BlockFCN(nn.Module):\n",
        "    def __init__(self, time_steps, channels=[1, 128, 256, 128], kernels=[8, 5, 3], mom=0.99, eps=0.001):\n",
        "        super().__init__()\n",
        "        self.conv1 = BlockFCNConv(channels[0], channels[1], kernels[0], momentum=mom, epsilon=eps, squeeze=True)\n",
        "        self.conv2 = BlockFCNConv(channels[1], channels[2], kernels[1], momentum=mom, epsilon=eps, squeeze=True)\n",
        "        self.conv3 = BlockFCNConv(channels[2], channels[3], kernels[2], momentum=mom, epsilon=eps)\n",
        "        output_size = time_steps - sum(kernels) + len(kernels)\n",
        "        self.global_pooling = nn.AvgPool1d(kernel_size=output_size)\n",
        "    def forward(self, x):\n",
        "        x = self.conv1(x)\n",
        "        x = self.conv2(x)\n",
        "        x = self.conv3(x)\n",
        "        # apply Global Average Pooling 1D\n",
        "        y = self.global_pooling(x)\n",
        "        return y"
      ],
      "execution_count": 0,
      "outputs": []
    },
    {
      "metadata": {
        "id": "mFYGCNCqPQfq",
        "colab_type": "text"
      },
      "cell_type": "markdown",
      "source": [
        "### LSTM-FCN"
      ]
    },
    {
      "metadata": {
        "id": "QQznEOKCKygx",
        "colab_type": "code",
        "colab": {}
      },
      "cell_type": "code",
      "source": [
        "class LSTMFCN(nn.Module):\n",
        "    def __init__(self, time_steps, num_variables=1, lstm_hs=256, channels=[1, 128, 256, 128]):\n",
        "        super().__init__()\n",
        "        self.lstm_block = BlockLSTM(time_steps, 1, lstm_hs)\n",
        "        self.fcn_block = BlockFCN(time_steps)\n",
        "        self.dense = nn.Linear(channels[-1] + lstm_hs, num_variables)\n",
        "        self.softmax = nn.LogSoftmax(dim=1) #nn.Softmax(dim=1)\n",
        "    def forward(self, x):\n",
        "        # input is (batch_size, time_steps), it has to be (batch_size, 1, time_steps)\n",
        "        x = x.unsqueeze(1)\n",
        "        # pass input through LSTM block\n",
        "        x1 = self.lstm_block(x)\n",
        "        x1 = torch.squeeze(x1)\n",
        "        # pass input through FCN block\n",
        "        x2 = self.fcn_block(x)\n",
        "        x2 = torch.squeeze(x2)\n",
        "        # concatenate blocks output\n",
        "        x = torch.cat([x1, x2], 1)\n",
        "        # pass through Linear layer\n",
        "        x = self.dense(x)\n",
        "        # pass through Softmax activation\n",
        "        y = x#y = torch.squeeze(x)#y = self.softmax(x)\n",
        "        return y"
      ],
      "execution_count": 0,
      "outputs": []
    },
    {
      "metadata": {
        "id": "ZXyATnq7WOKq",
        "colab_type": "text"
      },
      "cell_type": "markdown",
      "source": [
        "## Training"
      ]
    },
    {
      "metadata": {
        "id": "BCHDSTVzRKGR",
        "colab_type": "code",
        "outputId": "21a3a7ee-1b9e-4808-9067-c41a3c689d76",
        "colab": {
          "base_uri": "https://localhost:8080/",
          "height": 34
        }
      },
      "cell_type": "code",
      "source": [
        "time_steps = X_train.shape[1]\n",
        "num_variables = classes\n",
        "\n",
        "time_steps, num_variables"
      ],
      "execution_count": 25,
      "outputs": [
        {
          "output_type": "execute_result",
          "data": {
            "text/plain": [
              "(570, 4)"
            ]
          },
          "metadata": {
            "tags": []
          },
          "execution_count": 25
        }
      ]
    },
    {
      "metadata": {
        "id": "i9eJ3zlrWV7A",
        "colab_type": "code",
        "colab": {}
      },
      "cell_type": "code",
      "source": [
        "model = LSTMFCN(time_steps, num_variables).cuda()"
      ],
      "execution_count": 0,
      "outputs": []
    },
    {
      "metadata": {
        "id": "b27y39-dh0Ik",
        "colab_type": "text"
      },
      "cell_type": "markdown",
      "source": [
        "look at the different blocks of the Model"
      ]
    },
    {
      "metadata": {
        "id": "i0c4x4NViexX",
        "colab_type": "code",
        "outputId": "83f10e41-c242-4228-d6fc-5d4d999e808d",
        "colab": {
          "base_uri": "https://localhost:8080/",
          "height": 391
        }
      },
      "cell_type": "code",
      "source": [
        "# model summary\n",
        "for m in model.children():\n",
        "    print(m.training)#, m)\n",
        "    for j in m.children():\n",
        "        print(j.training, j)"
      ],
      "execution_count": 27,
      "outputs": [
        {
          "output_type": "stream",
          "text": [
            "True\n",
            "True LSTM(570, 256)\n",
            "True Dropout(p=0.8)\n",
            "True\n",
            "True BlockFCNConv(\n",
            "  (conv): Conv1d(1, 128, kernel_size=(8,), stride=(1,))\n",
            "  (batch_norm): BatchNorm1d(128, eps=0.001, momentum=0.99, affine=True, track_running_stats=True)\n",
            "  (relu): ReLU()\n",
            ")\n",
            "True BlockFCNConv(\n",
            "  (conv): Conv1d(128, 256, kernel_size=(5,), stride=(1,))\n",
            "  (batch_norm): BatchNorm1d(256, eps=0.001, momentum=0.99, affine=True, track_running_stats=True)\n",
            "  (relu): ReLU()\n",
            ")\n",
            "True BlockFCNConv(\n",
            "  (conv): Conv1d(256, 128, kernel_size=(3,), stride=(1,))\n",
            "  (batch_norm): BatchNorm1d(128, eps=0.001, momentum=0.99, affine=True, track_running_stats=True)\n",
            "  (relu): ReLU()\n",
            ")\n",
            "True AvgPool1d(kernel_size=(557,), stride=(557,), padding=(0,))\n",
            "True\n",
            "True\n"
          ],
          "name": "stdout"
        }
      ]
    },
    {
      "metadata": {
        "id": "xeWqQhn9XPUU",
        "colab_type": "text"
      },
      "cell_type": "markdown",
      "source": [
        "look at the parameters (i.e. weights) in each layer"
      ]
    },
    {
      "metadata": {
        "id": "-F4_pcUqW8He",
        "colab_type": "code",
        "outputId": "0f554622-958c-44f5-e24b-3b16d0ff0cb0",
        "colab": {
          "base_uri": "https://localhost:8080/",
          "height": 323
        }
      },
      "cell_type": "code",
      "source": [
        "[p.shape for p in model.parameters()]"
      ],
      "execution_count": 28,
      "outputs": [
        {
          "output_type": "execute_result",
          "data": {
            "text/plain": [
              "[torch.Size([1024, 570]),\n",
              " torch.Size([1024, 256]),\n",
              " torch.Size([1024]),\n",
              " torch.Size([1024]),\n",
              " torch.Size([128, 1, 8]),\n",
              " torch.Size([128]),\n",
              " torch.Size([128]),\n",
              " torch.Size([128]),\n",
              " torch.Size([256, 128, 5]),\n",
              " torch.Size([256]),\n",
              " torch.Size([256]),\n",
              " torch.Size([256]),\n",
              " torch.Size([128, 256, 3]),\n",
              " torch.Size([128]),\n",
              " torch.Size([128]),\n",
              " torch.Size([128]),\n",
              " torch.Size([4, 384]),\n",
              " torch.Size([4])]"
            ]
          },
          "metadata": {
            "tags": []
          },
          "execution_count": 28
        }
      ]
    },
    {
      "metadata": {
        "id": "vUO4oNKkxAYs",
        "colab_type": "text"
      },
      "cell_type": "markdown",
      "source": [
        "Define a learner class to automate the learning process"
      ]
    },
    {
      "metadata": {
        "id": "RnEiGUWHw_kX",
        "colab_type": "code",
        "colab": {}
      },
      "cell_type": "code",
      "source": [
        "class SimpleLearner():\n",
        "    def __init__(self, data, model, loss_func, wd = 1e-5):\n",
        "        self.data, self.model, self.loss_func = data, model, loss_func\n",
        "        self.wd = wd\n",
        "    \n",
        "    def update_manualgrad(self, x,y,lr):\n",
        "        y_hat = self.model(x)\n",
        "        # weight decay\n",
        "        w2 = 0.\n",
        "        for p in model.parameters(): w2 += (p**2).sum()\n",
        "        # add to regular loss\n",
        "        loss = self.loss_func(y_hat, y) + w2 * self.wd\n",
        "        loss.backward()\n",
        "        with torch.no_grad():\n",
        "            for p in model.parameters():\n",
        "                p.sub_(lr * p.grad)\n",
        "                p.grad.zero_()\n",
        "        return loss.item()\n",
        "\n",
        "    def update(self, x,y,lr):\n",
        "        opt = optim.Adam(self.model.parameters(), lr)\n",
        "        y_hat = self.model(x)\n",
        "        loss = self.loss_func(y_hat, y)\n",
        "        loss.backward()\n",
        "        opt.step()\n",
        "        opt.zero_grad()\n",
        "        return loss.item()\n",
        "\n",
        "    def fit(self, epochs=1, lr=1e-3):\n",
        "        \"\"\"Train the model\"\"\"\n",
        "        losses = []\n",
        "        for i in tqdm(range(epochs)):\n",
        "            for x,y in self.data[0]:\n",
        "                current_loss = self.update(x, y , lr)\n",
        "                losses.append(current_loss)\n",
        "        return losses\n",
        "    \n",
        "    def evaluate(self, X):\n",
        "        \"\"\"Evaluate the given data loader on the model and return predictions\"\"\"\n",
        "        result = None\n",
        "        for x, y in X:\n",
        "            y_hat = self.model(x)\n",
        "            result = y_hat if result is None else np.concatenate((result, y_hat), axis=0)\n",
        "        return result"
      ],
      "execution_count": 0,
      "outputs": []
    },
    {
      "metadata": {
        "id": "LlRJFy3ikSwQ",
        "colab_type": "code",
        "colab": {}
      },
      "cell_type": "code",
      "source": [
        "#num_variables = 1"
      ],
      "execution_count": 0,
      "outputs": []
    },
    {
      "metadata": {
        "id": "61O6OGUTqkoK",
        "colab_type": "code",
        "colab": {}
      },
      "cell_type": "code",
      "source": [
        "model = LSTMFCN(time_steps, num_variables).cuda()"
      ],
      "execution_count": 0,
      "outputs": []
    },
    {
      "metadata": {
        "id": "txh5ujbKXhuz",
        "colab_type": "text"
      },
      "cell_type": "markdown",
      "source": [
        "train the model using the DataLoader"
      ]
    },
    {
      "metadata": {
        "id": "GMAfJH9KAY0h",
        "colab_type": "code",
        "colab": {}
      },
      "cell_type": "code",
      "source": [
        "# depending on the number of classes, use a Binary Cross Entropy or a Negative Log Likelihood loss for more than two classes\n",
        "#loss_func = nn.NLLLoss().cuda() # weight=weights\n",
        "#loss_func = nn.BCEWithLogitsLoss().cuda()\n",
        "loss_func = nn.CrossEntropyLoss().cuda()\n",
        "acc_func = accuracy # accuracy_thresh"
      ],
      "execution_count": 0,
      "outputs": []
    },
    {
      "metadata": {
        "id": "xxVx2A1pXtuY",
        "colab_type": "code",
        "outputId": "0d74ed78-6a00-4a31-c5ba-3cce19176591",
        "colab": {
          "base_uri": "https://localhost:8080/",
          "height": 34
        }
      },
      "cell_type": "code",
      "source": [
        "lr = 2e-2\n",
        "learner = SimpleLearner([train_dl, test_dl], model, loss_func)\n",
        "losses = learner.fit(10)"
      ],
      "execution_count": 33,
      "outputs": [
        {
          "output_type": "stream",
          "text": [
            "100%|██████████| 10/10 [00:00<00:00, 24.67it/s]\n"
          ],
          "name": "stderr"
        }
      ]
    },
    {
      "metadata": {
        "id": "4W1s1mql_ELt",
        "colab_type": "code",
        "outputId": "5841c73b-6b26-43eb-d860-67c1db16157e",
        "colab": {
          "base_uri": "https://localhost:8080/",
          "height": 282
        }
      },
      "cell_type": "code",
      "source": [
        "plt.plot(losses)"
      ],
      "execution_count": 34,
      "outputs": [
        {
          "output_type": "execute_result",
          "data": {
            "text/plain": [
              "[<matplotlib.lines.Line2D at 0x7f3879808320>]"
            ]
          },
          "metadata": {
            "tags": []
          },
          "execution_count": 34
        },
        {
          "output_type": "display_data",
          "data": {
            "image/png": "[encoded data removed]",
            "text/plain": [
              "<matplotlib.figure.Figure at 0x7f3879896eb8>"
            ]
          },
          "metadata": {
            "tags": []
          }
        }
      ]
    },
    {
      "metadata": {
        "id": "XyvN_-cSmWPx",
        "colab_type": "code",
        "colab": {}
      },
      "cell_type": "code",
      "source": [
        "y_pred = learner.evaluate(test_dl)"
      ],
      "execution_count": 0,
      "outputs": []
    },
    {
      "metadata": {
        "id": "HiVoIWUqp268",
        "colab_type": "code",
        "colab": {
          "base_uri": "https://localhost:8080/",
          "height": 351
        },
        "outputId": "6ff7961e-8587-4425-a1d3-8d6112c73e98"
      },
      "cell_type": "code",
      "source": [
        "if num_variables==2:\n",
        "    ((y_test - y_pred.argmax(axis=1))**2).mean()\n",
        "else:\n",
        "    ((y_test - y_pred)**2).mean()"
      ],
      "execution_count": 36,
      "outputs": [
        {
          "output_type": "error",
          "ename": "TypeError",
          "evalue": "ignored",
          "traceback": [
            "\u001b[0;31m---------------------------------------------------------------------------\u001b[0m",
            "\u001b[0;31mTypeError\u001b[0m                                 Traceback (most recent call last)",
            "\u001b[0;32m<ipython-input-36-175ac6588682>\u001b[0m in \u001b[0;36m<module>\u001b[0;34m()\u001b[0m\n\u001b[1;32m      2\u001b[0m     \u001b[0;34m(\u001b[0m\u001b[0;34m(\u001b[0m\u001b[0my_test\u001b[0m \u001b[0;34m-\u001b[0m \u001b[0my_pred\u001b[0m\u001b[0;34m.\u001b[0m\u001b[0margmax\u001b[0m\u001b[0;34m(\u001b[0m\u001b[0maxis\u001b[0m\u001b[0;34m=\u001b[0m\u001b[0;36m1\u001b[0m\u001b[0;34m)\u001b[0m\u001b[0;34m)\u001b[0m\u001b[0;34m**\u001b[0m\u001b[0;36m2\u001b[0m\u001b[0;34m)\u001b[0m\u001b[0;34m.\u001b[0m\u001b[0mmean\u001b[0m\u001b[0;34m(\u001b[0m\u001b[0;34m)\u001b[0m\u001b[0;34m\u001b[0m\u001b[0;34m\u001b[0m\u001b[0m\n\u001b[1;32m      3\u001b[0m \u001b[0;32melse\u001b[0m\u001b[0;34m:\u001b[0m\u001b[0;34m\u001b[0m\u001b[0;34m\u001b[0m\u001b[0m\n\u001b[0;32m----> 4\u001b[0;31m     \u001b[0;34m(\u001b[0m\u001b[0;34m(\u001b[0m\u001b[0my_test\u001b[0m \u001b[0;34m-\u001b[0m \u001b[0my_pred\u001b[0m\u001b[0;34m)\u001b[0m\u001b[0;34m**\u001b[0m\u001b[0;36m2\u001b[0m\u001b[0;34m)\u001b[0m\u001b[0;34m.\u001b[0m\u001b[0mmean\u001b[0m\u001b[0;34m(\u001b[0m\u001b[0;34m)\u001b[0m\u001b[0;34m\u001b[0m\u001b[0;34m\u001b[0m\u001b[0m\n\u001b[0m",
            "\u001b[0;32m/usr/local/lib/python3.6/dist-packages/torch/tensor.py\u001b[0m in \u001b[0;36m__rsub__\u001b[0;34m(self, other)\u001b[0m\n\u001b[1;32m    361\u001b[0m \u001b[0;34m\u001b[0m\u001b[0m\n\u001b[1;32m    362\u001b[0m     \u001b[0;32mdef\u001b[0m \u001b[0m__rsub__\u001b[0m\u001b[0;34m(\u001b[0m\u001b[0mself\u001b[0m\u001b[0;34m,\u001b[0m \u001b[0mother\u001b[0m\u001b[0;34m)\u001b[0m\u001b[0;34m:\u001b[0m\u001b[0;34m\u001b[0m\u001b[0;34m\u001b[0m\u001b[0m\n\u001b[0;32m--> 363\u001b[0;31m         \u001b[0;32mreturn\u001b[0m \u001b[0m_C\u001b[0m\u001b[0;34m.\u001b[0m\u001b[0m_VariableFunctions\u001b[0m\u001b[0;34m.\u001b[0m\u001b[0mrsub\u001b[0m\u001b[0;34m(\u001b[0m\u001b[0mself\u001b[0m\u001b[0;34m,\u001b[0m \u001b[0mother\u001b[0m\u001b[0;34m)\u001b[0m\u001b[0;34m\u001b[0m\u001b[0;34m\u001b[0m\u001b[0m\n\u001b[0m\u001b[1;32m    364\u001b[0m \u001b[0;34m\u001b[0m\u001b[0m\n\u001b[1;32m    365\u001b[0m     \u001b[0;32mdef\u001b[0m \u001b[0m__rdiv__\u001b[0m\u001b[0;34m(\u001b[0m\u001b[0mself\u001b[0m\u001b[0;34m,\u001b[0m \u001b[0mother\u001b[0m\u001b[0;34m)\u001b[0m\u001b[0;34m:\u001b[0m\u001b[0;34m\u001b[0m\u001b[0;34m\u001b[0m\u001b[0m\n",
            "\u001b[0;31mTypeError\u001b[0m: rsub() received an invalid combination of arguments - got (Tensor, numpy.ndarray), but expected one of:\n * (Tensor input, Tensor other, Number alpha)\n * (Tensor input, Number other, Number alpha)\n"
          ]
        }
      ]
    },
    {
      "metadata": {
        "id": "jEA7dKEUmP_e",
        "colab_type": "text"
      },
      "cell_type": "markdown",
      "source": [
        "#### Training with fastai"
      ]
    },
    {
      "metadata": {
        "id": "r3LLF5X9mPJ5",
        "colab_type": "code",
        "colab": {}
      },
      "cell_type": "code",
      "source": [
        "model = LSTMFCN(time_steps, num_variables, lstm_hs=128, channels=[1, 128, 128, 128]).cuda()"
      ],
      "execution_count": 0,
      "outputs": []
    },
    {
      "metadata": {
        "id": "IDwkjDH5rXCy",
        "colab_type": "code",
        "colab": {}
      },
      "cell_type": "code",
      "source": [
        "data = DataBunch(train_dl=train_dl, valid_dl=test_dl, path=path)\n",
        "learner = Learner(data, model, loss_func=loss_func, metrics=acc_func, wd=0.1)"
      ],
      "execution_count": 0,
      "outputs": []
    },
    {
      "metadata": {
        "id": "Jhv_-NkEknVO",
        "colab_type": "code",
        "outputId": "5c66dc84-1c92-43cd-f8da-c5a85cfb94f4",
        "colab": {
          "base_uri": "https://localhost:8080/",
          "height": 2429
        }
      },
      "cell_type": "code",
      "source": [
        "learner.unfreeze()\n",
        "learner.lr_find()\n",
        "learner.recorder.plot()"
      ],
      "execution_count": 39,
      "outputs": [
        {
          "output_type": "display_data",
          "data": {
            "text/html": [
              "\n",
              "    <div>\n",
              "        <style>\n",
              "        \t/* Turns off some styling */\n",
              "        \tprogress {\n",
              "\n",
              "            \t/* gets rid of default border in Firefox and Opera. */\n",
              "            \tborder: none;\n",
              "\n",
              "            \t/* Needs to be in here for Safari polyfill so background images work as expected. */\n",
              "            \tbackground-size: auto;\n",
              "            }\n",
              "\n",
              "            .progress-bar-interrupted, .progress-bar-interrupted::-webkit-progress-bar {\n",
              "                background: #F44336;\n",
              "            }\n",
              "        </style>\n",
              "      <progress value='95' class='' max='100', style='width:300px; height:20px; vertical-align: middle;'></progress>\n",
              "      95.00% [95/100 00:03<00:00]\n",
              "    </div>\n",
              "    \n",
              "<table style='width:300px; margin-bottom:10px'>\n",
              "  <tr>\n",
              "    <th>epoch</th>\n",
              "    <th>train_loss</th>\n",
              "    <th>valid_loss</th>\n",
              "    <th>accuracy</th>\n",
              "  </tr>\n",
              "  <tr>\n",
              "    <th>1</th>\n",
              "    <th>1.406636</th>\n",
              "  </tr>\n",
              "  <tr>\n",
              "    <th>2</th>\n",
              "    <th>1.411034</th>\n",
              "  </tr>\n",
              "  <tr>\n",
              "    <th>3</th>\n",
              "    <th>1.409985</th>\n",
              "  </tr>\n",
              "  <tr>\n",
              "    <th>4</th>\n",
              "    <th>1.406493</th>\n",
              "  </tr>\n",
              "  <tr>\n",
              "    <th>5</th>\n",
              "    <th>1.410553</th>\n",
              "  </tr>\n",
              "  <tr>\n",
              "    <th>6</th>\n",
              "    <th>1.415294</th>\n",
              "  </tr>\n",
              "  <tr>\n",
              "    <th>7</th>\n",
              "    <th>1.411831</th>\n",
              "  </tr>\n",
              "  <tr>\n",
              "    <th>8</th>\n",
              "    <th>1.410828</th>\n",
              "  </tr>\n",
              "  <tr>\n",
              "    <th>9</th>\n",
              "    <th>1.404152</th>\n",
              "  </tr>\n",
              "  <tr>\n",
              "    <th>10</th>\n",
              "    <th>1.408324</th>\n",
              "  </tr>\n",
              "  <tr>\n",
              "    <th>11</th>\n",
              "    <th>1.411163</th>\n",
              "  </tr>\n",
              "  <tr>\n",
              "    <th>12</th>\n",
              "    <th>1.412409</th>\n",
              "  </tr>\n",
              "  <tr>\n",
              "    <th>13</th>\n",
              "    <th>1.411525</th>\n",
              "  </tr>\n",
              "  <tr>\n",
              "    <th>14</th>\n",
              "    <th>1.411862</th>\n",
              "  </tr>\n",
              "  <tr>\n",
              "    <th>15</th>\n",
              "    <th>1.410454</th>\n",
              "  </tr>\n",
              "  <tr>\n",
              "    <th>16</th>\n",
              "    <th>1.409773</th>\n",
              "  </tr>\n",
              "  <tr>\n",
              "    <th>17</th>\n",
              "    <th>1.408035</th>\n",
              "  </tr>\n",
              "  <tr>\n",
              "    <th>18</th>\n",
              "    <th>1.410043</th>\n",
              "  </tr>\n",
              "  <tr>\n",
              "    <th>19</th>\n",
              "    <th>1.409773</th>\n",
              "  </tr>\n",
              "  <tr>\n",
              "    <th>20</th>\n",
              "    <th>1.410705</th>\n",
              "  </tr>\n",
              "  <tr>\n",
              "    <th>21</th>\n",
              "    <th>1.411718</th>\n",
              "  </tr>\n",
              "  <tr>\n",
              "    <th>22</th>\n",
              "    <th>1.412498</th>\n",
              "  </tr>\n",
              "  <tr>\n",
              "    <th>23</th>\n",
              "    <th>1.410445</th>\n",
              "  </tr>\n",
              "  <tr>\n",
              "    <th>24</th>\n",
              "    <th>1.409482</th>\n",
              "  </tr>\n",
              "  <tr>\n",
              "    <th>25</th>\n",
              "    <th>1.408308</th>\n",
              "  </tr>\n",
              "  <tr>\n",
              "    <th>26</th>\n",
              "    <th>1.407267</th>\n",
              "  </tr>\n",
              "  <tr>\n",
              "    <th>27</th>\n",
              "    <th>1.405875</th>\n",
              "  </tr>\n",
              "  <tr>\n",
              "    <th>28</th>\n",
              "    <th>1.407083</th>\n",
              "  </tr>\n",
              "  <tr>\n",
              "    <th>29</th>\n",
              "    <th>1.402903</th>\n",
              "  </tr>\n",
              "  <tr>\n",
              "    <th>30</th>\n",
              "    <th>1.403754</th>\n",
              "  </tr>\n",
              "  <tr>\n",
              "    <th>31</th>\n",
              "    <th>1.400635</th>\n",
              "  </tr>\n",
              "  <tr>\n",
              "    <th>32</th>\n",
              "    <th>1.398681</th>\n",
              "  </tr>\n",
              "  <tr>\n",
              "    <th>33</th>\n",
              "    <th>1.398309</th>\n",
              "  </tr>\n",
              "  <tr>\n",
              "    <th>34</th>\n",
              "    <th>1.399364</th>\n",
              "  </tr>\n",
              "  <tr>\n",
              "    <th>35</th>\n",
              "    <th>1.398536</th>\n",
              "  </tr>\n",
              "  <tr>\n",
              "    <th>36</th>\n",
              "    <th>1.395979</th>\n",
              "  </tr>\n",
              "  <tr>\n",
              "    <th>37</th>\n",
              "    <th>1.395185</th>\n",
              "  </tr>\n",
              "  <tr>\n",
              "    <th>38</th>\n",
              "    <th>1.396499</th>\n",
              "  </tr>\n",
              "  <tr>\n",
              "    <th>39</th>\n",
              "    <th>1.394187</th>\n",
              "  </tr>\n",
              "  <tr>\n",
              "    <th>40</th>\n",
              "    <th>1.393511</th>\n",
              "  </tr>\n",
              "  <tr>\n",
              "    <th>41</th>\n",
              "    <th>1.390119</th>\n",
              "  </tr>\n",
              "  <tr>\n",
              "    <th>42</th>\n",
              "    <th>1.387247</th>\n",
              "  </tr>\n",
              "  <tr>\n",
              "    <th>43</th>\n",
              "    <th>1.385251</th>\n",
              "  </tr>\n",
              "  <tr>\n",
              "    <th>44</th>\n",
              "    <th>1.382787</th>\n",
              "  </tr>\n",
              "  <tr>\n",
              "    <th>45</th>\n",
              "    <th>1.379407</th>\n",
              "  </tr>\n",
              "  <tr>\n",
              "    <th>46</th>\n",
              "    <th>1.377016</th>\n",
              "  </tr>\n",
              "  <tr>\n",
              "    <th>47</th>\n",
              "    <th>1.374868</th>\n",
              "  </tr>\n",
              "  <tr>\n",
              "    <th>48</th>\n",
              "    <th>1.372463</th>\n",
              "  </tr>\n",
              "  <tr>\n",
              "    <th>49</th>\n",
              "    <th>1.370700</th>\n",
              "  </tr>\n",
              "  <tr>\n",
              "    <th>50</th>\n",
              "    <th>1.367687</th>\n",
              "  </tr>\n",
              "  <tr>\n",
              "    <th>51</th>\n",
              "    <th>1.364675</th>\n",
              "  </tr>\n",
              "  <tr>\n",
              "    <th>52</th>\n",
              "    <th>1.364144</th>\n",
              "  </tr>\n",
              "  <tr>\n",
              "    <th>53</th>\n",
              "    <th>1.361970</th>\n",
              "  </tr>\n",
              "  <tr>\n",
              "    <th>54</th>\n",
              "    <th>1.359007</th>\n",
              "  </tr>\n",
              "  <tr>\n",
              "    <th>55</th>\n",
              "    <th>1.358131</th>\n",
              "  </tr>\n",
              "  <tr>\n",
              "    <th>56</th>\n",
              "    <th>1.357273</th>\n",
              "  </tr>\n",
              "  <tr>\n",
              "    <th>57</th>\n",
              "    <th>1.354990</th>\n",
              "  </tr>\n",
              "  <tr>\n",
              "    <th>58</th>\n",
              "    <th>1.352324</th>\n",
              "  </tr>\n",
              "  <tr>\n",
              "    <th>59</th>\n",
              "    <th>1.350721</th>\n",
              "  </tr>\n",
              "  <tr>\n",
              "    <th>60</th>\n",
              "    <th>1.349188</th>\n",
              "  </tr>\n",
              "  <tr>\n",
              "    <th>61</th>\n",
              "    <th>1.349440</th>\n",
              "  </tr>\n",
              "  <tr>\n",
              "    <th>62</th>\n",
              "    <th>1.351508</th>\n",
              "  </tr>\n",
              "  <tr>\n",
              "    <th>63</th>\n",
              "    <th>1.351258</th>\n",
              "  </tr>\n",
              "  <tr>\n",
              "    <th>64</th>\n",
              "    <th>1.349927</th>\n",
              "  </tr>\n",
              "  <tr>\n",
              "    <th>65</th>\n",
              "    <th>1.350420</th>\n",
              "  </tr>\n",
              "  <tr>\n",
              "    <th>66</th>\n",
              "    <th>1.348101</th>\n",
              "  </tr>\n",
              "  <tr>\n",
              "    <th>67</th>\n",
              "    <th>1.346145</th>\n",
              "  </tr>\n",
              "  <tr>\n",
              "    <th>68</th>\n",
              "    <th>1.344843</th>\n",
              "  </tr>\n",
              "  <tr>\n",
              "    <th>69</th>\n",
              "    <th>1.345760</th>\n",
              "  </tr>\n",
              "  <tr>\n",
              "    <th>70</th>\n",
              "    <th>1.350025</th>\n",
              "  </tr>\n",
              "  <tr>\n",
              "    <th>71</th>\n",
              "    <th>1.347955</th>\n",
              "  </tr>\n",
              "  <tr>\n",
              "    <th>72</th>\n",
              "    <th>1.353235</th>\n",
              "  </tr>\n",
              "  <tr>\n",
              "    <th>73</th>\n",
              "    <th>1.355921</th>\n",
              "  </tr>\n",
              "  <tr>\n",
              "    <th>74</th>\n",
              "    <th>1.359981</th>\n",
              "  </tr>\n",
              "  <tr>\n",
              "    <th>75</th>\n",
              "    <th>1.364156</th>\n",
              "  </tr>\n",
              "  <tr>\n",
              "    <th>76</th>\n",
              "    <th>1.366919</th>\n",
              "  </tr>\n",
              "  <tr>\n",
              "    <th>77</th>\n",
              "    <th>1.371681</th>\n",
              "  </tr>\n",
              "  <tr>\n",
              "    <th>78</th>\n",
              "    <th>1.379854</th>\n",
              "  </tr>\n",
              "  <tr>\n",
              "    <th>79</th>\n",
              "    <th>1.385256</th>\n",
              "  </tr>\n",
              "  <tr>\n",
              "    <th>80</th>\n",
              "    <th>1.402090</th>\n",
              "  </tr>\n",
              "  <tr>\n",
              "    <th>81</th>\n",
              "    <th>1.412945</th>\n",
              "  </tr>\n",
              "  <tr>\n",
              "    <th>82</th>\n",
              "    <th>1.430090</th>\n",
              "  </tr>\n",
              "  <tr>\n",
              "    <th>83</th>\n",
              "    <th>1.454959</th>\n",
              "  </tr>\n",
              "  <tr>\n",
              "    <th>84</th>\n",
              "    <th>1.478099</th>\n",
              "  </tr>\n",
              "  <tr>\n",
              "    <th>85</th>\n",
              "    <th>1.486666</th>\n",
              "  </tr>\n",
              "  <tr>\n",
              "    <th>86</th>\n",
              "    <th>1.522096</th>\n",
              "  </tr>\n",
              "  <tr>\n",
              "    <th>87</th>\n",
              "    <th>1.549306</th>\n",
              "  </tr>\n",
              "  <tr>\n",
              "    <th>88</th>\n",
              "    <th>1.603077</th>\n",
              "  </tr>\n",
              "  <tr>\n",
              "    <th>89</th>\n",
              "    <th>1.684205</th>\n",
              "  </tr>\n",
              "  <tr>\n",
              "    <th>90</th>\n",
              "    <th>1.737923</th>\n",
              "  </tr>\n",
              "  <tr>\n",
              "    <th>91</th>\n",
              "    <th>1.814045</th>\n",
              "  </tr>\n",
              "  <tr>\n",
              "    <th>92</th>\n",
              "    <th>1.900465</th>\n",
              "  </tr>\n",
              "  <tr>\n",
              "    <th>93</th>\n",
              "    <th>2.022480</th>\n",
              "  </tr>\n",
              "  <tr>\n",
              "    <th>94</th>\n",
              "    <th>2.339334</th>\n",
              "  </tr>\n",
              "  <tr>\n",
              "    <th>95</th>\n",
              "    <th>2.665863</th>\n",
              "  </tr>\n",
              "  <tr>\n",
              "    <th>96</th>\n",
              "    <th>3.523362</th>\n",
              "  </tr>\n",
              "  <tr>\n",
              "    <th>97</th>\n",
              "    <th>4.600011</th>\n",
              "  </tr>\n",
              "  <tr>\n",
              "    <th>98</th>\n",
              "    <th>5.264989</th>\n",
              "  </tr>\n",
              "  <tr>\n",
              "\n",
              "  </tr>\n",
              "</table>\n",
              "\n",
              "\n",
              "    <div>\n",
              "        <style>\n",
              "        \t/* Turns off some styling */\n",
              "        \tprogress {\n",
              "\n",
              "            \t/* gets rid of default border in Firefox and Opera. */\n",
              "            \tborder: none;\n",
              "\n",
              "            \t/* Needs to be in here for Safari polyfill so background images work as expected. */\n",
              "            \tbackground-size: auto;\n",
              "            }\n",
              "\n",
              "            .progress-bar-interrupted, .progress-bar-interrupted::-webkit-progress-bar {\n",
              "                background: #F44336;\n",
              "            }\n",
              "        </style>\n",
              "      <progress value='0' class='progress-bar-interrupted' max='1', style='width:300px; height:20px; vertical-align: middle;'></progress>\n",
              "      Interrupted\n",
              "    </div>\n",
              "    "
            ],
            "text/plain": [
              "<IPython.core.display.HTML object>"
            ]
          },
          "metadata": {
            "tags": []
          }
        },
        {
          "output_type": "stream",
          "text": [
            "LR Finder is complete, type {learner_name}.recorder.plot() to see the graph.\n"
          ],
          "name": "stdout"
        },
        {
          "output_type": "display_data",
          "data": {
            "image/png": "[encoded data removed]",
            "text/plain": [
              "<matplotlib.figure.Figure at 0x7f3879856e10>"
            ]
          },
          "metadata": {
            "tags": []
          }
        }
      ]
    },
    {
      "metadata": {
        "id": "Lex4Hkn078kn",
        "colab_type": "code",
        "outputId": "c5947e0f-3331-4a61-8301-ed91397e49e3",
        "colab": {
          "base_uri": "https://localhost:8080/",
          "height": 1125
        }
      },
      "cell_type": "code",
      "source": [
        "learner.fit(50, lr=3e-3)"
      ],
      "execution_count": 40,
      "outputs": [
        {
          "output_type": "display_data",
          "data": {
            "text/html": [
              "Total time: 00:03 <p><table style='width:300px; margin-bottom:10px'>\n",
              "  <tr>\n",
              "    <th>epoch</th>\n",
              "    <th>train_loss</th>\n",
              "    <th>valid_loss</th>\n",
              "    <th>accuracy</th>\n",
              "  </tr>\n",
              "  <tr>\n",
              "    <th>1</th>\n",
              "    <th>1.396385</th>\n",
              "    <th>1.359485</th>\n",
              "    <th>0.400000</th>\n",
              "  </tr>\n",
              "  <tr>\n",
              "    <th>2</th>\n",
              "    <th>1.381889</th>\n",
              "    <th>1.357261</th>\n",
              "    <th>0.400000</th>\n",
              "  </tr>\n",
              "  <tr>\n",
              "    <th>3</th>\n",
              "    <th>1.372547</th>\n",
              "    <th>1.333944</th>\n",
              "    <th>0.400000</th>\n",
              "  </tr>\n",
              "  <tr>\n",
              "    <th>4</th>\n",
              "    <th>1.369740</th>\n",
              "    <th>1.322976</th>\n",
              "    <th>0.400000</th>\n",
              "  </tr>\n",
              "  <tr>\n",
              "    <th>5</th>\n",
              "    <th>1.353715</th>\n",
              "    <th>1.312739</th>\n",
              "    <th>0.400000</th>\n",
              "  </tr>\n",
              "  <tr>\n",
              "    <th>6</th>\n",
              "    <th>1.356948</th>\n",
              "    <th>1.308630</th>\n",
              "    <th>0.400000</th>\n",
              "  </tr>\n",
              "  <tr>\n",
              "    <th>7</th>\n",
              "    <th>1.347808</th>\n",
              "    <th>1.304727</th>\n",
              "    <th>0.400000</th>\n",
              "  </tr>\n",
              "  <tr>\n",
              "    <th>8</th>\n",
              "    <th>1.349517</th>\n",
              "    <th>1.301207</th>\n",
              "    <th>0.400000</th>\n",
              "  </tr>\n",
              "  <tr>\n",
              "    <th>9</th>\n",
              "    <th>1.352698</th>\n",
              "    <th>1.298808</th>\n",
              "    <th>0.400000</th>\n",
              "  </tr>\n",
              "  <tr>\n",
              "    <th>10</th>\n",
              "    <th>1.349861</th>\n",
              "    <th>1.297599</th>\n",
              "    <th>0.400000</th>\n",
              "  </tr>\n",
              "  <tr>\n",
              "    <th>11</th>\n",
              "    <th>1.348805</th>\n",
              "    <th>1.296743</th>\n",
              "    <th>0.400000</th>\n",
              "  </tr>\n",
              "  <tr>\n",
              "    <th>12</th>\n",
              "    <th>1.351144</th>\n",
              "    <th>1.296144</th>\n",
              "    <th>0.400000</th>\n",
              "  </tr>\n",
              "  <tr>\n",
              "    <th>13</th>\n",
              "    <th>1.347535</th>\n",
              "    <th>1.295880</th>\n",
              "    <th>0.400000</th>\n",
              "  </tr>\n",
              "  <tr>\n",
              "    <th>14</th>\n",
              "    <th>1.341564</th>\n",
              "    <th>1.295719</th>\n",
              "    <th>0.400000</th>\n",
              "  </tr>\n",
              "  <tr>\n",
              "    <th>15</th>\n",
              "    <th>1.340976</th>\n",
              "    <th>1.295878</th>\n",
              "    <th>0.400000</th>\n",
              "  </tr>\n",
              "  <tr>\n",
              "    <th>16</th>\n",
              "    <th>1.336836</th>\n",
              "    <th>1.295944</th>\n",
              "    <th>0.400000</th>\n",
              "  </tr>\n",
              "  <tr>\n",
              "    <th>17</th>\n",
              "    <th>1.335998</th>\n",
              "    <th>1.296649</th>\n",
              "    <th>0.400000</th>\n",
              "  </tr>\n",
              "  <tr>\n",
              "    <th>18</th>\n",
              "    <th>1.335531</th>\n",
              "    <th>1.297585</th>\n",
              "    <th>0.400000</th>\n",
              "  </tr>\n",
              "  <tr>\n",
              "    <th>19</th>\n",
              "    <th>1.338487</th>\n",
              "    <th>1.298796</th>\n",
              "    <th>0.400000</th>\n",
              "  </tr>\n",
              "  <tr>\n",
              "    <th>20</th>\n",
              "    <th>1.337068</th>\n",
              "    <th>1.300024</th>\n",
              "    <th>0.400000</th>\n",
              "  </tr>\n",
              "  <tr>\n",
              "    <th>21</th>\n",
              "    <th>1.332479</th>\n",
              "    <th>1.300631</th>\n",
              "    <th>0.400000</th>\n",
              "  </tr>\n",
              "  <tr>\n",
              "    <th>22</th>\n",
              "    <th>1.327656</th>\n",
              "    <th>1.301175</th>\n",
              "    <th>0.400000</th>\n",
              "  </tr>\n",
              "  <tr>\n",
              "    <th>23</th>\n",
              "    <th>1.325289</th>\n",
              "    <th>1.301993</th>\n",
              "    <th>0.400000</th>\n",
              "  </tr>\n",
              "  <tr>\n",
              "    <th>24</th>\n",
              "    <th>1.325685</th>\n",
              "    <th>1.302029</th>\n",
              "    <th>0.400000</th>\n",
              "  </tr>\n",
              "  <tr>\n",
              "    <th>25</th>\n",
              "    <th>1.328585</th>\n",
              "    <th>1.302044</th>\n",
              "    <th>0.400000</th>\n",
              "  </tr>\n",
              "  <tr>\n",
              "    <th>26</th>\n",
              "    <th>1.328985</th>\n",
              "    <th>1.301402</th>\n",
              "    <th>0.400000</th>\n",
              "  </tr>\n",
              "  <tr>\n",
              "    <th>27</th>\n",
              "    <th>1.328396</th>\n",
              "    <th>1.299837</th>\n",
              "    <th>0.400000</th>\n",
              "  </tr>\n",
              "  <tr>\n",
              "    <th>28</th>\n",
              "    <th>1.328098</th>\n",
              "    <th>1.298067</th>\n",
              "    <th>0.400000</th>\n",
              "  </tr>\n",
              "  <tr>\n",
              "    <th>29</th>\n",
              "    <th>1.328023</th>\n",
              "    <th>1.296554</th>\n",
              "    <th>0.400000</th>\n",
              "  </tr>\n",
              "  <tr>\n",
              "    <th>30</th>\n",
              "    <th>1.327426</th>\n",
              "    <th>1.295573</th>\n",
              "    <th>0.400000</th>\n",
              "  </tr>\n",
              "  <tr>\n",
              "    <th>31</th>\n",
              "    <th>1.325342</th>\n",
              "    <th>1.295260</th>\n",
              "    <th>0.400000</th>\n",
              "  </tr>\n",
              "  <tr>\n",
              "    <th>32</th>\n",
              "    <th>1.323088</th>\n",
              "    <th>1.295490</th>\n",
              "    <th>0.400000</th>\n",
              "  </tr>\n",
              "  <tr>\n",
              "    <th>33</th>\n",
              "    <th>1.323983</th>\n",
              "    <th>1.295714</th>\n",
              "    <th>0.400000</th>\n",
              "  </tr>\n",
              "  <tr>\n",
              "    <th>34</th>\n",
              "    <th>1.322607</th>\n",
              "    <th>1.296001</th>\n",
              "    <th>0.400000</th>\n",
              "  </tr>\n",
              "  <tr>\n",
              "    <th>35</th>\n",
              "    <th>1.324413</th>\n",
              "    <th>1.296550</th>\n",
              "    <th>0.400000</th>\n",
              "  </tr>\n",
              "  <tr>\n",
              "    <th>36</th>\n",
              "    <th>1.323503</th>\n",
              "    <th>1.297314</th>\n",
              "    <th>0.400000</th>\n",
              "  </tr>\n",
              "  <tr>\n",
              "    <th>37</th>\n",
              "    <th>1.323562</th>\n",
              "    <th>1.298818</th>\n",
              "    <th>0.400000</th>\n",
              "  </tr>\n",
              "  <tr>\n",
              "    <th>38</th>\n",
              "    <th>1.321722</th>\n",
              "    <th>1.300533</th>\n",
              "    <th>0.400000</th>\n",
              "  </tr>\n",
              "  <tr>\n",
              "    <th>39</th>\n",
              "    <th>1.320682</th>\n",
              "    <th>1.300425</th>\n",
              "    <th>0.400000</th>\n",
              "  </tr>\n",
              "  <tr>\n",
              "    <th>40</th>\n",
              "    <th>1.319266</th>\n",
              "    <th>1.299781</th>\n",
              "    <th>0.400000</th>\n",
              "  </tr>\n",
              "  <tr>\n",
              "    <th>41</th>\n",
              "    <th>1.318973</th>\n",
              "    <th>1.298638</th>\n",
              "    <th>0.400000</th>\n",
              "  </tr>\n",
              "  <tr>\n",
              "    <th>42</th>\n",
              "    <th>1.317428</th>\n",
              "    <th>1.297718</th>\n",
              "    <th>0.400000</th>\n",
              "  </tr>\n",
              "  <tr>\n",
              "    <th>43</th>\n",
              "    <th>1.316124</th>\n",
              "    <th>1.296753</th>\n",
              "    <th>0.400000</th>\n",
              "  </tr>\n",
              "  <tr>\n",
              "    <th>44</th>\n",
              "    <th>1.315131</th>\n",
              "    <th>1.296208</th>\n",
              "    <th>0.400000</th>\n",
              "  </tr>\n",
              "  <tr>\n",
              "    <th>45</th>\n",
              "    <th>1.313794</th>\n",
              "    <th>1.295826</th>\n",
              "    <th>0.400000</th>\n",
              "  </tr>\n",
              "  <tr>\n",
              "    <th>46</th>\n",
              "    <th>1.314028</th>\n",
              "    <th>1.295697</th>\n",
              "    <th>0.400000</th>\n",
              "  </tr>\n",
              "  <tr>\n",
              "    <th>47</th>\n",
              "    <th>1.312592</th>\n",
              "    <th>1.295847</th>\n",
              "    <th>0.400000</th>\n",
              "  </tr>\n",
              "  <tr>\n",
              "    <th>48</th>\n",
              "    <th>1.311265</th>\n",
              "    <th>1.296315</th>\n",
              "    <th>0.400000</th>\n",
              "  </tr>\n",
              "  <tr>\n",
              "    <th>49</th>\n",
              "    <th>1.309709</th>\n",
              "    <th>1.296983</th>\n",
              "    <th>0.400000</th>\n",
              "  </tr>\n",
              "  <tr>\n",
              "    <th>50</th>\n",
              "    <th>1.308661</th>\n",
              "    <th>1.297208</th>\n",
              "    <th>0.400000</th>\n",
              "  </tr>\n",
              "  <tr>\n",
              "\n",
              "  </tr>\n",
              "</table>\n"
            ],
            "text/plain": [
              "<IPython.core.display.HTML object>"
            ]
          },
          "metadata": {
            "tags": []
          }
        }
      ]
    },
    {
      "metadata": {
        "id": "mgQq0yIpiwC_",
        "colab_type": "code",
        "outputId": "9f372981-5379-4ec7-8749-ea9cb20625bb",
        "colab": {
          "base_uri": "https://localhost:8080/",
          "height": 285
        }
      },
      "cell_type": "code",
      "source": [
        "learner.fit_one_cycle(10)"
      ],
      "execution_count": 41,
      "outputs": [
        {
          "output_type": "display_data",
          "data": {
            "text/html": [
              "Total time: 00:00 <p><table style='width:300px; margin-bottom:10px'>\n",
              "  <tr>\n",
              "    <th>epoch</th>\n",
              "    <th>train_loss</th>\n",
              "    <th>valid_loss</th>\n",
              "    <th>accuracy</th>\n",
              "  </tr>\n",
              "  <tr>\n",
              "    <th>1</th>\n",
              "    <th>1.262412</th>\n",
              "    <th>1.297237</th>\n",
              "    <th>0.400000</th>\n",
              "  </tr>\n",
              "  <tr>\n",
              "    <th>2</th>\n",
              "    <th>1.276047</th>\n",
              "    <th>1.296188</th>\n",
              "    <th>0.400000</th>\n",
              "  </tr>\n",
              "  <tr>\n",
              "    <th>3</th>\n",
              "    <th>1.273078</th>\n",
              "    <th>1.294888</th>\n",
              "    <th>0.400000</th>\n",
              "  </tr>\n",
              "  <tr>\n",
              "    <th>4</th>\n",
              "    <th>1.280526</th>\n",
              "    <th>1.299112</th>\n",
              "    <th>0.400000</th>\n",
              "  </tr>\n",
              "  <tr>\n",
              "    <th>5</th>\n",
              "    <th>1.283353</th>\n",
              "    <th>1.303249</th>\n",
              "    <th>0.400000</th>\n",
              "  </tr>\n",
              "  <tr>\n",
              "    <th>6</th>\n",
              "    <th>1.301668</th>\n",
              "    <th>1.297865</th>\n",
              "    <th>0.400000</th>\n",
              "  </tr>\n",
              "  <tr>\n",
              "    <th>7</th>\n",
              "    <th>1.298818</th>\n",
              "    <th>1.295340</th>\n",
              "    <th>0.400000</th>\n",
              "  </tr>\n",
              "  <tr>\n",
              "    <th>8</th>\n",
              "    <th>1.296389</th>\n",
              "    <th>1.294743</th>\n",
              "    <th>0.400000</th>\n",
              "  </tr>\n",
              "  <tr>\n",
              "    <th>9</th>\n",
              "    <th>1.285329</th>\n",
              "    <th>1.294697</th>\n",
              "    <th>0.400000</th>\n",
              "  </tr>\n",
              "  <tr>\n",
              "    <th>10</th>\n",
              "    <th>1.283528</th>\n",
              "    <th>1.294878</th>\n",
              "    <th>0.400000</th>\n",
              "  </tr>\n",
              "  <tr>\n",
              "\n",
              "  </tr>\n",
              "</table>\n"
            ],
            "text/plain": [
              "<IPython.core.display.HTML object>"
            ]
          },
          "metadata": {
            "tags": []
          }
        }
      ]
    },
    {
      "metadata": {
        "id": "lVO2pL6br0n1",
        "colab_type": "code",
        "outputId": "73e342cf-ea1e-493d-a46c-75ef2e9d336d",
        "colab": {
          "base_uri": "https://localhost:8080/",
          "height": 561
        }
      },
      "cell_type": "code",
      "source": [
        "learner.get_preds(DatasetType.Valid)"
      ],
      "execution_count": 42,
      "outputs": [
        {
          "output_type": "execute_result",
          "data": {
            "text/plain": [
              "[tensor([[0.1616, 0.2780, 0.1322, 0.4282],\n",
              "         [0.1625, 0.2776, 0.1329, 0.4270],\n",
              "         [0.1632, 0.2772, 0.1329, 0.4267],\n",
              "         [0.1628, 0.2773, 0.1328, 0.4271],\n",
              "         [0.1626, 0.2775, 0.1327, 0.4273],\n",
              "         [0.1615, 0.2780, 0.1322, 0.4283],\n",
              "         [0.1618, 0.2779, 0.1323, 0.4280],\n",
              "         [0.1622, 0.2777, 0.1325, 0.4275],\n",
              "         [0.1623, 0.2776, 0.1325, 0.4276],\n",
              "         [0.1615, 0.2780, 0.1321, 0.4283],\n",
              "         [0.1621, 0.2777, 0.1324, 0.4278],\n",
              "         [0.1633, 0.2772, 0.1330, 0.4265],\n",
              "         [0.1618, 0.2779, 0.1323, 0.4279],\n",
              "         [0.1622, 0.2777, 0.1325, 0.4276],\n",
              "         [0.1612, 0.2781, 0.1319, 0.4288],\n",
              "         [0.1652, 0.2764, 0.1352, 0.4231],\n",
              "         [0.1623, 0.2777, 0.1331, 0.4269],\n",
              "         [0.1624, 0.2776, 0.1328, 0.4273],\n",
              "         [0.1613, 0.2780, 0.1319, 0.4288],\n",
              "         [0.1610, 0.2781, 0.1318, 0.4291],\n",
              "         [0.1620, 0.2776, 0.1322, 0.4281],\n",
              "         [0.1615, 0.2779, 0.1320, 0.4287],\n",
              "         [0.1616, 0.2778, 0.1320, 0.4286],\n",
              "         [0.1613, 0.2780, 0.1319, 0.4288],\n",
              "         [0.1622, 0.2775, 0.1322, 0.4281],\n",
              "         [0.1610, 0.2782, 0.1317, 0.4291],\n",
              "         [0.1620, 0.2776, 0.1322, 0.4282],\n",
              "         [0.1617, 0.2777, 0.1321, 0.4284],\n",
              "         [0.1626, 0.2773, 0.1325, 0.4275],\n",
              "         [0.1614, 0.2782, 0.1321, 0.4283]]),\n",
              " tensor([0, 0, 0, 0, 0, 1, 1, 1, 1, 1, 1, 1, 1, 1, 2, 2, 2, 2, 3, 3, 3, 3, 3, 3,\n",
              "         3, 3, 3, 3, 3, 3])]"
            ]
          },
          "metadata": {
            "tags": []
          },
          "execution_count": 42
        }
      ]
    },
    {
      "metadata": {
        "id": "2q4KDLq8smva",
        "colab_type": "code",
        "outputId": "2cff59be-1e80-4106-f5e1-55d4277b9135",
        "colab": {
          "base_uri": "https://localhost:8080/",
          "height": 561
        }
      },
      "cell_type": "code",
      "source": [
        "learner.get_preds(DatasetType.Train)"
      ],
      "execution_count": 43,
      "outputs": [
        {
          "output_type": "execute_result",
          "data": {
            "text/plain": [
              "[tensor([[0.1642, 0.2768, 0.1338, 0.4252],\n",
              "         [0.1633, 0.2772, 0.1331, 0.4264],\n",
              "         [0.1634, 0.2770, 0.1331, 0.4264],\n",
              "         [0.1623, 0.2776, 0.1324, 0.4276],\n",
              "         [0.1638, 0.2770, 0.1333, 0.4260],\n",
              "         [0.1625, 0.2775, 0.1328, 0.4272],\n",
              "         [0.1620, 0.2778, 0.1324, 0.4277],\n",
              "         [0.1619, 0.2779, 0.1324, 0.4279],\n",
              "         [0.1620, 0.2777, 0.1326, 0.4277],\n",
              "         [0.1621, 0.2777, 0.1324, 0.4277],\n",
              "         [0.1612, 0.2783, 0.1321, 0.4284],\n",
              "         [0.1618, 0.2780, 0.1324, 0.4278],\n",
              "         [0.1623, 0.2777, 0.1325, 0.4276],\n",
              "         [0.1605, 0.2785, 0.1318, 0.4292],\n",
              "         [0.1609, 0.2783, 0.1319, 0.4289],\n",
              "         [0.1658, 0.2760, 0.1354, 0.4228],\n",
              "         [0.1657, 0.2762, 0.1355, 0.4226],\n",
              "         [0.1616, 0.2779, 0.1322, 0.4283],\n",
              "         [0.1617, 0.2778, 0.1320, 0.4285],\n",
              "         [0.1616, 0.2778, 0.1320, 0.4286],\n",
              "         [0.1609, 0.2782, 0.1318, 0.4291],\n",
              "         [0.1619, 0.2777, 0.1321, 0.4283],\n",
              "         [0.1614, 0.2780, 0.1320, 0.4287],\n",
              "         [0.1611, 0.2781, 0.1319, 0.4289],\n",
              "         [0.1623, 0.2775, 0.1325, 0.4278],\n",
              "         [0.1616, 0.2778, 0.1321, 0.4285],\n",
              "         [0.1618, 0.2777, 0.1321, 0.4284],\n",
              "         [0.1622, 0.2776, 0.1324, 0.4278],\n",
              "         [0.1619, 0.2776, 0.1321, 0.4283],\n",
              "         [0.1618, 0.2779, 0.1322, 0.4281]]),\n",
              " tensor([0, 0, 0, 0, 0, 1, 1, 1, 1, 1, 1, 1, 1, 2, 2, 2, 2, 3, 3, 3, 3, 3, 3, 3,\n",
              "         3, 3, 3, 3, 3, 3])]"
            ]
          },
          "metadata": {
            "tags": []
          },
          "execution_count": 43
        }
      ]
    },
    {
      "metadata": {
        "id": "6pF4Hwx3oR4d",
        "colab_type": "code",
        "outputId": "104754db-87b4-46cf-8ccc-f0de870593ce",
        "colab": {
          "base_uri": "https://localhost:8080/",
          "height": 283
        }
      },
      "cell_type": "code",
      "source": [
        "learner.predict(data)"
      ],
      "execution_count": 0,
      "outputs": [
        {
          "output_type": "error",
          "ename": "AttributeError",
          "evalue": "ignored",
          "traceback": [
            "\u001b[0;31m---------------------------------------------------------------------------\u001b[0m",
            "\u001b[0;31mAttributeError\u001b[0m                            Traceback (most recent call last)",
            "\u001b[0;32m<ipython-input-108-6dfa2e025c4e>\u001b[0m in \u001b[0;36m<module>\u001b[0;34m()\u001b[0m\n\u001b[0;32m----> 1\u001b[0;31m \u001b[0mlearner\u001b[0m\u001b[0;34m.\u001b[0m\u001b[0mpredict\u001b[0m\u001b[0;34m(\u001b[0m\u001b[0mdata\u001b[0m\u001b[0;34m)\u001b[0m\u001b[0;34m\u001b[0m\u001b[0;34m\u001b[0m\u001b[0m\n\u001b[0m",
            "\u001b[0;32m/usr/local/lib/python3.6/dist-packages/fastai/basic_train.py\u001b[0m in \u001b[0;36mpredict\u001b[0;34m(self, img, pbar)\u001b[0m\n\u001b[1;32m    223\u001b[0m         \u001b[0;34m\"Return prect class, label and probabilities for `img`.\"\u001b[0m\u001b[0;34m\u001b[0m\u001b[0;34m\u001b[0m\u001b[0m\n\u001b[1;32m    224\u001b[0m         \u001b[0mds\u001b[0m \u001b[0;34m=\u001b[0m \u001b[0mself\u001b[0m\u001b[0;34m.\u001b[0m\u001b[0mdata\u001b[0m\u001b[0;34m.\u001b[0m\u001b[0msingle_dl\u001b[0m\u001b[0;34m.\u001b[0m\u001b[0mdataset\u001b[0m\u001b[0;34m\u001b[0m\u001b[0;34m\u001b[0m\u001b[0m\n\u001b[0;32m--> 225\u001b[0;31m         \u001b[0mds\u001b[0m\u001b[0;34m.\u001b[0m\u001b[0mset_item\u001b[0m\u001b[0;34m(\u001b[0m\u001b[0mimg\u001b[0m\u001b[0;34m)\u001b[0m\u001b[0;34m\u001b[0m\u001b[0;34m\u001b[0m\u001b[0m\n\u001b[0m\u001b[1;32m    226\u001b[0m         \u001b[0mres\u001b[0m \u001b[0;34m=\u001b[0m \u001b[0mself\u001b[0m\u001b[0;34m.\u001b[0m\u001b[0mpred_batch\u001b[0m\u001b[0;34m(\u001b[0m\u001b[0mds_type\u001b[0m\u001b[0;34m=\u001b[0m\u001b[0mDatasetType\u001b[0m\u001b[0;34m.\u001b[0m\u001b[0mSingle\u001b[0m\u001b[0;34m,\u001b[0m \u001b[0mpbar\u001b[0m\u001b[0;34m=\u001b[0m\u001b[0mpbar\u001b[0m\u001b[0;34m)\u001b[0m\u001b[0;34m\u001b[0m\u001b[0;34m\u001b[0m\u001b[0m\n\u001b[1;32m    227\u001b[0m         \u001b[0mds\u001b[0m\u001b[0;34m.\u001b[0m\u001b[0mclear_item\u001b[0m\u001b[0;34m(\u001b[0m\u001b[0;34m)\u001b[0m\u001b[0;34m\u001b[0m\u001b[0;34m\u001b[0m\u001b[0m\n",
            "\u001b[0;31mAttributeError\u001b[0m: 'TensorDataset' object has no attribute 'set_item'"
          ]
        }
      ]
    },
    {
      "metadata": {
        "id": "QokS_SU5sAs-",
        "colab_type": "text"
      },
      "cell_type": "markdown",
      "source": [
        "#### Training one cycle"
      ]
    },
    {
      "metadata": {
        "id": "nwkS7lQ6Nbq8",
        "colab_type": "code",
        "outputId": "8cde1ed5-5b26-43c9-8ca5-99b0b787952c",
        "colab": {
          "base_uri": "https://localhost:8080/",
          "height": 238
        }
      },
      "cell_type": "code",
      "source": [
        "data = DataBunch(train_dl=train_dl, valid_dl=test_dl, path=path)\n",
        "learner = Learner(data, model, loss_func=loss_func, metrics=accuracy)\n",
        "learner.fit(10, lr=5e-5)"
      ],
      "execution_count": 0,
      "outputs": [
        {
          "output_type": "stream",
          "text": [
            "Total time: 00:03\n",
            "epoch  train_loss  valid_loss  accuracy\n",
            "1      0.003275    0.785197    0.762590  (00:00)\n",
            "2      0.003349    0.800480    0.762590  (00:00)\n",
            "3      0.003107    0.804093    0.762590  (00:00)\n",
            "4      0.002767    0.812344    0.762590  (00:00)\n",
            "5      0.002825    0.806561    0.762590  (00:00)\n",
            "6      0.002692    0.815485    0.755396  (00:00)\n",
            "7      0.002587    0.823958    0.755396  (00:00)\n",
            "8      0.002495    0.824159    0.755396  (00:00)\n",
            "9      0.002463    0.840908    0.755396  (00:00)\n",
            "10     0.002364    0.839903    0.755396  (00:00)\n",
            "\n"
          ],
          "name": "stdout"
        }
      ]
    },
    {
      "metadata": {
        "id": "b8Pcr02Khxsy",
        "colab_type": "code",
        "outputId": "fe0ed6b4-c1e6-424e-88b4-780c223ceb44",
        "colab": {
          "base_uri": "https://localhost:8080/",
          "height": 459
        }
      },
      "cell_type": "code",
      "source": [
        "model.eval()\n",
        "model.train()"
      ],
      "execution_count": 0,
      "outputs": [
        {
          "output_type": "execute_result",
          "data": {
            "text/plain": [
              "LSTMFCN(\n",
              "  (lstm_block): BlockLSTM(\n",
              "    (lstm): LSTM(512, 256)\n",
              "    (dropout): Dropout(p=0.8)\n",
              "  )\n",
              "  (fcn_block): BlockFCN(\n",
              "    (conv1): BlockFCNConv(\n",
              "      (conv): Conv1d(1, 128, kernel_size=(8,), stride=(1,))\n",
              "      (batch_norm): BatchNorm1d(128, eps=0.001, momentum=0.99, affine=True, track_running_stats=True)\n",
              "      (relu): ReLU()\n",
              "    )\n",
              "    (conv2): BlockFCNConv(\n",
              "      (conv): Conv1d(128, 256, kernel_size=(5,), stride=(1,))\n",
              "      (batch_norm): BatchNorm1d(256, eps=0.001, momentum=0.99, affine=True, track_running_stats=True)\n",
              "      (relu): ReLU()\n",
              "    )\n",
              "    (conv3): BlockFCNConv(\n",
              "      (conv): Conv1d(256, 128, kernel_size=(3,), stride=(1,))\n",
              "      (batch_norm): BatchNorm1d(128, eps=0.001, momentum=0.99, affine=True, track_running_stats=True)\n",
              "      (relu): ReLU()\n",
              "    )\n",
              "    (global_pooling): AvgPool1d(kernel_size=(499,), stride=(499,), padding=(0,))\n",
              "  )\n",
              "  (dense): Linear(in_features=384, out_features=2, bias=True)\n",
              "  (softmax): LogSoftmax()\n",
              ")"
            ]
          },
          "metadata": {
            "tags": []
          },
          "execution_count": 201
        }
      ]
    },
    {
      "metadata": {
        "id": "mTTetDTNVH-p",
        "colab_type": "code",
        "colab": {}
      },
      "cell_type": "code",
      "source": [
        ""
      ],
      "execution_count": 0,
      "outputs": []
    }
  ]
}