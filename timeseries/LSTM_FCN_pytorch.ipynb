{
  "nbformat": 4,
  "nbformat_minor": 0,
  "metadata": {
    "colab": {
      "name": "LSTM-FCN-pytorch.ipynb",
      "version": "0.3.2",
      "provenance": [],
      "collapsed_sections": []
    },
    "kernelspec": {
      "name": "python3",
      "display_name": "Python 3"
    },
    "accelerator": "GPU"
  },
  "cells": [
    {
      "metadata": {
        "id": "NreY7BzeqHVd",
        "colab_type": "code",
        "outputId": "f8892cbd-955c-4a3f-a2c5-273ac532c17c",
        "colab": {
          "base_uri": "https://localhost:8080/",
          "height": 1431
        }
      },
      "cell_type": "code",
      "source": [
        "!curl https://course-v3.fast.ai/setup/colab | bash"
      ],
      "execution_count": 1,
      "outputs": [
        {
          "output_type": "stream",
          "text": [
            "  % Total    % Received % Xferd  Average Speed   Time    Time     Time  Current\n",
            "                                 Dload  Upload   Total   Spent    Left  Speed\n",
            "100   665  100   665    0     0    506      0  0:00:01  0:00:01 --:--:--   506\n",
            "Collecting pillow==4.1.1\n",
            "\u001b[?25l  Downloading https://files.pythonhosted.org/packages/36/e5/88b3d60924a3f8476fa74ec086f5fbaba56dd6cee0d82845f883b6b6dd18/Pillow-4.1.1-cp36-cp36m-manylinux1_x86_64.whl (5.7MB)\n",
            "\u001b[K    100% |████████████████████████████████| 5.7MB 7.0MB/s \n",
            "\u001b[?25hRequirement already satisfied, skipping upgrade: olefile in /usr/local/lib/python3.6/dist-packages (from pillow==4.1.1) (0.46)\n",
            "Installing collected packages: pillow\n",
            "  Found existing installation: Pillow 4.0.0\n",
            "    Uninstalling Pillow-4.0.0:\n",
            "      Successfully uninstalled Pillow-4.0.0\n",
            "Successfully installed pillow-4.1.1\n",
            "Looking in links: https://download.pytorch.org/whl/nightly/cu92/torch_nightly.html\n",
            "Collecting torch_nightly\n",
            "\u001b[?25l  Downloading https://download.pytorch.org/whl/nightly/cu92/torch_nightly-1.0.0.dev20181126-cp36-cp36m-linux_x86_64.whl (576.5MB)\n",
            "\u001b[K    100% |████████████████████████████████| 576.5MB 28kB/s \n",
            "tcmalloc: large alloc 1073750016 bytes == 0x62222000 @  0x7f95ebd552a4 0x591a07 0x5b5d56 0x502e9a 0x506859 0x502209 0x502f3d 0x506859 0x504c28 0x502540 0x502f3d 0x506859 0x504c28 0x502540 0x502f3d 0x506859 0x504c28 0x502540 0x502f3d 0x507641 0x502209 0x502f3d 0x506859 0x504c28 0x502540 0x502f3d 0x507641 0x504c28 0x502540 0x502f3d 0x507641\n",
            "\u001b[?25hInstalling collected packages: torch-nightly\n",
            "Successfully installed torch-nightly-1.0.0.dev20181126\n",
            "Cloning into 'course-v3'...\n",
            "remote: Enumerating objects: 5, done.\u001b[K\n",
            "remote: Counting objects: 100% (5/5), done.\u001b[K\n",
            "remote: Compressing objects: 100% (5/5), done.\u001b[K\n",
            "remote: Total 2455 (delta 0), reused 3 (delta 0), pack-reused 2450\u001b[K\n",
            "Receiving objects: 100% (2455/2455), 59.35 MiB | 9.86 MiB/s, done.\n",
            "Resolving deltas: 100% (1338/1338), done.\n",
            "Collecting fastai\n",
            "\u001b[?25l  Downloading https://files.pythonhosted.org/packages/9a/fe/9686231cc2ed81a7096abda19d93ca43532d7b130a12d1ada8746ba75e72/fastai-1.0.28-py3-none-any.whl (120kB)\n",
            "\u001b[K    100% |████████████████████████████████| 122kB 3.9MB/s \n",
            "\u001b[?25hCollecting torchvision-nightly (from fastai)\n",
            "\u001b[?25l  Downloading https://files.pythonhosted.org/packages/ca/bd/d0f9a33c81c79710eb7ee428b66869b49a8be16c7f1e446c211a7fbfb7be/torchvision_nightly-0.2.1-py2.py3-none-any.whl (54kB)\n",
            "\u001b[K    100% |████████████████████████████████| 61kB 15.3MB/s \n",
            "\u001b[?25hRequirement already satisfied, skipping upgrade: thinc==6.12.0 in /usr/local/lib/python3.6/dist-packages (from fastai) (6.12.0)\n",
            "Requirement already satisfied, skipping upgrade: spacy==2.0.16 in /usr/local/lib/python3.6/dist-packages (from fastai) (2.0.16)\n",
            "Collecting dataclasses (from fastai)\n",
            "  Downloading https://files.pythonhosted.org/packages/26/2f/1095cdc2868052dd1e64520f7c0d5c8c550ad297e944e641dbf1ffbb9a5d/dataclasses-0.6-py3-none-any.whl\n",
            "Requirement already satisfied, skipping upgrade: requests in /usr/local/lib/python3.6/dist-packages (from fastai) (2.18.4)\n",
            "Collecting fastprogress>=0.1.15 (from fastai)\n",
            "  Downloading https://files.pythonhosted.org/packages/dc/b8/7ce2b3c6f886f5cb1b16e62d368456b4fdb7e16bba962571bc50dae49b30/fastprogress-0.1.15-py3-none-any.whl\n",
            "Requirement already satisfied, skipping upgrade: typing in /usr/local/lib/python3.6/dist-packages (from fastai) (3.6.6)\n",
            "Requirement already satisfied, skipping upgrade: pyyaml in /usr/local/lib/python3.6/dist-packages (from fastai) (3.13)\n",
            "Requirement already satisfied, skipping upgrade: pandas in /usr/local/lib/python3.6/dist-packages (from fastai) (0.22.0)\n",
            "Collecting bottleneck (from fastai)\n",
            "\u001b[?25l  Downloading https://files.pythonhosted.org/packages/05/ae/cedf5323f398ab4e4ff92d6c431a3e1c6a186f9b41ab3e8258dff786a290/Bottleneck-1.2.1.tar.gz (105kB)\n",
            "\u001b[K    100% |████████████████████████████████| 112kB 31.2MB/s \n",
            "\u001b[?25hRequirement already satisfied, skipping upgrade: scipy in /usr/local/lib/python3.6/dist-packages (from fastai) (1.1.0)\n",
            "Collecting numexpr (from fastai)\n",
            "\u001b[?25l  Downloading https://files.pythonhosted.org/packages/db/ea/efd9e16283637eb5b6c0042b6cc3521f1b9a5b47767ac463c88bbd37670c/numexpr-2.6.8-cp36-cp36m-manylinux1_x86_64.whl (162kB)\n",
            "\u001b[K    100% |████████████████████████████████| 163kB 9.0MB/s \n",
            "\u001b[?25hRequirement already satisfied, skipping upgrade: cymem==2.0.2 in /usr/local/lib/python3.6/dist-packages (from fastai) (2.0.2)\n",
            "Requirement already satisfied, skipping upgrade: matplotlib in /usr/local/lib/python3.6/dist-packages (from fastai) (2.1.2)\n",
            "Requirement already satisfied, skipping upgrade: regex in /usr/local/lib/python3.6/dist-packages (from fastai) (2018.1.10)\n",
            "Requirement already satisfied, skipping upgrade: Pillow in /usr/local/lib/python3.6/dist-packages (from fastai) (4.1.1)\n",
            "Requirement already satisfied, skipping upgrade: numpy>=1.12 in /usr/local/lib/python3.6/dist-packages (from fastai) (1.14.6)\n",
            "Requirement already satisfied, skipping upgrade: six in /usr/local/lib/python3.6/dist-packages (from torchvision-nightly->fastai) (1.11.0)\n",
            "Requirement already satisfied, skipping upgrade: tqdm in /usr/local/lib/python3.6/dist-packages (from torchvision-nightly->fastai) (4.28.1)\n",
            "Requirement already satisfied, skipping upgrade: msgpack<1.0.0,>=0.5.6 in /usr/local/lib/python3.6/dist-packages (from thinc==6.12.0->fastai) (0.5.6)\n",
            "Requirement already satisfied, skipping upgrade: dill<0.3.0,>=0.2.7 in /usr/local/lib/python3.6/dist-packages (from thinc==6.12.0->fastai) (0.2.8.2)\n",
            "Requirement already satisfied, skipping upgrade: msgpack-numpy<0.4.4.0 in /usr/local/lib/python3.6/dist-packages (from thinc==6.12.0->fastai) (0.4.3.2)\n",
            "Requirement already satisfied, skipping upgrade: cytoolz<0.10,>=0.9.0 in /usr/local/lib/python3.6/dist-packages (from thinc==6.12.0->fastai) (0.9.0.1)\n",
            "Requirement already satisfied, skipping upgrade: plac<1.0.0,>=0.9.6 in /usr/local/lib/python3.6/dist-packages (from thinc==6.12.0->fastai) (0.9.6)\n",
            "Requirement already satisfied, skipping upgrade: preshed<3.0.0,>=2.0.1 in /usr/local/lib/python3.6/dist-packages (from thinc==6.12.0->fastai) (2.0.1)\n",
            "Requirement already satisfied, skipping upgrade: murmurhash<1.1.0,>=0.28.0 in /usr/local/lib/python3.6/dist-packages (from thinc==6.12.0->fastai) (1.0.1)\n",
            "Requirement already satisfied, skipping upgrade: wrapt<1.11.0,>=1.10.0 in /usr/local/lib/python3.6/dist-packages (from thinc==6.12.0->fastai) (1.10.11)\n",
            "Requirement already satisfied, skipping upgrade: ujson>=1.35 in /usr/local/lib/python3.6/dist-packages (from spacy==2.0.16->fastai) (1.35)\n",
            "Requirement already satisfied, skipping upgrade: idna<2.7,>=2.5 in /usr/local/lib/python3.6/dist-packages (from requests->fastai) (2.6)\n",
            "Requirement already satisfied, skipping upgrade: urllib3<1.23,>=1.21.1 in /usr/local/lib/python3.6/dist-packages (from requests->fastai) (1.22)\n",
            "Requirement already satisfied, skipping upgrade: chardet<3.1.0,>=3.0.2 in /usr/local/lib/python3.6/dist-packages (from requests->fastai) (3.0.4)\n",
            "Requirement already satisfied, skipping upgrade: certifi>=2017.4.17 in /usr/local/lib/python3.6/dist-packages (from requests->fastai) (2018.10.15)\n",
            "Requirement already satisfied, skipping upgrade: python-dateutil>=2 in /usr/local/lib/python3.6/dist-packages (from pandas->fastai) (2.5.3)\n",
            "Requirement already satisfied, skipping upgrade: pytz>=2011k in /usr/local/lib/python3.6/dist-packages (from pandas->fastai) (2018.7)\n",
            "Requirement already satisfied, skipping upgrade: cycler>=0.10 in /usr/local/lib/python3.6/dist-packages (from matplotlib->fastai) (0.10.0)\n",
            "Requirement already satisfied, skipping upgrade: pyparsing!=2.0.4,!=2.1.2,!=2.1.6,>=2.0.1 in /usr/local/lib/python3.6/dist-packages (from matplotlib->fastai) (2.3.0)\n",
            "Requirement already satisfied, skipping upgrade: olefile in /usr/local/lib/python3.6/dist-packages (from Pillow->fastai) (0.46)\n",
            "Requirement already satisfied, skipping upgrade: toolz>=0.8.0 in /usr/local/lib/python3.6/dist-packages (from cytoolz<0.10,>=0.9.0->thinc==6.12.0->fastai) (0.9.0)\n",
            "Building wheels for collected packages: bottleneck\n",
            "  Running setup.py bdist_wheel for bottleneck ... \u001b[?25l-\b \b\\\b \b|\b \b/\b \b-\b \b\\\b \b|\b \b/\b \bdone\n",
            "\u001b[?25h  Stored in directory: /root/.cache/pip/wheels/f2/bf/ec/e0f39aa27001525ad455139ee57ec7d0776fe074dfd78c97e4\n",
            "Successfully built bottleneck\n",
            "Installing collected packages: torchvision-nightly, dataclasses, fastprogress, bottleneck, numexpr, fastai\n",
            "Successfully installed bottleneck-1.2.1 dataclasses-0.6 fastai-1.0.28 fastprogress-0.1.15 numexpr-2.6.8 torchvision-nightly-0.2.1\n",
            "Already up to date.\n"
          ],
          "name": "stdout"
        }
      ]
    },
    {
      "metadata": {
        "id": "CKP2ikW1ngNl",
        "colab_type": "code",
        "colab": {}
      },
      "cell_type": "code",
      "source": [
        "%reload_ext autoreload\n",
        "%autoreload 2\n",
        "%matplotlib inline"
      ],
      "execution_count": 0,
      "outputs": []
    },
    {
      "metadata": {
        "id": "OblomiW9n4bg",
        "colab_type": "code",
        "colab": {}
      },
      "cell_type": "code",
      "source": [
        "import pathlib\n",
        "import numpy as np\n",
        "\n",
        "\n",
        "import torch\n",
        "import torch.nn as nn\n",
        "import torch.nn.functional as F\n",
        "from torch.utils.data import TensorDataset, DataLoader\n",
        "\n",
        "import matplotlib.pyplot as plt\n",
        "\n",
        "from tqdm import tqdm\n",
        "\n",
        "from fastai import *"
      ],
      "execution_count": 0,
      "outputs": []
    },
    {
      "metadata": {
        "id": "pEwnf-gdntsa",
        "colab_type": "code",
        "outputId": "1158ff87-101c-459b-ac20-691ac29d1baf",
        "colab": {
          "base_uri": "https://localhost:8080/",
          "height": 68
        }
      },
      "cell_type": "code",
      "source": [
        "!curl -O http://www.timeseriesclassification.com/Downloads/Earthquakes.zip"
      ],
      "execution_count": 4,
      "outputs": [
        {
          "output_type": "stream",
          "text": [
            "  % Total    % Received % Xferd  Average Speed   Time    Time     Time  Current\n",
            "                                 Dload  Upload   Total   Spent    Left  Speed\n",
            "100  516k  100  516k    0     0   136k      0  0:00:03  0:00:03 --:--:--  136k\n"
          ],
          "name": "stdout"
        }
      ]
    },
    {
      "metadata": {
        "id": "Qsr9wx88nyRG",
        "colab_type": "code",
        "outputId": "de12638d-31c5-450c-f72e-f85e0ab2a1e7",
        "colab": {
          "base_uri": "https://localhost:8080/",
          "height": 119
        }
      },
      "cell_type": "code",
      "source": [
        "!unzip Earthquakes.zip"
      ],
      "execution_count": 5,
      "outputs": [
        {
          "output_type": "stream",
          "text": [
            "Archive:  Earthquakes.zip\n",
            "  inflating: Earthquakes.txt         \n",
            "  inflating: Earthquakes_TEST.arff   \n",
            "  inflating: Earthquakes_TEST.txt    \n",
            "  inflating: Earthquakes_TRAIN.arff  \n",
            "  inflating: Earthquakes_TRAIN.txt   \n"
          ],
          "name": "stdout"
        }
      ]
    },
    {
      "metadata": {
        "id": "onhUsHlhsWvc",
        "colab_type": "code",
        "colab": {}
      },
      "cell_type": "code",
      "source": [
        "bs = 64"
      ],
      "execution_count": 0,
      "outputs": []
    },
    {
      "metadata": {
        "id": "O1pj6M8Vn-0D",
        "colab_type": "code",
        "colab": {}
      },
      "cell_type": "code",
      "source": [
        "DATASET = 'Earthquakes'\n",
        "classes = 2"
      ],
      "execution_count": 0,
      "outputs": []
    },
    {
      "metadata": {
        "id": "9EMN9yFin1cW",
        "colab_type": "code",
        "colab": {}
      },
      "cell_type": "code",
      "source": [
        "path = pathlib.Path('')"
      ],
      "execution_count": 0,
      "outputs": []
    },
    {
      "metadata": {
        "id": "tDncQ40aHJkX",
        "colab_type": "code",
        "colab": {}
      },
      "cell_type": "code",
      "source": [
        "def one_hot_encode(input, labels):\n",
        "    m = input.shape[0]\n",
        "    output = np.zeros((m, labels), dtype=int)\n",
        "    row_index = np.arange(m)\n",
        "    output[row_index, input] = 1\n",
        "    return output\n",
        "\n",
        "def split_xy(data, classes):\n",
        "    X = data[:, 1:]\n",
        "    y = data[:, 0].astype(int)\n",
        "    # hot encode\n",
        "    #y = one_hot_encode(y, classes)\n",
        "    return X, y\n",
        "\n",
        "def create_dataset(X, y, device):\n",
        "    X_tensor = torch.tensor(X, dtype=torch.float32, device=device)\n",
        "    y_tensor = torch.tensor(y, dtype=torch.long, device=device)\n",
        "    return TensorDataset(X_tensor, y_tensor)\n",
        "\n",
        "def load_data(path, classes):\n",
        "    data = np.loadtxt(path)\n",
        "    return split_xy(data, classes)\n",
        "    "
      ],
      "execution_count": 0,
      "outputs": []
    },
    {
      "metadata": {
        "id": "jNG4E5F-Tpcf",
        "colab_type": "text"
      },
      "cell_type": "markdown",
      "source": [
        "The outputs of the model should be of size (minibatch, C). On the other hand the target `y` should contain the indices of the classes."
      ]
    },
    {
      "metadata": {
        "id": "A69YvILXoA5e",
        "colab_type": "code",
        "colab": {}
      },
      "cell_type": "code",
      "source": [
        "# load training dataset\n",
        "X_train, y_train = load_data(path/'Earthquakes_TRAIN.txt', classes) \n",
        "\n",
        "# load testing dataset\n",
        "X_test, y_test = load_data(path/'Earthquakes_TEST.txt', classes)"
      ],
      "execution_count": 0,
      "outputs": []
    },
    {
      "metadata": {
        "id": "OOrCEhRicN27",
        "colab_type": "code",
        "outputId": "5b011a23-3eab-469f-c39c-1873b1e2f48f",
        "colab": {
          "base_uri": "https://localhost:8080/",
          "height": 51
        }
      },
      "cell_type": "code",
      "source": [
        "print('X_train %s   y_train %s' % (X_train.shape, y_train.shape))\n",
        "print('X_test  %s   y_test  %s' % (X_test.shape, y_test.shape))"
      ],
      "execution_count": 11,
      "outputs": [
        {
          "output_type": "stream",
          "text": [
            "X_train (322, 512)   y_train (322,)\n",
            "X_test  (139, 512)   y_test  (139,)\n"
          ],
          "name": "stdout"
        }
      ]
    },
    {
      "metadata": {
        "id": "MWAHekuN7mqq",
        "colab_type": "text"
      },
      "cell_type": "markdown",
      "source": [
        "As the classes are imbalanced, get the count for each class, to use later in the sampling"
      ]
    },
    {
      "metadata": {
        "id": "tQ4U0nAa7RV3",
        "colab_type": "code",
        "outputId": "25eec6a7-1524-41d3-b08a-6183c1f7c1ec",
        "colab": {
          "base_uri": "https://localhost:8080/",
          "height": 34
        }
      },
      "cell_type": "code",
      "source": [
        "class_0_count = (y_train==0).sum()\n",
        "class_1_count = (y_train==1).sum()\n",
        "\n",
        "class_0_count, class_1_count"
      ],
      "execution_count": 12,
      "outputs": [
        {
          "output_type": "execute_result",
          "data": {
            "text/plain": [
              "(264, 58)"
            ]
          },
          "metadata": {
            "tags": []
          },
          "execution_count": 12
        }
      ]
    },
    {
      "metadata": {
        "id": "9307nee9rz4Y",
        "colab_type": "text"
      },
      "cell_type": "markdown",
      "source": [
        "load the numpy training and test sets into pytorch Dataset object"
      ]
    },
    {
      "metadata": {
        "id": "gmqg-MVhaHFY",
        "colab_type": "code",
        "colab": {}
      },
      "cell_type": "code",
      "source": [
        "cuda = torch.device('cuda')     # Default CUDA device"
      ],
      "execution_count": 0,
      "outputs": []
    },
    {
      "metadata": {
        "id": "1Wqt26B1oD_g",
        "colab_type": "code",
        "colab": {}
      },
      "cell_type": "code",
      "source": [
        "train_ds = create_dataset(X_train, y_train, cuda)\n",
        "test_ds  = create_dataset(X_test, y_test, cuda)"
      ],
      "execution_count": 0,
      "outputs": []
    },
    {
      "metadata": {
        "id": "2uSDLS9-sBYl",
        "colab_type": "text"
      },
      "cell_type": "markdown",
      "source": [
        "pass the Dataset objects into a DataLoader"
      ]
    },
    {
      "metadata": {
        "id": "DVMtIjJl6jcr",
        "colab_type": "code",
        "outputId": "910af72f-05dc-4cba-8b65-4de91043350d",
        "colab": {
          "base_uri": "https://localhost:8080/",
          "height": 71
        }
      },
      "cell_type": "code",
      "source": [
        "class_sample_count = [class_0_count, class_1_count] # dataset has 10 class-1 samples, 1 class-2 samples, etc.\n",
        "weights = 1 / torch.Tensor(class_sample_count)\n",
        "sampler = torch.utils.data.sampler.WeightedRandomSampler(weights, bs)"
      ],
      "execution_count": 15,
      "outputs": [
        {
          "output_type": "stream",
          "text": [
            "/usr/local/lib/python3.6/dist-packages/torch/utils/data/sampler.py:115: UserWarning: To copy construct from a tensor, it is recommended to use sourceTensor.clone().detach() or sourceTensor.clone().detach().requires_grad_(True), rather than torch.tensor(sourceTensor).\n",
            "  self.weights = torch.tensor(weights, dtype=torch.double)\n"
          ],
          "name": "stderr"
        }
      ]
    },
    {
      "metadata": {
        "id": "5rckvuLErUGq",
        "colab_type": "code",
        "colab": {}
      },
      "cell_type": "code",
      "source": [
        "train_dl = DataLoader(train_ds, batch_size=bs, shuffle=False)#, sampler = sampler)\n",
        "test_dl = DataLoader(test_ds, batch_size=bs, shuffle=False)"
      ],
      "execution_count": 0,
      "outputs": []
    },
    {
      "metadata": {
        "id": "3A86zi48tdPG",
        "colab_type": "text"
      },
      "cell_type": "markdown",
      "source": [
        "## LSTM-FCN\n",
        "### LSMT block\n",
        "A shuffle layer + LSTM layer + Dropout layer"
      ]
    },
    {
      "metadata": {
        "id": "JDYfUKc8tQhu",
        "colab_type": "code",
        "colab": {}
      },
      "cell_type": "code",
      "source": [
        "class BlockLSTM(nn.Module):\n",
        "    def __init__(self, time_steps, num_layers, lstm_hs, dropout=0.8, attention=False):\n",
        "        super().__init__()\n",
        "        self.lstm = nn.LSTM(input_size=time_steps, hidden_size=lstm_hs, num_layers=num_layers)\n",
        "        self.dropout = nn.Dropout(p=dropout)\n",
        "    def forward(self, x):\n",
        "        # input is of the form (batch_size, num_layers, time_steps), e.g. (128, 1, 512)\n",
        "        x = torch.transpose(x, 0, 1)\n",
        "        # lstm layer is of the form (num_layers, batch_size, time_steps)\n",
        "        x, (h_n, c_n) = self.lstm(x)\n",
        "        # dropout layer input shape (Sequence Length, Batch Size, Hidden Size * Num Directions)\n",
        "        y = self.dropout(x)\n",
        "        # output shape is same as Dropout intput\n",
        "        return y"
      ],
      "execution_count": 0,
      "outputs": []
    },
    {
      "metadata": {
        "id": "PskMJhzL8_Ao",
        "colab_type": "text"
      },
      "cell_type": "markdown",
      "source": [
        "### FCN block\n",
        "\n",
        "#### Convolutional block"
      ]
    },
    {
      "metadata": {
        "id": "4oam7px91HYa",
        "colab_type": "code",
        "colab": {}
      },
      "cell_type": "code",
      "source": [
        "class BlockFCNConv(nn.Module):\n",
        "    def __init__(self, in_channel=1, out_channel=128, kernel_size=8, momentum=0.99, epsilon=0.001, squeeze=False):\n",
        "        super().__init__()\n",
        "        self.conv = nn.Conv1d(in_channel, out_channel, kernel_size=kernel_size)\n",
        "        self.batch_norm = nn.BatchNorm1d(num_features=out_channel, eps=epsilon, momentum=momentum)\n",
        "        self.relu = nn.ReLU()\n",
        "    def forward(self, x):\n",
        "        # input (batch_size, num_variables, time_steps), e.g. (128, 1, 512)\n",
        "        x = self.conv(x)\n",
        "        # input (batch_size, out_channel, L_out)\n",
        "        x = self.batch_norm(x)\n",
        "        # same shape as input\n",
        "        y = self.relu(x)\n",
        "        return y"
      ],
      "execution_count": 0,
      "outputs": []
    },
    {
      "metadata": {
        "id": "sxIcU-lx9GeV",
        "colab_type": "text"
      },
      "cell_type": "markdown",
      "source": [
        "#### FCN block"
      ]
    },
    {
      "metadata": {
        "id": "lNDU3Mij89dR",
        "colab_type": "code",
        "colab": {}
      },
      "cell_type": "code",
      "source": [
        "class BlockFCN(nn.Module):\n",
        "    def __init__(self, time_steps, channels=[1, 128, 256, 128], kernels=[8, 5, 3], mom=0.99, eps=0.001):\n",
        "        super().__init__()\n",
        "        self.conv1 = BlockFCNConv(channels[0], channels[1], kernels[0], momentum=mom, epsilon=eps, squeeze=True)\n",
        "        self.conv2 = BlockFCNConv(channels[1], channels[2], kernels[1], momentum=mom, epsilon=eps, squeeze=True)\n",
        "        self.conv3 = BlockFCNConv(channels[2], channels[3], kernels[2], momentum=mom, epsilon=eps)\n",
        "        output_size = time_steps - sum(kernels) + len(kernels)\n",
        "        self.global_pooling = nn.AvgPool1d(kernel_size=output_size)\n",
        "    def forward(self, x):\n",
        "        x = self.conv1(x)\n",
        "        x = self.conv2(x)\n",
        "        x = self.conv3(x)\n",
        "        # apply Global Average Pooling 1D\n",
        "        y = self.global_pooling(x)\n",
        "        return y"
      ],
      "execution_count": 0,
      "outputs": []
    },
    {
      "metadata": {
        "id": "mFYGCNCqPQfq",
        "colab_type": "text"
      },
      "cell_type": "markdown",
      "source": [
        "### LSTM-FCN"
      ]
    },
    {
      "metadata": {
        "id": "QQznEOKCKygx",
        "colab_type": "code",
        "colab": {}
      },
      "cell_type": "code",
      "source": [
        "class LSTMFCN(nn.Module):\n",
        "    def __init__(self, time_steps, num_variables=1, lstm_hs=256, channels=[1, 128, 256, 128]):\n",
        "        super().__init__()\n",
        "        self.lstm_block = BlockLSTM(time_steps, 1, lstm_hs)\n",
        "        self.fcn_block = BlockFCN(time_steps)\n",
        "        self.dense = nn.Linear(channels[-1] + lstm_hs, num_variables)\n",
        "        self.softmax = nn.LogSoftmax(dim=1) #nn.Softmax(dim=1)\n",
        "    def forward(self, x):\n",
        "        # input is (batch_size, time_steps), it has to be (batch_size, 1, time_steps)\n",
        "        x = x.unsqueeze(1)\n",
        "        # pass input through LSTM block\n",
        "        x1 = self.lstm_block(x)\n",
        "        x1 = torch.squeeze(x1)\n",
        "        # pass input through FCN block\n",
        "        x2 = self.fcn_block(x)\n",
        "        x2 = torch.squeeze(x2)\n",
        "        # concatenate blocks output\n",
        "        x = torch.cat([x1, x2], 1)\n",
        "        # pass through Linear layer\n",
        "        x = self.dense(x)\n",
        "        #x = torch.squeeze(x)\n",
        "        # pass through Softmax activation\n",
        "        y = self.softmax(x)\n",
        "        return y"
      ],
      "execution_count": 0,
      "outputs": []
    },
    {
      "metadata": {
        "id": "ZXyATnq7WOKq",
        "colab_type": "text"
      },
      "cell_type": "markdown",
      "source": [
        "## Training"
      ]
    },
    {
      "metadata": {
        "id": "BCHDSTVzRKGR",
        "colab_type": "code",
        "outputId": "40bd7700-7afb-439e-98c2-6b2df632ae39",
        "colab": {
          "base_uri": "https://localhost:8080/",
          "height": 34
        }
      },
      "cell_type": "code",
      "source": [
        "time_steps = X_train.shape[1]\n",
        "num_variables = classes\n",
        "\n",
        "time_steps, num_variables"
      ],
      "execution_count": 21,
      "outputs": [
        {
          "output_type": "execute_result",
          "data": {
            "text/plain": [
              "(512, 2)"
            ]
          },
          "metadata": {
            "tags": []
          },
          "execution_count": 21
        }
      ]
    },
    {
      "metadata": {
        "id": "i9eJ3zlrWV7A",
        "colab_type": "code",
        "colab": {}
      },
      "cell_type": "code",
      "source": [
        "model = LSTMFCN(time_steps, num_variables).cuda()"
      ],
      "execution_count": 0,
      "outputs": []
    },
    {
      "metadata": {
        "id": "b27y39-dh0Ik",
        "colab_type": "text"
      },
      "cell_type": "markdown",
      "source": [
        "look at the different blocks of the Model"
      ]
    },
    {
      "metadata": {
        "id": "i0c4x4NViexX",
        "colab_type": "code",
        "outputId": "8d3e6339-99ff-4245-a2b4-4e8b34e9d908",
        "colab": {
          "base_uri": "https://localhost:8080/",
          "height": 391
        }
      },
      "cell_type": "code",
      "source": [
        "# model summary\n",
        "for m in model.children():\n",
        "    print(m.training)#, m)\n",
        "    for j in m.children():\n",
        "        print(j.training, j)"
      ],
      "execution_count": 23,
      "outputs": [
        {
          "output_type": "stream",
          "text": [
            "True\n",
            "True LSTM(512, 256)\n",
            "True Dropout(p=0.8)\n",
            "True\n",
            "True BlockFCNConv(\n",
            "  (conv): Conv1d(1, 128, kernel_size=(8,), stride=(1,))\n",
            "  (batch_norm): BatchNorm1d(128, eps=0.001, momentum=0.99, affine=True, track_running_stats=True)\n",
            "  (relu): ReLU()\n",
            ")\n",
            "True BlockFCNConv(\n",
            "  (conv): Conv1d(128, 256, kernel_size=(5,), stride=(1,))\n",
            "  (batch_norm): BatchNorm1d(256, eps=0.001, momentum=0.99, affine=True, track_running_stats=True)\n",
            "  (relu): ReLU()\n",
            ")\n",
            "True BlockFCNConv(\n",
            "  (conv): Conv1d(256, 128, kernel_size=(3,), stride=(1,))\n",
            "  (batch_norm): BatchNorm1d(128, eps=0.001, momentum=0.99, affine=True, track_running_stats=True)\n",
            "  (relu): ReLU()\n",
            ")\n",
            "True AvgPool1d(kernel_size=(499,), stride=(499,), padding=(0,))\n",
            "True\n",
            "True\n"
          ],
          "name": "stdout"
        }
      ]
    },
    {
      "metadata": {
        "id": "xeWqQhn9XPUU",
        "colab_type": "text"
      },
      "cell_type": "markdown",
      "source": [
        "look at the parameters (i.e. weights) in each layer"
      ]
    },
    {
      "metadata": {
        "id": "-F4_pcUqW8He",
        "colab_type": "code",
        "outputId": "995bce86-136f-45dd-f31b-46020ecfbb79",
        "colab": {
          "base_uri": "https://localhost:8080/",
          "height": 323
        }
      },
      "cell_type": "code",
      "source": [
        "[p.shape for p in model.parameters()]"
      ],
      "execution_count": 24,
      "outputs": [
        {
          "output_type": "execute_result",
          "data": {
            "text/plain": [
              "[torch.Size([1024, 512]),\n",
              " torch.Size([1024, 256]),\n",
              " torch.Size([1024]),\n",
              " torch.Size([1024]),\n",
              " torch.Size([128, 1, 8]),\n",
              " torch.Size([128]),\n",
              " torch.Size([128]),\n",
              " torch.Size([128]),\n",
              " torch.Size([256, 128, 5]),\n",
              " torch.Size([256]),\n",
              " torch.Size([256]),\n",
              " torch.Size([256]),\n",
              " torch.Size([128, 256, 3]),\n",
              " torch.Size([128]),\n",
              " torch.Size([128]),\n",
              " torch.Size([128]),\n",
              " torch.Size([2, 384]),\n",
              " torch.Size([2])]"
            ]
          },
          "metadata": {
            "tags": []
          },
          "execution_count": 24
        }
      ]
    },
    {
      "metadata": {
        "id": "vUO4oNKkxAYs",
        "colab_type": "text"
      },
      "cell_type": "markdown",
      "source": [
        "Define a learner class to automate the learning process"
      ]
    },
    {
      "metadata": {
        "id": "RnEiGUWHw_kX",
        "colab_type": "code",
        "colab": {}
      },
      "cell_type": "code",
      "source": [
        "class SimpleLearner():\n",
        "    def __init__(self, data, model, loss_func, wd = 1e-5):\n",
        "        self.data, self.model, self.loss_func = data, model, loss_func\n",
        "        self.wd = wd\n",
        "    \n",
        "    def update_manualgrad(self, x,y,lr):\n",
        "        y_hat = self.model(x)\n",
        "        # weight decay\n",
        "        w2 = 0.\n",
        "        for p in model.parameters(): w2 += (p**2).sum()\n",
        "        # add to regular loss\n",
        "        loss = self.loss_func(y_hat, y) + w2 * self.wd\n",
        "        loss.backward()\n",
        "        with torch.no_grad():\n",
        "            for p in model.parameters():\n",
        "                p.sub_(lr * p.grad)\n",
        "                p.grad.zero_()\n",
        "        return loss.item()\n",
        "\n",
        "    def update(self, x,y,lr):\n",
        "        opt = optim.Adam(self.model.parameters(), lr)\n",
        "        y_hat = self.model(x)\n",
        "        loss = self.loss_func(y_hat, y)\n",
        "        loss.backward()\n",
        "        opt.step()\n",
        "        opt.zero_grad()\n",
        "        return loss.item()\n",
        "\n",
        "    def fit(self, epochs=1, lr=1e-3):\n",
        "        \"\"\"Train the model\"\"\"\n",
        "        losses = []\n",
        "        for i in tqdm(range(epochs)):\n",
        "            for x,y in self.data[0]:\n",
        "                current_loss = self.update(x, y , lr)\n",
        "                losses.append(current_loss)\n",
        "        return losses\n",
        "    \n",
        "    def evaluate(self, X):\n",
        "        \"\"\"Evaluate the given data loader on the model and return predictions\"\"\"\n",
        "        result = None\n",
        "        for x, y in X:\n",
        "            y_hat = self.model(x)\n",
        "            result = y_hat if result is None else np.concatenate((result, y_hat), axis=0)\n",
        "        return result"
      ],
      "execution_count": 0,
      "outputs": []
    },
    {
      "metadata": {
        "id": "61O6OGUTqkoK",
        "colab_type": "code",
        "colab": {}
      },
      "cell_type": "code",
      "source": [
        "model = LSTMFCN(time_steps, num_variables).cuda()"
      ],
      "execution_count": 0,
      "outputs": []
    },
    {
      "metadata": {
        "id": "txh5ujbKXhuz",
        "colab_type": "text"
      },
      "cell_type": "markdown",
      "source": [
        "train the model using the DataLoader"
      ]
    },
    {
      "metadata": {
        "id": "GMAfJH9KAY0h",
        "colab_type": "code",
        "colab": {}
      },
      "cell_type": "code",
      "source": [
        "# depending on the number of classes, use a Binary Cross Entropy or a Negative Log Likelihood loss for more than two classes\n",
        "loss_func = nn.NLLLoss().cuda() # weight=weights\n",
        "acc_func = accuracy_thresh"
      ],
      "execution_count": 0,
      "outputs": []
    },
    {
      "metadata": {
        "id": "xxVx2A1pXtuY",
        "colab_type": "code",
        "outputId": "f022dd0d-aa6b-4135-eaf7-ca720e8ffcda",
        "colab": {
          "base_uri": "https://localhost:8080/",
          "height": 34
        }
      },
      "cell_type": "code",
      "source": [
        "lr = 2e-2\n",
        "learner = SimpleLearner([train_dl, test_dl], model, loss_func)\n",
        "losses = learner.fit(10)"
      ],
      "execution_count": 73,
      "outputs": [
        {
          "output_type": "stream",
          "text": [
            "100%|██████████| 10/10 [00:02<00:00,  3.96it/s]\n"
          ],
          "name": "stderr"
        }
      ]
    },
    {
      "metadata": {
        "id": "4W1s1mql_ELt",
        "colab_type": "code",
        "outputId": "a26bf9f1-957f-4405-9078-8d2e261bd892",
        "colab": {
          "base_uri": "https://localhost:8080/",
          "height": 283
        }
      },
      "cell_type": "code",
      "source": [
        "plt.plot(losses)"
      ],
      "execution_count": 74,
      "outputs": [
        {
          "output_type": "execute_result",
          "data": {
            "text/plain": [
              "[<matplotlib.lines.Line2D at 0x7ff4780fde10>]"
            ]
          },
          "metadata": {
            "tags": []
          },
          "execution_count": 74
        },
        {
          "output_type": "display_data",
          "data": {
            "image/png": "[encoded data removed]",
            "text/plain": [
              "<matplotlib.figure.Figure at 0x7ff47ca75400>"
            ]
          },
          "metadata": {
            "tags": []
          }
        }
      ]
    },
    {
      "metadata": {
        "id": "XyvN_-cSmWPx",
        "colab_type": "code",
        "colab": {}
      },
      "cell_type": "code",
      "source": [
        "y_pred = learner.evaluate(test_dl)"
      ],
      "execution_count": 0,
      "outputs": []
    },
    {
      "metadata": {
        "id": "HiVoIWUqp268",
        "colab_type": "code",
        "colab": {
          "base_uri": "https://localhost:8080/",
          "height": 34
        },
        "outputId": "5f209ce0-070c-48b4-8501-8c848c02ece2"
      },
      "cell_type": "code",
      "source": [
        "((y_test - y_pred.argmax(axis=1))**2).mean()"
      ],
      "execution_count": 82,
      "outputs": [
        {
          "output_type": "execute_result",
          "data": {
            "text/plain": [
              "0.2517985611510791"
            ]
          },
          "metadata": {
            "tags": []
          },
          "execution_count": 82
        }
      ]
    },
    {
      "metadata": {
        "id": "jEA7dKEUmP_e",
        "colab_type": "text"
      },
      "cell_type": "markdown",
      "source": [
        "#### Training with fastai"
      ]
    },
    {
      "metadata": {
        "id": "r3LLF5X9mPJ5",
        "colab_type": "code",
        "colab": {}
      },
      "cell_type": "code",
      "source": [
        "model = LSTMFCN(time_steps, num_variables).cuda()"
      ],
      "execution_count": 0,
      "outputs": []
    },
    {
      "metadata": {
        "id": "IDwkjDH5rXCy",
        "colab_type": "code",
        "colab": {}
      },
      "cell_type": "code",
      "source": [
        "data = DataBunch(train_dl=train_dl, valid_dl=test_dl, path=path)\n",
        "learner = Learner(data, model, loss_func=loss_func, metrics=accuracy)"
      ],
      "execution_count": 0,
      "outputs": []
    },
    {
      "metadata": {
        "id": "Jhv_-NkEknVO",
        "colab_type": "code",
        "outputId": "8e0510fb-6feb-4b91-e6c4-866780c1203f",
        "colab": {
          "base_uri": "https://localhost:8080/",
          "height": 711
        }
      },
      "cell_type": "code",
      "source": [
        "learner.unfreeze()\n",
        "learner.lr_find()\n",
        "learner.recorder.plot()"
      ],
      "execution_count": 85,
      "outputs": [
        {
          "output_type": "display_data",
          "data": {
            "text/html": [
              "\n",
              "    <div>\n",
              "        <style>\n",
              "        \t/* Turns off some styling */\n",
              "        \tprogress {\n",
              "\n",
              "            \t/* gets rid of default border in Firefox and Opera. */\n",
              "            \tborder: none;\n",
              "\n",
              "            \t/* Needs to be in here for Safari polyfill so background images work as expected. */\n",
              "            \tbackground-size: auto;\n",
              "            }\n",
              "\n",
              "            .progress-bar-interrupted, .progress-bar-interrupted::-webkit-progress-bar {\n",
              "                background: #F44336;\n",
              "            }\n",
              "        </style>\n",
              "      <progress value='16' class='' max='17', style='width:300px; height:20px; vertical-align: middle;'></progress>\n",
              "      94.12% [16/17 00:04<00:00]\n",
              "    </div>\n",
              "    \n",
              "<table style='width:300px; margin-bottom:10px'>\n",
              "  <tr>\n",
              "    <th>epoch</th>\n",
              "    <th>train_loss</th>\n",
              "    <th>valid_loss</th>\n",
              "    <th>accuracy</th>\n",
              "  </tr>\n",
              "  <tr>\n",
              "    <th>1</th>\n",
              "    <th>0.693082</th>\n",
              "  </tr>\n",
              "  <tr>\n",
              "    <th>2</th>\n",
              "    <th>0.687579</th>\n",
              "  </tr>\n",
              "  <tr>\n",
              "    <th>3</th>\n",
              "    <th>0.690228</th>\n",
              "  </tr>\n",
              "  <tr>\n",
              "    <th>4</th>\n",
              "    <th>0.690291</th>\n",
              "  </tr>\n",
              "  <tr>\n",
              "    <th>5</th>\n",
              "    <th>0.689257</th>\n",
              "  </tr>\n",
              "  <tr>\n",
              "    <th>6</th>\n",
              "    <th>0.688446</th>\n",
              "  </tr>\n",
              "  <tr>\n",
              "    <th>7</th>\n",
              "    <th>0.681481</th>\n",
              "  </tr>\n",
              "  <tr>\n",
              "    <th>8</th>\n",
              "    <th>0.668675</th>\n",
              "  </tr>\n",
              "  <tr>\n",
              "    <th>9</th>\n",
              "    <th>0.637490</th>\n",
              "  </tr>\n",
              "  <tr>\n",
              "    <th>10</th>\n",
              "    <th>0.593089</th>\n",
              "  </tr>\n",
              "  <tr>\n",
              "    <th>11</th>\n",
              "    <th>0.543345</th>\n",
              "  </tr>\n",
              "  <tr>\n",
              "    <th>12</th>\n",
              "    <th>0.485986</th>\n",
              "  </tr>\n",
              "  <tr>\n",
              "    <th>13</th>\n",
              "    <th>0.439436</th>\n",
              "  </tr>\n",
              "  <tr>\n",
              "    <th>14</th>\n",
              "    <th>0.431389</th>\n",
              "  </tr>\n",
              "  <tr>\n",
              "    <th>15</th>\n",
              "    <th>0.723409</th>\n",
              "  </tr>\n",
              "  <tr>\n",
              "    <th>16</th>\n",
              "    <th>1.657361</th>\n",
              "  </tr>\n",
              "  <tr>\n",
              "\n",
              "  </tr>\n",
              "</table>\n",
              "\n",
              "\n",
              "    <div>\n",
              "        <style>\n",
              "        \t/* Turns off some styling */\n",
              "        \tprogress {\n",
              "\n",
              "            \t/* gets rid of default border in Firefox and Opera. */\n",
              "            \tborder: none;\n",
              "\n",
              "            \t/* Needs to be in here for Safari polyfill so background images work as expected. */\n",
              "            \tbackground-size: auto;\n",
              "            }\n",
              "\n",
              "            .progress-bar-interrupted, .progress-bar-interrupted::-webkit-progress-bar {\n",
              "                background: #F44336;\n",
              "            }\n",
              "        </style>\n",
              "      <progress value='0' class='progress-bar-interrupted' max='6', style='width:300px; height:20px; vertical-align: middle;'></progress>\n",
              "      Interrupted\n",
              "    </div>\n",
              "    "
            ],
            "text/plain": [
              "<IPython.core.display.HTML object>"
            ]
          },
          "metadata": {
            "tags": []
          }
        },
        {
          "output_type": "stream",
          "text": [
            "LR Finder is complete, type {learner_name}.recorder.plot() to see the graph.\n"
          ],
          "name": "stdout"
        },
        {
          "output_type": "display_data",
          "data": {
            "image/png": "[encoded data removed]",
            "text/plain": [
              "<matplotlib.figure.Figure at 0x7ff47c97bd30>"
            ]
          },
          "metadata": {
            "tags": []
          }
        }
      ]
    },
    {
      "metadata": {
        "id": "Lex4Hkn078kn",
        "colab_type": "code",
        "outputId": "550a3a7d-64ea-46c4-b692-0b70e930f5bd",
        "colab": {
          "base_uri": "https://localhost:8080/",
          "height": 238
        }
      },
      "cell_type": "code",
      "source": [
        "learner.fit(10, lr=3e-3)"
      ],
      "execution_count": 86,
      "outputs": [
        {
          "output_type": "stream",
          "text": [
            "Total time: 00:03\n",
            "epoch  train_loss  valid_loss  accuracy\n",
            "1      0.541843    0.532397    0.748201  (00:00)\n",
            "2      0.424915    0.625534    0.748201  (00:00)\n",
            "3      0.364389    0.607573    0.748201  (00:00)\n",
            "4      0.313684    0.621339    0.748201  (00:00)\n",
            "5      0.266761    0.619867    0.748201  (00:00)\n",
            "6      0.226095    0.609760    0.748201  (00:00)\n",
            "7      0.191461    0.615065    0.755396  (00:00)\n",
            "8      0.162049    0.633066    0.755396  (00:00)\n",
            "9      0.137363    0.658546    0.748201  (00:00)\n",
            "10     0.117196    0.679793    0.748201  (00:00)\n",
            "\n"
          ],
          "name": "stdout"
        }
      ]
    },
    {
      "metadata": {
        "id": "lVO2pL6br0n1",
        "colab_type": "code",
        "colab": {
          "base_uri": "https://localhost:8080/",
          "height": 2482
        },
        "outputId": "6b1303f1-c839-4b87-f78b-7738bef867d7"
      },
      "cell_type": "code",
      "source": [
        "learner.get_preds(DatasetType.Valid)"
      ],
      "execution_count": 89,
      "outputs": [
        {
          "output_type": "execute_result",
          "data": {
            "text/plain": [
              "[tensor([[9.9425e-01, 5.7537e-03],\n",
              "         [7.2724e-01, 2.7276e-01],\n",
              "         [9.9526e-01, 4.7443e-03],\n",
              "         [9.9658e-01, 3.4218e-03],\n",
              "         [6.0188e-01, 3.9812e-01],\n",
              "         [9.9603e-01, 3.9694e-03],\n",
              "         [9.8937e-01, 1.0634e-02],\n",
              "         [9.8595e-01, 1.4051e-02],\n",
              "         [6.0619e-01, 3.9381e-01],\n",
              "         [9.5675e-01, 4.3249e-02],\n",
              "         [9.9305e-01, 6.9478e-03],\n",
              "         [9.5982e-01, 4.0185e-02],\n",
              "         [8.4680e-01, 1.5320e-01],\n",
              "         [9.7382e-01, 2.6183e-02],\n",
              "         [9.9200e-01, 8.0023e-03],\n",
              "         [7.2946e-01, 2.7054e-01],\n",
              "         [9.0504e-01, 9.4956e-02],\n",
              "         [9.9728e-01, 2.7198e-03],\n",
              "         [9.6200e-01, 3.7998e-02],\n",
              "         [8.4773e-01, 1.5227e-01],\n",
              "         [8.2070e-01, 1.7930e-01],\n",
              "         [9.9535e-01, 4.6532e-03],\n",
              "         [9.0245e-01, 9.7546e-02],\n",
              "         [9.6488e-01, 3.5121e-02],\n",
              "         [9.6708e-01, 3.2921e-02],\n",
              "         [9.1114e-01, 8.8860e-02],\n",
              "         [6.7380e-01, 3.2620e-01],\n",
              "         [9.9140e-01, 8.6026e-03],\n",
              "         [9.9147e-01, 8.5279e-03],\n",
              "         [9.9574e-01, 4.2569e-03],\n",
              "         [6.7916e-01, 3.2084e-01],\n",
              "         [8.1221e-01, 1.8779e-01],\n",
              "         [7.2926e-01, 2.7074e-01],\n",
              "         [6.7195e-01, 3.2805e-01],\n",
              "         [9.7636e-01, 2.3637e-02],\n",
              "         [9.8936e-01, 1.0645e-02],\n",
              "         [9.8023e-01, 1.9773e-02],\n",
              "         [9.8331e-01, 1.6693e-02],\n",
              "         [9.8056e-01, 1.9441e-02],\n",
              "         [8.0585e-01, 1.9415e-01],\n",
              "         [8.5409e-01, 1.4591e-01],\n",
              "         [9.6576e-01, 3.4244e-02],\n",
              "         [5.7844e-01, 4.2156e-01],\n",
              "         [8.5839e-01, 1.4161e-01],\n",
              "         [8.3605e-01, 1.6395e-01],\n",
              "         [7.9539e-01, 2.0461e-01],\n",
              "         [9.9599e-01, 4.0103e-03],\n",
              "         [8.9708e-01, 1.0292e-01],\n",
              "         [9.9833e-01, 1.6663e-03],\n",
              "         [9.9922e-01, 7.7785e-04],\n",
              "         [9.3736e-01, 6.2635e-02],\n",
              "         [9.7506e-01, 2.4941e-02],\n",
              "         [9.9683e-01, 3.1704e-03],\n",
              "         [9.6329e-01, 3.6711e-02],\n",
              "         [9.9205e-01, 7.9503e-03],\n",
              "         [8.9988e-01, 1.0012e-01],\n",
              "         [3.4490e-01, 6.5510e-01],\n",
              "         [9.9277e-01, 7.2321e-03],\n",
              "         [9.4736e-01, 5.2636e-02],\n",
              "         [8.4546e-01, 1.5454e-01],\n",
              "         [9.8601e-01, 1.3993e-02],\n",
              "         [9.6343e-01, 3.6571e-02],\n",
              "         [9.6380e-01, 3.6198e-02],\n",
              "         [5.7684e-01, 4.2316e-01],\n",
              "         [7.6970e-01, 2.3030e-01],\n",
              "         [5.4828e-01, 4.5172e-01],\n",
              "         [9.5975e-01, 4.0253e-02],\n",
              "         [6.9527e-01, 3.0473e-01],\n",
              "         [8.5458e-01, 1.4542e-01],\n",
              "         [9.9969e-01, 3.0637e-04],\n",
              "         [9.5228e-01, 4.7721e-02],\n",
              "         [9.5492e-01, 4.5078e-02],\n",
              "         [9.8068e-01, 1.9323e-02],\n",
              "         [7.1458e-01, 2.8542e-01],\n",
              "         [5.6506e-01, 4.3494e-01],\n",
              "         [9.8045e-01, 1.9546e-02],\n",
              "         [9.2896e-01, 7.1041e-02],\n",
              "         [9.9604e-01, 3.9574e-03],\n",
              "         [9.8500e-01, 1.4995e-02],\n",
              "         [9.3539e-01, 6.4615e-02],\n",
              "         [6.9669e-01, 3.0331e-01],\n",
              "         [8.9084e-01, 1.0916e-01],\n",
              "         [9.2574e-01, 7.4258e-02],\n",
              "         [9.9943e-01, 5.7221e-04],\n",
              "         [9.5959e-01, 4.0410e-02],\n",
              "         [9.5426e-01, 4.5743e-02],\n",
              "         [9.8531e-01, 1.4690e-02],\n",
              "         [9.9888e-01, 1.1250e-03],\n",
              "         [6.8742e-01, 3.1258e-01],\n",
              "         [9.9715e-01, 2.8496e-03],\n",
              "         [7.7061e-01, 2.2939e-01],\n",
              "         [6.5534e-01, 3.4466e-01],\n",
              "         [4.4688e-01, 5.5312e-01],\n",
              "         [8.8147e-01, 1.1853e-01],\n",
              "         [9.9980e-01, 1.9565e-04],\n",
              "         [7.6115e-01, 2.3885e-01],\n",
              "         [9.9205e-01, 7.9482e-03],\n",
              "         [6.2418e-01, 3.7582e-01],\n",
              "         [9.5457e-01, 4.5432e-02],\n",
              "         [9.3219e-01, 6.7809e-02],\n",
              "         [9.7844e-01, 2.1556e-02],\n",
              "         [8.5520e-01, 1.4480e-01],\n",
              "         [9.2151e-01, 7.8488e-02],\n",
              "         [9.9145e-01, 8.5452e-03],\n",
              "         [6.2208e-01, 3.7792e-01],\n",
              "         [9.5117e-01, 4.8829e-02],\n",
              "         [5.7008e-01, 4.2992e-01],\n",
              "         [9.8578e-01, 1.4219e-02],\n",
              "         [9.9276e-01, 7.2404e-03],\n",
              "         [6.2644e-01, 3.7356e-01],\n",
              "         [9.4103e-01, 5.8970e-02],\n",
              "         [2.6042e-01, 7.3958e-01],\n",
              "         [8.4114e-01, 1.5886e-01],\n",
              "         [9.9983e-01, 1.7048e-04],\n",
              "         [9.8680e-01, 1.3196e-02],\n",
              "         [8.4676e-01, 1.5324e-01],\n",
              "         [9.6020e-01, 3.9797e-02],\n",
              "         [8.7532e-01, 1.2468e-01],\n",
              "         [9.8866e-01, 1.1343e-02],\n",
              "         [8.3955e-01, 1.6045e-01],\n",
              "         [8.9132e-01, 1.0868e-01],\n",
              "         [9.9871e-01, 1.2883e-03],\n",
              "         [9.8665e-01, 1.3352e-02],\n",
              "         [7.1213e-01, 2.8787e-01],\n",
              "         [9.3852e-01, 6.1476e-02],\n",
              "         [2.2901e-01, 7.7099e-01],\n",
              "         [9.4070e-01, 5.9303e-02],\n",
              "         [9.7276e-01, 2.7241e-02],\n",
              "         [7.0276e-01, 2.9724e-01],\n",
              "         [9.7210e-01, 2.7895e-02],\n",
              "         [9.9671e-01, 3.2880e-03],\n",
              "         [5.3830e-01, 4.6170e-01],\n",
              "         [8.5895e-01, 1.4105e-01],\n",
              "         [8.7945e-01, 1.2055e-01],\n",
              "         [9.9073e-01, 9.2734e-03],\n",
              "         [9.6120e-01, 3.8799e-02],\n",
              "         [5.0640e-01, 4.9360e-01],\n",
              "         [5.9930e-01, 4.0070e-01],\n",
              "         [9.7728e-01, 2.2716e-02]]),\n",
              " tensor([0, 1, 0, 0, 0, 0, 0, 0, 1, 0, 0, 0, 0, 0, 0, 1, 0, 0, 0, 0, 1, 0, 0, 0,\n",
              "         1, 1, 0, 0, 0, 0, 1, 0, 0, 0, 0, 0, 0, 0, 0, 0, 0, 0, 1, 1, 1, 1, 1, 0,\n",
              "         0, 0, 1, 0, 0, 0, 0, 0, 1, 1, 0, 0, 0, 0, 0, 1, 0, 0, 0, 0, 0, 0, 0, 1,\n",
              "         0, 1, 0, 0, 0, 0, 1, 1, 1, 0, 0, 0, 0, 0, 0, 0, 1, 0, 0, 0, 0, 0, 0, 0,\n",
              "         0, 0, 1, 0, 0, 0, 0, 0, 1, 0, 0, 1, 0, 0, 1, 0, 1, 0, 0, 0, 0, 0, 0, 0,\n",
              "         0, 1, 0, 0, 1, 1, 0, 1, 0, 0, 0, 1, 1, 0, 1, 0, 1, 0, 0])]"
            ]
          },
          "metadata": {
            "tags": []
          },
          "execution_count": 89
        }
      ]
    },
    {
      "metadata": {
        "id": "2q4KDLq8smva",
        "colab_type": "code",
        "colab": {
          "base_uri": "https://localhost:8080/",
          "height": 5729
        },
        "outputId": "a97ba90e-51c3-4234-8db6-4d92613681e8"
      },
      "cell_type": "code",
      "source": [
        "learner.get_preds(DatasetType.Train)"
      ],
      "execution_count": 90,
      "outputs": [
        {
          "output_type": "execute_result",
          "data": {
            "text/plain": [
              "[tensor([[1.5684e-02, 9.8432e-01],\n",
              "         [9.9908e-01, 9.1769e-04],\n",
              "         [9.9926e-01, 7.3570e-04],\n",
              "         [9.9601e-01, 3.9895e-03],\n",
              "         [1.3008e-02, 9.8699e-01],\n",
              "         [9.9925e-01, 7.5358e-04],\n",
              "         [9.9726e-01, 2.7361e-03],\n",
              "         [9.9797e-01, 2.0253e-03],\n",
              "         [9.9942e-01, 5.8129e-04],\n",
              "         [9.9634e-01, 3.6594e-03],\n",
              "         [9.9959e-01, 4.0713e-04],\n",
              "         [9.9776e-01, 2.2447e-03],\n",
              "         [9.9822e-01, 1.7800e-03],\n",
              "         [9.9990e-01, 9.8095e-05],\n",
              "         [9.9535e-01, 4.6463e-03],\n",
              "         [9.9878e-01, 1.2152e-03],\n",
              "         [9.9834e-01, 1.6643e-03],\n",
              "         [9.9819e-01, 1.8071e-03],\n",
              "         [9.9768e-01, 2.3164e-03],\n",
              "         [9.9579e-01, 4.2094e-03],\n",
              "         [9.9694e-01, 3.0576e-03],\n",
              "         [9.9971e-01, 2.8665e-04],\n",
              "         [1.3145e-02, 9.8686e-01],\n",
              "         [9.9311e-01, 6.8919e-03],\n",
              "         [2.1091e-01, 7.8909e-01],\n",
              "         [9.9779e-01, 2.2140e-03],\n",
              "         [9.9712e-01, 2.8802e-03],\n",
              "         [1.3792e-02, 9.8621e-01],\n",
              "         [1.5765e-02, 9.8424e-01],\n",
              "         [8.9634e-03, 9.9104e-01],\n",
              "         [9.9891e-01, 1.0917e-03],\n",
              "         [9.9966e-01, 3.3869e-04],\n",
              "         [9.9783e-01, 2.1692e-03],\n",
              "         [1.3906e-02, 9.8609e-01],\n",
              "         [9.9917e-01, 8.2742e-04],\n",
              "         [9.9382e-01, 6.1754e-03],\n",
              "         [9.9785e-01, 2.1471e-03],\n",
              "         [9.8810e-01, 1.1897e-02],\n",
              "         [9.9942e-01, 5.8150e-04],\n",
              "         [5.0339e-03, 9.9497e-01],\n",
              "         [9.9882e-01, 1.1757e-03],\n",
              "         [9.9909e-01, 9.0666e-04],\n",
              "         [9.9951e-01, 4.8880e-04],\n",
              "         [1.5864e-02, 9.8414e-01],\n",
              "         [9.9967e-01, 3.3191e-04],\n",
              "         [9.9628e-01, 3.7246e-03],\n",
              "         [1.4284e-02, 9.8572e-01],\n",
              "         [9.9714e-01, 2.8641e-03],\n",
              "         [9.9339e-01, 6.6098e-03],\n",
              "         [4.9551e-02, 9.5045e-01],\n",
              "         [9.9892e-01, 1.0769e-03],\n",
              "         [9.9954e-01, 4.5784e-04],\n",
              "         [9.9115e-01, 8.8493e-03],\n",
              "         [9.9771e-01, 2.2883e-03],\n",
              "         [9.9798e-01, 2.0216e-03],\n",
              "         [1.1294e-02, 9.8871e-01],\n",
              "         [9.2261e-03, 9.9077e-01],\n",
              "         [3.8848e-03, 9.9612e-01],\n",
              "         [9.9464e-01, 5.3565e-03],\n",
              "         [9.9808e-01, 1.9165e-03],\n",
              "         [9.9882e-01, 1.1821e-03],\n",
              "         [9.9173e-01, 8.2655e-03],\n",
              "         [9.9776e-01, 2.2422e-03],\n",
              "         [9.9925e-01, 7.4957e-04],\n",
              "         [9.9956e-01, 4.4424e-04],\n",
              "         [9.9945e-01, 5.5181e-04],\n",
              "         [9.9918e-01, 8.1837e-04],\n",
              "         [9.9878e-01, 1.2160e-03],\n",
              "         [9.9861e-01, 1.3866e-03],\n",
              "         [9.9949e-01, 5.0978e-04],\n",
              "         [9.9564e-01, 4.3640e-03],\n",
              "         [1.6268e-02, 9.8373e-01],\n",
              "         [9.9301e-01, 6.9909e-03],\n",
              "         [9.9955e-01, 4.5325e-04],\n",
              "         [9.9673e-01, 3.2714e-03],\n",
              "         [9.9821e-01, 1.7937e-03],\n",
              "         [9.9885e-01, 1.1540e-03],\n",
              "         [9.9879e-01, 1.2076e-03],\n",
              "         [9.9883e-01, 1.1718e-03],\n",
              "         [9.9793e-01, 2.0712e-03],\n",
              "         [9.9932e-01, 6.7820e-04],\n",
              "         [9.9941e-01, 5.8792e-04],\n",
              "         [9.9812e-01, 1.8749e-03],\n",
              "         [9.9841e-01, 1.5929e-03],\n",
              "         [9.9777e-01, 2.2326e-03],\n",
              "         [9.9267e-01, 7.3334e-03],\n",
              "         [9.9397e-01, 6.0259e-03],\n",
              "         [9.9963e-01, 3.7365e-04],\n",
              "         [9.9446e-01, 5.5409e-03],\n",
              "         [2.2584e-02, 9.7742e-01],\n",
              "         [9.9541e-01, 4.5855e-03],\n",
              "         [9.9020e-01, 9.7956e-03],\n",
              "         [9.9947e-01, 5.2887e-04],\n",
              "         [9.9846e-01, 1.5443e-03],\n",
              "         [9.9764e-01, 2.3634e-03],\n",
              "         [9.9695e-01, 3.0542e-03],\n",
              "         [9.9479e-01, 5.2080e-03],\n",
              "         [9.9893e-01, 1.0724e-03],\n",
              "         [9.9810e-01, 1.9017e-03],\n",
              "         [1.7944e-02, 9.8206e-01],\n",
              "         [9.9790e-01, 2.0962e-03],\n",
              "         [9.9694e-01, 3.0603e-03],\n",
              "         [5.8309e-03, 9.9417e-01],\n",
              "         [9.9953e-01, 4.7157e-04],\n",
              "         [9.9554e-01, 4.4635e-03],\n",
              "         [9.9861e-01, 1.3914e-03],\n",
              "         [9.9390e-01, 6.0981e-03],\n",
              "         [9.9651e-01, 3.4945e-03],\n",
              "         [9.9819e-01, 1.8145e-03],\n",
              "         [9.9842e-01, 1.5822e-03],\n",
              "         [9.9856e-01, 1.4421e-03],\n",
              "         [9.9740e-01, 2.5966e-03],\n",
              "         [9.9920e-01, 8.0387e-04],\n",
              "         [9.9851e-01, 1.4922e-03],\n",
              "         [9.9918e-01, 8.2482e-04],\n",
              "         [9.9863e-01, 1.3656e-03],\n",
              "         [9.9950e-01, 5.0205e-04],\n",
              "         [9.9951e-01, 4.9454e-04],\n",
              "         [1.8219e-02, 9.8178e-01],\n",
              "         [1.3734e-02, 9.8627e-01],\n",
              "         [6.0725e-02, 9.3927e-01],\n",
              "         [3.6720e-03, 9.9633e-01],\n",
              "         [9.9756e-01, 2.4367e-03],\n",
              "         [9.3706e-03, 9.9063e-01],\n",
              "         [9.9977e-01, 2.3170e-04],\n",
              "         [1.3413e-02, 9.8659e-01],\n",
              "         [9.9565e-01, 4.3520e-03],\n",
              "         [9.9671e-01, 3.2914e-03],\n",
              "         [8.1441e-03, 9.9186e-01],\n",
              "         [2.9732e-02, 9.7027e-01],\n",
              "         [9.9643e-01, 3.5657e-03],\n",
              "         [9.9340e-01, 6.5991e-03],\n",
              "         [9.9715e-01, 2.8525e-03],\n",
              "         [9.9308e-01, 6.9152e-03],\n",
              "         [9.9776e-01, 2.2390e-03],\n",
              "         [9.9773e-01, 2.2744e-03],\n",
              "         [3.3608e-03, 9.9664e-01],\n",
              "         [9.9163e-01, 8.3748e-03],\n",
              "         [9.9896e-01, 1.0408e-03],\n",
              "         [9.9789e-01, 2.1127e-03],\n",
              "         [9.9785e-01, 2.1541e-03],\n",
              "         [9.9621e-01, 3.7927e-03],\n",
              "         [9.9815e-01, 1.8493e-03],\n",
              "         [9.9828e-01, 1.7234e-03],\n",
              "         [9.9132e-01, 8.6788e-03],\n",
              "         [9.8203e-01, 1.7973e-02],\n",
              "         [1.2204e-02, 9.8780e-01],\n",
              "         [9.9937e-01, 6.3408e-04],\n",
              "         [2.8191e-02, 9.7181e-01],\n",
              "         [9.9778e-01, 2.2194e-03],\n",
              "         [1.1314e-01, 8.8686e-01],\n",
              "         [9.9738e-01, 2.6200e-03],\n",
              "         [1.3777e-02, 9.8622e-01],\n",
              "         [9.9661e-01, 3.3908e-03],\n",
              "         [9.9784e-01, 2.1579e-03],\n",
              "         [9.9836e-01, 1.6353e-03],\n",
              "         [9.9628e-01, 3.7174e-03],\n",
              "         [9.9880e-01, 1.1958e-03],\n",
              "         [9.9799e-01, 2.0128e-03],\n",
              "         [9.9705e-01, 2.9457e-03],\n",
              "         [9.9931e-01, 6.9209e-04],\n",
              "         [9.9953e-01, 4.7330e-04],\n",
              "         [3.2726e-02, 9.6727e-01],\n",
              "         [1.8549e-02, 9.8145e-01],\n",
              "         [9.9788e-01, 2.1175e-03],\n",
              "         [9.9882e-01, 1.1810e-03],\n",
              "         [9.9889e-01, 1.1149e-03],\n",
              "         [9.9633e-01, 3.6737e-03],\n",
              "         [9.9986e-01, 1.4104e-04],\n",
              "         [9.9979e-01, 2.1062e-04],\n",
              "         [9.9780e-01, 2.2007e-03],\n",
              "         [3.8756e-03, 9.9612e-01],\n",
              "         [9.9411e-01, 5.8936e-03],\n",
              "         [9.9736e-01, 2.6351e-03],\n",
              "         [9.9975e-01, 2.5221e-04],\n",
              "         [9.6982e-03, 9.9030e-01],\n",
              "         [9.9853e-01, 1.4686e-03],\n",
              "         [9.9863e-01, 1.3660e-03],\n",
              "         [9.9557e-01, 4.4319e-03],\n",
              "         [9.9948e-01, 5.1874e-04],\n",
              "         [9.8831e-01, 1.1691e-02],\n",
              "         [9.9933e-01, 6.7250e-04],\n",
              "         [9.9910e-01, 9.0280e-04],\n",
              "         [9.9945e-01, 5.4911e-04],\n",
              "         [9.9775e-01, 2.2462e-03],\n",
              "         [7.0621e-03, 9.9294e-01],\n",
              "         [4.4666e-02, 9.5533e-01],\n",
              "         [2.4042e-02, 9.7596e-01],\n",
              "         [9.9735e-01, 2.6492e-03],\n",
              "         [9.9806e-01, 1.9361e-03],\n",
              "         [9.9894e-01, 1.0625e-03],\n",
              "         [9.9674e-01, 3.2550e-03],\n",
              "         [9.9737e-01, 2.6291e-03],\n",
              "         [9.9876e-01, 1.2400e-03],\n",
              "         [9.9569e-01, 4.3109e-03],\n",
              "         [9.9841e-01, 1.5868e-03],\n",
              "         [9.9598e-01, 4.0175e-03],\n",
              "         [9.9377e-01, 6.2294e-03],\n",
              "         [9.9758e-01, 2.4160e-03],\n",
              "         [9.9676e-01, 3.2370e-03],\n",
              "         [9.9138e-01, 8.6193e-03],\n",
              "         [2.1158e-02, 9.7884e-01],\n",
              "         [9.9649e-01, 3.5096e-03],\n",
              "         [1.9968e-02, 9.8003e-01],\n",
              "         [9.9977e-01, 2.2611e-04],\n",
              "         [9.7489e-01, 2.5108e-02],\n",
              "         [9.9714e-01, 2.8623e-03],\n",
              "         [9.9738e-01, 2.6188e-03],\n",
              "         [9.9785e-01, 2.1512e-03],\n",
              "         [9.9707e-01, 2.9314e-03],\n",
              "         [9.9513e-01, 4.8697e-03],\n",
              "         [2.1338e-02, 9.7866e-01],\n",
              "         [9.9596e-01, 4.0449e-03],\n",
              "         [9.9321e-01, 6.7889e-03],\n",
              "         [9.9956e-01, 4.3836e-04],\n",
              "         [9.9827e-01, 1.7332e-03],\n",
              "         [9.9716e-01, 2.8429e-03],\n",
              "         [9.9575e-01, 4.2476e-03],\n",
              "         [9.9919e-01, 8.0834e-04],\n",
              "         [9.9971e-01, 2.9171e-04],\n",
              "         [9.8817e-01, 1.1826e-02],\n",
              "         [9.9912e-01, 8.8389e-04],\n",
              "         [9.9987e-01, 1.2833e-04],\n",
              "         [9.9808e-01, 1.9197e-03],\n",
              "         [9.9686e-01, 3.1416e-03],\n",
              "         [1.9594e-02, 9.8041e-01],\n",
              "         [9.9816e-01, 1.8444e-03],\n",
              "         [9.9924e-01, 7.5560e-04],\n",
              "         [9.9876e-01, 1.2427e-03],\n",
              "         [9.9679e-01, 3.2062e-03],\n",
              "         [1.1991e-02, 9.8801e-01],\n",
              "         [9.9828e-01, 1.7245e-03],\n",
              "         [1.5737e-02, 9.8426e-01],\n",
              "         [9.9975e-01, 2.5152e-04],\n",
              "         [9.9769e-01, 2.3121e-03],\n",
              "         [9.9971e-01, 2.8507e-04],\n",
              "         [9.9924e-01, 7.6309e-04],\n",
              "         [9.9909e-01, 9.0978e-04],\n",
              "         [2.0047e-02, 9.7995e-01],\n",
              "         [9.9777e-01, 2.2324e-03],\n",
              "         [9.9964e-01, 3.6088e-04],\n",
              "         [9.9587e-01, 4.1258e-03],\n",
              "         [9.9663e-01, 3.3678e-03],\n",
              "         [9.8723e-01, 1.2766e-02],\n",
              "         [9.8768e-03, 9.9012e-01],\n",
              "         [9.9814e-01, 1.8581e-03],\n",
              "         [9.9959e-01, 4.0662e-04],\n",
              "         [9.9814e-01, 1.8565e-03],\n",
              "         [9.9341e-01, 6.5885e-03],\n",
              "         [5.9755e-03, 9.9402e-01],\n",
              "         [4.1992e-03, 9.9580e-01],\n",
              "         [9.9921e-01, 7.8859e-04],\n",
              "         [9.9760e-01, 2.3960e-03],\n",
              "         [9.9957e-01, 4.3407e-04],\n",
              "         [9.9874e-01, 1.2570e-03],\n",
              "         [9.9980e-01, 2.0437e-04],\n",
              "         [9.9876e-01, 1.2379e-03],\n",
              "         [9.9644e-01, 3.5619e-03],\n",
              "         [9.9827e-01, 1.7338e-03],\n",
              "         [9.9207e-01, 7.9299e-03],\n",
              "         [9.9815e-01, 1.8469e-03],\n",
              "         [9.9637e-01, 3.6267e-03],\n",
              "         [1.6987e-02, 9.8301e-01],\n",
              "         [9.9560e-01, 4.4036e-03],\n",
              "         [3.8761e-02, 9.6124e-01],\n",
              "         [9.9937e-01, 6.2578e-04],\n",
              "         [9.9903e-01, 9.6519e-04],\n",
              "         [9.9433e-01, 5.6743e-03],\n",
              "         [9.7994e-01, 2.0057e-02],\n",
              "         [9.9916e-01, 8.4396e-04],\n",
              "         [9.9899e-01, 1.0124e-03],\n",
              "         [9.9813e-01, 1.8742e-03],\n",
              "         [9.9763e-01, 2.3675e-03],\n",
              "         [9.9702e-01, 2.9810e-03],\n",
              "         [9.9893e-01, 1.0739e-03],\n",
              "         [9.9985e-01, 1.4594e-04],\n",
              "         [9.9471e-01, 5.2911e-03],\n",
              "         [9.9890e-01, 1.1023e-03],\n",
              "         [9.9517e-01, 4.8344e-03],\n",
              "         [9.9903e-01, 9.6689e-04],\n",
              "         [9.9742e-01, 2.5780e-03],\n",
              "         [9.9225e-01, 7.7456e-03],\n",
              "         [9.9912e-01, 8.8362e-04],\n",
              "         [6.8537e-03, 9.9315e-01],\n",
              "         [9.9991e-01, 9.3584e-05],\n",
              "         [9.9619e-01, 3.8096e-03],\n",
              "         [1.3017e-02, 9.8698e-01],\n",
              "         [9.9825e-01, 1.7463e-03],\n",
              "         [9.9990e-01, 9.6709e-05],\n",
              "         [1.4980e-02, 9.8502e-01],\n",
              "         [9.9600e-01, 4.0002e-03],\n",
              "         [9.9858e-01, 1.4182e-03],\n",
              "         [4.2212e-03, 9.9578e-01],\n",
              "         [9.9807e-01, 1.9338e-03],\n",
              "         [9.8713e-01, 1.2867e-02],\n",
              "         [9.9693e-01, 3.0664e-03],\n",
              "         [2.2541e-02, 9.7746e-01],\n",
              "         [9.9811e-01, 1.8899e-03],\n",
              "         [9.9875e-01, 1.2471e-03],\n",
              "         [9.9989e-01, 1.1344e-04],\n",
              "         [9.9863e-01, 1.3699e-03],\n",
              "         [9.9746e-01, 2.5445e-03],\n",
              "         [9.9791e-01, 2.0931e-03],\n",
              "         [6.0165e-03, 9.9398e-01],\n",
              "         [9.9762e-01, 2.3804e-03],\n",
              "         [9.9983e-01, 1.6660e-04],\n",
              "         [9.9020e-01, 9.8002e-03],\n",
              "         [9.9878e-01, 1.2241e-03],\n",
              "         [9.9857e-01, 1.4280e-03],\n",
              "         [9.9310e-01, 6.9049e-03],\n",
              "         [9.9876e-01, 1.2364e-03],\n",
              "         [9.9792e-01, 2.0841e-03],\n",
              "         [9.9451e-01, 5.4947e-03],\n",
              "         [9.9933e-01, 6.6540e-04],\n",
              "         [9.9859e-01, 1.4115e-03],\n",
              "         [9.9599e-01, 4.0069e-03],\n",
              "         [9.8912e-01, 1.0879e-02],\n",
              "         [7.6852e-03, 9.9231e-01],\n",
              "         [9.9921e-01, 7.9157e-04],\n",
              "         [9.9983e-01, 1.7193e-04],\n",
              "         [9.9989e-01, 1.0621e-04],\n",
              "         [9.9995e-01, 5.1026e-05]]),\n",
              " tensor([1, 0, 0, 0, 1, 0, 0, 0, 0, 0, 0, 0, 0, 0, 0, 0, 0, 0, 0, 0, 0, 0, 1, 0,\n",
              "         1, 0, 0, 1, 1, 1, 0, 0, 0, 1, 0, 0, 0, 0, 0, 1, 0, 0, 0, 1, 0, 0, 1, 0,\n",
              "         0, 1, 0, 0, 0, 0, 0, 1, 1, 1, 0, 0, 0, 0, 0, 0, 0, 0, 0, 0, 0, 0, 0, 1,\n",
              "         0, 0, 0, 0, 0, 0, 0, 0, 0, 0, 0, 0, 0, 0, 0, 0, 0, 1, 0, 0, 0, 0, 0, 0,\n",
              "         0, 0, 0, 1, 0, 0, 1, 0, 0, 0, 0, 0, 0, 0, 0, 0, 0, 0, 0, 0, 0, 0, 1, 1,\n",
              "         1, 1, 0, 1, 0, 1, 0, 0, 1, 1, 0, 0, 0, 0, 0, 0, 1, 0, 0, 0, 0, 0, 0, 0,\n",
              "         0, 0, 1, 0, 1, 0, 1, 0, 1, 0, 0, 0, 0, 0, 0, 0, 0, 0, 1, 1, 0, 0, 0, 0,\n",
              "         0, 0, 0, 1, 0, 0, 0, 1, 0, 0, 0, 0, 0, 0, 0, 0, 0, 1, 1, 1, 0, 0, 0, 0,\n",
              "         0, 0, 0, 0, 0, 0, 0, 0, 0, 1, 0, 1, 0, 0, 0, 0, 0, 0, 0, 1, 0, 0, 0, 0,\n",
              "         0, 0, 0, 0, 0, 0, 0, 0, 0, 1, 0, 0, 0, 0, 1, 0, 1, 0, 0, 0, 0, 0, 1, 0,\n",
              "         0, 0, 0, 0, 1, 0, 0, 0, 0, 1, 1, 0, 0, 0, 0, 0, 0, 0, 0, 0, 0, 0, 1, 0,\n",
              "         1, 0, 0, 0, 0, 0, 0, 0, 0, 0, 0, 0, 0, 0, 0, 0, 0, 0, 0, 1, 0, 0, 1, 0,\n",
              "         0, 1, 0, 0, 1, 0, 0, 0, 1, 0, 0, 0, 0, 0, 0, 1, 0, 0, 0, 0, 0, 0, 0, 0,\n",
              "         0, 0, 0, 0, 0, 1, 0, 0, 0, 0])]"
            ]
          },
          "metadata": {
            "tags": []
          },
          "execution_count": 90
        }
      ]
    },
    {
      "metadata": {
        "id": "QokS_SU5sAs-",
        "colab_type": "text"
      },
      "cell_type": "markdown",
      "source": [
        "#### Training one cycle"
      ]
    },
    {
      "metadata": {
        "id": "nwkS7lQ6Nbq8",
        "colab_type": "code",
        "outputId": "8cde1ed5-5b26-43c9-8ca5-99b0b787952c",
        "colab": {
          "base_uri": "https://localhost:8080/",
          "height": 238
        }
      },
      "cell_type": "code",
      "source": [
        "data = DataBunch(train_dl=train_dl, valid_dl=test_dl, path=path)\n",
        "learner = Learner(data, model, loss_func=loss_func, metrics=accuracy)\n",
        "learner.fit(10, lr=5e-5)"
      ],
      "execution_count": 0,
      "outputs": [
        {
          "output_type": "stream",
          "text": [
            "Total time: 00:03\n",
            "epoch  train_loss  valid_loss  accuracy\n",
            "1      0.003275    0.785197    0.762590  (00:00)\n",
            "2      0.003349    0.800480    0.762590  (00:00)\n",
            "3      0.003107    0.804093    0.762590  (00:00)\n",
            "4      0.002767    0.812344    0.762590  (00:00)\n",
            "5      0.002825    0.806561    0.762590  (00:00)\n",
            "6      0.002692    0.815485    0.755396  (00:00)\n",
            "7      0.002587    0.823958    0.755396  (00:00)\n",
            "8      0.002495    0.824159    0.755396  (00:00)\n",
            "9      0.002463    0.840908    0.755396  (00:00)\n",
            "10     0.002364    0.839903    0.755396  (00:00)\n",
            "\n"
          ],
          "name": "stdout"
        }
      ]
    },
    {
      "metadata": {
        "id": "b8Pcr02Khxsy",
        "colab_type": "code",
        "outputId": "fe0ed6b4-c1e6-424e-88b4-780c223ceb44",
        "colab": {
          "base_uri": "https://localhost:8080/",
          "height": 459
        }
      },
      "cell_type": "code",
      "source": [
        "model.eval()\n",
        "model.train()"
      ],
      "execution_count": 0,
      "outputs": [
        {
          "output_type": "execute_result",
          "data": {
            "text/plain": [
              "LSTMFCN(\n",
              "  (lstm_block): BlockLSTM(\n",
              "    (lstm): LSTM(512, 256)\n",
              "    (dropout): Dropout(p=0.8)\n",
              "  )\n",
              "  (fcn_block): BlockFCN(\n",
              "    (conv1): BlockFCNConv(\n",
              "      (conv): Conv1d(1, 128, kernel_size=(8,), stride=(1,))\n",
              "      (batch_norm): BatchNorm1d(128, eps=0.001, momentum=0.99, affine=True, track_running_stats=True)\n",
              "      (relu): ReLU()\n",
              "    )\n",
              "    (conv2): BlockFCNConv(\n",
              "      (conv): Conv1d(128, 256, kernel_size=(5,), stride=(1,))\n",
              "      (batch_norm): BatchNorm1d(256, eps=0.001, momentum=0.99, affine=True, track_running_stats=True)\n",
              "      (relu): ReLU()\n",
              "    )\n",
              "    (conv3): BlockFCNConv(\n",
              "      (conv): Conv1d(256, 128, kernel_size=(3,), stride=(1,))\n",
              "      (batch_norm): BatchNorm1d(128, eps=0.001, momentum=0.99, affine=True, track_running_stats=True)\n",
              "      (relu): ReLU()\n",
              "    )\n",
              "    (global_pooling): AvgPool1d(kernel_size=(499,), stride=(499,), padding=(0,))\n",
              "  )\n",
              "  (dense): Linear(in_features=384, out_features=2, bias=True)\n",
              "  (softmax): LogSoftmax()\n",
              ")"
            ]
          },
          "metadata": {
            "tags": []
          },
          "execution_count": 201
        }
      ]
    },
    {
      "metadata": {
        "id": "mTTetDTNVH-p",
        "colab_type": "code",
        "colab": {}
      },
      "cell_type": "code",
      "source": [
        ""
      ],
      "execution_count": 0,
      "outputs": []
    }
  ]
}