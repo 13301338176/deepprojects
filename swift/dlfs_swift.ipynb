{
  "nbformat": 4,
  "nbformat_minor": 0,
  "metadata": {
    "colab": {
      "name": "dlfs_swift.ipynb",
      "version": "0.3.2",
      "provenance": [],
      "collapsed_sections": []
    },
    "kernelspec": {
      "name": "swift",
      "display_name": "Swift"
    },
    "accelerator": "GPU"
  },
  "cells": [
    {
      "metadata": {
        "id": "yW6JHUM9L_vi",
        "colab_type": "text"
      },
      "cell_type": "markdown",
      "source": [
        "# Custom NN Layers"
      ]
    },
    {
      "metadata": {
        "id": "WKFnplUw5Ytn",
        "colab_type": "text"
      },
      "cell_type": "markdown",
      "source": [
        "### References:\n",
        "- Tensorflow Swift - [link](https://www.tensorflow.org/swift)\n",
        "- PythonKit - [Numy conversion](https://github.com/pvieito/PythonKit/blob/master/Tests/PythonKitTests/NumpyConversionTests.swift)\n",
        "- Swfit Optionals - [link](https://medium.com/@agoiabeladeyemi/optionals-in-swift-2b141f12f870)\n",
        "- Random numbers in Swift - [link](https://learnappmaking.com/random-numbers-swift/)\n",
        "- Functions in Swift - [link](https://www.programiz.com/swift-programming/function-parameter-return-values)\n",
        "- Assertions in Swift - [link](https://blog.krzyzanowskim.com/2015/03/09/swift-asserts-the-missing-manual/)\n",
        "- Swift by example - [link](http://brettbukowski.github.io/SwiftExamples/)"
      ]
    },
    {
      "metadata": {
        "id": "0rZ2otG4oKIR",
        "colab_type": "text"
      },
      "cell_type": "markdown",
      "source": [
        "### Imports\n",
        "\n",
        "Import some useful python libraries"
      ]
    },
    {
      "metadata": {
        "id": "aLrs_3cEmLbM",
        "colab_type": "code",
        "colab": {}
      },
      "cell_type": "code",
      "source": [
        "import Python\n",
        "let request = Python.import(\"urllib.request\")\n",
        "let pickle = Python.import(\"pickle\")\n",
        "let gzip = Python.import(\"gzip\")\n",
        "let np = Python.import(\"numpy\")\n",
        "let plt = Python.import(\"matplotlib.pyplot\")"
      ],
      "execution_count": 0,
      "outputs": []
    },
    {
      "metadata": {
        "id": "TCwJO_mmMkll",
        "colab_type": "text"
      },
      "cell_type": "markdown",
      "source": [
        "plotting"
      ]
    },
    {
      "metadata": {
        "id": "WRDtU-HgMjbj",
        "colab_type": "code",
        "outputId": "193547d8-e43e-4d2a-8099-045e08c550fc",
        "colab": {
          "base_uri": "https://localhost:8080/",
          "height": 34
        }
      },
      "cell_type": "code",
      "source": [
        "%include \"EnableIPythonDisplay.swift\"\n",
        "IPythonDisplay.shell.enable_matplotlib(\"inline\")"
      ],
      "execution_count": 0,
      "outputs": [
        {
          "output_type": "execute_result",
          "data": {
            "text/plain": [
              "('inline', 'module://ipykernel.pylab.backend_inline')\n"
            ]
          },
          "metadata": {
            "tags": []
          },
          "execution_count": 2
        }
      ]
    },
    {
      "metadata": {
        "id": "_hCo2pF7vkzG",
        "colab_type": "code",
        "colab": {}
      },
      "cell_type": "code",
      "source": [
        "import TensorFlow"
      ],
      "execution_count": 0,
      "outputs": []
    },
    {
      "metadata": {
        "id": "lI7p-yppi6Pc",
        "colab_type": "text"
      },
      "cell_type": "markdown",
      "source": [
        "Swift stdlib imports"
      ]
    },
    {
      "metadata": {
        "id": "WKlDcyFalyu6",
        "colab_type": "text"
      },
      "cell_type": "markdown",
      "source": [
        "### MNIST\n",
        "Download the dataset"
      ]
    },
    {
      "metadata": {
        "id": "kZRlD4utdPuX",
        "colab_type": "code",
        "outputId": "44a04079-fbc6-43a5-f6a3-2d586026560c",
        "colab": {
          "base_uri": "https://localhost:8080/",
          "height": 34
        }
      },
      "cell_type": "code",
      "source": [
        "let result = request.urlretrieve(\n",
        "    \"https://github.com/mnielsen/neural-networks-and-deep-learning/raw/master/data/mnist.pkl.gz\",\n",
        "    \"mnist.pkl.gz\")\n",
        "let filename = result[0]; filename"
      ],
      "execution_count": 0,
      "outputs": [
        {
          "output_type": "execute_result",
          "data": {
            "text/plain": [
              "mnist.pkl.gz\n"
            ]
          },
          "metadata": {
            "tags": []
          },
          "execution_count": 4
        }
      ]
    },
    {
      "metadata": {
        "id": "-sWhL4VEn1PC",
        "colab_type": "code",
        "colab": {}
      },
      "cell_type": "code",
      "source": [
        "let mnist = pickle.load(gzip.open(filename), encoding:\"latin-1\")\n",
        "// read train, validation and test datasets\n",
        "let train_mnist = mnist[0]\n",
        "let valid_mnist = mnist[1]\n",
        "let test_mnist = mnist[2]"
      ],
      "execution_count": 0,
      "outputs": []
    },
    {
      "metadata": {
        "id": "1uKeMB10vMVQ",
        "colab_type": "text"
      },
      "cell_type": "markdown",
      "source": [
        "Read the arrays into Tensorflow tensors"
      ]
    },
    {
      "metadata": {
        "id": "aDjzFZ2-Sg_7",
        "colab_type": "code",
        "outputId": "2865d589-c808-4fb1-dbf7-47675501bb96",
        "colab": {
          "base_uri": "https://localhost:8080/",
          "height": 134
        }
      },
      "cell_type": "code",
      "source": [
        "train_mnist"
      ],
      "execution_count": 0,
      "outputs": [
        {
          "output_type": "execute_result",
          "data": {
            "text/plain": [
              "(array([[0., 0., 0., ..., 0., 0., 0.],\n",
              "       [0., 0., 0., ..., 0., 0., 0.],\n",
              "       [0., 0., 0., ..., 0., 0., 0.],\n",
              "       ...,\n",
              "       [0., 0., 0., ..., 0., 0., 0.],\n",
              "       [0., 0., 0., ..., 0., 0., 0.],\n",
              "       [0., 0., 0., ..., 0., 0., 0.]], dtype=float32), array([5, 0, 4, ..., 8, 4, 8]))\n"
            ]
          },
          "metadata": {
            "tags": []
          },
          "execution_count": 6
        }
      ]
    },
    {
      "metadata": {
        "id": "6x_meK5sPgAL",
        "colab_type": "code",
        "colab": {}
      },
      "cell_type": "code",
      "source": [
        "func unsequeeze(_ array: PythonObject) -> PythonObject {\n",
        "    return np.expand_dims(array, axis:-1).astype(np.float32)\n",
        "}"
      ],
      "execution_count": 0,
      "outputs": []
    },
    {
      "metadata": {
        "id": "12FNFOq8oa0L",
        "colab_type": "code",
        "colab": {}
      },
      "cell_type": "code",
      "source": [
        "// read training tuple into separate variables\n",
        "let pyobj_train_x = train_mnist[0]\n",
        "let pyobj_train_y = unsequeeze(train_mnist[1]) // expand dimension\n",
        "// read validation tuple into separate variables\n",
        "let pyobj_valid_x = valid_mnist[0]\n",
        "let pyobj_valid_y = unsequeeze(valid_mnist[1]) // expand dimension\n",
        "// read test tuple into separate variables\n",
        "let pyobj_test_x = test_mnist[0]\n",
        "let pyobj_test_y = unsequeeze(test_mnist[1]) // expand dimension"
      ],
      "execution_count": 0,
      "outputs": []
    },
    {
      "metadata": {
        "id": "3APmB_lWBNAr",
        "colab_type": "code",
        "outputId": "0d6264c9-584f-42b6-f08f-0e0d55b175c3",
        "colab": {
          "base_uri": "https://localhost:8080/",
          "height": 34
        }
      },
      "cell_type": "code",
      "source": [
        "pyobj_train_y.shape"
      ],
      "execution_count": 0,
      "outputs": [
        {
          "output_type": "execute_result",
          "data": {
            "text/plain": [
              "(50000, 1)\n"
            ]
          },
          "metadata": {
            "tags": []
          },
          "execution_count": 9
        }
      ]
    },
    {
      "metadata": {
        "id": "cRABcyn2or34",
        "colab_type": "text"
      },
      "cell_type": "markdown",
      "source": [
        "Training data"
      ]
    },
    {
      "metadata": {
        "id": "KtAPci1C3mls",
        "colab_type": "code",
        "colab": {}
      },
      "cell_type": "code",
      "source": [
        "// read tensorflow arrays into Tensors\n",
        "let X_train = Tensor<Float32>(numpy: pyobj_train_x)! // ! to unwrap optionals\n",
        "let y_train = Tensor<Float32>(numpy: pyobj_train_y)! // ! to unwrap optionals"
      ],
      "execution_count": 0,
      "outputs": []
    },
    {
      "metadata": {
        "id": "MSqMFSxqotSa",
        "colab_type": "text"
      },
      "cell_type": "markdown",
      "source": [
        "Validation data"
      ]
    },
    {
      "metadata": {
        "id": "d57vU7ePovpw",
        "colab_type": "code",
        "colab": {}
      },
      "cell_type": "code",
      "source": [
        "// read tensorflow arrays into Tensors\n",
        "let X_valid = Tensor<Float32>(numpy: pyobj_valid_x)! // ! to unwrap optionals\n",
        "let y_valid = Tensor<Float32>(numpy: pyobj_valid_y)! // ! to unwrap optionals"
      ],
      "execution_count": 0,
      "outputs": []
    },
    {
      "metadata": {
        "id": "fZ-D6EKGo295",
        "colab_type": "text"
      },
      "cell_type": "markdown",
      "source": [
        "Test data"
      ]
    },
    {
      "metadata": {
        "id": "ygwPLCsJo2Zf",
        "colab_type": "code",
        "colab": {}
      },
      "cell_type": "code",
      "source": [
        "// read tensorflow arrays into Tensors\n",
        "let X_test = Tensor<Float32>(numpy: pyobj_test_x)! // ! to unwrap optionals\n",
        "let y_test = Tensor<Float32>(numpy: pyobj_test_y)! // ! to unwrap optionals"
      ],
      "execution_count": 0,
      "outputs": []
    },
    {
      "metadata": {
        "id": "f-iUOWX2KSaa",
        "colab_type": "code",
        "outputId": "34c3f7c8-6e8c-47c9-f5cb-81c18bf57c06",
        "colab": {
          "base_uri": "https://localhost:8080/",
          "height": 34
        }
      },
      "cell_type": "code",
      "source": [
        "print(\"\\(X_train.shape) \\(y_train.shape)\") // string interpolation"
      ],
      "execution_count": 0,
      "outputs": [
        {
          "output_type": "stream",
          "text": [
            "TensorShape(dimensions: [50000, 784]) TensorShape(dimensions: [50000, 1])\r\n"
          ],
          "name": "stdout"
        }
      ]
    },
    {
      "metadata": {
        "id": "CdDZrVyQopur",
        "colab_type": "code",
        "outputId": "638bc634-204d-491b-d389-a67dc0886977",
        "colab": {
          "base_uri": "https://localhost:8080/",
          "height": 84
        }
      },
      "cell_type": "code",
      "source": [
        "X_train.shape"
      ],
      "execution_count": 0,
      "outputs": [
        {
          "output_type": "execute_result",
          "data": {
            "text/plain": [
              "▿ TensorShape\n",
              "  ▿ dimensions : 2 elements\n",
              "    - 0 : 50000\n",
              "    - 1 : 784\n"
            ]
          },
          "metadata": {
            "tags": []
          },
          "execution_count": 14
        }
      ]
    },
    {
      "metadata": {
        "id": "4kDzL7WgwFIo",
        "colab_type": "code",
        "outputId": "57e497aa-e583-482e-9de6-75ca11d0e5b8",
        "colab": {
          "base_uri": "https://localhost:8080/",
          "height": 84
        }
      },
      "cell_type": "code",
      "source": [
        "y_train.shape"
      ],
      "execution_count": 0,
      "outputs": [
        {
          "output_type": "execute_result",
          "data": {
            "text/plain": [
              "▿ TensorShape\n",
              "  ▿ dimensions : 2 elements\n",
              "    - 0 : 50000\n",
              "    - 1 : 1\n"
            ]
          },
          "metadata": {
            "tags": []
          },
          "execution_count": 15
        }
      ]
    },
    {
      "metadata": {
        "id": "TO_ls7oPDQP6",
        "colab_type": "text"
      },
      "cell_type": "markdown",
      "source": [
        "### Plotting"
      ]
    },
    {
      "metadata": {
        "id": "sTo2mOvJNbWN",
        "colab_type": "code",
        "colab": {}
      },
      "cell_type": "code",
      "source": [
        "let sample1 = X_train[0].reshaped(to: [28, 28]).array // ShapedArray"
      ],
      "execution_count": 0,
      "outputs": []
    },
    {
      "metadata": {
        "id": "sQqmQUsjNnzh",
        "colab_type": "code",
        "colab": {}
      },
      "cell_type": "code",
      "source": [
        "let sample2 = X_train[0].reshaped(to: [28, 28]).scalars // simple array"
      ],
      "execution_count": 0,
      "outputs": []
    },
    {
      "metadata": {
        "id": "1Dqv-bbUgl9z",
        "colab_type": "code",
        "outputId": "4806a829-6d42-4f49-aaaa-c76ff2867113",
        "colab": {
          "base_uri": "https://localhost:8080/",
          "height": 34
        }
      },
      "cell_type": "code",
      "source": [
        "let sample3 = X_train[0].reshaped(to: [28, 28]).makeNumpyArray()\n",
        "sample3.shape"
      ],
      "execution_count": 0,
      "outputs": [
        {
          "output_type": "execute_result",
          "data": {
            "text/plain": [
              "(28, 28)\n"
            ]
          },
          "metadata": {
            "tags": []
          },
          "execution_count": 18
        }
      ]
    },
    {
      "metadata": {
        "id": "h1lpDLAeRUjE",
        "colab_type": "text"
      },
      "cell_type": "markdown",
      "source": [
        "transform the scalars into a 28 by 28 image and plot it"
      ]
    },
    {
      "metadata": {
        "id": "CdCH9bfy2lQb",
        "colab_type": "code",
        "outputId": "f5c5b429-9b66-4759-f912-606cca2f8c3f",
        "colab": {
          "base_uri": "https://localhost:8080/",
          "height": 286
        }
      },
      "cell_type": "code",
      "source": [
        "plt.imshow(np.reshape(sample2, newshape:[28, 28]), cmap:\"gray\")\n",
        "plt.show()"
      ],
      "execution_count": 0,
      "outputs": [
        {
          "output_type": "display_data",
          "data": {
            "image/png": "[encoded data removed]",
            "text/plain": [
              "<Figure size 432x288 with 1 Axes>"
            ]
          },
          "metadata": {
            "tags": []
          }
        },
        {
          "output_type": "execute_result",
          "data": {
            "text/plain": [
              "None\n"
            ]
          },
          "metadata": {
            "tags": []
          },
          "execution_count": 19
        }
      ]
    },
    {
      "metadata": {
        "id": "LUGGScZ-qWf9",
        "colab_type": "text"
      },
      "cell_type": "markdown",
      "source": [
        "### Data"
      ]
    },
    {
      "metadata": {
        "id": "i05p-4iJfGm0",
        "colab_type": "text"
      },
      "cell_type": "markdown",
      "source": [
        "#### Normalization"
      ]
    },
    {
      "metadata": {
        "id": "vAGcol9Dmitc",
        "colab_type": "code",
        "colab": {}
      },
      "cell_type": "code",
      "source": [
        "// normalization helper functions\n",
        "func mean(t: Tensor<Float32>) -> Float32 {\n",
        "    let res_tensor = t.mean()\n",
        "    return res_tensor.scalar!\n",
        "}\n",
        "\n",
        "func stddev(t: Tensor<Float32>) -> Float32 {\n",
        "    let mean = t.mean()\n",
        "    let res_tensor = sqrt(t.squared().mean() - mean*mean)\n",
        "    return res_tensor.scalar!\n",
        "}"
      ],
      "execution_count": 0,
      "outputs": []
    },
    {
      "metadata": {
        "id": "ci2E2bVRlhGk",
        "colab_type": "code",
        "colab": {}
      },
      "cell_type": "code",
      "source": [
        "// test helper functions\n",
        "func test_near_zero(_ val: Float32, _ msg: String) -> Void {\n",
        "    assert(val < 1e-3, msg)\n",
        "}\n",
        "\n",
        "func test_almost_eq(_ t1: Tensor<Float32>, _ t2: Tensor<Float32>, _ msg: String, _ epsilon: Float32 = 1e-3) -> Void {\n",
        "    assert(t1 - t2 < epsilon, msg)\n",
        "}"
      ],
      "execution_count": 0,
      "outputs": []
    },
    {
      "metadata": {
        "id": "ldFCav6FfGLj",
        "colab_type": "code",
        "colab": {}
      },
      "cell_type": "code",
      "source": [
        "let m = mean(t: X_train)\n",
        "let s = stddev(t: X_train)"
      ],
      "execution_count": 0,
      "outputs": []
    },
    {
      "metadata": {
        "id": "mRJKbRKCjIvd",
        "colab_type": "code",
        "colab": {}
      },
      "cell_type": "code",
      "source": [
        "let Xtrain_normalized = (X_train - m)/s\n",
        "let Xvalid_normalized = (X_valid - m)/s\n",
        "let Xtest_normalized = (X_test - m)/s"
      ],
      "execution_count": 0,
      "outputs": []
    },
    {
      "metadata": {
        "id": "balLH3OYn1de",
        "colab_type": "text"
      },
      "cell_type": "markdown",
      "source": [
        "Check that X is really normalized (mean 0 and standard deviation of 1)"
      ]
    },
    {
      "metadata": {
        "id": "-LYpOD0VpLIp",
        "colab_type": "code",
        "colab": {}
      },
      "cell_type": "code",
      "source": [
        "test_near_zero(mean(t: Xtrain_normalized), \"Mean not close to 0\")\n",
        "test_near_zero(abs(stddev(t: Xtrain_normalized) - 1), \"Standard deviation not close to 1\")"
      ],
      "execution_count": 0,
      "outputs": []
    },
    {
      "metadata": {
        "id": "JR7QLmN7jQDZ",
        "colab_type": "code",
        "outputId": "3bc30c92-ac4f-4ce4-afb5-04a1e06b9a5f",
        "colab": {
          "base_uri": "https://localhost:8080/",
          "height": 34
        }
      },
      "cell_type": "code",
      "source": [
        "print(\"mean=\\(mean(t: Xtrain_normalized)), stddev=\\(stddev(t: Xtrain_normalized))\")"
      ],
      "execution_count": 0,
      "outputs": [
        {
          "output_type": "stream",
          "text": [
            "mean=7.0302534e-08, stddev=1.0000006\r\n"
          ],
          "name": "stdout"
        }
      ]
    },
    {
      "metadata": {
        "id": "ZP9F1nMKRqyv",
        "colab_type": "text"
      },
      "cell_type": "markdown",
      "source": [
        "### Initial model\n",
        "Let's start with an initial FNN with one hiden layer, and instead of number of classes output to which would apply a categorical cross entropy loss function. To simplify the architecture we use root squared mean error and thus the final output would be one value."
      ]
    },
    {
      "metadata": {
        "id": "9pNcMyLeeHMK",
        "colab_type": "text"
      },
      "cell_type": "markdown",
      "source": [
        "A model contains a set of parameters initialized randomly, then use the gradients to gradually update them through SGD."
      ]
    },
    {
      "metadata": {
        "id": "tCc-eQXzTwAp",
        "colab_type": "code",
        "colab": {}
      },
      "cell_type": "code",
      "source": [
        "let nh: Int32 = 50 // number of hidden units\n",
        "let nc: Int32 = 10 // number of classes\n",
        "let fs: Int32 = X_train.shape[1] // input features size"
      ],
      "execution_count": 0,
      "outputs": []
    },
    {
      "metadata": {
        "id": "gzCtTbloUdLZ",
        "colab_type": "text"
      },
      "cell_type": "markdown",
      "source": [
        "simple linear model"
      ]
    },
    {
      "metadata": {
        "id": "b_SMryUavYEU",
        "colab_type": "code",
        "colab": {}
      },
      "cell_type": "code",
      "source": [
        "func randn(_ ni: Int32, _ no: Int32) -> Tensor<Float32> {\n",
        "    let np_array = np.random.randn(ni, no).astype(np.float32)\n",
        "    let np_array_normalized = (np_array - np_array.mean()) / np_array.std()\n",
        "    let tensor = Tensor<Float32>(numpy: np_array_normalized)\n",
        "    return tensor!\n",
        "}\n",
        "\n",
        "func kaiming_init(_ ni: Int32, _ no: Int32) -> Tensor<Float32> {\n",
        "    let np_array = np.random.randn(ni, no).astype(np.float32)\n",
        "    let tensor = Tensor<Float32>(numpy: np_array)\n",
        "    return tensor! * sqrt(2.0 / Float32(ni)) // kaiming\n",
        "}\n",
        "\n",
        "func zeros(_ n: Int32) -> Tensor<Float32> {\n",
        "    let np_array = np.zeros(n).astype(np.float32)\n",
        "    let tensor = Tensor<Float32>(numpy: np_array)\n",
        "    return tensor!\n",
        "}"
      ],
      "execution_count": 0,
      "outputs": []
    },
    {
      "metadata": {
        "id": "s98kpiInauVs",
        "colab_type": "code",
        "colab": {}
      },
      "cell_type": "code",
      "source": [
        "var w1 = randn(fs, nh)\n",
        "var b1 = zeros(nh)\n",
        "var w2 = randn(nh, 1)\n",
        "var b2 = zeros(1)"
      ],
      "execution_count": 0,
      "outputs": []
    },
    {
      "metadata": {
        "id": "wEvAH3DhbWzs",
        "colab_type": "text"
      },
      "cell_type": "markdown",
      "source": [
        "matrix multiplication is a foundational operation in NN, thus it has to be very fast"
      ]
    },
    {
      "metadata": {
        "id": "G6EE5qJG8CwJ",
        "colab_type": "code",
        "colab": {}
      },
      "cell_type": "code",
      "source": [
        "test_near_zero(mean(t: w1), \"Mean not close to 0\")\n",
        "test_near_zero(abs(stddev(t: w1) - 1), \"Standard deviation not close to 1\")"
      ],
      "execution_count": 0,
      "outputs": []
    },
    {
      "metadata": {
        "id": "FwhKcodLzASO",
        "colab_type": "code",
        "outputId": "a1e81580-6924-417f-f677-d870c1ce1719",
        "colab": {
          "base_uri": "https://localhost:8080/",
          "height": 34
        }
      },
      "cell_type": "code",
      "source": [
        "print(\"\\(mean(t: w1)) \\(stddev(t: w1))\")"
      ],
      "execution_count": 0,
      "outputs": [
        {
          "output_type": "stream",
          "text": [
            "1.07045075e-08 1.0\r\n"
          ],
          "name": "stdout"
        }
      ]
    },
    {
      "metadata": {
        "id": "F2HPu-IE2y8D",
        "colab_type": "text"
      },
      "cell_type": "markdown",
      "source": [
        "define functions for NN layers"
      ]
    },
    {
      "metadata": {
        "id": "4JoKm3oTzGTV",
        "colab_type": "code",
        "colab": {}
      },
      "cell_type": "code",
      "source": [
        "// NN layers grouped in one class\n",
        "class F {\n",
        "    static func linear(_ x: Tensor<Float32>, _ w: Tensor<Float32>, _ b: Tensor<Float32>) -> Tensor<Float32> {\n",
        "        return matmul(x, w) + b\n",
        "    }\n",
        "\n",
        "    static func relu(_ x: Tensor<Float32>) -> Tensor<Float32> {\n",
        "        return max(x, 0) - 0.5 // to make this layer output mean at 0.\n",
        "    }\n",
        "}"
      ],
      "execution_count": 0,
      "outputs": []
    },
    {
      "metadata": {
        "id": "IFtlW-PO2Ycr",
        "colab_type": "code",
        "colab": {}
      },
      "cell_type": "code",
      "source": [
        "let o1 = F.linear(X_train, w1, b1)"
      ],
      "execution_count": 0,
      "outputs": []
    },
    {
      "metadata": {
        "id": "_D2NZjIn2dXZ",
        "colab_type": "code",
        "outputId": "2e4bd680-8385-4ce8-eb1c-67e81086209d",
        "colab": {
          "base_uri": "https://localhost:8080/",
          "height": 34
        }
      },
      "cell_type": "code",
      "source": [
        "print(\"\\(mean(t: o1)) \\(stddev(t: o1))\")"
      ],
      "execution_count": 0,
      "outputs": [
        {
          "output_type": "stream",
          "text": [
            "0.70638454 8.895933\r\n"
          ],
          "name": "stdout"
        }
      ]
    },
    {
      "metadata": {
        "id": "XkRnjbsi4pDS",
        "colab_type": "text"
      },
      "cell_type": "markdown",
      "source": [
        "Now this is a problem, we would wanted to have the output of the liear layer to be have a variance onf 1 just as is the input of this layer, this to avoind gradients vanishing/explosion when using deep NN.\n",
        "\n",
        "This is where Kaiming initialization comes to rescue. A simplified version of it consists of dividing the parameters by square root of the number of input units. The 2 is used to make the ."
      ]
    },
    {
      "metadata": {
        "id": "BRVtYaz64iVl",
        "colab_type": "code",
        "outputId": "433bade2-7d34-4160-a223-b83baa7464c6",
        "colab": {
          "base_uri": "https://localhost:8080/",
          "height": 34
        }
      },
      "cell_type": "code",
      "source": [
        "let w1_kaiming = kaiming_init(fs, nh)\n",
        "let o1_kaiming = F.relu(F.linear(Xtrain_normalized, w1_kaiming, b1))\n",
        "print(\"\\(mean(t: o1_kaiming)) \\(stddev(t: o1_kaiming))\")"
      ],
      "execution_count": 0,
      "outputs": [
        {
          "output_type": "stream",
          "text": [
            "0.016291628 0.7937319\r\n"
          ],
          "name": "stdout"
        }
      ]
    },
    {
      "metadata": {
        "id": "k3cWTqECGUr-",
        "colab_type": "text"
      },
      "cell_type": "markdown",
      "source": [
        "Now as we can construct a simple model and do a forward pass"
      ]
    },
    {
      "metadata": {
        "id": "hLv4f-i7AscJ",
        "colab_type": "code",
        "colab": {}
      },
      "cell_type": "code",
      "source": [
        "class Model {\n",
        "    var w1: Tensor<Float32>\n",
        "    var b1: Tensor<Float32>\n",
        "    var w2: Tensor<Float32>\n",
        "    var b2: Tensor<Float32>\n",
        "    \n",
        "    init(_ fs: Int32, _ nh: Int32) {\n",
        "        self.w1 = kaiming_init(fs, nh)\n",
        "        self.b1 = zeros(nh)\n",
        "        self.w2 = kaiming_init(nh, 1)\n",
        "        self.b2 = zeros(1)\n",
        "    }\n",
        "    \n",
        "    func forward(_ x: Tensor<Float32>) -> Tensor<Float32> {\n",
        "        let l1 = F.linear(x, self.w1, self.b1)\n",
        "        let l2 = F.relu(l1)\n",
        "        let l3 = F.linear(l2, self.w2, self.b2)\n",
        "        return l3\n",
        "    }\n",
        "}"
      ],
      "execution_count": 0,
      "outputs": []
    },
    {
      "metadata": {
        "id": "6lP80YG4KC6V",
        "colab_type": "code",
        "colab": {}
      },
      "cell_type": "code",
      "source": [
        "let m = Model(fs, nh)"
      ],
      "execution_count": 0,
      "outputs": []
    },
    {
      "metadata": {
        "id": "5Z5exkAHUBoo",
        "colab_type": "text"
      },
      "cell_type": "markdown",
      "source": [
        "### Forward"
      ]
    },
    {
      "metadata": {
        "id": "cVigkNvdK7EF",
        "colab_type": "code",
        "colab": {}
      },
      "cell_type": "code",
      "source": [
        "let y_hat = m.forward(Xtrain_normalized)"
      ],
      "execution_count": 0,
      "outputs": []
    },
    {
      "metadata": {
        "id": "AMpFERT2LCnP",
        "colab_type": "code",
        "outputId": "dae262ed-8e7f-4577-f1e3-d7b5198a1a92",
        "colab": {
          "base_uri": "https://localhost:8080/",
          "height": 34
        }
      },
      "cell_type": "code",
      "source": [
        "y_hat[10]"
      ],
      "execution_count": 0,
      "outputs": [
        {
          "output_type": "execute_result",
          "data": {
            "text/plain": [
              "[-1.984777]\n"
            ]
          },
          "metadata": {
            "tags": []
          },
          "execution_count": 38
        }
      ]
    },
    {
      "metadata": {
        "id": "2QHWFIZZOXWc",
        "colab_type": "text"
      },
      "cell_type": "markdown",
      "source": [
        "loss function MSE"
      ]
    },
    {
      "metadata": {
        "id": "MyhbENdTLIEP",
        "colab_type": "code",
        "colab": {}
      },
      "cell_type": "code",
      "source": [
        "func mse(_ t1: Tensor<Float32>, _ t2: Tensor<Float32>) -> Float32 {\n",
        "    let res_tensor = (t1 - t2).squared().mean()\n",
        "    return res_tensor.scalar!\n",
        "}"
      ],
      "execution_count": 0,
      "outputs": []
    },
    {
      "metadata": {
        "id": "7eR_dIKvOvnT",
        "colab_type": "code",
        "outputId": "d40e5697-b5ab-48e9-daf5-b99d1bf87e12",
        "colab": {
          "base_uri": "https://localhost:8080/",
          "height": 34
        }
      },
      "cell_type": "code",
      "source": [
        "mse(y_hat, y_train)"
      ],
      "execution_count": 0,
      "outputs": [
        {
          "output_type": "execute_result",
          "data": {
            "text/plain": [
              "37.448883\n"
            ]
          },
          "metadata": {
            "tags": []
          },
          "execution_count": 40
        }
      ]
    },
    {
      "metadata": {
        "id": "Aqm8YBLCT8PG",
        "colab_type": "text"
      },
      "cell_type": "markdown",
      "source": [
        "#### Backward"
      ]
    },
    {
      "metadata": {
        "id": "FKgaomiGUiQn",
        "colab_type": "text"
      },
      "cell_type": "markdown",
      "source": [
        "Chain Rule: \n",
        "$$\\hat{y} = linear_2(relu(linear_1(X)))$$\n",
        "$$loss = mse(\\hat{y}, y)$$\n",
        "According to the Chain rule if $y=f(u)$ and $u=g(x)$ then the gradient of $y$ to the respect of $x$ is the multiplication of the gradient of  $y$ to  $u$ by the gradient of  $u$ by  $x$. i.e.\n",
        "$$\\frac{dy}{dx} = \\frac{dy}{du} . \\frac{du}{dx}$$"
      ]
    },
    {
      "metadata": {
        "id": "6-C8uqcSgxQq",
        "colab_type": "text"
      },
      "cell_type": "markdown",
      "source": [
        "#### Gradients\n",
        "The gradient of a function (i.e. the output of $f(x)$) with respect to its input (i.e. the output of previous layer) $x$."
      ]
    },
    {
      "metadata": {
        "id": "i2F8pGYDXLEC",
        "colab_type": "text"
      },
      "cell_type": "markdown",
      "source": [
        "Gradient of MSE loss function $mse(\\hat{y}, y) = \\frac{1}{m} *\\sum_{i=1}^{m}  (\\hat{y}_i - y_i)^2$  is $grad_{mse} = 2 * \\frac{1}{m} *  \\sum_{i=1}^{m}  (\\hat{y}_i - y_i)$."
      ]
    },
    {
      "metadata": {
        "id": "wmCenWQEPIm9",
        "colab_type": "code",
        "colab": {}
      },
      "cell_type": "code",
      "source": [
        "func grad_mse(_ input: Tensor<Float32>, _ output: Tensor<Float32>)\n",
        "-> Tensor<Float32> {\n",
        "    let m = Float32(input.shape[0])\n",
        "    return Float32(2.0) * Float32(1/m) * (input - output)\n",
        "}"
      ],
      "execution_count": 0,
      "outputs": []
    },
    {
      "metadata": {
        "id": "ei8Q998hhqie",
        "colab_type": "text"
      },
      "cell_type": "markdown",
      "source": [
        "Gradient of ReLU activation fuction $ReLU(x) = max(x, 0)$ is $grad_{ReLU} = \\left \\{ \\begin{array}{ll}\n",
        "1 & x>0 \\\\\n",
        "0 & x \\leq 0\n",
        "\\end{array}\n",
        "\\right .$"
      ]
    },
    {
      "metadata": {
        "id": "LULTzQ6wgmqq",
        "colab_type": "code",
        "colab": {}
      },
      "cell_type": "code",
      "source": [
        "func grad_relu(_ input: Tensor<Float32>, _ output: Tensor<Float32>, _ output_grad: Tensor<Float32>)\n",
        "-> Tensor<Float32> {\n",
        "    return min(ceil(max(input, 0.0)), 1) * output_grad\n",
        "}"
      ],
      "execution_count": 0,
      "outputs": []
    },
    {
      "metadata": {
        "id": "RxxX967Zrg7K",
        "colab_type": "text"
      },
      "cell_type": "markdown",
      "source": [
        "Gradient of matrix product is a matrix product by the transpose (check Matrix Calculus resource).\n",
        "\n",
        "Recall $linear(x) = x * w + b$ thus the gradients respectively to each element are $$\\left \\{\n",
        "  \\begin{array}{ll}\n",
        "    \\frac{d}{dx} linear(x)  & = w \\\\\n",
        "    \\frac{d}{dw} linear(x) & = x \\\\\n",
        "    \\frac{d}{db} linear(x)  & = 1\n",
        "  \\end{array}\n",
        "\\right .$$"
      ]
    },
    {
      "metadata": {
        "id": "x6tr-t74PbW2",
        "colab_type": "code",
        "colab": {}
      },
      "cell_type": "code",
      "source": [
        "func grad_linear(_ input: Tensor<Float32>, _ output: Tensor<Float32>, _ output_grad: Tensor<Float32>,\n",
        "                 _ weights: Tensor<Float32>, _ bias: Tensor<Float32>\n",
        "                )\n",
        "-> (Tensor<Float32>, Tensor<Float32>, Tensor<Float32>)\n",
        "{\n",
        "    let input_grad   = matmul(output_grad, weights.transposed())\n",
        "    let weights_grad = matmul(input.transposed(), output_grad)//.sum(squeezingAxes: [0])\n",
        "    let bias_grad    = (output_grad).sum(squeezingAxes: [0])\n",
        "    return (input_grad, weights_grad, bias_grad)\n",
        "}"
      ],
      "execution_count": 0,
      "outputs": []
    },
    {
      "metadata": {
        "id": "076STwZj2Uu5",
        "colab_type": "text"
      },
      "cell_type": "markdown",
      "source": [
        "Forward combined with backward pass"
      ]
    },
    {
      "metadata": {
        "id": "vkm8aivpyfPI",
        "colab_type": "code",
        "outputId": "4116a423-1e59-4fb6-947d-b3c50bbff9ca",
        "colab": {
          "base_uri": "https://localhost:8080/",
          "height": 104
        }
      },
      "cell_type": "code",
      "source": [
        "// forward pass\n",
        "let l1 = F.linear(Xtrain_normalized, w1, b1)\n",
        "print(\"l1=\\(l1.shape)\")\n",
        "let l2 = F.relu(l1)\n",
        "print(\"l2=\\(l2.shape)\")\n",
        "let y_hat = F.linear(l2, w2, b2)\n",
        "print(\"y_hat=\\(y_hat.shape), l2=\\(l2.shape), w2=\\(w2.shape), b2=\\(b2.shape)\")\n",
        "let loss = mse(y_hat, y_train)\n",
        "print(\"y=\\(y_train.shape)\")"
      ],
      "execution_count": 0,
      "outputs": [
        {
          "output_type": "stream",
          "text": [
            "l1=TensorShape(dimensions: [50000, 50])\r\n",
            "l2=TensorShape(dimensions: [50000, 50])\r\n",
            "y_hat=TensorShape(dimensions: [50000, 1]), l2=TensorShape(dimensions: [50000, 50]), w2=TensorShape(dimensions: [50, 1]), b2=TensorShape(dimensions: [1])\r\n",
            "y=TensorShape(dimensions: [50000, 1])\r\n"
          ],
          "name": "stdout"
        }
      ]
    },
    {
      "metadata": {
        "id": "dgqcKq-VI9Th",
        "colab_type": "code",
        "outputId": "ea747cae-9e8a-4372-c198-abe8f0e5bcd4",
        "colab": {
          "base_uri": "https://localhost:8080/",
          "height": 84
        }
      },
      "cell_type": "code",
      "source": [
        "// backward pass\n",
        "let y_hat_grad_test = Float32(2.0) * Float32(1/y_hat.shape[0]) * (y_hat - y_train) \n",
        "let y_hat_grad = grad_mse(y_hat, y_train)\n",
        "\n",
        "y_hat_grad.shape"
      ],
      "execution_count": 0,
      "outputs": [
        {
          "output_type": "execute_result",
          "data": {
            "text/plain": [
              "▿ TensorShape\n",
              "  ▿ dimensions : 2 elements\n",
              "    - 0 : 50000\n",
              "    - 1 : 1\n"
            ]
          },
          "metadata": {
            "tags": []
          },
          "execution_count": 89
        }
      ]
    },
    {
      "metadata": {
        "id": "Oq3lamhbI_F9",
        "colab_type": "code",
        "outputId": "39314703-0caa-466b-ed3e-964ff05f8710",
        "colab": {
          "base_uri": "https://localhost:8080/",
          "height": 34
        }
      },
      "cell_type": "code",
      "source": [
        "let input_grad   = (y_hat_grad * w2.transposed())\n",
        "let weights_grad = (y_hat_grad * l2).sum(squeezingAxes: [0])\n",
        "let bias_grad    = (y_hat_grad * 1.0).sum(squeezingAxes: [0])\n",
        "print(\"\\(input_grad.shape), \\(weights_grad.shape), \\(bias_grad.shape)\")"
      ],
      "execution_count": 0,
      "outputs": [
        {
          "output_type": "stream",
          "text": [
            "TensorShape(dimensions: [50000, 50]), TensorShape(dimensions: [50]), TensorShape(dimensions: [1])\r\n"
          ],
          "name": "stdout"
        }
      ]
    },
    {
      "metadata": {
        "id": "vk_F89CnZZCQ",
        "colab_type": "code",
        "outputId": "c689b39a-6cdc-4fdc-cd84-5b2f9364d7fb",
        "colab": {
          "base_uri": "https://localhost:8080/",
          "height": 67
        }
      },
      "cell_type": "code",
      "source": [
        "let out = grad_linear(l2, y_hat, y_hat_grad, w2, b2)\n",
        "\n",
        "\n",
        "let l2_grad=out.0\n",
        "let w2_grad=out.1\n",
        "let b2_grad=out.2\n",
        "\n",
        "print(\"\\(l2.shape) \\(l2_grad.shape)\")\n",
        "print(\"\\(w2.shape) \\(w2_grad.shape)\")\n",
        "print(\"\\(b2.shape) \\(b2_grad.shape)\")"
      ],
      "execution_count": 0,
      "outputs": [
        {
          "output_type": "stream",
          "text": [
            "TensorShape(dimensions: [50000, 50]) TensorShape(dimensions: [50000, 50])\r\n",
            "TensorShape(dimensions: [50, 1]) TensorShape(dimensions: [50, 1])\r\n",
            "TensorShape(dimensions: [1]) TensorShape(dimensions: [1])\r\n"
          ],
          "name": "stdout"
        }
      ]
    },
    {
      "metadata": {
        "id": "fjTpZcq7Jacg",
        "colab_type": "code",
        "outputId": "7948f39b-2f99-4dfb-ea5d-853cbca89ee8",
        "colab": {
          "base_uri": "https://localhost:8080/",
          "height": 50
        }
      },
      "cell_type": "code",
      "source": [
        "let l1_grad = grad_relu(l1, l2, l2_grad)\n",
        "\n",
        "print(\"l1_grad=\\(l1.shape), l1_grad=\\(l1_grad.shape)\")\n",
        "print(\"l1=\\(l1.shape), l2=\\(l2.shape), l2_grad=\\(l2_grad.shape)\")"
      ],
      "execution_count": 0,
      "outputs": [
        {
          "output_type": "stream",
          "text": [
            "l1_grad=TensorShape(dimensions: [50000, 50]), l1_grad=TensorShape(dimensions: [50000, 50])\r\n",
            "l1=TensorShape(dimensions: [50000, 50]), l2=TensorShape(dimensions: [50000, 50]), l2_grad=TensorShape(dimensions: [50000, 50])\r\n"
          ],
          "name": "stdout"
        }
      ]
    },
    {
      "metadata": {
        "id": "GREEsP492360",
        "colab_type": "code",
        "outputId": "a83f9d56-a0e2-4af4-fb29-f74df3252f93",
        "colab": {
          "base_uri": "https://localhost:8080/",
          "height": 50
        }
      },
      "cell_type": "code",
      "source": [
        "print(\"output_grad=\\(l1_grad.shape), weights=\\(w1.transposed().shape)\")\n",
        "print(\"output_grad=\\(l1_grad.shape), input=\\(Xtrain_normalized.shape)\")  \n",
        "let (X_grad,w1_grad, b1_grad) = grad_linear(Xtrain_normalized, l1, l1_grad, w1, b1)"
      ],
      "execution_count": 0,
      "outputs": [
        {
          "output_type": "stream",
          "text": [
            "output_grad=TensorShape(dimensions: [50000, 50]), weights=TensorShape(dimensions: [50, 784])\r\n",
            "output_grad=TensorShape(dimensions: [50000, 50]), input=TensorShape(dimensions: [50000, 784])\r\n"
          ],
          "name": "stdout"
        }
      ]
    },
    {
      "metadata": {
        "id": "2MOL4dK64Cj8",
        "colab_type": "code",
        "outputId": "59aa205e-7b23-4371-9904-808e05bcf678",
        "colab": {
          "base_uri": "https://localhost:8080/",
          "height": 151
        }
      },
      "cell_type": "code",
      "source": [
        "print(\"X=\\(Xtrain_normalized.shape) X_grad=\\(X_grad.shape)\")\n",
        "print(\"w1=\\(w1.shape) w1_grad=\\(w1_grad.shape)\")\n",
        "print(\"b1=\\(b1.shape) b1_grad=\\(b1_grad.shape)\")\n",
        "print(\"l1=\\(l1.shape) l1_grad=\\(l1_grad.shape)\")\n",
        "print(\"l2=\\(l2.shape) l2_grad=\\(l2_grad.shape)\")\n",
        "print(\"w2=\\(w2.shape) w2_grad=\\(w2_grad.shape)\")\n",
        "print(\"b2=\\(b2.shape) b2_grad=\\(b2_grad.shape)\")\n",
        "print(\"y_hat=\\(y_hat.shape) y_hat_grad=\\(y_hat_grad.shape)\")"
      ],
      "execution_count": 0,
      "outputs": [
        {
          "output_type": "stream",
          "text": [
            "X=TensorShape(dimensions: [50000, 784]) X_grad=TensorShape(dimensions: [50000, 784])\n",
            "w1=TensorShape(dimensions: [784, 50]) w1_grad=TensorShape(dimensions: [784, 50])\n",
            "b1=TensorShape(dimensions: [50]) b1_grad=TensorShape(dimensions: [50])\n",
            "l1=TensorShape(dimensions: [50000, 50]) l1_grad=TensorShape(dimensions: [50000, 50])\n",
            "l2=TensorShape(dimensions: [50000, 50]) l2_grad=TensorShape(dimensions: [50000, 50])\n",
            "w2=TensorShape(dimensions: [50, 1]) w2_grad=TensorShape(dimensions: [50, 1])\n",
            "b2=TensorShape(dimensions: [1]) b2_grad=TensorShape(dimensions: [1])\n",
            "y_hat=TensorShape(dimensions: [50000, 1]) y_hat_grad=TensorShape(dimensions: [50000, 1])\n"
          ],
          "name": "stdout"
        }
      ]
    },
    {
      "metadata": {
        "id": "2l6hir1HyfYe",
        "colab_type": "text"
      },
      "cell_type": "markdown",
      "source": [
        "Compare the gradients we have found with gradients calculated by Tensorflow"
      ]
    },
    {
      "metadata": {
        "id": "9K49GUSZ5-yO",
        "colab_type": "code",
        "colab": {}
      },
      "cell_type": "code",
      "source": [
        "import TensorFlow\n",
        "\n",
        "@differentiable\n",
        "func identity(x: Tensor<Float32>) -> Tensor<Float32> { return x }\n",
        "\n",
        "// lin2(relu(lin1(input)))\n",
        "struct SwiftTFModel: Layer {\n",
        "    var layer1 = Dense<Float32>(weight: w1, bias: b1, activation: relu)\n",
        "    var layer2 = Dense<Float32>(weight: w2, bias: b2, activation: identity)\n",
        "    \n",
        "    @differentiable\n",
        "    func applied(to input: Tensor<Float>, in context: Context) -> Tensor<Float> {\n",
        "        return input.sequenced(in: context, through: layer1, layer2)\n",
        "    }\n",
        "}\n",
        "\n",
        "var model = SwiftTFModel()"
      ],
      "execution_count": 0,
      "outputs": []
    },
    {
      "metadata": {
        "id": "dMAxUY4z2HEe",
        "colab_type": "code",
        "colab": {}
      },
      "cell_type": "code",
      "source": [
        "// A `Context` tells the model what it's being used for. The `IrisModel` does\n",
        "// not actually use the `Context`, but the `Layer` API requires `Context` so\n",
        "// that it can support more complex models that depend on context. Here, we\n",
        "// construct an \"inference\" context because we're using the model to infer\n",
        "// labels.\n",
        "let ctx = Context(learningPhase: .inference)\n",
        "\n",
        "\n",
        "func forward(_ X: Tensor<Float32>, _ y: Tensor<Float32>, _ ctx: Context) -> Void {\n",
        "    let y_hat = model.applied(to: X, in: ctx)\n",
        "    print(y_hat[0..<5])\n",
        "    let loss2 = meanSquaredError(predicted:y_hat, expected: y)\n",
        "    print(\"Loss test: \\(loss2)\")\n",
        "}\n",
        "\n",
        "// Apply the model to a batch of features.\n",
        "let out = model.appliedForBackpropagation(to: Xtrain_normalized, in: ctx)\n",
        "let y_hat2 = out.output\n"
      ],
      "execution_count": 0,
      "outputs": []
    },
    {
      "metadata": {
        "id": "xnuoUznDMPfs",
        "colab_type": "code",
        "colab": {}
      },
      "cell_type": "code",
      "source": [
        "let ctx = Context(learningPhase: .inference)\n",
        "\n",
        "var layer1 = Dense<Float32>(weight: w1, bias: b1, activation: identity)\n",
        "var layer2 = Dense<Float32>(weight: w2, bias: b2, activation: identity)\n",
        "\n",
        "// forward pass\n",
        "let out_with_grad_1 = layer1.appliedForBackpropagation(to: Xtrain_normalized, in: ctx)\n",
        "let out1 = out_with_grad_1.output\n",
        "let out2 = relu(out1)\n",
        "let out_with_grad_3 = layer2.appliedForBackpropagation(to: out2, in: ctx)\n",
        "let out3 = out_with_grad_3.output\n",
        "\n",
        "// backward pass\n",
        "let gradients_1 = out_with_grad_1.backpropagator(out1)\n",
        "let X_grad_2 = gradients_1.inputGradient\n",
        "let layer1_grad = gradients_1.layerGradient\n",
        "let layer1_w_grad = layer1_grad.weight\n",
        "let layer1_b_grad = layer1_grad.bias\n",
        "\n",
        "let gradients_3 = out_with_grad_3.backpropagator(out3)\n",
        "let layer2_grad = gradients_3.inputGradient\n",
        "let layer3_grad = gradients_3.layerGradient\n",
        "let layer3_w_grad = layer3_grad.weight\n",
        "let layer3_b_grad = layer3_grad.bias"
      ],
      "execution_count": 0,
      "outputs": []
    },
    {
      "metadata": {
        "id": "-6WU39fbQopV",
        "colab_type": "text"
      },
      "cell_type": "markdown",
      "source": [
        "print the shapes of the gradients"
      ]
    },
    {
      "metadata": {
        "id": "pgMuYp4WILvP",
        "colab_type": "code",
        "outputId": "dcd3901f-92dc-4e1f-ba48-9e90885fd737",
        "colab": {
          "base_uri": "https://localhost:8080/",
          "height": 134
        }
      },
      "cell_type": "code",
      "source": [
        "print(\"X=\\(Xtrain_normalized.shape) X_grad=\\(X_grad_2.shape)\")\n",
        "print(\"w1=\\(w1.shape) w1_grad=\\(layer1_w_grad.shape)\")\n",
        "print(\"b1=\\(b1.shape) b1_grad=\\(layer1_b_grad.shape)\")\n",
        "print(\"l2=\\(l2.shape) l2_grad=\\(layer2_grad.shape)\")\n",
        "print(\"w2=\\(w2.shape) w2_grad=\\(layer3_w_grad.shape)\")\n",
        "print(\"b2=\\(b2.shape) b2_grad=\\(layer3_b_grad.shape)\")\n",
        "print(\"y_hat=\\(y_hat.shape) y_hat_grad=\\(y_hat_grad.shape)\")"
      ],
      "execution_count": 0,
      "outputs": [
        {
          "output_type": "stream",
          "text": [
            "X=TensorShape(dimensions: [50000, 784]) X_grad=TensorShape(dimensions: [50000, 784])\n",
            "w1=TensorShape(dimensions: [784, 50]) w1_grad=TensorShape(dimensions: [784, 50])\n",
            "b1=TensorShape(dimensions: [50]) b1_grad=TensorShape(dimensions: [50])\n",
            "l2=TensorShape(dimensions: [50000, 50]) l2_grad=TensorShape(dimensions: [50000, 50])\n",
            "w2=TensorShape(dimensions: [50, 1]) w2_grad=TensorShape(dimensions: [50, 1])\n",
            "b2=TensorShape(dimensions: [1]) b2_grad=TensorShape(dimensions: [1])\n",
            "y_hat=TensorShape(dimensions: [50000, 1]) y_hat_grad=TensorShape(dimensions: [50000, 1])\n"
          ],
          "name": "stdout"
        }
      ]
    },
    {
      "metadata": {
        "id": "SpQ9D1_CSOB4",
        "colab_type": "text"
      },
      "cell_type": "markdown",
      "source": [
        "Check if the gradients we calculated are almost equal to what tf calculated"
      ]
    },
    {
      "metadata": {
        "id": "KwFVh5mC3f6A",
        "colab_type": "code",
        "colab": {}
      },
      "cell_type": "code",
      "source": [
        "test_almost_eq(X_grad, X_grad_2, \"X gradients are not equal\")"
      ],
      "execution_count": 0,
      "outputs": []
    },
    {
      "metadata": {
        "id": "6pvH_uIlTKPE",
        "colab_type": "code",
        "outputId": "9f4597e7-615c-4e04-b4b7-9bff4cdbcab0",
        "colab": {
          "base_uri": "https://localhost:8080/",
          "height": 246
        }
      },
      "cell_type": "code",
      "source": [
        "test_almost_eq(w1_grad, layer1_w_grad, \"Layer 1 weigth gradients are not equal\")"
      ],
      "execution_count": 0,
      "outputs": [
        {
          "output_type": "stream",
          "text": [
            "Assertion failed: Layer 1 weigth gradients are not equal: file <Cell 171>, line 7\r\n",
            "Current stack trace:\r\n",
            "0    libswiftCore.so                    0x00007fd7e91bbf40 _swift_stdlib_reportFatalErrorInFile + 115\r\n",
            "1    libswiftCore.so                    0x00007fd7e91043dc <unavailable> + 3003356\r\n",
            "2    libswiftCore.so                    0x00007fd7e91044ce <unavailable> + 3003598\r\n",
            "3    libswiftCore.so                    0x00007fd7e8f4be12 <unavailable> + 1199634\r\n",
            "4    libswiftCore.so                    0x00007fd7e90ce6b2 <unavailable> + 2782898\r\n",
            "5    libswiftCore.so                    0x00007fd7e8f4b259 <unavailable> + 1196633\r\n"
          ],
          "name": "stdout"
        },
        {
          "output_type": "error",
          "ename": "",
          "evalue": "ignored",
          "traceback": [
            "Current stack trace:",
            "\tframe #2: 0x00007fd7c618ab3a $__lldb_expr3483`test_almost_eq(t1=<unavailable>, t2=<unavailable>, msg=<unavailable>) at <Cell 171>:7:5",
            "\tframe #3: 0x00007fd7c6186691 $__lldb_expr3576`main at <Cell 178>:1:1"
          ]
        }
      ]
    },
    {
      "metadata": {
        "id": "dZ3FtHHDzMZ7",
        "colab_type": "code",
        "outputId": "77c6af3d-a5bc-4d46-e104-d475cc3cf10f",
        "colab": {
          "base_uri": "https://localhost:8080/",
          "height": 266
        }
      },
      "cell_type": "code",
      "source": [
        "test_almost_eq(b1_grad, layer1_b_grad, \"Layer 1 bias gradients are not equal\", 1e-1)"
      ],
      "execution_count": 0,
      "outputs": [
        {
          "output_type": "stream",
          "text": [
            "Assertion failed: Layer 1 bias gradients are not equal: file <Cell 185>, line 7\r\n",
            "Current stack trace:\r\n",
            "0    libswiftCore.so                    0x00007fd7e91bbf40 _swift_stdlib_reportFatalErrorInFile + 115\r\n",
            "1    libswiftCore.so                    0x00007fd7e91043dc <unavailable> + 3003356\r\n",
            "2    libswiftCore.so                    0x00007fd7e91044ce <unavailable> + 3003598\r\n",
            "3    libswiftCore.so                    0x00007fd7e8f4be12 <unavailable> + 1199634\r\n",
            "4    libswiftCore.so                    0x00007fd7e90ce6b2 <unavailable> + 2782898\r\n",
            "5    libswiftCore.so                    0x00007fd7e8f4b259 <unavailable> + 1196633\r\n"
          ],
          "name": "stdout"
        },
        {
          "output_type": "error",
          "ename": "",
          "evalue": "ignored",
          "traceback": [
            "Current stack trace:",
            "\tframe #2: 0x00007fd7c617f9f6 $__lldb_expr3657`test_almost_eq(t1=<unavailable>, t2=<unavailable>, msg=<unavailable>, epsilon=<unavailable>) at <Cell 185>:7:5",
            "\tframe #3: 0x00007fd7c617d2df $__lldb_expr3695`main at <Cell 188>:1:1"
          ]
        }
      ]
    },
    {
      "metadata": {
        "id": "c88eUXP04H31",
        "colab_type": "code",
        "outputId": "cf782584-c63b-4a62-95e4-6cb5e65c119a",
        "colab": {
          "base_uri": "https://localhost:8080/",
          "height": 266
        }
      },
      "cell_type": "code",
      "source": [
        "test_almost_eq(w2_grad, layer3_w_grad, \"Layer 2 weigts gradients are not equal\", 1e-1)"
      ],
      "execution_count": 0,
      "outputs": [
        {
          "output_type": "stream",
          "text": [
            "Assertion failed: Layer 2 weigth gradients are not equal: file <Cell 185>, line 7\r\n",
            "Current stack trace:\r\n",
            "0    libswiftCore.so                    0x00007fd7e91bbf40 _swift_stdlib_reportFatalErrorInFile + 115\r\n",
            "1    libswiftCore.so                    0x00007fd7e91043dc <unavailable> + 3003356\r\n",
            "2    libswiftCore.so                    0x00007fd7e91044ce <unavailable> + 3003598\r\n",
            "3    libswiftCore.so                    0x00007fd7e8f4be12 <unavailable> + 1199634\r\n",
            "4    libswiftCore.so                    0x00007fd7e90ce6b2 <unavailable> + 2782898\r\n",
            "5    libswiftCore.so                    0x00007fd7e8f4b259 <unavailable> + 1196633\r\n"
          ],
          "name": "stdout"
        },
        {
          "output_type": "error",
          "ename": "",
          "evalue": "ignored",
          "traceback": [
            "Current stack trace:",
            "\tframe #2: 0x00007fd7c617f9f6 $__lldb_expr3657`test_almost_eq(t1=<unavailable>, t2=<unavailable>, msg=<unavailable>, epsilon=<unavailable>) at <Cell 185>:7:5",
            "\tframe #3: 0x00007fd7c617d07f $__lldb_expr3685`main at <Cell 187>:1:1"
          ]
        }
      ]
    },
    {
      "metadata": {
        "id": "zhcrmxLz5ATO",
        "colab_type": "code",
        "colab": {}
      },
      "cell_type": "code",
      "source": [
        "test_almost_eq(b2_grad, layer3_b_grad, \"Layer 2 bias gradients are not equal\")"
      ],
      "execution_count": 0,
      "outputs": []
    },
    {
      "metadata": {
        "id": "284t5T3lTWPm",
        "colab_type": "code",
        "colab": {}
      },
      "cell_type": "code",
      "source": [
        ""
      ],
      "execution_count": 0,
      "outputs": []
    }
  ]
}