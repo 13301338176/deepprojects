{
  "nbformat": 4,
  "nbformat_minor": 0,
  "metadata": {
    "colab": {
      "name": "dlfs_swift.ipynb",
      "version": "0.3.2",
      "provenance": [],
      "collapsed_sections": []
    },
    "kernelspec": {
      "name": "swift",
      "display_name": "Swift"
    },
    "accelerator": "GPU"
  },
  "cells": [
    {
      "metadata": {
        "id": "WKFnplUw5Ytn",
        "colab_type": "text"
      },
      "cell_type": "markdown",
      "source": [
        "### References:\n",
        "- Tensorflow Swift - [link](https://www.tensorflow.org/swift)\n",
        "- PythonKit - [Numy conversion](https://github.com/pvieito/PythonKit/blob/master/Tests/PythonKitTests/NumpyConversionTests.swift)\n",
        "- Swfit Optionals - [link](https://medium.com/@agoiabeladeyemi/optionals-in-swift-2b141f12f870)\n",
        "- Random numbers in Swift - [link](https://learnappmaking.com/random-numbers-swift/)\n",
        "- Functions in Swift - [link](https://www.programiz.com/swift-programming/function-parameter-return-values)\n",
        "- Assertions in Swift - [link](https://blog.krzyzanowskim.com/2015/03/09/swift-asserts-the-missing-manual/)\n",
        "- Swift by example - [link](http://brettbukowski.github.io/SwiftExamples/)"
      ]
    },
    {
      "metadata": {
        "id": "0rZ2otG4oKIR",
        "colab_type": "text"
      },
      "cell_type": "markdown",
      "source": [
        "### Imports\n",
        "\n",
        "Import some useful python libraries"
      ]
    },
    {
      "metadata": {
        "id": "aLrs_3cEmLbM",
        "colab_type": "code",
        "colab": {}
      },
      "cell_type": "code",
      "source": [
        "import Python\n",
        "let request = Python.import(\"urllib.request\")\n",
        "let pickle = Python.import(\"pickle\")\n",
        "let gzip = Python.import(\"gzip\")\n",
        "let np = Python.import(\"numpy\")\n",
        "let plt = Python.import(\"matplotlib.pyplot\")"
      ],
      "execution_count": 0,
      "outputs": []
    },
    {
      "metadata": {
        "id": "TCwJO_mmMkll",
        "colab_type": "text"
      },
      "cell_type": "markdown",
      "source": [
        "plotting"
      ]
    },
    {
      "metadata": {
        "id": "WRDtU-HgMjbj",
        "colab_type": "code",
        "outputId": "9be9a212-ead6-4aec-a411-d12d17fa7e60",
        "colab": {
          "base_uri": "https://localhost:8080/",
          "height": 34
        }
      },
      "cell_type": "code",
      "source": [
        "%include \"EnableIPythonDisplay.swift\"\n",
        "IPythonDisplay.shell.enable_matplotlib(\"inline\")"
      ],
      "execution_count": 0,
      "outputs": [
        {
          "output_type": "execute_result",
          "data": {
            "text/plain": [
              "('inline', 'module://ipykernel.pylab.backend_inline')\n"
            ]
          },
          "metadata": {
            "tags": []
          },
          "execution_count": 2
        }
      ]
    },
    {
      "metadata": {
        "id": "_hCo2pF7vkzG",
        "colab_type": "code",
        "colab": {}
      },
      "cell_type": "code",
      "source": [
        "import TensorFlow"
      ],
      "execution_count": 0,
      "outputs": []
    },
    {
      "metadata": {
        "id": "lI7p-yppi6Pc",
        "colab_type": "text"
      },
      "cell_type": "markdown",
      "source": [
        "Swift stdlib imports"
      ]
    },
    {
      "metadata": {
        "id": "WKlDcyFalyu6",
        "colab_type": "text"
      },
      "cell_type": "markdown",
      "source": [
        "### MNIST\n",
        "Download the dataset"
      ]
    },
    {
      "metadata": {
        "id": "kZRlD4utdPuX",
        "colab_type": "code",
        "outputId": "d01d673e-f161-4eb5-89dd-008a0b1d8c9b",
        "colab": {
          "base_uri": "https://localhost:8080/",
          "height": 34
        }
      },
      "cell_type": "code",
      "source": [
        "let result = request.urlretrieve(\n",
        "    \"https://github.com/mnielsen/neural-networks-and-deep-learning/raw/master/data/mnist.pkl.gz\",\n",
        "    \"mnist.pkl.gz\")\n",
        "let filename = result[0]; filename"
      ],
      "execution_count": 0,
      "outputs": [
        {
          "output_type": "execute_result",
          "data": {
            "text/plain": [
              "mnist.pkl.gz\n"
            ]
          },
          "metadata": {
            "tags": []
          },
          "execution_count": 4
        }
      ]
    },
    {
      "metadata": {
        "id": "-sWhL4VEn1PC",
        "colab_type": "code",
        "colab": {}
      },
      "cell_type": "code",
      "source": [
        "let mnist = pickle.load(gzip.open(filename), encoding:\"latin-1\")\n",
        "// read train, validation and test datasets\n",
        "let train_mnist = mnist[0]\n",
        "let valid_mnist = mnist[1]\n",
        "let test_mnist = mnist[2]"
      ],
      "execution_count": 0,
      "outputs": []
    },
    {
      "metadata": {
        "id": "1uKeMB10vMVQ",
        "colab_type": "text"
      },
      "cell_type": "markdown",
      "source": [
        "Read the arrays into Tensorflow tensors"
      ]
    },
    {
      "metadata": {
        "id": "aDjzFZ2-Sg_7",
        "colab_type": "code",
        "outputId": "eaef4caf-7392-49b1-fbb7-2beef837c8bd",
        "colab": {
          "base_uri": "https://localhost:8080/",
          "height": 134
        }
      },
      "cell_type": "code",
      "source": [
        "train_mnist"
      ],
      "execution_count": 0,
      "outputs": [
        {
          "output_type": "execute_result",
          "data": {
            "text/plain": [
              "(array([[0., 0., 0., ..., 0., 0., 0.],\n",
              "       [0., 0., 0., ..., 0., 0., 0.],\n",
              "       [0., 0., 0., ..., 0., 0., 0.],\n",
              "       ...,\n",
              "       [0., 0., 0., ..., 0., 0., 0.],\n",
              "       [0., 0., 0., ..., 0., 0., 0.],\n",
              "       [0., 0., 0., ..., 0., 0., 0.]], dtype=float32), array([5, 0, 4, ..., 8, 4, 8]))\n"
            ]
          },
          "metadata": {
            "tags": []
          },
          "execution_count": 188
        }
      ]
    },
    {
      "metadata": {
        "id": "6x_meK5sPgAL",
        "colab_type": "code",
        "colab": {}
      },
      "cell_type": "code",
      "source": [
        "func unsequeeze(_ array: PythonObject) -> PythonObject {\n",
        "    return np.expand_dims(array, axis:-1).astype(np.float32)\n",
        "}"
      ],
      "execution_count": 0,
      "outputs": []
    },
    {
      "metadata": {
        "id": "12FNFOq8oa0L",
        "colab_type": "code",
        "colab": {}
      },
      "cell_type": "code",
      "source": [
        "// read training tuple into separate variables\n",
        "let pyobj_train_x = train_mnist[0]\n",
        "let pyobj_train_y = unsequeeze(train_mnist[1]) // expand dimension\n",
        "// read validation tuple into separate variables\n",
        "let pyobj_valid_x = valid_mnist[0]\n",
        "let pyobj_valid_y = unsequeeze(valid_mnist[1]) // expand dimension\n",
        "// read test tuple into separate variables\n",
        "let pyobj_test_x = test_mnist[0]\n",
        "let pyobj_test_y = unsequeeze(test_mnist[1]) // expand dimension"
      ],
      "execution_count": 0,
      "outputs": []
    },
    {
      "metadata": {
        "id": "3APmB_lWBNAr",
        "colab_type": "code",
        "outputId": "4e03e14c-accb-4f5b-ad08-6b047ed387a0",
        "colab": {
          "base_uri": "https://localhost:8080/",
          "height": 34
        }
      },
      "cell_type": "code",
      "source": [
        "pyobj_train_y.shape"
      ],
      "execution_count": 0,
      "outputs": [
        {
          "output_type": "execute_result",
          "data": {
            "text/plain": [
              "(50000, 1)\n"
            ]
          },
          "metadata": {
            "tags": []
          },
          "execution_count": 198
        }
      ]
    },
    {
      "metadata": {
        "id": "cRABcyn2or34",
        "colab_type": "text"
      },
      "cell_type": "markdown",
      "source": [
        "Training data"
      ]
    },
    {
      "metadata": {
        "id": "KtAPci1C3mls",
        "colab_type": "code",
        "colab": {}
      },
      "cell_type": "code",
      "source": [
        "// read tensorflow arrays into Tensors\n",
        "let X_train = Tensor<Float32>(numpy: pyobj_train_x)! // ! to unwrap optionals\n",
        "let y_train = Tensor<Float32>(numpy: pyobj_train_y)! // ! to unwrap optionals"
      ],
      "execution_count": 0,
      "outputs": []
    },
    {
      "metadata": {
        "id": "MSqMFSxqotSa",
        "colab_type": "text"
      },
      "cell_type": "markdown",
      "source": [
        "Validation data"
      ]
    },
    {
      "metadata": {
        "id": "d57vU7ePovpw",
        "colab_type": "code",
        "colab": {}
      },
      "cell_type": "code",
      "source": [
        "// read tensorflow arrays into Tensors\n",
        "let X_valid = Tensor<Float32>(numpy: pyobj_valid_x)! // ! to unwrap optionals\n",
        "let y_valid = Tensor<Float32>(numpy: pyobj_valid_y)! // ! to unwrap optionals"
      ],
      "execution_count": 0,
      "outputs": []
    },
    {
      "metadata": {
        "id": "fZ-D6EKGo295",
        "colab_type": "text"
      },
      "cell_type": "markdown",
      "source": [
        "Test data"
      ]
    },
    {
      "metadata": {
        "id": "ygwPLCsJo2Zf",
        "colab_type": "code",
        "colab": {}
      },
      "cell_type": "code",
      "source": [
        "// read tensorflow arrays into Tensors\n",
        "let X_test = Tensor<Float32>(numpy: pyobj_test_x)! // ! to unwrap optionals\n",
        "let y_test = Tensor<Float32>(numpy: pyobj_test_y)! // ! to unwrap optionals"
      ],
      "execution_count": 0,
      "outputs": []
    },
    {
      "metadata": {
        "id": "f-iUOWX2KSaa",
        "colab_type": "code",
        "outputId": "989fd2e1-4c6b-400b-fdd5-e631ebf04f17",
        "colab": {
          "base_uri": "https://localhost:8080/",
          "height": 34
        }
      },
      "cell_type": "code",
      "source": [
        "print(\"\\(X_train.shape) \\(y_train.shape)\") // string interpolation"
      ],
      "execution_count": 0,
      "outputs": [
        {
          "output_type": "stream",
          "text": [
            "TensorShape(dimensions: [50000, 784]) TensorShape(dimensions: [50000, 1])\r\n"
          ],
          "name": "stdout"
        }
      ]
    },
    {
      "metadata": {
        "id": "CdDZrVyQopur",
        "colab_type": "code",
        "outputId": "897bf7e8-ce93-4ac0-8662-39ade4a97cbc",
        "colab": {
          "base_uri": "https://localhost:8080/",
          "height": 84
        }
      },
      "cell_type": "code",
      "source": [
        "X_train.shape"
      ],
      "execution_count": 0,
      "outputs": [
        {
          "output_type": "execute_result",
          "data": {
            "text/plain": [
              "▿ TensorShape\n",
              "  ▿ dimensions : 2 elements\n",
              "    - 0 : 50000\n",
              "    - 1 : 784\n"
            ]
          },
          "metadata": {
            "tags": []
          },
          "execution_count": 10
        }
      ]
    },
    {
      "metadata": {
        "id": "4kDzL7WgwFIo",
        "colab_type": "code",
        "outputId": "4ae73eb7-693e-4b40-ce50-bb6cab494f7b",
        "colab": {
          "base_uri": "https://localhost:8080/",
          "height": 84
        }
      },
      "cell_type": "code",
      "source": [
        "y_train.shape"
      ],
      "execution_count": 0,
      "outputs": [
        {
          "output_type": "execute_result",
          "data": {
            "text/plain": [
              "▿ TensorShape\n",
              "  ▿ dimensions : 2 elements\n",
              "    - 0 : 50000\n",
              "    - 1 : 1\n"
            ]
          },
          "metadata": {
            "tags": []
          },
          "execution_count": 11
        }
      ]
    },
    {
      "metadata": {
        "id": "TO_ls7oPDQP6",
        "colab_type": "text"
      },
      "cell_type": "markdown",
      "source": [
        "### Plotting"
      ]
    },
    {
      "metadata": {
        "id": "sTo2mOvJNbWN",
        "colab_type": "code",
        "colab": {}
      },
      "cell_type": "code",
      "source": [
        "let sample1 = X_train[0].reshaped(to: [28, 28]).array // ShapedArray"
      ],
      "execution_count": 0,
      "outputs": []
    },
    {
      "metadata": {
        "id": "sQqmQUsjNnzh",
        "colab_type": "code",
        "colab": {}
      },
      "cell_type": "code",
      "source": [
        "let sample2 = X_train[0].reshaped(to: [28, 28]).scalars // simple array"
      ],
      "execution_count": 0,
      "outputs": []
    },
    {
      "metadata": {
        "id": "1Dqv-bbUgl9z",
        "colab_type": "code",
        "outputId": "a2aff444-5988-45cc-eb7e-868a109589eb",
        "colab": {
          "base_uri": "https://localhost:8080/",
          "height": 34
        }
      },
      "cell_type": "code",
      "source": [
        "let sample3 = X_train[0].reshaped(to: [28, 28]).makeNumpyArray()\n",
        "sample3.shape"
      ],
      "execution_count": 0,
      "outputs": [
        {
          "output_type": "execute_result",
          "data": {
            "text/plain": [
              "(28, 28)\n"
            ]
          },
          "metadata": {
            "tags": []
          },
          "execution_count": 14
        }
      ]
    },
    {
      "metadata": {
        "id": "h1lpDLAeRUjE",
        "colab_type": "text"
      },
      "cell_type": "markdown",
      "source": [
        "transform the scalars into a 28 by 28 image and plot it"
      ]
    },
    {
      "metadata": {
        "id": "CdCH9bfy2lQb",
        "colab_type": "code",
        "outputId": "032002a0-3e5f-45b4-bbce-22fe6208c917",
        "colab": {
          "base_uri": "https://localhost:8080/",
          "height": 286
        }
      },
      "cell_type": "code",
      "source": [
        "plt.imshow(np.reshape(sample2, newshape:[28, 28]), cmap:\"gray\")\n",
        "plt.show()"
      ],
      "execution_count": 0,
      "outputs": [
        {
          "output_type": "display_data",
          "data": {
            "image/png": "[encoded data removed]",
            "text/plain": [
              "<Figure size 432x288 with 1 Axes>"
            ]
          },
          "metadata": {
            "tags": []
          }
        },
        {
          "output_type": "execute_result",
          "data": {
            "text/plain": [
              "None\n"
            ]
          },
          "metadata": {
            "tags": []
          },
          "execution_count": 15
        }
      ]
    },
    {
      "metadata": {
        "id": "LUGGScZ-qWf9",
        "colab_type": "text"
      },
      "cell_type": "markdown",
      "source": [
        "### Data"
      ]
    },
    {
      "metadata": {
        "id": "i05p-4iJfGm0",
        "colab_type": "text"
      },
      "cell_type": "markdown",
      "source": [
        "#### Normalization"
      ]
    },
    {
      "metadata": {
        "id": "vAGcol9Dmitc",
        "colab_type": "code",
        "colab": {}
      },
      "cell_type": "code",
      "source": [
        "// normalization helper functions\n",
        "func mean(t: Tensor<Float32>) -> Float32 {\n",
        "    let res_tensor = t.mean()\n",
        "    return res_tensor.scalar!\n",
        "}\n",
        "\n",
        "func stddev(t: Tensor<Float32>) -> Float32 {\n",
        "    let mean = t.mean()\n",
        "    let res_tensor = sqrt(t.squared().mean() - mean*mean)\n",
        "    return res_tensor.scalar!\n",
        "}"
      ],
      "execution_count": 0,
      "outputs": []
    },
    {
      "metadata": {
        "id": "ci2E2bVRlhGk",
        "colab_type": "code",
        "colab": {}
      },
      "cell_type": "code",
      "source": [
        "// test helper functions\n",
        "func test_near_zero(_ val: Float32, _ msg: String) -> Void {\n",
        "    assert(val < 1e-3, msg)\n",
        "}"
      ],
      "execution_count": 0,
      "outputs": []
    },
    {
      "metadata": {
        "id": "ldFCav6FfGLj",
        "colab_type": "code",
        "colab": {}
      },
      "cell_type": "code",
      "source": [
        "let m = mean(t: X_train)\n",
        "let s = stddev(t: X_train)"
      ],
      "execution_count": 0,
      "outputs": []
    },
    {
      "metadata": {
        "id": "mRJKbRKCjIvd",
        "colab_type": "code",
        "colab": {}
      },
      "cell_type": "code",
      "source": [
        "let Xtrain_normalized = (X_train - m)/s\n",
        "let Xvalid_normalized = (X_valid - m)/s\n",
        "let Xtest_normalized = (X_test - m)/s"
      ],
      "execution_count": 0,
      "outputs": []
    },
    {
      "metadata": {
        "id": "balLH3OYn1de",
        "colab_type": "text"
      },
      "cell_type": "markdown",
      "source": [
        "Check that X is really normalized (mean 0 and standard deviation of 1)"
      ]
    },
    {
      "metadata": {
        "id": "-LYpOD0VpLIp",
        "colab_type": "code",
        "colab": {}
      },
      "cell_type": "code",
      "source": [
        "test_near_zero(mean(t: Xtrain_normalized), \"Mean not close to 0\")\n",
        "test_near_zero(abs(stddev(t: Xtrain_normalized) - 1), \"Standard deviation not close to 1\")"
      ],
      "execution_count": 0,
      "outputs": []
    },
    {
      "metadata": {
        "id": "JR7QLmN7jQDZ",
        "colab_type": "code",
        "outputId": "5d81a296-7eba-4817-b242-fd18333b9e76",
        "colab": {
          "base_uri": "https://localhost:8080/",
          "height": 34
        }
      },
      "cell_type": "code",
      "source": [
        "print(\"mean=\\(mean(t: Xtrain_normalized)), stddev=\\(stddev(t: Xtrain_normalized))\")"
      ],
      "execution_count": 0,
      "outputs": [
        {
          "output_type": "stream",
          "text": [
            "mean=1.6934141e-08, stddev=1.0000006\r\n"
          ],
          "name": "stdout"
        }
      ]
    },
    {
      "metadata": {
        "id": "ZP9F1nMKRqyv",
        "colab_type": "text"
      },
      "cell_type": "markdown",
      "source": [
        "### Initial model\n",
        "Let's start with an initial FNN with one hiden layer, and instead of number of classes output to which would apply a categorical cross entropy loss function. To simplify the architecture we use root squared mean error and thus the final output would be one value."
      ]
    },
    {
      "metadata": {
        "id": "9pNcMyLeeHMK",
        "colab_type": "text"
      },
      "cell_type": "markdown",
      "source": [
        "A model contains a set of parameters initialized randomly, then use the gradients to gradually update them through SGD."
      ]
    },
    {
      "metadata": {
        "id": "tCc-eQXzTwAp",
        "colab_type": "code",
        "colab": {}
      },
      "cell_type": "code",
      "source": [
        "let nh: Int32 = 50 // number of hidden units\n",
        "let nc: Int32 = 10 // number of classes\n",
        "let fs: Int32 = X_train.shape[1] // input features size"
      ],
      "execution_count": 0,
      "outputs": []
    },
    {
      "metadata": {
        "id": "gzCtTbloUdLZ",
        "colab_type": "text"
      },
      "cell_type": "markdown",
      "source": [
        "simple linear model"
      ]
    },
    {
      "metadata": {
        "id": "b_SMryUavYEU",
        "colab_type": "code",
        "colab": {}
      },
      "cell_type": "code",
      "source": [
        "func randn(_ ni: Int32, _ no: Int32) -> Tensor<Float32> {\n",
        "    let np_array = np.random.randn(ni, no).astype(np.float32)\n",
        "    let np_array_normalized = (np_array - np_array.mean()) / np_array.std()\n",
        "    let tensor = Tensor<Float32>(numpy: np_array_normalized)\n",
        "    return tensor!\n",
        "}\n",
        "\n",
        "func kaiming_init(_ ni: Int32, _ no: Int32) -> Tensor<Float32> {\n",
        "    let np_array = np.random.randn(ni, no).astype(np.float32)\n",
        "    let tensor = Tensor<Float32>(numpy: np_array)\n",
        "    return tensor! * sqrt(2.0 / Float32(ni)) // kaiming\n",
        "}\n",
        "\n",
        "func zeros(_ n: Int32) -> Tensor<Float32> {\n",
        "    let np_array = np.zeros(n).astype(np.float32)\n",
        "    let tensor = Tensor<Float32>(numpy: np_array)\n",
        "    return tensor!\n",
        "}"
      ],
      "execution_count": 0,
      "outputs": []
    },
    {
      "metadata": {
        "id": "s98kpiInauVs",
        "colab_type": "code",
        "colab": {}
      },
      "cell_type": "code",
      "source": [
        "var w1 = randn(fs, nh)\n",
        "var b1 = zeros(nh)\n",
        "var w2 = randn(nh, 1)\n",
        "var b2 = zeros(nh)"
      ],
      "execution_count": 0,
      "outputs": []
    },
    {
      "metadata": {
        "id": "wEvAH3DhbWzs",
        "colab_type": "text"
      },
      "cell_type": "markdown",
      "source": [
        "matrix multiplication is a foundational operation in NN, thus it has to be very fast"
      ]
    },
    {
      "metadata": {
        "id": "G6EE5qJG8CwJ",
        "colab_type": "code",
        "colab": {}
      },
      "cell_type": "code",
      "source": [
        "test_near_zero(mean(t: w1), \"Mean not close to 0\")\n",
        "test_near_zero(abs(stddev(t: w1) - 1), \"Standard deviation not close to 1\")"
      ],
      "execution_count": 0,
      "outputs": []
    },
    {
      "metadata": {
        "id": "FwhKcodLzASO",
        "colab_type": "code",
        "outputId": "16640d53-da88-41bc-e0b7-8dec324a574a",
        "colab": {
          "base_uri": "https://localhost:8080/",
          "height": 34
        }
      },
      "cell_type": "code",
      "source": [
        "print(\"\\(mean(t: w1)) \\(stddev(t: w1))\")"
      ],
      "execution_count": 0,
      "outputs": [
        {
          "output_type": "stream",
          "text": [
            "-3.1140386e-09 1.0\r\n"
          ],
          "name": "stdout"
        }
      ]
    },
    {
      "metadata": {
        "id": "F2HPu-IE2y8D",
        "colab_type": "text"
      },
      "cell_type": "markdown",
      "source": [
        "define functions for NN layers"
      ]
    },
    {
      "metadata": {
        "id": "4JoKm3oTzGTV",
        "colab_type": "code",
        "colab": {}
      },
      "cell_type": "code",
      "source": [
        "// NN layers grouped in one class\n",
        "class F {\n",
        "    static func linear(_ x: Tensor<Float32>, _ w: Tensor<Float32>, _ b: Tensor<Float32>) -> Tensor<Float32> {\n",
        "        return matmul(x, w) + b\n",
        "    }\n",
        "\n",
        "    static func relu(_ x: Tensor<Float32>) -> Tensor<Float32> {\n",
        "        return max(x, 0) - 0.5 // to make this layer output mean at 0.\n",
        "    }\n",
        "}"
      ],
      "execution_count": 0,
      "outputs": []
    },
    {
      "metadata": {
        "id": "IFtlW-PO2Ycr",
        "colab_type": "code",
        "colab": {}
      },
      "cell_type": "code",
      "source": [
        "let o1 = F.linear(X_train, w1, b1)"
      ],
      "execution_count": 0,
      "outputs": []
    },
    {
      "metadata": {
        "id": "_D2NZjIn2dXZ",
        "colab_type": "code",
        "outputId": "5e5e7419-f86c-4f9e-96bb-d3b14fd829ef",
        "colab": {
          "base_uri": "https://localhost:8080/",
          "height": 34
        }
      },
      "cell_type": "code",
      "source": [
        "print(\"\\(mean(t: o1)) \\(stddev(t: o1))\")"
      ],
      "execution_count": 0,
      "outputs": [
        {
          "output_type": "stream",
          "text": [
            "0.5935556 9.077584\r\n"
          ],
          "name": "stdout"
        }
      ]
    },
    {
      "metadata": {
        "id": "XkRnjbsi4pDS",
        "colab_type": "text"
      },
      "cell_type": "markdown",
      "source": [
        "Now this is a problem, we would wanted to have the output of the liear layer to be have a variance onf 1 just as is the input of this layer, this to avoind gradients vanishing/explosion when using deep NN.\n",
        "\n",
        "This is where Kaiming initialization comes to rescue. A simplified version of it consists of dividing the parameters by square root of the number of input units. The 2 is used to make the ."
      ]
    },
    {
      "metadata": {
        "id": "BRVtYaz64iVl",
        "colab_type": "code",
        "outputId": "927fd99b-6132-4a95-dfda-5da3a77444e8",
        "colab": {
          "base_uri": "https://localhost:8080/",
          "height": 34
        }
      },
      "cell_type": "code",
      "source": [
        "let w1_kaiming = kaiming_init(fs, nh)\n",
        "let o1_kaiming = F.relu(F.linear(Xtrain_normalized, w1_kaiming, b1))\n",
        "print(\"\\(mean(t: o1_kaiming)) \\(stddev(t: o1_kaiming))\")"
      ],
      "execution_count": 0,
      "outputs": [
        {
          "output_type": "stream",
          "text": [
            "0.06218194 0.838228\r\n"
          ],
          "name": "stdout"
        }
      ]
    },
    {
      "metadata": {
        "id": "k3cWTqECGUr-",
        "colab_type": "text"
      },
      "cell_type": "markdown",
      "source": [
        "Now as we can construct a simple model and do a forward pass"
      ]
    },
    {
      "metadata": {
        "id": "hLv4f-i7AscJ",
        "colab_type": "code",
        "colab": {}
      },
      "cell_type": "code",
      "source": [
        "class Model {\n",
        "    var w1: Tensor<Float32>\n",
        "    var b1: Tensor<Float32>\n",
        "    var w2: Tensor<Float32>\n",
        "    var b2: Tensor<Float32>\n",
        "    \n",
        "    init(_ fs: Int32, _ nh: Int32) {\n",
        "        self.w1 = kaiming_init(fs, nh)\n",
        "        self.b1 = zeros(nh)\n",
        "        self.w2 = kaiming_init(nh, 1)\n",
        "        self.b2 = zeros(1)\n",
        "    }\n",
        "    \n",
        "    func forward(_ x: Tensor<Float32>) -> Tensor<Float32> {\n",
        "        let l1 = F.linear(x, self.w1, self.b1)\n",
        "        let l2 = F.relu(l1)\n",
        "        let l3 = F.linear(l2, self.w2, self.b2)\n",
        "        return l3\n",
        "    }\n",
        "}"
      ],
      "execution_count": 0,
      "outputs": []
    },
    {
      "metadata": {
        "id": "6lP80YG4KC6V",
        "colab_type": "code",
        "colab": {}
      },
      "cell_type": "code",
      "source": [
        "let m = Model(fs, nh)"
      ],
      "execution_count": 0,
      "outputs": []
    },
    {
      "metadata": {
        "id": "5Z5exkAHUBoo",
        "colab_type": "text"
      },
      "cell_type": "markdown",
      "source": [
        "### Forward"
      ]
    },
    {
      "metadata": {
        "id": "cVigkNvdK7EF",
        "colab_type": "code",
        "colab": {}
      },
      "cell_type": "code",
      "source": [
        "let y_hat = m.forward(X_normalized)"
      ],
      "execution_count": 0,
      "outputs": []
    },
    {
      "metadata": {
        "id": "AMpFERT2LCnP",
        "colab_type": "code",
        "outputId": "f39426bc-41c7-4ae1-f55c-66c1879556be",
        "colab": {
          "base_uri": "https://localhost:8080/",
          "height": 34
        }
      },
      "cell_type": "code",
      "source": [
        "y_hat[10]"
      ],
      "execution_count": 0,
      "outputs": [
        {
          "output_type": "execute_result",
          "data": {
            "text/plain": [
              "[-2.0750358]\n"
            ]
          },
          "metadata": {
            "tags": []
          },
          "execution_count": 178
        }
      ]
    },
    {
      "metadata": {
        "id": "2QHWFIZZOXWc",
        "colab_type": "text"
      },
      "cell_type": "markdown",
      "source": [
        "loss function MSE"
      ]
    },
    {
      "metadata": {
        "id": "MyhbENdTLIEP",
        "colab_type": "code",
        "colab": {}
      },
      "cell_type": "code",
      "source": [
        "func mse(_ t1: Tensor<Float32>, _ t2: Tensor<Float32>) -> Float32 {\n",
        "    let res_tensor = (t1 - t2).squared().mean()\n",
        "    return res_tensor.scalar!\n",
        "}"
      ],
      "execution_count": 0,
      "outputs": []
    },
    {
      "metadata": {
        "id": "7eR_dIKvOvnT",
        "colab_type": "code",
        "outputId": "95c69f7a-b51b-4936-db7a-9b7a17a0f412",
        "colab": {
          "base_uri": "https://localhost:8080/",
          "height": 34
        }
      },
      "cell_type": "code",
      "source": [
        "mse(y_hat, y_train)"
      ],
      "execution_count": 0,
      "outputs": [
        {
          "output_type": "execute_result",
          "data": {
            "text/plain": [
              "22.626156\n"
            ]
          },
          "metadata": {
            "tags": []
          },
          "execution_count": 203
        }
      ]
    },
    {
      "metadata": {
        "id": "Aqm8YBLCT8PG",
        "colab_type": "text"
      },
      "cell_type": "markdown",
      "source": [
        "#### Backward"
      ]
    },
    {
      "metadata": {
        "id": "FKgaomiGUiQn",
        "colab_type": "text"
      },
      "cell_type": "markdown",
      "source": [
        "Chain Rule: \n",
        "$$\\hat{y} = linear_2(relu(linear_1(X)))$$\n",
        "$$loss = mse(\\hat{y}, y)$$\n",
        "According to the Chain rule if $y=f(u)$ and $u=g(x)$ then the gradient of $y$ to the respect of $x$ is the multiplication of the gradient of  $y$ to  $u$ by the gradient of  $u$ by  $x$. i.e.\n",
        "$$\\frac{dy}{dx} = \\frac{dy}{du} . \\frac{du}{dx}$$"
      ]
    },
    {
      "metadata": {
        "id": "6-C8uqcSgxQq",
        "colab_type": "text"
      },
      "cell_type": "markdown",
      "source": [
        "#### Gradients\n",
        "The gradient of a function (i.e. the output of $f(x)$) with respect to its input (i.e. the output of previous layer) $x$."
      ]
    },
    {
      "metadata": {
        "id": "i2F8pGYDXLEC",
        "colab_type": "text"
      },
      "cell_type": "markdown",
      "source": [
        "Gradient of MSE loss function $mse(\\hat{y}, y) = \\frac{1}{m} *\\sum_{i=1}^{m}  (\\hat{y}_i - y_i)^2$  is $grad_{mse} = 2 * \\frac{1}{m} *  \\sum_{i=1}^{m}  (\\hat{y}_i - y_i)$."
      ]
    },
    {
      "metadata": {
        "id": "wmCenWQEPIm9",
        "colab_type": "code",
        "colab": {}
      },
      "cell_type": "code",
      "source": [
        "func grad_mse(_ input: Tensor<Float32>, _ output: Tensor<Float32>)\n",
        "-> Tensor<Float32> {\n",
        "    let m = Float32(X_train.shape[0])\n",
        "    return Float32(2.0) * (1/m) * (input - output)\n",
        "}"
      ],
      "execution_count": 0,
      "outputs": []
    },
    {
      "metadata": {
        "id": "ei8Q998hhqie",
        "colab_type": "text"
      },
      "cell_type": "markdown",
      "source": [
        "Gradient of ReLU activation fuction $ReLU(x) = max(x, 0)$ is $grad_{ReLU} = \\left \\{ \\begin{array}{ll}\n",
        "1 & x>0 \\\\\n",
        "0 & x \\leq 0\n",
        "\\end{array}\n",
        "\\right .$"
      ]
    },
    {
      "metadata": {
        "id": "LULTzQ6wgmqq",
        "colab_type": "code",
        "colab": {}
      },
      "cell_type": "code",
      "source": [
        "func grad_relu(_ input: Tensor<Float32>, _ output: Tensor<Float32>, _ output_grad: Tensor<Float32>)\n",
        "-> Tensor<Float32> {\n",
        "    return min(ceil(max(input, 0.0)), 1) * output_grad\n",
        "}"
      ],
      "execution_count": 0,
      "outputs": []
    },
    {
      "metadata": {
        "id": "RxxX967Zrg7K",
        "colab_type": "text"
      },
      "cell_type": "markdown",
      "source": [
        "Gradient of matrix product is a matrix product by the transpose (check Matrix Calculus resource).\n",
        "\n",
        "Recall $linear(x) = x * w + b$ thus the gradients respectively to each element are $$\\left \\{\n",
        "  \\begin{array}{ll}\n",
        "    \\frac{d}{dx} linear(x)  & = w \\\\\n",
        "    \\frac{d}{dw} linear(x) & = x \\\\\n",
        "    \\frac{d}{db} linear(x)  & = 1\n",
        "  \\end{array}\n",
        "\\right .$$"
      ]
    },
    {
      "metadata": {
        "id": "x6tr-t74PbW2",
        "colab_type": "code",
        "colab": {}
      },
      "cell_type": "code",
      "source": [
        "func grad_linear(_ input: Tensor<Float32>, _ output: Tensor<Float32>, _ output_grad: Tensor<Float32>,\n",
        "                 _ weights: Tensor<Float32>, _ bias: Tensor<Float32>\n",
        "                )\n",
        "-> (Tensor<Float32>, Tensor<Float32>, Tensor<Float32>)\n",
        "{\n",
        "    let input_grad   = (output_grad * weights.transposed())\n",
        "    let weights_grad = (output_grad * input).sum(squeezingAxes: [0])\n",
        "    let bias_grad    = (output_grad * 1.0).sum(squeezingAxes: [0])\n",
        "    return (input_grad, weights_grad, bias_grad)\n",
        "}"
      ],
      "execution_count": 0,
      "outputs": []
    },
    {
      "metadata": {
        "id": "076STwZj2Uu5",
        "colab_type": "text"
      },
      "cell_type": "markdown",
      "source": [
        "Forward combined with backward pass"
      ]
    },
    {
      "metadata": {
        "id": "vkm8aivpyfPI",
        "colab_type": "code",
        "colab": {}
      },
      "cell_type": "code",
      "source": [
        "// forward pass\n",
        "let l1 = F.linear(X_normalized, w1, b1)\n",
        "let l2 = F.relu(l1)\n",
        "let y_hat = F.linear(l2, w2, b2)\n",
        "let loss = mse(y_hat, y_train)\n",
        "// backward pass\n",
        "let y_hat_grad = grad_mse(y_hat, y_train)\n",
        "let (l2_grad,w2_grad, b2_grad) = grad_linear(l2, y_hat, y_hat_grad, w2, b2)\n",
        "let l1_grad = grad_relu(l1, l2, l2_grad)"
      ],
      "execution_count": 0,
      "outputs": []
    },
    {
      "metadata": {
        "id": "GREEsP492360",
        "colab_type": "code",
        "outputId": "c1a93ff3-fd0d-429b-8eef-ec758026491c",
        "colab": {
          "base_uri": "https://localhost:8080/",
          "height": 434
        }
      },
      "cell_type": "code",
      "source": [
        "let (X_grad,w1_grad, b1_grad) = grad_linear(X_normalized, l1, l1_grad, w1, b1)"
      ],
      "execution_count": 0,
      "outputs": [
        {
          "output_type": "stream",
          "text": [
            "Fatal error: Incompatible shapes: [50000,50] vs. [50,784]: file /swift-base/swift/stdlib/public/TensorFlow/CompilerRuntime.swift, line 2094\r\n",
            "Current stack trace:\r\n",
            "0    libswiftCore.so                    0x00007f6a6c109f40 _swift_stdlib_reportFatalErrorInFile + 115\r\n",
            "1    libswiftCore.so                    0x00007f6a6c0523dc <unavailable> + 3003356\r\n",
            "2    libswiftCore.so                    0x00007f6a6c0524ce <unavailable> + 3003598\r\n",
            "3    libswiftCore.so                    0x00007f6a6be99e12 <unavailable> + 1199634\r\n",
            "4    libswiftCore.so                    0x00007f6a6c01c6b2 <unavailable> + 2782898\r\n",
            "5    libswiftCore.so                    0x00007f6a6be99259 <unavailable> + 1196633\r\n",
            "6    libswiftTensorFlow.so              0x00007f6a572c6ad2 <unavailable> + 441042\r\n",
            "7    libswiftTensorFlow.so              0x00007f6a572c5230 checkOk(_:file:line:) + 491\r\n",
            "8    libswiftTensorFlow.so              0x00007f6a572e8270 _TFCCheckOk(_:) + 81\r\n",
            "9    libswiftTensorFlow.so              0x00007f6a572e8260 _swift_tfc_CheckOk + 9\r\n"
          ],
          "name": "stdout"
        },
        {
          "output_type": "error",
          "ename": "",
          "evalue": "ignored",
          "traceback": [
            "Current stack trace:",
            "\tframe #8: 0x00007f6a501aeb04 $__lldb_expr5426`grad_linear(input=\nexpression produced error: error: Execution was interrupted, reason: signal SIGILL: illegal instruction operand.\nThe process has been returned to the state before expression evaluation., output_grad=\nexpression produced error: error: Execution was interrupted, reason: signal SIGILL: illegal instruction operand.\nThe process has been returned to the state before expression evaluation., weights=\nexpression produced error: error: Execution was interrupted, reason: signal SIGILL: illegal instruction operand.\nThe process has been returned to the state before expression evaluation.) at <Cell 236>:4",
            "\tframe #9: 0x00007f6a5019f496 $__lldb_expr5709`main at <Cell 251>:1:33"
          ]
        }
      ]
    },
    {
      "metadata": {
        "id": "2MOL4dK64Cj8",
        "colab_type": "code",
        "colab": {}
      },
      "cell_type": "code",
      "source": [
        ""
      ],
      "execution_count": 0,
      "outputs": []
    }
  ]
}