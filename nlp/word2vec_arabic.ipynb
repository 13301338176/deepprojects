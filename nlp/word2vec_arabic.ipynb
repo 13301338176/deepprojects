{
  "nbformat": 4,
  "nbformat_minor": 0,
  "metadata": {
    "colab": {
      "name": "word2vec-arabic.ipynb",
      "version": "0.3.2",
      "provenance": [],
      "collapsed_sections": []
    },
    "kernelspec": {
      "name": "python3",
      "display_name": "Python 3"
    },
    "accelerator": "GPU"
  },
  "cells": [
    {
      "metadata": {
        "id": "w7-6VEWddPVh",
        "colab_type": "text"
      },
      "cell_type": "markdown",
      "source": [
        "# Word2Vec on Arabic\n",
        "Implement Word2Vec in pytorch to compute vector representations of Arabic words. \n",
        "This example uses Arabic book reviews dataset - [link](http://www.mohamedaly.info/datasets/labr)\n",
        "\n",
        "The implementation is based on **Skip-gram Model** as described in the following [paper](https://arxiv.org/abs/1301.3781):\n",
        "\n",
        "    Tomas Mikolov, Kai Chen, Greg Corrado, Jeffrey Dean, Efficient Estimation of Word Representations in Vector Space, 2013\n",
        "\n",
        "\n",
        "https://pytorch.org/tutorials/beginner/nlp/word_embeddings_tutorial.html\n",
        "\n",
        "https://pytorch.org/tutorials/beginner/data_loading_tutorial.html#dataset-class\n",
        "\n",
        "<table class=\"tfo-notebook-buttons\" align=\"left\"><td>\n",
        "<a target=\"_blank\"  href=\"https://colab.research.google.com/github/dzlab/deepprojects/blob/master/nlp/word2vec_arabic.ipynb\">\n",
        "    <img src=\"https://www.tensorflow.org/images/colab_logo_32px.png\" />Run in Google Colab</a>  \n",
        "</td><td>\n",
        "<a target=\"_blank\"  href=\"https://github.com/dzlab/deepprojects/blob/master/nlp/word2vec_arabic.ipynb\"><img width=32px src=\"https://www.tensorflow.org/images/GitHub-Mark-32px.png\" />View source on GitHub</a></td></table>"
      ]
    },
    {
      "metadata": {
        "id": "OXN1kQTigCOR",
        "colab_type": "code",
        "colab": {}
      },
      "cell_type": "code",
      "source": [
        "%matplotlib inline\n",
        "%reload_ext autoreload\n",
        "%autoreload 2"
      ],
      "execution_count": 0,
      "outputs": []
    },
    {
      "metadata": {
        "id": "02FRwYHbeFFL",
        "colab_type": "text"
      },
      "cell_type": "markdown",
      "source": [
        "### Imports"
      ]
    },
    {
      "metadata": {
        "id": "Q9PaDU9F3Sks",
        "colab_type": "code",
        "colab": {}
      },
      "cell_type": "code",
      "source": [
        "import warnings\n",
        "warnings.filterwarnings(\"ignore\")"
      ],
      "execution_count": 0,
      "outputs": []
    },
    {
      "metadata": {
        "id": "vV0jwB6idLBV",
        "colab_type": "code",
        "colab": {}
      },
      "cell_type": "code",
      "source": [
        "import numpy as np\n",
        "import pandas as pd\n",
        "import matplotlib.pyplot as plt\n",
        "from pathlib import Path\n",
        "from tqdm import tqdm\n",
        "import re\n",
        "import collections\n",
        "import pdb"
      ],
      "execution_count": 0,
      "outputs": []
    },
    {
      "metadata": {
        "id": "28T69Kq10vbZ",
        "colab_type": "code",
        "colab": {}
      },
      "cell_type": "code",
      "source": [
        "import torch\n",
        "import torch.nn as nn\n",
        "import torch.nn.functional as F\n",
        "import torch.optim as optim\n",
        "from torch.utils.data import Dataset, DataLoader, TensorDataset"
      ],
      "execution_count": 0,
      "outputs": []
    },
    {
      "metadata": {
        "id": "Py0eIZTNhNBw",
        "colab_type": "code",
        "colab": {
          "base_uri": "https://localhost:8080/",
          "height": 124
        },
        "outputId": "a23758f0-daee-4a30-f765-f3fe57e64de9"
      },
      "cell_type": "code",
      "source": [
        "from google.colab import drive\n",
        "drive.mount('/gdrive')"
      ],
      "execution_count": 54,
      "outputs": [
        {
          "output_type": "stream",
          "text": [
            "Go to this URL in a browser: https://accounts.google.com/o/oauth2/auth?client_id=947318989803-6bn6qk8qdgf4n4g3pfee6491hc0brc4i.apps.googleusercontent.com&redirect_uri=urn%3Aietf%3Awg%3Aoauth%3A2.0%3Aoob&scope=email%20https%3A%2F%2Fwww.googleapis.com%2Fauth%2Fdocs.test%20https%3A%2F%2Fwww.googleapis.com%2Fauth%2Fdrive%20https%3A%2F%2Fwww.googleapis.com%2Fauth%2Fdrive.photos.readonly%20https%3A%2F%2Fwww.googleapis.com%2Fauth%2Fpeopleapi.readonly&response_type=code\n",
            "\n",
            "Enter your authorization code:\n",
            "··········\n",
            "Mounted at /gdrive\n"
          ],
          "name": "stdout"
        }
      ]
    },
    {
      "metadata": {
        "id": "kx3yaL0WEXhR",
        "colab_type": "code",
        "colab": {
          "base_uri": "https://localhost:8080/",
          "height": 35
        },
        "outputId": "04555264-2ea5-4d53-e18d-a8fa0fafb9ca"
      },
      "cell_type": "code",
      "source": [
        "torch.manual_seed(1)"
      ],
      "execution_count": 5,
      "outputs": [
        {
          "output_type": "execute_result",
          "data": {
            "text/plain": [
              "<torch._C.Generator at 0x7fdb34636e70>"
            ]
          },
          "metadata": {
            "tags": []
          },
          "execution_count": 5
        }
      ]
    },
    {
      "metadata": {
        "id": "3nT3hs_Zx85G",
        "colab_type": "code",
        "colab": {
          "base_uri": "https://localhost:8080/",
          "height": 312
        },
        "outputId": "7a48d2b6-48f7-4037-8d76-13beb5043f42"
      },
      "cell_type": "code",
      "source": [
        "!nvidia-smi"
      ],
      "execution_count": 6,
      "outputs": [
        {
          "output_type": "stream",
          "text": [
            "Sat Mar  2 16:41:11 2019       \n",
            "+-----------------------------------------------------------------------------+\n",
            "| NVIDIA-SMI 410.79       Driver Version: 410.79       CUDA Version: 10.0     |\n",
            "|-------------------------------+----------------------+----------------------+\n",
            "| GPU  Name        Persistence-M| Bus-Id        Disp.A | Volatile Uncorr. ECC |\n",
            "| Fan  Temp  Perf  Pwr:Usage/Cap|         Memory-Usage | GPU-Util  Compute M. |\n",
            "|===============================+======================+======================|\n",
            "|   0  Tesla K80           Off  | 00000000:00:04.0 Off |                    0 |\n",
            "| N/A   38C    P8    30W / 149W |      0MiB / 11441MiB |      0%      Default |\n",
            "+-------------------------------+----------------------+----------------------+\n",
            "                                                                               \n",
            "+-----------------------------------------------------------------------------+\n",
            "| Processes:                                                       GPU Memory |\n",
            "|  GPU       PID   Type   Process name                             Usage      |\n",
            "|=============================================================================|\n",
            "|  No running processes found                                                 |\n",
            "+-----------------------------------------------------------------------------+\n"
          ],
          "name": "stdout"
        }
      ]
    },
    {
      "metadata": {
        "id": "CgOVuVkyeIej",
        "colab_type": "text"
      },
      "cell_type": "markdown",
      "source": [
        "## Data"
      ]
    },
    {
      "metadata": {
        "id": "8UuSBY8ngW6T",
        "colab_type": "code",
        "colab": {}
      },
      "cell_type": "code",
      "source": [
        "PATH = Path('.')"
      ],
      "execution_count": 0,
      "outputs": []
    },
    {
      "metadata": {
        "id": "8_PGADZreGLp",
        "colab_type": "code",
        "outputId": "d251a3b7-c3a9-46e3-9412-009120e09109",
        "colab": {
          "base_uri": "https://localhost:8080/",
          "height": 69
        }
      },
      "cell_type": "code",
      "source": [
        "!curl -O https://raw.githubusercontent.com/mohamedadaly/LABR/master/data/reviews.tsv"
      ],
      "execution_count": 8,
      "outputs": [
        {
          "output_type": "stream",
          "text": [
            "  % Total    % Received % Xferd  Average Speed   Time    Time     Time  Current\n",
            "                                 Dload  Upload   Total   Spent    Left  Speed\n",
            "100 38.0M  100 38.0M    0     0  38.8M      0 --:--:-- --:--:-- --:--:-- 38.8M\n"
          ],
          "name": "stdout"
        }
      ]
    },
    {
      "metadata": {
        "id": "-WL_nNQVeenc",
        "colab_type": "code",
        "colab": {}
      },
      "cell_type": "code",
      "source": [
        "columns = ['rating', 'review id', 'user id', 'book id', 'review']\n",
        "df = pd.read_csv(PATH/'reviews.tsv', delimiter='\\t', names=columns)"
      ],
      "execution_count": 0,
      "outputs": []
    },
    {
      "metadata": {
        "id": "CwIZtol6gaj4",
        "colab_type": "code",
        "outputId": "e4125d0d-bc5e-4ca0-f89b-d3053e1ca16f",
        "colab": {
          "base_uri": "https://localhost:8080/",
          "height": 202
        }
      },
      "cell_type": "code",
      "source": [
        "df.head()"
      ],
      "execution_count": 9,
      "outputs": [
        {
          "output_type": "execute_result",
          "data": {
            "text/html": [
              "<div>\n",
              "<style scoped>\n",
              "    .dataframe tbody tr th:only-of-type {\n",
              "        vertical-align: middle;\n",
              "    }\n",
              "\n",
              "    .dataframe tbody tr th {\n",
              "        vertical-align: top;\n",
              "    }\n",
              "\n",
              "    .dataframe thead th {\n",
              "        text-align: right;\n",
              "    }\n",
              "</style>\n",
              "<table border=\"1\" class=\"dataframe\">\n",
              "  <thead>\n",
              "    <tr style=\"text-align: right;\">\n",
              "      <th></th>\n",
              "      <th>rating</th>\n",
              "      <th>review id</th>\n",
              "      <th>user id</th>\n",
              "      <th>book id</th>\n",
              "      <th>review</th>\n",
              "    </tr>\n",
              "  </thead>\n",
              "  <tbody>\n",
              "    <tr>\n",
              "      <th>0</th>\n",
              "      <td>4</td>\n",
              "      <td>338670838</td>\n",
              "      <td>7878381</td>\n",
              "      <td>13431841</td>\n",
              "      <td>\"عزازيل الذي صنعناه ،الكامن في أنفسنا\" يذكرني...</td>\n",
              "    </tr>\n",
              "    <tr>\n",
              "      <th>1</th>\n",
              "      <td>4</td>\n",
              "      <td>39428407</td>\n",
              "      <td>1775679</td>\n",
              "      <td>3554772</td>\n",
              "      <td>من أمتع ما قرأت من روايات بلا شك. وحول الشك ت...</td>\n",
              "    </tr>\n",
              "    <tr>\n",
              "      <th>2</th>\n",
              "      <td>4</td>\n",
              "      <td>32159373</td>\n",
              "      <td>1304410</td>\n",
              "      <td>3554772</td>\n",
              "      <td>رواية تتخذ من التاريخ ،جوًا لها اختار المؤلف ...</td>\n",
              "    </tr>\n",
              "    <tr>\n",
              "      <th>3</th>\n",
              "      <td>1</td>\n",
              "      <td>442326656</td>\n",
              "      <td>11333112</td>\n",
              "      <td>3554772</td>\n",
              "      <td>إني أقدّر هذه الرواية كثيرا، لسبب مختلف عن أس...</td>\n",
              "    </tr>\n",
              "    <tr>\n",
              "      <th>4</th>\n",
              "      <td>5</td>\n",
              "      <td>46492258</td>\n",
              "      <td>580165</td>\n",
              "      <td>3554772</td>\n",
              "      <td>الكاهن الذي أطلق على نفسه اسم هيبا تيمنا بالع...</td>\n",
              "    </tr>\n",
              "  </tbody>\n",
              "</table>\n",
              "</div>"
            ],
            "text/plain": [
              "   rating  review id   user id   book id  \\\n",
              "0       4  338670838   7878381  13431841   \n",
              "1       4   39428407   1775679   3554772   \n",
              "2       4   32159373   1304410   3554772   \n",
              "3       1  442326656  11333112   3554772   \n",
              "4       5   46492258    580165   3554772   \n",
              "\n",
              "                                              review  \n",
              "0   \"عزازيل الذي صنعناه ،الكامن في أنفسنا\" يذكرني...  \n",
              "1   من أمتع ما قرأت من روايات بلا شك. وحول الشك ت...  \n",
              "2   رواية تتخذ من التاريخ ،جوًا لها اختار المؤلف ...  \n",
              "3   إني أقدّر هذه الرواية كثيرا، لسبب مختلف عن أس...  \n",
              "4   الكاهن الذي أطلق على نفسه اسم هيبا تيمنا بالع...  "
            ]
          },
          "metadata": {
            "tags": []
          },
          "execution_count": 9
        }
      ]
    },
    {
      "metadata": {
        "id": "3DisB55NgiDN",
        "colab_type": "text"
      },
      "cell_type": "markdown",
      "source": [
        "look at the lengths of review sentences"
      ]
    },
    {
      "metadata": {
        "id": "OaOO_ogwgcIS",
        "colab_type": "code",
        "colab": {}
      },
      "cell_type": "code",
      "source": [
        "review_lengths = df['review'].apply(lambda x: len(x.split())).tolist()"
      ],
      "execution_count": 0,
      "outputs": []
    },
    {
      "metadata": {
        "id": "1kBM0pDGgeqW",
        "colab_type": "code",
        "outputId": "b96e44f9-ab31-492b-84a8-312efc29f8a7",
        "colab": {
          "base_uri": "https://localhost:8080/",
          "height": 389
        }
      },
      "cell_type": "code",
      "source": [
        "plt.figure(figsize=(8,6))\n",
        "plt.hist(review_lengths, bins='auto', range=[0, 200])\n",
        "plt.title(\"Review lengths (in words count)\")\n",
        "plt.show()"
      ],
      "execution_count": 9,
      "outputs": [
        {
          "output_type": "display_data",
          "data": {
            "image/png": "[encoded data removed]",
            "text/plain": [
              "<Figure size 576x432 with 1 Axes>"
            ]
          },
          "metadata": {
            "tags": []
          }
        }
      ]
    },
    {
      "metadata": {
        "id": "brrqxixxgnIQ",
        "colab_type": "text"
      },
      "cell_type": "markdown",
      "source": [
        "### Processing\n",
        "Simple Text tokenization and cleaning"
      ]
    },
    {
      "metadata": {
        "id": "be5D__LahXUp",
        "colab_type": "code",
        "colab": {}
      },
      "cell_type": "code",
      "source": [
        "char1_re = re.compile('\"')\n",
        "char2_re = re.compile('،')\n",
        "char3_re = re.compile('\\.')\n",
        "char4_re = re.compile('!')\n",
        "char5_re = re.compile('؟')\n",
        "char6_re = re.compile('؛')\n",
        "char7_re = re.compile('-')\n",
        "char8_re = re.compile('\\(')\n",
        "char9_re = re.compile('\\)')\n",
        "\n",
        "def cleanup(text):\n",
        "    text = char1_re.sub(' \" ', text)\n",
        "    text = char2_re.sub(' ، ', text)\n",
        "    text = char3_re.sub(' . ', text)\n",
        "    text = char4_re.sub(' ! ', text)\n",
        "    text = char5_re.sub(' ؟ ', text)\n",
        "    text = char6_re.sub(' ؛ ', text)\n",
        "    text = char7_re.sub(' - ', text)\n",
        "    text = char8_re.sub(' ( ', text)\n",
        "    text = char9_re.sub(' ) ', text)\n",
        "    return text"
      ],
      "execution_count": 0,
      "outputs": []
    },
    {
      "metadata": {
        "id": "iQKhMJqFgweO",
        "colab_type": "text"
      },
      "cell_type": "markdown",
      "source": [
        "add special tokens"
      ]
    },
    {
      "metadata": {
        "id": "HYl1R4yOgkdb",
        "colab_type": "code",
        "colab": {}
      },
      "cell_type": "code",
      "source": [
        "BOS = '_BOS_' # Begining of sentence token\n",
        "EOS = '_EOS_' # Ending of sentence token\n",
        "PAD = '_PAD_' # Padding token\n",
        "UNK = '_UNK_' # Unknown tokens (for unknown and low frequency words)"
      ],
      "execution_count": 0,
      "outputs": []
    },
    {
      "metadata": {
        "id": "dMduZhr3g3i3",
        "colab_type": "code",
        "outputId": "96a91443-2db4-41a3-fb75-7e4fecfb8743",
        "colab": {
          "base_uri": "https://localhost:8080/",
          "height": 35
        }
      },
      "cell_type": "code",
      "source": [
        "all_text = f' '.join([f'{BOS} {review} {EOS}' for review in tqdm(df['review'].tolist())])"
      ],
      "execution_count": 12,
      "outputs": [
        {
          "output_type": "stream",
          "text": [
            "100%|██████████| 63257/63257 [00:00<00:00, 748476.18it/s]\n"
          ],
          "name": "stderr"
        }
      ]
    },
    {
      "metadata": {
        "id": "sz-oo7hNjrlc",
        "colab_type": "code",
        "outputId": "4455f9f9-e131-42ed-bdf5-8b20f9143566",
        "colab": {
          "base_uri": "https://localhost:8080/",
          "height": 55
        }
      },
      "cell_type": "code",
      "source": [
        "cleanup(all_text[:1_000])"
      ],
      "execution_count": 13,
      "outputs": [
        {
          "output_type": "execute_result",
          "data": {
            "text/plain": [
              "'_BOS_   \" عزازيل الذي صنعناه  ، الكامن في أنفسنا \"  يذكرني يوسف زيدان بــ بورخس في استخدامه لحيلته الفنية ، وخداع القاريء بأن الرواية ترجمة لمخطوط قديم .  الهوامش المخترعة و اختلاق وجود مترجـِم عاد بي إلى بورخس و هوامشه و كتَّابه الوهميين .  هذه أولى قراءاتي ليوسف زيدان  ، وهو عبقري في السرد ويخلقُ جوَّا ساحرا متفرداً يغرقك في المتعة .  هُنا يتجلى الشكُّ الراقي الممزوج بانسانية هيبا الفاتنة ربما تم تناول فكرة الرواية قبلاً  ، ولكن هنا تفرداً و عذوبة لا تُقارن بنصٍ آخر كنتُ أودُّ لو صيغت النهاية بطريقة مختلفة فقد جاءت باردة لا تتناسب مع رواية خُطَّت بهذا الشغف  .  ولذا لا أستطيع منح الرواية خمس نجوم  ، وإن كانت تجربة قرائية متفردة وممتعة .   _EOS_ _BOS_  من أمتع ما قرأت من روايات بلا شك .  وحول الشك تدندن  ( عزازيل )  بلا هوادة .  أحمد الديب 2008 _EOS_ _BOS_  رواية تتخذ من التاريخ  ، جوًا لها اختار المؤلف فترة تاريخية ندر من يتناولها روائيًا .  مكتوبة بدقة وإتقان وجمال . من أروع ما يمكن أن تقرأ من الروايات التاريخية .  تركز على الإنسان . صانع المعنى ومدمره  .  _EOS_ _BOS_  إني أقدّر هذه الرواية كثيرا ،  لسبب مختلف عن أسباب الآخرين ، '"
            ]
          },
          "metadata": {
            "tags": []
          },
          "execution_count": 13
        }
      ]
    },
    {
      "metadata": {
        "id": "IGYopft6g_KU",
        "colab_type": "code",
        "colab": {}
      },
      "cell_type": "code",
      "source": [
        "all_text = cleanup(all_text)"
      ],
      "execution_count": 0,
      "outputs": []
    },
    {
      "metadata": {
        "id": "sgz9zWVHq70E",
        "colab_type": "text"
      },
      "cell_type": "markdown",
      "source": [
        "#### Word2Vec Parameters"
      ]
    },
    {
      "metadata": {
        "id": "WuAXIPLOhBY7",
        "colab_type": "code",
        "colab": {}
      },
      "cell_type": "code",
      "source": [
        "# input parameters\n",
        "occur_min   = 10    # Remove all words that does not appears at least n times\n",
        "num_skips   = 2     # How many times to reuse an input to generate a label\n",
        "num_sampled = 64    # Number of negative examples to sample\n",
        "# model parameters\n",
        "vocab_size  = 10000 # Number of different words in the vocabulary (V)\n",
        "embed_size  = 200   # Dimension of the word representations (D)\n",
        "skip_window = 3     # Number of words considered left and right (C)\n",
        "\n",
        "batch_size  = 64"
      ],
      "execution_count": 0,
      "outputs": []
    },
    {
      "metadata": {
        "id": "ktpUUWzPsTdY",
        "colab_type": "code",
        "colab": {}
      },
      "cell_type": "code",
      "source": [
        "words = [w for w in all_text.split(' ') if w is not '']"
      ],
      "execution_count": 0,
      "outputs": []
    },
    {
      "metadata": {
        "id": "f3vnqziYtUOy",
        "colab_type": "text"
      },
      "cell_type": "markdown",
      "source": [
        "#### Filter out words with low frequency to limit vocab size"
      ]
    },
    {
      "metadata": {
        "id": "FgHVSlK6rOR2",
        "colab_type": "code",
        "outputId": "7fb766c7-aa7d-424f-99ec-3782dc02e33e",
        "colab": {
          "base_uri": "https://localhost:8080/",
          "height": 35
        }
      },
      "cell_type": "code",
      "source": [
        "counts = collections.defaultdict(lambda: 0)\n",
        "\n",
        "for w in tqdm(words):\n",
        "    if w is '': continue\n",
        "    counts[w] = counts[w] + 1"
      ],
      "execution_count": 19,
      "outputs": [
        {
          "output_type": "stream",
          "text": [
            "100%|██████████| 4320183/4320183 [00:03<00:00, 1401439.23it/s]\n"
          ],
          "name": "stderr"
        }
      ]
    },
    {
      "metadata": {
        "id": "i8Welx7asa0t",
        "colab_type": "code",
        "outputId": "5a24a3a8-acd1-41cf-804e-87eb25aaffbd",
        "colab": {
          "base_uri": "https://localhost:8080/",
          "height": 35
        }
      },
      "cell_type": "code",
      "source": [
        "counts['تجربة'], counts['رواية']"
      ],
      "execution_count": 20,
      "outputs": [
        {
          "output_type": "execute_result",
          "data": {
            "text/plain": [
              "(879, 10310)"
            ]
          },
          "metadata": {
            "tags": []
          },
          "execution_count": 20
        }
      ]
    },
    {
      "metadata": {
        "id": "XjQfqP7shufg",
        "colab_type": "text"
      },
      "cell_type": "markdown",
      "source": [
        "limit size of vocabulary"
      ]
    },
    {
      "metadata": {
        "id": "8lkS8yZXhuMo",
        "colab_type": "code",
        "colab": {}
      },
      "cell_type": "code",
      "source": [
        "counts = dict(list(sorted(counts.items(), reverse=True, key=lambda x: x[1]))[:vocab_size])"
      ],
      "execution_count": 0,
      "outputs": []
    },
    {
      "metadata": {
        "id": "u9QjBEhot9tq",
        "colab_type": "text"
      },
      "cell_type": "markdown",
      "source": [
        "words with lowest frequencies"
      ]
    },
    {
      "metadata": {
        "id": "CJXGss6-t711",
        "colab_type": "code",
        "colab": {}
      },
      "cell_type": "code",
      "source": [
        "ordered_counts = dict(sorted(counts.items(), reverse=True, key=lambda x: x[1]))"
      ],
      "execution_count": 0,
      "outputs": []
    },
    {
      "metadata": {
        "id": "LV0DCNzuuihY",
        "colab_type": "code",
        "outputId": "1e60c2ff-8854-4d35-8e18-333d5de34094",
        "colab": {
          "base_uri": "https://localhost:8080/",
          "height": 191
        }
      },
      "cell_type": "code",
      "source": [
        "list(ordered_counts.items())[-10:]"
      ],
      "execution_count": 23,
      "outputs": [
        {
          "output_type": "execute_result",
          "data": {
            "text/plain": [
              "[('مستهلكة', 39),\n",
              " ('أضفت', 39),\n",
              " ('للتعامل', 39),\n",
              " ('القبائل', 39),\n",
              " ('مقبرة', 39),\n",
              " ('إبن', 39),\n",
              " ('عارفين', 39),\n",
              " ('2013', 39),\n",
              " ('سلوكيات', 39),\n",
              " ('الإملائية', 39)]"
            ]
          },
          "metadata": {
            "tags": []
          },
          "execution_count": 23
        }
      ]
    },
    {
      "metadata": {
        "id": "Rc6FEUgqPWEx",
        "colab_type": "code",
        "colab": {
          "base_uri": "https://localhost:8080/",
          "height": 35
        },
        "outputId": "ae492b37-5398-49a5-b87e-3cfd4e266a73"
      },
      "cell_type": "code",
      "source": [
        "counts[BOS]"
      ],
      "execution_count": 24,
      "outputs": [
        {
          "output_type": "execute_result",
          "data": {
            "text/plain": [
              "63257"
            ]
          },
          "metadata": {
            "tags": []
          },
          "execution_count": 24
        }
      ]
    },
    {
      "metadata": {
        "id": "nKAhdzQKte49",
        "colab_type": "code",
        "colab": {}
      },
      "cell_type": "code",
      "source": [
        "vocab = [w for w, c in counts.items() if c >= occur_min]\n",
        "vocab_size = len(vocab)"
      ],
      "execution_count": 0,
      "outputs": []
    },
    {
      "metadata": {
        "id": "oWb-qmd3PEhA",
        "colab_type": "code",
        "colab": {
          "base_uri": "https://localhost:8080/",
          "height": 35
        },
        "outputId": "629bea68-e5fa-4085-ca4c-75a2da8e3f08"
      },
      "cell_type": "code",
      "source": [
        "vocab_size"
      ],
      "execution_count": 26,
      "outputs": [
        {
          "output_type": "execute_result",
          "data": {
            "text/plain": [
              "10000"
            ]
          },
          "metadata": {
            "tags": []
          },
          "execution_count": 26
        }
      ]
    },
    {
      "metadata": {
        "id": "7fLYfCg0vY7l",
        "colab_type": "text"
      },
      "cell_type": "markdown",
      "source": [
        "Create indices on vocabulary"
      ]
    },
    {
      "metadata": {
        "id": "2ccir2A2u-2I",
        "colab_type": "code",
        "colab": {}
      },
      "cell_type": "code",
      "source": [
        "itoa = dict((i, w) for i, w in enumerate(vocab))\n",
        "atoi = dict((w, i) for i, w in enumerate(vocab))"
      ],
      "execution_count": 0,
      "outputs": []
    },
    {
      "metadata": {
        "id": "jvH2FkzRvAcI",
        "colab_type": "code",
        "outputId": "f3afde57-d589-4267-cd97-e7bdaecb2cb2",
        "colab": {
          "base_uri": "https://localhost:8080/",
          "height": 35
        }
      },
      "cell_type": "code",
      "source": [
        "atoi['تجربة'], atoi['رواية']"
      ],
      "execution_count": 28,
      "outputs": [
        {
          "output_type": "execute_result",
          "data": {
            "text/plain": [
              "(461, 35)"
            ]
          },
          "metadata": {
            "tags": []
          },
          "execution_count": 28
        }
      ]
    },
    {
      "metadata": {
        "id": "VhncbknvwnEP",
        "colab_type": "text"
      },
      "cell_type": "markdown",
      "source": [
        "#### Add the unknown token"
      ]
    },
    {
      "metadata": {
        "id": "zGpfK0WtwqWB",
        "colab_type": "code",
        "colab": {}
      },
      "cell_type": "code",
      "source": [
        "atoi[UNK] = len(vocab)\n",
        "itoa[len(vocab)] = UNK\n",
        "# increment the vocab size as we've added the UNK token\n",
        "vocab_size += 1"
      ],
      "execution_count": 0,
      "outputs": []
    },
    {
      "metadata": {
        "id": "gKVtNhBov8G9",
        "colab_type": "code",
        "colab": {}
      },
      "cell_type": "code",
      "source": [
        "atoi = collections.defaultdict(lambda: len(vocab), atoi)\n",
        "itoa = collections.defaultdict(lambda: UNK, itoa)"
      ],
      "execution_count": 0,
      "outputs": []
    },
    {
      "metadata": {
        "id": "SZCNex2qxHDk",
        "colab_type": "code",
        "outputId": "efad1277-9966-4070-87ec-a247c7ff719b",
        "colab": {
          "base_uri": "https://localhost:8080/",
          "height": 35
        }
      },
      "cell_type": "code",
      "source": [
        "atoi['not found'], itoa[len(vocab) * 2]"
      ],
      "execution_count": 31,
      "outputs": [
        {
          "output_type": "execute_result",
          "data": {
            "text/plain": [
              "(10000, '_UNK_')"
            ]
          },
          "metadata": {
            "tags": []
          },
          "execution_count": 31
        }
      ]
    },
    {
      "metadata": {
        "id": "v8VIBBFb0VDf",
        "colab_type": "text"
      },
      "cell_type": "markdown",
      "source": [
        "### Training Input"
      ]
    },
    {
      "metadata": {
        "id": "sOjaMz_Hfgaf",
        "colab_type": "text"
      },
      "cell_type": "markdown",
      "source": [
        "#### CBOW (Continuous Bag of Word)"
      ]
    },
    {
      "metadata": {
        "id": "I9V9tpRZXRNu",
        "colab_type": "text"
      },
      "cell_type": "markdown",
      "source": [
        "The CBOW architecture predicts the current word $w_{t}$ based on the context of length N $w_{t-1}, .., w_{t-N+1}, w_{t+1}, .., w_{t+N-1}$."
      ]
    },
    {
      "metadata": {
        "id": "7Oqrv6rHgcFn",
        "colab_type": "code",
        "colab": {}
      },
      "cell_type": "code",
      "source": [
        "def create_cbow_data(words, skip_window):\n",
        "    tot_size = len(words) - 2 * skip_window + 1\n",
        "    ctx_size = 2 * skip_window\n",
        "    # the list of ngrams that will be \n",
        "    X, y = np.zeros((tot_size, ctx_size)), np.zeros(tot_size)\n",
        "    for t in tqdm(range(skip_window, len(words) - skip_window)):\n",
        "        # context of the prediction\n",
        "        prev_words = [atoi[words[t-i-1]] for i in range(skip_window)]\n",
        "        next_words = [atoi[words[t+i+1]] for i in range(skip_window)]\n",
        "        context = prev_words + next_words\n",
        "        # current word to predict\n",
        "        target = atoi[words[t]]\n",
        "        # append indexes\n",
        "        X[t - skip_window] = context\n",
        "        y[t - skip_window] = target\n",
        "    return X, y"
      ],
      "execution_count": 0,
      "outputs": []
    },
    {
      "metadata": {
        "id": "R3eISYAqXVRQ",
        "colab_type": "text"
      },
      "cell_type": "markdown",
      "source": [
        "The NGram architecture predicts the current word $w_t$ based on the previous N words $w_{t-1}, ,.. w_{t-N}$."
      ]
    },
    {
      "metadata": {
        "id": "CwPMz-K_XMfR",
        "colab_type": "code",
        "colab": {}
      },
      "cell_type": "code",
      "source": [
        "def create_ngram_data(words, skip_window):\n",
        "    tot_size = len(words) - skip_window + 1\n",
        "    ctx_size = skip_window\n",
        "    # the list of ngrams that will be \n",
        "    X, y = np.zeros((tot_size, ctx_size)), np.zeros(tot_size)\n",
        "    for t in tqdm(range(skip_window, len(words))):\n",
        "        # context of the prediction\n",
        "        context = [atoi[words[t-i-1]] for i in range(skip_window)]\n",
        "        # current word to predict\n",
        "        target = atoi[words[t]]\n",
        "        # append indexes\n",
        "        X[t - skip_window] = context\n",
        "        y[t - skip_window] = target\n",
        "    return X, y"
      ],
      "execution_count": 0,
      "outputs": []
    },
    {
      "metadata": {
        "id": "NQg5Y_IAYXrL",
        "colab_type": "text"
      },
      "cell_type": "markdown",
      "source": [
        "The SkipGram architecture predicts $N$ surrounding words $w_{t-1}, .., w_{t-N}, w_{t+1}, .., w_{t+N}$    given the current word $w_t$."
      ]
    },
    {
      "metadata": {
        "id": "e238oa3ZHy-l",
        "colab_type": "code",
        "colab": {}
      },
      "cell_type": "code",
      "source": [
        "def create_skipgram_data(words, skip_window):\n",
        "    # bounding indices\n",
        "    min_index = 0\n",
        "    max_index = len(words)-1\n",
        "    # the list of ngrams that will be \n",
        "    X, y = [], []\n",
        "    # create dataset\n",
        "    for t, wt in tqdm(enumerate(words)):\n",
        "        # add words from the previous skip window\n",
        "        for past in range(t-1, max(min_index, t-skip_window)):\n",
        "            X.append(atoi[wt])\n",
        "            y.append(atoi[words[past]])\n",
        "        # add words from the next skip window\n",
        "        for future in range(t+1, min(max_index, t+skip_window)):\n",
        "            X.append(atoi[wt])\n",
        "            y.append(atoi[words[future]])\n",
        "    return X, y"
      ],
      "execution_count": 0,
      "outputs": []
    },
    {
      "metadata": {
        "id": "g_8AwMkHkJ6q",
        "colab_type": "code",
        "colab": {
          "base_uri": "https://localhost:8080/",
          "height": 52
        },
        "outputId": "d5b59f97-7057-49ab-dcfd-be44a60d9e71"
      },
      "cell_type": "code",
      "source": [
        "X, y = create_cbow_data(words, skip_window)\n",
        "X.shape, y.shape"
      ],
      "execution_count": 34,
      "outputs": [
        {
          "output_type": "stream",
          "text": [
            "100%|██████████| 4320177/4320177 [00:22<00:00, 194522.95it/s]\n"
          ],
          "name": "stderr"
        },
        {
          "output_type": "execute_result",
          "data": {
            "text/plain": [
              "((4320178, 6), (4320178,))"
            ]
          },
          "metadata": {
            "tags": []
          },
          "execution_count": 34
        }
      ]
    },
    {
      "metadata": {
        "id": "zcnwBdowWQS9",
        "colab_type": "text"
      },
      "cell_type": "markdown",
      "source": [
        "split input into training and validation sets"
      ]
    },
    {
      "metadata": {
        "id": "H8VEKwlvfZL5",
        "colab_type": "code",
        "colab": {}
      },
      "cell_type": "code",
      "source": [
        "split_index = int(len(X) * 0.9)"
      ],
      "execution_count": 0,
      "outputs": []
    },
    {
      "metadata": {
        "id": "hJzCzNbXRvm9",
        "colab_type": "code",
        "colab": {}
      },
      "cell_type": "code",
      "source": [
        "X_train, y_train = torch.LongTensor(X[:split_index]), torch.LongTensor(y[:split_index])"
      ],
      "execution_count": 0,
      "outputs": []
    },
    {
      "metadata": {
        "id": "BMbl3aFuepv9",
        "colab_type": "code",
        "colab": {
          "base_uri": "https://localhost:8080/",
          "height": 35
        },
        "outputId": "0b127ef0-0c6e-4b40-901b-ba9fa41baeaf"
      },
      "cell_type": "code",
      "source": [
        "X_train.shape, y_train.shape"
      ],
      "execution_count": 37,
      "outputs": [
        {
          "output_type": "execute_result",
          "data": {
            "text/plain": [
              "(torch.Size([3888160, 6]), torch.Size([3888160]))"
            ]
          },
          "metadata": {
            "tags": []
          },
          "execution_count": 37
        }
      ]
    },
    {
      "metadata": {
        "id": "OGYySm0nFbId",
        "colab_type": "code",
        "colab": {
          "base_uri": "https://localhost:8080/",
          "height": 35
        },
        "outputId": "49a5d081-a707-49bf-92ee-740fca142b45"
      },
      "cell_type": "code",
      "source": [
        "X_train.device, y_train.device"
      ],
      "execution_count": 38,
      "outputs": [
        {
          "output_type": "execute_result",
          "data": {
            "text/plain": [
              "(device(type='cpu'), device(type='cpu'))"
            ]
          },
          "metadata": {
            "tags": []
          },
          "execution_count": 38
        }
      ]
    },
    {
      "metadata": {
        "id": "7ImyJX_GJX5w",
        "colab_type": "code",
        "colab": {}
      },
      "cell_type": "code",
      "source": [
        "#i = 0\n",
        "#for win, wout in ngrams:\n",
        "#    print(win, wout)\n",
        "#    i += 1\n",
        "#    if i==10: break"
      ],
      "execution_count": 0,
      "outputs": []
    },
    {
      "metadata": {
        "id": "3QDQc01x91Ay",
        "colab_type": "code",
        "colab": {}
      },
      "cell_type": "code",
      "source": [
        "class SkipGramDataset(Dataset):\n",
        "    \"\"\"Skip Gram dataset.\"\"\"\n",
        "\n",
        "    def __init__(self, vocab, atoi, itoa, ngrams):\n",
        "        \"\"\"\n",
        "        Args:\n",
        "            vocab      (list): list of words constinuting the Vocabulary.\n",
        "            atoi (dictionary): word to index Directory.\n",
        "            itoa (dictionary): index to word Directory.\n",
        "            ngrams     (list): list of ngrams created with a skip window (left & right) \n",
        "        \"\"\"\n",
        "        self.vocab = vocab\n",
        "        self.atoi, self.itoa = atoi, itoa\n",
        "        self.ngrams = ngrams\n",
        "\n",
        "    def __len__(self):\n",
        "        return len(self.ngrams)\n",
        "\n",
        "    def __getitem__(self, idx):\n",
        "        win, wout = ngrams[idx]\n",
        "        return (self.atoi(win), self.atoi(wout))"
      ],
      "execution_count": 0,
      "outputs": []
    },
    {
      "metadata": {
        "id": "kJZ8Xki6xOu-",
        "colab_type": "code",
        "colab": {}
      },
      "cell_type": "code",
      "source": [
        "#dataset = SkipGramDataset(vocab, atoi, itoa, ngrams)"
      ],
      "execution_count": 0,
      "outputs": []
    },
    {
      "metadata": {
        "id": "asfrWhb_0cN8",
        "colab_type": "text"
      },
      "cell_type": "markdown",
      "source": [
        "## Model\n",
        "Continuous Skip-gram Model in PyTorch"
      ]
    },
    {
      "metadata": {
        "id": "C-KsVZgm0gEi",
        "colab_type": "code",
        "colab": {}
      },
      "cell_type": "code",
      "source": [
        "class CBOWModel(nn.Module):\n",
        "    def __init__(self, vocab_size, embed_size, skip_window):\n",
        "        super().__init__()\n",
        "        self.embeds = nn.Embedding(num_embeddings=vocab_size, embedding_dim=embed_size)\n",
        "        self.lin1 = nn.Linear(in_features=embed_size * skip_window * 2, out_features=128)\n",
        "        self.lin2 = nn.Linear(in_features=128, out_features=vocab_size)\n",
        "        \n",
        "    def forward(self, inputs):\n",
        "        bs = inputs.shape[0]\n",
        "        # X shape should be (batch_size, 1)\n",
        "        out   = self.embeds(inputs)       # (batch_size, embedding_dim * skip_window)\n",
        "        out   = out.view((bs, -1))\n",
        "        #pdb.set_trace()\n",
        "        out   = F.relu(self.lin1(out))    # (batch_size, vocab_size)\n",
        "        out   = self.lin2(out)\n",
        "        probs = F.log_softmax(out, dim=1) # (batch_size, vocab_size)\n",
        "        return probs"
      ],
      "execution_count": 0,
      "outputs": []
    },
    {
      "metadata": {
        "id": "MBF_ll5OYCCq",
        "colab_type": "code",
        "colab": {
          "base_uri": "https://localhost:8080/",
          "height": 104
        },
        "outputId": "fc748731-8fc8-49b6-df96-a6a69378e77e"
      },
      "cell_type": "code",
      "source": [
        "model = CBOWModel(vocab_size, embed_size, skip_window); model"
      ],
      "execution_count": 42,
      "outputs": [
        {
          "output_type": "execute_result",
          "data": {
            "text/plain": [
              "CBOWModel(\n",
              "  (embeds): Embedding(10001, 200)\n",
              "  (lin1): Linear(in_features=1200, out_features=128, bias=True)\n",
              "  (lin2): Linear(in_features=128, out_features=10001, bias=True)\n",
              ")"
            ]
          },
          "metadata": {
            "tags": []
          },
          "execution_count": 42
        }
      ]
    },
    {
      "metadata": {
        "id": "hRlvEdQyMGnV",
        "colab_type": "code",
        "colab": {}
      },
      "cell_type": "code",
      "source": [
        "use_gpu = True"
      ],
      "execution_count": 0,
      "outputs": []
    },
    {
      "metadata": {
        "id": "tsEFRDFJpbK1",
        "colab_type": "code",
        "colab": {}
      },
      "cell_type": "code",
      "source": [
        "if use_gpu:\n",
        "    X_train = X_train.cuda()\n",
        "    y_train = y_train.cuda()\n",
        "    model = model.cuda()"
      ],
      "execution_count": 0,
      "outputs": []
    },
    {
      "metadata": {
        "id": "fKkDWhI8LHA5",
        "colab_type": "code",
        "colab": {}
      },
      "cell_type": "code",
      "source": [
        "loss_function = nn.NLLLoss()\n",
        "optimizer = optim.Adam(model.parameters(), lr=0.01)"
      ],
      "execution_count": 0,
      "outputs": []
    },
    {
      "metadata": {
        "id": "1MViCTpnLkww",
        "colab_type": "text"
      },
      "cell_type": "markdown",
      "source": [
        "### Train"
      ]
    },
    {
      "metadata": {
        "id": "coMtraW0No6r",
        "colab_type": "code",
        "colab": {}
      },
      "cell_type": "code",
      "source": [
        "def run(model, dataloader):\n",
        "    total_loss = 0\n",
        "    # for every batch in the DataLoader\n",
        "    for batch in tqdm(dataloader):\n",
        "        # Step 1. Prepare the inputs to be passed to the model (i.e, turn the words\n",
        "        # into integer indices and wrap them in tensors)\n",
        "        X, y = batch\n",
        "        # Step 2. Recall that torch *accumulates* gradients. Before passing in a\n",
        "        # new instance, you need to zero out the gradients from the old\n",
        "        # instance\n",
        "        model.zero_grad()\n",
        "\n",
        "        # Step 3. Run the forward pass, getting log probabilities over next words\n",
        "        log_probs = model(X)\n",
        "        \n",
        "        # Step 4. Compute your loss function. (Again, Torch wants the target\n",
        "        # word wrapped in a tensor)\n",
        "        #loss = loss_function(log_probs, torch.tensor([word_to_ix[target]], dtype=torch.long))\n",
        "        loss = loss_function(log_probs, y)\n",
        "        \n",
        "        # Step 5. Do the backward pass and update the gradient\n",
        "        loss.backward()\n",
        "        optimizer.step()\n",
        "\n",
        "        # Get the Python number from a 1-element Tensor by calling tensor.item()\n",
        "        total_loss += loss.item()\n",
        "        \n",
        "    return total_loss"
      ],
      "execution_count": 0,
      "outputs": []
    },
    {
      "metadata": {
        "id": "VC6Ri34PMDZI",
        "colab_type": "code",
        "colab": {}
      },
      "cell_type": "code",
      "source": [
        "train_ds = TensorDataset(X_train, y_train)\n",
        "train_dl = DataLoader(train_ds, batch_size=batch_size, shuffle=True)"
      ],
      "execution_count": 0,
      "outputs": []
    },
    {
      "metadata": {
        "id": "NOpkJIN-LeDv",
        "colab_type": "code",
        "outputId": "aa5e9bca-0b19-4bf0-8ced-37c40f23b0cd",
        "colab": {
          "base_uri": "https://localhost:8080/",
          "height": 228
        }
      },
      "cell_type": "code",
      "source": [
        "losses = []\n",
        "for epoch in range(10):\n",
        "    total_loss = run(model, train_dl)\n",
        "    losses.append(total_loss)\n",
        "# Check if the loss decreased after every iteration\n",
        "print(losses)  "
      ],
      "execution_count": 48,
      "outputs": [
        {
          "output_type": "stream",
          "text": [
            "100%|██████████| 60753/60753 [04:27<00:00, 226.80it/s]\n",
            "100%|██████████| 60753/60753 [04:28<00:00, 226.07it/s]\n",
            "100%|██████████| 60753/60753 [04:28<00:00, 226.10it/s]\n",
            "100%|██████████| 60753/60753 [04:28<00:00, 226.24it/s]\n",
            "100%|██████████| 60753/60753 [04:28<00:00, 226.30it/s]\n",
            "100%|██████████| 60753/60753 [04:28<00:00, 196.11it/s]\n",
            "100%|██████████| 60753/60753 [04:28<00:00, 226.23it/s]\n",
            "100%|██████████| 60753/60753 [04:28<00:00, 226.45it/s]\n",
            "100%|██████████| 60753/60753 [04:28<00:00, 226.30it/s]\n",
            "100%|██████████| 60753/60753 [04:28<00:00, 226.25it/s]"
          ],
          "name": "stderr"
        },
        {
          "output_type": "stream",
          "text": [
            "[367071.9159064293, 365825.2197341919, 365690.739133358, 365633.3219656944, 365630.3743991852, 365634.8452825546, 365605.0808401108, 365626.6608557701, 365582.65065193176, 365602.3902158737]\n"
          ],
          "name": "stdout"
        },
        {
          "output_type": "stream",
          "text": [
            "\n"
          ],
          "name": "stderr"
        }
      ]
    },
    {
      "metadata": {
        "id": "E4ZU5wn7Et9y",
        "colab_type": "code",
        "colab": {
          "base_uri": "https://localhost:8080/",
          "height": 283
        },
        "outputId": "ff474890-5f4b-4a44-cccb-3ebf5f94010e"
      },
      "cell_type": "code",
      "source": [
        "plt.plot(losses)"
      ],
      "execution_count": 49,
      "outputs": [
        {
          "output_type": "execute_result",
          "data": {
            "text/plain": [
              "[<matplotlib.lines.Line2D at 0x7fdae4bae198>]"
            ]
          },
          "metadata": {
            "tags": []
          },
          "execution_count": 49
        },
        {
          "output_type": "display_data",
          "data": {
            "image/png": "[encoded data removed]",
            "text/plain": [
              "<Figure size 432x288 with 1 Axes>"
            ]
          },
          "metadata": {
            "tags": []
          }
        }
      ]
    },
    {
      "metadata": {
        "id": "DwAuJZlkk3pF",
        "colab_type": "text"
      },
      "cell_type": "markdown",
      "source": [
        "#### Save model"
      ]
    },
    {
      "metadata": {
        "id": "x7eK_K8bhi3O",
        "colab_type": "code",
        "colab": {}
      },
      "cell_type": "code",
      "source": [
        "model_path = Path('/gdrive/My Drive/data/word2vec_arabic.pth')"
      ],
      "execution_count": 0,
      "outputs": []
    },
    {
      "metadata": {
        "id": "ksL1J87igR6Z",
        "colab_type": "code",
        "colab": {}
      },
      "cell_type": "code",
      "source": [
        "#torch.save(model, model_path)"
      ],
      "execution_count": 0,
      "outputs": []
    },
    {
      "metadata": {
        "id": "W1xphdJ2ghnU",
        "colab_type": "code",
        "colab": {
          "base_uri": "https://localhost:8080/",
          "height": 104
        },
        "outputId": "c61cc272-dc79-462e-c2fe-87411207bf07"
      },
      "cell_type": "code",
      "source": [
        "model1 = torch.load(model_path)\n",
        "model1.eval()"
      ],
      "execution_count": 59,
      "outputs": [
        {
          "output_type": "execute_result",
          "data": {
            "text/plain": [
              "CBOWModel(\n",
              "  (embeds): Embedding(10001, 200)\n",
              "  (lin1): Linear(in_features=1200, out_features=128, bias=True)\n",
              "  (lin2): Linear(in_features=128, out_features=10001, bias=True)\n",
              ")"
            ]
          },
          "metadata": {
            "tags": []
          },
          "execution_count": 59
        }
      ]
    },
    {
      "metadata": {
        "id": "dvmLPWavfTRY",
        "colab_type": "text"
      },
      "cell_type": "markdown",
      "source": [
        "### Validation"
      ]
    },
    {
      "metadata": {
        "id": "Gn_h0qozbHUI",
        "colab_type": "code",
        "colab": {}
      },
      "cell_type": "code",
      "source": [
        "X_valid, y_valid = torch.LongTensor(X[split_index:]).cuda(), torch.LongTensor(y[split_index:]).cuda()\n",
        "\n",
        "valid_ds = TensorDataset(X_valid, y_valid)\n",
        "valid_dl = DataLoader(valid_ds, batch_size=batch_size, shuffle=True)"
      ],
      "execution_count": 0,
      "outputs": []
    },
    {
      "metadata": {
        "id": "GNs5TTjCiyJ4",
        "colab_type": "text"
      },
      "cell_type": "markdown",
      "source": [
        "## tSNE"
      ]
    },
    {
      "metadata": {
        "id": "Ayl5Nov4i1tc",
        "colab_type": "code",
        "colab": {}
      },
      "cell_type": "code",
      "source": [
        "#features = [model.embeds(torch.LongTensor(atoi[w]).cuda()) for w in words]\n",
        "word_idxs = [atoi[w] for w in words]"
      ],
      "execution_count": 0,
      "outputs": []
    },
    {
      "metadata": {
        "id": "xPWisSckkR29",
        "colab_type": "code",
        "colab": {
          "base_uri": "https://localhost:8080/",
          "height": 35
        },
        "outputId": "2c0fd3d5-6627-4dbd-f6ae-95a637bc72c0"
      },
      "cell_type": "code",
      "source": [
        "model.embeds()"
      ],
      "execution_count": 63,
      "outputs": [
        {
          "output_type": "execute_result",
          "data": {
            "text/plain": [
              "Embedding(10001, 200)"
            ]
          },
          "metadata": {
            "tags": []
          },
          "execution_count": 63
        }
      ]
    },
    {
      "metadata": {
        "id": "EYlO8Og0iz5x",
        "colab_type": "code",
        "colab": {}
      },
      "cell_type": "code",
      "source": [
        "from sklearn.manifold import TSNE\n",
        "tsne = TSNE(n_components=2, learning_rate=150, perplexity=30, angle=0.2, verbose=2).fit_transform(features)"
      ],
      "execution_count": 0,
      "outputs": []
    }
  ]
}