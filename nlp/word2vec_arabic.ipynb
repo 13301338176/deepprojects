{
  "nbformat": 4,
  "nbformat_minor": 0,
  "metadata": {
    "colab": {
      "name": "word2vec-arabic.ipynb",
      "version": "0.3.2",
      "provenance": [],
      "collapsed_sections": []
    },
    "kernelspec": {
      "name": "python3",
      "display_name": "Python 3"
    },
    "accelerator": "GPU"
  },
  "cells": [
    {
      "metadata": {
        "id": "w7-6VEWddPVh",
        "colab_type": "text"
      },
      "cell_type": "markdown",
      "source": [
        "# Word2Vec on Arabic\n",
        "Implement Word2Vec in pytorch to compute vector representations of Arabic words. \n",
        "This example uses Arabic book reviews dataset - [link](http://www.mohamedaly.info/datasets/labr)\n",
        "\n",
        "The implementation is based on **Skip-gram Model** as described in the following [paper](https://arxiv.org/abs/1301.3781):\n",
        "\n",
        "    Tomas Mikolov, Kai Chen, Greg Corrado, Jeffrey Dean, Efficient Estimation of Word Representations in Vector Space, 2013\n",
        "\n",
        "<table class=\"tfo-notebook-buttons\" align=\"left\"><td>\n",
        "<a target=\"_blank\"  href=\"https://colab.research.google.com/github/dzlab/deepprojects/blob/master/nlp/word2vec_arabic.ipynb\">\n",
        "    <img src=\"https://www.tensorflow.org/images/colab_logo_32px.png\" />Run in Google Colab</a>  \n",
        "</td><td>\n",
        "<a target=\"_blank\"  href=\"https://github.com/dzlab/deepprojects/blob/master/nlp/word2vec_arabic.ipynb\"><img width=32px src=\"https://www.tensorflow.org/images/GitHub-Mark-32px.png\" />View source on GitHub</a></td></table>"
      ]
    },
    {
      "metadata": {
        "id": "OXN1kQTigCOR",
        "colab_type": "code",
        "colab": {}
      },
      "cell_type": "code",
      "source": [
        "%matplotlib inline\n",
        "%reload_ext autoreload\n",
        "%autoreload 2"
      ],
      "execution_count": 0,
      "outputs": []
    },
    {
      "metadata": {
        "id": "02FRwYHbeFFL",
        "colab_type": "text"
      },
      "cell_type": "markdown",
      "source": [
        "### Imports"
      ]
    },
    {
      "metadata": {
        "id": "Q9PaDU9F3Sks",
        "colab_type": "code",
        "colab": {}
      },
      "cell_type": "code",
      "source": [
        "import warnings\n",
        "warnings.filterwarnings(\"ignore\")"
      ],
      "execution_count": 0,
      "outputs": []
    },
    {
      "metadata": {
        "id": "vV0jwB6idLBV",
        "colab_type": "code",
        "colab": {}
      },
      "cell_type": "code",
      "source": [
        "import numpy as np\n",
        "import pandas as pd\n",
        "import matplotlib.pyplot as plt\n",
        "from pathlib import Path\n",
        "from tqdm import tqdm\n",
        "import re\n",
        "import collections"
      ],
      "execution_count": 0,
      "outputs": []
    },
    {
      "metadata": {
        "id": "28T69Kq10vbZ",
        "colab_type": "code",
        "colab": {}
      },
      "cell_type": "code",
      "source": [
        "import torch\n",
        "import torch.nn as nn\n",
        "import torch.nn.functional as F\n",
        "import torch.optim as optim\n",
        "from torch.utils.data import Dataset, DataLoader, TensorDataset"
      ],
      "execution_count": 0,
      "outputs": []
    },
    {
      "metadata": {
        "id": "CgOVuVkyeIej",
        "colab_type": "text"
      },
      "cell_type": "markdown",
      "source": [
        "## Data"
      ]
    },
    {
      "metadata": {
        "id": "8UuSBY8ngW6T",
        "colab_type": "code",
        "colab": {}
      },
      "cell_type": "code",
      "source": [
        "PATH = Path('.')"
      ],
      "execution_count": 0,
      "outputs": []
    },
    {
      "metadata": {
        "id": "8_PGADZreGLp",
        "colab_type": "code",
        "colab": {
          "base_uri": "https://localhost:8080/",
          "height": 68
        },
        "outputId": "eb46ed06-b8d7-4767-c5ad-553a882508d0"
      },
      "cell_type": "code",
      "source": [
        "!curl -O https://raw.githubusercontent.com/mohamedadaly/LABR/master/data/reviews.tsv"
      ],
      "execution_count": 3,
      "outputs": [
        {
          "output_type": "stream",
          "text": [
            "  % Total    % Received % Xferd  Average Speed   Time    Time     Time  Current\n",
            "                                 Dload  Upload   Total   Spent    Left  Speed\n",
            "100 38.0M  100 38.0M    0     0  17.2M      0  0:00:02  0:00:02 --:--:-- 17.2M\n"
          ],
          "name": "stdout"
        }
      ]
    },
    {
      "metadata": {
        "id": "-WL_nNQVeenc",
        "colab_type": "code",
        "colab": {}
      },
      "cell_type": "code",
      "source": [
        "columns = ['rating', 'review id', 'user id', 'book id', 'review']\n",
        "df = pd.read_csv(PATH/'reviews.tsv', delimiter='\\t', names=columns)"
      ],
      "execution_count": 0,
      "outputs": []
    },
    {
      "metadata": {
        "id": "CwIZtol6gaj4",
        "colab_type": "code",
        "colab": {
          "base_uri": "https://localhost:8080/",
          "height": 204
        },
        "outputId": "ea013756-f7b1-40ff-9c45-291533923487"
      },
      "cell_type": "code",
      "source": [
        "df.head()"
      ],
      "execution_count": 6,
      "outputs": [
        {
          "output_type": "execute_result",
          "data": {
            "text/html": [
              "<div>\n",
              "<style scoped>\n",
              "    .dataframe tbody tr th:only-of-type {\n",
              "        vertical-align: middle;\n",
              "    }\n",
              "\n",
              "    .dataframe tbody tr th {\n",
              "        vertical-align: top;\n",
              "    }\n",
              "\n",
              "    .dataframe thead th {\n",
              "        text-align: right;\n",
              "    }\n",
              "</style>\n",
              "<table border=\"1\" class=\"dataframe\">\n",
              "  <thead>\n",
              "    <tr style=\"text-align: right;\">\n",
              "      <th></th>\n",
              "      <th>rating</th>\n",
              "      <th>review id</th>\n",
              "      <th>user id</th>\n",
              "      <th>book id</th>\n",
              "      <th>review</th>\n",
              "    </tr>\n",
              "  </thead>\n",
              "  <tbody>\n",
              "    <tr>\n",
              "      <th>0</th>\n",
              "      <td>4</td>\n",
              "      <td>338670838</td>\n",
              "      <td>7878381</td>\n",
              "      <td>13431841</td>\n",
              "      <td>\"عزازيل الذي صنعناه ،الكامن في أنفسنا\" يذكرني...</td>\n",
              "    </tr>\n",
              "    <tr>\n",
              "      <th>1</th>\n",
              "      <td>4</td>\n",
              "      <td>39428407</td>\n",
              "      <td>1775679</td>\n",
              "      <td>3554772</td>\n",
              "      <td>من أمتع ما قرأت من روايات بلا شك. وحول الشك ت...</td>\n",
              "    </tr>\n",
              "    <tr>\n",
              "      <th>2</th>\n",
              "      <td>4</td>\n",
              "      <td>32159373</td>\n",
              "      <td>1304410</td>\n",
              "      <td>3554772</td>\n",
              "      <td>رواية تتخذ من التاريخ ،جوًا لها اختار المؤلف ...</td>\n",
              "    </tr>\n",
              "    <tr>\n",
              "      <th>3</th>\n",
              "      <td>1</td>\n",
              "      <td>442326656</td>\n",
              "      <td>11333112</td>\n",
              "      <td>3554772</td>\n",
              "      <td>إني أقدّر هذه الرواية كثيرا، لسبب مختلف عن أس...</td>\n",
              "    </tr>\n",
              "    <tr>\n",
              "      <th>4</th>\n",
              "      <td>5</td>\n",
              "      <td>46492258</td>\n",
              "      <td>580165</td>\n",
              "      <td>3554772</td>\n",
              "      <td>الكاهن الذي أطلق على نفسه اسم هيبا تيمنا بالع...</td>\n",
              "    </tr>\n",
              "  </tbody>\n",
              "</table>\n",
              "</div>"
            ],
            "text/plain": [
              "   rating  review id   user id   book id  \\\n",
              "0       4  338670838   7878381  13431841   \n",
              "1       4   39428407   1775679   3554772   \n",
              "2       4   32159373   1304410   3554772   \n",
              "3       1  442326656  11333112   3554772   \n",
              "4       5   46492258    580165   3554772   \n",
              "\n",
              "                                              review  \n",
              "0   \"عزازيل الذي صنعناه ،الكامن في أنفسنا\" يذكرني...  \n",
              "1   من أمتع ما قرأت من روايات بلا شك. وحول الشك ت...  \n",
              "2   رواية تتخذ من التاريخ ،جوًا لها اختار المؤلف ...  \n",
              "3   إني أقدّر هذه الرواية كثيرا، لسبب مختلف عن أس...  \n",
              "4   الكاهن الذي أطلق على نفسه اسم هيبا تيمنا بالع...  "
            ]
          },
          "metadata": {
            "tags": []
          },
          "execution_count": 6
        }
      ]
    },
    {
      "metadata": {
        "id": "3DisB55NgiDN",
        "colab_type": "text"
      },
      "cell_type": "markdown",
      "source": [
        "look at the lengths of review sentences"
      ]
    },
    {
      "metadata": {
        "id": "OaOO_ogwgcIS",
        "colab_type": "code",
        "colab": {}
      },
      "cell_type": "code",
      "source": [
        "review_lengths = df['review'].apply(lambda x: len(x.split())).tolist()"
      ],
      "execution_count": 0,
      "outputs": []
    },
    {
      "metadata": {
        "id": "1kBM0pDGgeqW",
        "colab_type": "code",
        "colab": {
          "base_uri": "https://localhost:8080/",
          "height": 389
        },
        "outputId": "ce0a9eb2-67bb-44b6-9a35-6c69e20c3d35"
      },
      "cell_type": "code",
      "source": [
        "plt.figure(figsize=(8,6))\n",
        "plt.hist(review_lengths, bins='auto', range=[0, 200])\n",
        "plt.title(\"Review lengths (in words count)\")\n",
        "plt.show()"
      ],
      "execution_count": 7,
      "outputs": [
        {
          "output_type": "display_data",
          "data": {
            "image/png": "[encoded data removed]",
            "text/plain": [
              "<Figure size 576x432 with 1 Axes>"
            ]
          },
          "metadata": {
            "tags": []
          }
        }
      ]
    },
    {
      "metadata": {
        "id": "brrqxixxgnIQ",
        "colab_type": "text"
      },
      "cell_type": "markdown",
      "source": [
        "### Processing\n",
        "Simple Text tokenization and cleaning"
      ]
    },
    {
      "metadata": {
        "id": "be5D__LahXUp",
        "colab_type": "code",
        "colab": {}
      },
      "cell_type": "code",
      "source": [
        "char1_re = re.compile('\"')\n",
        "char2_re = re.compile('،')\n",
        "char3_re = re.compile('\\.')\n",
        "char4_re = re.compile('!')\n",
        "char5_re = re.compile('؟')\n",
        "char6_re = re.compile('؛')\n",
        "char7_re = re.compile('-')\n",
        "char8_re = re.compile('\\(')\n",
        "char9_re = re.compile('\\)')\n",
        "\n",
        "def cleanup(text):\n",
        "    text = char1_re.sub(' \" ', text)\n",
        "    text = char2_re.sub(' ، ', text)\n",
        "    text = char3_re.sub(' . ', text)\n",
        "    text = char4_re.sub(' ! ', text)\n",
        "    text = char5_re.sub(' ؟ ', text)\n",
        "    text = char6_re.sub(' ؛ ', text)\n",
        "    text = char7_re.sub(' - ', text)\n",
        "    text = char8_re.sub(' ( ', text)\n",
        "    text = char9_re.sub(' ) ', text)\n",
        "    return text"
      ],
      "execution_count": 0,
      "outputs": []
    },
    {
      "metadata": {
        "id": "iQKhMJqFgweO",
        "colab_type": "text"
      },
      "cell_type": "markdown",
      "source": [
        "add special tokens"
      ]
    },
    {
      "metadata": {
        "id": "HYl1R4yOgkdb",
        "colab_type": "code",
        "colab": {}
      },
      "cell_type": "code",
      "source": [
        "BOS = '_BOS_' # Begining of sentence token\n",
        "EOS = '_EOS_' # Ending of sentence token\n",
        "PAD = '_PAD_' # Padding token\n",
        "UNK = '_UNK_' # Unknown tokens (for unknown and low frequency words)"
      ],
      "execution_count": 0,
      "outputs": []
    },
    {
      "metadata": {
        "id": "dMduZhr3g3i3",
        "colab_type": "code",
        "colab": {
          "base_uri": "https://localhost:8080/",
          "height": 34
        },
        "outputId": "22e5dbc0-d2de-40ee-d5b9-b2a9bbb59429"
      },
      "cell_type": "code",
      "source": [
        "all_text = f' {PAD} '.join([f'{BOS} {review} {EOS}' for review in tqdm(df['review'].tolist())])"
      ],
      "execution_count": 9,
      "outputs": [
        {
          "output_type": "stream",
          "text": [
            "100%|██████████| 63257/63257 [00:00<00:00, 904729.24it/s]\n"
          ],
          "name": "stderr"
        }
      ]
    },
    {
      "metadata": {
        "id": "sz-oo7hNjrlc",
        "colab_type": "code",
        "colab": {
          "base_uri": "https://localhost:8080/",
          "height": 54
        },
        "outputId": "283d4b94-779a-4966-85f2-9b9fb3799f48"
      },
      "cell_type": "code",
      "source": [
        "cleanup(all_text[:1_000])"
      ],
      "execution_count": 11,
      "outputs": [
        {
          "output_type": "execute_result",
          "data": {
            "text/plain": [
              "'_BOS_   \" عزازيل الذي صنعناه  ، الكامن في أنفسنا \"  يذكرني يوسف زيدان بــ بورخس في استخدامه لحيلته الفنية ، وخداع القاريء بأن الرواية ترجمة لمخطوط قديم .  الهوامش المخترعة و اختلاق وجود مترجـِم عاد بي إلى بورخس و هوامشه و كتَّابه الوهميين .  هذه أولى قراءاتي ليوسف زيدان  ، وهو عبقري في السرد ويخلقُ جوَّا ساحرا متفرداً يغرقك في المتعة .  هُنا يتجلى الشكُّ الراقي الممزوج بانسانية هيبا الفاتنة ربما تم تناول فكرة الرواية قبلاً  ، ولكن هنا تفرداً و عذوبة لا تُقارن بنصٍ آخر كنتُ أودُّ لو صيغت النهاية بطريقة مختلفة فقد جاءت باردة لا تتناسب مع رواية خُطَّت بهذا الشغف  .  ولذا لا أستطيع منح الرواية خمس نجوم  ، وإن كانت تجربة قرائية متفردة وممتعة .   _EOS_ _PAD_ _BOS_  من أمتع ما قرأت من روايات بلا شك .  وحول الشك تدندن  ( عزازيل )  بلا هوادة .  أحمد الديب 2008 _EOS_ _PAD_ _BOS_  رواية تتخذ من التاريخ  ، جوًا لها اختار المؤلف فترة تاريخية ندر من يتناولها روائيًا .  مكتوبة بدقة وإتقان وجمال . من أروع ما يمكن أن تقرأ من الروايات التاريخية .  تركز على الإنسان . صانع المعنى ومدمره  .  _EOS_ _PAD_ _BOS_  إني أقدّر هذه الرواية كثيرا ،  لسبب مختلف'"
            ]
          },
          "metadata": {
            "tags": []
          },
          "execution_count": 11
        }
      ]
    },
    {
      "metadata": {
        "id": "IGYopft6g_KU",
        "colab_type": "code",
        "colab": {}
      },
      "cell_type": "code",
      "source": [
        "all_text = cleanup(all_text)"
      ],
      "execution_count": 0,
      "outputs": []
    },
    {
      "metadata": {
        "id": "sgz9zWVHq70E",
        "colab_type": "text"
      },
      "cell_type": "markdown",
      "source": [
        "#### Word2Vec Parameters"
      ]
    },
    {
      "metadata": {
        "id": "WuAXIPLOhBY7",
        "colab_type": "code",
        "colab": {}
      },
      "cell_type": "code",
      "source": [
        "# input parameters\n",
        "occur_min   = 10    # Remove all words that does not appears at least n times\n",
        "num_skips   = 2     # How many times to reuse an input to generate a label\n",
        "num_sampled = 64    # Number of negative examples to sample\n",
        "# model parameters\n",
        "vocab_size  = 10000 # Number of different words in the vocabulary (V)\n",
        "embed_size  = 200   # Dimension of the word representations (D)\n",
        "skip_window = 3     # Number of words considered left and right (C)\n",
        "\n",
        "batch_size  = 64"
      ],
      "execution_count": 0,
      "outputs": []
    },
    {
      "metadata": {
        "id": "ktpUUWzPsTdY",
        "colab_type": "code",
        "colab": {}
      },
      "cell_type": "code",
      "source": [
        "words = [w for w in all_text.split(' ') if w is not '']"
      ],
      "execution_count": 0,
      "outputs": []
    },
    {
      "metadata": {
        "id": "f3vnqziYtUOy",
        "colab_type": "text"
      },
      "cell_type": "markdown",
      "source": [
        "#### Filter out words with low frequency to limit vocab size"
      ]
    },
    {
      "metadata": {
        "id": "FgHVSlK6rOR2",
        "colab_type": "code",
        "colab": {
          "base_uri": "https://localhost:8080/",
          "height": 34
        },
        "outputId": "b04b1f9f-2dd6-4393-8357-074e833246fc"
      },
      "cell_type": "code",
      "source": [
        "counts = collections.defaultdict(lambda: 0)\n",
        "\n",
        "for w in tqdm(words):\n",
        "    if w is '': continue\n",
        "    counts[w] = counts[w] + 1"
      ],
      "execution_count": 13,
      "outputs": [
        {
          "output_type": "stream",
          "text": [
            "100%|██████████| 4383439/4383439 [00:02<00:00, 1475491.64it/s]\n"
          ],
          "name": "stderr"
        }
      ]
    },
    {
      "metadata": {
        "id": "i8Welx7asa0t",
        "colab_type": "code",
        "colab": {
          "base_uri": "https://localhost:8080/",
          "height": 34
        },
        "outputId": "d08beb27-2f71-4fee-c8fe-a23d103b1231"
      },
      "cell_type": "code",
      "source": [
        "counts['تجربة'], counts['رواية']"
      ],
      "execution_count": 16,
      "outputs": [
        {
          "output_type": "execute_result",
          "data": {
            "text/plain": [
              "(879, 10310)"
            ]
          },
          "metadata": {
            "tags": []
          },
          "execution_count": 16
        }
      ]
    },
    {
      "metadata": {
        "id": "XjQfqP7shufg",
        "colab_type": "text"
      },
      "cell_type": "markdown",
      "source": [
        "limit size of vocabulary"
      ]
    },
    {
      "metadata": {
        "id": "8lkS8yZXhuMo",
        "colab_type": "code",
        "colab": {}
      },
      "cell_type": "code",
      "source": [
        "counts = dict(list(sorted(counts.items(), reverse=True, key=lambda x: x[1]))[:vocab_size])"
      ],
      "execution_count": 0,
      "outputs": []
    },
    {
      "metadata": {
        "id": "u9QjBEhot9tq",
        "colab_type": "text"
      },
      "cell_type": "markdown",
      "source": [
        "words with lowest frequencies"
      ]
    },
    {
      "metadata": {
        "id": "CJXGss6-t711",
        "colab_type": "code",
        "colab": {}
      },
      "cell_type": "code",
      "source": [
        "ordered_counts = dict(sorted(counts.items(), reverse=True, key=lambda x: x[1]))"
      ],
      "execution_count": 0,
      "outputs": []
    },
    {
      "metadata": {
        "id": "LV0DCNzuuihY",
        "colab_type": "code",
        "colab": {
          "base_uri": "https://localhost:8080/",
          "height": 187
        },
        "outputId": "a6e942e1-d65b-433c-a96b-9f6598808e05"
      },
      "cell_type": "code",
      "source": [
        "list(ordered_counts.items())[-10:]"
      ],
      "execution_count": 37,
      "outputs": [
        {
          "output_type": "execute_result",
          "data": {
            "text/plain": [
              "[('العمامة', 10),\n",
              " ('عنواني', 10),\n",
              " ('الفئران', 10),\n",
              " ('فرونسكي', 10),\n",
              " ('كارنين', 10),\n",
              " ('عيدي', 10),\n",
              " ('حسيني', 10),\n",
              " ('يثوروا', 10),\n",
              " ('غلاظة', 10),\n",
              " ('السيّاب:', 10)]"
            ]
          },
          "metadata": {
            "tags": []
          },
          "execution_count": 37
        }
      ]
    },
    {
      "metadata": {
        "id": "nKAhdzQKte49",
        "colab_type": "code",
        "colab": {}
      },
      "cell_type": "code",
      "source": [
        "vocab = [w for w, c in counts.items() if c >= occur_min]\n",
        "vocab_size = len(vocab)"
      ],
      "execution_count": 0,
      "outputs": []
    },
    {
      "metadata": {
        "id": "7fLYfCg0vY7l",
        "colab_type": "text"
      },
      "cell_type": "markdown",
      "source": [
        "Create indices on vocabulary"
      ]
    },
    {
      "metadata": {
        "id": "2ccir2A2u-2I",
        "colab_type": "code",
        "colab": {}
      },
      "cell_type": "code",
      "source": [
        "itoa = dict((i, w) for i, w in enumerate(vocab))\n",
        "atoi = dict((w, i) for i, w in enumerate(vocab))"
      ],
      "execution_count": 0,
      "outputs": []
    },
    {
      "metadata": {
        "id": "jvH2FkzRvAcI",
        "colab_type": "code",
        "colab": {
          "base_uri": "https://localhost:8080/",
          "height": 34
        },
        "outputId": "bc7cb532-ffe9-4bd8-ef92-d26ad983ec93"
      },
      "cell_type": "code",
      "source": [
        "atoi['تجربة'], atoi['رواية']"
      ],
      "execution_count": 22,
      "outputs": [
        {
          "output_type": "execute_result",
          "data": {
            "text/plain": [
              "(72, 62)"
            ]
          },
          "metadata": {
            "tags": []
          },
          "execution_count": 22
        }
      ]
    },
    {
      "metadata": {
        "id": "VhncbknvwnEP",
        "colab_type": "text"
      },
      "cell_type": "markdown",
      "source": [
        "#### Add the unknown token"
      ]
    },
    {
      "metadata": {
        "id": "zGpfK0WtwqWB",
        "colab_type": "code",
        "colab": {}
      },
      "cell_type": "code",
      "source": [
        "atoi[UNK] = len(vocab)\n",
        "itoa[len(vocab)] = UNK"
      ],
      "execution_count": 0,
      "outputs": []
    },
    {
      "metadata": {
        "id": "gKVtNhBov8G9",
        "colab_type": "code",
        "colab": {}
      },
      "cell_type": "code",
      "source": [
        "atoi = collections.defaultdict(lambda: len(vocab), atoi)\n",
        "itoa = collections.defaultdict(lambda: UNK, itoa)"
      ],
      "execution_count": 0,
      "outputs": []
    },
    {
      "metadata": {
        "id": "SZCNex2qxHDk",
        "colab_type": "code",
        "colab": {
          "base_uri": "https://localhost:8080/",
          "height": 34
        },
        "outputId": "cf7f0d91-d851-4a79-b2c4-5aab737bd3a1"
      },
      "cell_type": "code",
      "source": [
        "atoi['not found'], itoa[len(vocab) * 2]"
      ],
      "execution_count": 25,
      "outputs": [
        {
          "output_type": "execute_result",
          "data": {
            "text/plain": [
              "(32057, '_UNK_')"
            ]
          },
          "metadata": {
            "tags": []
          },
          "execution_count": 25
        }
      ]
    },
    {
      "metadata": {
        "id": "v8VIBBFb0VDf",
        "colab_type": "text"
      },
      "cell_type": "markdown",
      "source": [
        "### Training Input"
      ]
    },
    {
      "metadata": {
        "id": "e238oa3ZHy-l",
        "colab_type": "code",
        "colab": {
          "base_uri": "https://localhost:8080/",
          "height": 34
        },
        "outputId": "919bdb1c-625e-446a-e5c6-807bf1c225d3"
      },
      "cell_type": "code",
      "source": [
        "# bounding indices\n",
        "min_index = 0\n",
        "max_index = len(words)-1\n",
        "# the list of ngrams that will be \n",
        "X, y = [], []\n",
        "# create dataset\n",
        "for t, wt in tqdm(enumerate(words)):\n",
        "    # add words from the previous skip window\n",
        "    for past in range(t-1, max(min_index, t-skip_window)):\n",
        "        X.append(atoi[wt])\n",
        "        y.append(atoi[words[past]])\n",
        "    # add words from the next skip window\n",
        "    for future in range(t+1, min(max_index, t+skip_window)):\n",
        "        X.append(atoi[wt])\n",
        "        y.append(atoi[words[future]])"
      ],
      "execution_count": 20,
      "outputs": [
        {
          "output_type": "stream",
          "text": [
            "4383439it [00:13, 324124.03it/s]\n"
          ],
          "name": "stderr"
        }
      ]
    },
    {
      "metadata": {
        "id": "zcnwBdowWQS9",
        "colab_type": "text"
      },
      "cell_type": "markdown",
      "source": [
        "split input into training and validation sets"
      ]
    },
    {
      "metadata": {
        "id": "H8VEKwlvfZL5",
        "colab_type": "code",
        "colab": {}
      },
      "cell_type": "code",
      "source": [
        "split_index = int(len(X) * 0.9)"
      ],
      "execution_count": 0,
      "outputs": []
    },
    {
      "metadata": {
        "id": "hJzCzNbXRvm9",
        "colab_type": "code",
        "colab": {}
      },
      "cell_type": "code",
      "source": [
        "X_train, y_train = torch.LongTensor(X[:split_index]).cuda(), torch.LongTensor(y[:split_index]).cuda()\n",
        "\n",
        "train_ds = TensorDataset(X_train, y_train)\n",
        "train_dl = DataLoader(train_ds, batch_size=batch_size, shuffle=True)"
      ],
      "execution_count": 0,
      "outputs": []
    },
    {
      "metadata": {
        "id": "7ImyJX_GJX5w",
        "colab_type": "code",
        "colab": {
          "base_uri": "https://localhost:8080/",
          "height": 187
        },
        "outputId": "46544d93-fca3-4aaa-a32e-4d0f16001e61"
      },
      "cell_type": "code",
      "source": [
        "#i = 0\n",
        "#for win, wout in ngrams:\n",
        "#    print(win, wout)\n",
        "#    i += 1\n",
        "#    if i==10: break"
      ],
      "execution_count": 144,
      "outputs": [
        {
          "output_type": "stream",
          "text": [
            "_BOS_ _EOS_\n",
            "_BOS_ \"\n",
            "_BOS_ عزازيل\n",
            "\" عزازيل\n",
            "\" الذي\n",
            "عزازيل الذي\n",
            "عزازيل صنعناه\n",
            "الذي صنعناه\n",
            "الذي ،\n",
            "صنعناه ،\n"
          ],
          "name": "stdout"
        }
      ]
    },
    {
      "metadata": {
        "id": "3QDQc01x91Ay",
        "colab_type": "code",
        "colab": {}
      },
      "cell_type": "code",
      "source": [
        "class SkipGramDataset(Dataset):\n",
        "    \"\"\"Skip Gram dataset.\"\"\"\n",
        "\n",
        "    def __init__(self, vocab, atoi, itoa, ngrams):\n",
        "        \"\"\"\n",
        "        Args:\n",
        "            vocab      (list): list of words constinuting the Vocabulary.\n",
        "            atoi (dictionary): word to index Directory.\n",
        "            itoa (dictionary): index to word Directory.\n",
        "            ngrams     (list): list of ngrams created with a skip window (left & right) \n",
        "        \"\"\"\n",
        "        self.vocab = vocab\n",
        "        self.atoi, self.itoa = atoi, itoa\n",
        "        self.ngrams = ngrams\n",
        "\n",
        "    def __len__(self):\n",
        "        return len(self.ngrams)\n",
        "\n",
        "    def __getitem__(self, idx):\n",
        "        win, wout = ngrams[idx]\n",
        "        return (self.atoi(win), self.atoi(wout))"
      ],
      "execution_count": 0,
      "outputs": []
    },
    {
      "metadata": {
        "id": "kJZ8Xki6xOu-",
        "colab_type": "code",
        "colab": {}
      },
      "cell_type": "code",
      "source": [
        "#dataset = SkipGramDataset(vocab, atoi, itoa, ngrams)"
      ],
      "execution_count": 0,
      "outputs": []
    },
    {
      "metadata": {
        "id": "asfrWhb_0cN8",
        "colab_type": "text"
      },
      "cell_type": "markdown",
      "source": [
        "## Model\n",
        "Continuous Skip-gram Model in PyTorch"
      ]
    },
    {
      "metadata": {
        "id": "C-KsVZgm0gEi",
        "colab_type": "code",
        "colab": {}
      },
      "cell_type": "code",
      "source": [
        "class SkipGramModel(nn.Module):\n",
        "    def __init__(self, vocab_size, embed_size, skip_window):\n",
        "        super().__init__()\n",
        "        self.vocab_size, self.embed_size = vocab_size, embed_size\n",
        "        self.embeds = nn.Embedding(num_embeddings=vocab_size, embedding_dim=embed_size)\n",
        "        self.lin1 = nn.Linear(in_features=embed_size, out_features=vocab_size)\n",
        "        self.lin2 = nn.Linear(in_features=vocab_size, out_features=vocab_size)\n",
        "        \n",
        "    def forward(self, X):\n",
        "        # X shape should be (batch_size, 1)\n",
        "        y = self.embeds(X)                     # (batch_size, embedding_dim)\n",
        "        y = F.relu(self.lin1(y))               # (batch_size, vocab_size)\n",
        "        y = F.log_softmax(self.lin2(y), dim=1) # (batch_size, vocab_size)\n",
        "        return y"
      ],
      "execution_count": 0,
      "outputs": []
    },
    {
      "metadata": {
        "id": "MBF_ll5OYCCq",
        "colab_type": "code",
        "colab": {}
      },
      "cell_type": "code",
      "source": [
        "model = SkipGramModel(vocab_size, embed_size, skip_window).cuda()"
      ],
      "execution_count": 0,
      "outputs": []
    },
    {
      "metadata": {
        "id": "fKkDWhI8LHA5",
        "colab_type": "code",
        "colab": {}
      },
      "cell_type": "code",
      "source": [
        "loss_function = nn.NLLLoss()\n",
        "optimizer = optim.Adam(model.parameters(), lr=0.01)"
      ],
      "execution_count": 0,
      "outputs": []
    },
    {
      "metadata": {
        "id": "1MViCTpnLkww",
        "colab_type": "text"
      },
      "cell_type": "markdown",
      "source": [
        "### Train"
      ]
    },
    {
      "metadata": {
        "id": "coMtraW0No6r",
        "colab_type": "code",
        "colab": {}
      },
      "cell_type": "code",
      "source": [
        "def run(model, dataloader):\n",
        "    total_loss = 0\n",
        "    # for every batch in the DataLoader\n",
        "    for batch in tqdm(dataloader):\n",
        "        # Step 1. Prepare the inputs to be passed to the model (i.e, turn the words\n",
        "        # into integer indices and wrap them in tensors)\n",
        "        X, y = batch\n",
        "        # Step 2. Recall that torch *accumulates* gradients. Before passing in a\n",
        "        # new instance, you need to zero out the gradients from the old\n",
        "        # instance\n",
        "        model.zero_grad()\n",
        "\n",
        "        # Step 3. Run the forward pass, getting log probabilities over next words\n",
        "        log_probs = model(X)\n",
        "        \n",
        "        # Step 4. Compute your loss function. (Again, Torch wants the target\n",
        "        # word wrapped in a tensor)\n",
        "        #loss = loss_function(log_probs, torch.tensor([word_to_ix[target]], dtype=torch.long))\n",
        "        loss = loss_function(log_probs, y)\n",
        "        \n",
        "        # Step 5. Do the backward pass and update the gradient\n",
        "        loss.backward()\n",
        "        optimizer.step()\n",
        "\n",
        "        # Get the Python number from a 1-element Tensor by calling tensor.item()\n",
        "        total_loss += loss.item()\n",
        "        \n",
        "    return total_loss"
      ],
      "execution_count": 0,
      "outputs": []
    },
    {
      "metadata": {
        "id": "NOpkJIN-LeDv",
        "colab_type": "code",
        "colab": {
          "base_uri": "https://localhost:8080/",
          "height": 963
        },
        "outputId": "99389e60-534b-43d9-947b-0f498acda4b9"
      },
      "cell_type": "code",
      "source": [
        "losses = []\n",
        "for epoch in range(10):\n",
        "    total_loss = run(model, train_dl)\n",
        "    losses.append(total_loss)\n",
        "# Check if the loss decreased after every iteration\n",
        "print(losses)  "
      ],
      "execution_count": 27,
      "outputs": [
        {
          "output_type": "stream",
          "text": [
            "\r  0%|          | 0/123285 [00:00<?, ?it/s]\n"
          ],
          "name": "stderr"
        },
        {
          "output_type": "error",
          "ename": "RuntimeError",
          "evalue": "ignored",
          "traceback": [
            "\u001b[0;31m---------------------------------------------------------------------------\u001b[0m",
            "\u001b[0;31mRuntimeError\u001b[0m                              Traceback (most recent call last)",
            "\u001b[0;32m<ipython-input-27-42e434c1a945>\u001b[0m in \u001b[0;36m<module>\u001b[0;34m()\u001b[0m\n\u001b[1;32m      1\u001b[0m \u001b[0mlosses\u001b[0m \u001b[0;34m=\u001b[0m \u001b[0;34m[\u001b[0m\u001b[0;34m]\u001b[0m\u001b[0;34m\u001b[0m\u001b[0;34m\u001b[0m\u001b[0m\n\u001b[1;32m      2\u001b[0m \u001b[0;32mfor\u001b[0m \u001b[0mepoch\u001b[0m \u001b[0;32min\u001b[0m \u001b[0mrange\u001b[0m\u001b[0;34m(\u001b[0m\u001b[0;36m10\u001b[0m\u001b[0;34m)\u001b[0m\u001b[0;34m:\u001b[0m\u001b[0;34m\u001b[0m\u001b[0;34m\u001b[0m\u001b[0m\n\u001b[0;32m----> 3\u001b[0;31m     \u001b[0mtotal_loss\u001b[0m \u001b[0;34m=\u001b[0m \u001b[0mrun\u001b[0m\u001b[0;34m(\u001b[0m\u001b[0mmodel\u001b[0m\u001b[0;34m,\u001b[0m \u001b[0mtrain_dl\u001b[0m\u001b[0;34m)\u001b[0m\u001b[0;34m\u001b[0m\u001b[0;34m\u001b[0m\u001b[0m\n\u001b[0m\u001b[1;32m      4\u001b[0m     \u001b[0mlosses\u001b[0m\u001b[0;34m.\u001b[0m\u001b[0mappend\u001b[0m\u001b[0;34m(\u001b[0m\u001b[0mtotal_loss\u001b[0m\u001b[0;34m)\u001b[0m\u001b[0;34m\u001b[0m\u001b[0;34m\u001b[0m\u001b[0m\n\u001b[1;32m      5\u001b[0m \u001b[0;31m# Check if the loss decreased after every iteration\u001b[0m\u001b[0;34m\u001b[0m\u001b[0;34m\u001b[0m\u001b[0;34m\u001b[0m\u001b[0m\n",
            "\u001b[0;32m<ipython-input-26-c1eac4b9679f>\u001b[0m in \u001b[0;36mrun\u001b[0;34m(model, dataloader)\u001b[0m\n\u001b[1;32m     12\u001b[0m \u001b[0;34m\u001b[0m\u001b[0m\n\u001b[1;32m     13\u001b[0m         \u001b[0;31m# Step 3. Run the forward pass, getting log probabilities over next words\u001b[0m\u001b[0;34m\u001b[0m\u001b[0;34m\u001b[0m\u001b[0;34m\u001b[0m\u001b[0m\n\u001b[0;32m---> 14\u001b[0;31m         \u001b[0mlog_probs\u001b[0m \u001b[0;34m=\u001b[0m \u001b[0mmodel\u001b[0m\u001b[0;34m(\u001b[0m\u001b[0mX\u001b[0m\u001b[0;34m)\u001b[0m\u001b[0;34m\u001b[0m\u001b[0;34m\u001b[0m\u001b[0m\n\u001b[0m\u001b[1;32m     15\u001b[0m \u001b[0;34m\u001b[0m\u001b[0m\n\u001b[1;32m     16\u001b[0m         \u001b[0;31m# Step 4. Compute your loss function. (Again, Torch wants the target\u001b[0m\u001b[0;34m\u001b[0m\u001b[0;34m\u001b[0m\u001b[0;34m\u001b[0m\u001b[0m\n",
            "\u001b[0;32m/usr/local/lib/python3.6/dist-packages/torch/nn/modules/module.py\u001b[0m in \u001b[0;36m__call__\u001b[0;34m(self, *input, **kwargs)\u001b[0m\n\u001b[1;32m    487\u001b[0m             \u001b[0mresult\u001b[0m \u001b[0;34m=\u001b[0m \u001b[0mself\u001b[0m\u001b[0;34m.\u001b[0m\u001b[0m_slow_forward\u001b[0m\u001b[0;34m(\u001b[0m\u001b[0;34m*\u001b[0m\u001b[0minput\u001b[0m\u001b[0;34m,\u001b[0m \u001b[0;34m**\u001b[0m\u001b[0mkwargs\u001b[0m\u001b[0;34m)\u001b[0m\u001b[0;34m\u001b[0m\u001b[0;34m\u001b[0m\u001b[0m\n\u001b[1;32m    488\u001b[0m         \u001b[0;32melse\u001b[0m\u001b[0;34m:\u001b[0m\u001b[0;34m\u001b[0m\u001b[0;34m\u001b[0m\u001b[0m\n\u001b[0;32m--> 489\u001b[0;31m             \u001b[0mresult\u001b[0m \u001b[0;34m=\u001b[0m \u001b[0mself\u001b[0m\u001b[0;34m.\u001b[0m\u001b[0mforward\u001b[0m\u001b[0;34m(\u001b[0m\u001b[0;34m*\u001b[0m\u001b[0minput\u001b[0m\u001b[0;34m,\u001b[0m \u001b[0;34m**\u001b[0m\u001b[0mkwargs\u001b[0m\u001b[0;34m)\u001b[0m\u001b[0;34m\u001b[0m\u001b[0;34m\u001b[0m\u001b[0m\n\u001b[0m\u001b[1;32m    490\u001b[0m         \u001b[0;32mfor\u001b[0m \u001b[0mhook\u001b[0m \u001b[0;32min\u001b[0m \u001b[0mself\u001b[0m\u001b[0;34m.\u001b[0m\u001b[0m_forward_hooks\u001b[0m\u001b[0;34m.\u001b[0m\u001b[0mvalues\u001b[0m\u001b[0;34m(\u001b[0m\u001b[0;34m)\u001b[0m\u001b[0;34m:\u001b[0m\u001b[0;34m\u001b[0m\u001b[0;34m\u001b[0m\u001b[0m\n\u001b[1;32m    491\u001b[0m             \u001b[0mhook_result\u001b[0m \u001b[0;34m=\u001b[0m \u001b[0mhook\u001b[0m\u001b[0;34m(\u001b[0m\u001b[0mself\u001b[0m\u001b[0;34m,\u001b[0m \u001b[0minput\u001b[0m\u001b[0;34m,\u001b[0m \u001b[0mresult\u001b[0m\u001b[0;34m)\u001b[0m\u001b[0;34m\u001b[0m\u001b[0;34m\u001b[0m\u001b[0m\n",
            "\u001b[0;32m<ipython-input-23-f7923dba52f5>\u001b[0m in \u001b[0;36mforward\u001b[0;34m(self, X)\u001b[0m\n\u001b[1;32m     10\u001b[0m         \u001b[0;31m# X shape should be (batch_size, 1)\u001b[0m\u001b[0;34m\u001b[0m\u001b[0;34m\u001b[0m\u001b[0;34m\u001b[0m\u001b[0m\n\u001b[1;32m     11\u001b[0m         \u001b[0my\u001b[0m \u001b[0;34m=\u001b[0m \u001b[0mself\u001b[0m\u001b[0;34m.\u001b[0m\u001b[0membeds\u001b[0m\u001b[0;34m(\u001b[0m\u001b[0mX\u001b[0m\u001b[0;34m)\u001b[0m                     \u001b[0;31m# (batch_size, embedding_dim)\u001b[0m\u001b[0;34m\u001b[0m\u001b[0;34m\u001b[0m\u001b[0m\n\u001b[0;32m---> 12\u001b[0;31m         \u001b[0my\u001b[0m \u001b[0;34m=\u001b[0m \u001b[0mF\u001b[0m\u001b[0;34m.\u001b[0m\u001b[0mrelu\u001b[0m\u001b[0;34m(\u001b[0m\u001b[0mself\u001b[0m\u001b[0;34m.\u001b[0m\u001b[0mlin1\u001b[0m\u001b[0;34m(\u001b[0m\u001b[0my\u001b[0m\u001b[0;34m)\u001b[0m\u001b[0;34m)\u001b[0m               \u001b[0;31m# (batch_size, vocab_size)\u001b[0m\u001b[0;34m\u001b[0m\u001b[0;34m\u001b[0m\u001b[0m\n\u001b[0m\u001b[1;32m     13\u001b[0m         \u001b[0my\u001b[0m \u001b[0;34m=\u001b[0m \u001b[0mF\u001b[0m\u001b[0;34m.\u001b[0m\u001b[0mlog_softmax\u001b[0m\u001b[0;34m(\u001b[0m\u001b[0mself\u001b[0m\u001b[0;34m.\u001b[0m\u001b[0mlin2\u001b[0m\u001b[0;34m(\u001b[0m\u001b[0my\u001b[0m\u001b[0;34m)\u001b[0m\u001b[0;34m,\u001b[0m \u001b[0mdim\u001b[0m\u001b[0;34m=\u001b[0m\u001b[0;36m1\u001b[0m\u001b[0;34m)\u001b[0m \u001b[0;31m# (batch_size, vocab_size)\u001b[0m\u001b[0;34m\u001b[0m\u001b[0;34m\u001b[0m\u001b[0m\n\u001b[1;32m     14\u001b[0m         \u001b[0;32mreturn\u001b[0m \u001b[0my\u001b[0m\u001b[0;34m\u001b[0m\u001b[0;34m\u001b[0m\u001b[0m\n",
            "\u001b[0;32m/usr/local/lib/python3.6/dist-packages/torch/nn/modules/module.py\u001b[0m in \u001b[0;36m__call__\u001b[0;34m(self, *input, **kwargs)\u001b[0m\n\u001b[1;32m    487\u001b[0m             \u001b[0mresult\u001b[0m \u001b[0;34m=\u001b[0m \u001b[0mself\u001b[0m\u001b[0;34m.\u001b[0m\u001b[0m_slow_forward\u001b[0m\u001b[0;34m(\u001b[0m\u001b[0;34m*\u001b[0m\u001b[0minput\u001b[0m\u001b[0;34m,\u001b[0m \u001b[0;34m**\u001b[0m\u001b[0mkwargs\u001b[0m\u001b[0;34m)\u001b[0m\u001b[0;34m\u001b[0m\u001b[0;34m\u001b[0m\u001b[0m\n\u001b[1;32m    488\u001b[0m         \u001b[0;32melse\u001b[0m\u001b[0;34m:\u001b[0m\u001b[0;34m\u001b[0m\u001b[0;34m\u001b[0m\u001b[0m\n\u001b[0;32m--> 489\u001b[0;31m             \u001b[0mresult\u001b[0m \u001b[0;34m=\u001b[0m \u001b[0mself\u001b[0m\u001b[0;34m.\u001b[0m\u001b[0mforward\u001b[0m\u001b[0;34m(\u001b[0m\u001b[0;34m*\u001b[0m\u001b[0minput\u001b[0m\u001b[0;34m,\u001b[0m \u001b[0;34m**\u001b[0m\u001b[0mkwargs\u001b[0m\u001b[0;34m)\u001b[0m\u001b[0;34m\u001b[0m\u001b[0;34m\u001b[0m\u001b[0m\n\u001b[0m\u001b[1;32m    490\u001b[0m         \u001b[0;32mfor\u001b[0m \u001b[0mhook\u001b[0m \u001b[0;32min\u001b[0m \u001b[0mself\u001b[0m\u001b[0;34m.\u001b[0m\u001b[0m_forward_hooks\u001b[0m\u001b[0;34m.\u001b[0m\u001b[0mvalues\u001b[0m\u001b[0;34m(\u001b[0m\u001b[0;34m)\u001b[0m\u001b[0;34m:\u001b[0m\u001b[0;34m\u001b[0m\u001b[0;34m\u001b[0m\u001b[0m\n\u001b[1;32m    491\u001b[0m             \u001b[0mhook_result\u001b[0m \u001b[0;34m=\u001b[0m \u001b[0mhook\u001b[0m\u001b[0;34m(\u001b[0m\u001b[0mself\u001b[0m\u001b[0;34m,\u001b[0m \u001b[0minput\u001b[0m\u001b[0;34m,\u001b[0m \u001b[0mresult\u001b[0m\u001b[0;34m)\u001b[0m\u001b[0;34m\u001b[0m\u001b[0;34m\u001b[0m\u001b[0m\n",
            "\u001b[0;32m/usr/local/lib/python3.6/dist-packages/torch/nn/modules/linear.py\u001b[0m in \u001b[0;36mforward\u001b[0;34m(self, input)\u001b[0m\n\u001b[1;32m     65\u001b[0m     \u001b[0;34m@\u001b[0m\u001b[0mweak_script_method\u001b[0m\u001b[0;34m\u001b[0m\u001b[0;34m\u001b[0m\u001b[0m\n\u001b[1;32m     66\u001b[0m     \u001b[0;32mdef\u001b[0m \u001b[0mforward\u001b[0m\u001b[0;34m(\u001b[0m\u001b[0mself\u001b[0m\u001b[0;34m,\u001b[0m \u001b[0minput\u001b[0m\u001b[0;34m)\u001b[0m\u001b[0;34m:\u001b[0m\u001b[0;34m\u001b[0m\u001b[0;34m\u001b[0m\u001b[0m\n\u001b[0;32m---> 67\u001b[0;31m         \u001b[0;32mreturn\u001b[0m \u001b[0mF\u001b[0m\u001b[0;34m.\u001b[0m\u001b[0mlinear\u001b[0m\u001b[0;34m(\u001b[0m\u001b[0minput\u001b[0m\u001b[0;34m,\u001b[0m \u001b[0mself\u001b[0m\u001b[0;34m.\u001b[0m\u001b[0mweight\u001b[0m\u001b[0;34m,\u001b[0m \u001b[0mself\u001b[0m\u001b[0;34m.\u001b[0m\u001b[0mbias\u001b[0m\u001b[0;34m)\u001b[0m\u001b[0;34m\u001b[0m\u001b[0;34m\u001b[0m\u001b[0m\n\u001b[0m\u001b[1;32m     68\u001b[0m \u001b[0;34m\u001b[0m\u001b[0m\n\u001b[1;32m     69\u001b[0m     \u001b[0;32mdef\u001b[0m \u001b[0mextra_repr\u001b[0m\u001b[0;34m(\u001b[0m\u001b[0mself\u001b[0m\u001b[0;34m)\u001b[0m\u001b[0;34m:\u001b[0m\u001b[0;34m\u001b[0m\u001b[0;34m\u001b[0m\u001b[0m\n",
            "\u001b[0;32m/usr/local/lib/python3.6/dist-packages/torch/nn/functional.py\u001b[0m in \u001b[0;36mlinear\u001b[0;34m(input, weight, bias)\u001b[0m\n\u001b[1;32m   1350\u001b[0m     \u001b[0;32mif\u001b[0m \u001b[0minput\u001b[0m\u001b[0;34m.\u001b[0m\u001b[0mdim\u001b[0m\u001b[0;34m(\u001b[0m\u001b[0;34m)\u001b[0m \u001b[0;34m==\u001b[0m \u001b[0;36m2\u001b[0m \u001b[0;32mand\u001b[0m \u001b[0mbias\u001b[0m \u001b[0;32mis\u001b[0m \u001b[0;32mnot\u001b[0m \u001b[0;32mNone\u001b[0m\u001b[0;34m:\u001b[0m\u001b[0;34m\u001b[0m\u001b[0;34m\u001b[0m\u001b[0m\n\u001b[1;32m   1351\u001b[0m         \u001b[0;31m# fused op is marginally faster\u001b[0m\u001b[0;34m\u001b[0m\u001b[0;34m\u001b[0m\u001b[0;34m\u001b[0m\u001b[0m\n\u001b[0;32m-> 1352\u001b[0;31m         \u001b[0mret\u001b[0m \u001b[0;34m=\u001b[0m \u001b[0mtorch\u001b[0m\u001b[0;34m.\u001b[0m\u001b[0maddmm\u001b[0m\u001b[0;34m(\u001b[0m\u001b[0mtorch\u001b[0m\u001b[0;34m.\u001b[0m\u001b[0mjit\u001b[0m\u001b[0;34m.\u001b[0m\u001b[0m_unwrap_optional\u001b[0m\u001b[0;34m(\u001b[0m\u001b[0mbias\u001b[0m\u001b[0;34m)\u001b[0m\u001b[0;34m,\u001b[0m \u001b[0minput\u001b[0m\u001b[0;34m,\u001b[0m \u001b[0mweight\u001b[0m\u001b[0;34m.\u001b[0m\u001b[0mt\u001b[0m\u001b[0;34m(\u001b[0m\u001b[0;34m)\u001b[0m\u001b[0;34m)\u001b[0m\u001b[0;34m\u001b[0m\u001b[0;34m\u001b[0m\u001b[0m\n\u001b[0m\u001b[1;32m   1353\u001b[0m     \u001b[0;32melse\u001b[0m\u001b[0;34m:\u001b[0m\u001b[0;34m\u001b[0m\u001b[0;34m\u001b[0m\u001b[0m\n\u001b[1;32m   1354\u001b[0m         \u001b[0moutput\u001b[0m \u001b[0;34m=\u001b[0m \u001b[0minput\u001b[0m\u001b[0;34m.\u001b[0m\u001b[0mmatmul\u001b[0m\u001b[0;34m(\u001b[0m\u001b[0mweight\u001b[0m\u001b[0;34m.\u001b[0m\u001b[0mt\u001b[0m\u001b[0;34m(\u001b[0m\u001b[0;34m)\u001b[0m\u001b[0;34m)\u001b[0m\u001b[0;34m\u001b[0m\u001b[0;34m\u001b[0m\u001b[0m\n",
            "\u001b[0;31mRuntimeError\u001b[0m: cublas runtime error : resource allocation failed at /pytorch/aten/src/THC/THCGeneral.cpp:250"
          ]
        }
      ]
    },
    {
      "metadata": {
        "id": "dvmLPWavfTRY",
        "colab_type": "text"
      },
      "cell_type": "markdown",
      "source": [
        "### Validation"
      ]
    },
    {
      "metadata": {
        "id": "Gn_h0qozbHUI",
        "colab_type": "code",
        "colab": {}
      },
      "cell_type": "code",
      "source": [
        "X_valid, y_valid = torch.LongTensor(X[split_index:]).cuda(), torch.LongTensor(y[split_index:]).cuda()\n",
        "\n",
        "valid_ds = TensorDataset(X_valid, y_valid)\n",
        "valid_dl = DataLoader(valid_ds, batch_size=batch_size, shuffle=True)"
      ],
      "execution_count": 0,
      "outputs": []
    }
  ]
}