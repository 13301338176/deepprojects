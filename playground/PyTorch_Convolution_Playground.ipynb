{
  "nbformat": 4,
  "nbformat_minor": 0,
  "metadata": {
    "colab": {
      "name": "PyTorch Convolution Playground.ipynb",
      "version": "0.3.2",
      "provenance": [],
      "collapsed_sections": []
    },
    "kernelspec": {
      "name": "python3",
      "display_name": "Python 3"
    },
    "accelerator": "GPU"
  },
  "cells": [
    {
      "metadata": {
        "id": "yXSJu-OgwjBc",
        "colab_type": "code",
        "colab": {}
      },
      "cell_type": "code",
      "source": [
        "import torch\n",
        "import torch.nn as nn\n",
        "import torch.optim as optim\n",
        "from torch.utils.data import Dataset, DataLoader\n",
        "from torchvision import transforms, utils"
      ],
      "execution_count": 0,
      "outputs": []
    },
    {
      "metadata": {
        "id": "hRKRfmFTxDmS",
        "colab_type": "code",
        "colab": {}
      },
      "cell_type": "code",
      "source": [
        "bs = 16"
      ],
      "execution_count": 0,
      "outputs": []
    },
    {
      "metadata": {
        "id": "IeSNnqzZw4by",
        "colab_type": "text"
      },
      "cell_type": "markdown",
      "source": [
        "## Layers"
      ]
    },
    {
      "metadata": {
        "id": "0RKD-RLEwpDw",
        "colab_type": "code",
        "colab": {}
      },
      "cell_type": "code",
      "source": [
        "def conv1d(ni, nf, k=3, s=2, p=1): return nn.Conv1d(ni, nf, kernel_size=k, stride=s, padding=p)"
      ],
      "execution_count": 0,
      "outputs": []
    },
    {
      "metadata": {
        "id": "hrImS3fnwv-W",
        "colab_type": "code",
        "colab": {}
      },
      "cell_type": "code",
      "source": [
        "def conv2d(ni, nf, k=3, s=2, p=1): return nn.Conv2d(ni, nf, kernel_size=k, stride=s, padding=p)"
      ],
      "execution_count": 0,
      "outputs": []
    },
    {
      "metadata": {
        "id": "o3YaBmOw-RBS",
        "colab_type": "code",
        "colab": {}
      },
      "cell_type": "code",
      "source": [
        "def upsample(ni, nf, k=3, s=2, p=1, op=0): return nn.ConvTranspose2d(ni, nf, kernel_size=k, stride=s, padding=p, output_padding=op)"
      ],
      "execution_count": 0,
      "outputs": []
    },
    {
      "metadata": {
        "id": "nlOVPoUqwydU",
        "colab_type": "code",
        "colab": {}
      },
      "cell_type": "code",
      "source": [
        "class Flatten(nn.Module):\n",
        "    def __init__(self):\n",
        "        super().__init__()\n",
        "    def forward(self, x):\n",
        "        x = x.view(x.size()[0], -1)\n",
        "        return x"
      ],
      "execution_count": 0,
      "outputs": []
    },
    {
      "metadata": {
        "id": "2I2vn6_9w0Lg",
        "colab_type": "code",
        "colab": {}
      },
      "cell_type": "code",
      "source": [
        "class ResnetBlock(nn.Module):\n",
        "    def __init__(self, nf):\n",
        "        super().__init__()\n",
        "        self.conv1 = conv2d(nf, nf, s=1)\n",
        "        self.batchnorm = nn.BatchNorm2d(nf)\n",
        "        self.relu = nn.ReLU(True)\n",
        "        self.conv2 = conv2d(nf, nf, s=1)\n",
        "        \n",
        "    def forward(self, x):\n",
        "        out = self.conv1(x)\n",
        "        out = self.batchnorm(out)\n",
        "        out = self.relu(out)\n",
        "        out = self.conv2(out)\n",
        "        return x + out"
      ],
      "execution_count": 0,
      "outputs": []
    },
    {
      "metadata": {
        "id": "L_X89ntew1hj",
        "colab_type": "code",
        "colab": {}
      },
      "cell_type": "code",
      "source": [
        "def conv_res(ni, nf): return nn.Sequential(conv2d(ni, nf), ResnetBlock(nf))"
      ],
      "execution_count": 0,
      "outputs": []
    },
    {
      "metadata": {
        "id": "B0qKNwCGBnnN",
        "colab_type": "code",
        "colab": {}
      },
      "cell_type": "code",
      "source": [
        "def up_res(ni, nf): return nn.Sequential(upsample(ni, nf, op=1), ResnetBlock(nf))"
      ],
      "execution_count": 0,
      "outputs": []
    },
    {
      "metadata": {
        "id": "ZFbjcX6rxMYT",
        "colab_type": "code",
        "colab": {}
      },
      "cell_type": "code",
      "source": [
        "def create_encoder(image_size=64, latent_dim=4):\n",
        "    channels = [1, 4, 8, 16, 32]\n",
        "    layers = []\n",
        "    layers.append(conv_res(channels[0], channels[1]))  # (bs, 32, 32)\n",
        "    layers.append(conv_res(channels[1], channels[2]))  # (bs, 16, 16)\n",
        "    layers.append(conv_res(channels[2], channels[3]))  # (bs, 8, 8)\n",
        "    layers.append(conv_res(channels[3], channels[4]))  # (bs, 4, 4)\n",
        "    return nn.Sequential(*layers)"
      ],
      "execution_count": 0,
      "outputs": []
    },
    {
      "metadata": {
        "id": "sz_QOWg9BNRT",
        "colab_type": "code",
        "colab": {}
      },
      "cell_type": "code",
      "source": [
        "def create_decoder(image_size=64, latent_dim=4):\n",
        "    channels = [32, 16, 8, 4, 1]\n",
        "    layers = []\n",
        "    # use upsampling\n",
        "    layers.append(up_res(channels[0], channels[1])) # (bs, 16, 16)\n",
        "    layers.append(up_res(channels[1], channels[2])) # (bs, 8, 8)\n",
        "    layers.append(up_res(channels[2], channels[3])) # (bs, 4, 4)\n",
        "    layers.append(up_res(channels[3], channels[4])) # (bs, 1, 1)\n",
        "    return nn.Sequential(*layers)"
      ],
      "execution_count": 0,
      "outputs": []
    },
    {
      "metadata": {
        "id": "d5YXhEyWw6Us",
        "colab_type": "text"
      },
      "cell_type": "markdown",
      "source": [
        "## Playground"
      ]
    },
    {
      "metadata": {
        "id": "tYSjEVQq1qlX",
        "colab_type": "text"
      },
      "cell_type": "markdown",
      "source": [
        "#### Conv1D"
      ]
    },
    {
      "metadata": {
        "id": "bFzwhWyRw3D5",
        "colab_type": "code",
        "outputId": "5ac9291c-3d21-40d5-803c-0471e7d1c532",
        "colab": {
          "base_uri": "https://localhost:8080/",
          "height": 34
        }
      },
      "cell_type": "code",
      "source": [
        "# conv 1\n",
        "input = torch.randn(1, 32, 32)\n",
        "output = conv1d(32, 16, k=1, s=2, p=0)(input)\n",
        "print(output.shape)"
      ],
      "execution_count": 0,
      "outputs": [
        {
          "output_type": "stream",
          "text": [
            "torch.Size([1, 16, 16])\n"
          ],
          "name": "stdout"
        }
      ]
    },
    {
      "metadata": {
        "id": "KeLR0ECe1syI",
        "colab_type": "text"
      },
      "cell_type": "markdown",
      "source": [
        "#### Conv2D"
      ]
    },
    {
      "metadata": {
        "id": "En1-9m22w-5P",
        "colab_type": "code",
        "outputId": "cdfaf9ae-b24b-4f87-a6c0-810716d82e0e",
        "colab": {
          "base_uri": "https://localhost:8080/",
          "height": 85
        }
      },
      "cell_type": "code",
      "source": [
        "# conv\n",
        "input = torch.randn(bs, 1, 64, 64)\n",
        "output = conv2d(1, 1, k=3, s=2)(input)\n",
        "print(output.shape)\n",
        "# conv\n",
        "input = torch.randn(bs, 1, 64, 64)\n",
        "output = conv2d(1, 1, k=3, s=1)(input)\n",
        "print(output.shape)\n",
        "# conv\n",
        "input = torch.randn(bs, 1, 32, 32)\n",
        "output = conv2d(1, 8, k=3, s=2)(input)\n",
        "print(output.shape)\n",
        "# conv\n",
        "input = torch.randn(bs, 8, 16, 16)\n",
        "output = conv2d(8, 16, k=3, s=2)(input)\n",
        "print(output.shape)"
      ],
      "execution_count": 0,
      "outputs": [
        {
          "output_type": "stream",
          "text": [
            "torch.Size([16, 1, 32, 32])\n",
            "torch.Size([16, 1, 64, 64])\n",
            "torch.Size([16, 8, 16, 16])\n",
            "torch.Size([16, 16, 8, 8])\n"
          ],
          "name": "stdout"
        }
      ]
    },
    {
      "metadata": {
        "id": "qjdvmQ641nyN",
        "colab_type": "text"
      },
      "cell_type": "markdown",
      "source": [
        "#### ResNet"
      ]
    },
    {
      "metadata": {
        "id": "lkE0Yrn5xAki",
        "colab_type": "code",
        "outputId": "d5bd4e16-f8f7-4218-8284-e13107c61811",
        "colab": {
          "base_uri": "https://localhost:8080/",
          "height": 34
        }
      },
      "cell_type": "code",
      "source": [
        "input = torch.randn(bs, 1, 64, 64)\n",
        "output = ResnetBlock(1)(input)\n",
        "print(output.shape)"
      ],
      "execution_count": 0,
      "outputs": [
        {
          "output_type": "stream",
          "text": [
            "torch.Size([16, 1, 64, 64])\n"
          ],
          "name": "stdout"
        }
      ]
    },
    {
      "metadata": {
        "id": "a2q2B2U51vd_",
        "colab_type": "text"
      },
      "cell_type": "markdown",
      "source": [
        "#### Encoder"
      ]
    },
    {
      "metadata": {
        "id": "nDXbUa9TxG8L",
        "colab_type": "code",
        "outputId": "d398f5bc-5ac9-45ed-d085-925819ecef9a",
        "colab": {
          "base_uri": "https://localhost:8080/",
          "height": 34
        }
      },
      "cell_type": "code",
      "source": [
        "input = torch.randn(bs, 1, 64, 64)\n",
        "output = create_encoder()(input)\n",
        "print(output.shape)"
      ],
      "execution_count": 0,
      "outputs": [
        {
          "output_type": "stream",
          "text": [
            "torch.Size([16, 512])\n"
          ],
          "name": "stdout"
        }
      ]
    },
    {
      "metadata": {
        "id": "Rq7MrBit1w1M",
        "colab_type": "text"
      },
      "cell_type": "markdown",
      "source": [
        "#### Flatten"
      ]
    },
    {
      "metadata": {
        "id": "uFYkCBgFxIcP",
        "colab_type": "code",
        "outputId": "120f02e9-59ef-475f-ada9-61f1499e1c96",
        "colab": {
          "base_uri": "https://localhost:8080/",
          "height": 34
        }
      },
      "cell_type": "code",
      "source": [
        "# conv 1\n",
        "input = torch.randn(bs, 1, 32, 32)\n",
        "output = Flatten()(input)\n",
        "print(output.shape)"
      ],
      "execution_count": 0,
      "outputs": [
        {
          "output_type": "stream",
          "text": [
            "torch.Size([16, 1024])\n"
          ],
          "name": "stdout"
        }
      ]
    },
    {
      "metadata": {
        "id": "org107K09zTE",
        "colab_type": "text"
      },
      "cell_type": "markdown",
      "source": [
        "#### Upsample"
      ]
    },
    {
      "metadata": {
        "id": "CnqnYrTZ14hC",
        "colab_type": "code",
        "outputId": "940563e5-aaa9-45d2-be48-e528a6c24e81",
        "colab": {
          "base_uri": "https://localhost:8080/",
          "height": 34
        }
      },
      "cell_type": "code",
      "source": [
        "input = torch.randn(bs, 64, 32, 32)\n",
        "output = upsample(64, 32)(input, output_size=(64, 64))\n",
        "print(output.shape)"
      ],
      "execution_count": 0,
      "outputs": [
        {
          "output_type": "stream",
          "text": [
            "torch.Size([16, 32, 64, 64])\n"
          ],
          "name": "stdout"
        }
      ]
    },
    {
      "metadata": {
        "id": "TlRH8NDzcH_j",
        "colab_type": "code",
        "outputId": "9f9ac94f-d5d1-44f9-9739-10d2b1eb0956",
        "colab": {
          "base_uri": "https://localhost:8080/",
          "height": 34
        }
      },
      "cell_type": "code",
      "source": [
        "input = torch.randn(bs, 64, 32, 32)\n",
        "output = upsample(64, 32, op=1)(input)\n",
        "print(output.shape)"
      ],
      "execution_count": 0,
      "outputs": [
        {
          "output_type": "stream",
          "text": [
            "torch.Size([16, 32, 64, 64])\n"
          ],
          "name": "stdout"
        }
      ]
    },
    {
      "metadata": {
        "id": "cR671nstcJ0k",
        "colab_type": "text"
      },
      "cell_type": "markdown",
      "source": [
        "#### Reshape"
      ]
    },
    {
      "metadata": {
        "id": "VnmbRgfG-CLc",
        "colab_type": "code",
        "outputId": "4811c621-e589-4408-97b2-239ea48abe3f",
        "colab": {
          "base_uri": "https://localhost:8080/",
          "height": 34
        }
      },
      "cell_type": "code",
      "source": [
        "torch.randn(bs, 16).reshape((bs, 4, 4)).shape"
      ],
      "execution_count": 0,
      "outputs": [
        {
          "output_type": "execute_result",
          "data": {
            "text/plain": [
              "torch.Size([16, 4, 4])"
            ]
          },
          "metadata": {
            "tags": []
          },
          "execution_count": 39
        }
      ]
    },
    {
      "metadata": {
        "id": "jNDSPb_iClGg",
        "colab_type": "code",
        "outputId": "9a622094-0c90-408f-8e99-bb9cb5bcc6bd",
        "colab": {
          "base_uri": "https://localhost:8080/",
          "height": 34
        }
      },
      "cell_type": "code",
      "source": [
        "input = torch.randn(bs, 16)\n",
        "input.view(bs, 4, 4).shape"
      ],
      "execution_count": 0,
      "outputs": [
        {
          "output_type": "execute_result",
          "data": {
            "text/plain": [
              "torch.Size([16, 4, 4])"
            ]
          },
          "metadata": {
            "tags": []
          },
          "execution_count": 50
        }
      ]
    },
    {
      "metadata": {
        "id": "68ONycFiZ6Dt",
        "colab_type": "text"
      },
      "cell_type": "markdown",
      "source": [
        "#### Decoder"
      ]
    },
    {
      "metadata": {
        "id": "lQRpua5iC7IA",
        "colab_type": "code",
        "outputId": "2ca8c7b4-47e1-44e6-d9a4-b3dc6b4b4e72",
        "colab": {
          "base_uri": "https://localhost:8080/",
          "height": 34
        }
      },
      "cell_type": "code",
      "source": [
        "input = torch.randn(bs, 32, 4, 4)\n",
        "output = create_decoder()(input)\n",
        "print(output.shape)"
      ],
      "execution_count": 0,
      "outputs": [
        {
          "output_type": "stream",
          "text": [
            "torch.Size([16, 1, 64, 64])\n"
          ],
          "name": "stdout"
        }
      ]
    },
    {
      "metadata": {
        "id": "ed-HyWiSbYTa",
        "colab_type": "code",
        "colab": {}
      },
      "cell_type": "code",
      "source": [
        ""
      ],
      "execution_count": 0,
      "outputs": []
    }
  ]
}