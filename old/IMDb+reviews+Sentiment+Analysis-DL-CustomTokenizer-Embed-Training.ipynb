{
 "cells": [
  {
   "cell_type": "code",
   "execution_count": 9,
   "metadata": {},
   "outputs": [
    {
     "name": "stdout",
     "output_type": "stream",
     "text": [
      "Keras version: 2.1.5\n"
     ]
    }
   ],
   "source": [
    "import numpy as np\n",
    "import pandas as pd\n",
    "import scipy as sp\n",
    "\n",
    "from scipy import sparse\n",
    "\n",
    "import nltk\n",
    "from nltk.corpus import stopwords\n",
    "from nltk.stem.porter import PorterStemmer\n",
    "\n",
    "import string\n",
    "import re\n",
    "import glob\n",
    "\n",
    "from sklearn.linear_model import LogisticRegression\n",
    "from sklearn.feature_extraction.text import CountVectorizer, FeatureHasher\n",
    "\n",
    "import keras\n",
    "from keras.optimizers import Adam\n",
    "from keras.callbacks import ModelCheckpoint\n",
    "from keras.layers import Dense, Embedding, LSTM, Dropout\n",
    "from keras.models import Sequential\n",
    "\n",
    "# keras architecture visualization\n",
    "from keras.utils import plot_model\n",
    "from keras.utils.vis_utils import model_to_dot\n",
    "\n",
    "from IPython.display import SVG\n",
    "\n",
    "import matplotlib.pyplot as plt\n",
    "\n",
    "print('Keras version: %s' % keras.__version__)\n",
    "\n",
    "PATH = \"data/aclImdb\""
   ]
  },
  {
   "cell_type": "code",
   "execution_count": 2,
   "metadata": {
    "collapsed": true
   },
   "outputs": [],
   "source": [
    "# or use nltk or spacy\n",
    "htmltag = re.compile(r'<.*?>')\n",
    "numbers = re.compile(r'[0-9]')\n",
    "quotes = re.compile(r'\\\"|`')\n",
    "punctuation = re.compile(r'([%s])'% string.punctuation)\n",
    "english_stopwords =set(stopwords.words('english'))\n",
    "stemmer = PorterStemmer()"
   ]
  },
  {
   "cell_type": "code",
   "execution_count": 3,
   "metadata": {
    "collapsed": true
   },
   "outputs": [],
   "source": [
    "# read files in the given tree, using subfolders as the target classes\n",
    "def read_files(folder, subfolders):\n",
    "    corpus, labels = [], []\n",
    "    for index, label in enumerate(subfolders):\n",
    "        path = '/'.join([folder, label, '*.txt'])\n",
    "        for filename in glob.glob(path):\n",
    "            corpus.append(open(filename, 'r').read())\n",
    "            labels.append(index)\n",
    "    return corpus, np.array(labels).astype(np.int)\n",
    "\n",
    "# pre-processor\n",
    "def preprocess(s):\n",
    "    # lowercase\n",
    "    s = s.lower()\n",
    "    # remove html tags\n",
    "    s = htmltag.sub(' ', s)\n",
    "    # remove numbers\n",
    "    s = numbers.sub(' ', s)\n",
    "    # remove quotes\n",
    "    s = quotes.sub(' ', s)\n",
    "    # replace puctuation\n",
    "    s = punctuation.sub(' ', s)\n",
    "    return s\n",
    "    \n",
    "# tokenization\n",
    "def tokenize(s):\n",
    "    # use a serious tokenizer\n",
    "    tokens = nltk.word_tokenize(s)\n",
    "    # remove stopwords\n",
    "    tokens = filter(lambda w: not w in english_stopwords, tokens)\n",
    "    # stem words\n",
    "    tokens = [stemmer.stem(token) for token in tokens]\n",
    "    return tokens"
   ]
  },
  {
   "cell_type": "code",
   "execution_count": 4,
   "metadata": {
    "collapsed": true
   },
   "outputs": [],
   "source": [
    "#coprus_train_pos = [open(filename, 'r').read() for filename in glob.glob(PATH + '/train/pos/*.txt')]\n",
    "#coprus_train_neg = [open(filename, 'r').read() for filename in glob.glob(PATH + '/train/neg/*.txt')]\n",
    "corpus_train, y_train = read_files(PATH + '/train', ['neg', 'pos'])\n",
    "corpus_test, y_test = read_files(PATH + '/test', ['neg', 'pos'])"
   ]
  },
  {
   "cell_type": "code",
   "execution_count": 5,
   "metadata": {},
   "outputs": [
    {
     "data": {
      "text/plain": [
       "(25000,\n",
       " 25000,\n",
       " 'Hi, Everyone, If you saw \"Singing in the Rain,\" you remember the scene of Gene Kelly dancing in the rain. You also remember the dance number of Donald O\\'Connor, \"Make \\'em Laugh.\" If you saw \"Royal Wedding,\" you will remember Fred Astaire dancing on the ceiling. If you saw \"Jailhouse Rock,\" you will even remember the title dance number choreographed by The King himself.<br /><br />That is what is missing here. There could have been some blockbuster dance numbers in this presentation. The closest was Chuck McGowan\\'s \"I Can Do That.\" the mere fact that you have some talented people on stage moving together does not make a great dance film. Richard Attenborough was to blame for this failure. He pointed the camera at the stage and thought that would be a good thing.<br /><br />Yelling at people auditioning for a part in a Broadway production is not entertainment. Michael Douglas would be just as badly cast if he were in a Western or a comedy. He is OK when he is in a Michael Douglas movie where we see him yelling at someone we would like to yell at. It does not work here.<br /><br />The cast was good except for Michael, of course. A good movie could have been made even using the songs that were in the stage production, but someone should have thought about how to film it.<br /><br />Next time they do one of these I hope they call me first.<br /><br />Tom Willett',\n",
       " 0,\n",
       " 'One of the very best Three Stooges shorts ever. A spooky house full of evil guys and \"The Goon\" challenge the Alert Detective Agency\\'s best men. Shemp is in top form in the famous in-the-dark scene. Emil Sitka provides excellent support in his Mr. Goodrich role, as the target of a murder plot. Before it\\'s over, Shemp\\'s \"trusty little shovel\" is employed to great effect. This 16 minute gem moves about as fast as any Stooge\\'s short and packs twice the wallop. Highly recommended.',\n",
       " 1)"
      ]
     },
     "execution_count": 5,
     "metadata": {},
     "output_type": "execute_result"
    }
   ],
   "source": [
    "len(corpus_train), len(y_train), corpus_train[0], y_train[0], corpus_train[24999], y_train[24999]"
   ]
  },
  {
   "cell_type": "code",
   "execution_count": 6,
   "metadata": {},
   "outputs": [
    {
     "data": {
      "text/plain": [
       "(25000,\n",
       " 25000,\n",
       " 'Yes, in this movie you are treated to multiple little snowmen on the attack in apparently a very warm climate so yes this movie is definitely not to be taken seriously. It is in fact a much worse movie than the original as at least with that one the whole production looked like it cost more than a couple of bucks and a video camera to make. It has its funny moments, but really playing off the cheapness of your movie and making that be your intended laughs is kind of weak film making if you ask me. You can not come up with a good story, your effects are going to really be bad, hey let us just make the movie look as bad as possible with horrible one liners and we have our movie. The first one at least had a somewhat credible story as the snowman in that one attacked during the winter and not what amounts to a resort. It also had better effects too, this one is just a step or two ahead of \"Hobgoblins\" as far as the monsters are concerned and you really want to be more than a step a two above a bunch of hand puppets. Still, it makes up for all of this with a super ending that depicts a great sea vessel being taken out by the mighty frost. Actually, I am just kidding, but really it was the funniest part of the movie.',\n",
       " 0)"
      ]
     },
     "execution_count": 6,
     "metadata": {},
     "output_type": "execute_result"
    }
   ],
   "source": [
    "len(corpus_test), len(y_test), corpus_test[0], y_test[0]"
   ]
  },
  {
   "cell_type": "code",
   "execution_count": 7,
   "metadata": {
    "collapsed": true
   },
   "outputs": [],
   "source": [
    "# create word index matrix\n",
    "class WordIndexVectorizer():\n",
    "    def __init__(self, preprocessor, tokenizer, max_length=None):\n",
    "        self.vocab, self.distrib = {}, {}\n",
    "        self.vocab_size, self.sentence_max_len, self.stopword_index = 1, 0, 0\n",
    "        self.preprocessor, self.tokenizer = preprocessor, tokenizer\n",
    "        self.max_length = max_length\n",
    "        \n",
    "    def fit_transform(self, sentences, learn_tokens=True):\n",
    "        \"\"\"Transform sentences into a term index matrix and learning token indexes. To be called on training set.\n",
    "        Arguments:\n",
    "            sentences: a collection of sentences\n",
    "        \"\"\"\n",
    "        term_idx_matrix, lengths = [], []\n",
    "        # map each sentence in the input into a list of indices\n",
    "        for sentence in sentences:\n",
    "            sentence = sentence.decode('utf-8')\n",
    "            indices = []\n",
    "            # clean the sentence into tokens\n",
    "            processed = self.preprocessor(sentence)\n",
    "            tokens = self.tokenizer(processed)\n",
    "            for token in tokens:\n",
    "                if learn_tokens and not token in self.vocab:\n",
    "                    self.vocab[token] = self.vocab_size\n",
    "                    self.vocab_size += 1\n",
    "                indices = self.__addToken(indices, token)\n",
    "                # check if max sentence lenght is reached, otherwise ignore everything else\n",
    "                if self.isMaxAuthorizedLengthReached(indices):\n",
    "                    break\n",
    "            # update the max sentence length\n",
    "            if len(indices) > self.sentence_max_len:\n",
    "                self.sentence_max_len = len(indices)\n",
    "            lengths.append(len(indices))\n",
    "            indices = self.__padWithStopWords(indices)\n",
    "            term_idx_matrix.append(indices)\n",
    "        # pad stop words to the end of each sentence\n",
    "        #for indices in term_idx_matrix:\n",
    "        #    \n",
    "        #    if len(indices) == self.sentence_max_len:\n",
    "        #        continue\n",
    "        #    for i in range(self.sentence_max_len - len(indices)):\n",
    "        #        indices.append(self.stopword_index)\n",
    "        \n",
    "        # return result\n",
    "        term_idx_matrix = np.array(term_idx_matrix)\n",
    "        return term_idx_matrix, lengths\n",
    "\n",
    "    def transform(self, sentences):\n",
    "        \"\"\"Transform sentences into a term index matrix without learning token indexes. To be called on test set.\n",
    "        Arguments:\n",
    "            sentences: a collection of sentences\n",
    "        \"\"\"\n",
    "        term_idx_matrix, lengths = [], []\n",
    "        # map each sentence in the input into a list of indices\n",
    "        for sentence in sentences:\n",
    "            sentence = sentence.decode('utf-8')\n",
    "            indices = []\n",
    "            # clean the sentence into tokens\n",
    "            processed = self.preprocessor(sentence)\n",
    "            tokens = self.tokenizer(processed)\n",
    "            for token in tokens:\n",
    "                # ignore non known tokens\n",
    "                if token in self.vocab:\n",
    "                    indices = self.__addToken(indices, token)\n",
    "                # check if max sentence lenght is reached, otherwise ignore everything else\n",
    "                if self.isMaxAuthorizedLengthReached(indices):\n",
    "                    break\n",
    "            lengths.append(len(indices))\n",
    "            # pad stop words to the end of each sentence\n",
    "            indices = self.__padWithStopWords(indices)\n",
    "            term_idx_matrix.append(indices)\n",
    "        # return result\n",
    "        term_idx_matrix = np.array(term_idx_matrix)\n",
    "        return term_idx_matrix, lengths\n",
    "\n",
    "    def __addToken(self, indices, token):\n",
    "        index = self.vocab[token]\n",
    "        indices.append(index)\n",
    "        if index not in self.distrib:\n",
    "            self.distrib[index] = 0\n",
    "        self.distrib[index] = self.distrib[index] + 1\n",
    "        return indices\n",
    "        \n",
    "    def __padWithStopWords(self, indices):\n",
    "        index = self.stopword_index\n",
    "        if index not in self.distrib:\n",
    "            self.distrib[index] = 0\n",
    "        if len(indices) < self.max_length:\n",
    "            for i in range(self.max_length - len(indices)):\n",
    "                indices.append(self.stopword_index)\n",
    "                self.distrib[index] = self.distrib[index] + 1\n",
    "        return indices\n",
    "    \n",
    "    def isMaxAuthorizedLengthReached(self, tokens_list):\n",
    "        return self.max_length is not None and len(tokens_list)>=self.max_length\n",
    "    \n",
    "    @property\n",
    "    def get_sentence_max_len(self):\n",
    "        return self.sentence_max_len\n",
    "\n",
    "    @property\n",
    "    def get_vocab_size(self):\n",
    "        return self.vocab_size\n"
   ]
  },
  {
   "cell_type": "code",
   "execution_count": 8,
   "metadata": {
    "collapsed": true
   },
   "outputs": [],
   "source": [
    "indexer = WordIndexVectorizer(preprocessor=preprocess, tokenizer=tokenize, max_length=500)\n",
    "term_idx_train, lengths_train = indexer.fit_transform(corpus_train)\n",
    "term_idx_test, lengths_test = indexer.transform(corpus_test)"
   ]
  },
  {
   "cell_type": "code",
   "execution_count": 10,
   "metadata": {},
   "outputs": [
    {
     "name": "stdout",
     "output_type": "stream",
     "text": [
      "(25000, 500)\n",
      "(25000, 500)\n"
     ]
    }
   ],
   "source": [
    "print(term_idx_train.shape)\n",
    "print(term_idx_test.shape)"
   ]
  },
  {
   "cell_type": "code",
   "execution_count": 11,
   "metadata": {},
   "outputs": [
    {
     "data": {
      "image/png": "[encoded data removed]",
      "text/plain": [
       "<matplotlib.figure.Figure at 0x7f8d4b3e4c90>"
      ]
     },
     "metadata": {},
     "output_type": "display_data"
    }
   ],
   "source": [
    "distribution = {\"train\": {}, \"test\": {}}\n",
    "\n",
    "for length in lengths_train:\n",
    "    if length not in distribution[\"train\"]:\n",
    "        distribution[\"train\"][length] = 0\n",
    "    distribution[\"train\"][length] = distribution[\"train\"][length] + 1\n",
    "\n",
    "for length in lengths_test:\n",
    "    if length not in distribution[\"test\"]:\n",
    "        distribution[\"test\"][length] = 0\n",
    "    distribution[\"test\"][length] = distribution[\"test\"][length] + 1\n",
    "\n",
    "#plt.subplot(1, 2, 1)\n",
    "x1 = range(len(distribution[\"train\"]))\n",
    "x2 = range(len(distribution[\"test\"]))\n",
    "# red dashes, blue squares and green triangles\n",
    "plt.figure(figsize=(14, 8))\n",
    "plt.plot(x1, distribution[\"train\"].values(), 'r--', x2, distribution[\"test\"].values(), 'b--')\n",
    "#plt.subplot(1, 2, 2)\n",
    "plt.legend(['train', 'test'])\n",
    "plt.show()\n",
    "# the spike at the end of the tail is due to the fact that we truncated long sentences to max_length=500"
   ]
  },
  {
   "cell_type": "code",
   "execution_count": 12,
   "metadata": {},
   "outputs": [
    {
     "data": {
      "image/png": "[encoded data removed]",
      "text/plain": [
       "<matplotlib.figure.Figure at 0x7f8d4b3fcc10>"
      ]
     },
     "metadata": {},
     "output_type": "display_data"
    },
    {
     "data": {
      "text/plain": [
       "19147029"
      ]
     },
     "execution_count": 12,
     "metadata": {},
     "output_type": "execute_result"
    }
   ],
   "source": [
    "plt.figure(figsize=(14, 6))\n",
    "plt.plot(np.log(indexer.distrib.values()))\n",
    "plt.title('Log of the tokens distribution')\n",
    "plt.legend(['log(count)'])\n",
    "plt.show()\n",
    "indexer.distrib[0]"
   ]
  },
  {
   "cell_type": "code",
   "execution_count": 25,
   "metadata": {
    "collapsed": true
   },
   "outputs": [],
   "source": [
    "# input params\n",
    "vocab_size             = indexer.get_vocab_size\n",
    "word_embed_vector_size = 4\n",
    "sentence_len_max       = indexer.get_sentence_max_len\n",
    "epochs                 = 10\n",
    "batch_size             = 512\n",
    "\n",
    "# load pre-trained embedding GloVe https://nlp.stanford.edu/projects/glove/\n",
    "\n",
    "# Keras model\n",
    "model = Sequential()\n",
    "model.add(Embedding(input_dim=vocab_size,output_dim=word_embed_vector_size,input_length=sentence_len_max))\n",
    "model.add(Dropout(0.04))\n",
    "model.add(LSTM(units=64))\n",
    "model.add(Dropout(0.10))\n",
    "model.add(Dense(1, activation='sigmoid'))"
   ]
  },
  {
   "cell_type": "code",
   "execution_count": 26,
   "metadata": {},
   "outputs": [
    {
     "name": "stdout",
     "output_type": "stream",
     "text": [
      "_________________________________________________________________\n",
      "Layer (type)                 Output Shape              Param #   \n",
      "=================================================================\n",
      "embedding_2 (Embedding)      (None, 500, 4)            201484    \n",
      "_________________________________________________________________\n",
      "dropout_3 (Dropout)          (None, 500, 4)            0         \n",
      "_________________________________________________________________\n",
      "lstm_2 (LSTM)                (None, 64)                17664     \n",
      "_________________________________________________________________\n",
      "dropout_4 (Dropout)          (None, 64)                0         \n",
      "_________________________________________________________________\n",
      "dense_2 (Dense)              (None, 1)                 65        \n",
      "=================================================================\n",
      "Total params: 219,213\n",
      "Trainable params: 219,213\n",
      "Non-trainable params: 0\n",
      "_________________________________________________________________\n"
     ]
    }
   ],
   "source": [
    "# compile the model\n",
    "adam = Adam(lr=1e-6)\n",
    "model.compile(loss='binary_crossentropy', optimizer=adam, metrics=['accuracy', 'binary_accuracy'])\n",
    "model.summary()"
   ]
  },
  {
   "cell_type": "code",
   "execution_count": 27,
   "metadata": {
    "collapsed": true
   },
   "outputs": [],
   "source": [
    "# store the network architecture visualization graph to disk \n",
    "#plot_model(model, to_file='model.png', show_shapes=True)\n",
    "\n",
    "# obtain the pydot.Graph object and render it\n",
    "#SVG(model_to_dot(model).create(prog='dot', format='svg'))"
   ]
  },
  {
   "cell_type": "code",
   "execution_count": 28,
   "metadata": {},
   "outputs": [
    {
     "name": "stdout",
     "output_type": "stream",
     "text": [
      "vocab_size=50371 sentence_len_max=500 training=(50000, 500) label=50000\n"
     ]
    }
   ],
   "source": [
    "# combine all data\n",
    "X = np.concatenate((term_idx_train, term_idx_test), axis=0)\n",
    "y = np.append([], [y_train, y_test])\n",
    "\n",
    "print('vocab_size=%s sentence_len_max=%s training=%s label=%s' % (vocab_size, sentence_len_max, X.shape, len(y)))"
   ]
  },
  {
   "cell_type": "code",
   "execution_count": 29,
   "metadata": {},
   "outputs": [
    {
     "name": "stdout",
     "output_type": "stream",
     "text": [
      "Train on 49500 samples, validate on 500 samples\n",
      "Epoch 1/10\n",
      "49500/49500 [==============================] - 53s 1ms/step - loss: 0.6931 - acc: 0.5058 - binary_accuracy: 0.5058 - val_loss: 0.6974 - val_acc: 0.0020 - val_binary_accuracy: 0.0020\n",
      "\n",
      "Epoch 00001: val_loss improved from inf to 0.69744, saving model to sentiment_weights.01-0.70.hdf5\n",
      "Epoch 2/10\n",
      "49500/49500 [==============================] - 53s 1ms/step - loss: 0.6931 - acc: 0.5054 - binary_accuracy: 0.5054 - val_loss: 0.6975 - val_acc: 0.0020 - val_binary_accuracy: 0.0020\n",
      "\n",
      "Epoch 00002: val_loss did not improve\n",
      "Epoch 3/10\n",
      "49500/49500 [==============================] - 54s 1ms/step - loss: 0.6931 - acc: 0.5057 - binary_accuracy: 0.5057 - val_loss: 0.6976 - val_acc: 0.0020 - val_binary_accuracy: 0.0020\n",
      "\n",
      "Epoch 00003: val_loss did not improve\n",
      "Epoch 4/10\n",
      "49500/49500 [==============================] - 54s 1ms/step - loss: 0.6931 - acc: 0.5059 - binary_accuracy: 0.5059 - val_loss: 0.6977 - val_acc: 0.0020 - val_binary_accuracy: 0.0020\n",
      "\n",
      "Epoch 00004: val_loss did not improve\n",
      "Epoch 5/10\n",
      "49500/49500 [==============================] - 53s 1ms/step - loss: 0.6931 - acc: 0.5059 - binary_accuracy: 0.5059 - val_loss: 0.6978 - val_acc: 0.0020 - val_binary_accuracy: 0.0020\n",
      "\n",
      "Epoch 00005: val_loss did not improve\n",
      "Epoch 6/10\n",
      "49500/49500 [==============================] - 54s 1ms/step - loss: 0.6931 - acc: 0.5056 - binary_accuracy: 0.5056 - val_loss: 0.6978 - val_acc: 0.0020 - val_binary_accuracy: 0.0020\n",
      "\n",
      "Epoch 00006: val_loss did not improve\n",
      "Epoch 7/10\n",
      "49500/49500 [==============================] - 54s 1ms/step - loss: 0.6931 - acc: 0.5056 - binary_accuracy: 0.5056 - val_loss: 0.6979 - val_acc: 0.0020 - val_binary_accuracy: 0.0020\n",
      "\n",
      "Epoch 00007: val_loss did not improve\n",
      "Epoch 8/10\n",
      "49500/49500 [==============================] - 54s 1ms/step - loss: 0.6931 - acc: 0.5058 - binary_accuracy: 0.5058 - val_loss: 0.6980 - val_acc: 0.0020 - val_binary_accuracy: 0.0020\n",
      "\n",
      "Epoch 00008: val_loss did not improve\n",
      "Epoch 9/10\n",
      "49500/49500 [==============================] - 54s 1ms/step - loss: 0.6931 - acc: 0.5056 - binary_accuracy: 0.5056 - val_loss: 0.6980 - val_acc: 0.0020 - val_binary_accuracy: 0.0020\n",
      "\n",
      "Epoch 00009: val_loss did not improve\n",
      "Epoch 10/10\n",
      "49500/49500 [==============================] - 53s 1ms/step - loss: 0.6931 - acc: 0.5054 - binary_accuracy: 0.5054 - val_loss: 0.6981 - val_acc: 0.0020 - val_binary_accuracy: 0.0020\n",
      "\n",
      "Epoch 00010: val_loss did not improve\n"
     ]
    }
   ],
   "source": [
    "# save callback\n",
    "ckpt_callback = ModelCheckpoint('sentiment_weights.{epoch:02d}-{val_loss:.2f}.hdf5', \n",
    "                                 monitor='val_loss', \n",
    "                                 verbose=1, \n",
    "                                 save_best_only=True, \n",
    "                                 mode='auto')\n",
    "\n",
    "# train model\n",
    "history = model.fit(\n",
    "    x                = X,\n",
    "    y                = y,\n",
    "    epochs           = epochs,\n",
    "    batch_size       = batch_size,\n",
    "    validation_split = 0.01,\n",
    "    callbacks        = [ckpt_callback],\n",
    "    verbose          = 1\n",
    ")"
   ]
  },
  {
   "cell_type": "code",
   "execution_count": 31,
   "metadata": {},
   "outputs": [
    {
     "data": {
      "image/png": "[encoded data removed]",
      "text/plain": [
       "<matplotlib.figure.Figure at 0x7f8cc44a0590>"
      ]
     },
     "metadata": {},
     "output_type": "display_data"
    },
    {
     "data": {
      "image/png": "[encoded data removed]",
      "text/plain": [
       "<matplotlib.figure.Figure at 0x7f8cc43cbed0>"
      ]
     },
     "metadata": {},
     "output_type": "display_data"
    },
    {
     "data": {
      "image/png": "[encoded data removed]",
      "text/plain": [
       "<matplotlib.figure.Figure at 0x7f8cc4372ed0>"
      ]
     },
     "metadata": {},
     "output_type": "display_data"
    }
   ],
   "source": [
    "# Plot training & validation accuracy values\n",
    "plt.plot(history.history['acc'])\n",
    "plt.plot(history.history['val_acc'])\n",
    "plt.title('Model accuracy')\n",
    "plt.ylabel('Accuracy')\n",
    "plt.xlabel('Epoch')\n",
    "plt.legend(['Train', 'Test'], loc='upper left')\n",
    "plt.show()\n",
    "\n",
    "# Plot training & validation binary accuracy values\n",
    "plt.plot(history.history['binary_accuracy'])\n",
    "plt.plot(history.history['val_binary_accuracy'])\n",
    "plt.title('Model binary accuracy')\n",
    "plt.ylabel('Binary Accuracy')\n",
    "plt.xlabel('Epoch')\n",
    "plt.legend(['Train', 'Test'], loc='upper left')\n",
    "plt.show()\n",
    "\n",
    "# Plot training & validation loss values\n",
    "plt.plot(history.history['loss'])\n",
    "plt.plot(history.history['val_loss'])\n",
    "plt.title('Model loss')\n",
    "plt.ylabel('Loss')\n",
    "plt.xlabel('Epoch')\n",
    "plt.legend(['Train', 'Test'], loc='upper left')\n",
    "plt.show()"
   ]
  },
  {
   "cell_type": "code",
   "execution_count": 75,
   "metadata": {
    "collapsed": true
   },
   "outputs": [],
   "source": [
    "y_pred_lstm = model.predict(x=term_idx_train, batch_size=batch_size)\n",
    "accuracy_train_lstm = (y_train == y_pred_lstm).mean()"
   ]
  },
  {
   "cell_type": "code",
   "execution_count": 76,
   "metadata": {},
   "outputs": [
    {
     "data": {
      "text/html": [
       "<div>\n",
       "<table border=\"1\" class=\"dataframe\">\n",
       "  <thead>\n",
       "    <tr style=\"text-align: right;\">\n",
       "      <th></th>\n",
       "      <th>0</th>\n",
       "    </tr>\n",
       "  </thead>\n",
       "  <tbody>\n",
       "    <tr>\n",
       "      <th>count</th>\n",
       "      <td>25000.000000</td>\n",
       "    </tr>\n",
       "    <tr>\n",
       "      <th>mean</th>\n",
       "      <td>0.500255</td>\n",
       "    </tr>\n",
       "    <tr>\n",
       "      <th>std</th>\n",
       "      <td>0.000086</td>\n",
       "    </tr>\n",
       "    <tr>\n",
       "      <th>min</th>\n",
       "      <td>0.498360</td>\n",
       "    </tr>\n",
       "    <tr>\n",
       "      <th>25%</th>\n",
       "      <td>0.500322</td>\n",
       "    </tr>\n",
       "    <tr>\n",
       "      <th>50%</th>\n",
       "      <td>0.500322</td>\n",
       "    </tr>\n",
       "    <tr>\n",
       "      <th>75%</th>\n",
       "      <td>0.500322</td>\n",
       "    </tr>\n",
       "    <tr>\n",
       "      <th>max</th>\n",
       "      <td>0.501654</td>\n",
       "    </tr>\n",
       "  </tbody>\n",
       "</table>\n",
       "</div>"
      ],
      "text/plain": [
       "                  0\n",
       "count  25000.000000\n",
       "mean       0.500255\n",
       "std        0.000086\n",
       "min        0.498360\n",
       "25%        0.500322\n",
       "50%        0.500322\n",
       "75%        0.500322\n",
       "max        0.501654"
      ]
     },
     "execution_count": 76,
     "metadata": {},
     "output_type": "execute_result"
    }
   ],
   "source": [
    "pd.DataFrame(y_pred_lstm).describe()"
   ]
  },
  {
   "cell_type": "code",
   "execution_count": 77,
   "metadata": {
    "collapsed": true
   },
   "outputs": [],
   "source": [
    "y_test_pred_lstm = model.predict(x=term_idx_test, batch_size=batch_size)\n",
    "accuracy_test_lstm = (y_test == y_test_pred_lstm).mean()"
   ]
  },
  {
   "cell_type": "code",
   "execution_count": 78,
   "metadata": {},
   "outputs": [
    {
     "data": {
      "text/html": [
       "<div>\n",
       "<table border=\"1\" class=\"dataframe\">\n",
       "  <thead>\n",
       "    <tr style=\"text-align: right;\">\n",
       "      <th></th>\n",
       "      <th>0</th>\n",
       "    </tr>\n",
       "  </thead>\n",
       "  <tbody>\n",
       "    <tr>\n",
       "      <th>count</th>\n",
       "      <td>25000.000000</td>\n",
       "    </tr>\n",
       "    <tr>\n",
       "      <th>mean</th>\n",
       "      <td>0.500255</td>\n",
       "    </tr>\n",
       "    <tr>\n",
       "      <th>std</th>\n",
       "      <td>0.000086</td>\n",
       "    </tr>\n",
       "    <tr>\n",
       "      <th>min</th>\n",
       "      <td>0.498360</td>\n",
       "    </tr>\n",
       "    <tr>\n",
       "      <th>25%</th>\n",
       "      <td>0.500322</td>\n",
       "    </tr>\n",
       "    <tr>\n",
       "      <th>50%</th>\n",
       "      <td>0.500322</td>\n",
       "    </tr>\n",
       "    <tr>\n",
       "      <th>75%</th>\n",
       "      <td>0.500322</td>\n",
       "    </tr>\n",
       "    <tr>\n",
       "      <th>max</th>\n",
       "      <td>0.501654</td>\n",
       "    </tr>\n",
       "  </tbody>\n",
       "</table>\n",
       "</div>"
      ],
      "text/plain": [
       "                  0\n",
       "count  25000.000000\n",
       "mean       0.500255\n",
       "std        0.000086\n",
       "min        0.498360\n",
       "25%        0.500322\n",
       "50%        0.500322\n",
       "75%        0.500322\n",
       "max        0.501654"
      ]
     },
     "execution_count": 78,
     "metadata": {},
     "output_type": "execute_result"
    }
   ],
   "source": [
    "pd.DataFrame(y_pred_lstm).describe()"
   ]
  },
  {
   "cell_type": "code",
   "execution_count": null,
   "metadata": {
    "collapsed": true
   },
   "outputs": [],
   "source": [
    "# conclusion, we're doomed to fail, not able to train the embedding layer\n",
    "# accuracy is stuck at a local minima but why always same? (optimizer is not improving from one epoch to the next)\n",
    "# I will retry by hot encoding 'y', also check this https://jovianlin.io/embeddings-in-keras/ "
   ]
  }
 ],
 "metadata": {
  "kernelspec": {
   "display_name": "Python 2",
   "language": "python",
   "name": "python2"
  },
  "language_info": {
   "codemirror_mode": {
    "name": "ipython",
    "version": 2
   },
   "file_extension": ".py",
   "mimetype": "text/x-python",
   "name": "python",
   "nbconvert_exporter": "python",
   "pygments_lexer": "ipython2",
   "version": "2.7.13"
  }
 },
 "nbformat": 4,
 "nbformat_minor": 2
}
