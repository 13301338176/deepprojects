{
 "cells": [
  {
   "cell_type": "code",
   "execution_count": 4,
   "metadata": {},
   "outputs": [
    {
     "name": "stdout",
     "output_type": "stream",
     "text": [
      "Keras version: 2.1.5\n"
     ]
    }
   ],
   "source": [
    "from imports import *\n",
    "\n",
    "from keras.layers import Input, Dense, Activation, Reshape\n",
    "from keras.layers.recurrent import LSTM\n",
    "from keras.models import Model\n",
    "from keras.optimizers import Adam\n",
    "import re\n",
    "\n",
    "# Input data files are available in the \"../input/\" directory.\n",
    "# For example, running this (by clicking run or pressing Shift+Enter) will list the files in the input directory\n",
    "\n"
   ]
  },
  {
   "cell_type": "code",
   "execution_count": 5,
   "metadata": {
    "collapsed": true
   },
   "outputs": [],
   "source": [
    "PATH= './data'\n",
    "df_raw = pd.read_csv(PATH+'/fra.txt', delimiter='\\t', error_bad_lines=False, header=None, names=['en', 'fr'])"
   ]
  },
  {
   "cell_type": "code",
   "execution_count": 6,
   "metadata": {},
   "outputs": [
    {
     "data": {
      "text/html": [
       "<div>\n",
       "<table border=\"1\" class=\"dataframe\">\n",
       "  <thead>\n",
       "    <tr style=\"text-align: right;\">\n",
       "      <th></th>\n",
       "      <th>en</th>\n",
       "      <th>fr</th>\n",
       "    </tr>\n",
       "  </thead>\n",
       "  <tbody>\n",
       "    <tr>\n",
       "      <th>0</th>\n",
       "      <td>Go.</td>\n",
       "      <td>Va !</td>\n",
       "    </tr>\n",
       "    <tr>\n",
       "      <th>1</th>\n",
       "      <td>Hi.</td>\n",
       "      <td>Salut !</td>\n",
       "    </tr>\n",
       "    <tr>\n",
       "      <th>2</th>\n",
       "      <td>Run!</td>\n",
       "      <td>Cours !</td>\n",
       "    </tr>\n",
       "    <tr>\n",
       "      <th>3</th>\n",
       "      <td>Run!</td>\n",
       "      <td>Courez !</td>\n",
       "    </tr>\n",
       "    <tr>\n",
       "      <th>4</th>\n",
       "      <td>Wow!</td>\n",
       "      <td>Ça alors !</td>\n",
       "    </tr>\n",
       "  </tbody>\n",
       "</table>\n",
       "</div>"
      ],
      "text/plain": [
       "     en          fr\n",
       "0   Go.        Va !\n",
       "1   Hi.     Salut !\n",
       "2  Run!     Cours !\n",
       "3  Run!    Courez !\n",
       "4  Wow!  Ça alors !"
      ]
     },
     "execution_count": 6,
     "metadata": {},
     "output_type": "execute_result"
    }
   ],
   "source": [
    "df_raw.head()"
   ]
  },
  {
   "cell_type": "code",
   "execution_count": 7,
   "metadata": {},
   "outputs": [
    {
     "data": {
      "text/plain": [
       "(160538, 286, 360)"
      ]
     },
     "execution_count": 7,
     "metadata": {},
     "output_type": "execute_result"
    }
   ],
   "source": [
    "lang1 = 'en'\n",
    "lang2 = 'fr' # 'ar'\n",
    "#english_max_sentence_length = 250\n",
    "#arabic_max_sentence_length = 260\n",
    "df_raw.count()[0], df_raw[lang1].str.len().max(), df_raw[lang2].str.len().max()"
   ]
  },
  {
   "cell_type": "code",
   "execution_count": 8,
   "metadata": {
    "collapsed": true
   },
   "outputs": [],
   "source": [
    "#Pre-process text data"
   ]
  },
  {
   "cell_type": "code",
   "execution_count": 9,
   "metadata": {
    "collapsed": true
   },
   "outputs": [],
   "source": [
    "# english characters \n",
    "english_chars = [char for char in 'abcdefghijklmnopqrstuvwxyz1234567890']\n",
    "english_chars_num = len(english_chars)\n",
    "english_char_stop = np.zeros((english_chars_num))\n",
    "english_cleanup_regex = '[?!\\.,/]'\n",
    "\n",
    "# arabic characters \n",
    "arabic_chars = [char for char in '1234567890ابتثجحخدذرزسشصضطظعغفقكلمنهويءآٱأإةؤئى']\n",
    "arabic_chars_num = len(arabic_chars)\n",
    "arabic_char_stop = np.zeros((arabic_chars_num))\n",
    "arabic_cleanup_regex = '[ـ،؛؟٫٬٠]'\n",
    "\n",
    "# french characters \n",
    "french_chars = [char for char in 'abcdefghijklmnopqrstuvwxyz1234567890']\n",
    "french_chars_num = len(english_chars)\n",
    "french_char_stop = np.zeros((english_chars_num))\n",
    "french_cleanup_regex = '[?!\\.,/]'\n",
    "\n",
    "# parameters for the source and destination languages\n",
    "params = {\n",
    "    'en': {\n",
    "        'chars': english_chars,\n",
    "        'chars_num': english_chars_num,\n",
    "        'char_stop': english_char_stop,\n",
    "        'cleanup_regex': english_cleanup_regex, \n",
    "        'max_sentence_length': 70\n",
    "    },\n",
    "    'fr': {\n",
    "        'chars': french_chars,\n",
    "        'chars_num': french_chars_num,\n",
    "        'char_stop': french_char_stop,\n",
    "        'cleanup_regex': french_cleanup_regex, \n",
    "        'max_sentence_length': 70\n",
    "    }\n",
    "}"
   ]
  },
  {
   "cell_type": "code",
   "execution_count": 13,
   "metadata": {
    "collapsed": true
   },
   "outputs": [],
   "source": [
    "# transform a sentence into an matrix of dimension (max_sentence_en, num_english_characters)\n",
    "def one_hot_encoding(encodings, sentence, lang):\n",
    "    \"\"\"one hot encoding using the given characters and encoding length\n",
    "    \"\"\"\n",
    "    if lang not in params.keys():\n",
    "        print('unknown language', lang)\n",
    "        return\n",
    "    p = params[lang]\n",
    "    chars, length, max_len, stop_char = p['chars'], p['chars_num'], p['max_sentence_length'], p['char_stop']\n",
    "    for index in range(len(sentence)):\n",
    "        char = sentence[index]\n",
    "        # consider only characters in dictionnary\n",
    "        if char in chars:\n",
    "            idx = chars.index(char)\n",
    "            onehot = np.zeros((length))\n",
    "            onehot[idx] = 1\n",
    "            encodings[index] = onehot\n",
    "    # append padding to the end of the encoded sentence\n",
    "    padding = max_len - len(sentence)\n",
    "    for i in range(padding):\n",
    "        encodings[len(sentence) + i] = stop_char\n",
    "\n",
    "# shift the given encoding array to the right\n",
    "def shift_right(encodings, lang):\n",
    "    # check if the language is known or not\n",
    "    if lang not in params.keys():\n",
    "        print('unknown language', lang)\n",
    "        return\n",
    "    target, stop = [], []\n",
    "    p = params[lang]\n",
    "    target = np.zeros((num_pairs, p['max_sentence_length'], p['chars_num']))\n",
    "    stop = p['char_stop']    \n",
    "    # shift\n",
    "    rows, sentences, chars = encodings.shape\n",
    "    for r in range(rows):\n",
    "        for s in range(sentences-1):\n",
    "            target[r][s] = encodings[r][s+1]\n",
    "        target[r][sentences-1] = stop\n",
    "    return target"
   ]
  },
  {
   "cell_type": "code",
   "execution_count": 14,
   "metadata": {},
   "outputs": [
    {
     "data": {
      "text/html": [
       "<div>\n",
       "<table border=\"1\" class=\"dataframe\">\n",
       "  <thead>\n",
       "    <tr style=\"text-align: right;\">\n",
       "      <th></th>\n",
       "      <th>en</th>\n",
       "      <th>fr</th>\n",
       "    </tr>\n",
       "  </thead>\n",
       "  <tbody>\n",
       "    <tr>\n",
       "      <th>0</th>\n",
       "      <td>go</td>\n",
       "      <td>va</td>\n",
       "    </tr>\n",
       "    <tr>\n",
       "      <th>1</th>\n",
       "      <td>hi</td>\n",
       "      <td>salut</td>\n",
       "    </tr>\n",
       "    <tr>\n",
       "      <th>2</th>\n",
       "      <td>run</td>\n",
       "      <td>cours</td>\n",
       "    </tr>\n",
       "    <tr>\n",
       "      <th>3</th>\n",
       "      <td>run</td>\n",
       "      <td>courez</td>\n",
       "    </tr>\n",
       "    <tr>\n",
       "      <th>4</th>\n",
       "      <td>wow</td>\n",
       "      <td>Ça alors</td>\n",
       "    </tr>\n",
       "  </tbody>\n",
       "</table>\n",
       "</div>"
      ],
      "text/plain": [
       "    en         fr\n",
       "0   go        va \n",
       "1   hi     salut \n",
       "2  run     cours \n",
       "3  run    courez \n",
       "4  wow  Ça alors "
      ]
     },
     "execution_count": 14,
     "metadata": {},
     "output_type": "execute_result"
    }
   ],
   "source": [
    "# for each language\n",
    "languages = params.keys()\n",
    "for lang in languages:\n",
    "    # lowercase everything\n",
    "    df_raw[lang] = df_raw[lang].str.lower()\n",
    "    # trim sentences\n",
    "    df_raw[lang] = df_raw[lang].str.strip()\n",
    "    # remove stop words\n",
    "    df_raw[lang] = df_raw[lang].map(lambda x: re.sub(params[lang]['cleanup_regex'], '', x))\n",
    "    # filter-out long sentences\n",
    "    df_raw = df_raw[(df_raw[lang].str.len()<=params[lang]['max_sentence_length'])]\n",
    "\n",
    "num_pairs = df_raw.count()[0]\n",
    "df_raw.head()"
   ]
  },
  {
   "cell_type": "code",
   "execution_count": 15,
   "metadata": {},
   "outputs": [
    {
     "data": {
      "text/plain": [
       "(count      69.000000\n",
       " mean     2251.014493\n",
       " std      2256.488888\n",
       " min         2.000000\n",
       " 25%       236.000000\n",
       " 50%      1296.000000\n",
       " 75%      4294.000000\n",
       " max      6721.000000\n",
       " Name: en_count, dtype: float64, count      68.000000\n",
       " mean     2284.117647\n",
       " std      1744.458489\n",
       " min         1.000000\n",
       " 25%       707.250000\n",
       " 50%      1952.000000\n",
       " 75%      3952.500000\n",
       " max      5230.000000\n",
       " Name: fr_count, dtype: float64)"
      ]
     },
     "execution_count": 15,
     "metadata": {},
     "output_type": "execute_result"
    }
   ],
   "source": [
    "# analyze sentences length\n",
    "def plot_sentence_dist(df_raw, lang):\n",
    "    df_agg = pd.DataFrame(df_raw[lang].map(lambda x: len(x)))\n",
    "    df_agg[lang+'_count'] = 1\n",
    "    return df_agg.groupby(lang).agg('count')\n",
    "\n",
    "df_agg1 = plot_sentence_dist(df_raw, lang1)\n",
    "df_agg2 = plot_sentence_dist(df_raw, lang2)\n",
    "\n",
    "df_agg1[lang1+'_count'].describe(), df_agg2[lang2+'_count'].describe()"
   ]
  },
  {
   "cell_type": "code",
   "execution_count": 16,
   "metadata": {},
   "outputs": [
    {
     "data": {
      "image/png": "[encoded data removed]",
      "text/plain": [
       "<matplotlib.figure.Figure at 0x7f66bce12a50>"
      ]
     },
     "metadata": {},
     "output_type": "display_data"
    }
   ],
   "source": [
    "# plot source langauge length distribution\n",
    "plt.subplot(1, 2, 1)\n",
    "plt.plot(df_agg1)\n",
    "plt.title('Sentences length')\n",
    "plt.ylabel('count')\n",
    "plt.xlabel(lang1)\n",
    "\n",
    "# plot destination langauge length distribution\n",
    "plt.subplot(1, 2, 2)\n",
    "plt.plot(df_agg2)\n",
    "plt.title('Sentences length')\n",
    "plt.xlabel(lang2)\n",
    "\n",
    "plt.tight_layout()\n",
    "plt.show()"
   ]
  },
  {
   "cell_type": "code",
   "execution_count": 17,
   "metadata": {},
   "outputs": [
    {
     "data": {
      "image/png": "[encoded data removed]",
      "text/plain": [
       "<matplotlib.figure.Figure at 0x7f66bb548050>"
      ]
     },
     "metadata": {},
     "output_type": "display_data"
    }
   ],
   "source": [
    "#df_agg1[lang1+'_count']\n",
    "plt.figure(figsize=(15,5))\n",
    "plt.plot(df_agg1[lang1+'_count'].keys(), df_agg1[lang1+'_count'].values, marker='o', label=lang1)\n",
    "plt.plot(df_agg2[lang2+'_count'].keys(), df_agg2[lang2+'_count'].values, marker='o', label=lang2)\n",
    "plt.legend()\n",
    "plt.xlabel('Length of sentence')\n",
    "plt.ylabel('Count of occurrences')\n",
    "plt.tight_layout()\n",
    "plt.show()"
   ]
  },
  {
   "cell_type": "code",
   "execution_count": 18,
   "metadata": {
    "collapsed": true
   },
   "outputs": [],
   "source": [
    "# Seq2Seq input"
   ]
  },
  {
   "cell_type": "code",
   "execution_count": 19,
   "metadata": {},
   "outputs": [
    {
     "name": "stdout",
     "output_type": "stream",
     "text": [
      "((155320, 70, 36), (155320, 70, 36))\n"
     ]
    }
   ],
   "source": [
    "encodings = {\n",
    "    'fr': np.zeros((num_pairs, params['fr']['max_sentence_length'], params['fr']['chars_num'])),\n",
    "    'en': np.zeros((num_pairs, params['en']['max_sentence_length'], params['en']['chars_num']))\n",
    "}\n",
    "# one hot encode sentence characters\n",
    "index = 0\n",
    "for row_idx, row in df_raw.iterrows():\n",
    "    for lang in encodings.keys():\n",
    "        one_hot_encoding(encodings[lang][index], row[lang], lang)\n",
    "    index += 1\n",
    "print(encodings['en'].shape, encodings['fr'].shape)"
   ]
  },
  {
   "cell_type": "code",
   "execution_count": 20,
   "metadata": {},
   "outputs": [
    {
     "data": {
      "text/plain": [
       "((155320, 70, 36), (155320, 70, 36), (155320, 70, 36))"
      ]
     },
     "execution_count": 20,
     "metadata": {},
     "output_type": "execute_result"
    }
   ],
   "source": [
    "# A 3D array of shape (num_pairs, max_sentence_en, num_english_characters) containing a one-hot vectorization of the English sentences.\n",
    "encoder_input_data = encodings['en']\n",
    "\n",
    "# A 3D array of shape (num_pairs, max_sentence_ar, num_arabic_characters) containg a one-hot vectorization of the Arabic sentences.\n",
    "decoder_input_data = encodings['fr']\n",
    "\n",
    "# Same as decoder_input_data but offset by one timestep. decoder_target_data[:, t, :] will be the same as decoder_input_data[:, t + 1, :].\n",
    "decoder_target_data = shift_right(encodings['fr'], 'fr')\n",
    "\n",
    "decoder_input_data.shape, decoder_input_data.shape, decoder_target_data.shape"
   ]
  },
  {
   "cell_type": "code",
   "execution_count": 21,
   "metadata": {},
   "outputs": [
    {
     "data": {
      "text/plain": [
       "((155320, 70, 36),\n",
       " array([ 1.,  0.,  0.,  0.,  0.,  0.,  0.,  0.,  0.,  0.,  0.,  0.,  0.,\n",
       "         0.,  0.,  0.,  0.,  0.,  0.,  0.,  0.,  0.,  0.,  0.,  0.,  0.,\n",
       "         0.,  0.,  0.,  0.,  0.,  0.,  0.,  0.,  0.,  0.]))"
      ]
     },
     "execution_count": 21,
     "metadata": {},
     "output_type": "execute_result"
    }
   ],
   "source": [
    "decoder_input_data.shape, decoder_input_data[0][1]"
   ]
  },
  {
   "cell_type": "code",
   "execution_count": 22,
   "metadata": {},
   "outputs": [
    {
     "data": {
      "text/plain": [
       "((155320, 70, 36),\n",
       " array([ 1.,  0.,  0.,  0.,  0.,  0.,  0.,  0.,  0.,  0.,  0.,  0.,  0.,\n",
       "         0.,  0.,  0.,  0.,  0.,  0.,  0.,  0.,  0.,  0.,  0.,  0.,  0.,\n",
       "         0.,  0.,  0.,  0.,  0.,  0.,  0.,  0.,  0.,  0.]))"
      ]
     },
     "execution_count": 22,
     "metadata": {},
     "output_type": "execute_result"
    }
   ],
   "source": [
    "decoder_target_data.shape, decoder_target_data[0][0]"
   ]
  },
  {
   "cell_type": "code",
   "execution_count": 23,
   "metadata": {
    "collapsed": true
   },
   "outputs": [],
   "source": [
    "# LSTM-based Architecture"
   ]
  },
  {
   "cell_type": "code",
   "execution_count": 24,
   "metadata": {
    "collapsed": true
   },
   "outputs": [],
   "source": [
    "# 1- Training phase"
   ]
  },
  {
   "cell_type": "code",
   "execution_count": 25,
   "metadata": {
    "collapsed": true
   },
   "outputs": [],
   "source": [
    "# language model\n",
    "max_token_lang1 = params['en']['chars_num']\n",
    "max_sentence_length_lang1 = params['en']['max_sentence_length']\n",
    "max_token_lang2 = params['fr']['chars_num']\n",
    "max_sentence_length_lang2 = params['fr']['max_sentence_length']\n",
    "\n",
    "\n",
    "batch_size = 64  # Batch size for training.\n",
    "epochs = 10  # Number of epochs to train for.\n",
    "latent_dim = 256  # Latent dimensionality of the encoding space.\n",
    "\n",
    "# initializer the shape of the input for the Encoder/Decoder\n",
    "encoder_input = Input(shape=(None, max_token_lang1))\n",
    "decoder_input = Input(shape=(None, max_token_lang2))\n",
    "\n",
    "# Encoding-Decoding LSTM\n",
    "encoder = LSTM(latent_dim, return_state=True)\n",
    "decoder = LSTM(latent_dim, return_state=True, return_sequences=True)\n",
    "\n",
    "# run english input sentence througth the encoder\n",
    "encoder_input_reshaped = Reshape((max_sentence_length_lang1, max_token_lang1))(encoder_input)\n",
    "_, h, c = encoder(encoder_input_reshaped)\n",
    "# pass the hidden/context states from encoder to the decoder, along with the target Arabic sentence\n",
    "encoder_input_reshaped = Reshape((max_sentence_length_lang2, max_token_lang2))(decoder_input)\n",
    "out, _, _ = decoder(encoder_input_reshaped, initial_state=[h, c])\n",
    "# generate the final output\n",
    "out = Dense(max_token_lang2)(out)\n",
    "decoder_outtput = Activation('softmax')(out)\n",
    "# create the Keras model\n",
    "model = Model(inputs=[encoder_input, decoder_input], outputs=[decoder_outtput])\n",
    "\n",
    "adam = Adam() #Adam(lr=0.1, decay=0.0005)\n",
    "model.compile(optimizer=adam, loss='categorical_crossentropy', metrics=['accuracy'])"
   ]
  },
  {
   "cell_type": "code",
   "execution_count": 26,
   "metadata": {},
   "outputs": [
    {
     "name": "stdout",
     "output_type": "stream",
     "text": [
      "__________________________________________________________________________________________________\n",
      "Layer (type)                    Output Shape         Param #     Connected to                     \n",
      "==================================================================================================\n",
      "input_1 (InputLayer)            (None, None, 36)     0                                            \n",
      "__________________________________________________________________________________________________\n",
      "input_2 (InputLayer)            (None, None, 36)     0                                            \n",
      "__________________________________________________________________________________________________\n",
      "reshape_1 (Reshape)             (None, 70, 36)       0           input_1[0][0]                    \n",
      "__________________________________________________________________________________________________\n",
      "reshape_2 (Reshape)             (None, 70, 36)       0           input_2[0][0]                    \n",
      "__________________________________________________________________________________________________\n",
      "lstm_1 (LSTM)                   [(None, 256), (None, 300032      reshape_1[0][0]                  \n",
      "__________________________________________________________________________________________________\n",
      "lstm_2 (LSTM)                   [(None, 70, 256), (N 300032      reshape_2[0][0]                  \n",
      "                                                                 lstm_1[0][1]                     \n",
      "                                                                 lstm_1[0][2]                     \n",
      "__________________________________________________________________________________________________\n",
      "dense_1 (Dense)                 (None, 70, 36)       9252        lstm_2[0][0]                     \n",
      "__________________________________________________________________________________________________\n",
      "activation_1 (Activation)       (None, 70, 36)       0           dense_1[0][0]                    \n",
      "==================================================================================================\n",
      "Total params: 609,316\n",
      "Trainable params: 609,316\n",
      "Non-trainable params: 0\n",
      "__________________________________________________________________________________________________\n"
     ]
    }
   ],
   "source": [
    "model.summary()"
   ]
  },
  {
   "cell_type": "code",
   "execution_count": 27,
   "metadata": {
    "collapsed": true
   },
   "outputs": [],
   "source": [
    "samples = decoder_input_data.shape[0]"
   ]
  },
  {
   "cell_type": "code",
   "execution_count": null,
   "metadata": {},
   "outputs": [
    {
     "name": "stdout",
     "output_type": "stream",
     "text": [
      "Train on 139788 samples, validate on 15532 samples\n",
      "Epoch 1/10\n",
      "139788/139788 [==============================] - 449s 3ms/step - loss: 0.5998 - acc: 0.2424 - val_loss: 0.9131 - val_acc: 0.3397\n",
      "Epoch 2/10\n",
      " 10176/139788 [=>............................] - ETA: 5:20 - loss: 0.4647 - acc: 0.2203"
     ]
    }
   ],
   "source": [
    "model.fit(\n",
    "    x=[encoder_input_data[:samples], decoder_input_data[:samples]],\n",
    "    y=[decoder_target_data[:samples]],\n",
    "    batch_size=batch_size,\n",
    "    shuffle = True,\n",
    "    epochs=epochs,\n",
    "    validation_split=0.1\n",
    ")"
   ]
  },
  {
   "cell_type": "code",
   "execution_count": null,
   "metadata": {
    "collapsed": true
   },
   "outputs": [],
   "source": []
  }
 ],
 "metadata": {
  "kernelspec": {
   "display_name": "Python 2",
   "language": "python",
   "name": "python2"
  },
  "language_info": {
   "codemirror_mode": {
    "name": "ipython",
    "version": 2
   },
   "file_extension": ".py",
   "mimetype": "text/x-python",
   "name": "python",
   "nbconvert_exporter": "python",
   "pygments_lexer": "ipython2",
   "version": "2.7.13"
  }
 },
 "nbformat": 4,
 "nbformat_minor": 2
}
