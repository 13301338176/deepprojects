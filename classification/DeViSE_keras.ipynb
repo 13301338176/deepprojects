{
  "nbformat": 4,
  "nbformat_minor": 0,
  "metadata": {
    "colab": {
      "name": "DeViSE-keras.ipynb",
      "version": "0.3.2",
      "provenance": [],
      "collapsed_sections": []
    },
    "kernelspec": {
      "name": "python3",
      "display_name": "Python 3"
    },
    "accelerator": "GPU"
  },
  "cells": [
    {
      "metadata": {
        "id": "_bM2T4Mj5O38",
        "colab_type": "text"
      },
      "cell_type": "markdown",
      "source": [
        "# DeViSE in Keras\n",
        "Keras implementation of the Neural Network described in Andrea Frome and al. 2013 [DeViSE: A Deep Visual-Semantic Embedding Model](https://papers.nips.cc/paper/5204-devise-a-deep-visual-semantic-embedding-model).\n",
        "\n",
        "More on word2vec check this [link](https://skymind.ai/wiki/word2vec).\n",
        "\n",
        "<table class=\"tfo-notebook-buttons\" align=\"left\"><td>\n",
        "<a target=\"_blank\"  href=\"https://colab.research.google.com/github/dzlab/deepprojects/blob/master/classification/DeViSE_keras.ipynb\">\n",
        "    <img src=\"https://www.tensorflow.org/images/colab_logo_32px.png\" />Run in Google Colab</a>  \n",
        "</td><td>\n",
        "<a target=\"_blank\"  href=\"https://github.com/dzlab/deepprojects/blob/master/classification/DeViSE_keras.ipynb\"><img width=32px src=\"https://www.tensorflow.org/images/GitHub-Mark-32px.png\" />View source on GitHub</a></td></table>"
      ]
    },
    {
      "metadata": {
        "id": "1PyPW42z3FnR",
        "colab_type": "code",
        "colab": {}
      },
      "cell_type": "code",
      "source": [
        "%matplotlib inline\n",
        "%reload_ext autoreload\n",
        "%autoreload 2"
      ],
      "execution_count": 0,
      "outputs": []
    },
    {
      "metadata": {
        "id": "i6uqwJ92Q5ib",
        "colab_type": "code",
        "outputId": "7f52f67a-e65b-4095-abe6-d00ede3e6842",
        "colab": {
          "base_uri": "https://localhost:8080/",
          "height": 68
        }
      },
      "cell_type": "code",
      "source": [
        "!pip install nmslib"
      ],
      "execution_count": 2,
      "outputs": [
        {
          "output_type": "stream",
          "text": [
            "Requirement already satisfied: nmslib in /usr/local/lib/python3.6/dist-packages (1.7.3.6)\n",
            "Requirement already satisfied: pybind11>=2.0 in /usr/local/lib/python3.6/dist-packages (from nmslib) (2.2.4)\n",
            "Requirement already satisfied: numpy in /usr/local/lib/python3.6/dist-packages (from nmslib) (1.14.6)\n"
          ],
          "name": "stdout"
        }
      ]
    },
    {
      "metadata": {
        "id": "ooxYU6-q2uSH",
        "colab_type": "code",
        "colab": {}
      },
      "cell_type": "code",
      "source": [
        "import warnings\n",
        "warnings.filterwarnings(\"ignore\")"
      ],
      "execution_count": 0,
      "outputs": []
    },
    {
      "metadata": {
        "id": "76vBnnn35r-e",
        "colab_type": "code",
        "colab": {}
      },
      "cell_type": "code",
      "source": [
        "import tensorflow as tf\n",
        "from tensorflow.keras.applications.resnet50 import ResNet50\n",
        "from tensorflow.keras.utils import Sequence\n",
        "from tensorflow.keras.layers import Dense, Dropout, GlobalAveragePooling2D, BatchNormalization\n",
        "from tensorflow.keras.optimizers import Adam\n",
        "from tensorflow.keras import backend as K\n",
        "from tensorflow.keras.models import Model, load_model\n",
        "from tensorflow.keras import preprocessing"
      ],
      "execution_count": 0,
      "outputs": []
    },
    {
      "metadata": {
        "id": "wZLPdmNE1Ynr",
        "colab_type": "code",
        "colab": {}
      },
      "cell_type": "code",
      "source": [
        "import pandas as pd\n",
        "import numpy as np\n",
        "from tqdm import tqdm, tqdm_notebook\n",
        "import io\n",
        "import pathlib\n",
        "import collections\n",
        "import matplotlib.pyplot as plt\n",
        "import seaborn as sns\n",
        "from PIL import Image\n",
        "from random import randint"
      ],
      "execution_count": 0,
      "outputs": []
    },
    {
      "metadata": {
        "id": "mDJ3x7Wvxv-W",
        "colab_type": "code",
        "colab": {}
      },
      "cell_type": "code",
      "source": [
        "import pdb"
      ],
      "execution_count": 0,
      "outputs": []
    },
    {
      "metadata": {
        "id": "XXmbx7yjVH7R",
        "colab_type": "code",
        "outputId": "bafb7c5c-0a27-428c-c6a4-7efb5b8c62b2",
        "colab": {
          "base_uri": "https://localhost:8080/",
          "height": 34
        }
      },
      "cell_type": "code",
      "source": [
        "from google.colab import drive\n",
        "drive.mount('/content/gdrive')"
      ],
      "execution_count": 7,
      "outputs": [
        {
          "output_type": "stream",
          "text": [
            "Drive already mounted at /content/gdrive; to attempt to forcibly remount, call drive.mount(\"/content/gdrive\", force_remount=True).\n"
          ],
          "name": "stdout"
        }
      ]
    },
    {
      "metadata": {
        "id": "D1rqF4Jey_pP",
        "colab_type": "text"
      },
      "cell_type": "markdown",
      "source": [
        "## Data"
      ]
    },
    {
      "metadata": {
        "id": "fdy6H0qc-KGI",
        "colab_type": "text"
      },
      "cell_type": "markdown",
      "source": [
        "### ImageNet\n",
        "Download the [tiny](https://tiny-imagenet.herokuapp.com/) ImageNet dataset of size 236 MB, or the full dataset which is of size 155 GB and can be found [here](https://www.kaggle.com/c/imagenet-object-localization-challenge/data)."
      ]
    },
    {
      "metadata": {
        "id": "RvAqc09TtWTJ",
        "colab_type": "code",
        "outputId": "baf12447-64d7-407b-be3e-ffa4c2f900e1",
        "colab": {
          "base_uri": "https://localhost:8080/",
          "height": 68
        }
      },
      "cell_type": "code",
      "source": [
        "!curl -O http://cs231n.stanford.edu/tiny-imagenet-200.zip"
      ],
      "execution_count": 8,
      "outputs": [
        {
          "output_type": "stream",
          "text": [
            "  % Total    % Received % Xferd  Average Speed   Time    Time     Time  Current\n",
            "                                 Dload  Upload   Total   Spent    Left  Speed\n",
            "100  236M  100  236M    0     0  88.8M      0  0:00:02  0:00:02 --:--:-- 88.7M\n"
          ],
          "name": "stdout"
        }
      ]
    },
    {
      "metadata": {
        "id": "4e01jN78zhTt",
        "colab_type": "code",
        "colab": {}
      },
      "cell_type": "code",
      "source": [
        "!unzip -q tiny-imagenet-200.zip"
      ],
      "execution_count": 0,
      "outputs": []
    },
    {
      "metadata": {
        "id": "KKpN_o-y05oj",
        "colab_type": "code",
        "outputId": "31a72d99-3da8-4c57-f47c-d54f29f36364",
        "colab": {
          "base_uri": "https://localhost:8080/",
          "height": 34
        }
      },
      "cell_type": "code",
      "source": [
        "!ls tiny-imagenet-200/"
      ],
      "execution_count": 0,
      "outputs": [
        {
          "output_type": "stream",
          "text": [
            "test  train  val  wnids.txt  words.txt\n"
          ],
          "name": "stdout"
        }
      ]
    },
    {
      "metadata": {
        "id": "Pandvz5amdA8",
        "colab_type": "code",
        "outputId": "87cc85bb-b5f6-4b25-9853-f22f8467559d",
        "colab": {
          "base_uri": "https://localhost:8080/",
          "height": 187
        }
      },
      "cell_type": "code",
      "source": [
        "!ls tiny-imagenet-200/train/n01443537/images | head"
      ],
      "execution_count": 0,
      "outputs": [
        {
          "output_type": "stream",
          "text": [
            "n01443537_0.JPEG\n",
            "n01443537_100.JPEG\n",
            "n01443537_101.JPEG\n",
            "n01443537_102.JPEG\n",
            "n01443537_103.JPEG\n",
            "n01443537_104.JPEG\n",
            "n01443537_105.JPEG\n",
            "n01443537_106.JPEG\n",
            "n01443537_107.JPEG\n",
            "n01443537_108.JPEG\n"
          ],
          "name": "stdout"
        }
      ]
    },
    {
      "metadata": {
        "id": "ZAlcSP1d1CKa",
        "colab_type": "code",
        "outputId": "6fcc4437-1077-4efe-f484-4f68def208e9",
        "colab": {
          "base_uri": "https://localhost:8080/",
          "height": 187
        }
      },
      "cell_type": "code",
      "source": [
        "!head tiny-imagenet-200/words.txt"
      ],
      "execution_count": 0,
      "outputs": [
        {
          "output_type": "stream",
          "text": [
            "n00001740\tentity\n",
            "n00001930\tphysical entity\n",
            "n00002137\tabstraction, abstract entity\n",
            "n00002452\tthing\n",
            "n00002684\tobject, physical object\n",
            "n00003553\twhole, unit\n",
            "n00003993\tcongener\n",
            "n00004258\tliving thing, animate thing\n",
            "n00004475\torganism, being\n",
            "n00005787\tbenthos\n"
          ],
          "name": "stdout"
        }
      ]
    },
    {
      "metadata": {
        "id": "ViCVewKB1J0Q",
        "colab_type": "code",
        "outputId": "4a035927-1439-4a5a-e90d-d10575700465",
        "colab": {
          "base_uri": "https://localhost:8080/",
          "height": 187
        }
      },
      "cell_type": "code",
      "source": [
        "!head tiny-imagenet-200/wnids.txt"
      ],
      "execution_count": 0,
      "outputs": [
        {
          "output_type": "stream",
          "text": [
            "n02124075\n",
            "n04067472\n",
            "n04540053\n",
            "n04099969\n",
            "n07749582\n",
            "n01641577\n",
            "n02802426\n",
            "n09246464\n",
            "n07920052\n",
            "n03970156\n"
          ],
          "name": "stdout"
        }
      ]
    },
    {
      "metadata": {
        "id": "1yHoADhO2fVN",
        "colab_type": "code",
        "outputId": "9236acfe-a7ef-48c8-f2d0-26c28c7901dc",
        "colab": {
          "base_uri": "https://localhost:8080/",
          "height": 34
        }
      },
      "cell_type": "code",
      "source": [
        "!wc -l tiny-imagenet-200/words.txt"
      ],
      "execution_count": 0,
      "outputs": [
        {
          "output_type": "stream",
          "text": [
            "82114 tiny-imagenet-200/words.txt\n"
          ],
          "name": "stdout"
        }
      ]
    },
    {
      "metadata": {
        "id": "BdZcvwGK2YN2",
        "colab_type": "code",
        "outputId": "f2a8f5b0-a03a-41cd-c878-aba8ce575e16",
        "colab": {
          "base_uri": "https://localhost:8080/",
          "height": 34
        }
      },
      "cell_type": "code",
      "source": [
        "!wc -l tiny-imagenet-200/wnids.txt"
      ],
      "execution_count": 0,
      "outputs": [
        {
          "output_type": "stream",
          "text": [
            "200 tiny-imagenet-200/wnids.txt\n"
          ],
          "name": "stdout"
        }
      ]
    },
    {
      "metadata": {
        "id": "hHoyhwGO-PL2",
        "colab_type": "text"
      },
      "cell_type": "markdown",
      "source": [
        "### Word2Vec\n",
        "Download a decent [word2vec](https://skymind.ai/wiki/word2vec) representation like Facebook's [FastText](https://fasttext.cc/docs/en/english-vectors.html)."
      ]
    },
    {
      "metadata": {
        "id": "Gex0QVhJ-T7a",
        "colab_type": "code",
        "outputId": "a79a9ddc-4c86-45ae-f9ab-9efa20fa6f46",
        "colab": {
          "base_uri": "https://localhost:8080/",
          "height": 68
        }
      },
      "cell_type": "code",
      "source": [
        "!curl -O https://s3-us-west-1.amazonaws.com/fasttext-vectors/wiki-news-300d-1M.vec.zip"
      ],
      "execution_count": 0,
      "outputs": [
        {
          "output_type": "stream",
          "text": [
            "  % Total    % Received % Xferd  Average Speed   Time    Time     Time  Current\n",
            "                                 Dload  Upload   Total   Spent    Left  Speed\n",
            "100  650M  100  650M    0     0  52.8M      0  0:00:12  0:00:12 --:--:-- 53.8M\n"
          ],
          "name": "stdout"
        }
      ]
    },
    {
      "metadata": {
        "id": "YCZmsnmS-olf",
        "colab_type": "code",
        "colab": {}
      },
      "cell_type": "code",
      "source": [
        "!unzip -q wiki-news-300d-1M.vec.zip"
      ],
      "execution_count": 0,
      "outputs": []
    },
    {
      "metadata": {
        "id": "F_UB52hvJR0A",
        "colab_type": "code",
        "outputId": "6acbeac4-a001-4a1f-eb52-2def01fdbb8a",
        "colab": {
          "base_uri": "https://localhost:8080/",
          "height": 68
        }
      },
      "cell_type": "code",
      "source": [
        "!curl -O https://s3-us-west-1.amazonaws.com/fasttext-vectors/wiki.br.vec"
      ],
      "execution_count": 10,
      "outputs": [
        {
          "output_type": "stream",
          "text": [
            "  % Total    % Received % Xferd  Average Speed   Time    Time     Time  Current\n",
            "                                 Dload  Upload   Total   Spent    Left  Speed\n",
            "100  202M  100  202M    0     0  62.9M      0  0:00:03  0:00:03 --:--:-- 62.9M\n"
          ],
          "name": "stdout"
        }
      ]
    },
    {
      "metadata": {
        "id": "uZb3W6d2MXzY",
        "colab_type": "code",
        "colab": {}
      },
      "cell_type": "code",
      "source": [
        "!head wiki.br.vec"
      ],
      "execution_count": 0,
      "outputs": []
    },
    {
      "metadata": {
        "id": "LEPpaD5b_mJg",
        "colab_type": "code",
        "outputId": "3515fa1e-3827-49cf-cf3d-40834f885fec",
        "colab": {
          "base_uri": "https://localhost:8080/",
          "height": 51
        }
      },
      "cell_type": "code",
      "source": [
        "!ls "
      ],
      "execution_count": 0,
      "outputs": [
        {
          "output_type": "stream",
          "text": [
            "sample_data\t   tiny-imagenet-200.zip  wiki-news-300d-1M.vec.zip\n",
            "tiny-imagenet-200  wiki-news-300d-1M.vec\n"
          ],
          "name": "stdout"
        }
      ]
    },
    {
      "metadata": {
        "id": "Ak9pXUIe549Z",
        "colab_type": "code",
        "colab": {}
      },
      "cell_type": "code",
      "source": [
        "path = pathlib.Path('.')\n",
        "imagenet_path = path/'tiny-imagenet-200'\n",
        "word2vec_path = path"
      ],
      "execution_count": 0,
      "outputs": []
    },
    {
      "metadata": {
        "id": "l_O5fueGGQwQ",
        "colab_type": "text"
      },
      "cell_type": "markdown",
      "source": [
        "Load the word vectors"
      ]
    },
    {
      "metadata": {
        "id": "wslXv9WPF82z",
        "colab_type": "code",
        "colab": {}
      },
      "cell_type": "code",
      "source": [
        "# load the word2vec representations into numpy arrays\n",
        "def load_vectors(fname):\n",
        "    input = io.open(fname, 'r', encoding='utf-8', newline='\\n', errors='ignore')\n",
        "    # read first line which contains number of tokens and vector dimension\n",
        "    num, dim = map(int, input.readline().split())\n",
        "    mean = np.zeros((dim), dtype=np.float32)\n",
        "    # read line and convert tokens word2vec representation into numpy arrays\n",
        "    data = {}\n",
        "    for line in tqdm(input):\n",
        "        tokens = line.rstrip().split(' ')\n",
        "        data[tokens[0]] = [np.float32(i) for i in tokens[1:]]\n",
        "        mean = mean + data[tokens[0]]\n",
        "    # set the vector representation for unkown words with the mean vector\n",
        "    mean = mean / num\n",
        "    word2vec = data # word2vec = collections.defaultdict(lambda:mean, data)\n",
        "    return word2vec, mean"
      ],
      "execution_count": 0,
      "outputs": []
    },
    {
      "metadata": {
        "id": "y0efbYHeGG0K",
        "colab_type": "code",
        "outputId": "0aa734b7-3a48-473a-c87f-c3f6be1fecec",
        "colab": {
          "base_uri": "https://localhost:8080/",
          "height": 34
        }
      },
      "cell_type": "code",
      "source": [
        "word2vec, word2vec_mean = load_vectors(word2vec_path/'wiki.br.vec') # 'wiki-news-300d-1M.vec'"
      ],
      "execution_count": 11,
      "outputs": [
        {
          "output_type": "stream",
          "text": [
            "80719it [00:25, 3153.37it/s]\n"
          ],
          "name": "stderr"
        }
      ]
    },
    {
      "metadata": {
        "id": "1ZP-inXcQDRK",
        "colab_type": "text"
      },
      "cell_type": "markdown",
      "source": [
        "Get the vector for few words and check the correlation coefficents between each of them"
      ]
    },
    {
      "metadata": {
        "id": "PEu9sDhlJk5p",
        "colab_type": "code",
        "colab": {}
      },
      "cell_type": "code",
      "source": [
        "boat_vec = word2vec['boat']\n",
        "plane_vec = word2vec['plane']\n",
        "orange_vec = word2vec['orange']\n",
        "slug_vec = word2vec['slug']"
      ],
      "execution_count": 0,
      "outputs": []
    },
    {
      "metadata": {
        "id": "ePFmRUe_NhF8",
        "colab_type": "code",
        "outputId": "e47ca250-1fa7-4a5c-94cb-f2a04237bbd5",
        "colab": {
          "base_uri": "https://localhost:8080/",
          "height": 51
        }
      },
      "cell_type": "code",
      "source": [
        "np.corrcoef(boat_vec, plane_vec)"
      ],
      "execution_count": 15,
      "outputs": [
        {
          "output_type": "execute_result",
          "data": {
            "text/plain": [
              "array([[1.        , 0.35449532],\n",
              "       [0.35449532, 1.        ]])"
            ]
          },
          "metadata": {
            "tags": []
          },
          "execution_count": 15
        }
      ]
    },
    {
      "metadata": {
        "id": "h5ns0aOkQyrh",
        "colab_type": "code",
        "outputId": "e3dd9d4f-bdc3-4f3c-a733-ed9d59ac3703",
        "colab": {
          "base_uri": "https://localhost:8080/",
          "height": 51
        }
      },
      "cell_type": "code",
      "source": [
        "np.corrcoef(boat_vec, orange_vec)"
      ],
      "execution_count": 16,
      "outputs": [
        {
          "output_type": "execute_result",
          "data": {
            "text/plain": [
              "array([[1.        , 0.28873685],\n",
              "       [0.28873685, 1.        ]])"
            ]
          },
          "metadata": {
            "tags": []
          },
          "execution_count": 16
        }
      ]
    },
    {
      "metadata": {
        "id": "aHIXg7TyVjle",
        "colab_type": "code",
        "outputId": "2e245b96-ee1a-4ce6-959f-033f3c79ce7e",
        "colab": {
          "base_uri": "https://localhost:8080/",
          "height": 51
        }
      },
      "cell_type": "code",
      "source": [
        "np.corrcoef(boat_vec, slug_vec)"
      ],
      "execution_count": 17,
      "outputs": [
        {
          "output_type": "execute_result",
          "data": {
            "text/plain": [
              "array([[1.        , 0.51434384],\n",
              "       [0.51434384, 1.        ]])"
            ]
          },
          "metadata": {
            "tags": []
          },
          "execution_count": 17
        }
      ]
    },
    {
      "metadata": {
        "id": "fbmwIertRFZc",
        "colab_type": "text"
      },
      "cell_type": "markdown",
      "source": [
        "### ImageNet / Word2Vec mapping\n",
        "Map imagenet classes (with their [synset](https://wordnet.princeton.edu/) repsentation) to their word2vec representation"
      ]
    },
    {
      "metadata": {
        "id": "Wzg-ux-tPRBv",
        "colab_type": "code",
        "colab": {}
      },
      "cell_type": "code",
      "source": [
        "def load_wordnet(fname, delimeter=' ', synset_idx=0, word_idx=1):\n",
        "    input = io.open(fname, 'r', encoding='utf-8', newline='\\n', errors='ignore')\n",
        "    syn2word, word2syn = {}, {}\n",
        "    for line in tqdm(input):\n",
        "        tokens = line.rstrip().split(delimeter)\n",
        "        synset = tokens[synset_idx]\n",
        "        word = tokens[word_idx].lower() # clean words like Arabian_camel\n",
        "        # synset to word\n",
        "        syn2word[synset] = word\n",
        "        # word to synset\n",
        "        word2syn[word] = synset\n",
        "    return syn2word, word2syn"
      ],
      "execution_count": 0,
      "outputs": []
    },
    {
      "metadata": {
        "id": "1vO_V81ORoRd",
        "colab_type": "code",
        "outputId": "3e77a25c-202c-4569-9bb3-a290610cba70",
        "colab": {
          "base_uri": "https://localhost:8080/",
          "height": 34
        }
      },
      "cell_type": "code",
      "source": [
        "syn2word, word2syn = load_wordnet(imagenet_path/'words.txt', '\\t') # 1k"
      ],
      "execution_count": 13,
      "outputs": [
        {
          "output_type": "stream",
          "text": [
            "82115it [00:00, 574586.63it/s]\n"
          ],
          "name": "stderr"
        }
      ]
    },
    {
      "metadata": {
        "id": "ROCGKT__TrQP",
        "colab_type": "text"
      },
      "cell_type": "markdown",
      "source": [
        "read the synset ids for the training images"
      ]
    },
    {
      "metadata": {
        "id": "dJM1SDRnTQy6",
        "colab_type": "code",
        "colab": {}
      },
      "cell_type": "code",
      "source": [
        "classes = [id.rstrip() for id in open(imagenet_path/'wnids.txt')]"
      ],
      "execution_count": 0,
      "outputs": []
    },
    {
      "metadata": {
        "id": "j1wWO5t5Tf7T",
        "colab_type": "code",
        "outputId": "154131db-f75f-4256-a473-7a268682a433",
        "colab": {
          "base_uri": "https://localhost:8080/",
          "height": 34
        }
      },
      "cell_type": "code",
      "source": [
        "classes[2], syn2word[classes[2]], classes[100], syn2word[classes[100]]"
      ],
      "execution_count": 15,
      "outputs": [
        {
          "output_type": "execute_result",
          "data": {
            "text/plain": [
              "('n04540053', 'volleyball', 'n01945685', 'slug')"
            ]
          },
          "metadata": {
            "tags": []
          },
          "execution_count": 15
        }
      ]
    },
    {
      "metadata": {
        "id": "Ui6neYn5UCPM",
        "colab_type": "code",
        "outputId": "0773d84d-42a3-484f-ac86-43847ad850d5",
        "colab": {
          "base_uri": "https://localhost:8080/",
          "height": 51
        }
      },
      "cell_type": "code",
      "source": [
        "np.corrcoef(word2vec[syn2word[classes[2]]], word2vec[syn2word[classes[100]]])"
      ],
      "execution_count": 54,
      "outputs": [
        {
          "output_type": "execute_result",
          "data": {
            "text/plain": [
              "array([[1.        , 0.57730468],\n",
              "       [0.57730468, 1.        ]])"
            ]
          },
          "metadata": {
            "tags": []
          },
          "execution_count": 54
        }
      ]
    },
    {
      "metadata": {
        "id": "5lI1gsriyP_N",
        "colab_type": "text"
      },
      "cell_type": "markdown",
      "source": [
        "Check that we have a proper word2vec for each class"
      ]
    },
    {
      "metadata": {
        "id": "5pxcGsapyPCg",
        "colab_type": "code",
        "colab": {
          "base_uri": "https://localhost:8080/",
          "height": 1969
        },
        "outputId": "3fb71796-35a8-48e0-baf5-a97abeadd92b"
      },
      "cell_type": "code",
      "source": [
        "columns = ['id', 'word', 'vec']\n",
        "data = {'id': [], 'word': [], 'vec': []}\n",
        "for id in classes:\n",
        "    data['id'].append(id)\n",
        "    data['word'].append(syn2word[id])\n",
        "    data['vec'].append(word2vec[syn2word[id]][:5])\n",
        "    \n",
        "df = pd.DataFrame(data, columns=columns); df"
      ],
      "execution_count": 32,
      "outputs": [
        {
          "output_type": "execute_result",
          "data": {
            "text/html": [
              "<div>\n",
              "<style scoped>\n",
              "    .dataframe tbody tr th:only-of-type {\n",
              "        vertical-align: middle;\n",
              "    }\n",
              "\n",
              "    .dataframe tbody tr th {\n",
              "        vertical-align: top;\n",
              "    }\n",
              "\n",
              "    .dataframe thead th {\n",
              "        text-align: right;\n",
              "    }\n",
              "</style>\n",
              "<table border=\"1\" class=\"dataframe\">\n",
              "  <thead>\n",
              "    <tr style=\"text-align: right;\">\n",
              "      <th></th>\n",
              "      <th>id</th>\n",
              "      <th>word</th>\n",
              "      <th>vec</th>\n",
              "    </tr>\n",
              "  </thead>\n",
              "  <tbody>\n",
              "    <tr>\n",
              "      <th>0</th>\n",
              "      <td>n02124075</td>\n",
              "      <td>Egyptian cat</td>\n",
              "      <td>[0.038786927997319406, -0.031384387891946135, ...</td>\n",
              "    </tr>\n",
              "    <tr>\n",
              "      <th>1</th>\n",
              "      <td>n04067472</td>\n",
              "      <td>reel</td>\n",
              "      <td>[0.016588, -0.094442, 0.15765, 0.17304, 0.024277]</td>\n",
              "    </tr>\n",
              "    <tr>\n",
              "      <th>2</th>\n",
              "      <td>n04540053</td>\n",
              "      <td>volleyball</td>\n",
              "      <td>[0.15765, 0.040266, 0.31476, -0.10253, 0.036466]</td>\n",
              "    </tr>\n",
              "    <tr>\n",
              "      <th>3</th>\n",
              "      <td>n04099969</td>\n",
              "      <td>rocking chair, rocker</td>\n",
              "      <td>[0.038786927997319406, -0.031384387891946135, ...</td>\n",
              "    </tr>\n",
              "    <tr>\n",
              "      <th>4</th>\n",
              "      <td>n07749582</td>\n",
              "      <td>lemon</td>\n",
              "      <td>[0.24505, 0.17176, -0.31541, 0.17588, -0.45948]</td>\n",
              "    </tr>\n",
              "    <tr>\n",
              "      <th>5</th>\n",
              "      <td>n01641577</td>\n",
              "      <td>bullfrog, Rana catesbeiana</td>\n",
              "      <td>[0.038786927997319406, -0.031384387891946135, ...</td>\n",
              "    </tr>\n",
              "    <tr>\n",
              "      <th>6</th>\n",
              "      <td>n02802426</td>\n",
              "      <td>basketball</td>\n",
              "      <td>[0.17258, 0.36258, 0.49329, 0.016541, -0.083436]</td>\n",
              "    </tr>\n",
              "    <tr>\n",
              "      <th>7</th>\n",
              "      <td>n09246464</td>\n",
              "      <td>cliff, drop, drop-off</td>\n",
              "      <td>[0.038786927997319406, -0.031384387891946135, ...</td>\n",
              "    </tr>\n",
              "    <tr>\n",
              "      <th>8</th>\n",
              "      <td>n07920052</td>\n",
              "      <td>espresso</td>\n",
              "      <td>[0.038786927997319406, -0.031384387891946135, ...</td>\n",
              "    </tr>\n",
              "    <tr>\n",
              "      <th>9</th>\n",
              "      <td>n03970156</td>\n",
              "      <td>plunger, plumber's helper</td>\n",
              "      <td>[0.038786927997319406, -0.031384387891946135, ...</td>\n",
              "    </tr>\n",
              "    <tr>\n",
              "      <th>10</th>\n",
              "      <td>n03891332</td>\n",
              "      <td>parking meter</td>\n",
              "      <td>[0.038786927997319406, -0.031384387891946135, ...</td>\n",
              "    </tr>\n",
              "    <tr>\n",
              "      <th>11</th>\n",
              "      <td>n02106662</td>\n",
              "      <td>German shepherd, German shepherd dog, German p...</td>\n",
              "      <td>[0.038786927997319406, -0.031384387891946135, ...</td>\n",
              "    </tr>\n",
              "    <tr>\n",
              "      <th>12</th>\n",
              "      <td>n03201208</td>\n",
              "      <td>dining table, board</td>\n",
              "      <td>[0.038786927997319406, -0.031384387891946135, ...</td>\n",
              "    </tr>\n",
              "    <tr>\n",
              "      <th>13</th>\n",
              "      <td>n02279972</td>\n",
              "      <td>monarch, monarch butterfly, milkweed butterfly...</td>\n",
              "      <td>[0.038786927997319406, -0.031384387891946135, ...</td>\n",
              "    </tr>\n",
              "    <tr>\n",
              "      <th>14</th>\n",
              "      <td>n02132136</td>\n",
              "      <td>brown bear, bruin, Ursus arctos</td>\n",
              "      <td>[0.038786927997319406, -0.031384387891946135, ...</td>\n",
              "    </tr>\n",
              "    <tr>\n",
              "      <th>15</th>\n",
              "      <td>n04146614</td>\n",
              "      <td>school bus</td>\n",
              "      <td>[0.038786927997319406, -0.031384387891946135, ...</td>\n",
              "    </tr>\n",
              "    <tr>\n",
              "      <th>16</th>\n",
              "      <td>n07873807</td>\n",
              "      <td>pizza, pizza pie</td>\n",
              "      <td>[0.038786927997319406, -0.031384387891946135, ...</td>\n",
              "    </tr>\n",
              "    <tr>\n",
              "      <th>17</th>\n",
              "      <td>n02364673</td>\n",
              "      <td>guinea pig, Cavia cobaya</td>\n",
              "      <td>[0.038786927997319406, -0.031384387891946135, ...</td>\n",
              "    </tr>\n",
              "    <tr>\n",
              "      <th>18</th>\n",
              "      <td>n04507155</td>\n",
              "      <td>umbrella</td>\n",
              "      <td>[0.14714, -0.2947, 0.13154, 0.16342, -0.2449]</td>\n",
              "    </tr>\n",
              "    <tr>\n",
              "      <th>19</th>\n",
              "      <td>n03854065</td>\n",
              "      <td>organ, pipe organ</td>\n",
              "      <td>[0.038786927997319406, -0.031384387891946135, ...</td>\n",
              "    </tr>\n",
              "    <tr>\n",
              "      <th>20</th>\n",
              "      <td>n03838899</td>\n",
              "      <td>oboe, hautboy, hautbois</td>\n",
              "      <td>[0.038786927997319406, -0.031384387891946135, ...</td>\n",
              "    </tr>\n",
              "    <tr>\n",
              "      <th>21</th>\n",
              "      <td>n03733131</td>\n",
              "      <td>maypole</td>\n",
              "      <td>[0.038786927997319406, -0.031384387891946135, ...</td>\n",
              "    </tr>\n",
              "    <tr>\n",
              "      <th>22</th>\n",
              "      <td>n01443537</td>\n",
              "      <td>goldfish, Carassius auratus</td>\n",
              "      <td>[0.038786927997319406, -0.031384387891946135, ...</td>\n",
              "    </tr>\n",
              "    <tr>\n",
              "      <th>23</th>\n",
              "      <td>n07875152</td>\n",
              "      <td>potpie</td>\n",
              "      <td>[0.038786927997319406, -0.031384387891946135, ...</td>\n",
              "    </tr>\n",
              "    <tr>\n",
              "      <th>24</th>\n",
              "      <td>n03544143</td>\n",
              "      <td>hourglass</td>\n",
              "      <td>[0.038786927997319406, -0.031384387891946135, ...</td>\n",
              "    </tr>\n",
              "    <tr>\n",
              "      <th>25</th>\n",
              "      <td>n09428293</td>\n",
              "      <td>seashore, coast, seacoast, sea-coast</td>\n",
              "      <td>[0.038786927997319406, -0.031384387891946135, ...</td>\n",
              "    </tr>\n",
              "    <tr>\n",
              "      <th>26</th>\n",
              "      <td>n03085013</td>\n",
              "      <td>computer keyboard, keypad</td>\n",
              "      <td>[0.038786927997319406, -0.031384387891946135, ...</td>\n",
              "    </tr>\n",
              "    <tr>\n",
              "      <th>27</th>\n",
              "      <td>n02437312</td>\n",
              "      <td>Arabian camel, dromedary, Camelus dromedarius</td>\n",
              "      <td>[0.038786927997319406, -0.031384387891946135, ...</td>\n",
              "    </tr>\n",
              "    <tr>\n",
              "      <th>28</th>\n",
              "      <td>n07614500</td>\n",
              "      <td>ice cream, icecream</td>\n",
              "      <td>[0.038786927997319406, -0.031384387891946135, ...</td>\n",
              "    </tr>\n",
              "    <tr>\n",
              "      <th>29</th>\n",
              "      <td>n03804744</td>\n",
              "      <td>nail</td>\n",
              "      <td>[-0.0066931, -0.22788, -0.18343, 0.26068, -0.4...</td>\n",
              "    </tr>\n",
              "    <tr>\n",
              "      <th>...</th>\n",
              "      <td>...</td>\n",
              "      <td>...</td>\n",
              "      <td>...</td>\n",
              "    </tr>\n",
              "    <tr>\n",
              "      <th>170</th>\n",
              "      <td>n07768694</td>\n",
              "      <td>pomegranate</td>\n",
              "      <td>[0.038786927997319406, -0.031384387891946135, ...</td>\n",
              "    </tr>\n",
              "    <tr>\n",
              "      <th>171</th>\n",
              "      <td>n02999410</td>\n",
              "      <td>chain</td>\n",
              "      <td>[-0.028287, 0.42074, -0.12116, 0.73364, -0.22147]</td>\n",
              "    </tr>\n",
              "    <tr>\n",
              "      <th>172</th>\n",
              "      <td>n03617480</td>\n",
              "      <td>kimono</td>\n",
              "      <td>[-0.041503, 0.0094086, 0.19183, 0.00033086, -0...</td>\n",
              "    </tr>\n",
              "    <tr>\n",
              "      <th>173</th>\n",
              "      <td>n06596364</td>\n",
              "      <td>comic book</td>\n",
              "      <td>[0.038786927997319406, -0.031384387891946135, ...</td>\n",
              "    </tr>\n",
              "    <tr>\n",
              "      <th>174</th>\n",
              "      <td>n01768244</td>\n",
              "      <td>trilobite</td>\n",
              "      <td>[0.038786927997319406, -0.031384387891946135, ...</td>\n",
              "    </tr>\n",
              "    <tr>\n",
              "      <th>175</th>\n",
              "      <td>n02410509</td>\n",
              "      <td>bison</td>\n",
              "      <td>[0.23263, 0.020765, -0.25701, -0.099852, 0.17123]</td>\n",
              "    </tr>\n",
              "    <tr>\n",
              "      <th>176</th>\n",
              "      <td>n03976657</td>\n",
              "      <td>pole</td>\n",
              "      <td>[-0.082861, -0.27316, 0.25484, 0.18978, -0.41171]</td>\n",
              "    </tr>\n",
              "    <tr>\n",
              "      <th>177</th>\n",
              "      <td>n01742172</td>\n",
              "      <td>boa constrictor, Constrictor constrictor</td>\n",
              "      <td>[0.038786927997319406, -0.031384387891946135, ...</td>\n",
              "    </tr>\n",
              "    <tr>\n",
              "      <th>178</th>\n",
              "      <td>n03980874</td>\n",
              "      <td>poncho</td>\n",
              "      <td>[0.10501, 0.16632, 0.0039185, 0.24765, -0.20835]</td>\n",
              "    </tr>\n",
              "    <tr>\n",
              "      <th>179</th>\n",
              "      <td>n02808440</td>\n",
              "      <td>bathtub, bathing tub, bath, tub</td>\n",
              "      <td>[0.038786927997319406, -0.031384387891946135, ...</td>\n",
              "    </tr>\n",
              "    <tr>\n",
              "      <th>180</th>\n",
              "      <td>n02226429</td>\n",
              "      <td>grasshopper, hopper</td>\n",
              "      <td>[0.038786927997319406, -0.031384387891946135, ...</td>\n",
              "    </tr>\n",
              "    <tr>\n",
              "      <th>181</th>\n",
              "      <td>n02231487</td>\n",
              "      <td>walking stick, walkingstick, stick insect</td>\n",
              "      <td>[0.038786927997319406, -0.031384387891946135, ...</td>\n",
              "    </tr>\n",
              "    <tr>\n",
              "      <th>182</th>\n",
              "      <td>n02085620</td>\n",
              "      <td>Chihuahua</td>\n",
              "      <td>[0.038786927997319406, -0.031384387891946135, ...</td>\n",
              "    </tr>\n",
              "    <tr>\n",
              "      <th>183</th>\n",
              "      <td>n01644900</td>\n",
              "      <td>tailed frog, bell toad, ribbed toad, tailed to...</td>\n",
              "      <td>[0.038786927997319406, -0.031384387891946135, ...</td>\n",
              "    </tr>\n",
              "    <tr>\n",
              "      <th>184</th>\n",
              "      <td>n02129165</td>\n",
              "      <td>lion, king of beasts, Panthera leo</td>\n",
              "      <td>[0.038786927997319406, -0.031384387891946135, ...</td>\n",
              "    </tr>\n",
              "    <tr>\n",
              "      <th>185</th>\n",
              "      <td>n02699494</td>\n",
              "      <td>altar</td>\n",
              "      <td>[0.221, -0.34878, -0.22444, -0.13371, -0.36206]</td>\n",
              "    </tr>\n",
              "    <tr>\n",
              "      <th>186</th>\n",
              "      <td>n03837869</td>\n",
              "      <td>obelisk</td>\n",
              "      <td>[0.038786927997319406, -0.031384387891946135, ...</td>\n",
              "    </tr>\n",
              "    <tr>\n",
              "      <th>187</th>\n",
              "      <td>n02815834</td>\n",
              "      <td>beaker</td>\n",
              "      <td>[-0.069319, 0.17042, -0.030502, 0.017046, -0.1...</td>\n",
              "    </tr>\n",
              "    <tr>\n",
              "      <th>188</th>\n",
              "      <td>n07720875</td>\n",
              "      <td>bell pepper</td>\n",
              "      <td>[0.038786927997319406, -0.031384387891946135, ...</td>\n",
              "    </tr>\n",
              "    <tr>\n",
              "      <th>189</th>\n",
              "      <td>n02788148</td>\n",
              "      <td>bannister, banister, balustrade, balusters, ha...</td>\n",
              "      <td>[0.038786927997319406, -0.031384387891946135, ...</td>\n",
              "    </tr>\n",
              "    <tr>\n",
              "      <th>190</th>\n",
              "      <td>n02909870</td>\n",
              "      <td>bucket, pail</td>\n",
              "      <td>[0.038786927997319406, -0.031384387891946135, ...</td>\n",
              "    </tr>\n",
              "    <tr>\n",
              "      <th>191</th>\n",
              "      <td>n03706229</td>\n",
              "      <td>magnetic compass</td>\n",
              "      <td>[0.038786927997319406, -0.031384387891946135, ...</td>\n",
              "    </tr>\n",
              "    <tr>\n",
              "      <th>192</th>\n",
              "      <td>n07871810</td>\n",
              "      <td>meat loaf, meatloaf</td>\n",
              "      <td>[0.038786927997319406, -0.031384387891946135, ...</td>\n",
              "    </tr>\n",
              "    <tr>\n",
              "      <th>193</th>\n",
              "      <td>n03447447</td>\n",
              "      <td>gondola</td>\n",
              "      <td>[0.038786927997319406, -0.031384387891946135, ...</td>\n",
              "    </tr>\n",
              "    <tr>\n",
              "      <th>194</th>\n",
              "      <td>n02113799</td>\n",
              "      <td>standard poodle</td>\n",
              "      <td>[0.038786927997319406, -0.031384387891946135, ...</td>\n",
              "    </tr>\n",
              "    <tr>\n",
              "      <th>195</th>\n",
              "      <td>n12267677</td>\n",
              "      <td>acorn</td>\n",
              "      <td>[-0.064807, 0.021106, 0.0074383, 0.39244, 0.06...</td>\n",
              "    </tr>\n",
              "    <tr>\n",
              "      <th>196</th>\n",
              "      <td>n03662601</td>\n",
              "      <td>lifeboat</td>\n",
              "      <td>[0.0018458, 0.15147, -0.047201, -0.052172, 0.0...</td>\n",
              "    </tr>\n",
              "    <tr>\n",
              "      <th>197</th>\n",
              "      <td>n02841315</td>\n",
              "      <td>binoculars, field glasses, opera glasses</td>\n",
              "      <td>[0.038786927997319406, -0.031384387891946135, ...</td>\n",
              "    </tr>\n",
              "    <tr>\n",
              "      <th>198</th>\n",
              "      <td>n07715103</td>\n",
              "      <td>cauliflower</td>\n",
              "      <td>[0.038786927997319406, -0.031384387891946135, ...</td>\n",
              "    </tr>\n",
              "    <tr>\n",
              "      <th>199</th>\n",
              "      <td>n02504458</td>\n",
              "      <td>African elephant, Loxodonta africana</td>\n",
              "      <td>[0.038786927997319406, -0.031384387891946135, ...</td>\n",
              "    </tr>\n",
              "  </tbody>\n",
              "</table>\n",
              "<p>200 rows × 3 columns</p>\n",
              "</div>"
            ],
            "text/plain": [
              "            id                                               word  \\\n",
              "0    n02124075                                       Egyptian cat   \n",
              "1    n04067472                                               reel   \n",
              "2    n04540053                                         volleyball   \n",
              "3    n04099969                              rocking chair, rocker   \n",
              "4    n07749582                                              lemon   \n",
              "5    n01641577                         bullfrog, Rana catesbeiana   \n",
              "6    n02802426                                         basketball   \n",
              "7    n09246464                              cliff, drop, drop-off   \n",
              "8    n07920052                                           espresso   \n",
              "9    n03970156                          plunger, plumber's helper   \n",
              "10   n03891332                                      parking meter   \n",
              "11   n02106662  German shepherd, German shepherd dog, German p...   \n",
              "12   n03201208                                dining table, board   \n",
              "13   n02279972  monarch, monarch butterfly, milkweed butterfly...   \n",
              "14   n02132136                    brown bear, bruin, Ursus arctos   \n",
              "15   n04146614                                         school bus   \n",
              "16   n07873807                                   pizza, pizza pie   \n",
              "17   n02364673                           guinea pig, Cavia cobaya   \n",
              "18   n04507155                                           umbrella   \n",
              "19   n03854065                                  organ, pipe organ   \n",
              "20   n03838899                            oboe, hautboy, hautbois   \n",
              "21   n03733131                                            maypole   \n",
              "22   n01443537                        goldfish, Carassius auratus   \n",
              "23   n07875152                                             potpie   \n",
              "24   n03544143                                          hourglass   \n",
              "25   n09428293               seashore, coast, seacoast, sea-coast   \n",
              "26   n03085013                          computer keyboard, keypad   \n",
              "27   n02437312      Arabian camel, dromedary, Camelus dromedarius   \n",
              "28   n07614500                                ice cream, icecream   \n",
              "29   n03804744                                               nail   \n",
              "..         ...                                                ...   \n",
              "170  n07768694                                        pomegranate   \n",
              "171  n02999410                                              chain   \n",
              "172  n03617480                                             kimono   \n",
              "173  n06596364                                         comic book   \n",
              "174  n01768244                                          trilobite   \n",
              "175  n02410509                                              bison   \n",
              "176  n03976657                                               pole   \n",
              "177  n01742172           boa constrictor, Constrictor constrictor   \n",
              "178  n03980874                                             poncho   \n",
              "179  n02808440                    bathtub, bathing tub, bath, tub   \n",
              "180  n02226429                                grasshopper, hopper   \n",
              "181  n02231487          walking stick, walkingstick, stick insect   \n",
              "182  n02085620                                          Chihuahua   \n",
              "183  n01644900  tailed frog, bell toad, ribbed toad, tailed to...   \n",
              "184  n02129165                 lion, king of beasts, Panthera leo   \n",
              "185  n02699494                                              altar   \n",
              "186  n03837869                                            obelisk   \n",
              "187  n02815834                                             beaker   \n",
              "188  n07720875                                        bell pepper   \n",
              "189  n02788148  bannister, banister, balustrade, balusters, ha...   \n",
              "190  n02909870                                       bucket, pail   \n",
              "191  n03706229                                   magnetic compass   \n",
              "192  n07871810                                meat loaf, meatloaf   \n",
              "193  n03447447                                            gondola   \n",
              "194  n02113799                                    standard poodle   \n",
              "195  n12267677                                              acorn   \n",
              "196  n03662601                                           lifeboat   \n",
              "197  n02841315           binoculars, field glasses, opera glasses   \n",
              "198  n07715103                                        cauliflower   \n",
              "199  n02504458               African elephant, Loxodonta africana   \n",
              "\n",
              "                                                   vec  \n",
              "0    [0.038786927997319406, -0.031384387891946135, ...  \n",
              "1    [0.016588, -0.094442, 0.15765, 0.17304, 0.024277]  \n",
              "2     [0.15765, 0.040266, 0.31476, -0.10253, 0.036466]  \n",
              "3    [0.038786927997319406, -0.031384387891946135, ...  \n",
              "4      [0.24505, 0.17176, -0.31541, 0.17588, -0.45948]  \n",
              "5    [0.038786927997319406, -0.031384387891946135, ...  \n",
              "6     [0.17258, 0.36258, 0.49329, 0.016541, -0.083436]  \n",
              "7    [0.038786927997319406, -0.031384387891946135, ...  \n",
              "8    [0.038786927997319406, -0.031384387891946135, ...  \n",
              "9    [0.038786927997319406, -0.031384387891946135, ...  \n",
              "10   [0.038786927997319406, -0.031384387891946135, ...  \n",
              "11   [0.038786927997319406, -0.031384387891946135, ...  \n",
              "12   [0.038786927997319406, -0.031384387891946135, ...  \n",
              "13   [0.038786927997319406, -0.031384387891946135, ...  \n",
              "14   [0.038786927997319406, -0.031384387891946135, ...  \n",
              "15   [0.038786927997319406, -0.031384387891946135, ...  \n",
              "16   [0.038786927997319406, -0.031384387891946135, ...  \n",
              "17   [0.038786927997319406, -0.031384387891946135, ...  \n",
              "18       [0.14714, -0.2947, 0.13154, 0.16342, -0.2449]  \n",
              "19   [0.038786927997319406, -0.031384387891946135, ...  \n",
              "20   [0.038786927997319406, -0.031384387891946135, ...  \n",
              "21   [0.038786927997319406, -0.031384387891946135, ...  \n",
              "22   [0.038786927997319406, -0.031384387891946135, ...  \n",
              "23   [0.038786927997319406, -0.031384387891946135, ...  \n",
              "24   [0.038786927997319406, -0.031384387891946135, ...  \n",
              "25   [0.038786927997319406, -0.031384387891946135, ...  \n",
              "26   [0.038786927997319406, -0.031384387891946135, ...  \n",
              "27   [0.038786927997319406, -0.031384387891946135, ...  \n",
              "28   [0.038786927997319406, -0.031384387891946135, ...  \n",
              "29   [-0.0066931, -0.22788, -0.18343, 0.26068, -0.4...  \n",
              "..                                                 ...  \n",
              "170  [0.038786927997319406, -0.031384387891946135, ...  \n",
              "171  [-0.028287, 0.42074, -0.12116, 0.73364, -0.22147]  \n",
              "172  [-0.041503, 0.0094086, 0.19183, 0.00033086, -0...  \n",
              "173  [0.038786927997319406, -0.031384387891946135, ...  \n",
              "174  [0.038786927997319406, -0.031384387891946135, ...  \n",
              "175  [0.23263, 0.020765, -0.25701, -0.099852, 0.17123]  \n",
              "176  [-0.082861, -0.27316, 0.25484, 0.18978, -0.41171]  \n",
              "177  [0.038786927997319406, -0.031384387891946135, ...  \n",
              "178   [0.10501, 0.16632, 0.0039185, 0.24765, -0.20835]  \n",
              "179  [0.038786927997319406, -0.031384387891946135, ...  \n",
              "180  [0.038786927997319406, -0.031384387891946135, ...  \n",
              "181  [0.038786927997319406, -0.031384387891946135, ...  \n",
              "182  [0.038786927997319406, -0.031384387891946135, ...  \n",
              "183  [0.038786927997319406, -0.031384387891946135, ...  \n",
              "184  [0.038786927997319406, -0.031384387891946135, ...  \n",
              "185    [0.221, -0.34878, -0.22444, -0.13371, -0.36206]  \n",
              "186  [0.038786927997319406, -0.031384387891946135, ...  \n",
              "187  [-0.069319, 0.17042, -0.030502, 0.017046, -0.1...  \n",
              "188  [0.038786927997319406, -0.031384387891946135, ...  \n",
              "189  [0.038786927997319406, -0.031384387891946135, ...  \n",
              "190  [0.038786927997319406, -0.031384387891946135, ...  \n",
              "191  [0.038786927997319406, -0.031384387891946135, ...  \n",
              "192  [0.038786927997319406, -0.031384387891946135, ...  \n",
              "193  [0.038786927997319406, -0.031384387891946135, ...  \n",
              "194  [0.038786927997319406, -0.031384387891946135, ...  \n",
              "195  [-0.064807, 0.021106, 0.0074383, 0.39244, 0.06...  \n",
              "196  [0.0018458, 0.15147, -0.047201, -0.052172, 0.0...  \n",
              "197  [0.038786927997319406, -0.031384387891946135, ...  \n",
              "198  [0.038786927997319406, -0.031384387891946135, ...  \n",
              "199  [0.038786927997319406, -0.031384387891946135, ...  \n",
              "\n",
              "[200 rows x 3 columns]"
            ]
          },
          "metadata": {
            "tags": []
          },
          "execution_count": 32
        }
      ]
    },
    {
      "metadata": {
        "id": "IqpVDCcH4Uwp",
        "colab_type": "text"
      },
      "cell_type": "markdown",
      "source": [
        "a lot of the class lables in this tiny imagenet dataset cannot be found in the FastText word2vecs. As an altertive, will you use the labels from the real ImageNet dataset"
      ]
    },
    {
      "metadata": {
        "id": "JuVsVTIQ4uYW",
        "colab_type": "code",
        "colab": {
          "base_uri": "https://localhost:8080/",
          "height": 68
        },
        "outputId": "9921ad96-8db3-4806-fee1-2742e0e4f878"
      },
      "cell_type": "code",
      "source": [
        "!curl -O https://gist.githubusercontent.com/aaronpolhamus/964a4411c0906315deb9f4a3723aac57/raw/aa66dd9dbf6b56649fa3fab83659b2acbf3cbfd1/map_clsloc.txt"
      ],
      "execution_count": 37,
      "outputs": [
        {
          "output_type": "stream",
          "text": [
            "  % Total    % Received % Xferd  Average Speed   Time    Time     Time  Current\n",
            "                                 Dload  Upload   Total   Spent    Left  Speed\n",
            "\r  0     0    0     0    0     0      0      0 --:--:-- --:--:-- --:--:--     0\r100 24365  100 24365    0     0   475k      0 --:--:-- --:--:-- --:--:--  475k\n"
          ],
          "name": "stdout"
        }
      ]
    },
    {
      "metadata": {
        "id": "8ue0xptH5B67",
        "colab_type": "code",
        "colab": {
          "base_uri": "https://localhost:8080/",
          "height": 34
        },
        "outputId": "23bfd504-4271-4527-a6d8-994efb9729fe"
      },
      "cell_type": "code",
      "source": [
        "syn2word, word2syn = load_wordnet(path/'map_clsloc.txt', delimeter=' ', synset_idx=0, word_idx=2)"
      ],
      "execution_count": 16,
      "outputs": [
        {
          "output_type": "stream",
          "text": [
            "1000it [00:00, 186430.08it/s]\n"
          ],
          "name": "stderr"
        }
      ]
    },
    {
      "metadata": {
        "id": "AYO85yzp5hlK",
        "colab_type": "code",
        "colab": {}
      },
      "cell_type": "code",
      "source": [
        "columns = ['id', 'word', 'vec']\n",
        "data = {'id': [], 'word': [], 'vec': []}\n",
        "for id in classes:\n",
        "    data['id'].append(id)\n",
        "    data['word'].append(syn2word[id])\n",
        "    data['vec'].append(word2vec[syn2word[id]][:5])\n",
        "    \n",
        "df = pd.DataFrame(data, columns=columns); df"
      ],
      "execution_count": 0,
      "outputs": []
    },
    {
      "metadata": {
        "id": "HTTuBgE1_i2_",
        "colab_type": "text"
      },
      "cell_type": "markdown",
      "source": [
        "same problem, a lot of the classes in the dataset just do not exist in word2vec, will try a new way for combined words. basically take the average of word2vec for each word of the composite word. E.g. w2v('arabian_camel') = (w2v('arabian') + w2v('camel'))/2"
      ]
    },
    {
      "metadata": {
        "id": "5QR4vy0n_rf5",
        "colab_type": "code",
        "colab": {}
      },
      "cell_type": "code",
      "source": [
        "def get_vec_by_word(word, vec_size=300):\n",
        "    # if word is in w2v then return it's vector\n",
        "    if word in word2vec:\n",
        "        return word2vec[word]\n",
        "    # otherwise take the average of vectors of each word in this comopsite word\n",
        "    vec = np.zeros((vec_size), dtype=np.float32)\n",
        "    words = word.split('_')\n",
        "    # return the vectors mean if the word is composite of one item\n",
        "    if len(words)==1:\n",
        "        return word2vec_mean\n",
        "    for w in words:\n",
        "        vec = vec + get_vec_by_word(w)\n",
        "    return vec / len(words)"
      ],
      "execution_count": 0,
      "outputs": []
    },
    {
      "metadata": {
        "id": "Df--5njCCliZ",
        "colab_type": "code",
        "colab": {
          "base_uri": "https://localhost:8080/",
          "height": 1969
        },
        "outputId": "d832f650-d8a4-43c8-ef74-4ada5413b0fd"
      },
      "cell_type": "code",
      "source": [
        "columns = ['id', 'word', 'vec']\n",
        "data = {'id': [], 'word': [], 'vec': []}\n",
        "for id in classes:\n",
        "    data['id'].append(id)\n",
        "    data['word'].append(syn2word[id])\n",
        "    data['vec'].append(get_vec_by_word(syn2word[id])[:5])\n",
        "    \n",
        "df = pd.DataFrame(data, columns=columns); df"
      ],
      "execution_count": 84,
      "outputs": [
        {
          "output_type": "execute_result",
          "data": {
            "text/html": [
              "<div>\n",
              "<style scoped>\n",
              "    .dataframe tbody tr th:only-of-type {\n",
              "        vertical-align: middle;\n",
              "    }\n",
              "\n",
              "    .dataframe tbody tr th {\n",
              "        vertical-align: top;\n",
              "    }\n",
              "\n",
              "    .dataframe thead th {\n",
              "        text-align: right;\n",
              "    }\n",
              "</style>\n",
              "<table border=\"1\" class=\"dataframe\">\n",
              "  <thead>\n",
              "    <tr style=\"text-align: right;\">\n",
              "      <th></th>\n",
              "      <th>id</th>\n",
              "      <th>word</th>\n",
              "      <th>vec</th>\n",
              "    </tr>\n",
              "  </thead>\n",
              "  <tbody>\n",
              "    <tr>\n",
              "      <th>0</th>\n",
              "      <td>n02124075</td>\n",
              "      <td>egyptian_cat</td>\n",
              "      <td>[0.02573499, 0.1776477, -0.178315, 0.33020002,...</td>\n",
              "    </tr>\n",
              "    <tr>\n",
              "      <th>1</th>\n",
              "      <td>n04067472</td>\n",
              "      <td>reel</td>\n",
              "      <td>[0.016588, -0.094442, 0.15765, 0.17304, 0.024277]</td>\n",
              "    </tr>\n",
              "    <tr>\n",
              "      <th>2</th>\n",
              "      <td>n04540053</td>\n",
              "      <td>volleyball</td>\n",
              "      <td>[0.15765, 0.040266, 0.31476, -0.10253, 0.036466]</td>\n",
              "    </tr>\n",
              "    <tr>\n",
              "      <th>3</th>\n",
              "      <td>n04099969</td>\n",
              "      <td>rocking_chair</td>\n",
              "      <td>[0.07744346317611561, -0.10193719430836931, 0....</td>\n",
              "    </tr>\n",
              "    <tr>\n",
              "      <th>4</th>\n",
              "      <td>n07749582</td>\n",
              "      <td>lemon</td>\n",
              "      <td>[0.24505, 0.17176, -0.31541, 0.17588, -0.45948]</td>\n",
              "    </tr>\n",
              "    <tr>\n",
              "      <th>5</th>\n",
              "      <td>n01641577</td>\n",
              "      <td>bullfrog</td>\n",
              "      <td>[0.038786927997319406, -0.031384387891946135, ...</td>\n",
              "    </tr>\n",
              "    <tr>\n",
              "      <th>6</th>\n",
              "      <td>n02802426</td>\n",
              "      <td>basketball</td>\n",
              "      <td>[0.17258, 0.36258, 0.49329, 0.016541, -0.083436]</td>\n",
              "    </tr>\n",
              "    <tr>\n",
              "      <th>7</th>\n",
              "      <td>n09246464</td>\n",
              "      <td>cliff</td>\n",
              "      <td>[0.19094, 0.040209, 0.12837, -0.019678, -0.088...</td>\n",
              "    </tr>\n",
              "    <tr>\n",
              "      <th>8</th>\n",
              "      <td>n07920052</td>\n",
              "      <td>espresso</td>\n",
              "      <td>[0.038786927997319406, -0.031384387891946135, ...</td>\n",
              "    </tr>\n",
              "    <tr>\n",
              "      <th>9</th>\n",
              "      <td>n03970156</td>\n",
              "      <td>plunger</td>\n",
              "      <td>[0.038786927997319406, -0.031384387891946135, ...</td>\n",
              "    </tr>\n",
              "    <tr>\n",
              "      <th>10</th>\n",
              "      <td>n03891332</td>\n",
              "      <td>parking_meter</td>\n",
              "      <td>[0.021817913891374323, 0.11292780474749312, -0...</td>\n",
              "    </tr>\n",
              "    <tr>\n",
              "      <th>11</th>\n",
              "      <td>n02106662</td>\n",
              "      <td>german_shepherd</td>\n",
              "      <td>[-0.1652585, 0.12625149, 0.13772, 0.20295301, ...</td>\n",
              "    </tr>\n",
              "    <tr>\n",
              "      <th>12</th>\n",
              "      <td>n03201208</td>\n",
              "      <td>dining_table</td>\n",
              "      <td>[0.21584345903955326, -0.04626969336542383, 0....</td>\n",
              "    </tr>\n",
              "    <tr>\n",
              "      <th>13</th>\n",
              "      <td>n02279972</td>\n",
              "      <td>monarch</td>\n",
              "      <td>[0.038786927997319406, -0.031384387891946135, ...</td>\n",
              "    </tr>\n",
              "    <tr>\n",
              "      <th>14</th>\n",
              "      <td>n02132136</td>\n",
              "      <td>brown_bear</td>\n",
              "      <td>[0.18272, 0.068891, -0.202725, -0.164507, 0.12...</td>\n",
              "    </tr>\n",
              "    <tr>\n",
              "      <th>15</th>\n",
              "      <td>n04146614</td>\n",
              "      <td>school_bus</td>\n",
              "      <td>[-0.29951, 0.037249997, -0.08709001, 0.0942060...</td>\n",
              "    </tr>\n",
              "    <tr>\n",
              "      <th>16</th>\n",
              "      <td>n07873807</td>\n",
              "      <td>pizza</td>\n",
              "      <td>[-0.17174, -0.42478, 0.14483, 0.051931, -0.18506]</td>\n",
              "    </tr>\n",
              "    <tr>\n",
              "      <th>17</th>\n",
              "      <td>n02364673</td>\n",
              "      <td>guinea_pig</td>\n",
              "      <td>[0.036814, -0.6114, 0.31990802, 0.150224, 0.01...</td>\n",
              "    </tr>\n",
              "    <tr>\n",
              "      <th>18</th>\n",
              "      <td>n04507155</td>\n",
              "      <td>umbrella</td>\n",
              "      <td>[0.14714, -0.2947, 0.13154, 0.16342, -0.2449]</td>\n",
              "    </tr>\n",
              "    <tr>\n",
              "      <th>19</th>\n",
              "      <td>n03854065</td>\n",
              "      <td>organ</td>\n",
              "      <td>[0.27493, 0.031889, 0.067563, -0.020287, 0.12708]</td>\n",
              "    </tr>\n",
              "    <tr>\n",
              "      <th>20</th>\n",
              "      <td>n03838899</td>\n",
              "      <td>oboe</td>\n",
              "      <td>[0.038786927997319406, -0.031384387891946135, ...</td>\n",
              "    </tr>\n",
              "    <tr>\n",
              "      <th>21</th>\n",
              "      <td>n03733131</td>\n",
              "      <td>maypole</td>\n",
              "      <td>[0.038786927997319406, -0.031384387891946135, ...</td>\n",
              "    </tr>\n",
              "    <tr>\n",
              "      <th>22</th>\n",
              "      <td>n01443537</td>\n",
              "      <td>goldfish</td>\n",
              "      <td>[0.038786927997319406, -0.031384387891946135, ...</td>\n",
              "    </tr>\n",
              "    <tr>\n",
              "      <th>23</th>\n",
              "      <td>n07875152</td>\n",
              "      <td>potpie</td>\n",
              "      <td>[0.038786927997319406, -0.031384387891946135, ...</td>\n",
              "    </tr>\n",
              "    <tr>\n",
              "      <th>24</th>\n",
              "      <td>n03544143</td>\n",
              "      <td>hourglass</td>\n",
              "      <td>[0.038786927997319406, -0.031384387891946135, ...</td>\n",
              "    </tr>\n",
              "    <tr>\n",
              "      <th>25</th>\n",
              "      <td>n09428293</td>\n",
              "      <td>seashore</td>\n",
              "      <td>[0.038786927997319406, -0.031384387891946135, ...</td>\n",
              "    </tr>\n",
              "    <tr>\n",
              "      <th>26</th>\n",
              "      <td>n03085013</td>\n",
              "      <td>computer_keyboard</td>\n",
              "      <td>[-0.18217601, -0.14240499, 0.1596815, 0.223875...</td>\n",
              "    </tr>\n",
              "    <tr>\n",
              "      <th>27</th>\n",
              "      <td>n02437312</td>\n",
              "      <td>arabian_camel</td>\n",
              "      <td>[-0.18018384, 0.172933, 0.29007584, 0.15988, 0...</td>\n",
              "    </tr>\n",
              "    <tr>\n",
              "      <th>28</th>\n",
              "      <td>n07614500</td>\n",
              "      <td>ice_cream</td>\n",
              "      <td>[0.11971, -0.026165009, 0.135675, 0.289835, -0...</td>\n",
              "    </tr>\n",
              "    <tr>\n",
              "      <th>29</th>\n",
              "      <td>n03804744</td>\n",
              "      <td>nail</td>\n",
              "      <td>[-0.0066931, -0.22788, -0.18343, 0.26068, -0.4...</td>\n",
              "    </tr>\n",
              "    <tr>\n",
              "      <th>...</th>\n",
              "      <td>...</td>\n",
              "      <td>...</td>\n",
              "      <td>...</td>\n",
              "    </tr>\n",
              "    <tr>\n",
              "      <th>170</th>\n",
              "      <td>n07768694</td>\n",
              "      <td>pomegranate</td>\n",
              "      <td>[0.038786927997319406, -0.031384387891946135, ...</td>\n",
              "    </tr>\n",
              "    <tr>\n",
              "      <th>171</th>\n",
              "      <td>n02999410</td>\n",
              "      <td>chain</td>\n",
              "      <td>[-0.028287, 0.42074, -0.12116, 0.73364, -0.22147]</td>\n",
              "    </tr>\n",
              "    <tr>\n",
              "      <th>172</th>\n",
              "      <td>n03617480</td>\n",
              "      <td>kimono</td>\n",
              "      <td>[-0.041503, 0.0094086, 0.19183, 0.00033086, -0...</td>\n",
              "    </tr>\n",
              "    <tr>\n",
              "      <th>173</th>\n",
              "      <td>n06596364</td>\n",
              "      <td>comic_book</td>\n",
              "      <td>[-0.13182801, -0.052607004, 0.034329996, -0.05...</td>\n",
              "    </tr>\n",
              "    <tr>\n",
              "      <th>174</th>\n",
              "      <td>n01768244</td>\n",
              "      <td>trilobite</td>\n",
              "      <td>[0.038786927997319406, -0.031384387891946135, ...</td>\n",
              "    </tr>\n",
              "    <tr>\n",
              "      <th>175</th>\n",
              "      <td>n02410509</td>\n",
              "      <td>bison</td>\n",
              "      <td>[0.23263, 0.020765, -0.25701, -0.099852, 0.17123]</td>\n",
              "    </tr>\n",
              "    <tr>\n",
              "      <th>176</th>\n",
              "      <td>n03976657</td>\n",
              "      <td>pole</td>\n",
              "      <td>[-0.082861, -0.27316, 0.25484, 0.18978, -0.41171]</td>\n",
              "    </tr>\n",
              "    <tr>\n",
              "      <th>177</th>\n",
              "      <td>n01742172</td>\n",
              "      <td>boa_constrictor</td>\n",
              "      <td>[-0.097137496, 0.009005003, 0.13919999, 0.0642...</td>\n",
              "    </tr>\n",
              "    <tr>\n",
              "      <th>178</th>\n",
              "      <td>n03980874</td>\n",
              "      <td>poncho</td>\n",
              "      <td>[0.10501, 0.16632, 0.0039185, 0.24765, -0.20835]</td>\n",
              "    </tr>\n",
              "    <tr>\n",
              "      <th>179</th>\n",
              "      <td>n02808440</td>\n",
              "      <td>bathtub</td>\n",
              "      <td>[0.038786927997319406, -0.031384387891946135, ...</td>\n",
              "    </tr>\n",
              "    <tr>\n",
              "      <th>180</th>\n",
              "      <td>n02226429</td>\n",
              "      <td>grasshopper</td>\n",
              "      <td>[0.038786927997319406, -0.031384387891946135, ...</td>\n",
              "    </tr>\n",
              "    <tr>\n",
              "      <th>181</th>\n",
              "      <td>n02231487</td>\n",
              "      <td>walking_stick</td>\n",
              "      <td>[0.096964, 0.18522844, 0.27684, 0.625775, 0.00...</td>\n",
              "    </tr>\n",
              "    <tr>\n",
              "      <th>182</th>\n",
              "      <td>n02085620</td>\n",
              "      <td>chihuahua</td>\n",
              "      <td>[0.45591, 0.28771, 0.068404, 0.17834, -0.20764]</td>\n",
              "    </tr>\n",
              "    <tr>\n",
              "      <th>183</th>\n",
              "      <td>n01644900</td>\n",
              "      <td>tailed_frog</td>\n",
              "      <td>[-0.005722536325827983, -0.027926693623988776,...</td>\n",
              "    </tr>\n",
              "    <tr>\n",
              "      <th>184</th>\n",
              "      <td>n02129165</td>\n",
              "      <td>lion</td>\n",
              "      <td>[-0.25668, 0.33324, -0.23172, -0.045762, 0.0202]</td>\n",
              "    </tr>\n",
              "    <tr>\n",
              "      <th>185</th>\n",
              "      <td>n02699494</td>\n",
              "      <td>altar</td>\n",
              "      <td>[0.221, -0.34878, -0.22444, -0.13371, -0.36206]</td>\n",
              "    </tr>\n",
              "    <tr>\n",
              "      <th>186</th>\n",
              "      <td>n03837869</td>\n",
              "      <td>obelisk</td>\n",
              "      <td>[0.038786927997319406, -0.031384387891946135, ...</td>\n",
              "    </tr>\n",
              "    <tr>\n",
              "      <th>187</th>\n",
              "      <td>n02815834</td>\n",
              "      <td>beaker</td>\n",
              "      <td>[-0.069319, 0.17042, -0.030502, 0.017046, -0.1...</td>\n",
              "    </tr>\n",
              "    <tr>\n",
              "      <th>188</th>\n",
              "      <td>n07720875</td>\n",
              "      <td>bell_pepper</td>\n",
              "      <td>[0.0584935, 0.062075, 0.0259955, 0.172933, 0.0...</td>\n",
              "    </tr>\n",
              "    <tr>\n",
              "      <th>189</th>\n",
              "      <td>n02788148</td>\n",
              "      <td>bannister</td>\n",
              "      <td>[0.038786927997319406, -0.031384387891946135, ...</td>\n",
              "    </tr>\n",
              "    <tr>\n",
              "      <th>190</th>\n",
              "      <td>n02909870</td>\n",
              "      <td>bucket</td>\n",
              "      <td>[0.022102, 0.019165, 0.21929, 0.12114, -0.11526]</td>\n",
              "    </tr>\n",
              "    <tr>\n",
              "      <th>191</th>\n",
              "      <td>n03706229</td>\n",
              "      <td>magnetic_compass</td>\n",
              "      <td>[0.2122505, -0.055419996, 0.1343985, 0.1822449...</td>\n",
              "    </tr>\n",
              "    <tr>\n",
              "      <th>192</th>\n",
              "      <td>n07871810</td>\n",
              "      <td>meat_loaf</td>\n",
              "      <td>[0.07679846268854962, 0.14518279866305098, 0.0...</td>\n",
              "    </tr>\n",
              "    <tr>\n",
              "      <th>193</th>\n",
              "      <td>n03447447</td>\n",
              "      <td>gondola</td>\n",
              "      <td>[0.038786927997319406, -0.031384387891946135, ...</td>\n",
              "    </tr>\n",
              "    <tr>\n",
              "      <th>194</th>\n",
              "      <td>n02113799</td>\n",
              "      <td>standard_poodle</td>\n",
              "      <td>[-0.08962653818763866, -0.03975869431170717, -...</td>\n",
              "    </tr>\n",
              "    <tr>\n",
              "      <th>195</th>\n",
              "      <td>n12267677</td>\n",
              "      <td>acorn</td>\n",
              "      <td>[-0.064807, 0.021106, 0.0074383, 0.39244, 0.06...</td>\n",
              "    </tr>\n",
              "    <tr>\n",
              "      <th>196</th>\n",
              "      <td>n03662601</td>\n",
              "      <td>lifeboat</td>\n",
              "      <td>[0.0018458, 0.15147, -0.047201, -0.052172, 0.0...</td>\n",
              "    </tr>\n",
              "    <tr>\n",
              "      <th>197</th>\n",
              "      <td>n02841315</td>\n",
              "      <td>binoculars</td>\n",
              "      <td>[0.038786927997319406, -0.031384387891946135, ...</td>\n",
              "    </tr>\n",
              "    <tr>\n",
              "      <th>198</th>\n",
              "      <td>n07715103</td>\n",
              "      <td>cauliflower</td>\n",
              "      <td>[0.038786927997319406, -0.031384387891946135, ...</td>\n",
              "    </tr>\n",
              "    <tr>\n",
              "      <th>199</th>\n",
              "      <td>n02504458</td>\n",
              "      <td>african_elephant</td>\n",
              "      <td>[0.0729205, -0.2492526, 0.386115, 0.455455, -0...</td>\n",
              "    </tr>\n",
              "  </tbody>\n",
              "</table>\n",
              "<p>200 rows × 3 columns</p>\n",
              "</div>"
            ],
            "text/plain": [
              "            id               word  \\\n",
              "0    n02124075       egyptian_cat   \n",
              "1    n04067472               reel   \n",
              "2    n04540053         volleyball   \n",
              "3    n04099969      rocking_chair   \n",
              "4    n07749582              lemon   \n",
              "5    n01641577           bullfrog   \n",
              "6    n02802426         basketball   \n",
              "7    n09246464              cliff   \n",
              "8    n07920052           espresso   \n",
              "9    n03970156            plunger   \n",
              "10   n03891332      parking_meter   \n",
              "11   n02106662    german_shepherd   \n",
              "12   n03201208       dining_table   \n",
              "13   n02279972            monarch   \n",
              "14   n02132136         brown_bear   \n",
              "15   n04146614         school_bus   \n",
              "16   n07873807              pizza   \n",
              "17   n02364673         guinea_pig   \n",
              "18   n04507155           umbrella   \n",
              "19   n03854065              organ   \n",
              "20   n03838899               oboe   \n",
              "21   n03733131            maypole   \n",
              "22   n01443537           goldfish   \n",
              "23   n07875152             potpie   \n",
              "24   n03544143          hourglass   \n",
              "25   n09428293           seashore   \n",
              "26   n03085013  computer_keyboard   \n",
              "27   n02437312      arabian_camel   \n",
              "28   n07614500          ice_cream   \n",
              "29   n03804744               nail   \n",
              "..         ...                ...   \n",
              "170  n07768694        pomegranate   \n",
              "171  n02999410              chain   \n",
              "172  n03617480             kimono   \n",
              "173  n06596364         comic_book   \n",
              "174  n01768244          trilobite   \n",
              "175  n02410509              bison   \n",
              "176  n03976657               pole   \n",
              "177  n01742172    boa_constrictor   \n",
              "178  n03980874             poncho   \n",
              "179  n02808440            bathtub   \n",
              "180  n02226429        grasshopper   \n",
              "181  n02231487      walking_stick   \n",
              "182  n02085620          chihuahua   \n",
              "183  n01644900        tailed_frog   \n",
              "184  n02129165               lion   \n",
              "185  n02699494              altar   \n",
              "186  n03837869            obelisk   \n",
              "187  n02815834             beaker   \n",
              "188  n07720875        bell_pepper   \n",
              "189  n02788148          bannister   \n",
              "190  n02909870             bucket   \n",
              "191  n03706229   magnetic_compass   \n",
              "192  n07871810          meat_loaf   \n",
              "193  n03447447            gondola   \n",
              "194  n02113799    standard_poodle   \n",
              "195  n12267677              acorn   \n",
              "196  n03662601           lifeboat   \n",
              "197  n02841315         binoculars   \n",
              "198  n07715103        cauliflower   \n",
              "199  n02504458   african_elephant   \n",
              "\n",
              "                                                   vec  \n",
              "0    [0.02573499, 0.1776477, -0.178315, 0.33020002,...  \n",
              "1    [0.016588, -0.094442, 0.15765, 0.17304, 0.024277]  \n",
              "2     [0.15765, 0.040266, 0.31476, -0.10253, 0.036466]  \n",
              "3    [0.07744346317611561, -0.10193719430836931, 0....  \n",
              "4      [0.24505, 0.17176, -0.31541, 0.17588, -0.45948]  \n",
              "5    [0.038786927997319406, -0.031384387891946135, ...  \n",
              "6     [0.17258, 0.36258, 0.49329, 0.016541, -0.083436]  \n",
              "7    [0.19094, 0.040209, 0.12837, -0.019678, -0.088...  \n",
              "8    [0.038786927997319406, -0.031384387891946135, ...  \n",
              "9    [0.038786927997319406, -0.031384387891946135, ...  \n",
              "10   [0.021817913891374323, 0.11292780474749312, -0...  \n",
              "11   [-0.1652585, 0.12625149, 0.13772, 0.20295301, ...  \n",
              "12   [0.21584345903955326, -0.04626969336542383, 0....  \n",
              "13   [0.038786927997319406, -0.031384387891946135, ...  \n",
              "14   [0.18272, 0.068891, -0.202725, -0.164507, 0.12...  \n",
              "15   [-0.29951, 0.037249997, -0.08709001, 0.0942060...  \n",
              "16   [-0.17174, -0.42478, 0.14483, 0.051931, -0.18506]  \n",
              "17   [0.036814, -0.6114, 0.31990802, 0.150224, 0.01...  \n",
              "18       [0.14714, -0.2947, 0.13154, 0.16342, -0.2449]  \n",
              "19   [0.27493, 0.031889, 0.067563, -0.020287, 0.12708]  \n",
              "20   [0.038786927997319406, -0.031384387891946135, ...  \n",
              "21   [0.038786927997319406, -0.031384387891946135, ...  \n",
              "22   [0.038786927997319406, -0.031384387891946135, ...  \n",
              "23   [0.038786927997319406, -0.031384387891946135, ...  \n",
              "24   [0.038786927997319406, -0.031384387891946135, ...  \n",
              "25   [0.038786927997319406, -0.031384387891946135, ...  \n",
              "26   [-0.18217601, -0.14240499, 0.1596815, 0.223875...  \n",
              "27   [-0.18018384, 0.172933, 0.29007584, 0.15988, 0...  \n",
              "28   [0.11971, -0.026165009, 0.135675, 0.289835, -0...  \n",
              "29   [-0.0066931, -0.22788, -0.18343, 0.26068, -0.4...  \n",
              "..                                                 ...  \n",
              "170  [0.038786927997319406, -0.031384387891946135, ...  \n",
              "171  [-0.028287, 0.42074, -0.12116, 0.73364, -0.22147]  \n",
              "172  [-0.041503, 0.0094086, 0.19183, 0.00033086, -0...  \n",
              "173  [-0.13182801, -0.052607004, 0.034329996, -0.05...  \n",
              "174  [0.038786927997319406, -0.031384387891946135, ...  \n",
              "175  [0.23263, 0.020765, -0.25701, -0.099852, 0.17123]  \n",
              "176  [-0.082861, -0.27316, 0.25484, 0.18978, -0.41171]  \n",
              "177  [-0.097137496, 0.009005003, 0.13919999, 0.0642...  \n",
              "178   [0.10501, 0.16632, 0.0039185, 0.24765, -0.20835]  \n",
              "179  [0.038786927997319406, -0.031384387891946135, ...  \n",
              "180  [0.038786927997319406, -0.031384387891946135, ...  \n",
              "181  [0.096964, 0.18522844, 0.27684, 0.625775, 0.00...  \n",
              "182    [0.45591, 0.28771, 0.068404, 0.17834, -0.20764]  \n",
              "183  [-0.005722536325827983, -0.027926693623988776,...  \n",
              "184   [-0.25668, 0.33324, -0.23172, -0.045762, 0.0202]  \n",
              "185    [0.221, -0.34878, -0.22444, -0.13371, -0.36206]  \n",
              "186  [0.038786927997319406, -0.031384387891946135, ...  \n",
              "187  [-0.069319, 0.17042, -0.030502, 0.017046, -0.1...  \n",
              "188  [0.0584935, 0.062075, 0.0259955, 0.172933, 0.0...  \n",
              "189  [0.038786927997319406, -0.031384387891946135, ...  \n",
              "190   [0.022102, 0.019165, 0.21929, 0.12114, -0.11526]  \n",
              "191  [0.2122505, -0.055419996, 0.1343985, 0.1822449...  \n",
              "192  [0.07679846268854962, 0.14518279866305098, 0.0...  \n",
              "193  [0.038786927997319406, -0.031384387891946135, ...  \n",
              "194  [-0.08962653818763866, -0.03975869431170717, -...  \n",
              "195  [-0.064807, 0.021106, 0.0074383, 0.39244, 0.06...  \n",
              "196  [0.0018458, 0.15147, -0.047201, -0.052172, 0.0...  \n",
              "197  [0.038786927997319406, -0.031384387891946135, ...  \n",
              "198  [0.038786927997319406, -0.031384387891946135, ...  \n",
              "199  [0.0729205, -0.2492526, 0.386115, 0.455455, -0...  \n",
              "\n",
              "[200 rows x 3 columns]"
            ]
          },
          "metadata": {
            "tags": []
          },
          "execution_count": 84
        }
      ]
    },
    {
      "metadata": {
        "id": "oXnJz5ODzkT5",
        "colab_type": "text"
      },
      "cell_type": "markdown",
      "source": [
        "## Model\n",
        "ResNet-50 based model"
      ]
    },
    {
      "metadata": {
        "id": "suielAa6EYBs",
        "colab_type": "code",
        "colab": {}
      },
      "cell_type": "code",
      "source": [
        "batch_size = 64\n",
        "classes_size = 300"
      ],
      "execution_count": 0,
      "outputs": []
    },
    {
      "metadata": {
        "id": "VS0eNL7jjkya",
        "colab_type": "text"
      },
      "cell_type": "markdown",
      "source": [
        "### Data"
      ]
    },
    {
      "metadata": {
        "id": "wJn9OoecjoT8",
        "colab_type": "code",
        "colab": {}
      },
      "cell_type": "code",
      "source": [
        "class ImageGenerator(Sequence):\n",
        "    \"\"\"Generator for a sequence of Images\"\"\"\n",
        "    def __init__(self, path, fnames, labels, classes_size, batch_size, image_size=(224, 224), shuffle=True):\n",
        "        self.path = path\n",
        "        self.image_size, self.batch_size = image_size, batch_size\n",
        "        self.items, self.items_size = fnames, len(fnames)\n",
        "        self.labels = labels\n",
        "        self.classes_size = classes_size\n",
        "        self.indexes = np.arange(self.items_size)\n",
        "        self.shuffle= shuffle\n",
        "        self.on_epoch_end()\n",
        "\n",
        "    def load_urls_(self, indexes):\n",
        "        \"\"\"Load the urls of the images into a tensor\"\"\"\n",
        "        # init target arrays\n",
        "        images = np.zeros((self.batch_size, self.image_size[0], self.image_size[1], 3), dtype=np.float32)\n",
        "        labels = np.zeros((self.batch_size, self.classes_size), dtype=np.float32)\n",
        "        # Find list of urls in this batch\n",
        "        urls = [self.path/self.items[k] for k in indexes]\n",
        "        lbls = [self.labels[k] for k in indexes]\n",
        "        for index, img_path in enumerate(urls):\n",
        "            # read image from url\n",
        "            img = preprocessing.image.load_img(img_path, target_size=self.image_size)\n",
        "            img_data = preprocessing.image.img_to_array(img)\n",
        "            # read the proper label\n",
        "            lbl_data = lbls[index]\n",
        "            # append data\n",
        "            images[index, :] = img_data\n",
        "            labels[index, :] = lbl_data\n",
        "            \n",
        "        return images, labels\n",
        "        \n",
        "    def on_epoch_end(self):\n",
        "        \"\"\"Rearrange the indexes after each epoch\"\"\"\n",
        "        self.indexes = np.arange(self.items_size)\n",
        "        if self.shuffle == True:\n",
        "            np.random.shuffle(self.indexes)\n",
        "\n",
        "    def __len__(self):\n",
        "        \"\"\"Number of batches per epoch\"\"\"\n",
        "        return int(np.floor(self.items_size / self.batch_size))\n",
        "    \n",
        "    def __getitem__(self, index):\n",
        "        \"\"\"Generate one batch of data\"\"\"\n",
        "        # Generate indexes of the batch\n",
        "        indexes = self.indexes[index*self.batch_size:(index+1)*self.batch_size]\n",
        "\n",
        "        # Generate data for the batch\n",
        "        X, y = self.load_urls_(indexes)\n",
        "        return X, y"
      ],
      "execution_count": 0,
      "outputs": []
    },
    {
      "metadata": {
        "id": "6VpALQeUkc4L",
        "colab_type": "text"
      },
      "cell_type": "markdown",
      "source": [
        "A helper class for dealing with image datasets, gathers training/validation/test data into one place"
      ]
    },
    {
      "metadata": {
        "id": "oRs1-BEBvu4Y",
        "colab_type": "code",
        "colab": {}
      },
      "cell_type": "code",
      "source": [
        "def get_label_name_from_fname(self, fname):\n",
        "    \"\"\"Get the name of the image label from the filename\"\"\"\n",
        "    return '_'.join(fname.split('_')[:-1]).lower()\n",
        "    \n",
        "def get_label_index_from_fname(self, fname):\n",
        "    \"\"\"Get the index of the label from the filename\"\"\"\n",
        "    lbl_name = self.get_label_name_from_fname(fname)\n",
        "    return self.classes.index(lbl_name)\n",
        "\n",
        "# get the word from a given image filename\n",
        "def get_label_from_fname(fname):\n",
        "    fname = fname.split('/')\n",
        "    if 'train' in fname:\n",
        "        index = fname.index('train') + 1\n",
        "        synset = fname[index]\n",
        "        word = syn2word[synset]\n",
        "        return word\n",
        "    print('cannot find word for', fname)\n",
        "    return None\n",
        "\n",
        "# get the word2vec representation from a given image filename\n",
        "def get_word2vec_from_fname(fname):\n",
        "    fname = fname.split('/')\n",
        "    if 'train' in fname:\n",
        "        index = fname.index('train') + 1\n",
        "        synset = fname[index]\n",
        "        word = syn2word[synset]\n",
        "        vec = get_vec_by_word(word)\n",
        "        return vec    \n",
        "    print('cannot find word2vec representation for', fname)\n",
        "    return None"
      ],
      "execution_count": 0,
      "outputs": []
    },
    {
      "metadata": {
        "id": "gaVwpGyg5HWF",
        "colab_type": "code",
        "outputId": "e8c841df-3483-43f7-97ac-e7b356155093",
        "colab": {
          "base_uri": "https://localhost:8080/",
          "height": 187
        }
      },
      "cell_type": "code",
      "source": [
        "!head tiny-imagenet-200/val/val_annotations.txt"
      ],
      "execution_count": 88,
      "outputs": [
        {
          "output_type": "stream",
          "text": [
            "val_0.JPEG\tn03444034\t0\t32\t44\t62\n",
            "val_1.JPEG\tn04067472\t52\t55\t57\t59\n",
            "val_2.JPEG\tn04070727\t4\t0\t60\t55\n",
            "val_3.JPEG\tn02808440\t3\t3\t63\t63\n",
            "val_4.JPEG\tn02808440\t9\t27\t63\t48\n",
            "val_5.JPEG\tn04399382\t7\t0\t59\t63\n",
            "val_6.JPEG\tn04179913\t0\t0\t63\t56\n",
            "val_7.JPEG\tn02823428\t5\t0\t57\t63\n",
            "val_8.JPEG\tn04146614\t0\t31\t60\t60\n",
            "val_9.JPEG\tn02226429\t0\t3\t63\t57\n"
          ],
          "name": "stdout"
        }
      ]
    },
    {
      "metadata": {
        "id": "JM6kV4VMw-US",
        "colab_type": "text"
      },
      "cell_type": "markdown",
      "source": [
        "data bunch for gathering train/validation/test sets in one place"
      ]
    },
    {
      "metadata": {
        "id": "PMnNiR0kkb1o",
        "colab_type": "code",
        "colab": {}
      },
      "cell_type": "code",
      "source": [
        "def ceildiv(a, b):\n",
        "    return -(-a // b)\n",
        "\n",
        "def plots_from_files(imspaths, figsize=(10,5), rows=1, titles=None, maintitle=None):\n",
        "    \"\"\"Plot the images in a grid\"\"\"\n",
        "    f = plt.figure(figsize=figsize)\n",
        "    if maintitle is not None: plt.suptitle(maintitle, fontsize=10)\n",
        "    for i in range(len(imspaths)):\n",
        "        sp = f.add_subplot(rows, ceildiv(len(imspaths), rows), i+1)\n",
        "        sp.axis('Off')\n",
        "        if titles is not None: sp.set_title(titles[i], fontsize=16)\n",
        "        img = plt.imread(imspaths[i])\n",
        "        plt.imshow(img)\n",
        "\n",
        "\n",
        "class DataBunch():\n",
        "    \"\"\"An image data bunch\"\"\"\n",
        "    def __init__(self, path, classes_size, train_gen, valid_gen, test_gen=None):\n",
        "        self.path = path\n",
        "        self.cls_size = classes_size\n",
        "        self.train_gen = train_gen\n",
        "        self.valid_gen = valid_gen\n",
        "        self.test_gen = test_gen\n",
        "    \n",
        "    def show_bunch(self, get_title, rows=3, figsize=(7, 6), **kwargs):\n",
        "        \"\"\"Show a bunch of images from the dataset\"\"\"\n",
        "        imspaths = np.random.choice(self.train_gen.items, 9)\n",
        "        # '_'.join(p.split('_')[:-1]).lower()\n",
        "        titles = [get_title(p) for p in imspaths]\n",
        "        imspaths = [(path/p).as_posix() for p in imspaths]\n",
        "        plots_from_files(imspaths, figsize, rows, titles)\n",
        "\n",
        "    @property\n",
        "    def c(self):\n",
        "        return self.classes       \n",
        "    @property\n",
        "    def classes_size(self):\n",
        "        return self.cls_size"
      ],
      "execution_count": 0,
      "outputs": []
    },
    {
      "metadata": {
        "id": "9bk5Ux8qD-02",
        "colab_type": "text"
      },
      "cell_type": "markdown",
      "source": [
        "#### training dataset"
      ]
    },
    {
      "metadata": {
        "id": "2-90vtLvlvtH",
        "colab_type": "code",
        "outputId": "7d809042-c8f9-47cb-c532-cc5ff4a3355a",
        "colab": {
          "base_uri": "https://localhost:8080/",
          "height": 34
        }
      },
      "cell_type": "code",
      "source": [
        "pattern = '*/images/*.JPEG'\n",
        "# training set\n",
        "train_fnames = [p.as_posix() for p in (imagenet_path/'train').glob(pattern)]\n",
        "train_labels = [get_word2vec_from_fname(p.as_posix()) for p in (imagenet_path/'train').glob(pattern)]\n",
        "# generator\n",
        "train_gen = ImageGenerator(path, train_fnames, train_labels, classes_size, batch_size)\n",
        "print('Training set has %d batches of size %d' % (len(train_gen), batch_size))"
      ],
      "execution_count": 91,
      "outputs": [
        {
          "output_type": "stream",
          "text": [
            "Training set has 1562 batches of size 64\n"
          ],
          "name": "stdout"
        }
      ]
    },
    {
      "metadata": {
        "id": "gCDOVQ7jEliV",
        "colab_type": "text"
      },
      "cell_type": "markdown",
      "source": [
        "#### validation dataset"
      ]
    },
    {
      "metadata": {
        "id": "HUzftxw_o_Rs",
        "colab_type": "code",
        "outputId": "7a7bd0f7-af3d-4222-ffec-2c9bcb5d7ea4",
        "colab": {
          "base_uri": "https://localhost:8080/",
          "height": 34
        }
      },
      "cell_type": "code",
      "source": [
        "# validation set\n",
        "valid_fnames = []\n",
        "valid_labels = []\n",
        "for line in open('tiny-imagenet-200/val/val_annotations.txt'):    \n",
        "    fname, synset = line.split('\\t')[:2]\n",
        "    fname = (imagenet_path/'val/images')/fname\n",
        "    valid_fnames.append(fname.as_posix())\n",
        "    word = syn2word[synset]\n",
        "    vec = get_vec_by_word(word)\n",
        "    valid_labels.append(vec)\n",
        "# generator\n",
        "valid_gen = ImageGenerator(path, valid_fnames, valid_labels, classes_size, batch_size)\n",
        "print('Validation set has %d batches of size %d' % (len(valid_gen), batch_size))"
      ],
      "execution_count": 92,
      "outputs": [
        {
          "output_type": "stream",
          "text": [
            "Validation set has 156 batches of size 64\n"
          ],
          "name": "stdout"
        }
      ]
    },
    {
      "metadata": {
        "id": "oZfAgtuCEuPE",
        "colab_type": "text"
      },
      "cell_type": "markdown",
      "source": [
        "#### testing dataset"
      ]
    },
    {
      "metadata": {
        "id": "1KpXi6FPEts9",
        "colab_type": "code",
        "outputId": "50684763-f898-4450-b85a-9dbe17ce7d81",
        "colab": {
          "base_uri": "https://localhost:8080/",
          "height": 34
        }
      },
      "cell_type": "code",
      "source": [
        "test_fnames = [p for p in (imagenet_path/'test').glob('images/*.JPEG')]\n",
        "test_gen = ImageGenerator(path, test_fnames, [], classes_size, batch_size)\n",
        "print('Test set has %d batches of size %d' % (len(test_gen), batch_size))"
      ],
      "execution_count": 93,
      "outputs": [
        {
          "output_type": "stream",
          "text": [
            "Test set has 156 batches of size 64\n"
          ],
          "name": "stdout"
        }
      ]
    },
    {
      "metadata": {
        "id": "3B3t2rL_Eqna",
        "colab_type": "text"
      },
      "cell_type": "markdown",
      "source": [
        "#### databunch"
      ]
    },
    {
      "metadata": {
        "id": "m5LAa28iDgjn",
        "colab_type": "code",
        "colab": {}
      },
      "cell_type": "code",
      "source": [
        "# combine all datasets into a bunch\n",
        "data = DataBunch(path, 300, train_gen, valid_gen, test_gen)"
      ],
      "execution_count": 0,
      "outputs": []
    },
    {
      "metadata": {
        "id": "zZIbFTazsw7b",
        "colab_type": "code",
        "outputId": "04fe6a3e-099e-44e2-ad45-5ac1e51049fb",
        "colab": {
          "base_uri": "https://localhost:8080/",
          "height": 392
        }
      },
      "cell_type": "code",
      "source": [
        "data.show_bunch(get_label_from_fname)"
      ],
      "execution_count": 99,
      "outputs": [
        {
          "output_type": "display_data",
          "data": {
            "image/png": "[encoded data removed]",
            "text/plain": [
              "<Figure size 504x432 with 9 Axes>"
            ]
          },
          "metadata": {
            "tags": []
          }
        }
      ]
    },
    {
      "metadata": {
        "id": "cB4KV-_-kWGi",
        "colab_type": "text"
      },
      "cell_type": "markdown",
      "source": [
        "### Learner\n",
        "A ResNet-50 based architecture"
      ]
    },
    {
      "metadata": {
        "id": "HQPE2dskuCv2",
        "colab_type": "code",
        "colab": {}
      },
      "cell_type": "code",
      "source": [
        "class Learner():\n",
        "    \"\"\"Base learner object\"\"\"\n",
        "    def __init__(self):\n",
        "        pass\n",
        "            \n",
        "    # freeze all layers of the model (from left to right)\n",
        "    @classmethod\n",
        "    def freeze(cls, model, limit=None):\n",
        "        # handle negative indices\n",
        "        if limit != None and limit < -1:\n",
        "            limit = limit + len(model.layers) \n",
        "        # loop for all valid indices and mark the corresponding layer\n",
        "        for index, layer in enumerate(model.layers):\n",
        "            if limit != None and index > limit:\n",
        "                break\n",
        "            layer.trainable = False\n",
        "\n",
        "    # unfreeze all layers of the model up to the given layer index (from right to left)\n",
        "    @classmethod\n",
        "    def unfreeze(cls, model, limit=None):\n",
        "        # handle negative indices\n",
        "        if limit != None and limit < -1:\n",
        "            limit = limit + len(model.layers)\n",
        "        for index, layer in enumerate(model.layers):\n",
        "            if limit != None and index < limit:\n",
        "                continue\n",
        "            layer.trainable = True"
      ],
      "execution_count": 0,
      "outputs": []
    },
    {
      "metadata": {
        "id": "-WPCmOYmypYL",
        "colab_type": "code",
        "colab": {}
      },
      "cell_type": "code",
      "source": [
        "class ImageClassificationLearner(Learner):\n",
        "    \"\"\"Image classification learner\"\"\"\n",
        "    def __init__(self, data, archi, loss='categorical_crossentropy', metrics=['accuracy']):\n",
        "        self.data = data\n",
        "        self.model = self._create_model(archi)\n",
        "        # compile the model to before training\n",
        "        adam = Adam(lr=0.001, epsilon=0.01, decay=0.0001)\n",
        "        self.model.compile(adam, loss, metrics)\n",
        "        \n",
        "\n",
        "    def _create_model(self, archi):\n",
        "        model1 = ResNet50(weights='imagenet')\n",
        "        # 1. freeze the original model up to the last layer we will keep\n",
        "        Learner.freeze(model1, -3)\n",
        "        # 2. create a new model that will be chained to the output of our base model\n",
        "        x = model1.layers[-3].output          # shape should be (bs=None, 7, 7, 2048)\n",
        "        x = Dropout(rate=0.3)(x)              # shape should be (bs=None, 7, 7, 2048)\n",
        "        x = GlobalAveragePooling2D()(x)       # shape should be (bs=None, 2048)\n",
        "        x = Dense(1024, activation='relu')(x) # shape should be (bs=None, 1024)\n",
        "        x = BatchNormalization()(x)\n",
        "        y = Dense(self.data.classes_size, activation='linear')(x) # shape should be (bs=None, num_champti\n",
        "        model2 = Model(inputs=model1.input, outputs=y)\n",
        "        return model2\n",
        "        \n",
        "    def fit(self, epochs=5):\n",
        "        # fit the model using the previous generators\n",
        "        train_gen = self.data.train_gen\n",
        "        valid_gen = self.data.valid_gen\n",
        "        history = self.model.fit_generator(generator=train_gen, validation_data=valid_gen, epochs=epochs, use_multiprocessing=True)\n",
        "        return history"
      ],
      "execution_count": 0,
      "outputs": []
    },
    {
      "metadata": {
        "id": "G83YKQR_OHqI",
        "colab_type": "text"
      },
      "cell_type": "markdown",
      "source": [
        "Loss function Cosine Distance"
      ]
    },
    {
      "metadata": {
        "id": "2v6RZB5LL1ho",
        "colab_type": "code",
        "colab": {}
      },
      "cell_type": "code",
      "source": [
        "# the loss function as an inverse cosine distance\n",
        "def cosine_loss(y, y_hat):\n",
        "    # unit-normalize y and y_hat ()\n",
        "    y = tf.math.l2_normalize(y, axis=1)\n",
        "    y_hat = tf.math.l2_normalize(y_hat, axis=1)\n",
        "    # cosine distance for normalized tensors\n",
        "    loss = tf.losses.cosine_distance(y, y_hat, axis=1)\n",
        "    return loss"
      ],
      "execution_count": 0,
      "outputs": []
    },
    {
      "metadata": {
        "id": "FOTytY-rdRA1",
        "colab_type": "text"
      },
      "cell_type": "markdown",
      "source": [
        "### Training"
      ]
    },
    {
      "metadata": {
        "id": "aZgL3Oj_A3Bw",
        "colab_type": "code",
        "colab": {
          "base_uri": "https://localhost:8080/",
          "height": 51
        },
        "outputId": "b09c7c62-0722-4543-e291-fcea13383940"
      },
      "cell_type": "code",
      "source": [
        "learner = ImageClassificationLearner(data, loss=cosine_loss, archi='resnet50')"
      ],
      "execution_count": 103,
      "outputs": [
        {
          "output_type": "stream",
          "text": [
            "Downloading data from https://github.com/fchollet/deep-learning-models/releases/download/v0.2/resnet50_weights_tf_dim_ordering_tf_kernels.h5\n",
            "102858752/102853048 [==============================] - 3s 0us/step\n"
          ],
          "name": "stdout"
        }
      ]
    },
    {
      "metadata": {
        "id": "4V2F1DGALOq-",
        "colab_type": "code",
        "outputId": "529293c6-a7f6-4ac0-fd74-c0ef12fc4dd0",
        "colab": {
          "base_uri": "https://localhost:8080/",
          "height": 187
        }
      },
      "cell_type": "code",
      "source": [
        "history = learner.fit()"
      ],
      "execution_count": 104,
      "outputs": [
        {
          "output_type": "stream",
          "text": [
            "Epoch 1/5\n",
            "1562/1562 [==============================] - 778s 498ms/step - loss: 0.6982 - acc: 0.1167 - val_loss: 0.4500 - val_acc: 0.1630\n",
            "Epoch 2/5\n",
            "1562/1562 [==============================] - 770s 493ms/step - loss: 0.2771 - acc: 0.4843 - val_loss: 0.3165 - val_acc: 0.4592\n",
            "Epoch 3/5\n",
            "1562/1562 [==============================] - 770s 493ms/step - loss: 0.2543 - acc: 0.5260 - val_loss: 0.2953 - val_acc: 0.4930\n",
            "Epoch 4/5\n",
            "1562/1562 [==============================] - 770s 493ms/step - loss: 0.2479 - acc: 0.5308 - val_loss: 0.2862 - val_acc: 0.5052\n",
            "Epoch 5/5\n",
            "1562/1562 [==============================] - 770s 493ms/step - loss: 0.2443 - acc: 0.5327 - val_loss: 0.2809 - val_acc: 0.5091\n"
          ],
          "name": "stdout"
        }
      ]
    },
    {
      "metadata": {
        "id": "MfgbFoGK4HHS",
        "colab_type": "code",
        "outputId": "9a14b167-5d6a-4361-a3ea-d5b37c6f1d37",
        "colab": {
          "base_uri": "https://localhost:8080/",
          "height": 297
        }
      },
      "cell_type": "code",
      "source": [
        "plt.plot(history.history['loss'], label=\"train\")\n",
        "plt.plot(history.history['val_loss'], label=\"valid\")\n",
        "\n",
        "# Add legend\n",
        "plt.legend(loc='top left')\n",
        "# Add title and x, y labels\n",
        "plt.title(\"Losses over epoch\", fontsize=16, fontweight='bold')\n",
        "#plt.suptitle(\"Random Walk Suptitle\", fontsize=10)\n",
        "plt.xlabel(\"epoch\")\n",
        "plt.ylabel(\"Loss\")\n",
        "\n",
        "plt.show()"
      ],
      "execution_count": 105,
      "outputs": [
        {
          "output_type": "display_data",
          "data": {
            "image/png": "[encoded data removed]",
            "text/plain": [
              "<Figure size 432x288 with 1 Axes>"
            ]
          },
          "metadata": {
            "tags": []
          }
        }
      ]
    },
    {
      "metadata": {
        "id": "8nCVcVyr4UyH",
        "colab_type": "code",
        "outputId": "ddef3b97-018b-4f91-914a-289af50ecfd7",
        "colab": {
          "base_uri": "https://localhost:8080/",
          "height": 297
        }
      },
      "cell_type": "code",
      "source": [
        "plt.plot(history.history['acc'], label=\"train\")\n",
        "plt.plot(history.history['val_acc'], label=\"valid\")\n",
        "\n",
        "# Add legend\n",
        "plt.legend(loc='top left')\n",
        "# Add title and x, y labels\n",
        "plt.title(\"Accuracy over epoch\", fontsize=16, fontweight='bold')\n",
        "#plt.suptitle(\"Random Walk Suptitle\", fontsize=10)\n",
        "plt.xlabel(\"epoch\")\n",
        "plt.ylabel(\"Accuracy\")\n",
        "\n",
        "plt.show()"
      ],
      "execution_count": 106,
      "outputs": [
        {
          "output_type": "display_data",
          "data": {
            "image/png": "[encoded data removed]",
            "text/plain": [
              "<Figure size 432x288 with 1 Axes>"
            ]
          },
          "metadata": {
            "tags": []
          }
        }
      ]
    },
    {
      "metadata": {
        "id": "ZY_yf2fS4XUA",
        "colab_type": "code",
        "colab": {}
      },
      "cell_type": "code",
      "source": [
        "# Save the trained model in an HDF5 file\n",
        "learner.model.save('devise.h5')"
      ],
      "execution_count": 0,
      "outputs": []
    },
    {
      "metadata": {
        "id": "XhmxjmpmXvsz",
        "colab_type": "code",
        "colab": {}
      },
      "cell_type": "code",
      "source": [
        "!cp devise.h5 /content/gdrive/My\\ Drive/data/models\n",
        "#!cp  /content/gdrive/My\\ Drive/data/models/devise.h5 ."
      ],
      "execution_count": 0,
      "outputs": []
    },
    {
      "metadata": {
        "id": "F-u-y3XB40U0",
        "colab_type": "code",
        "colab": {}
      },
      "cell_type": "code",
      "source": [
        "# Load the trained model\n",
        "model = load_model('devise.h5', custom_objects={'cosine_loss': cosine_loss})"
      ],
      "execution_count": 0,
      "outputs": []
    },
    {
      "metadata": {
        "id": "Yo937DIf7HKT",
        "colab_type": "code",
        "outputId": "3800d952-2a0a-48aa-bf47-31cbab489c2c",
        "colab": {
          "base_uri": "https://localhost:8080/",
          "height": 6528
        }
      },
      "cell_type": "code",
      "source": [
        "model.summary()"
      ],
      "execution_count": 0,
      "outputs": [
        {
          "output_type": "stream",
          "text": [
            "__________________________________________________________________________________________________\n",
            "Layer (type)                    Output Shape         Param #     Connected to                     \n",
            "==================================================================================================\n",
            "input_2 (InputLayer)            (None, 224, 224, 3)  0                                            \n",
            "__________________________________________________________________________________________________\n",
            "conv1_pad (ZeroPadding2D)       (None, 230, 230, 3)  0           input_2[0][0]                    \n",
            "__________________________________________________________________________________________________\n",
            "conv1 (Conv2D)                  (None, 112, 112, 64) 9472        conv1_pad[0][0]                  \n",
            "__________________________________________________________________________________________________\n",
            "bn_conv1 (BatchNormalization)   (None, 112, 112, 64) 256         conv1[0][0]                      \n",
            "__________________________________________________________________________________________________\n",
            "activation_49 (Activation)      (None, 112, 112, 64) 0           bn_conv1[0][0]                   \n",
            "__________________________________________________________________________________________________\n",
            "pool1_pad (ZeroPadding2D)       (None, 114, 114, 64) 0           activation_49[0][0]              \n",
            "__________________________________________________________________________________________________\n",
            "max_pooling2d_1 (MaxPooling2D)  (None, 56, 56, 64)   0           pool1_pad[0][0]                  \n",
            "__________________________________________________________________________________________________\n",
            "res2a_branch2a (Conv2D)         (None, 56, 56, 64)   4160        max_pooling2d_1[0][0]            \n",
            "__________________________________________________________________________________________________\n",
            "bn2a_branch2a (BatchNormalizati (None, 56, 56, 64)   256         res2a_branch2a[0][0]             \n",
            "__________________________________________________________________________________________________\n",
            "activation_50 (Activation)      (None, 56, 56, 64)   0           bn2a_branch2a[0][0]              \n",
            "__________________________________________________________________________________________________\n",
            "res2a_branch2b (Conv2D)         (None, 56, 56, 64)   36928       activation_50[0][0]              \n",
            "__________________________________________________________________________________________________\n",
            "bn2a_branch2b (BatchNormalizati (None, 56, 56, 64)   256         res2a_branch2b[0][0]             \n",
            "__________________________________________________________________________________________________\n",
            "activation_51 (Activation)      (None, 56, 56, 64)   0           bn2a_branch2b[0][0]              \n",
            "__________________________________________________________________________________________________\n",
            "res2a_branch2c (Conv2D)         (None, 56, 56, 256)  16640       activation_51[0][0]              \n",
            "__________________________________________________________________________________________________\n",
            "res2a_branch1 (Conv2D)          (None, 56, 56, 256)  16640       max_pooling2d_1[0][0]            \n",
            "__________________________________________________________________________________________________\n",
            "bn2a_branch2c (BatchNormalizati (None, 56, 56, 256)  1024        res2a_branch2c[0][0]             \n",
            "__________________________________________________________________________________________________\n",
            "bn2a_branch1 (BatchNormalizatio (None, 56, 56, 256)  1024        res2a_branch1[0][0]              \n",
            "__________________________________________________________________________________________________\n",
            "add_16 (Add)                    (None, 56, 56, 256)  0           bn2a_branch2c[0][0]              \n",
            "                                                                 bn2a_branch1[0][0]               \n",
            "__________________________________________________________________________________________________\n",
            "activation_52 (Activation)      (None, 56, 56, 256)  0           add_16[0][0]                     \n",
            "__________________________________________________________________________________________________\n",
            "res2b_branch2a (Conv2D)         (None, 56, 56, 64)   16448       activation_52[0][0]              \n",
            "__________________________________________________________________________________________________\n",
            "bn2b_branch2a (BatchNormalizati (None, 56, 56, 64)   256         res2b_branch2a[0][0]             \n",
            "__________________________________________________________________________________________________\n",
            "activation_53 (Activation)      (None, 56, 56, 64)   0           bn2b_branch2a[0][0]              \n",
            "__________________________________________________________________________________________________\n",
            "res2b_branch2b (Conv2D)         (None, 56, 56, 64)   36928       activation_53[0][0]              \n",
            "__________________________________________________________________________________________________\n",
            "bn2b_branch2b (BatchNormalizati (None, 56, 56, 64)   256         res2b_branch2b[0][0]             \n",
            "__________________________________________________________________________________________________\n",
            "activation_54 (Activation)      (None, 56, 56, 64)   0           bn2b_branch2b[0][0]              \n",
            "__________________________________________________________________________________________________\n",
            "res2b_branch2c (Conv2D)         (None, 56, 56, 256)  16640       activation_54[0][0]              \n",
            "__________________________________________________________________________________________________\n",
            "bn2b_branch2c (BatchNormalizati (None, 56, 56, 256)  1024        res2b_branch2c[0][0]             \n",
            "__________________________________________________________________________________________________\n",
            "add_17 (Add)                    (None, 56, 56, 256)  0           bn2b_branch2c[0][0]              \n",
            "                                                                 activation_52[0][0]              \n",
            "__________________________________________________________________________________________________\n",
            "activation_55 (Activation)      (None, 56, 56, 256)  0           add_17[0][0]                     \n",
            "__________________________________________________________________________________________________\n",
            "res2c_branch2a (Conv2D)         (None, 56, 56, 64)   16448       activation_55[0][0]              \n",
            "__________________________________________________________________________________________________\n",
            "bn2c_branch2a (BatchNormalizati (None, 56, 56, 64)   256         res2c_branch2a[0][0]             \n",
            "__________________________________________________________________________________________________\n",
            "activation_56 (Activation)      (None, 56, 56, 64)   0           bn2c_branch2a[0][0]              \n",
            "__________________________________________________________________________________________________\n",
            "res2c_branch2b (Conv2D)         (None, 56, 56, 64)   36928       activation_56[0][0]              \n",
            "__________________________________________________________________________________________________\n",
            "bn2c_branch2b (BatchNormalizati (None, 56, 56, 64)   256         res2c_branch2b[0][0]             \n",
            "__________________________________________________________________________________________________\n",
            "activation_57 (Activation)      (None, 56, 56, 64)   0           bn2c_branch2b[0][0]              \n",
            "__________________________________________________________________________________________________\n",
            "res2c_branch2c (Conv2D)         (None, 56, 56, 256)  16640       activation_57[0][0]              \n",
            "__________________________________________________________________________________________________\n",
            "bn2c_branch2c (BatchNormalizati (None, 56, 56, 256)  1024        res2c_branch2c[0][0]             \n",
            "__________________________________________________________________________________________________\n",
            "add_18 (Add)                    (None, 56, 56, 256)  0           bn2c_branch2c[0][0]              \n",
            "                                                                 activation_55[0][0]              \n",
            "__________________________________________________________________________________________________\n",
            "activation_58 (Activation)      (None, 56, 56, 256)  0           add_18[0][0]                     \n",
            "__________________________________________________________________________________________________\n",
            "res3a_branch2a (Conv2D)         (None, 28, 28, 128)  32896       activation_58[0][0]              \n",
            "__________________________________________________________________________________________________\n",
            "bn3a_branch2a (BatchNormalizati (None, 28, 28, 128)  512         res3a_branch2a[0][0]             \n",
            "__________________________________________________________________________________________________\n",
            "activation_59 (Activation)      (None, 28, 28, 128)  0           bn3a_branch2a[0][0]              \n",
            "__________________________________________________________________________________________________\n",
            "res3a_branch2b (Conv2D)         (None, 28, 28, 128)  147584      activation_59[0][0]              \n",
            "__________________________________________________________________________________________________\n",
            "bn3a_branch2b (BatchNormalizati (None, 28, 28, 128)  512         res3a_branch2b[0][0]             \n",
            "__________________________________________________________________________________________________\n",
            "activation_60 (Activation)      (None, 28, 28, 128)  0           bn3a_branch2b[0][0]              \n",
            "__________________________________________________________________________________________________\n",
            "res3a_branch2c (Conv2D)         (None, 28, 28, 512)  66048       activation_60[0][0]              \n",
            "__________________________________________________________________________________________________\n",
            "res3a_branch1 (Conv2D)          (None, 28, 28, 512)  131584      activation_58[0][0]              \n",
            "__________________________________________________________________________________________________\n",
            "bn3a_branch2c (BatchNormalizati (None, 28, 28, 512)  2048        res3a_branch2c[0][0]             \n",
            "__________________________________________________________________________________________________\n",
            "bn3a_branch1 (BatchNormalizatio (None, 28, 28, 512)  2048        res3a_branch1[0][0]              \n",
            "__________________________________________________________________________________________________\n",
            "add_19 (Add)                    (None, 28, 28, 512)  0           bn3a_branch2c[0][0]              \n",
            "                                                                 bn3a_branch1[0][0]               \n",
            "__________________________________________________________________________________________________\n",
            "activation_61 (Activation)      (None, 28, 28, 512)  0           add_19[0][0]                     \n",
            "__________________________________________________________________________________________________\n",
            "res3b_branch2a (Conv2D)         (None, 28, 28, 128)  65664       activation_61[0][0]              \n",
            "__________________________________________________________________________________________________\n",
            "bn3b_branch2a (BatchNormalizati (None, 28, 28, 128)  512         res3b_branch2a[0][0]             \n",
            "__________________________________________________________________________________________________\n",
            "activation_62 (Activation)      (None, 28, 28, 128)  0           bn3b_branch2a[0][0]              \n",
            "__________________________________________________________________________________________________\n",
            "res3b_branch2b (Conv2D)         (None, 28, 28, 128)  147584      activation_62[0][0]              \n",
            "__________________________________________________________________________________________________\n",
            "bn3b_branch2b (BatchNormalizati (None, 28, 28, 128)  512         res3b_branch2b[0][0]             \n",
            "__________________________________________________________________________________________________\n",
            "activation_63 (Activation)      (None, 28, 28, 128)  0           bn3b_branch2b[0][0]              \n",
            "__________________________________________________________________________________________________\n",
            "res3b_branch2c (Conv2D)         (None, 28, 28, 512)  66048       activation_63[0][0]              \n",
            "__________________________________________________________________________________________________\n",
            "bn3b_branch2c (BatchNormalizati (None, 28, 28, 512)  2048        res3b_branch2c[0][0]             \n",
            "__________________________________________________________________________________________________\n",
            "add_20 (Add)                    (None, 28, 28, 512)  0           bn3b_branch2c[0][0]              \n",
            "                                                                 activation_61[0][0]              \n",
            "__________________________________________________________________________________________________\n",
            "activation_64 (Activation)      (None, 28, 28, 512)  0           add_20[0][0]                     \n",
            "__________________________________________________________________________________________________\n",
            "res3c_branch2a (Conv2D)         (None, 28, 28, 128)  65664       activation_64[0][0]              \n",
            "__________________________________________________________________________________________________\n",
            "bn3c_branch2a (BatchNormalizati (None, 28, 28, 128)  512         res3c_branch2a[0][0]             \n",
            "__________________________________________________________________________________________________\n",
            "activation_65 (Activation)      (None, 28, 28, 128)  0           bn3c_branch2a[0][0]              \n",
            "__________________________________________________________________________________________________\n",
            "res3c_branch2b (Conv2D)         (None, 28, 28, 128)  147584      activation_65[0][0]              \n",
            "__________________________________________________________________________________________________\n",
            "bn3c_branch2b (BatchNormalizati (None, 28, 28, 128)  512         res3c_branch2b[0][0]             \n",
            "__________________________________________________________________________________________________\n",
            "activation_66 (Activation)      (None, 28, 28, 128)  0           bn3c_branch2b[0][0]              \n",
            "__________________________________________________________________________________________________\n",
            "res3c_branch2c (Conv2D)         (None, 28, 28, 512)  66048       activation_66[0][0]              \n",
            "__________________________________________________________________________________________________\n",
            "bn3c_branch2c (BatchNormalizati (None, 28, 28, 512)  2048        res3c_branch2c[0][0]             \n",
            "__________________________________________________________________________________________________\n",
            "add_21 (Add)                    (None, 28, 28, 512)  0           bn3c_branch2c[0][0]              \n",
            "                                                                 activation_64[0][0]              \n",
            "__________________________________________________________________________________________________\n",
            "activation_67 (Activation)      (None, 28, 28, 512)  0           add_21[0][0]                     \n",
            "__________________________________________________________________________________________________\n",
            "res3d_branch2a (Conv2D)         (None, 28, 28, 128)  65664       activation_67[0][0]              \n",
            "__________________________________________________________________________________________________\n",
            "bn3d_branch2a (BatchNormalizati (None, 28, 28, 128)  512         res3d_branch2a[0][0]             \n",
            "__________________________________________________________________________________________________\n",
            "activation_68 (Activation)      (None, 28, 28, 128)  0           bn3d_branch2a[0][0]              \n",
            "__________________________________________________________________________________________________\n",
            "res3d_branch2b (Conv2D)         (None, 28, 28, 128)  147584      activation_68[0][0]              \n",
            "__________________________________________________________________________________________________\n",
            "bn3d_branch2b (BatchNormalizati (None, 28, 28, 128)  512         res3d_branch2b[0][0]             \n",
            "__________________________________________________________________________________________________\n",
            "activation_69 (Activation)      (None, 28, 28, 128)  0           bn3d_branch2b[0][0]              \n",
            "__________________________________________________________________________________________________\n",
            "res3d_branch2c (Conv2D)         (None, 28, 28, 512)  66048       activation_69[0][0]              \n",
            "__________________________________________________________________________________________________\n",
            "bn3d_branch2c (BatchNormalizati (None, 28, 28, 512)  2048        res3d_branch2c[0][0]             \n",
            "__________________________________________________________________________________________________\n",
            "add_22 (Add)                    (None, 28, 28, 512)  0           bn3d_branch2c[0][0]              \n",
            "                                                                 activation_67[0][0]              \n",
            "__________________________________________________________________________________________________\n",
            "activation_70 (Activation)      (None, 28, 28, 512)  0           add_22[0][0]                     \n",
            "__________________________________________________________________________________________________\n",
            "res4a_branch2a (Conv2D)         (None, 14, 14, 256)  131328      activation_70[0][0]              \n",
            "__________________________________________________________________________________________________\n",
            "bn4a_branch2a (BatchNormalizati (None, 14, 14, 256)  1024        res4a_branch2a[0][0]             \n",
            "__________________________________________________________________________________________________\n",
            "activation_71 (Activation)      (None, 14, 14, 256)  0           bn4a_branch2a[0][0]              \n",
            "__________________________________________________________________________________________________\n",
            "res4a_branch2b (Conv2D)         (None, 14, 14, 256)  590080      activation_71[0][0]              \n",
            "__________________________________________________________________________________________________\n",
            "bn4a_branch2b (BatchNormalizati (None, 14, 14, 256)  1024        res4a_branch2b[0][0]             \n",
            "__________________________________________________________________________________________________\n",
            "activation_72 (Activation)      (None, 14, 14, 256)  0           bn4a_branch2b[0][0]              \n",
            "__________________________________________________________________________________________________\n",
            "res4a_branch2c (Conv2D)         (None, 14, 14, 1024) 263168      activation_72[0][0]              \n",
            "__________________________________________________________________________________________________\n",
            "res4a_branch1 (Conv2D)          (None, 14, 14, 1024) 525312      activation_70[0][0]              \n",
            "__________________________________________________________________________________________________\n",
            "bn4a_branch2c (BatchNormalizati (None, 14, 14, 1024) 4096        res4a_branch2c[0][0]             \n",
            "__________________________________________________________________________________________________\n",
            "bn4a_branch1 (BatchNormalizatio (None, 14, 14, 1024) 4096        res4a_branch1[0][0]              \n",
            "__________________________________________________________________________________________________\n",
            "add_23 (Add)                    (None, 14, 14, 1024) 0           bn4a_branch2c[0][0]              \n",
            "                                                                 bn4a_branch1[0][0]               \n",
            "__________________________________________________________________________________________________\n",
            "activation_73 (Activation)      (None, 14, 14, 1024) 0           add_23[0][0]                     \n",
            "__________________________________________________________________________________________________\n",
            "res4b_branch2a (Conv2D)         (None, 14, 14, 256)  262400      activation_73[0][0]              \n",
            "__________________________________________________________________________________________________\n",
            "bn4b_branch2a (BatchNormalizati (None, 14, 14, 256)  1024        res4b_branch2a[0][0]             \n",
            "__________________________________________________________________________________________________\n",
            "activation_74 (Activation)      (None, 14, 14, 256)  0           bn4b_branch2a[0][0]              \n",
            "__________________________________________________________________________________________________\n",
            "res4b_branch2b (Conv2D)         (None, 14, 14, 256)  590080      activation_74[0][0]              \n",
            "__________________________________________________________________________________________________\n",
            "bn4b_branch2b (BatchNormalizati (None, 14, 14, 256)  1024        res4b_branch2b[0][0]             \n",
            "__________________________________________________________________________________________________\n",
            "activation_75 (Activation)      (None, 14, 14, 256)  0           bn4b_branch2b[0][0]              \n",
            "__________________________________________________________________________________________________\n",
            "res4b_branch2c (Conv2D)         (None, 14, 14, 1024) 263168      activation_75[0][0]              \n",
            "__________________________________________________________________________________________________\n",
            "bn4b_branch2c (BatchNormalizati (None, 14, 14, 1024) 4096        res4b_branch2c[0][0]             \n",
            "__________________________________________________________________________________________________\n",
            "add_24 (Add)                    (None, 14, 14, 1024) 0           bn4b_branch2c[0][0]              \n",
            "                                                                 activation_73[0][0]              \n",
            "__________________________________________________________________________________________________\n",
            "activation_76 (Activation)      (None, 14, 14, 1024) 0           add_24[0][0]                     \n",
            "__________________________________________________________________________________________________\n",
            "res4c_branch2a (Conv2D)         (None, 14, 14, 256)  262400      activation_76[0][0]              \n",
            "__________________________________________________________________________________________________\n",
            "bn4c_branch2a (BatchNormalizati (None, 14, 14, 256)  1024        res4c_branch2a[0][0]             \n",
            "__________________________________________________________________________________________________\n",
            "activation_77 (Activation)      (None, 14, 14, 256)  0           bn4c_branch2a[0][0]              \n",
            "__________________________________________________________________________________________________\n",
            "res4c_branch2b (Conv2D)         (None, 14, 14, 256)  590080      activation_77[0][0]              \n",
            "__________________________________________________________________________________________________\n",
            "bn4c_branch2b (BatchNormalizati (None, 14, 14, 256)  1024        res4c_branch2b[0][0]             \n",
            "__________________________________________________________________________________________________\n",
            "activation_78 (Activation)      (None, 14, 14, 256)  0           bn4c_branch2b[0][0]              \n",
            "__________________________________________________________________________________________________\n",
            "res4c_branch2c (Conv2D)         (None, 14, 14, 1024) 263168      activation_78[0][0]              \n",
            "__________________________________________________________________________________________________\n",
            "bn4c_branch2c (BatchNormalizati (None, 14, 14, 1024) 4096        res4c_branch2c[0][0]             \n",
            "__________________________________________________________________________________________________\n",
            "add_25 (Add)                    (None, 14, 14, 1024) 0           bn4c_branch2c[0][0]              \n",
            "                                                                 activation_76[0][0]              \n",
            "__________________________________________________________________________________________________\n",
            "activation_79 (Activation)      (None, 14, 14, 1024) 0           add_25[0][0]                     \n",
            "__________________________________________________________________________________________________\n",
            "res4d_branch2a (Conv2D)         (None, 14, 14, 256)  262400      activation_79[0][0]              \n",
            "__________________________________________________________________________________________________\n",
            "bn4d_branch2a (BatchNormalizati (None, 14, 14, 256)  1024        res4d_branch2a[0][0]             \n",
            "__________________________________________________________________________________________________\n",
            "activation_80 (Activation)      (None, 14, 14, 256)  0           bn4d_branch2a[0][0]              \n",
            "__________________________________________________________________________________________________\n",
            "res4d_branch2b (Conv2D)         (None, 14, 14, 256)  590080      activation_80[0][0]              \n",
            "__________________________________________________________________________________________________\n",
            "bn4d_branch2b (BatchNormalizati (None, 14, 14, 256)  1024        res4d_branch2b[0][0]             \n",
            "__________________________________________________________________________________________________\n",
            "activation_81 (Activation)      (None, 14, 14, 256)  0           bn4d_branch2b[0][0]              \n",
            "__________________________________________________________________________________________________\n",
            "res4d_branch2c (Conv2D)         (None, 14, 14, 1024) 263168      activation_81[0][0]              \n",
            "__________________________________________________________________________________________________\n",
            "bn4d_branch2c (BatchNormalizati (None, 14, 14, 1024) 4096        res4d_branch2c[0][0]             \n",
            "__________________________________________________________________________________________________\n",
            "add_26 (Add)                    (None, 14, 14, 1024) 0           bn4d_branch2c[0][0]              \n",
            "                                                                 activation_79[0][0]              \n",
            "__________________________________________________________________________________________________\n",
            "activation_82 (Activation)      (None, 14, 14, 1024) 0           add_26[0][0]                     \n",
            "__________________________________________________________________________________________________\n",
            "res4e_branch2a (Conv2D)         (None, 14, 14, 256)  262400      activation_82[0][0]              \n",
            "__________________________________________________________________________________________________\n",
            "bn4e_branch2a (BatchNormalizati (None, 14, 14, 256)  1024        res4e_branch2a[0][0]             \n",
            "__________________________________________________________________________________________________\n",
            "activation_83 (Activation)      (None, 14, 14, 256)  0           bn4e_branch2a[0][0]              \n",
            "__________________________________________________________________________________________________\n",
            "res4e_branch2b (Conv2D)         (None, 14, 14, 256)  590080      activation_83[0][0]              \n",
            "__________________________________________________________________________________________________\n",
            "bn4e_branch2b (BatchNormalizati (None, 14, 14, 256)  1024        res4e_branch2b[0][0]             \n",
            "__________________________________________________________________________________________________\n",
            "activation_84 (Activation)      (None, 14, 14, 256)  0           bn4e_branch2b[0][0]              \n",
            "__________________________________________________________________________________________________\n",
            "res4e_branch2c (Conv2D)         (None, 14, 14, 1024) 263168      activation_84[0][0]              \n",
            "__________________________________________________________________________________________________\n",
            "bn4e_branch2c (BatchNormalizati (None, 14, 14, 1024) 4096        res4e_branch2c[0][0]             \n",
            "__________________________________________________________________________________________________\n",
            "add_27 (Add)                    (None, 14, 14, 1024) 0           bn4e_branch2c[0][0]              \n",
            "                                                                 activation_82[0][0]              \n",
            "__________________________________________________________________________________________________\n",
            "activation_85 (Activation)      (None, 14, 14, 1024) 0           add_27[0][0]                     \n",
            "__________________________________________________________________________________________________\n",
            "res4f_branch2a (Conv2D)         (None, 14, 14, 256)  262400      activation_85[0][0]              \n",
            "__________________________________________________________________________________________________\n",
            "bn4f_branch2a (BatchNormalizati (None, 14, 14, 256)  1024        res4f_branch2a[0][0]             \n",
            "__________________________________________________________________________________________________\n",
            "activation_86 (Activation)      (None, 14, 14, 256)  0           bn4f_branch2a[0][0]              \n",
            "__________________________________________________________________________________________________\n",
            "res4f_branch2b (Conv2D)         (None, 14, 14, 256)  590080      activation_86[0][0]              \n",
            "__________________________________________________________________________________________________\n",
            "bn4f_branch2b (BatchNormalizati (None, 14, 14, 256)  1024        res4f_branch2b[0][0]             \n",
            "__________________________________________________________________________________________________\n",
            "activation_87 (Activation)      (None, 14, 14, 256)  0           bn4f_branch2b[0][0]              \n",
            "__________________________________________________________________________________________________\n",
            "res4f_branch2c (Conv2D)         (None, 14, 14, 1024) 263168      activation_87[0][0]              \n",
            "__________________________________________________________________________________________________\n",
            "bn4f_branch2c (BatchNormalizati (None, 14, 14, 1024) 4096        res4f_branch2c[0][0]             \n",
            "__________________________________________________________________________________________________\n",
            "add_28 (Add)                    (None, 14, 14, 1024) 0           bn4f_branch2c[0][0]              \n",
            "                                                                 activation_85[0][0]              \n",
            "__________________________________________________________________________________________________\n",
            "activation_88 (Activation)      (None, 14, 14, 1024) 0           add_28[0][0]                     \n",
            "__________________________________________________________________________________________________\n",
            "res5a_branch2a (Conv2D)         (None, 7, 7, 512)    524800      activation_88[0][0]              \n",
            "__________________________________________________________________________________________________\n",
            "bn5a_branch2a (BatchNormalizati (None, 7, 7, 512)    2048        res5a_branch2a[0][0]             \n",
            "__________________________________________________________________________________________________\n",
            "activation_89 (Activation)      (None, 7, 7, 512)    0           bn5a_branch2a[0][0]              \n",
            "__________________________________________________________________________________________________\n",
            "res5a_branch2b (Conv2D)         (None, 7, 7, 512)    2359808     activation_89[0][0]              \n",
            "__________________________________________________________________________________________________\n",
            "bn5a_branch2b (BatchNormalizati (None, 7, 7, 512)    2048        res5a_branch2b[0][0]             \n",
            "__________________________________________________________________________________________________\n",
            "activation_90 (Activation)      (None, 7, 7, 512)    0           bn5a_branch2b[0][0]              \n",
            "__________________________________________________________________________________________________\n",
            "res5a_branch2c (Conv2D)         (None, 7, 7, 2048)   1050624     activation_90[0][0]              \n",
            "__________________________________________________________________________________________________\n",
            "res5a_branch1 (Conv2D)          (None, 7, 7, 2048)   2099200     activation_88[0][0]              \n",
            "__________________________________________________________________________________________________\n",
            "bn5a_branch2c (BatchNormalizati (None, 7, 7, 2048)   8192        res5a_branch2c[0][0]             \n",
            "__________________________________________________________________________________________________\n",
            "bn5a_branch1 (BatchNormalizatio (None, 7, 7, 2048)   8192        res5a_branch1[0][0]              \n",
            "__________________________________________________________________________________________________\n",
            "add_29 (Add)                    (None, 7, 7, 2048)   0           bn5a_branch2c[0][0]              \n",
            "                                                                 bn5a_branch1[0][0]               \n",
            "__________________________________________________________________________________________________\n",
            "activation_91 (Activation)      (None, 7, 7, 2048)   0           add_29[0][0]                     \n",
            "__________________________________________________________________________________________________\n",
            "res5b_branch2a (Conv2D)         (None, 7, 7, 512)    1049088     activation_91[0][0]              \n",
            "__________________________________________________________________________________________________\n",
            "bn5b_branch2a (BatchNormalizati (None, 7, 7, 512)    2048        res5b_branch2a[0][0]             \n",
            "__________________________________________________________________________________________________\n",
            "activation_92 (Activation)      (None, 7, 7, 512)    0           bn5b_branch2a[0][0]              \n",
            "__________________________________________________________________________________________________\n",
            "res5b_branch2b (Conv2D)         (None, 7, 7, 512)    2359808     activation_92[0][0]              \n",
            "__________________________________________________________________________________________________\n",
            "bn5b_branch2b (BatchNormalizati (None, 7, 7, 512)    2048        res5b_branch2b[0][0]             \n",
            "__________________________________________________________________________________________________\n",
            "activation_93 (Activation)      (None, 7, 7, 512)    0           bn5b_branch2b[0][0]              \n",
            "__________________________________________________________________________________________________\n",
            "res5b_branch2c (Conv2D)         (None, 7, 7, 2048)   1050624     activation_93[0][0]              \n",
            "__________________________________________________________________________________________________\n",
            "bn5b_branch2c (BatchNormalizati (None, 7, 7, 2048)   8192        res5b_branch2c[0][0]             \n",
            "__________________________________________________________________________________________________\n",
            "add_30 (Add)                    (None, 7, 7, 2048)   0           bn5b_branch2c[0][0]              \n",
            "                                                                 activation_91[0][0]              \n",
            "__________________________________________________________________________________________________\n",
            "activation_94 (Activation)      (None, 7, 7, 2048)   0           add_30[0][0]                     \n",
            "__________________________________________________________________________________________________\n",
            "res5c_branch2a (Conv2D)         (None, 7, 7, 512)    1049088     activation_94[0][0]              \n",
            "__________________________________________________________________________________________________\n",
            "bn5c_branch2a (BatchNormalizati (None, 7, 7, 512)    2048        res5c_branch2a[0][0]             \n",
            "__________________________________________________________________________________________________\n",
            "activation_95 (Activation)      (None, 7, 7, 512)    0           bn5c_branch2a[0][0]              \n",
            "__________________________________________________________________________________________________\n",
            "res5c_branch2b (Conv2D)         (None, 7, 7, 512)    2359808     activation_95[0][0]              \n",
            "__________________________________________________________________________________________________\n",
            "bn5c_branch2b (BatchNormalizati (None, 7, 7, 512)    2048        res5c_branch2b[0][0]             \n",
            "__________________________________________________________________________________________________\n",
            "activation_96 (Activation)      (None, 7, 7, 512)    0           bn5c_branch2b[0][0]              \n",
            "__________________________________________________________________________________________________\n",
            "res5c_branch2c (Conv2D)         (None, 7, 7, 2048)   1050624     activation_96[0][0]              \n",
            "__________________________________________________________________________________________________\n",
            "bn5c_branch2c (BatchNormalizati (None, 7, 7, 2048)   8192        res5c_branch2c[0][0]             \n",
            "__________________________________________________________________________________________________\n",
            "add_31 (Add)                    (None, 7, 7, 2048)   0           bn5c_branch2c[0][0]              \n",
            "                                                                 activation_94[0][0]              \n",
            "__________________________________________________________________________________________________\n",
            "activation_97 (Activation)      (None, 7, 7, 2048)   0           add_31[0][0]                     \n",
            "__________________________________________________________________________________________________\n",
            "dropout_1 (Dropout)             (None, 7, 7, 2048)   0           activation_97[0][0]              \n",
            "__________________________________________________________________________________________________\n",
            "global_average_pooling2d_1 (Glo (None, 2048)         0           dropout_1[0][0]                  \n",
            "__________________________________________________________________________________________________\n",
            "dense_2 (Dense)                 (None, 1024)         2098176     global_average_pooling2d_1[0][0] \n",
            "__________________________________________________________________________________________________\n",
            "batch_normalization_1 (BatchNor (None, 1024)         4096        dense_2[0][0]                    \n",
            "__________________________________________________________________________________________________\n",
            "dense_3 (Dense)                 (None, 300)          307500      batch_normalization_1[0][0]      \n",
            "==================================================================================================\n",
            "Total params: 25,997,484\n",
            "Trainable params: 2,407,724\n",
            "Non-trainable params: 23,589,760\n",
            "__________________________________________________________________________________________________\n"
          ],
          "name": "stdout"
        }
      ]
    },
    {
      "metadata": {
        "id": "8OR6Ii2rTMXq",
        "colab_type": "text"
      },
      "cell_type": "markdown",
      "source": [
        "## Search"
      ]
    },
    {
      "metadata": {
        "id": "7KBj11WPTO2E",
        "colab_type": "text"
      },
      "cell_type": "markdown",
      "source": [
        "### Search: imagenet classes"
      ]
    },
    {
      "metadata": {
        "id": "CxaCedIjDu7W",
        "colab_type": "text"
      },
      "cell_type": "markdown",
      "source": [
        "run predictions on the training dataset to get word vector representations for the classes in the dataset"
      ]
    },
    {
      "metadata": {
        "id": "LuU1I9jlMfwU",
        "colab_type": "code",
        "outputId": "30011f92-8c88-4dab-fd7e-d2faba29584e",
        "colab": {
          "base_uri": "https://localhost:8080/",
          "height": 34
        }
      },
      "cell_type": "code",
      "source": [
        "pattern = '*/images/*.JPEG'\n",
        "fnames = [p.as_posix() for p in (imagenet_path/'train').glob(pattern)]\n",
        "# parameters\n",
        "image_size = (224, 224)\n",
        "data_size  = len(fnames)\n",
        "dimensions = 300\n",
        "# place holders for X and y\n",
        "y = np.zeros((data_size, dimensions), dtype=np.float32)\n",
        "y_hat = np.zeros((data_size, dimensions), dtype=np.float32)\n",
        "# read images and labels\n",
        "for i, p in tqdm(enumerate(fnames)):\n",
        "    # original label\n",
        "    y[i, :] = get_word2vec_from_fname(p)\n",
        "    # predicted label\n",
        "    img = preprocessing.image.load_img(p, target_size=image_size)\n",
        "    img_data = preprocessing.image.img_to_array(img)\n",
        "    y_hat[i, :] = model.predict(img_data[None])"
      ],
      "execution_count": 24,
      "outputs": [
        {
          "output_type": "stream",
          "text": [
            "100000it [36:04, 46.22it/s]\n"
          ],
          "name": "stderr"
        }
      ]
    },
    {
      "metadata": {
        "id": "0I3bGiysSj_K",
        "colab_type": "code",
        "outputId": "9fec8c15-a006-4d6d-9e73-40ddb91051c6",
        "colab": {
          "base_uri": "https://localhost:8080/",
          "height": 34
        }
      },
      "cell_type": "code",
      "source": [
        "y.shape, y_hat.shape"
      ],
      "execution_count": 25,
      "outputs": [
        {
          "output_type": "execute_result",
          "data": {
            "text/plain": [
              "((100000, 300), (100000, 300))"
            ]
          },
          "metadata": {
            "tags": []
          },
          "execution_count": 25
        }
      ]
    },
    {
      "metadata": {
        "id": "DDOzqROlurKh",
        "colab_type": "code",
        "colab": {
          "base_uri": "https://localhost:8080/",
          "height": 68
        },
        "outputId": "24ed0f4f-bac8-46c7-c1f2-e38542fb7376"
      },
      "cell_type": "code",
      "source": [
        "!curl -O http://files.fast.ai/data/classids.txt"
      ],
      "execution_count": 134,
      "outputs": [
        {
          "output_type": "stream",
          "text": [
            "  % Total    % Received % Xferd  Average Speed   Time    Time     Time  Current\n",
            "                                 Dload  Upload   Total   Spent    Left  Speed\n",
            "100 1700k  100 1700k    0     0  1630k      0  0:00:01  0:00:01 --:--:-- 1630k\n"
          ],
          "name": "stdout"
        }
      ]
    },
    {
      "metadata": {
        "id": "ga8AJwAouuTq",
        "colab_type": "code",
        "colab": {
          "base_uri": "https://localhost:8080/",
          "height": 34
        },
        "outputId": "923bdafb-db70-463e-e423-bc04aea89354"
      },
      "cell_type": "code",
      "source": [
        "!cat classids.txt | wc -l"
      ],
      "execution_count": 135,
      "outputs": [
        {
          "output_type": "stream",
          "text": [
            "82115\n"
          ],
          "name": "stdout"
        }
      ]
    },
    {
      "metadata": {
        "id": "BYWwYh1nw8Iq",
        "colab_type": "text"
      },
      "cell_type": "markdown",
      "source": [
        "split the syn2word dictionnary into two list of synset and another one of vectors"
      ]
    },
    {
      "metadata": {
        "id": "xN-t-cjDuDmw",
        "colab_type": "code",
        "colab": {
          "base_uri": "https://localhost:8080/",
          "height": 34
        },
        "outputId": "c47d9633-1f4f-423f-c582-2a5b7b3e107d"
      },
      "cell_type": "code",
      "source": [
        "syns_1k, words_1k = zip(*syn2word.items())\n",
        "wvs_1k = [get_vec_by_word(word) for word in words_1k]\n",
        "\n",
        "words_all, wvs_all = zip(*word2vec.items())\n",
        "len(syns_1k), len(words_1k), len(wvs_1k), len(words_all), len(wvs_all)"
      ],
      "execution_count": 28,
      "outputs": [
        {
          "output_type": "execute_result",
          "data": {
            "text/plain": [
              "(1000, 1000, 1000, 80719, 80719)"
            ]
          },
          "metadata": {
            "tags": []
          },
          "execution_count": 28
        }
      ]
    },
    {
      "metadata": {
        "id": "lQJ-ylBO0nRl",
        "colab_type": "code",
        "colab": {}
      },
      "cell_type": "code",
      "source": [
        "import nmslib\n",
        "\n",
        "def create_index(a):\n",
        "    # Initializes a new index\n",
        "    index = nmslib.init(space='angulardist')\n",
        "    # Add the datapoints to the index\n",
        "    index.addDataPointBatch(a)\n",
        "    # Create the index for querying\n",
        "    index.createIndex()\n",
        "    return index\n",
        "\n",
        "def get_knns(index, vecs):\n",
        "    \"\"\"Get approximate K nearest neighbours for each vector in the list\"\"\"\n",
        "    return zip(*index.knnQueryBatch(vecs, k=10, num_threads=4))\n",
        "\n",
        "def get_knn(index, vec):\n",
        "    \"\"\"Get approximate K nearest neighbours of a vector.\"\"\"\n",
        "    return index.knnQuery(vec, k=10)"
      ],
      "execution_count": 0,
      "outputs": []
    },
    {
      "metadata": {
        "id": "Glq3REtp-qNf",
        "colab_type": "code",
        "colab": {}
      },
      "cell_type": "code",
      "source": [
        "# this is too slow, avoiding it\n",
        "#from sklearn.neighbors import NearestNeighbors\n",
        "#wvs_index_sklearn = NearestNeighbors(n_neighbors=10, algorithm='ball_tree').fit(wvs_all)\n",
        "#distances, indices = wvs_index_sklearn.kneighbors(wvs_all)"
      ],
      "execution_count": 0,
      "outputs": []
    },
    {
      "metadata": {
        "id": "RQ1ERLuiS_uS",
        "colab_type": "text"
      },
      "cell_type": "markdown",
      "source": [
        "### KNN on imagenet labels"
      ]
    },
    {
      "metadata": {
        "id": "-TELWXInFzl3",
        "colab_type": "text"
      },
      "cell_type": "markdown",
      "source": [
        "create an index against the word vector representation in the class labels, then find the nearest words for what was predicted"
      ]
    },
    {
      "metadata": {
        "id": "WIVzzcjX5uI0",
        "colab_type": "code",
        "colab": {}
      },
      "cell_type": "code",
      "source": [
        "wvs_index = create_index(wvs_1k) # nearest neighborhood on imageword2vec wvs"
      ],
      "execution_count": 0,
      "outputs": []
    },
    {
      "metadata": {
        "id": "SNY61JoO2pjU",
        "colab_type": "text"
      },
      "cell_type": "markdown",
      "source": [
        "Get the 10 top nearest neighbours for each vector in y_hat (i.e. predicted word2vec for the test images)"
      ]
    },
    {
      "metadata": {
        "id": "FDU13sqDO242",
        "colab_type": "text"
      },
      "cell_type": "markdown",
      "source": [
        "#### on true labels"
      ]
    },
    {
      "metadata": {
        "id": "oh5FZy5K5tuc",
        "colab_type": "code",
        "colab": {
          "base_uri": "https://localhost:8080/",
          "height": 85
        },
        "outputId": "3865e543-2d3a-4785-bf9e-96292865d20b"
      },
      "cell_type": "code",
      "source": [
        "get_knn(wvs_index, y[0])"
      ],
      "execution_count": 33,
      "outputs": [
        {
          "output_type": "execute_result",
          "data": {
            "text/plain": [
              "(array([995, 434, 879, 883, 899, 919, 951, 971, 983, 988], dtype=int32),\n",
              " array([0.8657646 , 0.97021973, 0.97021973, 0.97021973, 0.97021973,\n",
              "        0.97021973, 0.97021973, 0.97021973, 0.97021973, 0.97021973],\n",
              "       dtype=float32))"
            ]
          },
          "metadata": {
            "tags": []
          },
          "execution_count": 33
        }
      ]
    },
    {
      "metadata": {
        "id": "TOdb8T3vj2nX",
        "colab_type": "code",
        "colab": {}
      },
      "cell_type": "code",
      "source": [
        "idxs, dists = get_knns(wvs_index, y)"
      ],
      "execution_count": 0,
      "outputs": []
    },
    {
      "metadata": {
        "id": "ZpCh6C1tkPu9",
        "colab_type": "code",
        "colab": {
          "base_uri": "https://localhost:8080/",
          "height": 85
        },
        "outputId": "74e59f57-d03a-448c-e8e1-892661d9521b"
      },
      "cell_type": "code",
      "source": [
        "idxs[100:102], idxs[10:12]"
      ],
      "execution_count": 35,
      "outputs": [
        {
          "output_type": "execute_result",
          "data": {
            "text/plain": [
              "((array([995, 434, 879, 883, 899, 919, 951, 971, 983, 988], dtype=int32),\n",
              "  array([995, 434, 879, 883, 899, 919, 951, 971, 983, 988], dtype=int32)),\n",
              " (array([995, 434, 879, 883, 899, 919, 951, 971, 983, 988], dtype=int32),\n",
              "  array([995, 434, 879, 883, 899, 919, 951, 971, 983, 988], dtype=int32)))"
            ]
          },
          "metadata": {
            "tags": []
          },
          "execution_count": 35
        }
      ]
    },
    {
      "metadata": {
        "id": "nRAO8T3N3mwy",
        "colab_type": "text"
      },
      "cell_type": "markdown",
      "source": [
        "have a look to the nearest neighbours for some vectors"
      ]
    },
    {
      "metadata": {
        "id": "19L8XoWU4Izn",
        "colab_type": "code",
        "colab": {
          "base_uri": "https://localhost:8080/",
          "height": 357
        },
        "outputId": "0c90b51f-8c01-447d-d90b-2b50ed68ce8c"
      },
      "cell_type": "code",
      "source": [
        "idxs[start:start+10]"
      ],
      "execution_count": 184,
      "outputs": [
        {
          "output_type": "execute_result",
          "data": {
            "text/plain": [
              "(array([69856, 80285, 65798, 50801, 29685, 76234, 73882, 78888, 26586,\n",
              "        33751], dtype=int32),\n",
              " array([59390, 12055, 59523,   680,  6621, 80272, 67169, 78410,  2130,\n",
              "        80600], dtype=int32),\n",
              " array([29685, 69856, 80285, 76234, 50801, 26586, 65798, 33751, 53444,\n",
              "        78888], dtype=int32),\n",
              " array([29685, 65798, 73882, 43849, 26326, 50801, 33751, 71061, 29389,\n",
              "        76574], dtype=int32),\n",
              " array([65798, 69856, 29685, 80285, 76234, 50801, 33751, 73882, 52112,\n",
              "        78888], dtype=int32),\n",
              " array([69856, 29685, 26586, 71224, 79816, 35571, 73882, 37805, 33751,\n",
              "        50801], dtype=int32),\n",
              " array([80285, 76234, 69856, 65798, 29685, 33751, 79816, 73425, 78888,\n",
              "        72537], dtype=int32),\n",
              " array([29685, 26326, 65798, 37805, 71061, 33751, 50801, 29389, 26586,\n",
              "        37458], dtype=int32),\n",
              " array([80285, 65798, 29685, 69856, 76181, 63261, 33751, 72521, 73425,\n",
              "        77696], dtype=int32),\n",
              " array([76234, 70614, 78888, 29685, 74735, 80110, 36498, 73136, 36250,\n",
              "        24779], dtype=int32))"
            ]
          },
          "metadata": {
            "tags": []
          },
          "execution_count": 184
        }
      ]
    },
    {
      "metadata": {
        "id": "DyJ7JBkn4Rtx",
        "colab_type": "text"
      },
      "cell_type": "markdown",
      "source": [
        "get the name of the top 3 neighbours for vectors between index start and start + 10"
      ]
    },
    {
      "metadata": {
        "id": "JDj3MTc0NwNz",
        "colab_type": "code",
        "colab": {
          "base_uri": "https://localhost:8080/",
          "height": 187
        },
        "outputId": "de12eeb1-6604-4582-c541-452d7d38788d"
      },
      "cell_type": "code",
      "source": [
        "random_ids = [idxs[randint(0, len(idxs))] for i in range(10)]\n",
        "[[words_1k[id] for id in ids[:3]] for ids in random_ids]"
      ],
      "execution_count": 49,
      "outputs": [
        {
          "output_type": "execute_result",
          "data": {
            "text/plain": [
              "[['coffee_mug', 'redshank', 'miniskirt'],\n",
              " ['redshank', 'miniskirt', 'bathtub'],\n",
              " ['redshank', 'miniskirt', 'bathtub'],\n",
              " ['redshank', 'miniskirt', 'bathtub'],\n",
              " ['coffee_mug', 'redshank', 'miniskirt'],\n",
              " ['redshank', 'miniskirt', 'bathtub'],\n",
              " ['redshank', 'miniskirt', 'bathtub'],\n",
              " ['redshank', 'miniskirt', 'bathtub'],\n",
              " ['coffee_mug', 'redshank', 'miniskirt'],\n",
              " ['redshank', 'miniskirt', 'bathtub']]"
            ]
          },
          "metadata": {
            "tags": []
          },
          "execution_count": 49
        }
      ]
    },
    {
      "metadata": {
        "id": "1TM_oRAuO7HH",
        "colab_type": "text"
      },
      "cell_type": "markdown",
      "source": [
        "#### on predicted labels"
      ]
    },
    {
      "metadata": {
        "id": "OHpEjUzFq1RE",
        "colab_type": "code",
        "colab": {}
      },
      "cell_type": "code",
      "source": [
        "idxs, dists = get_knns(wvs_index, y_hat)"
      ],
      "execution_count": 0,
      "outputs": []
    },
    {
      "metadata": {
        "id": "iNKCb7cn53wi",
        "colab_type": "code",
        "colab": {
          "base_uri": "https://localhost:8080/",
          "height": 187
        },
        "outputId": "3158ad42-10bf-49d0-f3f3-9a0c34256a43"
      },
      "cell_type": "code",
      "source": [
        "random_ids = [idxs[randint(0, len(idxs))] for i in range(10)]\n",
        "[[words_1k[id] for id in ids[:3]] for ids in random_ids]"
      ],
      "execution_count": 51,
      "outputs": [
        {
          "output_type": "execute_result",
          "data": {
            "text/plain": [
              "[['redshank', 'miniskirt', 'bathtub'],\n",
              " ['redshank', 'miniskirt', 'bathtub'],\n",
              " ['redshank', 'miniskirt', 'bathtub'],\n",
              " ['redshank', 'miniskirt', 'bathtub'],\n",
              " ['redshank', 'miniskirt', 'bathtub'],\n",
              " ['redshank', 'miniskirt', 'bathtub'],\n",
              " ['redshank', 'miniskirt', 'bathtub'],\n",
              " ['redshank', 'miniskirt', 'bathtub'],\n",
              " ['redshank', 'miniskirt', 'bathtub'],\n",
              " ['redshank', 'miniskirt', 'bathtub']]"
            ]
          },
          "metadata": {
            "tags": []
          },
          "execution_count": 51
        }
      ]
    },
    {
      "metadata": {
        "id": "SNDWBsfOPeEL",
        "colab_type": "text"
      },
      "cell_type": "markdown",
      "source": [
        "these results are complete garbadge "
      ]
    },
    {
      "metadata": {
        "id": "bNmWHpT-P5mn",
        "colab_type": "text"
      },
      "cell_type": "markdown",
      "source": [
        "### KNN on wordnet labels"
      ]
    },
    {
      "metadata": {
        "id": "hJGjJBVxQBjf",
        "colab_type": "text"
      },
      "cell_type": "markdown",
      "source": [
        "create an index against the word vector representation in FastText, then find the nearest words for what was predicted"
      ]
    },
    {
      "metadata": {
        "id": "J3gnZNlnUUxN",
        "colab_type": "code",
        "colab": {}
      },
      "cell_type": "code",
      "source": [
        "wvs_index = create_index(wvs_all) # nearest neighborhood on imageword2vec wvs"
      ],
      "execution_count": 0,
      "outputs": []
    },
    {
      "metadata": {
        "id": "FFyL0rDnUaun",
        "colab_type": "code",
        "colab": {}
      },
      "cell_type": "code",
      "source": [
        "idxs, dists = get_knns(wvs_index, y)"
      ],
      "execution_count": 0,
      "outputs": []
    },
    {
      "metadata": {
        "id": "R7PNcr_IUmsF",
        "colab_type": "code",
        "outputId": "843aa9c9-2ae7-49b9-c5fd-133cb5238b6e",
        "colab": {
          "base_uri": "https://localhost:8080/",
          "height": 187
        }
      },
      "cell_type": "code",
      "source": [
        "random_ids = [idxs[randint(0, len(idxs))] for i in range(10)]\n",
        "[[words_all[id] for id in ids[:3]] for ids in random_ids]"
      ],
      "execution_count": 57,
      "outputs": [
        {
          "output_type": "execute_result",
          "data": {
            "text/plain": [
              "[['orange', 'oranges', 'orang'],\n",
              " ['âksâr', 'август', 'ημερολόγιο'],\n",
              " ['âksâr', 'август', 'ημερολόγιο'],\n",
              " ['âksâr', 'август', 'ημερολόγιο'],\n",
              " ['acorn', 'corn', 'unicorn'],\n",
              " ['wooden', 'wedgwood', 'winwood'],\n",
              " ['âksâr', 'август', 'ημερολόγιο'],\n",
              " ['âksâr', 'август', 'ημερολόγιο'],\n",
              " ['âksâr', 'август', 'ημερολόγιο'],\n",
              " ['fountain', 'mountain', 'mountains']]"
            ]
          },
          "metadata": {
            "tags": []
          },
          "execution_count": 57
        }
      ]
    },
    {
      "metadata": {
        "id": "5cwjXbDxYSqw",
        "colab_type": "code",
        "colab": {}
      },
      "cell_type": "code",
      "source": [
        "idxs, dists = get_knns(wvs_index, y_hat)"
      ],
      "execution_count": 0,
      "outputs": []
    },
    {
      "metadata": {
        "id": "fDVtK0arYmwi",
        "colab_type": "code",
        "outputId": "5a1f9797-cb4c-43fd-9190-ce29a7156a3b",
        "colab": {
          "base_uri": "https://localhost:8080/",
          "height": 187
        }
      },
      "cell_type": "code",
      "source": [
        "[[words_all[id] for id in ids[:3]] for ids in random_ids]"
      ],
      "execution_count": 59,
      "outputs": [
        {
          "output_type": "execute_result",
          "data": {
            "text/plain": [
              "[['orange', 'oranges', 'orang'],\n",
              " ['âksâr', 'август', 'ημερολόγιο'],\n",
              " ['âksâr', 'август', 'ημερολόγιο'],\n",
              " ['âksâr', 'август', 'ημερολόγιο'],\n",
              " ['acorn', 'corn', 'unicorn'],\n",
              " ['wooden', 'wedgwood', 'winwood'],\n",
              " ['âksâr', 'август', 'ημερολόγιο'],\n",
              " ['âksâr', 'август', 'ημερολόγιο'],\n",
              " ['âksâr', 'август', 'ημερολόγιο'],\n",
              " ['fountain', 'mountain', 'mountains']]"
            ]
          },
          "metadata": {
            "tags": []
          },
          "execution_count": 59
        }
      ]
    },
    {
      "metadata": {
        "id": "5HXo7TstThoR",
        "colab_type": "text"
      },
      "cell_type": "markdown",
      "source": [
        "### Search: Text to Image"
      ]
    },
    {
      "metadata": {
        "id": "OjSM_v3hVRMJ",
        "colab_type": "text"
      },
      "cell_type": "markdown",
      "source": [
        "helper functions to display search result"
      ]
    },
    {
      "metadata": {
        "id": "Jye6CrvRVPUz",
        "colab_type": "code",
        "colab": {}
      },
      "cell_type": "code",
      "source": [
        "def show_img(fname, figsize=None, ax=None):\n",
        "    img = preprocessing.image.load_img(fname, target_size=image_size)\n",
        "    if not ax:\n",
        "        fig,ax = plt.subplots(figsize=figsize)\n",
        "    ax.imshow(img)\n",
        "    ax.axis('off')\n",
        "    return ax\n",
        "\n",
        "def show_imgs(fnames, cols, figsize=None):\n",
        "    fig,axes = plt.subplots(len(fnames)//cols, cols, figsize=figsize)\n",
        "    for i,ax in enumerate(axes.flat):\n",
        "        show_img(fnames[i], ax=ax)\n",
        "    plt.tight_layout()\n",
        "    plt.show()"
      ],
      "execution_count": 0,
      "outputs": []
    },
    {
      "metadata": {
        "id": "5ZN-d4HWTxfV",
        "colab_type": "text"
      },
      "cell_type": "markdown",
      "source": [
        "Create an index on the predicted images then lookup for images with neighrest vector representation to the representation of an example word"
      ]
    },
    {
      "metadata": {
        "id": "1r7uQMivUJZh",
        "colab_type": "code",
        "colab": {}
      },
      "cell_type": "code",
      "source": [
        "wvs_index = create_index(y_hat) # nearest neighborhood on imageword2vec wvs"
      ],
      "execution_count": 0,
      "outputs": []
    },
    {
      "metadata": {
        "id": "jyRsPwgDZPVk",
        "colab_type": "code",
        "colab": {}
      },
      "cell_type": "code",
      "source": [
        "word = 'boat'\n",
        "wv = word2vec[word]"
      ],
      "execution_count": 0,
      "outputs": []
    },
    {
      "metadata": {
        "id": "KzQnzYzEUN1a",
        "colab_type": "code",
        "colab": {}
      },
      "cell_type": "code",
      "source": [
        "idxs, dists = get_knn(wvs_index, wv)"
      ],
      "execution_count": 0,
      "outputs": []
    },
    {
      "metadata": {
        "id": "RkPuHqMkUk-b",
        "colab_type": "code",
        "colab": {
          "base_uri": "https://localhost:8080/",
          "height": 68
        },
        "outputId": "13aed79f-3cb6-4c92-eb59-74fbdd0bde41"
      },
      "cell_type": "code",
      "source": [
        "imgs = [[fnames[id] for id in ids[:3]] for ids in [idxs]]; imgs"
      ],
      "execution_count": 95,
      "outputs": [
        {
          "output_type": "execute_result",
          "data": {
            "text/plain": [
              "[['tiny-imagenet-200/train/n02823428/images/n02823428_396.JPEG',\n",
              "  'tiny-imagenet-200/train/n02815834/images/n02815834_124.JPEG',\n",
              "  'tiny-imagenet-200/train/n02823428/images/n02823428_343.JPEG']]"
            ]
          },
          "metadata": {
            "tags": []
          },
          "execution_count": 95
        }
      ]
    },
    {
      "metadata": {
        "id": "g7MMn9E7UtFw",
        "colab_type": "code",
        "colab": {
          "base_uri": "https://localhost:8080/",
          "height": 157
        },
        "outputId": "4152c932-1a13-45c0-dcc0-9d7d9c941fa9"
      },
      "cell_type": "code",
      "source": [
        "show_imgs(imgs[0], cols=3)"
      ],
      "execution_count": 98,
      "outputs": [
        {
          "output_type": "display_data",
          "data": {
            "image/png": "[encoded data removed]",
            "text/plain": [
              "<Figure size 432x288 with 3 Axes>"
            ]
          },
          "metadata": {
            "tags": []
          }
        }
      ]
    },
    {
      "metadata": {
        "id": "pdFllnHeUvL6",
        "colab_type": "code",
        "colab": {
          "base_uri": "https://localhost:8080/",
          "height": 157
        },
        "outputId": "551a7e2f-0b03-4c03-c0c0-a9db66d10564"
      },
      "cell_type": "code",
      "source": [
        "word = 'car'\n",
        "wv = word2vec[word]\n",
        "idxs, dists = get_knn(wvs_index, wv)\n",
        "imgs = [[fnames[id] for id in ids[:3]] for ids in [idxs]]\n",
        "show_imgs(imgs[0], cols=3)"
      ],
      "execution_count": 99,
      "outputs": [
        {
          "output_type": "display_data",
          "data": {
            "image/png": "[encoded data removed]",
            "text/plain": [
              "<Figure size 432x288 with 3 Axes>"
            ]
          },
          "metadata": {
            "tags": []
          }
        }
      ]
    },
    {
      "metadata": {
        "id": "e98B3G-pXoAo",
        "colab_type": "code",
        "colab": {
          "base_uri": "https://localhost:8080/",
          "height": 157
        },
        "outputId": "a8f4653c-a08e-4c44-961a-e56642b5bf63"
      },
      "cell_type": "code",
      "source": [
        "word = 'engine'\n",
        "wv = word2vec[word]\n",
        "idxs, dists = get_knn(wvs_index, wv)\n",
        "imgs = [[fnames[id] for id in ids[:3]] for ids in [idxs]]\n",
        "show_imgs(imgs[0], cols=3)"
      ],
      "execution_count": 101,
      "outputs": [
        {
          "output_type": "display_data",
          "data": {
            "image/png": "[encoded data removed]",
            "text/plain": [
              "<Figure size 432x288 with 3 Axes>"
            ]
          },
          "metadata": {
            "tags": []
          }
        }
      ]
    },
    {
      "metadata": {
        "id": "8qta3u0FXfhV",
        "colab_type": "text"
      },
      "cell_type": "markdown",
      "source": [
        "search for something between a boat and an engine"
      ]
    },
    {
      "metadata": {
        "id": "jRtY5VlEWj1f",
        "colab_type": "code",
        "colab": {}
      },
      "cell_type": "code",
      "source": [
        "vec = (np.array(word2vec['engine']) + np.array(word2vec['boat'])) / 2"
      ],
      "execution_count": 0,
      "outputs": []
    },
    {
      "metadata": {
        "id": "E5LQf5GCYqjC",
        "colab_type": "code",
        "colab": {
          "base_uri": "https://localhost:8080/",
          "height": 157
        },
        "outputId": "3a107fed-4a00-417c-ae2f-9870725d74fc"
      },
      "cell_type": "code",
      "source": [
        "idxs, dists = get_knn(wvs_index, vec.tolist())\n",
        "imgs = [[fnames[id] for id in ids[:3]] for ids in [idxs]]\n",
        "show_imgs(imgs[0], cols=3)"
      ],
      "execution_count": 117,
      "outputs": [
        {
          "output_type": "display_data",
          "data": {
            "image/png": "[encoded data removed]",
            "text/plain": [
              "<Figure size 432x288 with 3 Axes>"
            ]
          },
          "metadata": {
            "tags": []
          }
        }
      ]
    },
    {
      "metadata": {
        "id": "ALVuSfRzaJkT",
        "colab_type": "text"
      },
      "cell_type": "markdown",
      "source": [
        "### Search: Image to Image"
      ]
    },
    {
      "metadata": {
        "id": "kmv3eaLFWm5H",
        "colab_type": "code",
        "colab": {
          "base_uri": "https://localhost:8080/",
          "height": 286
        },
        "outputId": "2524579c-6556-4de1-bed2-27d0d45b6d18"
      },
      "cell_type": "code",
      "source": [
        "fname = imagenet_path/'test/images/test_104.JPEG'\n",
        "show_img(fname)"
      ],
      "execution_count": 123,
      "outputs": [
        {
          "output_type": "execute_result",
          "data": {
            "text/plain": [
              "<matplotlib.axes._subplots.AxesSubplot at 0x7f560f4fdb70>"
            ]
          },
          "metadata": {
            "tags": []
          },
          "execution_count": 123
        },
        {
          "output_type": "display_data",
          "data": {
            "image/png": "[encoded data removed]",
            "text/plain": [
              "<Figure size 432x288 with 1 Axes>"
            ]
          },
          "metadata": {
            "tags": []
          }
        }
      ]
    },
    {
      "metadata": {
        "id": "GiAXuW52Xzs9",
        "colab_type": "code",
        "colab": {}
      },
      "cell_type": "code",
      "source": [
        "img = preprocessing.image.load_img(fname, target_size=image_size)\n",
        "img_data = preprocessing.image.img_to_array(img)\n",
        "vec = model.predict(img_data[None])"
      ],
      "execution_count": 0,
      "outputs": []
    },
    {
      "metadata": {
        "id": "d3vgVY0YYcy7",
        "colab_type": "code",
        "colab": {
          "base_uri": "https://localhost:8080/",
          "height": 157
        },
        "outputId": "7a20eec4-1d05-403e-ac18-b0ec2c55ab45"
      },
      "cell_type": "code",
      "source": [
        "idxs, dists = get_knn(wvs_index, vec)\n",
        "imgs = [[fnames[id] for id in ids[:3]] for ids in [idxs]]\n",
        "show_imgs(imgs[0], cols=3)"
      ],
      "execution_count": 125,
      "outputs": [
        {
          "output_type": "display_data",
          "data": {
            "image/png": "[encoded data removed]",
            "text/plain": [
              "<Figure size 432x288 with 3 Axes>"
            ]
          },
          "metadata": {
            "tags": []
          }
        }
      ]
    },
    {
      "metadata": {
        "id": "cKFLwbBjbfOg",
        "colab_type": "text"
      },
      "cell_type": "markdown",
      "source": [
        "Oh finally something meaningful, images with car and beaches!"
      ]
    },
    {
      "metadata": {
        "id": "tmAm--tLbcuW",
        "colab_type": "code",
        "colab": {}
      },
      "cell_type": "code",
      "source": [
        ""
      ],
      "execution_count": 0,
      "outputs": []
    }
  ]
}