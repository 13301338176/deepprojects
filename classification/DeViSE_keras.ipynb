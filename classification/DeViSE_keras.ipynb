{
  "nbformat": 4,
  "nbformat_minor": 0,
  "metadata": {
    "colab": {
      "name": "DeViSE-keras.ipynb",
      "version": "0.3.2",
      "provenance": [],
      "collapsed_sections": []
    },
    "kernelspec": {
      "name": "python3",
      "display_name": "Python 3"
    },
    "accelerator": "GPU"
  },
  "cells": [
    {
      "metadata": {
        "id": "_bM2T4Mj5O38",
        "colab_type": "text"
      },
      "cell_type": "markdown",
      "source": [
        "# DeViSE in Keras\n",
        "Keras implementation of the Neural Network described in Andrea Frome and al. 2013 [DeViSE: A Deep Visual-Semantic Embedding Model](https://papers.nips.cc/paper/5204-devise-a-deep-visual-semantic-embedding-model).\n",
        "\n",
        "More on word2vec check this [link](https://skymind.ai/wiki/word2vec).\n",
        "\n",
        "<table class=\"tfo-notebook-buttons\" align=\"left\"><td>\n",
        "<a target=\"_blank\"  href=\"https://colab.research.google.com/github/dzlab/deepprojects/blob/master/classification/DeViSE_keras.ipynb\">\n",
        "    <img src=\"https://www.tensorflow.org/images/colab_logo_32px.png\" />Run in Google Colab</a>  \n",
        "</td><td>\n",
        "<a target=\"_blank\"  href=\"https://github.com/dzlab/deepprojects/blob/master/classification/DeViSE_keras.ipynb\"><img width=32px src=\"https://www.tensorflow.org/images/GitHub-Mark-32px.png\" />View source on GitHub</a></td></table>"
      ]
    },
    {
      "metadata": {
        "id": "1PyPW42z3FnR",
        "colab_type": "code",
        "colab": {}
      },
      "cell_type": "code",
      "source": [
        "%matplotlib inline\n",
        "%reload_ext autoreload\n",
        "%autoreload 2"
      ],
      "execution_count": 0,
      "outputs": []
    },
    {
      "metadata": {
        "id": "i6uqwJ92Q5ib",
        "colab_type": "code",
        "colab": {
          "base_uri": "https://localhost:8080/",
          "height": 683
        },
        "outputId": "038bc443-2c64-4bd4-b828-ca7277e51ff2"
      },
      "cell_type": "code",
      "source": [
        "!pip install nmslib"
      ],
      "execution_count": 31,
      "outputs": [
        {
          "output_type": "stream",
          "text": [
            "Collecting nmslib\n",
            "\u001b[?25l  Downloading https://files.pythonhosted.org/packages/e1/95/1f7c90d682b79398c5ee3f9296be8d2640fa41de24226bcf5473c801ada6/nmslib-1.7.3.6.tar.gz (255kB)\n",
            "\u001b[K    100% |████████████████████████████████| 256kB 9.0MB/s \n",
            "\u001b[?25hCollecting pybind11>=2.0 (from nmslib)\n",
            "\u001b[?25l  Downloading https://files.pythonhosted.org/packages/f2/7c/e71995e59e108799800cb0fce6c4b4927914d7eada0723dd20bae3b51786/pybind11-2.2.4-py2.py3-none-any.whl (145kB)\n",
            "\u001b[K    100% |████████████████████████████████| 153kB 34.7MB/s \n",
            "\u001b[?25hRequirement already satisfied: numpy in /usr/local/lib/python3.6/dist-packages (from nmslib) (1.14.6)\n",
            "Building wheels for collected packages: nmslib\n",
            "  Running setup.py bdist_wheel for nmslib ... \u001b[?25l-\b \b\\\b \berror\n",
            "  Complete output from command /usr/bin/python3 -u -c \"import setuptools, tokenize;__file__='/tmp/pip-install-ko1b9g1_/nmslib/setup.py';f=getattr(tokenize, 'open', open)(__file__);code=f.read().replace('\\r\\n', '\\n');f.close();exec(compile(code, __file__, 'exec'))\" bdist_wheel -d /tmp/pip-wheel-d0eoo_o2 --python-tag cp36:\n",
            "  running bdist_wheel\n",
            "  running build\n",
            "  running build_ext\n",
            "  creating tmp\n",
            "  x86_64-linux-gnu-gcc -pthread -DNDEBUG -g -fwrapv -O2 -Wall -g -fstack-protector-strong -Wformat -Werror=format-security -Wdate-time -D_FORTIFY_SOURCE=2 -fPIC -I/usr/include/python3.6m -c /tmp/tmpkpzh1ik6.cpp -o tmp/tmpkpzh1ik6.o -std=c++14\n",
            "  x86_64-linux-gnu-gcc -pthread -DNDEBUG -g -fwrapv -O2 -Wall -g -fstack-protector-strong -Wformat -Werror=format-security -Wdate-time -D_FORTIFY_SOURCE=2 -fPIC -I/usr/include/python3.6m -c /tmp/tmpfaivxlb2.cpp -o tmp/tmpfaivxlb2.o -fvisibility=hidden\n",
            "  building 'nmslib' extension\n",
            "  creating build\n",
            "  creating build/temp.linux-x86_64-3.6\n",
            "  creating build/temp.linux-x86_64-3.6/nmslib\n",
            "  creating build/temp.linux-x86_64-3.6/nmslib/similarity_search\n",
            "  creating build/temp.linux-x86_64-3.6/nmslib/similarity_search/src\n",
            "  creating build/temp.linux-x86_64-3.6/nmslib/similarity_search/src/method\n",
            "  creating build/temp.linux-x86_64-3.6/nmslib/similarity_search/src/space\n",
            "  x86_64-linux-gnu-gcc -pthread -DNDEBUG -g -fwrapv -O2 -Wall -g -fstack-protector-strong -Wformat -Werror=format-security -Wdate-time -D_FORTIFY_SOURCE=2 -fPIC -I./nmslib/similarity_search/include -I/usr/local/include/python3.6 -I/root/.local/include/python3.6m -I/usr/local/lib/python3.6/dist-packages/numpy/core/include -I/usr/include/python3.6m -c nmslib.cc -o build/temp.linux-x86_64-3.6/nmslib.o -O3 -march=native -fopenmp -DVERSION_INFO=\"1.7.3.6\" -std=c++14 -fvisibility=hidden\n",
            "  nmslib.cc:16:10: fatal error: pybind11/pybind11.h: No such file or directory\n",
            "   #include <pybind11/pybind11.h>\n",
            "            ^~~~~~~~~~~~~~~~~~~~~\n",
            "  compilation terminated.\n",
            "  error: command 'x86_64-linux-gnu-gcc' failed with exit status 1\n",
            "  \n",
            "  ----------------------------------------\n",
            "\u001b[31m  Failed building wheel for nmslib\u001b[0m\n",
            "\u001b[?25h  Running setup.py clean for nmslib\n",
            "Failed to build nmslib\n",
            "Installing collected packages: pybind11, nmslib\n",
            "  Running setup.py install for nmslib ... \u001b[?25l-y\n",
            "\b \b\\\b \b|\b \b/\b \b-\b \b\\\b \b|\b \b/\b \b-\b \b\\\b \b|\b \b/\b \b-\b \b\\\b \b|\b \b/\b \b-\b \b\\\b \b|\b \b/\b \b-\b \b\\\b \b|\b \b/\b \b-\b \b\\\b \b|\b \b/\b \b-\b \b\\\b \b|\b \b/\b \b-\b \b\\\b \b|\b \b/\b \b-\b \b\\\b \b|\b \b/\b \b-\b \b\\\b \b|\b \b/\b \b-\b \b\\\b \b|\b \b/\b \b-\b \b\\\b \b|\b \b/\b \b-\b \b\\\b \b|\b \b/\b \b-\b \b\\\b \b|\b \b/\b \b-\b \b\\\b \b|\b \b/\b \b-\b \b\\\b \b|\b \b/\b \b-\b \b\\\b \b|\b \b/\b \b-\b \b\\\b \b|\b \b/\b \b-\b \b\\\b \b|\b \b/\b \b-\b \b\\\b \b|\b \b/\b \b-\b \b\\\b \b|\b \b/\b \bdone\n",
            "\u001b[?25hSuccessfully installed nmslib-1.7.3.6 pybind11-2.2.4\n"
          ],
          "name": "stdout"
        }
      ]
    },
    {
      "metadata": {
        "id": "ooxYU6-q2uSH",
        "colab_type": "code",
        "colab": {}
      },
      "cell_type": "code",
      "source": [
        "import warnings\n",
        "warnings.filterwarnings(\"ignore\")"
      ],
      "execution_count": 0,
      "outputs": []
    },
    {
      "metadata": {
        "id": "76vBnnn35r-e",
        "colab_type": "code",
        "colab": {}
      },
      "cell_type": "code",
      "source": [
        "import tensorflow as tf\n",
        "from tensorflow.keras.applications.resnet50 import ResNet50\n",
        "from tensorflow.keras.utils import Sequence\n",
        "from tensorflow.keras.layers import Dense, Dropout, GlobalAveragePooling2D, BatchNormalization\n",
        "from tensorflow.keras.optimizers import Adam\n",
        "from tensorflow.keras import backend as K\n",
        "from tensorflow.keras.models import Model, load_model\n",
        "from tensorflow.keras import preprocessing"
      ],
      "execution_count": 0,
      "outputs": []
    },
    {
      "metadata": {
        "id": "wZLPdmNE1Ynr",
        "colab_type": "code",
        "colab": {}
      },
      "cell_type": "code",
      "source": [
        "import numpy as np\n",
        "from tqdm import tqdm, tqdm_notebook\n",
        "import io\n",
        "import pathlib\n",
        "import collections\n",
        "import matplotlib.pyplot as plt\n",
        "import seaborn as sns\n",
        "from PIL import Image"
      ],
      "execution_count": 0,
      "outputs": []
    },
    {
      "metadata": {
        "id": "mDJ3x7Wvxv-W",
        "colab_type": "code",
        "colab": {}
      },
      "cell_type": "code",
      "source": [
        "import pdb"
      ],
      "execution_count": 0,
      "outputs": []
    },
    {
      "metadata": {
        "id": "XXmbx7yjVH7R",
        "colab_type": "code",
        "colab": {
          "base_uri": "https://localhost:8080/",
          "height": 122
        },
        "outputId": "c3bf49a0-a2ae-42d2-b329-a67da3e4cbb6"
      },
      "cell_type": "code",
      "source": [
        "from google.colab import drive\n",
        "drive.mount('/content/gdrive')"
      ],
      "execution_count": 43,
      "outputs": [
        {
          "output_type": "stream",
          "text": [
            "Go to this URL in a browser: https://accounts.google.com/o/oauth2/auth?client_id=947318989803-6bn6qk8qdgf4n4g3pfee6491hc0brc4i.apps.googleusercontent.com&redirect_uri=urn%3Aietf%3Awg%3Aoauth%3A2.0%3Aoob&scope=email%20https%3A%2F%2Fwww.googleapis.com%2Fauth%2Fdocs.test%20https%3A%2F%2Fwww.googleapis.com%2Fauth%2Fdrive%20https%3A%2F%2Fwww.googleapis.com%2Fauth%2Fdrive.photos.readonly%20https%3A%2F%2Fwww.googleapis.com%2Fauth%2Fpeopleapi.readonly&response_type=code\n",
            "\n",
            "Enter your authorization code:\n",
            "··········\n",
            "Mounted at /content/gdrive\n"
          ],
          "name": "stdout"
        }
      ]
    },
    {
      "metadata": {
        "id": "D1rqF4Jey_pP",
        "colab_type": "text"
      },
      "cell_type": "markdown",
      "source": [
        "## Data"
      ]
    },
    {
      "metadata": {
        "id": "fdy6H0qc-KGI",
        "colab_type": "text"
      },
      "cell_type": "markdown",
      "source": [
        "### ImageNet\n",
        "Download the [tiny](https://tiny-imagenet.herokuapp.com/) ImageNet dataset of size 236 MB, or the full dataset which is of size 155 GB and can be found [here](https://www.kaggle.com/c/imagenet-object-localization-challenge/data)."
      ]
    },
    {
      "metadata": {
        "id": "RvAqc09TtWTJ",
        "colab_type": "code",
        "outputId": "f922af07-18d5-4041-801a-a5ebe8c2540e",
        "colab": {
          "base_uri": "https://localhost:8080/",
          "height": 68
        }
      },
      "cell_type": "code",
      "source": [
        "!curl -O http://cs231n.stanford.edu/tiny-imagenet-200.zip"
      ],
      "execution_count": 6,
      "outputs": [
        {
          "output_type": "stream",
          "text": [
            "  % Total    % Received % Xferd  Average Speed   Time    Time     Time  Current\n",
            "                                 Dload  Upload   Total   Spent    Left  Speed\n",
            "100  236M  100  236M    0     0  52.1M      0  0:00:04  0:00:04 --:--:-- 56.9M\n"
          ],
          "name": "stdout"
        }
      ]
    },
    {
      "metadata": {
        "id": "4e01jN78zhTt",
        "colab_type": "code",
        "colab": {}
      },
      "cell_type": "code",
      "source": [
        "!unzip -q tiny-imagenet-200.zip"
      ],
      "execution_count": 0,
      "outputs": []
    },
    {
      "metadata": {
        "id": "KKpN_o-y05oj",
        "colab_type": "code",
        "outputId": "31a72d99-3da8-4c57-f47c-d54f29f36364",
        "colab": {
          "base_uri": "https://localhost:8080/",
          "height": 34
        }
      },
      "cell_type": "code",
      "source": [
        "!ls tiny-imagenet-200/"
      ],
      "execution_count": 0,
      "outputs": [
        {
          "output_type": "stream",
          "text": [
            "test  train  val  wnids.txt  words.txt\n"
          ],
          "name": "stdout"
        }
      ]
    },
    {
      "metadata": {
        "id": "Pandvz5amdA8",
        "colab_type": "code",
        "outputId": "87cc85bb-b5f6-4b25-9853-f22f8467559d",
        "colab": {
          "base_uri": "https://localhost:8080/",
          "height": 187
        }
      },
      "cell_type": "code",
      "source": [
        "!ls tiny-imagenet-200/train/n01443537/images | head"
      ],
      "execution_count": 0,
      "outputs": [
        {
          "output_type": "stream",
          "text": [
            "n01443537_0.JPEG\n",
            "n01443537_100.JPEG\n",
            "n01443537_101.JPEG\n",
            "n01443537_102.JPEG\n",
            "n01443537_103.JPEG\n",
            "n01443537_104.JPEG\n",
            "n01443537_105.JPEG\n",
            "n01443537_106.JPEG\n",
            "n01443537_107.JPEG\n",
            "n01443537_108.JPEG\n"
          ],
          "name": "stdout"
        }
      ]
    },
    {
      "metadata": {
        "id": "ZAlcSP1d1CKa",
        "colab_type": "code",
        "outputId": "6fcc4437-1077-4efe-f484-4f68def208e9",
        "colab": {
          "base_uri": "https://localhost:8080/",
          "height": 187
        }
      },
      "cell_type": "code",
      "source": [
        "!head tiny-imagenet-200/words.txt"
      ],
      "execution_count": 0,
      "outputs": [
        {
          "output_type": "stream",
          "text": [
            "n00001740\tentity\n",
            "n00001930\tphysical entity\n",
            "n00002137\tabstraction, abstract entity\n",
            "n00002452\tthing\n",
            "n00002684\tobject, physical object\n",
            "n00003553\twhole, unit\n",
            "n00003993\tcongener\n",
            "n00004258\tliving thing, animate thing\n",
            "n00004475\torganism, being\n",
            "n00005787\tbenthos\n"
          ],
          "name": "stdout"
        }
      ]
    },
    {
      "metadata": {
        "id": "ViCVewKB1J0Q",
        "colab_type": "code",
        "outputId": "4a035927-1439-4a5a-e90d-d10575700465",
        "colab": {
          "base_uri": "https://localhost:8080/",
          "height": 187
        }
      },
      "cell_type": "code",
      "source": [
        "!head tiny-imagenet-200/wnids.txt"
      ],
      "execution_count": 0,
      "outputs": [
        {
          "output_type": "stream",
          "text": [
            "n02124075\n",
            "n04067472\n",
            "n04540053\n",
            "n04099969\n",
            "n07749582\n",
            "n01641577\n",
            "n02802426\n",
            "n09246464\n",
            "n07920052\n",
            "n03970156\n"
          ],
          "name": "stdout"
        }
      ]
    },
    {
      "metadata": {
        "id": "1yHoADhO2fVN",
        "colab_type": "code",
        "outputId": "9236acfe-a7ef-48c8-f2d0-26c28c7901dc",
        "colab": {
          "base_uri": "https://localhost:8080/",
          "height": 34
        }
      },
      "cell_type": "code",
      "source": [
        "!wc -l tiny-imagenet-200/words.txt"
      ],
      "execution_count": 0,
      "outputs": [
        {
          "output_type": "stream",
          "text": [
            "82114 tiny-imagenet-200/words.txt\n"
          ],
          "name": "stdout"
        }
      ]
    },
    {
      "metadata": {
        "id": "BdZcvwGK2YN2",
        "colab_type": "code",
        "outputId": "f2a8f5b0-a03a-41cd-c878-aba8ce575e16",
        "colab": {
          "base_uri": "https://localhost:8080/",
          "height": 34
        }
      },
      "cell_type": "code",
      "source": [
        "!wc -l tiny-imagenet-200/wnids.txt"
      ],
      "execution_count": 0,
      "outputs": [
        {
          "output_type": "stream",
          "text": [
            "200 tiny-imagenet-200/wnids.txt\n"
          ],
          "name": "stdout"
        }
      ]
    },
    {
      "metadata": {
        "id": "hHoyhwGO-PL2",
        "colab_type": "text"
      },
      "cell_type": "markdown",
      "source": [
        "### Word2Vec\n",
        "Download a decent [word2vec](https://skymind.ai/wiki/word2vec) representation like Facebook's [FastText](https://fasttext.cc/docs/en/english-vectors.html)."
      ]
    },
    {
      "metadata": {
        "id": "Gex0QVhJ-T7a",
        "colab_type": "code",
        "outputId": "a79a9ddc-4c86-45ae-f9ab-9efa20fa6f46",
        "colab": {
          "base_uri": "https://localhost:8080/",
          "height": 68
        }
      },
      "cell_type": "code",
      "source": [
        "!curl -O https://s3-us-west-1.amazonaws.com/fasttext-vectors/wiki-news-300d-1M.vec.zip"
      ],
      "execution_count": 8,
      "outputs": [
        {
          "output_type": "stream",
          "text": [
            "  % Total    % Received % Xferd  Average Speed   Time    Time     Time  Current\n",
            "                                 Dload  Upload   Total   Spent    Left  Speed\n",
            "100  650M  100  650M    0     0  52.8M      0  0:00:12  0:00:12 --:--:-- 53.8M\n"
          ],
          "name": "stdout"
        }
      ]
    },
    {
      "metadata": {
        "id": "YCZmsnmS-olf",
        "colab_type": "code",
        "colab": {}
      },
      "cell_type": "code",
      "source": [
        "!unzip -q wiki-news-300d-1M.vec.zip"
      ],
      "execution_count": 0,
      "outputs": []
    },
    {
      "metadata": {
        "id": "F_UB52hvJR0A",
        "colab_type": "code",
        "outputId": "96718899-6cee-4004-ec01-25b2c291d804",
        "colab": {
          "base_uri": "https://localhost:8080/",
          "height": 68
        }
      },
      "cell_type": "code",
      "source": [
        "!curl -O https://s3-us-west-1.amazonaws.com/fasttext-vectors/wiki.br.vec"
      ],
      "execution_count": 10,
      "outputs": [
        {
          "output_type": "stream",
          "text": [
            "  % Total    % Received % Xferd  Average Speed   Time    Time     Time  Current\n",
            "                                 Dload  Upload   Total   Spent    Left  Speed\n",
            "100  202M  100  202M    0     0  46.8M      0  0:00:04  0:00:04 --:--:-- 46.8M\n"
          ],
          "name": "stdout"
        }
      ]
    },
    {
      "metadata": {
        "id": "uZb3W6d2MXzY",
        "colab_type": "code",
        "colab": {}
      },
      "cell_type": "code",
      "source": [
        "!head wiki.br.vec"
      ],
      "execution_count": 0,
      "outputs": []
    },
    {
      "metadata": {
        "id": "LEPpaD5b_mJg",
        "colab_type": "code",
        "outputId": "3515fa1e-3827-49cf-cf3d-40834f885fec",
        "colab": {
          "base_uri": "https://localhost:8080/",
          "height": 51
        }
      },
      "cell_type": "code",
      "source": [
        "!ls "
      ],
      "execution_count": 0,
      "outputs": [
        {
          "output_type": "stream",
          "text": [
            "sample_data\t   tiny-imagenet-200.zip  wiki-news-300d-1M.vec.zip\n",
            "tiny-imagenet-200  wiki-news-300d-1M.vec\n"
          ],
          "name": "stdout"
        }
      ]
    },
    {
      "metadata": {
        "id": "Ak9pXUIe549Z",
        "colab_type": "code",
        "colab": {}
      },
      "cell_type": "code",
      "source": [
        "path = pathlib.Path('.')\n",
        "imagenet_path = path/'tiny-imagenet-200'\n",
        "word2vec_path = path"
      ],
      "execution_count": 0,
      "outputs": []
    },
    {
      "metadata": {
        "id": "l_O5fueGGQwQ",
        "colab_type": "text"
      },
      "cell_type": "markdown",
      "source": [
        "Load the word vectors"
      ]
    },
    {
      "metadata": {
        "id": "wslXv9WPF82z",
        "colab_type": "code",
        "colab": {}
      },
      "cell_type": "code",
      "source": [
        "# load the word2vec representations into numpy arrays\n",
        "def load_vectors(fname):\n",
        "    input = io.open(fname, 'r', encoding='utf-8', newline='\\n', errors='ignore')\n",
        "    # read first line which contains number of tokens and vector dimension\n",
        "    num, dim = map(int, input.readline().split())\n",
        "    mean = np.zeros((dim), dtype=np.float32)\n",
        "    # read line and convert tokens word2vec representation into numpy arrays\n",
        "    data = {}\n",
        "    for line in tqdm(input):\n",
        "        tokens = line.rstrip().split(' ')\n",
        "        data[tokens[0]] = [np.float32(i) for i in tokens[1:]]\n",
        "        mean = mean + data[tokens[0]]\n",
        "    # set the vector representation for unkown words with the mean vector\n",
        "    mean = mean / num\n",
        "    word2vec = collections.defaultdict(lambda:mean, data)\n",
        "    return word2vec"
      ],
      "execution_count": 0,
      "outputs": []
    },
    {
      "metadata": {
        "id": "y0efbYHeGG0K",
        "colab_type": "code",
        "outputId": "50681869-fd3f-415a-8d4f-96178d49250e",
        "colab": {
          "base_uri": "https://localhost:8080/",
          "height": 34
        }
      },
      "cell_type": "code",
      "source": [
        "word2vec = load_vectors(word2vec_path/'wiki.br.vec') # 'wiki-news-300d-1M.vec'"
      ],
      "execution_count": 17,
      "outputs": [
        {
          "output_type": "stream",
          "text": [
            "80719it [00:25, 3120.66it/s]\n"
          ],
          "name": "stderr"
        }
      ]
    },
    {
      "metadata": {
        "id": "1ZP-inXcQDRK",
        "colab_type": "text"
      },
      "cell_type": "markdown",
      "source": [
        "Get the vector for few words and check the correlation coefficents between each of them"
      ]
    },
    {
      "metadata": {
        "id": "PEu9sDhlJk5p",
        "colab_type": "code",
        "colab": {}
      },
      "cell_type": "code",
      "source": [
        "boat_vec = word2vec['boat']\n",
        "plane_vec = word2vec['plane']\n",
        "orange_vec = word2vec['orange']\n",
        "slug_vec = word2vec['slug']"
      ],
      "execution_count": 0,
      "outputs": []
    },
    {
      "metadata": {
        "id": "ePFmRUe_NhF8",
        "colab_type": "code",
        "outputId": "cb1cf2f1-39b8-4e19-8d12-08fcced6cf40",
        "colab": {
          "base_uri": "https://localhost:8080/",
          "height": 51
        }
      },
      "cell_type": "code",
      "source": [
        "np.corrcoef(boat_vec, plane_vec)"
      ],
      "execution_count": 14,
      "outputs": [
        {
          "output_type": "execute_result",
          "data": {
            "text/plain": [
              "array([[1.        , 0.35449532],\n",
              "       [0.35449532, 1.        ]])"
            ]
          },
          "metadata": {
            "tags": []
          },
          "execution_count": 14
        }
      ]
    },
    {
      "metadata": {
        "id": "h5ns0aOkQyrh",
        "colab_type": "code",
        "outputId": "0ea6a6b5-ca0e-4cd5-e729-189905f1056f",
        "colab": {
          "base_uri": "https://localhost:8080/",
          "height": 51
        }
      },
      "cell_type": "code",
      "source": [
        "np.corrcoef(boat_vec, orange_vec)"
      ],
      "execution_count": 15,
      "outputs": [
        {
          "output_type": "execute_result",
          "data": {
            "text/plain": [
              "array([[1.        , 0.28873685],\n",
              "       [0.28873685, 1.        ]])"
            ]
          },
          "metadata": {
            "tags": []
          },
          "execution_count": 15
        }
      ]
    },
    {
      "metadata": {
        "id": "aHIXg7TyVjle",
        "colab_type": "code",
        "outputId": "03ae2423-e5e8-4129-a4b1-17729c7d0b03",
        "colab": {
          "base_uri": "https://localhost:8080/",
          "height": 51
        }
      },
      "cell_type": "code",
      "source": [
        "np.corrcoef(boat_vec, slug_vec)"
      ],
      "execution_count": 16,
      "outputs": [
        {
          "output_type": "execute_result",
          "data": {
            "text/plain": [
              "array([[1.        , 0.51434384],\n",
              "       [0.51434384, 1.        ]])"
            ]
          },
          "metadata": {
            "tags": []
          },
          "execution_count": 16
        }
      ]
    },
    {
      "metadata": {
        "id": "fbmwIertRFZc",
        "colab_type": "text"
      },
      "cell_type": "markdown",
      "source": [
        "### ImageNet / Word2Vec mapping\n",
        "Map imagenet classes (with their [synset](https://wordnet.princeton.edu/) repsentation) to their word2vec representation"
      ]
    },
    {
      "metadata": {
        "id": "Wzg-ux-tPRBv",
        "colab_type": "code",
        "colab": {}
      },
      "cell_type": "code",
      "source": [
        "def load_wordnet(fname, delimeter=' '):\n",
        "    input = io.open(fname, 'r', encoding='utf-8', newline='\\n', errors='ignore')\n",
        "    syn2word, word2syn = {}, {}\n",
        "    for line in tqdm(input):\n",
        "        tokens = line.rstrip().split(delimeter)\n",
        "        # synset to word\n",
        "        syn2word[tokens[0]] = tokens[1]\n",
        "        # word to synset\n",
        "        word2syn[tokens[1]] = tokens[0]\n",
        "    return syn2word, word2syn"
      ],
      "execution_count": 0,
      "outputs": []
    },
    {
      "metadata": {
        "id": "1vO_V81ORoRd",
        "colab_type": "code",
        "outputId": "355c4a9d-f4cd-410b-d40f-7060562ca0c5",
        "colab": {
          "base_uri": "https://localhost:8080/",
          "height": 34
        }
      },
      "cell_type": "code",
      "source": [
        "syn2word, word2syn = load_wordnet(imagenet_path/'words.txt', '\\t')"
      ],
      "execution_count": 19,
      "outputs": [
        {
          "output_type": "stream",
          "text": [
            "82115it [00:00, 523281.14it/s]\n"
          ],
          "name": "stderr"
        }
      ]
    },
    {
      "metadata": {
        "id": "ROCGKT__TrQP",
        "colab_type": "text"
      },
      "cell_type": "markdown",
      "source": [
        "read the synset ids for the training images"
      ]
    },
    {
      "metadata": {
        "id": "dJM1SDRnTQy6",
        "colab_type": "code",
        "colab": {}
      },
      "cell_type": "code",
      "source": [
        "classes = [id.rstrip() for id in open(imagenet_path/'wnids.txt')]"
      ],
      "execution_count": 0,
      "outputs": []
    },
    {
      "metadata": {
        "id": "j1wWO5t5Tf7T",
        "colab_type": "code",
        "outputId": "50fc8680-5172-4b0f-9428-03fa472242d2",
        "colab": {
          "base_uri": "https://localhost:8080/",
          "height": 34
        }
      },
      "cell_type": "code",
      "source": [
        "classes[2], syn2word[classes[2]], classes[100], syn2word[classes[100]]"
      ],
      "execution_count": 20,
      "outputs": [
        {
          "output_type": "execute_result",
          "data": {
            "text/plain": [
              "('n04540053', 'volleyball', 'n01945685', 'slug')"
            ]
          },
          "metadata": {
            "tags": []
          },
          "execution_count": 20
        }
      ]
    },
    {
      "metadata": {
        "id": "Ui6neYn5UCPM",
        "colab_type": "code",
        "outputId": "cc46d246-eec3-4f73-f920-a173d750c855",
        "colab": {
          "base_uri": "https://localhost:8080/",
          "height": 51
        }
      },
      "cell_type": "code",
      "source": [
        "np.corrcoef(word2vec[syn2word[classes[2]]], word2vec[syn2word[classes[100]]])"
      ],
      "execution_count": 21,
      "outputs": [
        {
          "output_type": "execute_result",
          "data": {
            "text/plain": [
              "array([[1.        , 0.57730468],\n",
              "       [0.57730468, 1.        ]])"
            ]
          },
          "metadata": {
            "tags": []
          },
          "execution_count": 21
        }
      ]
    },
    {
      "metadata": {
        "id": "oXnJz5ODzkT5",
        "colab_type": "text"
      },
      "cell_type": "markdown",
      "source": [
        "## Model\n",
        "ResNet-50 based model"
      ]
    },
    {
      "metadata": {
        "id": "suielAa6EYBs",
        "colab_type": "code",
        "colab": {}
      },
      "cell_type": "code",
      "source": [
        "batch_size = 64\n",
        "classes_size = 300"
      ],
      "execution_count": 0,
      "outputs": []
    },
    {
      "metadata": {
        "id": "VS0eNL7jjkya",
        "colab_type": "text"
      },
      "cell_type": "markdown",
      "source": [
        "### Data"
      ]
    },
    {
      "metadata": {
        "id": "wJn9OoecjoT8",
        "colab_type": "code",
        "colab": {}
      },
      "cell_type": "code",
      "source": [
        "class ImageGenerator(Sequence):\n",
        "    \"\"\"Generator for a sequence of Images\"\"\"\n",
        "    def __init__(self, path, fnames, labels, classes_size, batch_size, image_size=(224, 224), shuffle=True):\n",
        "        self.path = path\n",
        "        self.image_size, self.batch_size = image_size, batch_size\n",
        "        self.items, self.items_size = fnames, len(fnames)\n",
        "        self.labels = labels\n",
        "        self.classes_size = classes_size\n",
        "        self.indexes = np.arange(self.items_size)\n",
        "        self.shuffle= shuffle\n",
        "        self.on_epoch_end()\n",
        "\n",
        "    def load_urls_(self, indexes):\n",
        "        \"\"\"Load the urls of the images into a tensor\"\"\"\n",
        "        # init target arrays\n",
        "        images = np.zeros((self.batch_size, self.image_size[0], self.image_size[1], 3), dtype=np.float32)\n",
        "        labels = np.zeros((self.batch_size, self.classes_size), dtype=np.float32)\n",
        "        # Find list of urls in this batch\n",
        "        urls = [self.path/self.items[k] for k in indexes]\n",
        "        lbls = [self.labels[k] for k in indexes]\n",
        "        for index, img_path in enumerate(urls):\n",
        "            # read image from url\n",
        "            img = preprocessing.image.load_img(img_path, target_size=self.image_size)\n",
        "            img_data = preprocessing.image.img_to_array(img)\n",
        "            # read the proper label\n",
        "            lbl_data = lbls[index]\n",
        "            # append data\n",
        "            images[index, :] = img_data\n",
        "            labels[index, :] = lbl_data\n",
        "            \n",
        "        return images, labels\n",
        "        \n",
        "    def on_epoch_end(self):\n",
        "        \"\"\"Rearrange the indexes after each epoch\"\"\"\n",
        "        self.indexes = np.arange(self.items_size)\n",
        "        if self.shuffle == True:\n",
        "            np.random.shuffle(self.indexes)\n",
        "\n",
        "    def __len__(self):\n",
        "        \"\"\"Number of batches per epoch\"\"\"\n",
        "        return int(np.floor(self.items_size / self.batch_size))\n",
        "    \n",
        "    def __getitem__(self, index):\n",
        "        \"\"\"Generate one batch of data\"\"\"\n",
        "        # Generate indexes of the batch\n",
        "        indexes = self.indexes[index*self.batch_size:(index+1)*self.batch_size]\n",
        "\n",
        "        # Generate data for the batch\n",
        "        X, y = self.load_urls_(indexes)\n",
        "        return X, y"
      ],
      "execution_count": 0,
      "outputs": []
    },
    {
      "metadata": {
        "id": "6VpALQeUkc4L",
        "colab_type": "text"
      },
      "cell_type": "markdown",
      "source": [
        "A helper class for dealing with image datasets, gathers training/validation/test data into one place"
      ]
    },
    {
      "metadata": {
        "id": "oRs1-BEBvu4Y",
        "colab_type": "code",
        "colab": {}
      },
      "cell_type": "code",
      "source": [
        "def get_label_name_from_fname(self, fname):\n",
        "    \"\"\"Get the name of the image label from the filename\"\"\"\n",
        "    return '_'.join(fname.split('_')[:-1]).lower()\n",
        "    \n",
        "def get_label_index_from_fname(self, fname):\n",
        "    \"\"\"Get the index of the label from the filename\"\"\"\n",
        "    lbl_name = self.get_label_name_from_fname(fname)\n",
        "    return self.classes.index(lbl_name)\n",
        "\n",
        "# get the word from a given image filename\n",
        "def get_label_from_fname(fname):\n",
        "    fname = fname.split('/')\n",
        "    if 'train' in fname:\n",
        "        index = fname.index('train') + 1\n",
        "        synset = fname[index]\n",
        "        word = syn2word[synset]\n",
        "        return word\n",
        "    print('cannot find word for', fname)\n",
        "    return None\n",
        "\n",
        "# get the word2vec representation from a given image filename\n",
        "def get_word2vec_from_fname(fname):\n",
        "    fname = fname.split('/')\n",
        "    if 'train' in fname:\n",
        "        index = fname.index('train') + 1\n",
        "        synset = fname[index]\n",
        "        word = syn2word[synset]\n",
        "        vec = word2vec[word]\n",
        "        return vec    \n",
        "    print('cannot find word2vec representation for', fname)\n",
        "    return None"
      ],
      "execution_count": 0,
      "outputs": []
    },
    {
      "metadata": {
        "id": "gaVwpGyg5HWF",
        "colab_type": "code",
        "outputId": "94d3442e-7cc0-4b34-fb85-4c032234761e",
        "colab": {
          "base_uri": "https://localhost:8080/",
          "height": 187
        }
      },
      "cell_type": "code",
      "source": [
        "!head tiny-imagenet-200/val/val_annotations.txt"
      ],
      "execution_count": 25,
      "outputs": [
        {
          "output_type": "stream",
          "text": [
            "val_0.JPEG\tn03444034\t0\t32\t44\t62\n",
            "val_1.JPEG\tn04067472\t52\t55\t57\t59\n",
            "val_2.JPEG\tn04070727\t4\t0\t60\t55\n",
            "val_3.JPEG\tn02808440\t3\t3\t63\t63\n",
            "val_4.JPEG\tn02808440\t9\t27\t63\t48\n",
            "val_5.JPEG\tn04399382\t7\t0\t59\t63\n",
            "val_6.JPEG\tn04179913\t0\t0\t63\t56\n",
            "val_7.JPEG\tn02823428\t5\t0\t57\t63\n",
            "val_8.JPEG\tn04146614\t0\t31\t60\t60\n",
            "val_9.JPEG\tn02226429\t0\t3\t63\t57\n"
          ],
          "name": "stdout"
        }
      ]
    },
    {
      "metadata": {
        "id": "JM6kV4VMw-US",
        "colab_type": "text"
      },
      "cell_type": "markdown",
      "source": [
        "data bunch for gathering train/validation/test sets in one place"
      ]
    },
    {
      "metadata": {
        "id": "PMnNiR0kkb1o",
        "colab_type": "code",
        "colab": {}
      },
      "cell_type": "code",
      "source": [
        "def ceildiv(a, b):\n",
        "    return -(-a // b)\n",
        "\n",
        "def plots_from_files(imspaths, figsize=(10,5), rows=1, titles=None, maintitle=None):\n",
        "    \"\"\"Plot the images in a grid\"\"\"\n",
        "    f = plt.figure(figsize=figsize)\n",
        "    if maintitle is not None: plt.suptitle(maintitle, fontsize=10)\n",
        "    for i in range(len(imspaths)):\n",
        "        sp = f.add_subplot(rows, ceildiv(len(imspaths), rows), i+1)\n",
        "        sp.axis('Off')\n",
        "        if titles is not None: sp.set_title(titles[i], fontsize=16)\n",
        "        img = plt.imread(imspaths[i])\n",
        "        plt.imshow(img)\n",
        "\n",
        "\n",
        "class DataBunch():\n",
        "    \"\"\"An image data bunch\"\"\"\n",
        "    def __init__(self, path, classes_size, train_gen, valid_gen, test_gen=None):\n",
        "        self.path = path\n",
        "        self.cls_size = classes_size\n",
        "        self.train_gen = train_gen\n",
        "        self.valid_gen = valid_gen\n",
        "        self.test_gen = test_gen\n",
        "    \n",
        "    def show_bunch(self, get_title, rows=3, figsize=(7, 6), **kwargs):\n",
        "        \"\"\"Show a bunch of images from the dataset\"\"\"\n",
        "        imspaths = self.train_gen.items[0:9]\n",
        "        # '_'.join(p.split('_')[:-1]).lower()\n",
        "        titles = [get_title(p) for p in imspaths]\n",
        "        imspaths = [(path/p).as_posix() for p in imspaths]\n",
        "        plots_from_files(imspaths, figsize, rows, titles)\n",
        "\n",
        "    @property\n",
        "    def c(self):\n",
        "        return self.classes       \n",
        "    @property\n",
        "    def classes_size(self):\n",
        "        return self.cls_size"
      ],
      "execution_count": 0,
      "outputs": []
    },
    {
      "metadata": {
        "id": "9bk5Ux8qD-02",
        "colab_type": "text"
      },
      "cell_type": "markdown",
      "source": [
        "#### training dataset"
      ]
    },
    {
      "metadata": {
        "id": "2-90vtLvlvtH",
        "colab_type": "code",
        "colab": {
          "base_uri": "https://localhost:8080/",
          "height": 34
        },
        "outputId": "00cd4670-3945-4e97-bae6-d0d59ca0c59b"
      },
      "cell_type": "code",
      "source": [
        "pattern = '*/images/*.JPEG'\n",
        "# training set\n",
        "train_fnames = [p.as_posix() for p in (imagenet_path/'train').glob(pattern)]\n",
        "train_labels = [get_word2vec_from_fname(p.as_posix()) for p in (imagenet_path/'train').glob(pattern)]\n",
        "# generator\n",
        "train_gen = ImageGenerator(path, train_fnames, train_labels, classes_size, batch_size)\n",
        "print('Training set is of size %d' % len(train_gen))"
      ],
      "execution_count": 27,
      "outputs": [
        {
          "output_type": "stream",
          "text": [
            "Training set is of size 1562\n"
          ],
          "name": "stdout"
        }
      ]
    },
    {
      "metadata": {
        "id": "gCDOVQ7jEliV",
        "colab_type": "text"
      },
      "cell_type": "markdown",
      "source": [
        "#### validation dataset"
      ]
    },
    {
      "metadata": {
        "id": "HUzftxw_o_Rs",
        "colab_type": "code",
        "colab": {
          "base_uri": "https://localhost:8080/",
          "height": 34
        },
        "outputId": "92753247-e9f8-48f6-c4cb-6775cd9f47fa"
      },
      "cell_type": "code",
      "source": [
        "# validation set\n",
        "valid_fnames = []\n",
        "valid_labels = []\n",
        "for line in open('tiny-imagenet-200/val/val_annotations.txt'):    \n",
        "    fname, synset = line.split('\\t')[:2]\n",
        "    fname = (imagenet_path/'val/images')/fname\n",
        "    valid_fnames.append(fname.as_posix())\n",
        "    word = syn2word[synset]\n",
        "    vec = word2vec[word]\n",
        "    valid_labels.append(vec)\n",
        "# generator\n",
        "valid_gen = ImageGenerator(path, valid_fnames, valid_labels, classes_size, batch_size)\n",
        "print('Validation set is of size %d' % len(valid_gen))"
      ],
      "execution_count": 28,
      "outputs": [
        {
          "output_type": "stream",
          "text": [
            "Validation set is of size 156\n"
          ],
          "name": "stdout"
        }
      ]
    },
    {
      "metadata": {
        "id": "oZfAgtuCEuPE",
        "colab_type": "text"
      },
      "cell_type": "markdown",
      "source": [
        "#### testing dataset"
      ]
    },
    {
      "metadata": {
        "id": "1KpXi6FPEts9",
        "colab_type": "code",
        "colab": {
          "base_uri": "https://localhost:8080/",
          "height": 34
        },
        "outputId": "6cf2119c-e3d2-4b1d-f695-eabf844da8bb"
      },
      "cell_type": "code",
      "source": [
        "test_fnames = [p for p in (imagenet_path/'test').glob('images/*.JPEG')]\n",
        "test_gen = ImageGenerator(path, test_fnames, [], classes_size, batch_size)\n",
        "print('Test set is of size %d' % len(test_gen))"
      ],
      "execution_count": 29,
      "outputs": [
        {
          "output_type": "stream",
          "text": [
            "Test set is of size 156\n"
          ],
          "name": "stdout"
        }
      ]
    },
    {
      "metadata": {
        "id": "3B3t2rL_Eqna",
        "colab_type": "text"
      },
      "cell_type": "markdown",
      "source": [
        "#### databunch"
      ]
    },
    {
      "metadata": {
        "id": "m5LAa28iDgjn",
        "colab_type": "code",
        "colab": {}
      },
      "cell_type": "code",
      "source": [
        "# combine all datasets into a bunch\n",
        "data = DataBunch(path, 300, train_gen, valid_gen, test_gen)"
      ],
      "execution_count": 0,
      "outputs": []
    },
    {
      "metadata": {
        "id": "zZIbFTazsw7b",
        "colab_type": "code",
        "outputId": "a7754fc8-20cc-419e-dc01-a1aaab9b94e1",
        "colab": {
          "base_uri": "https://localhost:8080/",
          "height": 392
        }
      },
      "cell_type": "code",
      "source": [
        "data.show_bunch(get_label_from_fname)"
      ],
      "execution_count": 31,
      "outputs": [
        {
          "output_type": "display_data",
          "data": {
            "image/png": "[encoded data removed]",
            "text/plain": [
              "<Figure size 504x432 with 9 Axes>"
            ]
          },
          "metadata": {
            "tags": []
          }
        }
      ]
    },
    {
      "metadata": {
        "id": "cB4KV-_-kWGi",
        "colab_type": "text"
      },
      "cell_type": "markdown",
      "source": [
        "### Learner\n",
        "A ResNet-50 based architecture"
      ]
    },
    {
      "metadata": {
        "id": "HQPE2dskuCv2",
        "colab_type": "code",
        "colab": {}
      },
      "cell_type": "code",
      "source": [
        "class Learner():\n",
        "    \"\"\"Base learner object\"\"\"\n",
        "    def __init__(self):\n",
        "        pass\n",
        "            \n",
        "    # freeze all layers of the model (from left to right)\n",
        "    @classmethod\n",
        "    def freeze(cls, model, limit=None):\n",
        "        # handle negative indices\n",
        "        if limit != None and limit < -1:\n",
        "            limit = limit + len(model.layers) \n",
        "        # loop for all valid indices and mark the corresponding layer\n",
        "        for index, layer in enumerate(model.layers):\n",
        "            if limit != None and index > limit:\n",
        "                break\n",
        "            layer.trainable = False\n",
        "\n",
        "    # unfreeze all layers of the model up to the given layer index (from right to left)\n",
        "    @classmethod\n",
        "    def unfreeze(cls, model, limit=None):\n",
        "        # handle negative indices\n",
        "        if limit != None and limit < -1:\n",
        "            limit = limit + len(model.layers)\n",
        "        for index, layer in enumerate(model.layers):\n",
        "            if limit != None and index < limit:\n",
        "                continue\n",
        "            layer.trainable = True"
      ],
      "execution_count": 0,
      "outputs": []
    },
    {
      "metadata": {
        "id": "-WPCmOYmypYL",
        "colab_type": "code",
        "colab": {}
      },
      "cell_type": "code",
      "source": [
        "class ImageClassificationLearner(Learner):\n",
        "    \"\"\"Image classification learner\"\"\"\n",
        "    def __init__(self, data, archi, loss='categorical_crossentropy', metrics=['accuracy']):\n",
        "        self.data = data\n",
        "        self.model = self._create_model(archi)\n",
        "        # compile the model to before training\n",
        "        adam = Adam(lr=0.001, epsilon=0.01, decay=0.0001)\n",
        "        self.model.compile(adam, loss, metrics)\n",
        "        \n",
        "\n",
        "    def _create_model(self, archi):\n",
        "        model1 = ResNet50(weights='imagenet')\n",
        "        # 1. freeze the original model up to the last layer we will keep\n",
        "        Learner.freeze(model1, -3)\n",
        "        # 2. create a new model that will be chained to the output of our base model\n",
        "        x = model1.layers[-3].output          # shape should be (bs=None, 7, 7, 2048)\n",
        "        x = Dropout(rate=0.3)(x)              # shape should be (bs=None, 7, 7, 2048)\n",
        "        x = GlobalAveragePooling2D()(x)       # shape should be (bs=None, 2048)\n",
        "        x = Dense(1024, activation='relu')(x) # shape should be (bs=None, 1024)\n",
        "        x = BatchNormalization()(x)\n",
        "        y = Dense(self.data.classes_size, activation='linear')(x) # shape should be (bs=None, num_champti\n",
        "        model2 = Model(inputs=model1.input, outputs=y)\n",
        "        return model2\n",
        "        \n",
        "    def fit(self, epochs=5):\n",
        "        # fit the model using the previous generators\n",
        "        train_gen = self.data.train_gen\n",
        "        valid_gen = self.data.valid_gen\n",
        "        history = self.model.fit_generator(generator=train_gen, validation_data=valid_gen, epochs=epochs, use_multiprocessing=True)\n",
        "        return history"
      ],
      "execution_count": 0,
      "outputs": []
    },
    {
      "metadata": {
        "id": "G83YKQR_OHqI",
        "colab_type": "text"
      },
      "cell_type": "markdown",
      "source": [
        "Loss function Cosine Distance"
      ]
    },
    {
      "metadata": {
        "id": "2v6RZB5LL1ho",
        "colab_type": "code",
        "colab": {}
      },
      "cell_type": "code",
      "source": [
        "# the loss function as an inverse cosine distance\n",
        "def cosine_loss(y, y_hat):\n",
        "    # unit-normalize y and y_hat ()\n",
        "    y = tf.math.l2_normalize(y, axis=1)\n",
        "    y_hat = tf.math.l2_normalize(y_hat, axis=1)\n",
        "    # cosine distance for normalized tensors\n",
        "    loss = tf.losses.cosine_distance(y, y_hat, axis=1)\n",
        "    return loss"
      ],
      "execution_count": 0,
      "outputs": []
    },
    {
      "metadata": {
        "id": "FOTytY-rdRA1",
        "colab_type": "text"
      },
      "cell_type": "markdown",
      "source": [
        "### Training"
      ]
    },
    {
      "metadata": {
        "id": "aZgL3Oj_A3Bw",
        "colab_type": "code",
        "colab": {}
      },
      "cell_type": "code",
      "source": [
        "learner = ImageClassificationLearner(data, loss=cosine_loss, archi='resnet50')"
      ],
      "execution_count": 0,
      "outputs": []
    },
    {
      "metadata": {
        "id": "4V2F1DGALOq-",
        "colab_type": "code",
        "outputId": "8f6d76b6-5bea-47e3-d740-f52a7ef6647c",
        "colab": {
          "base_uri": "https://localhost:8080/",
          "height": 204
        }
      },
      "cell_type": "code",
      "source": [
        "history = learner.fit()"
      ],
      "execution_count": 39,
      "outputs": [
        {
          "output_type": "stream",
          "text": [
            "Epoch 1/5\n",
            "1561/1562 [============================>.] - ETA: 0s - loss: 0.5820 - acc: 0.2653Epoch 1/5\n",
            "1562/1562 [==============================] - 787s 504ms/step - loss: 0.5817 - acc: 0.2656 - val_loss: 0.2404 - val_acc: 0.2263\n",
            "Epoch 2/5\n",
            "1562/1562 [==============================] - 781s 500ms/step - loss: 0.1205 - acc: 0.8187 - val_loss: 0.1515 - val_acc: 0.6054\n",
            "Epoch 3/5\n",
            "1562/1562 [==============================] - 780s 499ms/step - loss: 0.1029 - acc: 0.8560 - val_loss: 0.1326 - val_acc: 0.7207\n",
            "Epoch 4/5\n",
            "1562/1562 [==============================] - 779s 498ms/step - loss: 0.0983 - acc: 0.8592 - val_loss: 0.1252 - val_acc: 0.7651\n",
            "Epoch 5/5\n",
            "1562/1562 [==============================] - 779s 499ms/step - loss: 0.0961 - acc: 0.8598 - val_loss: 0.1207 - val_acc: 0.7864\n"
          ],
          "name": "stdout"
        }
      ]
    },
    {
      "metadata": {
        "id": "MfgbFoGK4HHS",
        "colab_type": "code",
        "colab": {
          "base_uri": "https://localhost:8080/",
          "height": 297
        },
        "outputId": "66840197-2026-4556-cb26-8fe89b405024"
      },
      "cell_type": "code",
      "source": [
        "plt.plot(history.history['loss'], label=\"train\")\n",
        "plt.plot(history.history['val_loss'], label=\"valid\")\n",
        "\n",
        "# Add legend\n",
        "plt.legend(loc='top left')\n",
        "# Add title and x, y labels\n",
        "plt.title(\"Losses over epoch\", fontsize=16, fontweight='bold')\n",
        "#plt.suptitle(\"Random Walk Suptitle\", fontsize=10)\n",
        "plt.xlabel(\"epoch\")\n",
        "plt.ylabel(\"Loss\")\n",
        "\n",
        "plt.show()"
      ],
      "execution_count": 40,
      "outputs": [
        {
          "output_type": "display_data",
          "data": {
            "image/png": "[encoded data removed]",
            "text/plain": [
              "<Figure size 432x288 with 1 Axes>"
            ]
          },
          "metadata": {
            "tags": []
          }
        }
      ]
    },
    {
      "metadata": {
        "id": "8nCVcVyr4UyH",
        "colab_type": "code",
        "colab": {
          "base_uri": "https://localhost:8080/",
          "height": 297
        },
        "outputId": "58f63895-71b0-4e1d-dea4-0e6103feb789"
      },
      "cell_type": "code",
      "source": [
        "plt.plot(history.history['acc'], label=\"train\")\n",
        "plt.plot(history.history['val_acc'], label=\"valid\")\n",
        "\n",
        "# Add legend\n",
        "plt.legend(loc='top left')\n",
        "# Add title and x, y labels\n",
        "plt.title(\"Accuracy over epoch\", fontsize=16, fontweight='bold')\n",
        "#plt.suptitle(\"Random Walk Suptitle\", fontsize=10)\n",
        "plt.xlabel(\"epoch\")\n",
        "plt.ylabel(\"Accuracy\")\n",
        "\n",
        "plt.show()"
      ],
      "execution_count": 41,
      "outputs": [
        {
          "output_type": "display_data",
          "data": {
            "image/png": "[encoded data removed]",
            "text/plain": [
              "<Figure size 432x288 with 1 Axes>"
            ]
          },
          "metadata": {
            "tags": []
          }
        }
      ]
    },
    {
      "metadata": {
        "id": "ZY_yf2fS4XUA",
        "colab_type": "code",
        "colab": {}
      },
      "cell_type": "code",
      "source": [
        "# Save the trained model in an HDF5 file\n",
        "learner.model.save('devise.h5')"
      ],
      "execution_count": 0,
      "outputs": []
    },
    {
      "metadata": {
        "id": "XhmxjmpmXvsz",
        "colab_type": "code",
        "colab": {}
      },
      "cell_type": "code",
      "source": [
        "#!cp devise.h5 /content/gdrive/My\\ Drive/data/models\n",
        "#!cp  /content/gdrive/My\\ Drive/data/models/devise.h5 ."
      ],
      "execution_count": 0,
      "outputs": []
    },
    {
      "metadata": {
        "id": "F-u-y3XB40U0",
        "colab_type": "code",
        "colab": {}
      },
      "cell_type": "code",
      "source": [
        "# Load the trained model\n",
        "model = load_model('devise.h5', custom_objects={'cosine_loss': cosine_loss})"
      ],
      "execution_count": 0,
      "outputs": []
    },
    {
      "metadata": {
        "id": "Yo937DIf7HKT",
        "colab_type": "code",
        "colab": {
          "base_uri": "https://localhost:8080/",
          "height": 6528
        },
        "outputId": "3800d952-2a0a-48aa-bf47-31cbab489c2c"
      },
      "cell_type": "code",
      "source": [
        "model.summary()"
      ],
      "execution_count": 58,
      "outputs": [
        {
          "output_type": "stream",
          "text": [
            "__________________________________________________________________________________________________\n",
            "Layer (type)                    Output Shape         Param #     Connected to                     \n",
            "==================================================================================================\n",
            "input_2 (InputLayer)            (None, 224, 224, 3)  0                                            \n",
            "__________________________________________________________________________________________________\n",
            "conv1_pad (ZeroPadding2D)       (None, 230, 230, 3)  0           input_2[0][0]                    \n",
            "__________________________________________________________________________________________________\n",
            "conv1 (Conv2D)                  (None, 112, 112, 64) 9472        conv1_pad[0][0]                  \n",
            "__________________________________________________________________________________________________\n",
            "bn_conv1 (BatchNormalization)   (None, 112, 112, 64) 256         conv1[0][0]                      \n",
            "__________________________________________________________________________________________________\n",
            "activation_49 (Activation)      (None, 112, 112, 64) 0           bn_conv1[0][0]                   \n",
            "__________________________________________________________________________________________________\n",
            "pool1_pad (ZeroPadding2D)       (None, 114, 114, 64) 0           activation_49[0][0]              \n",
            "__________________________________________________________________________________________________\n",
            "max_pooling2d_1 (MaxPooling2D)  (None, 56, 56, 64)   0           pool1_pad[0][0]                  \n",
            "__________________________________________________________________________________________________\n",
            "res2a_branch2a (Conv2D)         (None, 56, 56, 64)   4160        max_pooling2d_1[0][0]            \n",
            "__________________________________________________________________________________________________\n",
            "bn2a_branch2a (BatchNormalizati (None, 56, 56, 64)   256         res2a_branch2a[0][0]             \n",
            "__________________________________________________________________________________________________\n",
            "activation_50 (Activation)      (None, 56, 56, 64)   0           bn2a_branch2a[0][0]              \n",
            "__________________________________________________________________________________________________\n",
            "res2a_branch2b (Conv2D)         (None, 56, 56, 64)   36928       activation_50[0][0]              \n",
            "__________________________________________________________________________________________________\n",
            "bn2a_branch2b (BatchNormalizati (None, 56, 56, 64)   256         res2a_branch2b[0][0]             \n",
            "__________________________________________________________________________________________________\n",
            "activation_51 (Activation)      (None, 56, 56, 64)   0           bn2a_branch2b[0][0]              \n",
            "__________________________________________________________________________________________________\n",
            "res2a_branch2c (Conv2D)         (None, 56, 56, 256)  16640       activation_51[0][0]              \n",
            "__________________________________________________________________________________________________\n",
            "res2a_branch1 (Conv2D)          (None, 56, 56, 256)  16640       max_pooling2d_1[0][0]            \n",
            "__________________________________________________________________________________________________\n",
            "bn2a_branch2c (BatchNormalizati (None, 56, 56, 256)  1024        res2a_branch2c[0][0]             \n",
            "__________________________________________________________________________________________________\n",
            "bn2a_branch1 (BatchNormalizatio (None, 56, 56, 256)  1024        res2a_branch1[0][0]              \n",
            "__________________________________________________________________________________________________\n",
            "add_16 (Add)                    (None, 56, 56, 256)  0           bn2a_branch2c[0][0]              \n",
            "                                                                 bn2a_branch1[0][0]               \n",
            "__________________________________________________________________________________________________\n",
            "activation_52 (Activation)      (None, 56, 56, 256)  0           add_16[0][0]                     \n",
            "__________________________________________________________________________________________________\n",
            "res2b_branch2a (Conv2D)         (None, 56, 56, 64)   16448       activation_52[0][0]              \n",
            "__________________________________________________________________________________________________\n",
            "bn2b_branch2a (BatchNormalizati (None, 56, 56, 64)   256         res2b_branch2a[0][0]             \n",
            "__________________________________________________________________________________________________\n",
            "activation_53 (Activation)      (None, 56, 56, 64)   0           bn2b_branch2a[0][0]              \n",
            "__________________________________________________________________________________________________\n",
            "res2b_branch2b (Conv2D)         (None, 56, 56, 64)   36928       activation_53[0][0]              \n",
            "__________________________________________________________________________________________________\n",
            "bn2b_branch2b (BatchNormalizati (None, 56, 56, 64)   256         res2b_branch2b[0][0]             \n",
            "__________________________________________________________________________________________________\n",
            "activation_54 (Activation)      (None, 56, 56, 64)   0           bn2b_branch2b[0][0]              \n",
            "__________________________________________________________________________________________________\n",
            "res2b_branch2c (Conv2D)         (None, 56, 56, 256)  16640       activation_54[0][0]              \n",
            "__________________________________________________________________________________________________\n",
            "bn2b_branch2c (BatchNormalizati (None, 56, 56, 256)  1024        res2b_branch2c[0][0]             \n",
            "__________________________________________________________________________________________________\n",
            "add_17 (Add)                    (None, 56, 56, 256)  0           bn2b_branch2c[0][0]              \n",
            "                                                                 activation_52[0][0]              \n",
            "__________________________________________________________________________________________________\n",
            "activation_55 (Activation)      (None, 56, 56, 256)  0           add_17[0][0]                     \n",
            "__________________________________________________________________________________________________\n",
            "res2c_branch2a (Conv2D)         (None, 56, 56, 64)   16448       activation_55[0][0]              \n",
            "__________________________________________________________________________________________________\n",
            "bn2c_branch2a (BatchNormalizati (None, 56, 56, 64)   256         res2c_branch2a[0][0]             \n",
            "__________________________________________________________________________________________________\n",
            "activation_56 (Activation)      (None, 56, 56, 64)   0           bn2c_branch2a[0][0]              \n",
            "__________________________________________________________________________________________________\n",
            "res2c_branch2b (Conv2D)         (None, 56, 56, 64)   36928       activation_56[0][0]              \n",
            "__________________________________________________________________________________________________\n",
            "bn2c_branch2b (BatchNormalizati (None, 56, 56, 64)   256         res2c_branch2b[0][0]             \n",
            "__________________________________________________________________________________________________\n",
            "activation_57 (Activation)      (None, 56, 56, 64)   0           bn2c_branch2b[0][0]              \n",
            "__________________________________________________________________________________________________\n",
            "res2c_branch2c (Conv2D)         (None, 56, 56, 256)  16640       activation_57[0][0]              \n",
            "__________________________________________________________________________________________________\n",
            "bn2c_branch2c (BatchNormalizati (None, 56, 56, 256)  1024        res2c_branch2c[0][0]             \n",
            "__________________________________________________________________________________________________\n",
            "add_18 (Add)                    (None, 56, 56, 256)  0           bn2c_branch2c[0][0]              \n",
            "                                                                 activation_55[0][0]              \n",
            "__________________________________________________________________________________________________\n",
            "activation_58 (Activation)      (None, 56, 56, 256)  0           add_18[0][0]                     \n",
            "__________________________________________________________________________________________________\n",
            "res3a_branch2a (Conv2D)         (None, 28, 28, 128)  32896       activation_58[0][0]              \n",
            "__________________________________________________________________________________________________\n",
            "bn3a_branch2a (BatchNormalizati (None, 28, 28, 128)  512         res3a_branch2a[0][0]             \n",
            "__________________________________________________________________________________________________\n",
            "activation_59 (Activation)      (None, 28, 28, 128)  0           bn3a_branch2a[0][0]              \n",
            "__________________________________________________________________________________________________\n",
            "res3a_branch2b (Conv2D)         (None, 28, 28, 128)  147584      activation_59[0][0]              \n",
            "__________________________________________________________________________________________________\n",
            "bn3a_branch2b (BatchNormalizati (None, 28, 28, 128)  512         res3a_branch2b[0][0]             \n",
            "__________________________________________________________________________________________________\n",
            "activation_60 (Activation)      (None, 28, 28, 128)  0           bn3a_branch2b[0][0]              \n",
            "__________________________________________________________________________________________________\n",
            "res3a_branch2c (Conv2D)         (None, 28, 28, 512)  66048       activation_60[0][0]              \n",
            "__________________________________________________________________________________________________\n",
            "res3a_branch1 (Conv2D)          (None, 28, 28, 512)  131584      activation_58[0][0]              \n",
            "__________________________________________________________________________________________________\n",
            "bn3a_branch2c (BatchNormalizati (None, 28, 28, 512)  2048        res3a_branch2c[0][0]             \n",
            "__________________________________________________________________________________________________\n",
            "bn3a_branch1 (BatchNormalizatio (None, 28, 28, 512)  2048        res3a_branch1[0][0]              \n",
            "__________________________________________________________________________________________________\n",
            "add_19 (Add)                    (None, 28, 28, 512)  0           bn3a_branch2c[0][0]              \n",
            "                                                                 bn3a_branch1[0][0]               \n",
            "__________________________________________________________________________________________________\n",
            "activation_61 (Activation)      (None, 28, 28, 512)  0           add_19[0][0]                     \n",
            "__________________________________________________________________________________________________\n",
            "res3b_branch2a (Conv2D)         (None, 28, 28, 128)  65664       activation_61[0][0]              \n",
            "__________________________________________________________________________________________________\n",
            "bn3b_branch2a (BatchNormalizati (None, 28, 28, 128)  512         res3b_branch2a[0][0]             \n",
            "__________________________________________________________________________________________________\n",
            "activation_62 (Activation)      (None, 28, 28, 128)  0           bn3b_branch2a[0][0]              \n",
            "__________________________________________________________________________________________________\n",
            "res3b_branch2b (Conv2D)         (None, 28, 28, 128)  147584      activation_62[0][0]              \n",
            "__________________________________________________________________________________________________\n",
            "bn3b_branch2b (BatchNormalizati (None, 28, 28, 128)  512         res3b_branch2b[0][0]             \n",
            "__________________________________________________________________________________________________\n",
            "activation_63 (Activation)      (None, 28, 28, 128)  0           bn3b_branch2b[0][0]              \n",
            "__________________________________________________________________________________________________\n",
            "res3b_branch2c (Conv2D)         (None, 28, 28, 512)  66048       activation_63[0][0]              \n",
            "__________________________________________________________________________________________________\n",
            "bn3b_branch2c (BatchNormalizati (None, 28, 28, 512)  2048        res3b_branch2c[0][0]             \n",
            "__________________________________________________________________________________________________\n",
            "add_20 (Add)                    (None, 28, 28, 512)  0           bn3b_branch2c[0][0]              \n",
            "                                                                 activation_61[0][0]              \n",
            "__________________________________________________________________________________________________\n",
            "activation_64 (Activation)      (None, 28, 28, 512)  0           add_20[0][0]                     \n",
            "__________________________________________________________________________________________________\n",
            "res3c_branch2a (Conv2D)         (None, 28, 28, 128)  65664       activation_64[0][0]              \n",
            "__________________________________________________________________________________________________\n",
            "bn3c_branch2a (BatchNormalizati (None, 28, 28, 128)  512         res3c_branch2a[0][0]             \n",
            "__________________________________________________________________________________________________\n",
            "activation_65 (Activation)      (None, 28, 28, 128)  0           bn3c_branch2a[0][0]              \n",
            "__________________________________________________________________________________________________\n",
            "res3c_branch2b (Conv2D)         (None, 28, 28, 128)  147584      activation_65[0][0]              \n",
            "__________________________________________________________________________________________________\n",
            "bn3c_branch2b (BatchNormalizati (None, 28, 28, 128)  512         res3c_branch2b[0][0]             \n",
            "__________________________________________________________________________________________________\n",
            "activation_66 (Activation)      (None, 28, 28, 128)  0           bn3c_branch2b[0][0]              \n",
            "__________________________________________________________________________________________________\n",
            "res3c_branch2c (Conv2D)         (None, 28, 28, 512)  66048       activation_66[0][0]              \n",
            "__________________________________________________________________________________________________\n",
            "bn3c_branch2c (BatchNormalizati (None, 28, 28, 512)  2048        res3c_branch2c[0][0]             \n",
            "__________________________________________________________________________________________________\n",
            "add_21 (Add)                    (None, 28, 28, 512)  0           bn3c_branch2c[0][0]              \n",
            "                                                                 activation_64[0][0]              \n",
            "__________________________________________________________________________________________________\n",
            "activation_67 (Activation)      (None, 28, 28, 512)  0           add_21[0][0]                     \n",
            "__________________________________________________________________________________________________\n",
            "res3d_branch2a (Conv2D)         (None, 28, 28, 128)  65664       activation_67[0][0]              \n",
            "__________________________________________________________________________________________________\n",
            "bn3d_branch2a (BatchNormalizati (None, 28, 28, 128)  512         res3d_branch2a[0][0]             \n",
            "__________________________________________________________________________________________________\n",
            "activation_68 (Activation)      (None, 28, 28, 128)  0           bn3d_branch2a[0][0]              \n",
            "__________________________________________________________________________________________________\n",
            "res3d_branch2b (Conv2D)         (None, 28, 28, 128)  147584      activation_68[0][0]              \n",
            "__________________________________________________________________________________________________\n",
            "bn3d_branch2b (BatchNormalizati (None, 28, 28, 128)  512         res3d_branch2b[0][0]             \n",
            "__________________________________________________________________________________________________\n",
            "activation_69 (Activation)      (None, 28, 28, 128)  0           bn3d_branch2b[0][0]              \n",
            "__________________________________________________________________________________________________\n",
            "res3d_branch2c (Conv2D)         (None, 28, 28, 512)  66048       activation_69[0][0]              \n",
            "__________________________________________________________________________________________________\n",
            "bn3d_branch2c (BatchNormalizati (None, 28, 28, 512)  2048        res3d_branch2c[0][0]             \n",
            "__________________________________________________________________________________________________\n",
            "add_22 (Add)                    (None, 28, 28, 512)  0           bn3d_branch2c[0][0]              \n",
            "                                                                 activation_67[0][0]              \n",
            "__________________________________________________________________________________________________\n",
            "activation_70 (Activation)      (None, 28, 28, 512)  0           add_22[0][0]                     \n",
            "__________________________________________________________________________________________________\n",
            "res4a_branch2a (Conv2D)         (None, 14, 14, 256)  131328      activation_70[0][0]              \n",
            "__________________________________________________________________________________________________\n",
            "bn4a_branch2a (BatchNormalizati (None, 14, 14, 256)  1024        res4a_branch2a[0][0]             \n",
            "__________________________________________________________________________________________________\n",
            "activation_71 (Activation)      (None, 14, 14, 256)  0           bn4a_branch2a[0][0]              \n",
            "__________________________________________________________________________________________________\n",
            "res4a_branch2b (Conv2D)         (None, 14, 14, 256)  590080      activation_71[0][0]              \n",
            "__________________________________________________________________________________________________\n",
            "bn4a_branch2b (BatchNormalizati (None, 14, 14, 256)  1024        res4a_branch2b[0][0]             \n",
            "__________________________________________________________________________________________________\n",
            "activation_72 (Activation)      (None, 14, 14, 256)  0           bn4a_branch2b[0][0]              \n",
            "__________________________________________________________________________________________________\n",
            "res4a_branch2c (Conv2D)         (None, 14, 14, 1024) 263168      activation_72[0][0]              \n",
            "__________________________________________________________________________________________________\n",
            "res4a_branch1 (Conv2D)          (None, 14, 14, 1024) 525312      activation_70[0][0]              \n",
            "__________________________________________________________________________________________________\n",
            "bn4a_branch2c (BatchNormalizati (None, 14, 14, 1024) 4096        res4a_branch2c[0][0]             \n",
            "__________________________________________________________________________________________________\n",
            "bn4a_branch1 (BatchNormalizatio (None, 14, 14, 1024) 4096        res4a_branch1[0][0]              \n",
            "__________________________________________________________________________________________________\n",
            "add_23 (Add)                    (None, 14, 14, 1024) 0           bn4a_branch2c[0][0]              \n",
            "                                                                 bn4a_branch1[0][0]               \n",
            "__________________________________________________________________________________________________\n",
            "activation_73 (Activation)      (None, 14, 14, 1024) 0           add_23[0][0]                     \n",
            "__________________________________________________________________________________________________\n",
            "res4b_branch2a (Conv2D)         (None, 14, 14, 256)  262400      activation_73[0][0]              \n",
            "__________________________________________________________________________________________________\n",
            "bn4b_branch2a (BatchNormalizati (None, 14, 14, 256)  1024        res4b_branch2a[0][0]             \n",
            "__________________________________________________________________________________________________\n",
            "activation_74 (Activation)      (None, 14, 14, 256)  0           bn4b_branch2a[0][0]              \n",
            "__________________________________________________________________________________________________\n",
            "res4b_branch2b (Conv2D)         (None, 14, 14, 256)  590080      activation_74[0][0]              \n",
            "__________________________________________________________________________________________________\n",
            "bn4b_branch2b (BatchNormalizati (None, 14, 14, 256)  1024        res4b_branch2b[0][0]             \n",
            "__________________________________________________________________________________________________\n",
            "activation_75 (Activation)      (None, 14, 14, 256)  0           bn4b_branch2b[0][0]              \n",
            "__________________________________________________________________________________________________\n",
            "res4b_branch2c (Conv2D)         (None, 14, 14, 1024) 263168      activation_75[0][0]              \n",
            "__________________________________________________________________________________________________\n",
            "bn4b_branch2c (BatchNormalizati (None, 14, 14, 1024) 4096        res4b_branch2c[0][0]             \n",
            "__________________________________________________________________________________________________\n",
            "add_24 (Add)                    (None, 14, 14, 1024) 0           bn4b_branch2c[0][0]              \n",
            "                                                                 activation_73[0][0]              \n",
            "__________________________________________________________________________________________________\n",
            "activation_76 (Activation)      (None, 14, 14, 1024) 0           add_24[0][0]                     \n",
            "__________________________________________________________________________________________________\n",
            "res4c_branch2a (Conv2D)         (None, 14, 14, 256)  262400      activation_76[0][0]              \n",
            "__________________________________________________________________________________________________\n",
            "bn4c_branch2a (BatchNormalizati (None, 14, 14, 256)  1024        res4c_branch2a[0][0]             \n",
            "__________________________________________________________________________________________________\n",
            "activation_77 (Activation)      (None, 14, 14, 256)  0           bn4c_branch2a[0][0]              \n",
            "__________________________________________________________________________________________________\n",
            "res4c_branch2b (Conv2D)         (None, 14, 14, 256)  590080      activation_77[0][0]              \n",
            "__________________________________________________________________________________________________\n",
            "bn4c_branch2b (BatchNormalizati (None, 14, 14, 256)  1024        res4c_branch2b[0][0]             \n",
            "__________________________________________________________________________________________________\n",
            "activation_78 (Activation)      (None, 14, 14, 256)  0           bn4c_branch2b[0][0]              \n",
            "__________________________________________________________________________________________________\n",
            "res4c_branch2c (Conv2D)         (None, 14, 14, 1024) 263168      activation_78[0][0]              \n",
            "__________________________________________________________________________________________________\n",
            "bn4c_branch2c (BatchNormalizati (None, 14, 14, 1024) 4096        res4c_branch2c[0][0]             \n",
            "__________________________________________________________________________________________________\n",
            "add_25 (Add)                    (None, 14, 14, 1024) 0           bn4c_branch2c[0][0]              \n",
            "                                                                 activation_76[0][0]              \n",
            "__________________________________________________________________________________________________\n",
            "activation_79 (Activation)      (None, 14, 14, 1024) 0           add_25[0][0]                     \n",
            "__________________________________________________________________________________________________\n",
            "res4d_branch2a (Conv2D)         (None, 14, 14, 256)  262400      activation_79[0][0]              \n",
            "__________________________________________________________________________________________________\n",
            "bn4d_branch2a (BatchNormalizati (None, 14, 14, 256)  1024        res4d_branch2a[0][0]             \n",
            "__________________________________________________________________________________________________\n",
            "activation_80 (Activation)      (None, 14, 14, 256)  0           bn4d_branch2a[0][0]              \n",
            "__________________________________________________________________________________________________\n",
            "res4d_branch2b (Conv2D)         (None, 14, 14, 256)  590080      activation_80[0][0]              \n",
            "__________________________________________________________________________________________________\n",
            "bn4d_branch2b (BatchNormalizati (None, 14, 14, 256)  1024        res4d_branch2b[0][0]             \n",
            "__________________________________________________________________________________________________\n",
            "activation_81 (Activation)      (None, 14, 14, 256)  0           bn4d_branch2b[0][0]              \n",
            "__________________________________________________________________________________________________\n",
            "res4d_branch2c (Conv2D)         (None, 14, 14, 1024) 263168      activation_81[0][0]              \n",
            "__________________________________________________________________________________________________\n",
            "bn4d_branch2c (BatchNormalizati (None, 14, 14, 1024) 4096        res4d_branch2c[0][0]             \n",
            "__________________________________________________________________________________________________\n",
            "add_26 (Add)                    (None, 14, 14, 1024) 0           bn4d_branch2c[0][0]              \n",
            "                                                                 activation_79[0][0]              \n",
            "__________________________________________________________________________________________________\n",
            "activation_82 (Activation)      (None, 14, 14, 1024) 0           add_26[0][0]                     \n",
            "__________________________________________________________________________________________________\n",
            "res4e_branch2a (Conv2D)         (None, 14, 14, 256)  262400      activation_82[0][0]              \n",
            "__________________________________________________________________________________________________\n",
            "bn4e_branch2a (BatchNormalizati (None, 14, 14, 256)  1024        res4e_branch2a[0][0]             \n",
            "__________________________________________________________________________________________________\n",
            "activation_83 (Activation)      (None, 14, 14, 256)  0           bn4e_branch2a[0][0]              \n",
            "__________________________________________________________________________________________________\n",
            "res4e_branch2b (Conv2D)         (None, 14, 14, 256)  590080      activation_83[0][0]              \n",
            "__________________________________________________________________________________________________\n",
            "bn4e_branch2b (BatchNormalizati (None, 14, 14, 256)  1024        res4e_branch2b[0][0]             \n",
            "__________________________________________________________________________________________________\n",
            "activation_84 (Activation)      (None, 14, 14, 256)  0           bn4e_branch2b[0][0]              \n",
            "__________________________________________________________________________________________________\n",
            "res4e_branch2c (Conv2D)         (None, 14, 14, 1024) 263168      activation_84[0][0]              \n",
            "__________________________________________________________________________________________________\n",
            "bn4e_branch2c (BatchNormalizati (None, 14, 14, 1024) 4096        res4e_branch2c[0][0]             \n",
            "__________________________________________________________________________________________________\n",
            "add_27 (Add)                    (None, 14, 14, 1024) 0           bn4e_branch2c[0][0]              \n",
            "                                                                 activation_82[0][0]              \n",
            "__________________________________________________________________________________________________\n",
            "activation_85 (Activation)      (None, 14, 14, 1024) 0           add_27[0][0]                     \n",
            "__________________________________________________________________________________________________\n",
            "res4f_branch2a (Conv2D)         (None, 14, 14, 256)  262400      activation_85[0][0]              \n",
            "__________________________________________________________________________________________________\n",
            "bn4f_branch2a (BatchNormalizati (None, 14, 14, 256)  1024        res4f_branch2a[0][0]             \n",
            "__________________________________________________________________________________________________\n",
            "activation_86 (Activation)      (None, 14, 14, 256)  0           bn4f_branch2a[0][0]              \n",
            "__________________________________________________________________________________________________\n",
            "res4f_branch2b (Conv2D)         (None, 14, 14, 256)  590080      activation_86[0][0]              \n",
            "__________________________________________________________________________________________________\n",
            "bn4f_branch2b (BatchNormalizati (None, 14, 14, 256)  1024        res4f_branch2b[0][0]             \n",
            "__________________________________________________________________________________________________\n",
            "activation_87 (Activation)      (None, 14, 14, 256)  0           bn4f_branch2b[0][0]              \n",
            "__________________________________________________________________________________________________\n",
            "res4f_branch2c (Conv2D)         (None, 14, 14, 1024) 263168      activation_87[0][0]              \n",
            "__________________________________________________________________________________________________\n",
            "bn4f_branch2c (BatchNormalizati (None, 14, 14, 1024) 4096        res4f_branch2c[0][0]             \n",
            "__________________________________________________________________________________________________\n",
            "add_28 (Add)                    (None, 14, 14, 1024) 0           bn4f_branch2c[0][0]              \n",
            "                                                                 activation_85[0][0]              \n",
            "__________________________________________________________________________________________________\n",
            "activation_88 (Activation)      (None, 14, 14, 1024) 0           add_28[0][0]                     \n",
            "__________________________________________________________________________________________________\n",
            "res5a_branch2a (Conv2D)         (None, 7, 7, 512)    524800      activation_88[0][0]              \n",
            "__________________________________________________________________________________________________\n",
            "bn5a_branch2a (BatchNormalizati (None, 7, 7, 512)    2048        res5a_branch2a[0][0]             \n",
            "__________________________________________________________________________________________________\n",
            "activation_89 (Activation)      (None, 7, 7, 512)    0           bn5a_branch2a[0][0]              \n",
            "__________________________________________________________________________________________________\n",
            "res5a_branch2b (Conv2D)         (None, 7, 7, 512)    2359808     activation_89[0][0]              \n",
            "__________________________________________________________________________________________________\n",
            "bn5a_branch2b (BatchNormalizati (None, 7, 7, 512)    2048        res5a_branch2b[0][0]             \n",
            "__________________________________________________________________________________________________\n",
            "activation_90 (Activation)      (None, 7, 7, 512)    0           bn5a_branch2b[0][0]              \n",
            "__________________________________________________________________________________________________\n",
            "res5a_branch2c (Conv2D)         (None, 7, 7, 2048)   1050624     activation_90[0][0]              \n",
            "__________________________________________________________________________________________________\n",
            "res5a_branch1 (Conv2D)          (None, 7, 7, 2048)   2099200     activation_88[0][0]              \n",
            "__________________________________________________________________________________________________\n",
            "bn5a_branch2c (BatchNormalizati (None, 7, 7, 2048)   8192        res5a_branch2c[0][0]             \n",
            "__________________________________________________________________________________________________\n",
            "bn5a_branch1 (BatchNormalizatio (None, 7, 7, 2048)   8192        res5a_branch1[0][0]              \n",
            "__________________________________________________________________________________________________\n",
            "add_29 (Add)                    (None, 7, 7, 2048)   0           bn5a_branch2c[0][0]              \n",
            "                                                                 bn5a_branch1[0][0]               \n",
            "__________________________________________________________________________________________________\n",
            "activation_91 (Activation)      (None, 7, 7, 2048)   0           add_29[0][0]                     \n",
            "__________________________________________________________________________________________________\n",
            "res5b_branch2a (Conv2D)         (None, 7, 7, 512)    1049088     activation_91[0][0]              \n",
            "__________________________________________________________________________________________________\n",
            "bn5b_branch2a (BatchNormalizati (None, 7, 7, 512)    2048        res5b_branch2a[0][0]             \n",
            "__________________________________________________________________________________________________\n",
            "activation_92 (Activation)      (None, 7, 7, 512)    0           bn5b_branch2a[0][0]              \n",
            "__________________________________________________________________________________________________\n",
            "res5b_branch2b (Conv2D)         (None, 7, 7, 512)    2359808     activation_92[0][0]              \n",
            "__________________________________________________________________________________________________\n",
            "bn5b_branch2b (BatchNormalizati (None, 7, 7, 512)    2048        res5b_branch2b[0][0]             \n",
            "__________________________________________________________________________________________________\n",
            "activation_93 (Activation)      (None, 7, 7, 512)    0           bn5b_branch2b[0][0]              \n",
            "__________________________________________________________________________________________________\n",
            "res5b_branch2c (Conv2D)         (None, 7, 7, 2048)   1050624     activation_93[0][0]              \n",
            "__________________________________________________________________________________________________\n",
            "bn5b_branch2c (BatchNormalizati (None, 7, 7, 2048)   8192        res5b_branch2c[0][0]             \n",
            "__________________________________________________________________________________________________\n",
            "add_30 (Add)                    (None, 7, 7, 2048)   0           bn5b_branch2c[0][0]              \n",
            "                                                                 activation_91[0][0]              \n",
            "__________________________________________________________________________________________________\n",
            "activation_94 (Activation)      (None, 7, 7, 2048)   0           add_30[0][0]                     \n",
            "__________________________________________________________________________________________________\n",
            "res5c_branch2a (Conv2D)         (None, 7, 7, 512)    1049088     activation_94[0][0]              \n",
            "__________________________________________________________________________________________________\n",
            "bn5c_branch2a (BatchNormalizati (None, 7, 7, 512)    2048        res5c_branch2a[0][0]             \n",
            "__________________________________________________________________________________________________\n",
            "activation_95 (Activation)      (None, 7, 7, 512)    0           bn5c_branch2a[0][0]              \n",
            "__________________________________________________________________________________________________\n",
            "res5c_branch2b (Conv2D)         (None, 7, 7, 512)    2359808     activation_95[0][0]              \n",
            "__________________________________________________________________________________________________\n",
            "bn5c_branch2b (BatchNormalizati (None, 7, 7, 512)    2048        res5c_branch2b[0][0]             \n",
            "__________________________________________________________________________________________________\n",
            "activation_96 (Activation)      (None, 7, 7, 512)    0           bn5c_branch2b[0][0]              \n",
            "__________________________________________________________________________________________________\n",
            "res5c_branch2c (Conv2D)         (None, 7, 7, 2048)   1050624     activation_96[0][0]              \n",
            "__________________________________________________________________________________________________\n",
            "bn5c_branch2c (BatchNormalizati (None, 7, 7, 2048)   8192        res5c_branch2c[0][0]             \n",
            "__________________________________________________________________________________________________\n",
            "add_31 (Add)                    (None, 7, 7, 2048)   0           bn5c_branch2c[0][0]              \n",
            "                                                                 activation_94[0][0]              \n",
            "__________________________________________________________________________________________________\n",
            "activation_97 (Activation)      (None, 7, 7, 2048)   0           add_31[0][0]                     \n",
            "__________________________________________________________________________________________________\n",
            "dropout_1 (Dropout)             (None, 7, 7, 2048)   0           activation_97[0][0]              \n",
            "__________________________________________________________________________________________________\n",
            "global_average_pooling2d_1 (Glo (None, 2048)         0           dropout_1[0][0]                  \n",
            "__________________________________________________________________________________________________\n",
            "dense_2 (Dense)                 (None, 1024)         2098176     global_average_pooling2d_1[0][0] \n",
            "__________________________________________________________________________________________________\n",
            "batch_normalization_1 (BatchNor (None, 1024)         4096        dense_2[0][0]                    \n",
            "__________________________________________________________________________________________________\n",
            "dense_3 (Dense)                 (None, 300)          307500      batch_normalization_1[0][0]      \n",
            "==================================================================================================\n",
            "Total params: 25,997,484\n",
            "Trainable params: 2,407,724\n",
            "Non-trainable params: 23,589,760\n",
            "__________________________________________________________________________________________________\n"
          ],
          "name": "stdout"
        }
      ]
    },
    {
      "metadata": {
        "id": "8OR6Ii2rTMXq",
        "colab_type": "text"
      },
      "cell_type": "markdown",
      "source": [
        "## Search"
      ]
    },
    {
      "metadata": {
        "id": "7KBj11WPTO2E",
        "colab_type": "text"
      },
      "cell_type": "markdown",
      "source": [
        "### Search by imagenet classes"
      ]
    },
    {
      "metadata": {
        "id": "LuU1I9jlMfwU",
        "colab_type": "code",
        "colab": {
          "base_uri": "https://localhost:8080/",
          "height": 34
        },
        "outputId": "9587137a-f885-4e55-b477-c2d05a3fa358"
      },
      "cell_type": "code",
      "source": [
        "pattern = '*/images/*.JPEG'\n",
        "fnames = [p.as_posix() for p in (imagenet_path/'train').glob(pattern)]\n",
        "# parameters\n",
        "image_size = (224, 224)\n",
        "data_size  = len(fnames)\n",
        "dimensions = 300\n",
        "# place holders for X and y\n",
        "y = np.zeros((data_size, dimensions), dtype=np.float32)\n",
        "y_hat = np.zeros((data_size, dimensions), dtype=np.float32)\n",
        "# read images and labels\n",
        "for i, p in tqdm(enumerate(fnames)):\n",
        "    # original label\n",
        "    y[i, :] = get_word2vec_from_fname(p)\n",
        "    # predicted label\n",
        "    img = preprocessing.image.load_img(p, target_size=image_size)\n",
        "    img_data = preprocessing.image.img_to_array(img)\n",
        "    y_hat[i, :] = model.predict(img_data[None])"
      ],
      "execution_count": 29,
      "outputs": [
        {
          "output_type": "stream",
          "text": [
            "100000it [36:08, 46.12it/s]\n"
          ],
          "name": "stderr"
        }
      ]
    },
    {
      "metadata": {
        "id": "0I3bGiysSj_K",
        "colab_type": "code",
        "colab": {
          "base_uri": "https://localhost:8080/",
          "height": 34
        },
        "outputId": "25362df6-1a53-4b99-b3c0-71cfb1196866"
      },
      "cell_type": "code",
      "source": [
        "y.shape, y_hat.shape"
      ],
      "execution_count": 33,
      "outputs": [
        {
          "output_type": "execute_result",
          "data": {
            "text/plain": [
              "((100000, 300), (100000, 300))"
            ]
          },
          "metadata": {
            "tags": []
          },
          "execution_count": 33
        }
      ]
    },
    {
      "metadata": {
        "id": "RQ1ERLuiS_uS",
        "colab_type": "text"
      },
      "cell_type": "markdown",
      "source": [
        "### KNN on word2vec"
      ]
    },
    {
      "metadata": {
        "id": "lQJ-ylBO0nRl",
        "colab_type": "code",
        "colab": {}
      },
      "cell_type": "code",
      "source": [
        "import nmslib\n",
        "\n",
        "def create_index(a):\n",
        "    index = nmslib.init(space='angulardist')\n",
        "    index.addDataPointBatch(a)\n",
        "    index.createIndex()\n",
        "    return index\n",
        "\n",
        "def get_knns(index, vecs):\n",
        "     return zip(*index.knnQueryBatch(vecs, k=10, num_threads=4))\n",
        "\n",
        "def get_knn(index, vec): return index.knnQuery(vec, k=10)"
      ],
      "execution_count": 0,
      "outputs": []
    },
    {
      "metadata": {
        "id": "WIVzzcjX5uI0",
        "colab_type": "code",
        "colab": {}
      },
      "cell_type": "code",
      "source": [
        "nn_y = create_index(y) # nearest neighborhood on word2vec y"
      ],
      "execution_count": 0,
      "outputs": []
    },
    {
      "metadata": {
        "id": "iNKCb7cn53wi",
        "colab_type": "code",
        "colab": {}
      },
      "cell_type": "code",
      "source": [
        "idxs,dists = get_knns(nn_y, y_hat)"
      ],
      "execution_count": 0,
      "outputs": []
    },
    {
      "metadata": {
        "id": "J3gnZNlnUUxN",
        "colab_type": "code",
        "colab": {}
      },
      "cell_type": "code",
      "source": [
        "start = 100"
      ],
      "execution_count": 0,
      "outputs": []
    },
    {
      "metadata": {
        "id": "iccife4g_uNG",
        "colab_type": "code",
        "colab": {
          "base_uri": "https://localhost:8080/",
          "height": 266
        },
        "outputId": "83221afe-3bdb-4beb-ab98-15eb7397efc0"
      },
      "cell_type": "code",
      "source": [
        "[[syn2word[id] for id in ids[:3]] for ids in idxs[start:start+10]]"
      ],
      "execution_count": 40,
      "outputs": [
        {
          "output_type": "error",
          "ename": "KeyError",
          "evalue": "ignored",
          "traceback": [
            "\u001b[0;31m---------------------------------------------------------------------------\u001b[0m",
            "\u001b[0;31mKeyError\u001b[0m                                  Traceback (most recent call last)",
            "\u001b[0;32m<ipython-input-40-93973a08e9c5>\u001b[0m in \u001b[0;36m<module>\u001b[0;34m()\u001b[0m\n\u001b[0;32m----> 1\u001b[0;31m \u001b[0;34m[\u001b[0m\u001b[0;34m[\u001b[0m\u001b[0msyn2word\u001b[0m\u001b[0;34m[\u001b[0m\u001b[0mid\u001b[0m\u001b[0;34m]\u001b[0m \u001b[0;32mfor\u001b[0m \u001b[0mid\u001b[0m \u001b[0;32min\u001b[0m \u001b[0mids\u001b[0m\u001b[0;34m[\u001b[0m\u001b[0;34m:\u001b[0m\u001b[0;36m3\u001b[0m\u001b[0;34m]\u001b[0m\u001b[0;34m]\u001b[0m \u001b[0;32mfor\u001b[0m \u001b[0mids\u001b[0m \u001b[0;32min\u001b[0m \u001b[0midxs\u001b[0m\u001b[0;34m[\u001b[0m\u001b[0mstart\u001b[0m\u001b[0;34m:\u001b[0m\u001b[0mstart\u001b[0m\u001b[0;34m+\u001b[0m\u001b[0;36m10\u001b[0m\u001b[0;34m]\u001b[0m\u001b[0;34m]\u001b[0m\u001b[0;34m\u001b[0m\u001b[0;34m\u001b[0m\u001b[0m\n\u001b[0m",
            "\u001b[0;32m<ipython-input-40-93973a08e9c5>\u001b[0m in \u001b[0;36m<listcomp>\u001b[0;34m(.0)\u001b[0m\n\u001b[0;32m----> 1\u001b[0;31m \u001b[0;34m[\u001b[0m\u001b[0;34m[\u001b[0m\u001b[0msyn2word\u001b[0m\u001b[0;34m[\u001b[0m\u001b[0mid\u001b[0m\u001b[0;34m]\u001b[0m \u001b[0;32mfor\u001b[0m \u001b[0mid\u001b[0m \u001b[0;32min\u001b[0m \u001b[0mids\u001b[0m\u001b[0;34m[\u001b[0m\u001b[0;34m:\u001b[0m\u001b[0;36m3\u001b[0m\u001b[0;34m]\u001b[0m\u001b[0;34m]\u001b[0m \u001b[0;32mfor\u001b[0m \u001b[0mids\u001b[0m \u001b[0;32min\u001b[0m \u001b[0midxs\u001b[0m\u001b[0;34m[\u001b[0m\u001b[0mstart\u001b[0m\u001b[0;34m:\u001b[0m\u001b[0mstart\u001b[0m\u001b[0;34m+\u001b[0m\u001b[0;36m10\u001b[0m\u001b[0;34m]\u001b[0m\u001b[0;34m]\u001b[0m\u001b[0;34m\u001b[0m\u001b[0;34m\u001b[0m\u001b[0m\n\u001b[0m",
            "\u001b[0;32m<ipython-input-40-93973a08e9c5>\u001b[0m in \u001b[0;36m<listcomp>\u001b[0;34m(.0)\u001b[0m\n\u001b[0;32m----> 1\u001b[0;31m \u001b[0;34m[\u001b[0m\u001b[0;34m[\u001b[0m\u001b[0msyn2word\u001b[0m\u001b[0;34m[\u001b[0m\u001b[0mid\u001b[0m\u001b[0;34m]\u001b[0m \u001b[0;32mfor\u001b[0m \u001b[0mid\u001b[0m \u001b[0;32min\u001b[0m \u001b[0mids\u001b[0m\u001b[0;34m[\u001b[0m\u001b[0;34m:\u001b[0m\u001b[0;36m3\u001b[0m\u001b[0;34m]\u001b[0m\u001b[0;34m]\u001b[0m \u001b[0;32mfor\u001b[0m \u001b[0mids\u001b[0m \u001b[0;32min\u001b[0m \u001b[0midxs\u001b[0m\u001b[0;34m[\u001b[0m\u001b[0mstart\u001b[0m\u001b[0;34m:\u001b[0m\u001b[0mstart\u001b[0m\u001b[0;34m+\u001b[0m\u001b[0;36m10\u001b[0m\u001b[0;34m]\u001b[0m\u001b[0;34m]\u001b[0m\u001b[0;34m\u001b[0m\u001b[0;34m\u001b[0m\u001b[0m\n\u001b[0m",
            "\u001b[0;31mKeyError\u001b[0m: 53966"
          ]
        }
      ]
    },
    {
      "metadata": {
        "id": "FFyL0rDnUaun",
        "colab_type": "code",
        "colab": {
          "base_uri": "https://localhost:8080/",
          "height": 164
        },
        "outputId": "26c8bc4f-4fe9-4ec4-d864-a8c6aab25adb"
      },
      "cell_type": "code",
      "source": [
        "idxs.shape"
      ],
      "execution_count": 42,
      "outputs": [
        {
          "output_type": "error",
          "ename": "AttributeError",
          "evalue": "ignored",
          "traceback": [
            "\u001b[0;31m---------------------------------------------------------------------------\u001b[0m",
            "\u001b[0;31mAttributeError\u001b[0m                            Traceback (most recent call last)",
            "\u001b[0;32m<ipython-input-42-15383bfe5365>\u001b[0m in \u001b[0;36m<module>\u001b[0;34m()\u001b[0m\n\u001b[0;32m----> 1\u001b[0;31m \u001b[0midxs\u001b[0m\u001b[0;34m.\u001b[0m\u001b[0mshape\u001b[0m\u001b[0;34m\u001b[0m\u001b[0;34m\u001b[0m\u001b[0m\n\u001b[0m",
            "\u001b[0;31mAttributeError\u001b[0m: 'tuple' object has no attribute 'shape'"
          ]
        }
      ]
    },
    {
      "metadata": {
        "id": "R7PNcr_IUmsF",
        "colab_type": "code",
        "colab": {
          "base_uri": "https://localhost:8080/",
          "height": 357
        },
        "outputId": "ada36822-8431-4930-9909-08eb6fbfbd4d"
      },
      "cell_type": "code",
      "source": [
        "idxs[start:start+10]"
      ],
      "execution_count": 54,
      "outputs": [
        {
          "output_type": "execute_result",
          "data": {
            "text/plain": [
              "(array([53966, 53969, 98495, 98499, 99984, 99986, 99988, 99991, 99993,\n",
              "        99996], dtype=int32),\n",
              " array([53966, 53969, 98495, 98499, 99984, 99986, 99988, 99991, 99993,\n",
              "        99996], dtype=int32),\n",
              " array([53966, 53969, 98495, 98499, 99984, 99986, 99988, 99991, 99993,\n",
              "        99996], dtype=int32),\n",
              " array([53966, 53969, 98495, 98499, 99984, 99986, 99988, 99991, 99993,\n",
              "        99996], dtype=int32),\n",
              " array([53966, 53969, 98495, 98499, 99984, 99986, 99988, 99991, 99993,\n",
              "        99996], dtype=int32),\n",
              " array([53966, 53969, 98495, 98499, 99984, 99986, 99988, 99991, 99993,\n",
              "        99996], dtype=int32),\n",
              " array([53966, 53969, 98495, 98499, 99984, 99986, 99988, 99991, 99993,\n",
              "        99996], dtype=int32),\n",
              " array([53966, 53969, 98495, 98499, 99984, 99986, 99988, 99991, 99993,\n",
              "        99996], dtype=int32),\n",
              " array([53966, 53969, 98495, 98499, 99984, 99986, 99988, 99991, 99993,\n",
              "        99996], dtype=int32),\n",
              " array([53966, 53969, 98495, 98499, 99984, 99986, 99988, 99991, 99993,\n",
              "        99996], dtype=int32))"
            ]
          },
          "metadata": {
            "tags": []
          },
          "execution_count": 54
        }
      ]
    },
    {
      "metadata": {
        "id": "5cwjXbDxYSqw",
        "colab_type": "code",
        "colab": {
          "base_uri": "https://localhost:8080/",
          "height": 238
        },
        "outputId": "2f4a205e-e128-4198-8eac-da3337598f7d"
      },
      "cell_type": "code",
      "source": [
        "y[start:start+10]"
      ],
      "execution_count": 55,
      "outputs": [
        {
          "output_type": "execute_result",
          "data": {
            "text/plain": [
              "array([[ 0.03878693, -0.03138439,  0.0071851 , ...,  0.02125664,\n",
              "        -0.03851261,  0.04316069],\n",
              "       [ 0.03878693, -0.03138439,  0.0071851 , ...,  0.02125664,\n",
              "        -0.03851261,  0.04316069],\n",
              "       [ 0.03878693, -0.03138439,  0.0071851 , ...,  0.02125664,\n",
              "        -0.03851261,  0.04316069],\n",
              "       ...,\n",
              "       [ 0.03878693, -0.03138439,  0.0071851 , ...,  0.02125664,\n",
              "        -0.03851261,  0.04316069],\n",
              "       [ 0.03878693, -0.03138439,  0.0071851 , ...,  0.02125664,\n",
              "        -0.03851261,  0.04316069],\n",
              "       [ 0.03878693, -0.03138439,  0.0071851 , ...,  0.02125664,\n",
              "        -0.03851261,  0.04316069]], dtype=float32)"
            ]
          },
          "metadata": {
            "tags": []
          },
          "execution_count": 55
        }
      ]
    },
    {
      "metadata": {
        "id": "fDVtK0arYmwi",
        "colab_type": "code",
        "colab": {
          "base_uri": "https://localhost:8080/",
          "height": 1292
        },
        "outputId": "1db72bc6-2f03-438d-f185-ff908762f3c6"
      },
      "cell_type": "code",
      "source": [
        "word2vec['couscous']"
      ],
      "execution_count": 57,
      "outputs": [
        {
          "output_type": "execute_result",
          "data": {
            "text/plain": [
              "array([ 3.87869280e-02, -3.13843879e-02,  7.18510118e-03,  1.26867614e-01,\n",
              "       -2.06822942e-02,  1.13803909e-01, -1.25250241e-01, -1.20059931e-02,\n",
              "        3.10565301e-02,  1.21097101e-01, -6.35622184e-02, -8.34361648e-02,\n",
              "       -1.60650514e-01, -4.85829016e-02,  1.28348252e-01,  4.47917064e-02,\n",
              "       -1.17361800e-01, -3.21644426e-01,  7.24766980e-02, -1.10261926e-01,\n",
              "       -4.17923418e-02,  3.83283148e-04, -8.83494348e-02, -7.77787467e-02,\n",
              "        4.12345800e-02,  5.47654917e-02,  4.43563957e-01,  4.04220371e-02,\n",
              "       -1.59248781e-01,  2.15996143e-02, -5.22291138e-02, -6.91055133e-02,\n",
              "        1.08602318e-01,  1.27114093e-01, -7.72552776e-02, -7.55062811e-02,\n",
              "       -3.37792399e-02, -8.13669325e-02, -2.19180433e-01,  7.51606388e-02,\n",
              "        9.57789329e-02,  1.79698800e-01, -9.41495765e-02, -4.55322251e-02,\n",
              "        2.82496690e-03, -1.02069649e-01,  9.06721930e-02, -2.68904873e-01,\n",
              "       -7.42479432e-02, -7.43601852e-02,  5.47280958e-02, -5.18985278e-02,\n",
              "        6.27056968e-03,  1.23368484e-01, -1.05010660e-01, -3.43465563e-02,\n",
              "       -1.26252658e-01, -5.14628258e-02,  3.59938950e-01,  1.61708788e-01,\n",
              "        2.50916204e-01, -9.01979761e-02,  6.38145587e-02,  4.64789743e-02,\n",
              "       -7.13251094e-02, -1.44928498e-01, -8.08936168e-02,  1.01094532e-01,\n",
              "       -3.24722517e-02,  3.88222369e-02,  1.40274996e-01,  8.41281935e-02,\n",
              "       -1.21099122e-01,  1.28324419e-01,  7.50321246e-02,  1.98948474e-01,\n",
              "        5.94894898e-02,  1.16637306e-01,  7.97322831e-02, -7.70629751e-02,\n",
              "        2.33619897e-01,  2.47773411e-02,  9.07374815e-02, -1.30948866e-01,\n",
              "        1.83864099e-01,  6.94126165e-02, -1.30450489e-01,  2.89682925e-01,\n",
              "        4.20298465e-02, -6.69772957e-02,  2.90749414e-01, -7.23834927e-02,\n",
              "        2.41058317e-01,  3.51029570e-02,  5.90098105e-02,  5.47995544e-02,\n",
              "        2.64810416e-02,  2.53984949e-02,  5.92187178e-02, -1.60794435e-01,\n",
              "       -5.95250921e-03,  1.45161596e-01,  1.27686754e-01,  1.01634352e-01,\n",
              "       -2.49125214e-02, -2.11284697e-01, -4.33360180e-02, -1.62537062e-01,\n",
              "        1.26276460e-02,  1.42391376e-01,  2.09214267e-01,  3.13345338e-02,\n",
              "        4.37685291e-02, -1.24274368e-01, -2.67440616e-01, -2.57283514e-01,\n",
              "       -1.09939606e-02,  7.08245665e-02, -3.48606462e-02,  7.28396408e-02,\n",
              "        5.41792687e-02, -4.28713557e-02,  2.32330557e-01, -1.16523013e-01,\n",
              "       -1.21500991e-01,  2.99015812e-02,  1.42640262e-02,  7.17808281e-02,\n",
              "       -2.29129904e-02,  3.87832138e-02, -3.05270662e-02, -1.38829552e-01,\n",
              "       -7.12329929e-02,  4.14274238e-02,  3.88013855e-02, -2.89608115e-02,\n",
              "       -1.25377273e-01, -1.28714528e-01, -1.39058307e-01,  9.94920094e-02,\n",
              "       -7.81516586e-02,  1.12137187e-01,  1.72827829e-02,  4.97631782e-02,\n",
              "        1.40324926e-01,  1.45504933e-01, -3.29003953e-02,  1.36966172e-01,\n",
              "        2.08546707e-02, -1.49007814e-01,  5.88360940e-03, -1.72642262e-01,\n",
              "        9.94875028e-02, -2.62906476e-02,  1.36172306e-01,  5.94659586e-02,\n",
              "       -1.77558490e-01,  8.68855408e-02, -4.16880181e-02,  5.16392008e-02,\n",
              "       -4.98123518e-03, -8.28048212e-02,  8.09019223e-02, -1.09592552e-01,\n",
              "       -2.94857899e-02,  5.76646007e-02,  1.70402734e-01,  5.02238875e-02,\n",
              "        4.75271739e-02, -2.72551445e-01,  2.64711852e-03,  9.65933299e-02,\n",
              "       -1.75666231e-01, -1.70369645e-01, -4.15224408e-02, -1.16126866e-01,\n",
              "       -6.09922859e-02,  1.14767393e-01,  2.39852359e-01, -2.00829082e-02,\n",
              "        1.67751020e-02,  3.00901918e-01, -1.10215384e-01, -1.38521820e-01,\n",
              "        8.74728284e-02,  1.40048383e-01,  1.00719394e-01, -4.84007647e-02,\n",
              "        5.95876373e-02, -2.01691666e-01, -1.01045516e-01, -1.05811241e-01,\n",
              "        2.44232258e-01, -2.02775698e-01, -1.91279411e-01, -3.80725659e-02,\n",
              "        1.19464896e-01, -1.71303564e-02,  1.81079361e-01, -4.63057267e-02,\n",
              "        1.80236860e-01,  1.01674446e-01,  2.47994084e-02,  1.15512358e-01,\n",
              "        1.08156567e-02, -1.70979988e-03, -5.63774749e-02, -3.16141104e-02,\n",
              "       -4.20909520e-02,  5.57512731e-02, -1.96247714e-02, -9.36763456e-02,\n",
              "       -2.01108710e-01, -6.05682648e-02, -3.71968699e-02,  2.85943389e-02,\n",
              "       -1.60777570e-01,  2.14802688e-01,  3.16901210e-02, -1.16694434e-01,\n",
              "       -1.02195979e-01, -5.74410423e-02, -2.29748369e-02,  1.96538711e-01,\n",
              "       -4.24592604e-02,  4.97704100e-02,  2.09370214e-01, -2.33210999e-01,\n",
              "       -7.66772935e-02,  4.09254927e-02, -3.55727853e-02,  1.03680392e-01,\n",
              "       -2.77829497e-01, -1.35707949e-01,  8.03884342e-02,  1.65415879e-04,\n",
              "        8.14421355e-02,  8.95326846e-02, -6.94749651e-02, -7.41546774e-02,\n",
              "       -1.09826121e-01,  1.25163521e-01,  4.76613500e-03,  2.80787276e-02,\n",
              "        1.72948930e-01, -1.61665307e-01, -5.06791373e-02, -1.46553843e-01,\n",
              "       -2.04723911e-01,  3.33289546e-01, -3.21650185e-01,  2.40883975e-02,\n",
              "       -9.56434199e-02,  2.41970871e-02,  2.52523898e-02, -2.32605769e-01,\n",
              "        1.16206437e-01,  1.68269750e-02,  1.30029057e-01,  1.33824039e-01,\n",
              "        4.51544285e-02,  7.01208206e-02,  9.42995107e-02,  1.42322077e-01,\n",
              "       -8.60986009e-02, -1.62446494e-01, -2.09078586e-03,  5.66130530e-02,\n",
              "       -2.03092794e-01,  6.23928877e-02,  5.94756857e-03, -1.86742686e-02,\n",
              "        1.35178044e-01, -1.23325342e-01, -2.17075160e-01, -2.67021047e-02,\n",
              "        2.94724553e-03,  2.07950503e-01,  1.74245081e-01,  1.78235825e-01,\n",
              "        1.55273728e-01,  1.96405327e-01,  1.10363044e-01, -8.86654786e-02,\n",
              "        3.10160658e-03,  6.18952545e-02,  1.19592992e-01,  1.30742360e-01,\n",
              "       -5.24493331e-02, -1.42603217e-01, -1.76353212e-02, -3.61034802e-02,\n",
              "       -1.24912876e-02, -6.43528180e-02,  5.71550083e-02,  1.10815000e-01,\n",
              "        1.48119170e-01,  2.12566442e-02, -3.85126051e-02,  4.31606865e-02])"
            ]
          },
          "metadata": {
            "tags": []
          },
          "execution_count": 57
        }
      ]
    },
    {
      "metadata": {
        "id": "jyRsPwgDZPVk",
        "colab_type": "code",
        "colab": {}
      },
      "cell_type": "code",
      "source": [
        ""
      ],
      "execution_count": 0,
      "outputs": []
    }
  ]
}