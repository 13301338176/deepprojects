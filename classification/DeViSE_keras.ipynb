{
  "nbformat": 4,
  "nbformat_minor": 0,
  "metadata": {
    "colab": {
      "name": "DeViSE-keras.ipynb",
      "version": "0.3.2",
      "provenance": [],
      "collapsed_sections": []
    },
    "kernelspec": {
      "name": "python3",
      "display_name": "Python 3"
    },
    "accelerator": "GPU"
  },
  "cells": [
    {
      "metadata": {
        "id": "_bM2T4Mj5O38",
        "colab_type": "text"
      },
      "cell_type": "markdown",
      "source": [
        "# DeViSE in Keras\n",
        "Keras implementation of the Neural Network described in Andrea Frome and al. 2013 [DeViSE: A Deep Visual-Semantic Embedding Model](https://papers.nips.cc/paper/5204-devise-a-deep-visual-semantic-embedding-model).\n",
        "\n",
        "More on word2vec check this [link](https://skymind.ai/wiki/word2vec).\n",
        "\n",
        "<table class=\"tfo-notebook-buttons\" align=\"left\"><td>\n",
        "<a target=\"_blank\"  href=\"https://colab.research.google.com/github/dzlab/deepprojects/blob/master/classification/DeViSE_keras.ipynb\">\n",
        "    <img src=\"https://www.tensorflow.org/images/colab_logo_32px.png\" />Run in Google Colab</a>  \n",
        "</td><td>\n",
        "<a target=\"_blank\"  href=\"https://github.com/dzlab/deepprojects/blob/master/classification/DeViSE_keras.ipynb\"><img width=32px src=\"https://www.tensorflow.org/images/GitHub-Mark-32px.png\" />View source on GitHub</a></td></table>"
      ]
    },
    {
      "metadata": {
        "id": "1PyPW42z3FnR",
        "colab_type": "code",
        "colab": {}
      },
      "cell_type": "code",
      "source": [
        "%matplotlib inline\n",
        "%reload_ext autoreload\n",
        "%autoreload 2"
      ],
      "execution_count": 0,
      "outputs": []
    },
    {
      "metadata": {
        "id": "i6uqwJ92Q5ib",
        "colab_type": "code",
        "outputId": "b3dc0f09-1fb6-410b-fc0e-3097017e0010",
        "colab": {
          "base_uri": "https://localhost:8080/",
          "height": 683
        }
      },
      "cell_type": "code",
      "source": [
        "!pip install nmslib"
      ],
      "execution_count": 2,
      "outputs": [
        {
          "output_type": "stream",
          "text": [
            "Collecting nmslib\n",
            "\u001b[?25l  Downloading https://files.pythonhosted.org/packages/e1/95/1f7c90d682b79398c5ee3f9296be8d2640fa41de24226bcf5473c801ada6/nmslib-1.7.3.6.tar.gz (255kB)\n",
            "\u001b[K    100% |████████████████████████████████| 256kB 9.4MB/s \n",
            "\u001b[?25hCollecting pybind11>=2.0 (from nmslib)\n",
            "\u001b[?25l  Downloading https://files.pythonhosted.org/packages/f2/7c/e71995e59e108799800cb0fce6c4b4927914d7eada0723dd20bae3b51786/pybind11-2.2.4-py2.py3-none-any.whl (145kB)\n",
            "\u001b[K    100% |████████████████████████████████| 153kB 32.1MB/s \n",
            "\u001b[?25hRequirement already satisfied: numpy in /usr/local/lib/python3.6/dist-packages (from nmslib) (1.14.6)\n",
            "Building wheels for collected packages: nmslib\n",
            "  Running setup.py bdist_wheel for nmslib ... \u001b[?25l-\b \b\\\b \berror\n",
            "  Complete output from command /usr/bin/python3 -u -c \"import setuptools, tokenize;__file__='/tmp/pip-install-n3h60xnb/nmslib/setup.py';f=getattr(tokenize, 'open', open)(__file__);code=f.read().replace('\\r\\n', '\\n');f.close();exec(compile(code, __file__, 'exec'))\" bdist_wheel -d /tmp/pip-wheel-2joik9m9 --python-tag cp36:\n",
            "  running bdist_wheel\n",
            "  running build\n",
            "  running build_ext\n",
            "  creating tmp\n",
            "  x86_64-linux-gnu-gcc -pthread -DNDEBUG -g -fwrapv -O2 -Wall -g -fstack-protector-strong -Wformat -Werror=format-security -Wdate-time -D_FORTIFY_SOURCE=2 -fPIC -I/usr/include/python3.6m -c /tmp/tmpy0rb8b2w.cpp -o tmp/tmpy0rb8b2w.o -std=c++14\n",
            "  x86_64-linux-gnu-gcc -pthread -DNDEBUG -g -fwrapv -O2 -Wall -g -fstack-protector-strong -Wformat -Werror=format-security -Wdate-time -D_FORTIFY_SOURCE=2 -fPIC -I/usr/include/python3.6m -c /tmp/tmpvqaa100a.cpp -o tmp/tmpvqaa100a.o -fvisibility=hidden\n",
            "  building 'nmslib' extension\n",
            "  creating build\n",
            "  creating build/temp.linux-x86_64-3.6\n",
            "  creating build/temp.linux-x86_64-3.6/nmslib\n",
            "  creating build/temp.linux-x86_64-3.6/nmslib/similarity_search\n",
            "  creating build/temp.linux-x86_64-3.6/nmslib/similarity_search/src\n",
            "  creating build/temp.linux-x86_64-3.6/nmslib/similarity_search/src/space\n",
            "  creating build/temp.linux-x86_64-3.6/nmslib/similarity_search/src/method\n",
            "  x86_64-linux-gnu-gcc -pthread -DNDEBUG -g -fwrapv -O2 -Wall -g -fstack-protector-strong -Wformat -Werror=format-security -Wdate-time -D_FORTIFY_SOURCE=2 -fPIC -I./nmslib/similarity_search/include -I/usr/local/include/python3.6 -I/root/.local/include/python3.6m -I/usr/local/lib/python3.6/dist-packages/numpy/core/include -I/usr/include/python3.6m -c nmslib.cc -o build/temp.linux-x86_64-3.6/nmslib.o -O3 -march=native -fopenmp -DVERSION_INFO=\"1.7.3.6\" -std=c++14 -fvisibility=hidden\n",
            "  nmslib.cc:16:10: fatal error: pybind11/pybind11.h: No such file or directory\n",
            "   #include <pybind11/pybind11.h>\n",
            "            ^~~~~~~~~~~~~~~~~~~~~\n",
            "  compilation terminated.\n",
            "  error: command 'x86_64-linux-gnu-gcc' failed with exit status 1\n",
            "  \n",
            "  ----------------------------------------\n",
            "\u001b[31m  Failed building wheel for nmslib\u001b[0m\n",
            "\u001b[?25h  Running setup.py clean for nmslib\n",
            "Failed to build nmslib\n",
            "Installing collected packages: pybind11, nmslib\n",
            "  Running setup.py install for nmslib ... \u001b[?25l-\b \b\\\b \b|\b \b/\b \b-\b \b\\\b \b|\b \b/\b \b-\b \b\\\b \b|\b \b/\b \b-\b \b\\\b \b|\b \b/\b \b-\b \b\\\b \b|\b \b/\b \b-\b \b\\\b \b|\b \b/\b \b-\b \b\\\b \b|\b \b/\b \b-\b \b\\\b \b|\b \b/\b \b-\b \b\\\b \b|\b \b/\b \b-\b \b\\\b \b|\b \b/\b \b-\b \b\\\b \b|\b \b/\b \b-\b \b\\\b \b|\b \b/\b \b-\b \b\\\b \b|\b \b/\b \b-\b \b\\\b \b|\b \b/\b \b-\b \b\\\b \b|\b \b/\b \b-\b \b\\\b \b|\b \b/\b \b-\b \b\\\b \b|\b \b/\b \b-\b \b\\\b \b|\b \b/\b \b-\b \b\\\b \b|\b \b/\b \b-\b \b\\\b \b|\b \b/\b \b-\b \b\\\b \b|\b \b/\b \b-\b \b\\\b \b|\b \bdone\n",
            "\u001b[?25hSuccessfully installed nmslib-1.7.3.6 pybind11-2.2.4\n"
          ],
          "name": "stdout"
        }
      ]
    },
    {
      "metadata": {
        "id": "TphucwwRBRpT",
        "colab_type": "code",
        "outputId": "16e8f60f-a92b-4388-ad7a-ae331fc0afbd",
        "colab": {
          "base_uri": "https://localhost:8080/",
          "height": 204
        }
      },
      "cell_type": "code",
      "source": [
        "!pip install git+https://github.com/facebookresearch/fastText.git"
      ],
      "execution_count": 3,
      "outputs": [
        {
          "output_type": "stream",
          "text": [
            "Collecting git+https://github.com/facebookresearch/fastText.git\n",
            "  Cloning https://github.com/facebookresearch/fastText.git to /tmp/pip-req-build-bo1mvmo3\n",
            "Requirement already satisfied: pybind11>=2.2 in /usr/local/lib/python3.6/dist-packages (from fasttext==0.8.22) (2.2.4)\n",
            "Requirement already satisfied: setuptools>=0.7.0 in /usr/local/lib/python3.6/dist-packages (from fasttext==0.8.22) (40.6.3)\n",
            "Requirement already satisfied: numpy in /usr/local/lib/python3.6/dist-packages (from fasttext==0.8.22) (1.14.6)\n",
            "Building wheels for collected packages: fasttext\n",
            "  Running setup.py bdist_wheel for fasttext ... \u001b[?25l-\b \b\\\b \b|\b \b/\b \b-\b \b\\\b \b|\b \b/\b \b-\b \b\\\b \b|\b \b/\b \b-\b \b\\\b \b|\b \b/\b \b-\b \b\\\b \b|\b \b/\b \b-\b \bdone\n",
            "\u001b[?25h  Stored in directory: /tmp/pip-ephem-wheel-cache-296ru1p3/wheels/69/f8/19/7f0ab407c078795bc9f86e1f6381349254f86fd7d229902355\n",
            "Successfully built fasttext\n",
            "Installing collected packages: fasttext\n",
            "Successfully installed fasttext-0.8.22\n"
          ],
          "name": "stdout"
        }
      ]
    },
    {
      "metadata": {
        "id": "ooxYU6-q2uSH",
        "colab_type": "code",
        "colab": {}
      },
      "cell_type": "code",
      "source": [
        "import warnings\n",
        "warnings.filterwarnings(\"ignore\")"
      ],
      "execution_count": 0,
      "outputs": []
    },
    {
      "metadata": {
        "id": "76vBnnn35r-e",
        "colab_type": "code",
        "colab": {}
      },
      "cell_type": "code",
      "source": [
        "import tensorflow as tf\n",
        "from tensorflow.keras.applications.resnet50 import ResNet50\n",
        "from tensorflow.keras.utils import Sequence\n",
        "from tensorflow.keras.layers import Dense, Dropout, GlobalAveragePooling2D, BatchNormalization\n",
        "from tensorflow.keras.optimizers import Adam\n",
        "from tensorflow.keras import backend as K\n",
        "from tensorflow.keras.models import Model, load_model\n",
        "from tensorflow.keras import preprocessing"
      ],
      "execution_count": 0,
      "outputs": []
    },
    {
      "metadata": {
        "id": "wZLPdmNE1Ynr",
        "colab_type": "code",
        "colab": {}
      },
      "cell_type": "code",
      "source": [
        "import pandas as pd\n",
        "import numpy as np\n",
        "from tqdm import tqdm, tqdm_notebook\n",
        "import io\n",
        "import pathlib\n",
        "import collections\n",
        "import matplotlib.pyplot as plt\n",
        "import matplotlib.image as mpimg\n",
        "import seaborn as sns\n",
        "from PIL import Image\n",
        "from random import randint\n",
        "import pickle"
      ],
      "execution_count": 0,
      "outputs": []
    },
    {
      "metadata": {
        "id": "mDJ3x7Wvxv-W",
        "colab_type": "code",
        "colab": {}
      },
      "cell_type": "code",
      "source": [
        "import fastText as ft"
      ],
      "execution_count": 0,
      "outputs": []
    },
    {
      "metadata": {
        "id": "XXmbx7yjVH7R",
        "colab_type": "code",
        "outputId": "fbb0b337-8099-411f-859c-adcb791f938f",
        "colab": {
          "base_uri": "https://localhost:8080/",
          "height": 122
        }
      },
      "cell_type": "code",
      "source": [
        "from google.colab import drive\n",
        "drive.mount('/content/gdrive')"
      ],
      "execution_count": 8,
      "outputs": [
        {
          "output_type": "stream",
          "text": [
            "Go to this URL in a browser: https://accounts.google.com/o/oauth2/auth?client_id=947318989803-6bn6qk8qdgf4n4g3pfee6491hc0brc4i.apps.googleusercontent.com&redirect_uri=urn%3Aietf%3Awg%3Aoauth%3A2.0%3Aoob&scope=email%20https%3A%2F%2Fwww.googleapis.com%2Fauth%2Fdocs.test%20https%3A%2F%2Fwww.googleapis.com%2Fauth%2Fdrive%20https%3A%2F%2Fwww.googleapis.com%2Fauth%2Fdrive.photos.readonly%20https%3A%2F%2Fwww.googleapis.com%2Fauth%2Fpeopleapi.readonly&response_type=code\n",
            "\n",
            "Enter your authorization code:\n",
            "··········\n",
            "Mounted at /content/gdrive\n"
          ],
          "name": "stdout"
        }
      ]
    },
    {
      "metadata": {
        "id": "D1rqF4Jey_pP",
        "colab_type": "text"
      },
      "cell_type": "markdown",
      "source": [
        "## Data"
      ]
    },
    {
      "metadata": {
        "id": "Ak9pXUIe549Z",
        "colab_type": "code",
        "colab": {}
      },
      "cell_type": "code",
      "source": [
        "path = pathlib.Path('.')\n",
        "imagenet_path = path/'tiny-imagenet-200'\n",
        "word2vec_path = path"
      ],
      "execution_count": 0,
      "outputs": []
    },
    {
      "metadata": {
        "id": "fdy6H0qc-KGI",
        "colab_type": "text"
      },
      "cell_type": "markdown",
      "source": [
        "### ImageNet\n",
        "Download the [tiny](https://tiny-imagenet.herokuapp.com/) ImageNet dataset of size 236 MB, or the full dataset which is of size 155 GB and can be found [here](https://www.kaggle.com/c/imagenet-object-localization-challenge/data)."
      ]
    },
    {
      "metadata": {
        "id": "RvAqc09TtWTJ",
        "colab_type": "code",
        "outputId": "e5d0cace-8c65-4d76-9c6e-da9425646c27",
        "colab": {
          "base_uri": "https://localhost:8080/",
          "height": 68
        }
      },
      "cell_type": "code",
      "source": [
        "!curl -O http://cs231n.stanford.edu/tiny-imagenet-200.zip"
      ],
      "execution_count": 10,
      "outputs": [
        {
          "output_type": "stream",
          "text": [
            "  % Total    % Received % Xferd  Average Speed   Time    Time     Time  Current\n",
            "                                 Dload  Upload   Total   Spent    Left  Speed\n",
            "100  236M  100  236M    0     0  9127k      0  0:00:26  0:00:26 --:--:-- 8613k\n"
          ],
          "name": "stdout"
        }
      ]
    },
    {
      "metadata": {
        "id": "4e01jN78zhTt",
        "colab_type": "code",
        "colab": {}
      },
      "cell_type": "code",
      "source": [
        "!unzip -q tiny-imagenet-200.zip"
      ],
      "execution_count": 0,
      "outputs": []
    },
    {
      "metadata": {
        "id": "KKpN_o-y05oj",
        "colab_type": "code",
        "outputId": "d5f443dd-ad3c-4269-c872-26973c63e2e5",
        "colab": {
          "base_uri": "https://localhost:8080/",
          "height": 34
        }
      },
      "cell_type": "code",
      "source": [
        "!ls tiny-imagenet-200/"
      ],
      "execution_count": 0,
      "outputs": [
        {
          "output_type": "stream",
          "text": [
            "test  train  val  wnids.txt  words.txt\n"
          ],
          "name": "stdout"
        }
      ]
    },
    {
      "metadata": {
        "id": "Pandvz5amdA8",
        "colab_type": "code",
        "outputId": "87cc85bb-b5f6-4b25-9853-f22f8467559d",
        "colab": {
          "base_uri": "https://localhost:8080/",
          "height": 187
        }
      },
      "cell_type": "code",
      "source": [
        "!ls tiny-imagenet-200/train/n01443537/images | head"
      ],
      "execution_count": 0,
      "outputs": [
        {
          "output_type": "stream",
          "text": [
            "n01443537_0.JPEG\n",
            "n01443537_100.JPEG\n",
            "n01443537_101.JPEG\n",
            "n01443537_102.JPEG\n",
            "n01443537_103.JPEG\n",
            "n01443537_104.JPEG\n",
            "n01443537_105.JPEG\n",
            "n01443537_106.JPEG\n",
            "n01443537_107.JPEG\n",
            "n01443537_108.JPEG\n"
          ],
          "name": "stdout"
        }
      ]
    },
    {
      "metadata": {
        "id": "ZAlcSP1d1CKa",
        "colab_type": "code",
        "outputId": "6fcc4437-1077-4efe-f484-4f68def208e9",
        "colab": {
          "base_uri": "https://localhost:8080/",
          "height": 187
        }
      },
      "cell_type": "code",
      "source": [
        "!head tiny-imagenet-200/words.txt"
      ],
      "execution_count": 0,
      "outputs": [
        {
          "output_type": "stream",
          "text": [
            "n00001740\tentity\n",
            "n00001930\tphysical entity\n",
            "n00002137\tabstraction, abstract entity\n",
            "n00002452\tthing\n",
            "n00002684\tobject, physical object\n",
            "n00003553\twhole, unit\n",
            "n00003993\tcongener\n",
            "n00004258\tliving thing, animate thing\n",
            "n00004475\torganism, being\n",
            "n00005787\tbenthos\n"
          ],
          "name": "stdout"
        }
      ]
    },
    {
      "metadata": {
        "id": "ViCVewKB1J0Q",
        "colab_type": "code",
        "outputId": "4a035927-1439-4a5a-e90d-d10575700465",
        "colab": {
          "base_uri": "https://localhost:8080/",
          "height": 187
        }
      },
      "cell_type": "code",
      "source": [
        "!head tiny-imagenet-200/wnids.txt"
      ],
      "execution_count": 0,
      "outputs": [
        {
          "output_type": "stream",
          "text": [
            "n02124075\n",
            "n04067472\n",
            "n04540053\n",
            "n04099969\n",
            "n07749582\n",
            "n01641577\n",
            "n02802426\n",
            "n09246464\n",
            "n07920052\n",
            "n03970156\n"
          ],
          "name": "stdout"
        }
      ]
    },
    {
      "metadata": {
        "id": "1yHoADhO2fVN",
        "colab_type": "code",
        "outputId": "9236acfe-a7ef-48c8-f2d0-26c28c7901dc",
        "colab": {
          "base_uri": "https://localhost:8080/",
          "height": 34
        }
      },
      "cell_type": "code",
      "source": [
        "!wc -l tiny-imagenet-200/words.txt"
      ],
      "execution_count": 0,
      "outputs": [
        {
          "output_type": "stream",
          "text": [
            "82114 tiny-imagenet-200/words.txt\n"
          ],
          "name": "stdout"
        }
      ]
    },
    {
      "metadata": {
        "id": "BdZcvwGK2YN2",
        "colab_type": "code",
        "outputId": "f2a8f5b0-a03a-41cd-c878-aba8ce575e16",
        "colab": {
          "base_uri": "https://localhost:8080/",
          "height": 34
        }
      },
      "cell_type": "code",
      "source": [
        "!wc -l tiny-imagenet-200/wnids.txt"
      ],
      "execution_count": 0,
      "outputs": [
        {
          "output_type": "stream",
          "text": [
            "200 tiny-imagenet-200/wnids.txt\n"
          ],
          "name": "stdout"
        }
      ]
    },
    {
      "metadata": {
        "id": "hHoyhwGO-PL2",
        "colab_type": "text"
      },
      "cell_type": "markdown",
      "source": [
        "### Word2Vec"
      ]
    },
    {
      "metadata": {
        "id": "sz8vZ0euHuih",
        "colab_type": "text"
      },
      "cell_type": "markdown",
      "source": [
        "#### Download word2vec\n",
        "Download a decent [word2vec](https://skymind.ai/wiki/word2vec) representation like Facebook's [FastText](https://fasttext.cc/docs/en/english-vectors.html)."
      ]
    },
    {
      "metadata": {
        "id": "Gex0QVhJ-T7a",
        "colab_type": "code",
        "outputId": "a79a9ddc-4c86-45ae-f9ab-9efa20fa6f46",
        "colab": {
          "base_uri": "https://localhost:8080/",
          "height": 68
        }
      },
      "cell_type": "code",
      "source": [
        "!curl -O https://s3-us-west-1.amazonaws.com/fasttext-vectors/wiki-news-300d-1M.vec.zip"
      ],
      "execution_count": 0,
      "outputs": [
        {
          "output_type": "stream",
          "text": [
            "  % Total    % Received % Xferd  Average Speed   Time    Time     Time  Current\n",
            "                                 Dload  Upload   Total   Spent    Left  Speed\n",
            "100  650M  100  650M    0     0  52.8M      0  0:00:12  0:00:12 --:--:-- 53.8M\n"
          ],
          "name": "stdout"
        }
      ]
    },
    {
      "metadata": {
        "id": "YCZmsnmS-olf",
        "colab_type": "code",
        "colab": {}
      },
      "cell_type": "code",
      "source": [
        "!unzip -q wiki-news-300d-1M.vec.zip"
      ],
      "execution_count": 0,
      "outputs": []
    },
    {
      "metadata": {
        "id": "F_UB52hvJR0A",
        "colab_type": "code",
        "outputId": "83784a2e-8e3f-4545-8627-fed6209f4612",
        "colab": {
          "base_uri": "https://localhost:8080/",
          "height": 68
        }
      },
      "cell_type": "code",
      "source": [
        "!curl -O https://dl.fbaipublicfiles.com/fasttext/vectors-wiki/wiki.en.zip"
      ],
      "execution_count": 13,
      "outputs": [
        {
          "output_type": "stream",
          "text": [
            "  % Total    % Received % Xferd  Average Speed   Time    Time     Time  Current\n",
            "                                 Dload  Upload   Total   Spent    Left  Speed\n",
            "100 9877M  100 9877M    0     0  29.6M      0  0:05:33  0:05:33 --:--:-- 12.4M\n"
          ],
          "name": "stdout"
        }
      ]
    },
    {
      "metadata": {
        "id": "-mNRWJ8KDGDw",
        "colab_type": "code",
        "outputId": "12f96cab-697a-4c5f-97c9-0a472e529fa3",
        "colab": {
          "base_uri": "https://localhost:8080/",
          "height": 68
        }
      },
      "cell_type": "code",
      "source": [
        "!unzip wiki.en.zip"
      ],
      "execution_count": 14,
      "outputs": [
        {
          "output_type": "stream",
          "text": [
            "Archive:  wiki.en.zip\n",
            "  inflating: wiki.en.vec             \n",
            "  inflating: wiki.en.bin             \n"
          ],
          "name": "stdout"
        }
      ]
    },
    {
      "metadata": {
        "id": "uZb3W6d2MXzY",
        "colab_type": "code",
        "colab": {}
      },
      "cell_type": "code",
      "source": [
        "!head wiki.en.vec"
      ],
      "execution_count": 0,
      "outputs": []
    },
    {
      "metadata": {
        "id": "l_O5fueGGQwQ",
        "colab_type": "text"
      },
      "cell_type": "markdown",
      "source": [
        "#### Load the word vectors"
      ]
    },
    {
      "metadata": {
        "id": "wslXv9WPF82z",
        "colab_type": "code",
        "colab": {}
      },
      "cell_type": "code",
      "source": [
        "# load the word2vec representations into numpy arrays\n",
        "def load_vectors(fname):\n",
        "    input = io.open(fname, 'r', encoding='utf-8', newline='\\n', errors='ignore')\n",
        "    # read first line which contains number of tokens and vector dimension\n",
        "    num, dim = map(int, input.readline().split())\n",
        "    mean = np.zeros((dim), dtype=np.float32)\n",
        "    # read line and convert tokens word2vec representation into numpy arrays\n",
        "    data = {}\n",
        "    for line in tqdm(input):\n",
        "        tokens = line.rstrip().split(' ')\n",
        "        data[tokens[0]] = [np.float32(i) for i in tokens[1:]]\n",
        "        mean = mean + data[tokens[0]]\n",
        "    # set the vector representation for unkown words with the mean vector\n",
        "    mean = mean / num\n",
        "    word2vec = data # word2vec = collections.defaultdict(lambda:mean, data)\n",
        "    return word2vec, mean\n",
        "\n",
        "\n",
        "word2vec, word2vec_mean = load_vectors(word2vec_path/'wiki.en.vec') # 'wiki-news-300d-1M.vec'"
      ],
      "execution_count": 0,
      "outputs": []
    },
    {
      "metadata": {
        "id": "LEPpaD5b_mJg",
        "colab_type": "code",
        "colab": {}
      },
      "cell_type": "code",
      "source": [
        "en_vecs = ft.load_model('wiki.en.bin')"
      ],
      "execution_count": 0,
      "outputs": []
    },
    {
      "metadata": {
        "id": "y0efbYHeGG0K",
        "colab_type": "code",
        "colab": {}
      },
      "cell_type": "code",
      "source": [
        "def get_vecs(lang, ft_vecs):\n",
        "    vecd = {w:ft_vecs.get_word_vector(w) for w in ft_vecs.get_words()}\n",
        "    pickle.dump(vecd, open(PATH/f'wiki.{lang}.pkl','wb'))\n",
        "    return vecd"
      ],
      "execution_count": 0,
      "outputs": []
    },
    {
      "metadata": {
        "id": "8XAulCdGF6-9",
        "colab_type": "code",
        "colab": {}
      },
      "cell_type": "code",
      "source": [
        "word2vec = get_vecs('en', en_vecs)"
      ],
      "execution_count": 0,
      "outputs": []
    },
    {
      "metadata": {
        "id": "cQer-vUkF--N",
        "colab_type": "code",
        "colab": {}
      },
      "cell_type": "code",
      "source": [
        "word2vec = pickle.load(open(path/'wiki.en.pkl','rb'))"
      ],
      "execution_count": 0,
      "outputs": []
    },
    {
      "metadata": {
        "id": "1ZP-inXcQDRK",
        "colab_type": "text"
      },
      "cell_type": "markdown",
      "source": [
        "#### Play with word2vec\n",
        "Get the vector for few words and check the correlation coefficents between each of them"
      ]
    },
    {
      "metadata": {
        "id": "PEu9sDhlJk5p",
        "colab_type": "code",
        "colab": {}
      },
      "cell_type": "code",
      "source": [
        "boat_vec   = en_vecs.get_word_vector('boat')   # word2vec['boat']\n",
        "plane_vec  = en_vecs.get_word_vector('plane')  # word2vec['plane']\n",
        "orange_vec = en_vecs.get_word_vector('orange') # word2vec['orange']\n",
        "slug_vec   = en_vecs.get_word_vector('slug')   # word2vec['slug']"
      ],
      "execution_count": 0,
      "outputs": []
    },
    {
      "metadata": {
        "id": "ePFmRUe_NhF8",
        "colab_type": "code",
        "outputId": "9094db4c-e408-4a33-f252-979843cf750f",
        "colab": {
          "base_uri": "https://localhost:8080/",
          "height": 51
        }
      },
      "cell_type": "code",
      "source": [
        "np.corrcoef(boat_vec, plane_vec)"
      ],
      "execution_count": 0,
      "outputs": [
        {
          "output_type": "execute_result",
          "data": {
            "text/plain": [
              "array([[1.        , 0.36585215],\n",
              "       [0.36585215, 1.        ]])"
            ]
          },
          "metadata": {
            "tags": []
          },
          "execution_count": 9
        }
      ]
    },
    {
      "metadata": {
        "id": "h5ns0aOkQyrh",
        "colab_type": "code",
        "outputId": "f363146d-9bf2-4533-e7b6-f37f62455b86",
        "colab": {
          "base_uri": "https://localhost:8080/",
          "height": 51
        }
      },
      "cell_type": "code",
      "source": [
        "np.corrcoef(boat_vec, orange_vec)"
      ],
      "execution_count": 0,
      "outputs": [
        {
          "output_type": "execute_result",
          "data": {
            "text/plain": [
              "array([[1.        , 0.05555721],\n",
              "       [0.05555721, 1.        ]])"
            ]
          },
          "metadata": {
            "tags": []
          },
          "execution_count": 10
        }
      ]
    },
    {
      "metadata": {
        "id": "aHIXg7TyVjle",
        "colab_type": "code",
        "outputId": "31ce8935-a2be-47e0-e7e5-3afe947c13b3",
        "colab": {
          "base_uri": "https://localhost:8080/",
          "height": 51
        }
      },
      "cell_type": "code",
      "source": [
        "np.corrcoef(boat_vec, slug_vec)"
      ],
      "execution_count": 0,
      "outputs": [
        {
          "output_type": "execute_result",
          "data": {
            "text/plain": [
              "array([[1.        , 0.13622368],\n",
              "       [0.13622368, 1.        ]])"
            ]
          },
          "metadata": {
            "tags": []
          },
          "execution_count": 11
        }
      ]
    },
    {
      "metadata": {
        "id": "fbmwIertRFZc",
        "colab_type": "text"
      },
      "cell_type": "markdown",
      "source": [
        "### ImageNet / Word2Vec mapping\n",
        "Map imagenet classes (with their [synset](https://wordnet.princeton.edu/) repsentation) to their word2vec representation"
      ]
    },
    {
      "metadata": {
        "id": "Wzg-ux-tPRBv",
        "colab_type": "code",
        "colab": {}
      },
      "cell_type": "code",
      "source": [
        "def load_wordnet(fname, delimeter=' ', synset_idx=0, word_idx=1):\n",
        "    input = io.open(fname, 'r', encoding='utf-8', newline='\\n', errors='ignore')\n",
        "    syn2word, word2syn = {}, {}\n",
        "    for line in tqdm(input):\n",
        "        tokens = line.rstrip().split(delimeter)\n",
        "        synset = tokens[synset_idx]\n",
        "        word = tokens[word_idx].lower() # clean words like Arabian_camel\n",
        "        # synset to word\n",
        "        syn2word[synset] = word\n",
        "        # word to synset\n",
        "        word2syn[word] = synset\n",
        "    return syn2word, word2syn"
      ],
      "execution_count": 0,
      "outputs": []
    },
    {
      "metadata": {
        "id": "1vO_V81ORoRd",
        "colab_type": "code",
        "outputId": "9310fa23-3c93-48e7-8333-50151c2d1755",
        "colab": {
          "base_uri": "https://localhost:8080/",
          "height": 34
        }
      },
      "cell_type": "code",
      "source": [
        "syn2word, word2syn = load_wordnet(imagenet_path/'words.txt', '\\t') # 1k"
      ],
      "execution_count": 0,
      "outputs": [
        {
          "output_type": "stream",
          "text": [
            "82115it [00:00, 583919.98it/s]\n"
          ],
          "name": "stderr"
        }
      ]
    },
    {
      "metadata": {
        "id": "ROCGKT__TrQP",
        "colab_type": "text"
      },
      "cell_type": "markdown",
      "source": [
        "read the synset ids for the training images"
      ]
    },
    {
      "metadata": {
        "id": "dJM1SDRnTQy6",
        "colab_type": "code",
        "colab": {}
      },
      "cell_type": "code",
      "source": [
        "classes = [id.rstrip() for id in open(imagenet_path/'wnids.txt')]"
      ],
      "execution_count": 0,
      "outputs": []
    },
    {
      "metadata": {
        "id": "j1wWO5t5Tf7T",
        "colab_type": "code",
        "outputId": "4f912c12-a488-464e-aa4a-f59c58f8774d",
        "colab": {
          "base_uri": "https://localhost:8080/",
          "height": 34
        }
      },
      "cell_type": "code",
      "source": [
        "classes[2], syn2word[classes[2]], classes[100], syn2word[classes[100]]"
      ],
      "execution_count": 0,
      "outputs": [
        {
          "output_type": "execute_result",
          "data": {
            "text/plain": [
              "('n04540053', 'volleyball', 'n01945685', 'slug')"
            ]
          },
          "metadata": {
            "tags": []
          },
          "execution_count": 15
        }
      ]
    },
    {
      "metadata": {
        "id": "Ui6neYn5UCPM",
        "colab_type": "code",
        "outputId": "7ef5c424-df51-427d-89c6-e4337fb6f4f0",
        "colab": {
          "base_uri": "https://localhost:8080/",
          "height": 51
        }
      },
      "cell_type": "code",
      "source": [
        "#np.corrcoef(word2vec[syn2word[classes[2]]], word2vec[syn2word[classes[100]]])\n",
        "np.corrcoef(en_vecs.get_word_vector(syn2word[classes[2]]), en_vecs.get_word_vector(syn2word[classes[100]]))\n"
      ],
      "execution_count": 0,
      "outputs": [
        {
          "output_type": "execute_result",
          "data": {
            "text/plain": [
              "array([[1.        , 0.06198629],\n",
              "       [0.06198629, 1.        ]])"
            ]
          },
          "metadata": {
            "tags": []
          },
          "execution_count": 17
        }
      ]
    },
    {
      "metadata": {
        "id": "5lI1gsriyP_N",
        "colab_type": "text"
      },
      "cell_type": "markdown",
      "source": [
        "Check that we have a proper word2vec for each class"
      ]
    },
    {
      "metadata": {
        "id": "5pxcGsapyPCg",
        "colab_type": "code",
        "outputId": "2812415b-f219-47dd-c6fd-9bfd88469ced",
        "colab": {
          "base_uri": "https://localhost:8080/",
          "height": 204
        }
      },
      "cell_type": "code",
      "source": [
        "columns = ['id', 'word', 'vec']\n",
        "data = {'id': [], 'word': [], 'vec': []}\n",
        "for id in classes:\n",
        "    data['id'].append(id)\n",
        "    data['word'].append(syn2word[id])\n",
        "    vec = en_vecs.get_word_vector(syn2word[id]) # vec = word2vec[syn2word[id]]\n",
        "    data['vec'].append(vec[:5])\n",
        "    \n",
        "df = pd.DataFrame(data, columns=columns); df.head()"
      ],
      "execution_count": 0,
      "outputs": [
        {
          "output_type": "execute_result",
          "data": {
            "text/html": [
              "<div>\n",
              "<style scoped>\n",
              "    .dataframe tbody tr th:only-of-type {\n",
              "        vertical-align: middle;\n",
              "    }\n",
              "\n",
              "    .dataframe tbody tr th {\n",
              "        vertical-align: top;\n",
              "    }\n",
              "\n",
              "    .dataframe thead th {\n",
              "        text-align: right;\n",
              "    }\n",
              "</style>\n",
              "<table border=\"1\" class=\"dataframe\">\n",
              "  <thead>\n",
              "    <tr style=\"text-align: right;\">\n",
              "      <th></th>\n",
              "      <th>id</th>\n",
              "      <th>word</th>\n",
              "      <th>vec</th>\n",
              "    </tr>\n",
              "  </thead>\n",
              "  <tbody>\n",
              "    <tr>\n",
              "      <th>0</th>\n",
              "      <td>n02124075</td>\n",
              "      <td>egyptian cat</td>\n",
              "      <td>[-0.11279647, -0.3181379, -0.0883948, 0.349539...</td>\n",
              "    </tr>\n",
              "    <tr>\n",
              "      <th>1</th>\n",
              "      <td>n04067472</td>\n",
              "      <td>reel</td>\n",
              "      <td>[0.18303585, 0.14932676, 0.022818606, -0.06660...</td>\n",
              "    </tr>\n",
              "    <tr>\n",
              "      <th>2</th>\n",
              "      <td>n04540053</td>\n",
              "      <td>volleyball</td>\n",
              "      <td>[-0.2620757, -0.30378416, -0.13442308, 0.26566...</td>\n",
              "    </tr>\n",
              "    <tr>\n",
              "      <th>3</th>\n",
              "      <td>n04099969</td>\n",
              "      <td>rocking chair, rocker</td>\n",
              "      <td>[0.09362481, -0.08155703, -0.11237239, 0.18448...</td>\n",
              "    </tr>\n",
              "    <tr>\n",
              "      <th>4</th>\n",
              "      <td>n07749582</td>\n",
              "      <td>lemon</td>\n",
              "      <td>[-0.023942592, 0.3128347, -0.09558003, -0.3638...</td>\n",
              "    </tr>\n",
              "  </tbody>\n",
              "</table>\n",
              "</div>"
            ],
            "text/plain": [
              "          id                   word  \\\n",
              "0  n02124075           egyptian cat   \n",
              "1  n04067472                   reel   \n",
              "2  n04540053             volleyball   \n",
              "3  n04099969  rocking chair, rocker   \n",
              "4  n07749582                  lemon   \n",
              "\n",
              "                                                 vec  \n",
              "0  [-0.11279647, -0.3181379, -0.0883948, 0.349539...  \n",
              "1  [0.18303585, 0.14932676, 0.022818606, -0.06660...  \n",
              "2  [-0.2620757, -0.30378416, -0.13442308, 0.26566...  \n",
              "3  [0.09362481, -0.08155703, -0.11237239, 0.18448...  \n",
              "4  [-0.023942592, 0.3128347, -0.09558003, -0.3638...  "
            ]
          },
          "metadata": {
            "tags": []
          },
          "execution_count": 19
        }
      ]
    },
    {
      "metadata": {
        "id": "IqpVDCcH4Uwp",
        "colab_type": "text"
      },
      "cell_type": "markdown",
      "source": [
        "a lot of the class lables in this tiny imagenet dataset cannot be found in the FastText word2vecs. As an altertive, will you use the labels from the real ImageNet dataset"
      ]
    },
    {
      "metadata": {
        "id": "JuVsVTIQ4uYW",
        "colab_type": "code",
        "outputId": "6509ea30-cd44-4e25-8917-1230ed8a5ff9",
        "colab": {
          "base_uri": "https://localhost:8080/",
          "height": 68
        }
      },
      "cell_type": "code",
      "source": [
        "!curl -O https://gist.githubusercontent.com/aaronpolhamus/964a4411c0906315deb9f4a3723aac57/raw/aa66dd9dbf6b56649fa3fab83659b2acbf3cbfd1/map_clsloc.txt"
      ],
      "execution_count": 26,
      "outputs": [
        {
          "output_type": "stream",
          "text": [
            "  % Total    % Received % Xferd  Average Speed   Time    Time     Time  Current\n",
            "                                 Dload  Upload   Total   Spent    Left  Speed\n",
            "100 24365  100 24365    0     0  93711      0 --:--:-- --:--:-- --:--:-- 93711\n"
          ],
          "name": "stdout"
        }
      ]
    },
    {
      "metadata": {
        "id": "8ue0xptH5B67",
        "colab_type": "code",
        "outputId": "7b4c6120-caa8-47b2-f247-bde51f4f1207",
        "colab": {
          "base_uri": "https://localhost:8080/",
          "height": 34
        }
      },
      "cell_type": "code",
      "source": [
        "syn2word, word2syn = load_wordnet(path/'map_clsloc.txt', delimeter=' ', synset_idx=0, word_idx=2)"
      ],
      "execution_count": 29,
      "outputs": [
        {
          "output_type": "stream",
          "text": [
            "1000it [00:00, 263942.11it/s]\n"
          ],
          "name": "stderr"
        }
      ]
    },
    {
      "metadata": {
        "id": "AYO85yzp5hlK",
        "colab_type": "code",
        "outputId": "5119641d-8031-441c-b36e-ac3eedd2871a",
        "colab": {
          "base_uri": "https://localhost:8080/",
          "height": 204
        }
      },
      "cell_type": "code",
      "source": [
        "columns = ['id', 'word', 'vec']\n",
        "data = {'id': [], 'word': [], 'vec': []}\n",
        "for id in classes:\n",
        "    data['id'].append(id)\n",
        "    data['word'].append(syn2word[id])\n",
        "    vec = en_vecs.get_word_vector(syn2word[id]) # vec = word2vec[syn2word[id]]\n",
        "    data['vec'].append(vec[:5])\n",
        "    \n",
        "df = pd.DataFrame(data, columns=columns); df.head()"
      ],
      "execution_count": 0,
      "outputs": [
        {
          "output_type": "execute_result",
          "data": {
            "text/html": [
              "<div>\n",
              "<style scoped>\n",
              "    .dataframe tbody tr th:only-of-type {\n",
              "        vertical-align: middle;\n",
              "    }\n",
              "\n",
              "    .dataframe tbody tr th {\n",
              "        vertical-align: top;\n",
              "    }\n",
              "\n",
              "    .dataframe thead th {\n",
              "        text-align: right;\n",
              "    }\n",
              "</style>\n",
              "<table border=\"1\" class=\"dataframe\">\n",
              "  <thead>\n",
              "    <tr style=\"text-align: right;\">\n",
              "      <th></th>\n",
              "      <th>id</th>\n",
              "      <th>word</th>\n",
              "      <th>vec</th>\n",
              "    </tr>\n",
              "  </thead>\n",
              "  <tbody>\n",
              "    <tr>\n",
              "      <th>0</th>\n",
              "      <td>n02124075</td>\n",
              "      <td>egyptian_cat</td>\n",
              "      <td>[-0.5116956, -0.7840087, 0.41434303, 0.9064755...</td>\n",
              "    </tr>\n",
              "    <tr>\n",
              "      <th>1</th>\n",
              "      <td>n04067472</td>\n",
              "      <td>reel</td>\n",
              "      <td>[0.18303585, 0.14932676, 0.022818606, -0.06660...</td>\n",
              "    </tr>\n",
              "    <tr>\n",
              "      <th>2</th>\n",
              "      <td>n04540053</td>\n",
              "      <td>volleyball</td>\n",
              "      <td>[-0.2620757, -0.30378416, -0.13442308, 0.26566...</td>\n",
              "    </tr>\n",
              "    <tr>\n",
              "      <th>3</th>\n",
              "      <td>n04099969</td>\n",
              "      <td>rocking_chair</td>\n",
              "      <td>[-0.18833405, -0.2974052, 0.081969775, 0.20793...</td>\n",
              "    </tr>\n",
              "    <tr>\n",
              "      <th>4</th>\n",
              "      <td>n07749582</td>\n",
              "      <td>lemon</td>\n",
              "      <td>[-0.023942592, 0.3128347, -0.09558003, -0.3638...</td>\n",
              "    </tr>\n",
              "  </tbody>\n",
              "</table>\n",
              "</div>"
            ],
            "text/plain": [
              "          id           word                                                vec\n",
              "0  n02124075   egyptian_cat  [-0.5116956, -0.7840087, 0.41434303, 0.9064755...\n",
              "1  n04067472           reel  [0.18303585, 0.14932676, 0.022818606, -0.06660...\n",
              "2  n04540053     volleyball  [-0.2620757, -0.30378416, -0.13442308, 0.26566...\n",
              "3  n04099969  rocking_chair  [-0.18833405, -0.2974052, 0.081969775, 0.20793...\n",
              "4  n07749582          lemon  [-0.023942592, 0.3128347, -0.09558003, -0.3638..."
            ]
          },
          "metadata": {
            "tags": []
          },
          "execution_count": 22
        }
      ]
    },
    {
      "metadata": {
        "id": "HTTuBgE1_i2_",
        "colab_type": "text"
      },
      "cell_type": "markdown",
      "source": [
        "same problem, a lot of the classes in the dataset just do not exist in word2vec, will try a new way for combined words. basically take the average of word2vec for each word of the composite word. E.g. w2v('arabian_camel') = (w2v('arabian') + w2v('camel'))/2"
      ]
    },
    {
      "metadata": {
        "id": "hC_3yT2VYk-G",
        "colab_type": "code",
        "colab": {}
      },
      "cell_type": "code",
      "source": [
        "EN_WORDS = en_vecs.get_words()"
      ],
      "execution_count": 0,
      "outputs": []
    },
    {
      "metadata": {
        "id": "5QR4vy0n_rf5",
        "colab_type": "code",
        "colab": {}
      },
      "cell_type": "code",
      "source": [
        "def get_vec_by_word(word, vec_size=300):\n",
        "    # if word is in w2v then return it's vector\n",
        "    #if word in word2vec: return word2vec[word]\n",
        "    if word in EN_WORDS:\n",
        "        return en_vecs.get_word_vector(word)\n",
        "    # otherwise take the average of vectors of each word in this comopsite word\n",
        "    vec = np.zeros((vec_size), dtype=np.float32)\n",
        "    words = word.split('_')\n",
        "    # return the vectors mean if the word is composite of one item\n",
        "    if len(words)==1:\n",
        "        #return word2vec_mean\n",
        "        return np.random.random((vec_size))\n",
        "    for w in words:\n",
        "        vec = vec + get_vec_by_word(w)\n",
        "    return vec / len(words)"
      ],
      "execution_count": 0,
      "outputs": []
    },
    {
      "metadata": {
        "id": "Df--5njCCliZ",
        "colab_type": "code",
        "outputId": "c7ae15f8-b941-4391-8ca0-634bf82d206c",
        "colab": {
          "base_uri": "https://localhost:8080/",
          "height": 204
        }
      },
      "cell_type": "code",
      "source": [
        "columns = ['id', 'word', 'vec']\n",
        "data = {'id': [], 'word': [], 'vec': []}\n",
        "for id in classes:\n",
        "    data['id'].append(id)\n",
        "    data['word'].append(syn2word[id])\n",
        "    vec = en_vecs.get_word_vector(syn2word[id]) # vec = word2vec[syn2word[id]]\n",
        "    data['vec'].append(vec[:5])\n",
        "    \n",
        "df = pd.DataFrame(data, columns=columns); df.head()"
      ],
      "execution_count": 0,
      "outputs": [
        {
          "output_type": "execute_result",
          "data": {
            "text/html": [
              "<div>\n",
              "<style scoped>\n",
              "    .dataframe tbody tr th:only-of-type {\n",
              "        vertical-align: middle;\n",
              "    }\n",
              "\n",
              "    .dataframe tbody tr th {\n",
              "        vertical-align: top;\n",
              "    }\n",
              "\n",
              "    .dataframe thead th {\n",
              "        text-align: right;\n",
              "    }\n",
              "</style>\n",
              "<table border=\"1\" class=\"dataframe\">\n",
              "  <thead>\n",
              "    <tr style=\"text-align: right;\">\n",
              "      <th></th>\n",
              "      <th>id</th>\n",
              "      <th>word</th>\n",
              "      <th>vec</th>\n",
              "    </tr>\n",
              "  </thead>\n",
              "  <tbody>\n",
              "    <tr>\n",
              "      <th>0</th>\n",
              "      <td>n02124075</td>\n",
              "      <td>egyptian_cat</td>\n",
              "      <td>[-0.5116956, -0.7840087, 0.41434303, 0.9064755...</td>\n",
              "    </tr>\n",
              "    <tr>\n",
              "      <th>1</th>\n",
              "      <td>n04067472</td>\n",
              "      <td>reel</td>\n",
              "      <td>[0.18303585, 0.14932676, 0.022818606, -0.06660...</td>\n",
              "    </tr>\n",
              "    <tr>\n",
              "      <th>2</th>\n",
              "      <td>n04540053</td>\n",
              "      <td>volleyball</td>\n",
              "      <td>[-0.2620757, -0.30378416, -0.13442308, 0.26566...</td>\n",
              "    </tr>\n",
              "    <tr>\n",
              "      <th>3</th>\n",
              "      <td>n04099969</td>\n",
              "      <td>rocking_chair</td>\n",
              "      <td>[-0.18833405, -0.2974052, 0.081969775, 0.20793...</td>\n",
              "    </tr>\n",
              "    <tr>\n",
              "      <th>4</th>\n",
              "      <td>n07749582</td>\n",
              "      <td>lemon</td>\n",
              "      <td>[-0.023942592, 0.3128347, -0.09558003, -0.3638...</td>\n",
              "    </tr>\n",
              "  </tbody>\n",
              "</table>\n",
              "</div>"
            ],
            "text/plain": [
              "          id           word                                                vec\n",
              "0  n02124075   egyptian_cat  [-0.5116956, -0.7840087, 0.41434303, 0.9064755...\n",
              "1  n04067472           reel  [0.18303585, 0.14932676, 0.022818606, -0.06660...\n",
              "2  n04540053     volleyball  [-0.2620757, -0.30378416, -0.13442308, 0.26566...\n",
              "3  n04099969  rocking_chair  [-0.18833405, -0.2974052, 0.081969775, 0.20793...\n",
              "4  n07749582          lemon  [-0.023942592, 0.3128347, -0.09558003, -0.3638..."
            ]
          },
          "metadata": {
            "tags": []
          },
          "execution_count": 25
        }
      ]
    },
    {
      "metadata": {
        "id": "oXnJz5ODzkT5",
        "colab_type": "text"
      },
      "cell_type": "markdown",
      "source": [
        "## Model\n",
        "ResNet-50 based model"
      ]
    },
    {
      "metadata": {
        "id": "suielAa6EYBs",
        "colab_type": "code",
        "colab": {}
      },
      "cell_type": "code",
      "source": [
        "batch_size = 64\n",
        "classes_size = 300"
      ],
      "execution_count": 0,
      "outputs": []
    },
    {
      "metadata": {
        "id": "VS0eNL7jjkya",
        "colab_type": "text"
      },
      "cell_type": "markdown",
      "source": [
        "### Data"
      ]
    },
    {
      "metadata": {
        "id": "wJn9OoecjoT8",
        "colab_type": "code",
        "colab": {}
      },
      "cell_type": "code",
      "source": [
        "class ImageGenerator(Sequence):\n",
        "    \"\"\"Generator for a sequence of Images\"\"\"\n",
        "    def __init__(self, path, fnames, labels, classes_size, batch_size, image_size=(224, 224), shuffle=True):\n",
        "        self.path = path\n",
        "        self.image_size, self.batch_size = image_size, batch_size\n",
        "        self.items, self.items_size = fnames, len(fnames)\n",
        "        self.labels = labels\n",
        "        self.classes_size = classes_size\n",
        "        self.indexes = np.arange(self.items_size)\n",
        "        self.shuffle= shuffle\n",
        "        self.on_epoch_end()\n",
        "\n",
        "    def load_urls_(self, indexes):\n",
        "        \"\"\"Load the urls of the images into a tensor\"\"\"\n",
        "        # init target arrays\n",
        "        images = np.zeros((self.batch_size, self.image_size[0], self.image_size[1], 3), dtype=np.float32)\n",
        "        labels = np.zeros((self.batch_size, self.classes_size), dtype=np.float32)\n",
        "        # Find list of urls in this batch\n",
        "        urls = [self.path/self.items[k] for k in indexes]\n",
        "        lbls = [self.labels[k] for k in indexes]\n",
        "        for index, img_path in enumerate(urls):\n",
        "            # read image from url\n",
        "            img = preprocessing.image.load_img(img_path, target_size=self.image_size)\n",
        "            img_data = preprocessing.image.img_to_array(img)\n",
        "            # read the proper label\n",
        "            lbl_data = lbls[index]\n",
        "            # append data\n",
        "            images[index, :] = img_data\n",
        "            labels[index, :] = lbl_data\n",
        "            \n",
        "        return images, labels\n",
        "        \n",
        "    def on_epoch_end(self):\n",
        "        \"\"\"Rearrange the indexes after each epoch\"\"\"\n",
        "        self.indexes = np.arange(self.items_size)\n",
        "        if self.shuffle == True:\n",
        "            np.random.shuffle(self.indexes)\n",
        "\n",
        "    def __len__(self):\n",
        "        \"\"\"Number of batches per epoch\"\"\"\n",
        "        return int(np.floor(self.items_size / self.batch_size))\n",
        "    \n",
        "    def __getitem__(self, index):\n",
        "        \"\"\"Generate one batch of data\"\"\"\n",
        "        # Generate indexes of the batch\n",
        "        indexes = self.indexes[index*self.batch_size:(index+1)*self.batch_size]\n",
        "\n",
        "        # Generate data for the batch\n",
        "        X, y = self.load_urls_(indexes)\n",
        "        return X, y"
      ],
      "execution_count": 0,
      "outputs": []
    },
    {
      "metadata": {
        "id": "6VpALQeUkc4L",
        "colab_type": "text"
      },
      "cell_type": "markdown",
      "source": [
        "A helper class for dealing with image datasets, gathers training/validation/test data into one place"
      ]
    },
    {
      "metadata": {
        "id": "oRs1-BEBvu4Y",
        "colab_type": "code",
        "colab": {}
      },
      "cell_type": "code",
      "source": [
        "def get_label_name_from_fname(self, fname):\n",
        "    \"\"\"Get the name of the image label from the filename\"\"\"\n",
        "    return '_'.join(fname.split('_')[:-1]).lower()\n",
        "    \n",
        "def get_label_index_from_fname(self, fname):\n",
        "    \"\"\"Get the index of the label from the filename\"\"\"\n",
        "    lbl_name = self.get_label_name_from_fname(fname)\n",
        "    return self.classes.index(lbl_name)\n",
        "\n",
        "# get the word from a given image filename\n",
        "def get_label_from_fname(fname):\n",
        "    fname = fname.split('/')\n",
        "    if 'train' in fname:\n",
        "        index = fname.index('train') + 1\n",
        "        synset = fname[index]\n",
        "        word = syn2word[synset]\n",
        "        return word\n",
        "    print('cannot find word for', fname)\n",
        "    return None\n",
        "\n",
        "# get the word2vec representation from a given image filename\n",
        "def get_word2vec_from_fname(fname):\n",
        "    fname = fname.split('/')\n",
        "    if 'train' in fname:\n",
        "        index = fname.index('train') + 1\n",
        "        synset = fname[index]\n",
        "        word = syn2word[synset]\n",
        "        vec = get_vec_by_word(word)\n",
        "        return vec    \n",
        "    print('cannot find word2vec representation for', fname)\n",
        "    return None"
      ],
      "execution_count": 0,
      "outputs": []
    },
    {
      "metadata": {
        "id": "gaVwpGyg5HWF",
        "colab_type": "code",
        "outputId": "e8c841df-3483-43f7-97ac-e7b356155093",
        "colab": {
          "base_uri": "https://localhost:8080/",
          "height": 187
        }
      },
      "cell_type": "code",
      "source": [
        "!head tiny-imagenet-200/val/val_annotations.txt"
      ],
      "execution_count": 0,
      "outputs": [
        {
          "output_type": "stream",
          "text": [
            "val_0.JPEG\tn03444034\t0\t32\t44\t62\n",
            "val_1.JPEG\tn04067472\t52\t55\t57\t59\n",
            "val_2.JPEG\tn04070727\t4\t0\t60\t55\n",
            "val_3.JPEG\tn02808440\t3\t3\t63\t63\n",
            "val_4.JPEG\tn02808440\t9\t27\t63\t48\n",
            "val_5.JPEG\tn04399382\t7\t0\t59\t63\n",
            "val_6.JPEG\tn04179913\t0\t0\t63\t56\n",
            "val_7.JPEG\tn02823428\t5\t0\t57\t63\n",
            "val_8.JPEG\tn04146614\t0\t31\t60\t60\n",
            "val_9.JPEG\tn02226429\t0\t3\t63\t57\n"
          ],
          "name": "stdout"
        }
      ]
    },
    {
      "metadata": {
        "id": "JM6kV4VMw-US",
        "colab_type": "text"
      },
      "cell_type": "markdown",
      "source": [
        "data bunch for gathering train/validation/test sets in one place"
      ]
    },
    {
      "metadata": {
        "id": "PMnNiR0kkb1o",
        "colab_type": "code",
        "colab": {}
      },
      "cell_type": "code",
      "source": [
        "def ceildiv(a, b):\n",
        "    return -(-a // b)\n",
        "\n",
        "def plots_from_files(imspaths, figsize=(10,5), rows=1, titles=None, maintitle=None):\n",
        "    \"\"\"Plot the images in a grid\"\"\"\n",
        "    f = plt.figure(figsize=figsize)\n",
        "    if maintitle is not None: plt.suptitle(maintitle, fontsize=10)\n",
        "    for i in range(len(imspaths)):\n",
        "        sp = f.add_subplot(rows, ceildiv(len(imspaths), rows), i+1)\n",
        "        sp.axis('Off')\n",
        "        if titles is not None: sp.set_title(titles[i], fontsize=16)\n",
        "        img = plt.imread(imspaths[i])\n",
        "        plt.imshow(img)\n",
        "\n",
        "\n",
        "class DataBunch():\n",
        "    \"\"\"An image data bunch\"\"\"\n",
        "    def __init__(self, path, classes_size, train_gen, valid_gen, test_gen=None):\n",
        "        self.path = path\n",
        "        self.cls_size = classes_size\n",
        "        self.train_gen = train_gen\n",
        "        self.valid_gen = valid_gen\n",
        "        self.test_gen = test_gen\n",
        "    \n",
        "    def show_bunch(self, get_title, rows=3, figsize=(7, 6), **kwargs):\n",
        "        \"\"\"Show a bunch of images from the dataset\"\"\"\n",
        "        imspaths = np.random.choice(self.train_gen.items, 9)\n",
        "        # '_'.join(p.split('_')[:-1]).lower()\n",
        "        titles = [get_title(p) for p in imspaths]\n",
        "        imspaths = [(path/p).as_posix() for p in imspaths]\n",
        "        plots_from_files(imspaths, figsize, rows, titles)\n",
        "\n",
        "    @property\n",
        "    def c(self):\n",
        "        return self.classes       \n",
        "    @property\n",
        "    def classes_size(self):\n",
        "        return self.cls_size"
      ],
      "execution_count": 0,
      "outputs": []
    },
    {
      "metadata": {
        "id": "9bk5Ux8qD-02",
        "colab_type": "text"
      },
      "cell_type": "markdown",
      "source": [
        "#### training dataset"
      ]
    },
    {
      "metadata": {
        "id": "PaHv5Ju16QfO",
        "colab_type": "text"
      },
      "cell_type": "markdown",
      "source": [
        "##### Load data"
      ]
    },
    {
      "metadata": {
        "id": "2-90vtLvlvtH",
        "colab_type": "code",
        "colab": {}
      },
      "cell_type": "code",
      "source": [
        "pattern = '*/images/*.JPEG'\n",
        "# training set\n",
        "train_fnames = [str(p) for p in tqdm((imagenet_path/'train').glob(pattern))]\n",
        "train_labels = [get_word2vec_from_fname(str(p)) for p in tqdm((imagenet_path/'train').glob(pattern))]\n",
        "# generator\n",
        "train_gen = ImageGenerator(path, train_fnames, train_labels, classes_size, batch_size)\n",
        "print('Training set has %d batches of size %d' % (len(train_gen), batch_size))"
      ],
      "execution_count": 0,
      "outputs": []
    },
    {
      "metadata": {
        "id": "RQy5s2ZwzPRW",
        "colab_type": "text"
      },
      "cell_type": "markdown",
      "source": [
        "##### Store data for later use"
      ]
    },
    {
      "metadata": {
        "id": "aEW-AEzMyNoE",
        "colab_type": "code",
        "colab": {}
      },
      "cell_type": "code",
      "source": [
        "import pickle"
      ],
      "execution_count": 0,
      "outputs": []
    },
    {
      "metadata": {
        "id": "7cUa6teVyQeH",
        "colab_type": "code",
        "colab": {}
      },
      "cell_type": "code",
      "source": [
        "pickle.dump(train_fnames, open('/content/gdrive/My Drive/data/devise_train_fnames.pkl','wb'))\n",
        "pickle.dump(train_labels, open('/content/gdrive/My Drive/data/devise_train_labels.pkl','wb'))"
      ],
      "execution_count": 0,
      "outputs": []
    },
    {
      "metadata": {
        "id": "2dRZq28Jy6jS",
        "colab_type": "code",
        "colab": {}
      },
      "cell_type": "code",
      "source": [
        "train_fnames = pickle.load(open('/content/gdrive/My Drive/data/devise_train_fnames.pkl','rb'))\n",
        "train_labels = pickle.load(open('/content/gdrive/My Drive/data/devise_train_labels.pkl','rb'))"
      ],
      "execution_count": 0,
      "outputs": []
    },
    {
      "metadata": {
        "id": "gCDOVQ7jEliV",
        "colab_type": "text"
      },
      "cell_type": "markdown",
      "source": [
        "#### validation dataset"
      ]
    },
    {
      "metadata": {
        "id": "HUzftxw_o_Rs",
        "colab_type": "code",
        "outputId": "7a7bd0f7-af3d-4222-ffec-2c9bcb5d7ea4",
        "colab": {
          "base_uri": "https://localhost:8080/",
          "height": 34
        }
      },
      "cell_type": "code",
      "source": [
        "# validation set\n",
        "valid_fnames = []\n",
        "valid_labels = []\n",
        "for line in open('tiny-imagenet-200/val/val_annotations.txt'):    \n",
        "    fname, synset = line.split('\\t')[:2]\n",
        "    fname = (imagenet_path/'val/images')/fname\n",
        "    valid_fnames.append(fname.as_posix())\n",
        "    word = syn2word[synset]\n",
        "    vec = get_vec_by_word(word)\n",
        "    valid_labels.append(vec)\n",
        "# generator\n",
        "valid_gen = ImageGenerator(path, valid_fnames, valid_labels, classes_size, batch_size)\n",
        "print('Validation set has %d batches of size %d' % (len(valid_gen), batch_size))"
      ],
      "execution_count": 0,
      "outputs": [
        {
          "output_type": "stream",
          "text": [
            "Validation set has 156 batches of size 64\n"
          ],
          "name": "stdout"
        }
      ]
    },
    {
      "metadata": {
        "id": "oZfAgtuCEuPE",
        "colab_type": "text"
      },
      "cell_type": "markdown",
      "source": [
        "#### testing dataset"
      ]
    },
    {
      "metadata": {
        "id": "1KpXi6FPEts9",
        "colab_type": "code",
        "outputId": "50684763-f898-4450-b85a-9dbe17ce7d81",
        "colab": {
          "base_uri": "https://localhost:8080/",
          "height": 34
        }
      },
      "cell_type": "code",
      "source": [
        "test_fnames = [p for p in (imagenet_path/'test').glob('images/*.JPEG')]\n",
        "test_gen = ImageGenerator(path, test_fnames, [], classes_size, batch_size)\n",
        "print('Test set has %d batches of size %d' % (len(test_gen), batch_size))"
      ],
      "execution_count": 0,
      "outputs": [
        {
          "output_type": "stream",
          "text": [
            "Test set has 156 batches of size 64\n"
          ],
          "name": "stdout"
        }
      ]
    },
    {
      "metadata": {
        "id": "3B3t2rL_Eqna",
        "colab_type": "text"
      },
      "cell_type": "markdown",
      "source": [
        "#### databunch"
      ]
    },
    {
      "metadata": {
        "id": "m5LAa28iDgjn",
        "colab_type": "code",
        "colab": {}
      },
      "cell_type": "code",
      "source": [
        "# combine all datasets into a bunch\n",
        "data = DataBunch(path, 300, train_gen, valid_gen, test_gen)"
      ],
      "execution_count": 0,
      "outputs": []
    },
    {
      "metadata": {
        "id": "zZIbFTazsw7b",
        "colab_type": "code",
        "outputId": "a10a473e-0558-4afd-c2cd-5f9c094f14e6",
        "colab": {
          "base_uri": "https://localhost:8080/",
          "height": 392
        }
      },
      "cell_type": "code",
      "source": [
        "data.show_bunch(get_label_from_fname)"
      ],
      "execution_count": 0,
      "outputs": [
        {
          "output_type": "display_data",
          "data": {
            "image/png": "[encoded data removed]",
            "text/plain": [
              "<Figure size 504x432 with 9 Axes>"
            ]
          },
          "metadata": {
            "tags": []
          }
        }
      ]
    },
    {
      "metadata": {
        "id": "cB4KV-_-kWGi",
        "colab_type": "text"
      },
      "cell_type": "markdown",
      "source": [
        "### Learner\n",
        "A ResNet-50 based architecture"
      ]
    },
    {
      "metadata": {
        "id": "HQPE2dskuCv2",
        "colab_type": "code",
        "colab": {}
      },
      "cell_type": "code",
      "source": [
        "class Learner():\n",
        "    \"\"\"Base learner object\"\"\"\n",
        "    def __init__(self):\n",
        "        pass\n",
        "            \n",
        "    # freeze all layers of the model (from left to right)\n",
        "    @classmethod\n",
        "    def freeze(cls, model, limit=None):\n",
        "        # handle negative indices\n",
        "        if limit != None and limit < -1:\n",
        "            limit = limit + len(model.layers) \n",
        "        # loop for all valid indices and mark the corresponding layer\n",
        "        for index, layer in enumerate(model.layers):\n",
        "            if limit != None and index > limit:\n",
        "                break\n",
        "            layer.trainable = False\n",
        "\n",
        "    # unfreeze all layers of the model up to the given layer index (from right to left)\n",
        "    @classmethod\n",
        "    def unfreeze(cls, model, limit=None):\n",
        "        # handle negative indices\n",
        "        if limit != None and limit < -1:\n",
        "            limit = limit + len(model.layers)\n",
        "        for index, layer in enumerate(model.layers):\n",
        "            if limit != None and index < limit:\n",
        "                continue\n",
        "            layer.trainable = True"
      ],
      "execution_count": 0,
      "outputs": []
    },
    {
      "metadata": {
        "id": "-WPCmOYmypYL",
        "colab_type": "code",
        "colab": {}
      },
      "cell_type": "code",
      "source": [
        "class ImageClassificationLearner(Learner):\n",
        "    \"\"\"Image classification learner\"\"\"\n",
        "    def __init__(self, data, archi, loss='categorical_crossentropy', metrics=['accuracy']):\n",
        "        self.data = data\n",
        "        self.model = self._create_model(archi)\n",
        "        # compile the model to before training\n",
        "        adam = Adam(lr=0.001, epsilon=0.01, decay=0.0001)\n",
        "        self.model.compile(adam, loss, metrics)\n",
        "        \n",
        "\n",
        "    def _create_model(self, archi):\n",
        "        model1 = ResNet50(weights='imagenet')\n",
        "        # 1. freeze the original model up to the last layer we will keep\n",
        "        Learner.freeze(model1, -3)\n",
        "        # 2. create a new model that will be chained to the output of our base model\n",
        "        x = model1.layers[-3].output          # shape should be (bs=None, 7, 7, 2048)\n",
        "        x = Dropout(rate=0.3)(x)              # shape should be (bs=None, 7, 7, 2048)\n",
        "        x = GlobalAveragePooling2D()(x)       # shape should be (bs=None, 2048)\n",
        "        x = Dense(1024, activation='relu')(x) # shape should be (bs=None, 1024)\n",
        "        x = BatchNormalization()(x)\n",
        "        y = Dense(self.data.classes_size, activation='linear')(x) # shape should be (bs=None, num_champti\n",
        "        model2 = Model(inputs=model1.input, outputs=y)\n",
        "        return model2\n",
        "        \n",
        "    def fit(self, epochs=5):\n",
        "        # fit the model using the previous generators\n",
        "        train_gen = self.data.train_gen\n",
        "        valid_gen = self.data.valid_gen\n",
        "        history = self.model.fit_generator(generator=train_gen, validation_data=valid_gen, epochs=epochs, use_multiprocessing=True)\n",
        "        return history"
      ],
      "execution_count": 0,
      "outputs": []
    },
    {
      "metadata": {
        "id": "G83YKQR_OHqI",
        "colab_type": "text"
      },
      "cell_type": "markdown",
      "source": [
        "Loss function Cosine Distance"
      ]
    },
    {
      "metadata": {
        "id": "2v6RZB5LL1ho",
        "colab_type": "code",
        "colab": {}
      },
      "cell_type": "code",
      "source": [
        "# the loss function as an inverse cosine distance\n",
        "def cosine_loss(y, y_hat):\n",
        "    # unit-normalize y and y_hat ()\n",
        "    y = tf.math.l2_normalize(y, axis=1)\n",
        "    y_hat = tf.math.l2_normalize(y_hat, axis=1)\n",
        "    # cosine distance for normalized tensors\n",
        "    loss = tf.losses.cosine_distance(y, y_hat, axis=1)\n",
        "    return loss"
      ],
      "execution_count": 0,
      "outputs": []
    },
    {
      "metadata": {
        "id": "FOTytY-rdRA1",
        "colab_type": "text"
      },
      "cell_type": "markdown",
      "source": [
        "### Training"
      ]
    },
    {
      "metadata": {
        "id": "aZgL3Oj_A3Bw",
        "colab_type": "code",
        "outputId": "279a342c-c874-4f03-a7f3-6ad4e9e47e32",
        "colab": {
          "base_uri": "https://localhost:8080/",
          "height": 51
        }
      },
      "cell_type": "code",
      "source": [
        "learner = ImageClassificationLearner(data, loss=cosine_loss, archi='resnet50')"
      ],
      "execution_count": 0,
      "outputs": [
        {
          "output_type": "stream",
          "text": [
            "Downloading data from https://github.com/fchollet/deep-learning-models/releases/download/v0.2/resnet50_weights_tf_dim_ordering_tf_kernels.h5\n",
            "102858752/102853048 [==============================] - 2s 0us/step\n"
          ],
          "name": "stdout"
        }
      ]
    },
    {
      "metadata": {
        "id": "4V2F1DGALOq-",
        "colab_type": "code",
        "outputId": "529293c6-a7f6-4ac0-fd74-c0ef12fc4dd0",
        "colab": {
          "base_uri": "https://localhost:8080/",
          "height": 187
        }
      },
      "cell_type": "code",
      "source": [
        "history = learner.fit()"
      ],
      "execution_count": 0,
      "outputs": [
        {
          "output_type": "stream",
          "text": [
            "Epoch 1/5\n",
            "1562/1562 [==============================] - 778s 498ms/step - loss: 0.6982 - acc: 0.1167 - val_loss: 0.4500 - val_acc: 0.1630\n",
            "Epoch 2/5\n",
            "1562/1562 [==============================] - 770s 493ms/step - loss: 0.2771 - acc: 0.4843 - val_loss: 0.3165 - val_acc: 0.4592\n",
            "Epoch 3/5\n",
            "1562/1562 [==============================] - 770s 493ms/step - loss: 0.2543 - acc: 0.5260 - val_loss: 0.2953 - val_acc: 0.4930\n",
            "Epoch 4/5\n",
            "1562/1562 [==============================] - 770s 493ms/step - loss: 0.2479 - acc: 0.5308 - val_loss: 0.2862 - val_acc: 0.5052\n",
            "Epoch 5/5\n",
            "1562/1562 [==============================] - 770s 493ms/step - loss: 0.2443 - acc: 0.5327 - val_loss: 0.2809 - val_acc: 0.5091\n"
          ],
          "name": "stdout"
        }
      ]
    },
    {
      "metadata": {
        "id": "MfgbFoGK4HHS",
        "colab_type": "code",
        "outputId": "9a14b167-5d6a-4361-a3ea-d5b37c6f1d37",
        "colab": {
          "base_uri": "https://localhost:8080/",
          "height": 297
        }
      },
      "cell_type": "code",
      "source": [
        "plt.plot(history.history['loss'], label=\"train\")\n",
        "plt.plot(history.history['val_loss'], label=\"valid\")\n",
        "\n",
        "# Add legend\n",
        "plt.legend(loc='top left')\n",
        "# Add title and x, y labels\n",
        "plt.title(\"Losses over epoch\", fontsize=16, fontweight='bold')\n",
        "#plt.suptitle(\"Random Walk Suptitle\", fontsize=10)\n",
        "plt.xlabel(\"epoch\")\n",
        "plt.ylabel(\"Loss\")\n",
        "\n",
        "plt.show()"
      ],
      "execution_count": 0,
      "outputs": [
        {
          "output_type": "display_data",
          "data": {
            "image/png": "[encoded data removed]",
            "text/plain": [
              "<Figure size 432x288 with 1 Axes>"
            ]
          },
          "metadata": {
            "tags": []
          }
        }
      ]
    },
    {
      "metadata": {
        "id": "8nCVcVyr4UyH",
        "colab_type": "code",
        "outputId": "ddef3b97-018b-4f91-914a-289af50ecfd7",
        "colab": {
          "base_uri": "https://localhost:8080/",
          "height": 297
        }
      },
      "cell_type": "code",
      "source": [
        "plt.plot(history.history['acc'], label=\"train\")\n",
        "plt.plot(history.history['val_acc'], label=\"valid\")\n",
        "\n",
        "# Add legend\n",
        "plt.legend(loc='top left')\n",
        "# Add title and x, y labels\n",
        "plt.title(\"Accuracy over epoch\", fontsize=16, fontweight='bold')\n",
        "#plt.suptitle(\"Random Walk Suptitle\", fontsize=10)\n",
        "plt.xlabel(\"epoch\")\n",
        "plt.ylabel(\"Accuracy\")\n",
        "\n",
        "plt.show()"
      ],
      "execution_count": 0,
      "outputs": [
        {
          "output_type": "display_data",
          "data": {
            "image/png": "[encoded data removed]",
            "text/plain": [
              "<Figure size 432x288 with 1 Axes>"
            ]
          },
          "metadata": {
            "tags": []
          }
        }
      ]
    },
    {
      "metadata": {
        "id": "ZY_yf2fS4XUA",
        "colab_type": "code",
        "colab": {}
      },
      "cell_type": "code",
      "source": [
        "# Save the trained model in an HDF5 file\n",
        "learner.model.save('devise.h5')"
      ],
      "execution_count": 0,
      "outputs": []
    },
    {
      "metadata": {
        "id": "XhmxjmpmXvsz",
        "colab_type": "code",
        "colab": {}
      },
      "cell_type": "code",
      "source": [
        "#!cp devise.h5 /content/gdrive/My\\ Drive/data/models\n",
        "!cp  /content/gdrive/My\\ Drive/data/models/devise.h5 ."
      ],
      "execution_count": 0,
      "outputs": []
    },
    {
      "metadata": {
        "id": "F-u-y3XB40U0",
        "colab_type": "code",
        "colab": {}
      },
      "cell_type": "code",
      "source": [
        "# Load the trained model\n",
        "model = load_model('devise.h5', custom_objects={'cosine_loss': cosine_loss})"
      ],
      "execution_count": 0,
      "outputs": []
    },
    {
      "metadata": {
        "id": "Yo937DIf7HKT",
        "colab_type": "code",
        "outputId": "3800d952-2a0a-48aa-bf47-31cbab489c2c",
        "colab": {
          "base_uri": "https://localhost:8080/",
          "height": 6528
        }
      },
      "cell_type": "code",
      "source": [
        "model.summary()"
      ],
      "execution_count": 0,
      "outputs": [
        {
          "output_type": "stream",
          "text": [
            "__________________________________________________________________________________________________\n",
            "Layer (type)                    Output Shape         Param #     Connected to                     \n",
            "==================================================================================================\n",
            "input_2 (InputLayer)            (None, 224, 224, 3)  0                                            \n",
            "__________________________________________________________________________________________________\n",
            "conv1_pad (ZeroPadding2D)       (None, 230, 230, 3)  0           input_2[0][0]                    \n",
            "__________________________________________________________________________________________________\n",
            "conv1 (Conv2D)                  (None, 112, 112, 64) 9472        conv1_pad[0][0]                  \n",
            "__________________________________________________________________________________________________\n",
            "bn_conv1 (BatchNormalization)   (None, 112, 112, 64) 256         conv1[0][0]                      \n",
            "__________________________________________________________________________________________________\n",
            "activation_49 (Activation)      (None, 112, 112, 64) 0           bn_conv1[0][0]                   \n",
            "__________________________________________________________________________________________________\n",
            "pool1_pad (ZeroPadding2D)       (None, 114, 114, 64) 0           activation_49[0][0]              \n",
            "__________________________________________________________________________________________________\n",
            "max_pooling2d_1 (MaxPooling2D)  (None, 56, 56, 64)   0           pool1_pad[0][0]                  \n",
            "__________________________________________________________________________________________________\n",
            "res2a_branch2a (Conv2D)         (None, 56, 56, 64)   4160        max_pooling2d_1[0][0]            \n",
            "__________________________________________________________________________________________________\n",
            "bn2a_branch2a (BatchNormalizati (None, 56, 56, 64)   256         res2a_branch2a[0][0]             \n",
            "__________________________________________________________________________________________________\n",
            "activation_50 (Activation)      (None, 56, 56, 64)   0           bn2a_branch2a[0][0]              \n",
            "__________________________________________________________________________________________________\n",
            "res2a_branch2b (Conv2D)         (None, 56, 56, 64)   36928       activation_50[0][0]              \n",
            "__________________________________________________________________________________________________\n",
            "bn2a_branch2b (BatchNormalizati (None, 56, 56, 64)   256         res2a_branch2b[0][0]             \n",
            "__________________________________________________________________________________________________\n",
            "activation_51 (Activation)      (None, 56, 56, 64)   0           bn2a_branch2b[0][0]              \n",
            "__________________________________________________________________________________________________\n",
            "res2a_branch2c (Conv2D)         (None, 56, 56, 256)  16640       activation_51[0][0]              \n",
            "__________________________________________________________________________________________________\n",
            "res2a_branch1 (Conv2D)          (None, 56, 56, 256)  16640       max_pooling2d_1[0][0]            \n",
            "__________________________________________________________________________________________________\n",
            "bn2a_branch2c (BatchNormalizati (None, 56, 56, 256)  1024        res2a_branch2c[0][0]             \n",
            "__________________________________________________________________________________________________\n",
            "bn2a_branch1 (BatchNormalizatio (None, 56, 56, 256)  1024        res2a_branch1[0][0]              \n",
            "__________________________________________________________________________________________________\n",
            "add_16 (Add)                    (None, 56, 56, 256)  0           bn2a_branch2c[0][0]              \n",
            "                                                                 bn2a_branch1[0][0]               \n",
            "__________________________________________________________________________________________________\n",
            "activation_52 (Activation)      (None, 56, 56, 256)  0           add_16[0][0]                     \n",
            "__________________________________________________________________________________________________\n",
            "res2b_branch2a (Conv2D)         (None, 56, 56, 64)   16448       activation_52[0][0]              \n",
            "__________________________________________________________________________________________________\n",
            "bn2b_branch2a (BatchNormalizati (None, 56, 56, 64)   256         res2b_branch2a[0][0]             \n",
            "__________________________________________________________________________________________________\n",
            "activation_53 (Activation)      (None, 56, 56, 64)   0           bn2b_branch2a[0][0]              \n",
            "__________________________________________________________________________________________________\n",
            "res2b_branch2b (Conv2D)         (None, 56, 56, 64)   36928       activation_53[0][0]              \n",
            "__________________________________________________________________________________________________\n",
            "bn2b_branch2b (BatchNormalizati (None, 56, 56, 64)   256         res2b_branch2b[0][0]             \n",
            "__________________________________________________________________________________________________\n",
            "activation_54 (Activation)      (None, 56, 56, 64)   0           bn2b_branch2b[0][0]              \n",
            "__________________________________________________________________________________________________\n",
            "res2b_branch2c (Conv2D)         (None, 56, 56, 256)  16640       activation_54[0][0]              \n",
            "__________________________________________________________________________________________________\n",
            "bn2b_branch2c (BatchNormalizati (None, 56, 56, 256)  1024        res2b_branch2c[0][0]             \n",
            "__________________________________________________________________________________________________\n",
            "add_17 (Add)                    (None, 56, 56, 256)  0           bn2b_branch2c[0][0]              \n",
            "                                                                 activation_52[0][0]              \n",
            "__________________________________________________________________________________________________\n",
            "activation_55 (Activation)      (None, 56, 56, 256)  0           add_17[0][0]                     \n",
            "__________________________________________________________________________________________________\n",
            "res2c_branch2a (Conv2D)         (None, 56, 56, 64)   16448       activation_55[0][0]              \n",
            "__________________________________________________________________________________________________\n",
            "bn2c_branch2a (BatchNormalizati (None, 56, 56, 64)   256         res2c_branch2a[0][0]             \n",
            "__________________________________________________________________________________________________\n",
            "activation_56 (Activation)      (None, 56, 56, 64)   0           bn2c_branch2a[0][0]              \n",
            "__________________________________________________________________________________________________\n",
            "res2c_branch2b (Conv2D)         (None, 56, 56, 64)   36928       activation_56[0][0]              \n",
            "__________________________________________________________________________________________________\n",
            "bn2c_branch2b (BatchNormalizati (None, 56, 56, 64)   256         res2c_branch2b[0][0]             \n",
            "__________________________________________________________________________________________________\n",
            "activation_57 (Activation)      (None, 56, 56, 64)   0           bn2c_branch2b[0][0]              \n",
            "__________________________________________________________________________________________________\n",
            "res2c_branch2c (Conv2D)         (None, 56, 56, 256)  16640       activation_57[0][0]              \n",
            "__________________________________________________________________________________________________\n",
            "bn2c_branch2c (BatchNormalizati (None, 56, 56, 256)  1024        res2c_branch2c[0][0]             \n",
            "__________________________________________________________________________________________________\n",
            "add_18 (Add)                    (None, 56, 56, 256)  0           bn2c_branch2c[0][0]              \n",
            "                                                                 activation_55[0][0]              \n",
            "__________________________________________________________________________________________________\n",
            "activation_58 (Activation)      (None, 56, 56, 256)  0           add_18[0][0]                     \n",
            "__________________________________________________________________________________________________\n",
            "res3a_branch2a (Conv2D)         (None, 28, 28, 128)  32896       activation_58[0][0]              \n",
            "__________________________________________________________________________________________________\n",
            "bn3a_branch2a (BatchNormalizati (None, 28, 28, 128)  512         res3a_branch2a[0][0]             \n",
            "__________________________________________________________________________________________________\n",
            "activation_59 (Activation)      (None, 28, 28, 128)  0           bn3a_branch2a[0][0]              \n",
            "__________________________________________________________________________________________________\n",
            "res3a_branch2b (Conv2D)         (None, 28, 28, 128)  147584      activation_59[0][0]              \n",
            "__________________________________________________________________________________________________\n",
            "bn3a_branch2b (BatchNormalizati (None, 28, 28, 128)  512         res3a_branch2b[0][0]             \n",
            "__________________________________________________________________________________________________\n",
            "activation_60 (Activation)      (None, 28, 28, 128)  0           bn3a_branch2b[0][0]              \n",
            "__________________________________________________________________________________________________\n",
            "res3a_branch2c (Conv2D)         (None, 28, 28, 512)  66048       activation_60[0][0]              \n",
            "__________________________________________________________________________________________________\n",
            "res3a_branch1 (Conv2D)          (None, 28, 28, 512)  131584      activation_58[0][0]              \n",
            "__________________________________________________________________________________________________\n",
            "bn3a_branch2c (BatchNormalizati (None, 28, 28, 512)  2048        res3a_branch2c[0][0]             \n",
            "__________________________________________________________________________________________________\n",
            "bn3a_branch1 (BatchNormalizatio (None, 28, 28, 512)  2048        res3a_branch1[0][0]              \n",
            "__________________________________________________________________________________________________\n",
            "add_19 (Add)                    (None, 28, 28, 512)  0           bn3a_branch2c[0][0]              \n",
            "                                                                 bn3a_branch1[0][0]               \n",
            "__________________________________________________________________________________________________\n",
            "activation_61 (Activation)      (None, 28, 28, 512)  0           add_19[0][0]                     \n",
            "__________________________________________________________________________________________________\n",
            "res3b_branch2a (Conv2D)         (None, 28, 28, 128)  65664       activation_61[0][0]              \n",
            "__________________________________________________________________________________________________\n",
            "bn3b_branch2a (BatchNormalizati (None, 28, 28, 128)  512         res3b_branch2a[0][0]             \n",
            "__________________________________________________________________________________________________\n",
            "activation_62 (Activation)      (None, 28, 28, 128)  0           bn3b_branch2a[0][0]              \n",
            "__________________________________________________________________________________________________\n",
            "res3b_branch2b (Conv2D)         (None, 28, 28, 128)  147584      activation_62[0][0]              \n",
            "__________________________________________________________________________________________________\n",
            "bn3b_branch2b (BatchNormalizati (None, 28, 28, 128)  512         res3b_branch2b[0][0]             \n",
            "__________________________________________________________________________________________________\n",
            "activation_63 (Activation)      (None, 28, 28, 128)  0           bn3b_branch2b[0][0]              \n",
            "__________________________________________________________________________________________________\n",
            "res3b_branch2c (Conv2D)         (None, 28, 28, 512)  66048       activation_63[0][0]              \n",
            "__________________________________________________________________________________________________\n",
            "bn3b_branch2c (BatchNormalizati (None, 28, 28, 512)  2048        res3b_branch2c[0][0]             \n",
            "__________________________________________________________________________________________________\n",
            "add_20 (Add)                    (None, 28, 28, 512)  0           bn3b_branch2c[0][0]              \n",
            "                                                                 activation_61[0][0]              \n",
            "__________________________________________________________________________________________________\n",
            "activation_64 (Activation)      (None, 28, 28, 512)  0           add_20[0][0]                     \n",
            "__________________________________________________________________________________________________\n",
            "res3c_branch2a (Conv2D)         (None, 28, 28, 128)  65664       activation_64[0][0]              \n",
            "__________________________________________________________________________________________________\n",
            "bn3c_branch2a (BatchNormalizati (None, 28, 28, 128)  512         res3c_branch2a[0][0]             \n",
            "__________________________________________________________________________________________________\n",
            "activation_65 (Activation)      (None, 28, 28, 128)  0           bn3c_branch2a[0][0]              \n",
            "__________________________________________________________________________________________________\n",
            "res3c_branch2b (Conv2D)         (None, 28, 28, 128)  147584      activation_65[0][0]              \n",
            "__________________________________________________________________________________________________\n",
            "bn3c_branch2b (BatchNormalizati (None, 28, 28, 128)  512         res3c_branch2b[0][0]             \n",
            "__________________________________________________________________________________________________\n",
            "activation_66 (Activation)      (None, 28, 28, 128)  0           bn3c_branch2b[0][0]              \n",
            "__________________________________________________________________________________________________\n",
            "res3c_branch2c (Conv2D)         (None, 28, 28, 512)  66048       activation_66[0][0]              \n",
            "__________________________________________________________________________________________________\n",
            "bn3c_branch2c (BatchNormalizati (None, 28, 28, 512)  2048        res3c_branch2c[0][0]             \n",
            "__________________________________________________________________________________________________\n",
            "add_21 (Add)                    (None, 28, 28, 512)  0           bn3c_branch2c[0][0]              \n",
            "                                                                 activation_64[0][0]              \n",
            "__________________________________________________________________________________________________\n",
            "activation_67 (Activation)      (None, 28, 28, 512)  0           add_21[0][0]                     \n",
            "__________________________________________________________________________________________________\n",
            "res3d_branch2a (Conv2D)         (None, 28, 28, 128)  65664       activation_67[0][0]              \n",
            "__________________________________________________________________________________________________\n",
            "bn3d_branch2a (BatchNormalizati (None, 28, 28, 128)  512         res3d_branch2a[0][0]             \n",
            "__________________________________________________________________________________________________\n",
            "activation_68 (Activation)      (None, 28, 28, 128)  0           bn3d_branch2a[0][0]              \n",
            "__________________________________________________________________________________________________\n",
            "res3d_branch2b (Conv2D)         (None, 28, 28, 128)  147584      activation_68[0][0]              \n",
            "__________________________________________________________________________________________________\n",
            "bn3d_branch2b (BatchNormalizati (None, 28, 28, 128)  512         res3d_branch2b[0][0]             \n",
            "__________________________________________________________________________________________________\n",
            "activation_69 (Activation)      (None, 28, 28, 128)  0           bn3d_branch2b[0][0]              \n",
            "__________________________________________________________________________________________________\n",
            "res3d_branch2c (Conv2D)         (None, 28, 28, 512)  66048       activation_69[0][0]              \n",
            "__________________________________________________________________________________________________\n",
            "bn3d_branch2c (BatchNormalizati (None, 28, 28, 512)  2048        res3d_branch2c[0][0]             \n",
            "__________________________________________________________________________________________________\n",
            "add_22 (Add)                    (None, 28, 28, 512)  0           bn3d_branch2c[0][0]              \n",
            "                                                                 activation_67[0][0]              \n",
            "__________________________________________________________________________________________________\n",
            "activation_70 (Activation)      (None, 28, 28, 512)  0           add_22[0][0]                     \n",
            "__________________________________________________________________________________________________\n",
            "res4a_branch2a (Conv2D)         (None, 14, 14, 256)  131328      activation_70[0][0]              \n",
            "__________________________________________________________________________________________________\n",
            "bn4a_branch2a (BatchNormalizati (None, 14, 14, 256)  1024        res4a_branch2a[0][0]             \n",
            "__________________________________________________________________________________________________\n",
            "activation_71 (Activation)      (None, 14, 14, 256)  0           bn4a_branch2a[0][0]              \n",
            "__________________________________________________________________________________________________\n",
            "res4a_branch2b (Conv2D)         (None, 14, 14, 256)  590080      activation_71[0][0]              \n",
            "__________________________________________________________________________________________________\n",
            "bn4a_branch2b (BatchNormalizati (None, 14, 14, 256)  1024        res4a_branch2b[0][0]             \n",
            "__________________________________________________________________________________________________\n",
            "activation_72 (Activation)      (None, 14, 14, 256)  0           bn4a_branch2b[0][0]              \n",
            "__________________________________________________________________________________________________\n",
            "res4a_branch2c (Conv2D)         (None, 14, 14, 1024) 263168      activation_72[0][0]              \n",
            "__________________________________________________________________________________________________\n",
            "res4a_branch1 (Conv2D)          (None, 14, 14, 1024) 525312      activation_70[0][0]              \n",
            "__________________________________________________________________________________________________\n",
            "bn4a_branch2c (BatchNormalizati (None, 14, 14, 1024) 4096        res4a_branch2c[0][0]             \n",
            "__________________________________________________________________________________________________\n",
            "bn4a_branch1 (BatchNormalizatio (None, 14, 14, 1024) 4096        res4a_branch1[0][0]              \n",
            "__________________________________________________________________________________________________\n",
            "add_23 (Add)                    (None, 14, 14, 1024) 0           bn4a_branch2c[0][0]              \n",
            "                                                                 bn4a_branch1[0][0]               \n",
            "__________________________________________________________________________________________________\n",
            "activation_73 (Activation)      (None, 14, 14, 1024) 0           add_23[0][0]                     \n",
            "__________________________________________________________________________________________________\n",
            "res4b_branch2a (Conv2D)         (None, 14, 14, 256)  262400      activation_73[0][0]              \n",
            "__________________________________________________________________________________________________\n",
            "bn4b_branch2a (BatchNormalizati (None, 14, 14, 256)  1024        res4b_branch2a[0][0]             \n",
            "__________________________________________________________________________________________________\n",
            "activation_74 (Activation)      (None, 14, 14, 256)  0           bn4b_branch2a[0][0]              \n",
            "__________________________________________________________________________________________________\n",
            "res4b_branch2b (Conv2D)         (None, 14, 14, 256)  590080      activation_74[0][0]              \n",
            "__________________________________________________________________________________________________\n",
            "bn4b_branch2b (BatchNormalizati (None, 14, 14, 256)  1024        res4b_branch2b[0][0]             \n",
            "__________________________________________________________________________________________________\n",
            "activation_75 (Activation)      (None, 14, 14, 256)  0           bn4b_branch2b[0][0]              \n",
            "__________________________________________________________________________________________________\n",
            "res4b_branch2c (Conv2D)         (None, 14, 14, 1024) 263168      activation_75[0][0]              \n",
            "__________________________________________________________________________________________________\n",
            "bn4b_branch2c (BatchNormalizati (None, 14, 14, 1024) 4096        res4b_branch2c[0][0]             \n",
            "__________________________________________________________________________________________________\n",
            "add_24 (Add)                    (None, 14, 14, 1024) 0           bn4b_branch2c[0][0]              \n",
            "                                                                 activation_73[0][0]              \n",
            "__________________________________________________________________________________________________\n",
            "activation_76 (Activation)      (None, 14, 14, 1024) 0           add_24[0][0]                     \n",
            "__________________________________________________________________________________________________\n",
            "res4c_branch2a (Conv2D)         (None, 14, 14, 256)  262400      activation_76[0][0]              \n",
            "__________________________________________________________________________________________________\n",
            "bn4c_branch2a (BatchNormalizati (None, 14, 14, 256)  1024        res4c_branch2a[0][0]             \n",
            "__________________________________________________________________________________________________\n",
            "activation_77 (Activation)      (None, 14, 14, 256)  0           bn4c_branch2a[0][0]              \n",
            "__________________________________________________________________________________________________\n",
            "res4c_branch2b (Conv2D)         (None, 14, 14, 256)  590080      activation_77[0][0]              \n",
            "__________________________________________________________________________________________________\n",
            "bn4c_branch2b (BatchNormalizati (None, 14, 14, 256)  1024        res4c_branch2b[0][0]             \n",
            "__________________________________________________________________________________________________\n",
            "activation_78 (Activation)      (None, 14, 14, 256)  0           bn4c_branch2b[0][0]              \n",
            "__________________________________________________________________________________________________\n",
            "res4c_branch2c (Conv2D)         (None, 14, 14, 1024) 263168      activation_78[0][0]              \n",
            "__________________________________________________________________________________________________\n",
            "bn4c_branch2c (BatchNormalizati (None, 14, 14, 1024) 4096        res4c_branch2c[0][0]             \n",
            "__________________________________________________________________________________________________\n",
            "add_25 (Add)                    (None, 14, 14, 1024) 0           bn4c_branch2c[0][0]              \n",
            "                                                                 activation_76[0][0]              \n",
            "__________________________________________________________________________________________________\n",
            "activation_79 (Activation)      (None, 14, 14, 1024) 0           add_25[0][0]                     \n",
            "__________________________________________________________________________________________________\n",
            "res4d_branch2a (Conv2D)         (None, 14, 14, 256)  262400      activation_79[0][0]              \n",
            "__________________________________________________________________________________________________\n",
            "bn4d_branch2a (BatchNormalizati (None, 14, 14, 256)  1024        res4d_branch2a[0][0]             \n",
            "__________________________________________________________________________________________________\n",
            "activation_80 (Activation)      (None, 14, 14, 256)  0           bn4d_branch2a[0][0]              \n",
            "__________________________________________________________________________________________________\n",
            "res4d_branch2b (Conv2D)         (None, 14, 14, 256)  590080      activation_80[0][0]              \n",
            "__________________________________________________________________________________________________\n",
            "bn4d_branch2b (BatchNormalizati (None, 14, 14, 256)  1024        res4d_branch2b[0][0]             \n",
            "__________________________________________________________________________________________________\n",
            "activation_81 (Activation)      (None, 14, 14, 256)  0           bn4d_branch2b[0][0]              \n",
            "__________________________________________________________________________________________________\n",
            "res4d_branch2c (Conv2D)         (None, 14, 14, 1024) 263168      activation_81[0][0]              \n",
            "__________________________________________________________________________________________________\n",
            "bn4d_branch2c (BatchNormalizati (None, 14, 14, 1024) 4096        res4d_branch2c[0][0]             \n",
            "__________________________________________________________________________________________________\n",
            "add_26 (Add)                    (None, 14, 14, 1024) 0           bn4d_branch2c[0][0]              \n",
            "                                                                 activation_79[0][0]              \n",
            "__________________________________________________________________________________________________\n",
            "activation_82 (Activation)      (None, 14, 14, 1024) 0           add_26[0][0]                     \n",
            "__________________________________________________________________________________________________\n",
            "res4e_branch2a (Conv2D)         (None, 14, 14, 256)  262400      activation_82[0][0]              \n",
            "__________________________________________________________________________________________________\n",
            "bn4e_branch2a (BatchNormalizati (None, 14, 14, 256)  1024        res4e_branch2a[0][0]             \n",
            "__________________________________________________________________________________________________\n",
            "activation_83 (Activation)      (None, 14, 14, 256)  0           bn4e_branch2a[0][0]              \n",
            "__________________________________________________________________________________________________\n",
            "res4e_branch2b (Conv2D)         (None, 14, 14, 256)  590080      activation_83[0][0]              \n",
            "__________________________________________________________________________________________________\n",
            "bn4e_branch2b (BatchNormalizati (None, 14, 14, 256)  1024        res4e_branch2b[0][0]             \n",
            "__________________________________________________________________________________________________\n",
            "activation_84 (Activation)      (None, 14, 14, 256)  0           bn4e_branch2b[0][0]              \n",
            "__________________________________________________________________________________________________\n",
            "res4e_branch2c (Conv2D)         (None, 14, 14, 1024) 263168      activation_84[0][0]              \n",
            "__________________________________________________________________________________________________\n",
            "bn4e_branch2c (BatchNormalizati (None, 14, 14, 1024) 4096        res4e_branch2c[0][0]             \n",
            "__________________________________________________________________________________________________\n",
            "add_27 (Add)                    (None, 14, 14, 1024) 0           bn4e_branch2c[0][0]              \n",
            "                                                                 activation_82[0][0]              \n",
            "__________________________________________________________________________________________________\n",
            "activation_85 (Activation)      (None, 14, 14, 1024) 0           add_27[0][0]                     \n",
            "__________________________________________________________________________________________________\n",
            "res4f_branch2a (Conv2D)         (None, 14, 14, 256)  262400      activation_85[0][0]              \n",
            "__________________________________________________________________________________________________\n",
            "bn4f_branch2a (BatchNormalizati (None, 14, 14, 256)  1024        res4f_branch2a[0][0]             \n",
            "__________________________________________________________________________________________________\n",
            "activation_86 (Activation)      (None, 14, 14, 256)  0           bn4f_branch2a[0][0]              \n",
            "__________________________________________________________________________________________________\n",
            "res4f_branch2b (Conv2D)         (None, 14, 14, 256)  590080      activation_86[0][0]              \n",
            "__________________________________________________________________________________________________\n",
            "bn4f_branch2b (BatchNormalizati (None, 14, 14, 256)  1024        res4f_branch2b[0][0]             \n",
            "__________________________________________________________________________________________________\n",
            "activation_87 (Activation)      (None, 14, 14, 256)  0           bn4f_branch2b[0][0]              \n",
            "__________________________________________________________________________________________________\n",
            "res4f_branch2c (Conv2D)         (None, 14, 14, 1024) 263168      activation_87[0][0]              \n",
            "__________________________________________________________________________________________________\n",
            "bn4f_branch2c (BatchNormalizati (None, 14, 14, 1024) 4096        res4f_branch2c[0][0]             \n",
            "__________________________________________________________________________________________________\n",
            "add_28 (Add)                    (None, 14, 14, 1024) 0           bn4f_branch2c[0][0]              \n",
            "                                                                 activation_85[0][0]              \n",
            "__________________________________________________________________________________________________\n",
            "activation_88 (Activation)      (None, 14, 14, 1024) 0           add_28[0][0]                     \n",
            "__________________________________________________________________________________________________\n",
            "res5a_branch2a (Conv2D)         (None, 7, 7, 512)    524800      activation_88[0][0]              \n",
            "__________________________________________________________________________________________________\n",
            "bn5a_branch2a (BatchNormalizati (None, 7, 7, 512)    2048        res5a_branch2a[0][0]             \n",
            "__________________________________________________________________________________________________\n",
            "activation_89 (Activation)      (None, 7, 7, 512)    0           bn5a_branch2a[0][0]              \n",
            "__________________________________________________________________________________________________\n",
            "res5a_branch2b (Conv2D)         (None, 7, 7, 512)    2359808     activation_89[0][0]              \n",
            "__________________________________________________________________________________________________\n",
            "bn5a_branch2b (BatchNormalizati (None, 7, 7, 512)    2048        res5a_branch2b[0][0]             \n",
            "__________________________________________________________________________________________________\n",
            "activation_90 (Activation)      (None, 7, 7, 512)    0           bn5a_branch2b[0][0]              \n",
            "__________________________________________________________________________________________________\n",
            "res5a_branch2c (Conv2D)         (None, 7, 7, 2048)   1050624     activation_90[0][0]              \n",
            "__________________________________________________________________________________________________\n",
            "res5a_branch1 (Conv2D)          (None, 7, 7, 2048)   2099200     activation_88[0][0]              \n",
            "__________________________________________________________________________________________________\n",
            "bn5a_branch2c (BatchNormalizati (None, 7, 7, 2048)   8192        res5a_branch2c[0][0]             \n",
            "__________________________________________________________________________________________________\n",
            "bn5a_branch1 (BatchNormalizatio (None, 7, 7, 2048)   8192        res5a_branch1[0][0]              \n",
            "__________________________________________________________________________________________________\n",
            "add_29 (Add)                    (None, 7, 7, 2048)   0           bn5a_branch2c[0][0]              \n",
            "                                                                 bn5a_branch1[0][0]               \n",
            "__________________________________________________________________________________________________\n",
            "activation_91 (Activation)      (None, 7, 7, 2048)   0           add_29[0][0]                     \n",
            "__________________________________________________________________________________________________\n",
            "res5b_branch2a (Conv2D)         (None, 7, 7, 512)    1049088     activation_91[0][0]              \n",
            "__________________________________________________________________________________________________\n",
            "bn5b_branch2a (BatchNormalizati (None, 7, 7, 512)    2048        res5b_branch2a[0][0]             \n",
            "__________________________________________________________________________________________________\n",
            "activation_92 (Activation)      (None, 7, 7, 512)    0           bn5b_branch2a[0][0]              \n",
            "__________________________________________________________________________________________________\n",
            "res5b_branch2b (Conv2D)         (None, 7, 7, 512)    2359808     activation_92[0][0]              \n",
            "__________________________________________________________________________________________________\n",
            "bn5b_branch2b (BatchNormalizati (None, 7, 7, 512)    2048        res5b_branch2b[0][0]             \n",
            "__________________________________________________________________________________________________\n",
            "activation_93 (Activation)      (None, 7, 7, 512)    0           bn5b_branch2b[0][0]              \n",
            "__________________________________________________________________________________________________\n",
            "res5b_branch2c (Conv2D)         (None, 7, 7, 2048)   1050624     activation_93[0][0]              \n",
            "__________________________________________________________________________________________________\n",
            "bn5b_branch2c (BatchNormalizati (None, 7, 7, 2048)   8192        res5b_branch2c[0][0]             \n",
            "__________________________________________________________________________________________________\n",
            "add_30 (Add)                    (None, 7, 7, 2048)   0           bn5b_branch2c[0][0]              \n",
            "                                                                 activation_91[0][0]              \n",
            "__________________________________________________________________________________________________\n",
            "activation_94 (Activation)      (None, 7, 7, 2048)   0           add_30[0][0]                     \n",
            "__________________________________________________________________________________________________\n",
            "res5c_branch2a (Conv2D)         (None, 7, 7, 512)    1049088     activation_94[0][0]              \n",
            "__________________________________________________________________________________________________\n",
            "bn5c_branch2a (BatchNormalizati (None, 7, 7, 512)    2048        res5c_branch2a[0][0]             \n",
            "__________________________________________________________________________________________________\n",
            "activation_95 (Activation)      (None, 7, 7, 512)    0           bn5c_branch2a[0][0]              \n",
            "__________________________________________________________________________________________________\n",
            "res5c_branch2b (Conv2D)         (None, 7, 7, 512)    2359808     activation_95[0][0]              \n",
            "__________________________________________________________________________________________________\n",
            "bn5c_branch2b (BatchNormalizati (None, 7, 7, 512)    2048        res5c_branch2b[0][0]             \n",
            "__________________________________________________________________________________________________\n",
            "activation_96 (Activation)      (None, 7, 7, 512)    0           bn5c_branch2b[0][0]              \n",
            "__________________________________________________________________________________________________\n",
            "res5c_branch2c (Conv2D)         (None, 7, 7, 2048)   1050624     activation_96[0][0]              \n",
            "__________________________________________________________________________________________________\n",
            "bn5c_branch2c (BatchNormalizati (None, 7, 7, 2048)   8192        res5c_branch2c[0][0]             \n",
            "__________________________________________________________________________________________________\n",
            "add_31 (Add)                    (None, 7, 7, 2048)   0           bn5c_branch2c[0][0]              \n",
            "                                                                 activation_94[0][0]              \n",
            "__________________________________________________________________________________________________\n",
            "activation_97 (Activation)      (None, 7, 7, 2048)   0           add_31[0][0]                     \n",
            "__________________________________________________________________________________________________\n",
            "dropout_1 (Dropout)             (None, 7, 7, 2048)   0           activation_97[0][0]              \n",
            "__________________________________________________________________________________________________\n",
            "global_average_pooling2d_1 (Glo (None, 2048)         0           dropout_1[0][0]                  \n",
            "__________________________________________________________________________________________________\n",
            "dense_2 (Dense)                 (None, 1024)         2098176     global_average_pooling2d_1[0][0] \n",
            "__________________________________________________________________________________________________\n",
            "batch_normalization_1 (BatchNor (None, 1024)         4096        dense_2[0][0]                    \n",
            "__________________________________________________________________________________________________\n",
            "dense_3 (Dense)                 (None, 300)          307500      batch_normalization_1[0][0]      \n",
            "==================================================================================================\n",
            "Total params: 25,997,484\n",
            "Trainable params: 2,407,724\n",
            "Non-trainable params: 23,589,760\n",
            "__________________________________________________________________________________________________\n"
          ],
          "name": "stdout"
        }
      ]
    },
    {
      "metadata": {
        "id": "8OR6Ii2rTMXq",
        "colab_type": "text"
      },
      "cell_type": "markdown",
      "source": [
        "## Search"
      ]
    },
    {
      "metadata": {
        "id": "9FVH6sCRyCdn",
        "colab_type": "code",
        "colab": {}
      },
      "cell_type": "code",
      "source": [
        "train_gen = None"
      ],
      "execution_count": 0,
      "outputs": []
    },
    {
      "metadata": {
        "id": "p0C7WtZqx-ai",
        "colab_type": "code",
        "outputId": "98952f8e-de28-4ff5-cd69-d291da58b2cf",
        "colab": {
          "base_uri": "https://localhost:8080/",
          "height": 34
        }
      },
      "cell_type": "code",
      "source": [
        "import gc\n",
        "gc.collect()"
      ],
      "execution_count": 0,
      "outputs": [
        {
          "output_type": "execute_result",
          "data": {
            "text/plain": [
              "0"
            ]
          },
          "metadata": {
            "tags": []
          },
          "execution_count": 58
        }
      ]
    },
    {
      "metadata": {
        "id": "7KBj11WPTO2E",
        "colab_type": "text"
      },
      "cell_type": "markdown",
      "source": [
        "### Search: imagenet classes"
      ]
    },
    {
      "metadata": {
        "id": "CxaCedIjDu7W",
        "colab_type": "text"
      },
      "cell_type": "markdown",
      "source": [
        "run predictions on the training dataset to get word vector representations for the classes in the dataset"
      ]
    },
    {
      "metadata": {
        "id": "LuU1I9jlMfwU",
        "colab_type": "code",
        "colab": {
          "base_uri": "https://localhost:8080/",
          "height": 34
        },
        "outputId": "2de8478d-6603-4dce-b730-62fdb22946dc"
      },
      "cell_type": "code",
      "source": [
        "pattern = '*/images/*.JPEG'\n",
        "fnames = [p.as_posix() for p in (imagenet_path/'train').glob(pattern)]\n",
        "# parameters\n",
        "image_size = (224, 224)\n",
        "data_size  = len(fnames)\n",
        "dimensions = 300\n",
        "# place holders for X and y\n",
        "y = np.zeros((data_size, dimensions), dtype=np.float32)\n",
        "y_hat = np.zeros((data_size, dimensions), dtype=np.float32)\n",
        "# read images and labels\n",
        "for i, p in tqdm(enumerate(fnames)):\n",
        "    # original label\n",
        "    y[i, :] = get_word2vec_from_fname(p)\n",
        "    # predicted label\n",
        "    img = preprocessing.image.load_img(p, target_size=image_size)\n",
        "    img_data = preprocessing.image.img_to_array(img)\n",
        "    y_hat[i, :] = model.predict(img_data[None])"
      ],
      "execution_count": 30,
      "outputs": [
        {
          "output_type": "stream",
          "text": [
            "100000it [1:09:35, 23.95it/s]\n"
          ],
          "name": "stderr"
        }
      ]
    },
    {
      "metadata": {
        "id": "0I3bGiysSj_K",
        "colab_type": "code",
        "outputId": "b0c72325-f1d5-49de-b8f2-4a9b64bb1589",
        "colab": {
          "base_uri": "https://localhost:8080/",
          "height": 34
        }
      },
      "cell_type": "code",
      "source": [
        "y.shape, y_hat.shape"
      ],
      "execution_count": 31,
      "outputs": [
        {
          "output_type": "execute_result",
          "data": {
            "text/plain": [
              "((100000, 300), (100000, 300))"
            ]
          },
          "metadata": {
            "tags": []
          },
          "execution_count": 31
        }
      ]
    },
    {
      "metadata": {
        "id": "DDOzqROlurKh",
        "colab_type": "code",
        "outputId": "f06ee576-25fa-46bd-8525-f564a9e7dcd6",
        "colab": {
          "base_uri": "https://localhost:8080/",
          "height": 68
        }
      },
      "cell_type": "code",
      "source": [
        "!curl -O http://files.fast.ai/data/classids.txt"
      ],
      "execution_count": 32,
      "outputs": [
        {
          "output_type": "stream",
          "text": [
            "  % Total    % Received % Xferd  Average Speed   Time    Time     Time  Current\n",
            "                                 Dload  Upload   Total   Spent    Left  Speed\n",
            "100 1700k  100 1700k    0     0  2526k      0 --:--:-- --:--:-- --:--:-- 2526k\n"
          ],
          "name": "stdout"
        }
      ]
    },
    {
      "metadata": {
        "id": "ga8AJwAouuTq",
        "colab_type": "code",
        "outputId": "923bdafb-db70-463e-e423-bc04aea89354",
        "colab": {
          "base_uri": "https://localhost:8080/",
          "height": 34
        }
      },
      "cell_type": "code",
      "source": [
        "!cat classids.txt | wc -l"
      ],
      "execution_count": 0,
      "outputs": [
        {
          "output_type": "stream",
          "text": [
            "82115\n"
          ],
          "name": "stdout"
        }
      ]
    },
    {
      "metadata": {
        "id": "BYWwYh1nw8Iq",
        "colab_type": "text"
      },
      "cell_type": "markdown",
      "source": [
        "split the syn2word dictionnary into two list of synset and another one of vectors"
      ]
    },
    {
      "metadata": {
        "id": "xN-t-cjDuDmw",
        "colab_type": "code",
        "colab": {}
      },
      "cell_type": "code",
      "source": [
        "syns_1k, words_1k = zip(*syn2word.items())\n",
        "wvs_1k = [get_vec_by_word(word) for word in words_1k]"
      ],
      "execution_count": 0,
      "outputs": []
    },
    {
      "metadata": {
        "id": "okOmEbWWLwQ6",
        "colab_type": "text"
      },
      "cell_type": "markdown",
      "source": [
        "split english words in dictionnay (cannot really do this on Collaboratory it will crash)"
      ]
    },
    {
      "metadata": {
        "id": "kufmNsL4LtzE",
        "colab_type": "code",
        "colab": {}
      },
      "cell_type": "code",
      "source": [
        "words_all, wvs_all = zip(*word2vec.items())\n",
        "len(syns_1k), len(words_1k), len(wvs_1k), len(words_all), len(wvs_all)"
      ],
      "execution_count": 0,
      "outputs": []
    },
    {
      "metadata": {
        "id": "lQJ-ylBO0nRl",
        "colab_type": "code",
        "colab": {}
      },
      "cell_type": "code",
      "source": [
        "import nmslib\n",
        "\n",
        "def create_index(a):\n",
        "    # Initializes a new index\n",
        "    index = nmslib.init(space='angulardist')\n",
        "    # Add the datapoints to the index\n",
        "    index.addDataPointBatch(a)\n",
        "    # Create the index for querying\n",
        "    index.createIndex()\n",
        "    return index\n",
        "\n",
        "def get_knns(index, vecs):\n",
        "    \"\"\"Get approximate K nearest neighbours for each vector in the list\"\"\"\n",
        "    return zip(*index.knnQueryBatch(vecs, k=10, num_threads=4))\n",
        "\n",
        "def get_knn(index, vec):\n",
        "    \"\"\"Get approximate K nearest neighbours of a vector.\"\"\"\n",
        "    return index.knnQuery(vec, k=10)"
      ],
      "execution_count": 0,
      "outputs": []
    },
    {
      "metadata": {
        "id": "Glq3REtp-qNf",
        "colab_type": "code",
        "colab": {}
      },
      "cell_type": "code",
      "source": [
        "# this is too slow, avoiding it\n",
        "#from sklearn.neighbors import NearestNeighbors\n",
        "#wvs_index_sklearn = NearestNeighbors(n_neighbors=10, algorithm='ball_tree').fit(wvs_all)\n",
        "#distances, indices = wvs_index_sklearn.kneighbors(wvs_all)"
      ],
      "execution_count": 0,
      "outputs": []
    },
    {
      "metadata": {
        "id": "RQ1ERLuiS_uS",
        "colab_type": "text"
      },
      "cell_type": "markdown",
      "source": [
        "### KNN on imagenet labels"
      ]
    },
    {
      "metadata": {
        "id": "-TELWXInFzl3",
        "colab_type": "text"
      },
      "cell_type": "markdown",
      "source": [
        "create an index against the word vector representation in the class labels, then find the nearest words for what was predicted"
      ]
    },
    {
      "metadata": {
        "id": "WIVzzcjX5uI0",
        "colab_type": "code",
        "colab": {}
      },
      "cell_type": "code",
      "source": [
        "wvs_index = create_index(wvs_1k) # nearest neighborhood on imageword2vec wvs"
      ],
      "execution_count": 0,
      "outputs": []
    },
    {
      "metadata": {
        "id": "SNY61JoO2pjU",
        "colab_type": "text"
      },
      "cell_type": "markdown",
      "source": [
        "Get the 10 top nearest neighbours for each vector in y_hat (i.e. predicted word2vec for the test images)"
      ]
    },
    {
      "metadata": {
        "id": "FDU13sqDO242",
        "colab_type": "text"
      },
      "cell_type": "markdown",
      "source": [
        "#### on true labels"
      ]
    },
    {
      "metadata": {
        "id": "oh5FZy5K5tuc",
        "colab_type": "code",
        "outputId": "84d7480a-d832-4c09-c78c-59b0a0d057fe",
        "colab": {
          "base_uri": "https://localhost:8080/",
          "height": 85
        }
      },
      "cell_type": "code",
      "source": [
        "get_knn(wvs_index, y[0])"
      ],
      "execution_count": 37,
      "outputs": [
        {
          "output_type": "execute_result",
          "data": {
            "text/plain": [
              "(array([364, 648, 885, 647, 452, 656, 363, 453, 458, 224], dtype=int32),\n",
              " array([0.        , 0.68119514, 0.7362414 , 0.9308378 , 0.9449915 ,\n",
              "        0.9549681 , 0.9740239 , 0.9779966 , 0.98506117, 0.9892287 ],\n",
              "       dtype=float32))"
            ]
          },
          "metadata": {
            "tags": []
          },
          "execution_count": 37
        }
      ]
    },
    {
      "metadata": {
        "id": "TOdb8T3vj2nX",
        "colab_type": "code",
        "colab": {}
      },
      "cell_type": "code",
      "source": [
        "idxs, dists = get_knns(wvs_index, y)"
      ],
      "execution_count": 0,
      "outputs": []
    },
    {
      "metadata": {
        "id": "ZpCh6C1tkPu9",
        "colab_type": "code",
        "outputId": "8a774aeb-ebf4-41c2-8f3d-c79cb3137c1a",
        "colab": {
          "base_uri": "https://localhost:8080/",
          "height": 85
        }
      },
      "cell_type": "code",
      "source": [
        "idxs[100:102], idxs[10:12]"
      ],
      "execution_count": 39,
      "outputs": [
        {
          "output_type": "execute_result",
          "data": {
            "text/plain": [
              "((array([364, 648, 885, 647, 452, 656, 363, 453, 458, 224], dtype=int32),\n",
              "  array([364, 648, 885, 647, 452, 656, 363, 453, 458, 224], dtype=int32)),\n",
              " (array([364, 648, 885, 647, 452, 656, 363, 453, 458, 224], dtype=int32),\n",
              "  array([364, 648, 885, 647, 452, 656, 363, 453, 458, 224], dtype=int32)))"
            ]
          },
          "metadata": {
            "tags": []
          },
          "execution_count": 39
        }
      ]
    },
    {
      "metadata": {
        "id": "nRAO8T3N3mwy",
        "colab_type": "text"
      },
      "cell_type": "markdown",
      "source": [
        "have a look to the nearest neighbours for some vectors"
      ]
    },
    {
      "metadata": {
        "id": "F0yPGbKuMHJE",
        "colab_type": "code",
        "colab": {}
      },
      "cell_type": "code",
      "source": [
        "offset = 300"
      ],
      "execution_count": 0,
      "outputs": []
    },
    {
      "metadata": {
        "id": "19L8XoWU4Izn",
        "colab_type": "code",
        "outputId": "49dee2e1-ffa7-4e52-c2a2-d17af1cad618",
        "colab": {
          "base_uri": "https://localhost:8080/",
          "height": 187
        }
      },
      "cell_type": "code",
      "source": [
        "idxs[offset:offset+10]"
      ],
      "execution_count": 42,
      "outputs": [
        {
          "output_type": "execute_result",
          "data": {
            "text/plain": [
              "(array([364, 648, 885, 647, 452, 656, 363, 453, 458, 224], dtype=int32),\n",
              " array([364, 648, 885, 647, 452, 656, 363, 453, 458, 224], dtype=int32),\n",
              " array([364, 648, 885, 647, 452, 656, 363, 453, 458, 224], dtype=int32),\n",
              " array([364, 648, 885, 647, 452, 656, 363, 453, 458, 224], dtype=int32),\n",
              " array([364, 648, 885, 647, 452, 656, 363, 453, 458, 224], dtype=int32),\n",
              " array([364, 648, 885, 647, 452, 656, 363, 453, 458, 224], dtype=int32),\n",
              " array([364, 648, 885, 647, 452, 656, 363, 453, 458, 224], dtype=int32),\n",
              " array([364, 648, 885, 647, 452, 656, 363, 453, 458, 224], dtype=int32),\n",
              " array([364, 648, 885, 647, 452, 656, 363, 453, 458, 224], dtype=int32),\n",
              " array([364, 648, 885, 647, 452, 656, 363, 453, 458, 224], dtype=int32))"
            ]
          },
          "metadata": {
            "tags": []
          },
          "execution_count": 42
        }
      ]
    },
    {
      "metadata": {
        "id": "DyJ7JBkn4Rtx",
        "colab_type": "text"
      },
      "cell_type": "markdown",
      "source": [
        "get the name of the top 3 neighbours for vectors between index start and start + 10"
      ]
    },
    {
      "metadata": {
        "id": "JDj3MTc0NwNz",
        "colab_type": "code",
        "outputId": "687b9c1f-7134-4766-9bf0-59c0e659ad23",
        "colab": {
          "base_uri": "https://localhost:8080/",
          "height": 187
        }
      },
      "cell_type": "code",
      "source": [
        "random_ids = [idxs[randint(0, len(idxs))] for i in range(10)]\n",
        "[[words_1k[id] for id in ids[:3]] for ids in random_ids]"
      ],
      "execution_count": 43,
      "outputs": [
        {
          "output_type": "execute_result",
          "data": {
            "text/plain": [
              "[['lakeside', 'beach_wagon', 'boathouse'],\n",
              " ['fly', 'dragonfly', 'plane'],\n",
              " ['altar', 'pedestal', 'vestment'],\n",
              " ['guacamole', 'chocolate_sauce', 'mashed_potato'],\n",
              " ['steel_arch_bridge', 'suspension_bridge', 'triumphal_arch'],\n",
              " ['spiny_lobster', 'anemone_fish', 'crayfish'],\n",
              " ['pizza', 'cheeseburger', 'restaurant'],\n",
              " ['hog', 'badger', 'wood_rabbit'],\n",
              " ['bison', 'wild_boar', 'bighorn'],\n",
              " ['plate', 'plate_rack', 'ladle']]"
            ]
          },
          "metadata": {
            "tags": []
          },
          "execution_count": 43
        }
      ]
    },
    {
      "metadata": {
        "id": "1TM_oRAuO7HH",
        "colab_type": "text"
      },
      "cell_type": "markdown",
      "source": [
        "#### on predicted labels"
      ]
    },
    {
      "metadata": {
        "id": "OHpEjUzFq1RE",
        "colab_type": "code",
        "colab": {}
      },
      "cell_type": "code",
      "source": [
        "idxs, dists = get_knns(wvs_index, y_hat)"
      ],
      "execution_count": 0,
      "outputs": []
    },
    {
      "metadata": {
        "id": "iNKCb7cn53wi",
        "colab_type": "code",
        "outputId": "f5a78e17-b34e-4e38-9f87-b669961d40e2",
        "colab": {
          "base_uri": "https://localhost:8080/",
          "height": 187
        }
      },
      "cell_type": "code",
      "source": [
        "random_ids = [idxs[randint(0, len(idxs))] for i in range(10)]\n",
        "[[words_1k[id] for id in ids[:3]] for ids in random_ids]"
      ],
      "execution_count": 45,
      "outputs": [
        {
          "output_type": "execute_result",
          "data": {
            "text/plain": [
              "[['vulture', 'arctic_fox', 'airship'],\n",
              " ['airship', 'vulture', 'arctic_fox'],\n",
              " ['arctic_fox', 'black_swan', 'vulture'],\n",
              " ['airship', 'vulture', 'indigo_bunting'],\n",
              " ['vulture', 'arctic_fox', 'indigo_bunting'],\n",
              " ['vulture', 'airship', 'grey_fox'],\n",
              " ['airship', 'arctic_fox', 'vulture'],\n",
              " ['indigo_bunting', 'vulture', 'arctic_fox'],\n",
              " ['airship', 'steel_arch_bridge', 'vulture'],\n",
              " ['airship', 'indigo_bunting', 'black_swan']]"
            ]
          },
          "metadata": {
            "tags": []
          },
          "execution_count": 45
        }
      ]
    },
    {
      "metadata": {
        "id": "SNDWBsfOPeEL",
        "colab_type": "text"
      },
      "cell_type": "markdown",
      "source": [
        "these results are complete garbadge "
      ]
    },
    {
      "metadata": {
        "id": "bNmWHpT-P5mn",
        "colab_type": "text"
      },
      "cell_type": "markdown",
      "source": [
        "### KNN on wordnet labels"
      ]
    },
    {
      "metadata": {
        "id": "hJGjJBVxQBjf",
        "colab_type": "text"
      },
      "cell_type": "markdown",
      "source": [
        "create an index against the word vector representation in FastText, then find the nearest words for what was predicted"
      ]
    },
    {
      "metadata": {
        "id": "J3gnZNlnUUxN",
        "colab_type": "code",
        "colab": {}
      },
      "cell_type": "code",
      "source": [
        "wvs_index = create_index(wvs_all) # nearest neighborhood on imageword2vec wvs"
      ],
      "execution_count": 0,
      "outputs": []
    },
    {
      "metadata": {
        "id": "FFyL0rDnUaun",
        "colab_type": "code",
        "colab": {}
      },
      "cell_type": "code",
      "source": [
        "idxs, dists = get_knns(wvs_index, y)"
      ],
      "execution_count": 0,
      "outputs": []
    },
    {
      "metadata": {
        "id": "R7PNcr_IUmsF",
        "colab_type": "code",
        "outputId": "843aa9c9-2ae7-49b9-c5fd-133cb5238b6e",
        "colab": {
          "base_uri": "https://localhost:8080/",
          "height": 187
        }
      },
      "cell_type": "code",
      "source": [
        "random_ids = [idxs[randint(0, len(idxs))] for i in range(10)]\n",
        "[[words_all[id] for id in ids[:3]] for ids in random_ids]"
      ],
      "execution_count": 0,
      "outputs": [
        {
          "output_type": "execute_result",
          "data": {
            "text/plain": [
              "[['orange', 'oranges', 'orang'],\n",
              " ['âksâr', 'август', 'ημερολόγιο'],\n",
              " ['âksâr', 'август', 'ημερολόγιο'],\n",
              " ['âksâr', 'август', 'ημερολόγιο'],\n",
              " ['acorn', 'corn', 'unicorn'],\n",
              " ['wooden', 'wedgwood', 'winwood'],\n",
              " ['âksâr', 'август', 'ημερολόγιο'],\n",
              " ['âksâr', 'август', 'ημερολόγιο'],\n",
              " ['âksâr', 'август', 'ημερολόγιο'],\n",
              " ['fountain', 'mountain', 'mountains']]"
            ]
          },
          "metadata": {
            "tags": []
          },
          "execution_count": 57
        }
      ]
    },
    {
      "metadata": {
        "id": "5cwjXbDxYSqw",
        "colab_type": "code",
        "colab": {}
      },
      "cell_type": "code",
      "source": [
        "idxs, dists = get_knns(wvs_index, y_hat)"
      ],
      "execution_count": 0,
      "outputs": []
    },
    {
      "metadata": {
        "id": "fDVtK0arYmwi",
        "colab_type": "code",
        "outputId": "5a1f9797-cb4c-43fd-9190-ce29a7156a3b",
        "colab": {
          "base_uri": "https://localhost:8080/",
          "height": 187
        }
      },
      "cell_type": "code",
      "source": [
        "[[words_all[id] for id in ids[:3]] for ids in random_ids]"
      ],
      "execution_count": 0,
      "outputs": [
        {
          "output_type": "execute_result",
          "data": {
            "text/plain": [
              "[['orange', 'oranges', 'orang'],\n",
              " ['âksâr', 'август', 'ημερολόγιο'],\n",
              " ['âksâr', 'август', 'ημερολόγιο'],\n",
              " ['âksâr', 'август', 'ημερολόγιο'],\n",
              " ['acorn', 'corn', 'unicorn'],\n",
              " ['wooden', 'wedgwood', 'winwood'],\n",
              " ['âksâr', 'август', 'ημερολόγιο'],\n",
              " ['âksâr', 'август', 'ημερολόγιο'],\n",
              " ['âksâr', 'август', 'ημερολόγιο'],\n",
              " ['fountain', 'mountain', 'mountains']]"
            ]
          },
          "metadata": {
            "tags": []
          },
          "execution_count": 59
        }
      ]
    },
    {
      "metadata": {
        "id": "5HXo7TstThoR",
        "colab_type": "text"
      },
      "cell_type": "markdown",
      "source": [
        "### Search: Text to Image"
      ]
    },
    {
      "metadata": {
        "id": "OjSM_v3hVRMJ",
        "colab_type": "text"
      },
      "cell_type": "markdown",
      "source": [
        "helper functions to display search result"
      ]
    },
    {
      "metadata": {
        "id": "Jye6CrvRVPUz",
        "colab_type": "code",
        "colab": {}
      },
      "cell_type": "code",
      "source": [
        "def ceildiv(a, b):\n",
        "    return -(-a // b)\n",
        "\n",
        "def show_img_old(fname, figsize=None, ax=None):\n",
        "    img = preprocessing.image.load_img(fname, target_size=image_size)\n",
        "    if not ax:\n",
        "        fig,ax = plt.subplots(figsize=figsize)\n",
        "    ax.imshow(img)\n",
        "    ax.axis('off')\n",
        "    return ax\n",
        "\n",
        "def show_imgs_old(fnames, cols, figsize=None):\n",
        "    fig,axes = plt.subplots(len(fnames)//cols, cols, figsize=figsize)\n",
        "    for i,ax in enumerate(axes.flat):\n",
        "        show_img(fnames[i], ax=ax)\n",
        "    plt.tight_layout()\n",
        "    plt.show()\n",
        "\n",
        "def show_img(fname, figsize=None, ax=None):\n",
        "    if not ax:\n",
        "        fig,ax = plt.subplots(figsize=figsize)\n",
        "    img = mpimg.imread(fname)\n",
        "    ax.imshow(img)\n",
        "    ax.axis('off')\n",
        "    return ax\n",
        "\n",
        "def show_imgs(imspaths, figsize=(10,5), rows=1, titles=None, maintitle=None):\n",
        "    \"\"\"Plot the images in a grid\"\"\"\n",
        "    f = plt.figure(figsize=figsize)\n",
        "    if maintitle is not None: plt.suptitle(maintitle, fontsize=10)\n",
        "    for i in range(len(imspaths)):\n",
        "        sp = f.add_subplot(rows, ceildiv(len(imspaths), rows), i+1)\n",
        "        sp.axis('Off')\n",
        "        if titles is not None: sp.set_title(titles[i], fontsize=16)\n",
        "        img = plt.imread(imspaths[i])\n",
        "        plt.imshow(img)"
      ],
      "execution_count": 0,
      "outputs": []
    },
    {
      "metadata": {
        "id": "5ZN-d4HWTxfV",
        "colab_type": "text"
      },
      "cell_type": "markdown",
      "source": [
        "Create an index on the predicted images then lookup for images with neighrest vector representation to the representation of an example word"
      ]
    },
    {
      "metadata": {
        "id": "1r7uQMivUJZh",
        "colab_type": "code",
        "colab": {}
      },
      "cell_type": "code",
      "source": [
        "wvs_index = create_index(y_hat) # nearest neighborhood on imageword2vec wvs"
      ],
      "execution_count": 0,
      "outputs": []
    },
    {
      "metadata": {
        "id": "jyRsPwgDZPVk",
        "colab_type": "code",
        "colab": {}
      },
      "cell_type": "code",
      "source": [
        "word = 'boat'\n",
        "wv = en_vecs.get_word_vector(word) # word2vec[word]"
      ],
      "execution_count": 0,
      "outputs": []
    },
    {
      "metadata": {
        "id": "KzQnzYzEUN1a",
        "colab_type": "code",
        "colab": {}
      },
      "cell_type": "code",
      "source": [
        "idxs, dists = get_knn(wvs_index, wv)"
      ],
      "execution_count": 0,
      "outputs": []
    },
    {
      "metadata": {
        "id": "RkPuHqMkUk-b",
        "colab_type": "code",
        "outputId": "ea8a318f-67ee-4855-8878-23da9c439341",
        "colab": {
          "base_uri": "https://localhost:8080/",
          "height": 68
        }
      },
      "cell_type": "code",
      "source": [
        "imgs = [[fnames[id] for id in ids[:3]] for ids in [idxs]]; imgs"
      ],
      "execution_count": 50,
      "outputs": [
        {
          "output_type": "execute_result",
          "data": {
            "text/plain": [
              "[['tiny-imagenet-200/train/n01742172/images/n01742172_32.JPEG',\n",
              "  'tiny-imagenet-200/train/n02999410/images/n02999410_286.JPEG',\n",
              "  'tiny-imagenet-200/train/n03804744/images/n03804744_261.JPEG']]"
            ]
          },
          "metadata": {
            "tags": []
          },
          "execution_count": 50
        }
      ]
    },
    {
      "metadata": {
        "id": "g7MMn9E7UtFw",
        "colab_type": "code",
        "outputId": "32fae156-c393-4207-94ff-8ab122d97ae6",
        "colab": {
          "base_uri": "https://localhost:8080/",
          "height": 302
        }
      },
      "cell_type": "code",
      "source": [
        "show_imgs(imgs[0], rows=1, maintitle='Similar images of '+word)"
      ],
      "execution_count": 53,
      "outputs": [
        {
          "output_type": "display_data",
          "data": {
            "image/png": "[encoded data removed]",
            "text/plain": [
              "<Figure size 720x360 with 3 Axes>"
            ]
          },
          "metadata": {
            "tags": []
          }
        }
      ]
    },
    {
      "metadata": {
        "id": "pdFllnHeUvL6",
        "colab_type": "code",
        "outputId": "696624e7-bae2-4fed-f0c3-e011e8a2b9a2",
        "colab": {
          "base_uri": "https://localhost:8080/",
          "height": 215
        }
      },
      "cell_type": "code",
      "source": [
        "word = 'car'\n",
        "wv = en_vecs.get_word_vector(word) # word2vec[word]\n",
        "idxs, dists = get_knn(wvs_index, wv)\n",
        "imgs = [[fnames[id] for id in ids[:3]] for ids in [idxs]]\n",
        "show_imgs(imgs[0], rows=1)"
      ],
      "execution_count": 56,
      "outputs": [
        {
          "output_type": "display_data",
          "data": {
            "image/png": "[encoded data removed]",
            "text/plain": [
              "<Figure size 720x360 with 3 Axes>"
            ]
          },
          "metadata": {
            "tags": []
          }
        }
      ]
    },
    {
      "metadata": {
        "id": "e98B3G-pXoAo",
        "colab_type": "code",
        "outputId": "2799bdf5-4547-48ce-8171-9b5a18f29883",
        "colab": {
          "base_uri": "https://localhost:8080/",
          "height": 215
        }
      },
      "cell_type": "code",
      "source": [
        "word = 'engine'\n",
        "wv = en_vecs.get_word_vector(word) # word2vec[word]\n",
        "idxs, dists = get_knn(wvs_index, wv)\n",
        "imgs = [[fnames[id] for id in ids[:3]] for ids in [idxs]]\n",
        "show_imgs(imgs[0], rows=1)"
      ],
      "execution_count": 57,
      "outputs": [
        {
          "output_type": "display_data",
          "data": {
            "image/png": "[encoded data removed]",
            "text/plain": [
              "<Figure size 720x360 with 3 Axes>"
            ]
          },
          "metadata": {
            "tags": []
          }
        }
      ]
    },
    {
      "metadata": {
        "id": "8qta3u0FXfhV",
        "colab_type": "text"
      },
      "cell_type": "markdown",
      "source": [
        "search for something between a boat and an engine"
      ]
    },
    {
      "metadata": {
        "id": "jRtY5VlEWj1f",
        "colab_type": "code",
        "colab": {}
      },
      "cell_type": "code",
      "source": [
        "#vec = (np.array(word2vec['engine']) + np.array(word2vec['boat'])) / 2\n",
        "vec = (np.array(en_vecs.get_word_vector('engine')) + np.array(en_vecs.get_word_vector('boat'))) / 2"
      ],
      "execution_count": 0,
      "outputs": []
    },
    {
      "metadata": {
        "id": "E5LQf5GCYqjC",
        "colab_type": "code",
        "outputId": "5c6a883a-b023-47c1-a11c-2bed6d4f8ad2",
        "colab": {
          "base_uri": "https://localhost:8080/",
          "height": 215
        }
      },
      "cell_type": "code",
      "source": [
        "idxs, dists = get_knn(wvs_index, vec.tolist())\n",
        "imgs = [[fnames[id] for id in ids[:3]] for ids in [idxs]]\n",
        "show_imgs(imgs[0], rows=1)"
      ],
      "execution_count": 60,
      "outputs": [
        {
          "output_type": "display_data",
          "data": {
            "image/png": "[encoded data removed]",
            "text/plain": [
              "<Figure size 720x360 with 3 Axes>"
            ]
          },
          "metadata": {
            "tags": []
          }
        }
      ]
    },
    {
      "metadata": {
        "id": "ALVuSfRzaJkT",
        "colab_type": "text"
      },
      "cell_type": "markdown",
      "source": [
        "### Search: Image to Image"
      ]
    },
    {
      "metadata": {
        "id": "kmv3eaLFWm5H",
        "colab_type": "code",
        "outputId": "cb958cfc-94f1-4385-8a97-97f0b6d793ed",
        "colab": {
          "base_uri": "https://localhost:8080/",
          "height": 285
        }
      },
      "cell_type": "code",
      "source": [
        "fname = imagenet_path/'test/images/test_104.JPEG'\n",
        "show_img(fname)"
      ],
      "execution_count": 72,
      "outputs": [
        {
          "output_type": "execute_result",
          "data": {
            "text/plain": [
              "<matplotlib.axes._subplots.AxesSubplot at 0x7f592297b668>"
            ]
          },
          "metadata": {
            "tags": []
          },
          "execution_count": 72
        },
        {
          "output_type": "display_data",
          "data": {
            "image/png": "[encoded data removed]",
            "text/plain": [
              "<Figure size 432x288 with 1 Axes>"
            ]
          },
          "metadata": {
            "tags": []
          }
        }
      ]
    },
    {
      "metadata": {
        "id": "GiAXuW52Xzs9",
        "colab_type": "code",
        "colab": {}
      },
      "cell_type": "code",
      "source": [
        "img = preprocessing.image.load_img(fname, target_size=image_size)\n",
        "img_data = preprocessing.image.img_to_array(img)\n",
        "vec = model.predict(img_data[None])"
      ],
      "execution_count": 0,
      "outputs": []
    },
    {
      "metadata": {
        "id": "d3vgVY0YYcy7",
        "colab_type": "code",
        "outputId": "f4e36aeb-657b-4b60-e591-1ca519a71c3e",
        "colab": {
          "base_uri": "https://localhost:8080/",
          "height": 215
        }
      },
      "cell_type": "code",
      "source": [
        "idxs, dists = get_knn(wvs_index, vec)\n",
        "imgs = [[fnames[id] for id in ids[:3]] for ids in [idxs]]\n",
        "show_imgs(imgs[0], rows=1)"
      ],
      "execution_count": 73,
      "outputs": [
        {
          "output_type": "display_data",
          "data": {
            "image/png": "[encoded data removed]",
            "text/plain": [
              "<Figure size 720x360 with 3 Axes>"
            ]
          },
          "metadata": {
            "tags": []
          }
        }
      ]
    },
    {
      "metadata": {
        "id": "cKFLwbBjbfOg",
        "colab_type": "text"
      },
      "cell_type": "markdown",
      "source": [
        "Oh finally something meaningful, images with car and beaches!"
      ]
    },
    {
      "metadata": {
        "id": "tmAm--tLbcuW",
        "colab_type": "code",
        "colab": {}
      },
      "cell_type": "code",
      "source": [
        ""
      ],
      "execution_count": 0,
      "outputs": []
    }
  ]
}